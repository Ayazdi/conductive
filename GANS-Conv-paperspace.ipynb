{
 "cells": [
  {
   "cell_type": "code",
   "execution_count": 1,
   "metadata": {},
   "outputs": [],
   "source": [
    "from tensorflow.keras.models import Sequential\n",
    "from tensorflow.keras.layers import Conv2D, LeakyReLU, ReLU, Flatten, Dropout, Dense, Reshape, Conv2DTranspose, BatchNormalization\n",
    "from tensorflow.keras.optimizers import Adam, Adadelta\n",
    "from tensorflow.keras.layers import Input, Embedding, Concatenate\n",
    "from tensorflow.keras.models import Model\n",
    "from tensorflow.keras.losses import MeanSquaredError\n",
    "from tensorflow.keras.metrics import Mean\n",
    "import tensorflow as tf\n",
    "# from tensorflow import InteractiveSession\n",
    "from tensorflow.keras.models import load_model\n",
    "\n",
    "import matplotlib.pyplot as plt\n",
    "from matplotlib import cm\n",
    "from matplotlib.pyplot import figure, imshow, axis\n",
    "from matplotlib.offsetbox import OffsetImage, AnnotationBbox\n",
    "from matplotlib.backends.backend_agg import FigureCanvasAgg as FigureCanvas\n",
    "\n",
    "from sklearn.preprocessing import MinMaxScaler\n",
    "from sklearn.manifold import TSNE\n",
    "\n",
    "import pandas as pd\n",
    "import numpy as np\n",
    "import os\n",
    "from PIL import Image\n",
    "import glob\n",
    "from os import listdir\n",
    "from os.path import isfile, join"
   ]
  },
  {
   "cell_type": "code",
   "execution_count": 2,
   "metadata": {},
   "outputs": [
    {
     "name": "stdout",
     "output_type": "stream",
     "text": [
      "Populating the interactive namespace from numpy and matplotlib\n"
     ]
    }
   ],
   "source": [
    "%pylab inline"
   ]
  },
  {
   "cell_type": "code",
   "execution_count": 3,
   "metadata": {},
   "outputs": [
    {
     "data": {
      "text/html": [
       "<div>\n",
       "<style scoped>\n",
       "    .dataframe tbody tr th:only-of-type {\n",
       "        vertical-align: middle;\n",
       "    }\n",
       "\n",
       "    .dataframe tbody tr th {\n",
       "        vertical-align: top;\n",
       "    }\n",
       "\n",
       "    .dataframe thead th {\n",
       "        text-align: right;\n",
       "    }\n",
       "</style>\n",
       "<table border=\"1\" class=\"dataframe\">\n",
       "  <thead>\n",
       "    <tr style=\"text-align: right;\">\n",
       "      <th></th>\n",
       "      <th>FLOWFACTOR</th>\n",
       "      <th>SPACING</th>\n",
       "      <th>DEP TIME</th>\n",
       "      <th>TOOL</th>\n",
       "      <th>SITE_0</th>\n",
       "      <th>SITE_1</th>\n",
       "      <th>SITE_2</th>\n",
       "      <th>SITE_3</th>\n",
       "      <th>SITE_4</th>\n",
       "      <th>SITE_5</th>\n",
       "      <th>...</th>\n",
       "      <th>SITE_39</th>\n",
       "      <th>SITE_40</th>\n",
       "      <th>SITE_41</th>\n",
       "      <th>SITE_42</th>\n",
       "      <th>SITE_43</th>\n",
       "      <th>SITE_44</th>\n",
       "      <th>SITE_45</th>\n",
       "      <th>SITE_46</th>\n",
       "      <th>SITE_47</th>\n",
       "      <th>SITE_48</th>\n",
       "    </tr>\n",
       "  </thead>\n",
       "  <tbody>\n",
       "    <tr>\n",
       "      <th>0</th>\n",
       "      <td>0.916</td>\n",
       "      <td>0.344</td>\n",
       "      <td>69.289</td>\n",
       "      <td>1</td>\n",
       "      <td>1601.802686</td>\n",
       "      <td>1556.668725</td>\n",
       "      <td>1597.900238</td>\n",
       "      <td>1599.790647</td>\n",
       "      <td>1601.083756</td>\n",
       "      <td>1601.116007</td>\n",
       "      <td>...</td>\n",
       "      <td>1593.296029</td>\n",
       "      <td>1592.948758</td>\n",
       "      <td>1592.601486</td>\n",
       "      <td>1592.254216</td>\n",
       "      <td>1591.906946</td>\n",
       "      <td>1591.559675</td>\n",
       "      <td>1591.212405</td>\n",
       "      <td>1590.865134</td>\n",
       "      <td>1590.517862</td>\n",
       "      <td>1590.170593</td>\n",
       "    </tr>\n",
       "    <tr>\n",
       "      <th>1</th>\n",
       "      <td>0.916</td>\n",
       "      <td>0.344</td>\n",
       "      <td>69.289</td>\n",
       "      <td>2</td>\n",
       "      <td>1516.411140</td>\n",
       "      <td>1495.080373</td>\n",
       "      <td>1516.482818</td>\n",
       "      <td>1516.366352</td>\n",
       "      <td>1516.918855</td>\n",
       "      <td>1514.835611</td>\n",
       "      <td>...</td>\n",
       "      <td>1481.353478</td>\n",
       "      <td>1481.157584</td>\n",
       "      <td>1480.961690</td>\n",
       "      <td>1480.765797</td>\n",
       "      <td>1480.906328</td>\n",
       "      <td>1481.052943</td>\n",
       "      <td>1480.847698</td>\n",
       "      <td>1480.888354</td>\n",
       "      <td>1481.306459</td>\n",
       "      <td>1481.724561</td>\n",
       "    </tr>\n",
       "    <tr>\n",
       "      <th>2</th>\n",
       "      <td>0.916</td>\n",
       "      <td>0.344</td>\n",
       "      <td>69.289</td>\n",
       "      <td>3</td>\n",
       "      <td>1478.098433</td>\n",
       "      <td>1457.372553</td>\n",
       "      <td>1483.945610</td>\n",
       "      <td>1481.342541</td>\n",
       "      <td>1475.516841</td>\n",
       "      <td>1472.935249</td>\n",
       "      <td>...</td>\n",
       "      <td>1491.287428</td>\n",
       "      <td>1490.630367</td>\n",
       "      <td>1489.973305</td>\n",
       "      <td>1489.130805</td>\n",
       "      <td>1487.315196</td>\n",
       "      <td>1485.659583</td>\n",
       "      <td>1484.266940</td>\n",
       "      <td>1482.874286</td>\n",
       "      <td>1481.481632</td>\n",
       "      <td>1480.088988</td>\n",
       "    </tr>\n",
       "    <tr>\n",
       "      <th>3</th>\n",
       "      <td>0.916</td>\n",
       "      <td>0.344</td>\n",
       "      <td>69.289</td>\n",
       "      <td>4</td>\n",
       "      <td>1550.290615</td>\n",
       "      <td>1529.621080</td>\n",
       "      <td>1548.352252</td>\n",
       "      <td>1549.929704</td>\n",
       "      <td>1549.697136</td>\n",
       "      <td>1549.235110</td>\n",
       "      <td>...</td>\n",
       "      <td>1508.932376</td>\n",
       "      <td>1508.732902</td>\n",
       "      <td>1508.347436</td>\n",
       "      <td>1508.052235</td>\n",
       "      <td>1508.214925</td>\n",
       "      <td>1508.596579</td>\n",
       "      <td>1509.101775</td>\n",
       "      <td>1509.606975</td>\n",
       "      <td>1510.373006</td>\n",
       "      <td>1511.108004</td>\n",
       "    </tr>\n",
       "    <tr>\n",
       "      <th>4</th>\n",
       "      <td>0.957</td>\n",
       "      <td>0.348</td>\n",
       "      <td>70.253</td>\n",
       "      <td>1</td>\n",
       "      <td>1544.883218</td>\n",
       "      <td>1495.156181</td>\n",
       "      <td>1549.023309</td>\n",
       "      <td>1547.829132</td>\n",
       "      <td>1544.253208</td>\n",
       "      <td>1543.623198</td>\n",
       "      <td>...</td>\n",
       "      <td>1569.233533</td>\n",
       "      <td>1569.257056</td>\n",
       "      <td>1569.280579</td>\n",
       "      <td>1569.252501</td>\n",
       "      <td>1568.966865</td>\n",
       "      <td>1568.681228</td>\n",
       "      <td>1568.395593</td>\n",
       "      <td>1567.875699</td>\n",
       "      <td>1567.033903</td>\n",
       "      <td>1565.635512</td>\n",
       "    </tr>\n",
       "    <tr>\n",
       "      <th>...</th>\n",
       "      <td>...</td>\n",
       "      <td>...</td>\n",
       "      <td>...</td>\n",
       "      <td>...</td>\n",
       "      <td>...</td>\n",
       "      <td>...</td>\n",
       "      <td>...</td>\n",
       "      <td>...</td>\n",
       "      <td>...</td>\n",
       "      <td>...</td>\n",
       "      <td>...</td>\n",
       "      <td>...</td>\n",
       "      <td>...</td>\n",
       "      <td>...</td>\n",
       "      <td>...</td>\n",
       "      <td>...</td>\n",
       "      <td>...</td>\n",
       "      <td>...</td>\n",
       "      <td>...</td>\n",
       "      <td>...</td>\n",
       "      <td>...</td>\n",
       "    </tr>\n",
       "    <tr>\n",
       "      <th>495</th>\n",
       "      <td>0.910</td>\n",
       "      <td>0.348</td>\n",
       "      <td>71.494</td>\n",
       "      <td>4</td>\n",
       "      <td>1579.678027</td>\n",
       "      <td>1554.131399</td>\n",
       "      <td>1582.133349</td>\n",
       "      <td>1581.752614</td>\n",
       "      <td>1578.538616</td>\n",
       "      <td>1576.167197</td>\n",
       "      <td>...</td>\n",
       "      <td>1591.884877</td>\n",
       "      <td>1593.910444</td>\n",
       "      <td>1595.920244</td>\n",
       "      <td>1597.930029</td>\n",
       "      <td>1599.939823</td>\n",
       "      <td>1601.064937</td>\n",
       "      <td>1602.044671</td>\n",
       "      <td>1602.274183</td>\n",
       "      <td>1602.330867</td>\n",
       "      <td>1602.387550</td>\n",
       "    </tr>\n",
       "    <tr>\n",
       "      <th>496</th>\n",
       "      <td>0.923</td>\n",
       "      <td>0.355</td>\n",
       "      <td>67.191</td>\n",
       "      <td>1</td>\n",
       "      <td>1506.290611</td>\n",
       "      <td>1444.277495</td>\n",
       "      <td>1505.734563</td>\n",
       "      <td>1505.713624</td>\n",
       "      <td>1506.867599</td>\n",
       "      <td>1507.444587</td>\n",
       "      <td>...</td>\n",
       "      <td>1485.450492</td>\n",
       "      <td>1484.933765</td>\n",
       "      <td>1484.315053</td>\n",
       "      <td>1483.920045</td>\n",
       "      <td>1483.788719</td>\n",
       "      <td>1483.811746</td>\n",
       "      <td>1484.540330</td>\n",
       "      <td>1485.410265</td>\n",
       "      <td>1486.280199</td>\n",
       "      <td>1487.150128</td>\n",
       "    </tr>\n",
       "    <tr>\n",
       "      <th>497</th>\n",
       "      <td>0.923</td>\n",
       "      <td>0.355</td>\n",
       "      <td>67.191</td>\n",
       "      <td>2</td>\n",
       "      <td>1433.885814</td>\n",
       "      <td>1401.300015</td>\n",
       "      <td>1441.602347</td>\n",
       "      <td>1437.744081</td>\n",
       "      <td>1430.923555</td>\n",
       "      <td>1428.490734</td>\n",
       "      <td>...</td>\n",
       "      <td>1390.019767</td>\n",
       "      <td>1389.793481</td>\n",
       "      <td>1389.567195</td>\n",
       "      <td>1389.669224</td>\n",
       "      <td>1389.903776</td>\n",
       "      <td>1390.894207</td>\n",
       "      <td>1390.904922</td>\n",
       "      <td>1391.148082</td>\n",
       "      <td>1392.018843</td>\n",
       "      <td>1392.553429</td>\n",
       "    </tr>\n",
       "    <tr>\n",
       "      <th>498</th>\n",
       "      <td>0.923</td>\n",
       "      <td>0.355</td>\n",
       "      <td>67.191</td>\n",
       "      <td>3</td>\n",
       "      <td>1385.057129</td>\n",
       "      <td>1355.168231</td>\n",
       "      <td>1387.311600</td>\n",
       "      <td>1384.319977</td>\n",
       "      <td>1384.609278</td>\n",
       "      <td>1382.555992</td>\n",
       "      <td>...</td>\n",
       "      <td>1358.969083</td>\n",
       "      <td>1357.977233</td>\n",
       "      <td>1356.985383</td>\n",
       "      <td>1355.993540</td>\n",
       "      <td>1355.001693</td>\n",
       "      <td>1354.009846</td>\n",
       "      <td>1353.018003</td>\n",
       "      <td>1352.026153</td>\n",
       "      <td>1351.034303</td>\n",
       "      <td>1350.042460</td>\n",
       "    </tr>\n",
       "    <tr>\n",
       "      <th>499</th>\n",
       "      <td>0.923</td>\n",
       "      <td>0.355</td>\n",
       "      <td>67.191</td>\n",
       "      <td>4</td>\n",
       "      <td>1418.944207</td>\n",
       "      <td>1395.905787</td>\n",
       "      <td>1417.039855</td>\n",
       "      <td>1418.314258</td>\n",
       "      <td>1418.548356</td>\n",
       "      <td>1418.190233</td>\n",
       "      <td>...</td>\n",
       "      <td>1386.946634</td>\n",
       "      <td>1387.820508</td>\n",
       "      <td>1388.694383</td>\n",
       "      <td>1389.568251</td>\n",
       "      <td>1389.731766</td>\n",
       "      <td>1389.559373</td>\n",
       "      <td>1389.297439</td>\n",
       "      <td>1388.139341</td>\n",
       "      <td>1387.565291</td>\n",
       "      <td>1386.798290</td>\n",
       "    </tr>\n",
       "  </tbody>\n",
       "</table>\n",
       "<p>500 rows × 53 columns</p>\n",
       "</div>"
      ],
      "text/plain": [
       "     FLOWFACTOR  SPACING  DEP TIME  TOOL       SITE_0       SITE_1  \\\n",
       "0         0.916    0.344    69.289     1  1601.802686  1556.668725   \n",
       "1         0.916    0.344    69.289     2  1516.411140  1495.080373   \n",
       "2         0.916    0.344    69.289     3  1478.098433  1457.372553   \n",
       "3         0.916    0.344    69.289     4  1550.290615  1529.621080   \n",
       "4         0.957    0.348    70.253     1  1544.883218  1495.156181   \n",
       "..          ...      ...       ...   ...          ...          ...   \n",
       "495       0.910    0.348    71.494     4  1579.678027  1554.131399   \n",
       "496       0.923    0.355    67.191     1  1506.290611  1444.277495   \n",
       "497       0.923    0.355    67.191     2  1433.885814  1401.300015   \n",
       "498       0.923    0.355    67.191     3  1385.057129  1355.168231   \n",
       "499       0.923    0.355    67.191     4  1418.944207  1395.905787   \n",
       "\n",
       "          SITE_2       SITE_3       SITE_4       SITE_5  ...      SITE_39  \\\n",
       "0    1597.900238  1599.790647  1601.083756  1601.116007  ...  1593.296029   \n",
       "1    1516.482818  1516.366352  1516.918855  1514.835611  ...  1481.353478   \n",
       "2    1483.945610  1481.342541  1475.516841  1472.935249  ...  1491.287428   \n",
       "3    1548.352252  1549.929704  1549.697136  1549.235110  ...  1508.932376   \n",
       "4    1549.023309  1547.829132  1544.253208  1543.623198  ...  1569.233533   \n",
       "..           ...          ...          ...          ...  ...          ...   \n",
       "495  1582.133349  1581.752614  1578.538616  1576.167197  ...  1591.884877   \n",
       "496  1505.734563  1505.713624  1506.867599  1507.444587  ...  1485.450492   \n",
       "497  1441.602347  1437.744081  1430.923555  1428.490734  ...  1390.019767   \n",
       "498  1387.311600  1384.319977  1384.609278  1382.555992  ...  1358.969083   \n",
       "499  1417.039855  1418.314258  1418.548356  1418.190233  ...  1386.946634   \n",
       "\n",
       "         SITE_40      SITE_41      SITE_42      SITE_43      SITE_44  \\\n",
       "0    1592.948758  1592.601486  1592.254216  1591.906946  1591.559675   \n",
       "1    1481.157584  1480.961690  1480.765797  1480.906328  1481.052943   \n",
       "2    1490.630367  1489.973305  1489.130805  1487.315196  1485.659583   \n",
       "3    1508.732902  1508.347436  1508.052235  1508.214925  1508.596579   \n",
       "4    1569.257056  1569.280579  1569.252501  1568.966865  1568.681228   \n",
       "..           ...          ...          ...          ...          ...   \n",
       "495  1593.910444  1595.920244  1597.930029  1599.939823  1601.064937   \n",
       "496  1484.933765  1484.315053  1483.920045  1483.788719  1483.811746   \n",
       "497  1389.793481  1389.567195  1389.669224  1389.903776  1390.894207   \n",
       "498  1357.977233  1356.985383  1355.993540  1355.001693  1354.009846   \n",
       "499  1387.820508  1388.694383  1389.568251  1389.731766  1389.559373   \n",
       "\n",
       "         SITE_45      SITE_46      SITE_47      SITE_48  \n",
       "0    1591.212405  1590.865134  1590.517862  1590.170593  \n",
       "1    1480.847698  1480.888354  1481.306459  1481.724561  \n",
       "2    1484.266940  1482.874286  1481.481632  1480.088988  \n",
       "3    1509.101775  1509.606975  1510.373006  1511.108004  \n",
       "4    1568.395593  1567.875699  1567.033903  1565.635512  \n",
       "..           ...          ...          ...          ...  \n",
       "495  1602.044671  1602.274183  1602.330867  1602.387550  \n",
       "496  1484.540330  1485.410265  1486.280199  1487.150128  \n",
       "497  1390.904922  1391.148082  1392.018843  1392.553429  \n",
       "498  1353.018003  1352.026153  1351.034303  1350.042460  \n",
       "499  1389.297439  1388.139341  1387.565291  1386.798290  \n",
       "\n",
       "[500 rows x 53 columns]"
      ]
     },
     "execution_count": 3,
     "metadata": {},
     "output_type": "execute_result"
    }
   ],
   "source": [
    "df = pd.read_csv('test_assignment_sim.csv')\n",
    "df"
   ]
  },
  {
   "cell_type": "code",
   "execution_count": 4,
   "metadata": {},
   "outputs": [],
   "source": [
    "all_sites = ['SITE_0', 'SITE_1',\n",
    "       'SITE_2', 'SITE_3', 'SITE_4', 'SITE_5', 'SITE_6', 'SITE_7', 'SITE_8',\n",
    "       'SITE_9', 'SITE_10', 'SITE_11', 'SITE_12', 'SITE_13', 'SITE_14',\n",
    "       'SITE_15', 'SITE_16', 'SITE_17', 'SITE_18', 'SITE_19', 'SITE_20',\n",
    "       'SITE_21', 'SITE_22', 'SITE_23', 'SITE_24', 'SITE_25', 'SITE_26',\n",
    "       'SITE_27', 'SITE_28', 'SITE_29', 'SITE_30', 'SITE_31', 'SITE_32',\n",
    "       'SITE_33', 'SITE_34', 'SITE_35', 'SITE_36', 'SITE_37', 'SITE_38',\n",
    "       'SITE_39', 'SITE_40', 'SITE_41', 'SITE_42', 'SITE_43', 'SITE_44',\n",
    "       'SITE_45', 'SITE_46', 'SITE_47', 'SITE_48']"
   ]
  },
  {
   "cell_type": "markdown",
   "metadata": {},
   "source": [
    "Transforming feature columns to labels for GAN:"
   ]
  },
  {
   "cell_type": "code",
   "execution_count": 5,
   "metadata": {},
   "outputs": [],
   "source": [
    "Y_COLUMNS = ['FLOWFACTOR', 'SPACING', 'DEP TIME']\n",
    "scaler_y = MinMaxScaler()\n",
    "\n",
    "y = df[Y_COLUMNS]\n",
    "y_scaled = scaler_y.fit_transform(y)\n",
    "\n",
    "tsne=TSNE()\n",
    "y_tsne = tsne.fit_transform(y_scaled)"
   ]
  },
  {
   "cell_type": "code",
   "execution_count": 6,
   "metadata": {},
   "outputs": [
    {
     "name": "stdout",
     "output_type": "stream",
     "text": [
      "FLOWFACTOR\n"
     ]
    },
    {
     "data": {
      "image/png": "[encoded data removed]",
      "text/plain": [
       "<Figure size 504x216 with 2 Axes>"
      ]
     },
     "metadata": {
      "needs_background": "light"
     },
     "output_type": "display_data"
    },
    {
     "name": "stdout",
     "output_type": "stream",
     "text": [
      "SPACING\n"
     ]
    },
    {
     "data": {
      "image/png": "[encoded data removed]",
      "text/plain": [
       "<Figure size 504x216 with 2 Axes>"
      ]
     },
     "metadata": {
      "needs_background": "light"
     },
     "output_type": "display_data"
    },
    {
     "name": "stdout",
     "output_type": "stream",
     "text": [
      "DEP TIME\n"
     ]
    },
    {
     "data": {
      "image/png": "[encoded data removed]",
      "text/plain": [
       "<Figure size 504x216 with 2 Axes>"
      ]
     },
     "metadata": {
      "needs_background": "light"
     },
     "output_type": "display_data"
    }
   ],
   "source": [
    "#number of bins per each extrinsic properties\n",
    "BINS=6\n",
    "\n",
    "for Y_column in Y_COLUMNS:\n",
    "    print(Y_column)\n",
    "    fig, axs= plt.subplots(1,2, figsize=(7,3))\n",
    "    im=axs[0].scatter(y_tsne[:,0], y_tsne[:,1], c= df[Y_column]);\n",
    "    h=axs[1].hist(df[Y_column], bins=BINS)\n",
    "    plt.show()\n",
    "\n",
    "binning_labels_dict={}\n",
    "binning_labels_dict['TOOL_binning'] = df['TOOL'].values\n",
    "\n",
    "Y_COLUMNS_BINNING=['TOOL_binning']\n",
    "for Y_column in Y_COLUMNS:\n",
    "    cnt, bins = np.histogram(df[Y_column], bins=BINS)\n",
    "    bins[0] -= 1\n",
    "    col_name = Y_column + \"_binning\"\n",
    "    binning_labels_dict[col_name] = np.searchsorted(bins, df[Y_column].values)\n",
    "    Y_COLUMNS_BINNING.append(col_name)\n",
    "    "
   ]
  },
  {
   "cell_type": "code",
   "execution_count": 7,
   "metadata": {},
   "outputs": [],
   "source": [
    "binning_df = pd.DataFrame(binning_labels_dict)#.groupby(col_name).count()\n",
    "binning_df[\"T\"] = 1\n",
    "count_bins_df = binning_df.groupby(Y_COLUMNS_BINNING).count()\n",
    "max_count = count_bins_df[\"T\"].max()\n",
    "\n",
    "df = pd.concat((df,binning_df),axis=1)\n",
    "df = df.drop(\"T\",axis=1)\n",
    "count_bins_df = count_bins_df.reset_index()\n",
    "df = pd.merge(df,count_bins_df,on=Y_COLUMNS_BINNING)\n",
    "df[\"weight\"] = max_count/df[\"T\"]"
   ]
  },
  {
   "cell_type": "code",
   "execution_count": 8,
   "metadata": {},
   "outputs": [],
   "source": [
    "df = pd.get_dummies(df, columns=['TOOL'] )"
   ]
  },
  {
   "cell_type": "code",
   "execution_count": 9,
   "metadata": {},
   "outputs": [
    {
     "data": {
      "text/html": [
       "<div>\n",
       "<style scoped>\n",
       "    .dataframe tbody tr th:only-of-type {\n",
       "        vertical-align: middle;\n",
       "    }\n",
       "\n",
       "    .dataframe tbody tr th {\n",
       "        vertical-align: top;\n",
       "    }\n",
       "\n",
       "    .dataframe thead th {\n",
       "        text-align: right;\n",
       "    }\n",
       "</style>\n",
       "<table border=\"1\" class=\"dataframe\">\n",
       "  <thead>\n",
       "    <tr style=\"text-align: right;\">\n",
       "      <th></th>\n",
       "      <th>FLOWFACTOR</th>\n",
       "      <th>SPACING</th>\n",
       "      <th>DEP TIME</th>\n",
       "      <th>SITE_0</th>\n",
       "      <th>SITE_1</th>\n",
       "      <th>SITE_2</th>\n",
       "      <th>SITE_3</th>\n",
       "      <th>SITE_4</th>\n",
       "      <th>SITE_5</th>\n",
       "      <th>SITE_6</th>\n",
       "      <th>...</th>\n",
       "      <th>TOOL_binning</th>\n",
       "      <th>FLOWFACTOR_binning</th>\n",
       "      <th>SPACING_binning</th>\n",
       "      <th>DEP TIME_binning</th>\n",
       "      <th>T</th>\n",
       "      <th>weight</th>\n",
       "      <th>TOOL_1</th>\n",
       "      <th>TOOL_2</th>\n",
       "      <th>TOOL_3</th>\n",
       "      <th>TOOL_4</th>\n",
       "    </tr>\n",
       "  </thead>\n",
       "  <tbody>\n",
       "    <tr>\n",
       "      <th>0</th>\n",
       "      <td>0.916</td>\n",
       "      <td>0.344</td>\n",
       "      <td>69.289</td>\n",
       "      <td>1601.802686</td>\n",
       "      <td>1556.668725</td>\n",
       "      <td>1597.900238</td>\n",
       "      <td>1599.790647</td>\n",
       "      <td>1601.083756</td>\n",
       "      <td>1601.116007</td>\n",
       "      <td>1592.004563</td>\n",
       "      <td>...</td>\n",
       "      <td>1</td>\n",
       "      <td>2</td>\n",
       "      <td>3</td>\n",
       "      <td>2</td>\n",
       "      <td>2</td>\n",
       "      <td>3.0</td>\n",
       "      <td>1</td>\n",
       "      <td>0</td>\n",
       "      <td>0</td>\n",
       "      <td>0</td>\n",
       "    </tr>\n",
       "    <tr>\n",
       "      <th>1</th>\n",
       "      <td>0.916</td>\n",
       "      <td>0.348</td>\n",
       "      <td>69.402</td>\n",
       "      <td>1586.827374</td>\n",
       "      <td>1536.578580</td>\n",
       "      <td>1587.316760</td>\n",
       "      <td>1587.107206</td>\n",
       "      <td>1587.430629</td>\n",
       "      <td>1590.104267</td>\n",
       "      <td>1587.945422</td>\n",
       "      <td>...</td>\n",
       "      <td>1</td>\n",
       "      <td>2</td>\n",
       "      <td>3</td>\n",
       "      <td>2</td>\n",
       "      <td>2</td>\n",
       "      <td>3.0</td>\n",
       "      <td>1</td>\n",
       "      <td>0</td>\n",
       "      <td>0</td>\n",
       "      <td>0</td>\n",
       "    </tr>\n",
       "    <tr>\n",
       "      <th>2</th>\n",
       "      <td>0.916</td>\n",
       "      <td>0.344</td>\n",
       "      <td>69.289</td>\n",
       "      <td>1516.411140</td>\n",
       "      <td>1495.080373</td>\n",
       "      <td>1516.482818</td>\n",
       "      <td>1516.366352</td>\n",
       "      <td>1516.918855</td>\n",
       "      <td>1514.835611</td>\n",
       "      <td>1503.485462</td>\n",
       "      <td>...</td>\n",
       "      <td>2</td>\n",
       "      <td>2</td>\n",
       "      <td>3</td>\n",
       "      <td>2</td>\n",
       "      <td>2</td>\n",
       "      <td>3.0</td>\n",
       "      <td>0</td>\n",
       "      <td>1</td>\n",
       "      <td>0</td>\n",
       "      <td>0</td>\n",
       "    </tr>\n",
       "    <tr>\n",
       "      <th>3</th>\n",
       "      <td>0.916</td>\n",
       "      <td>0.348</td>\n",
       "      <td>69.402</td>\n",
       "      <td>1522.882735</td>\n",
       "      <td>1486.027159</td>\n",
       "      <td>1519.176109</td>\n",
       "      <td>1521.633342</td>\n",
       "      <td>1524.163318</td>\n",
       "      <td>1521.685239</td>\n",
       "      <td>1515.835756</td>\n",
       "      <td>...</td>\n",
       "      <td>2</td>\n",
       "      <td>2</td>\n",
       "      <td>3</td>\n",
       "      <td>2</td>\n",
       "      <td>2</td>\n",
       "      <td>3.0</td>\n",
       "      <td>0</td>\n",
       "      <td>1</td>\n",
       "      <td>0</td>\n",
       "      <td>0</td>\n",
       "    </tr>\n",
       "    <tr>\n",
       "      <th>4</th>\n",
       "      <td>0.916</td>\n",
       "      <td>0.344</td>\n",
       "      <td>69.289</td>\n",
       "      <td>1478.098433</td>\n",
       "      <td>1457.372553</td>\n",
       "      <td>1483.945610</td>\n",
       "      <td>1481.342541</td>\n",
       "      <td>1475.516841</td>\n",
       "      <td>1472.935249</td>\n",
       "      <td>1490.164818</td>\n",
       "      <td>...</td>\n",
       "      <td>3</td>\n",
       "      <td>2</td>\n",
       "      <td>3</td>\n",
       "      <td>2</td>\n",
       "      <td>2</td>\n",
       "      <td>3.0</td>\n",
       "      <td>0</td>\n",
       "      <td>0</td>\n",
       "      <td>1</td>\n",
       "      <td>0</td>\n",
       "    </tr>\n",
       "    <tr>\n",
       "      <th>...</th>\n",
       "      <td>...</td>\n",
       "      <td>...</td>\n",
       "      <td>...</td>\n",
       "      <td>...</td>\n",
       "      <td>...</td>\n",
       "      <td>...</td>\n",
       "      <td>...</td>\n",
       "      <td>...</td>\n",
       "      <td>...</td>\n",
       "      <td>...</td>\n",
       "      <td>...</td>\n",
       "      <td>...</td>\n",
       "      <td>...</td>\n",
       "      <td>...</td>\n",
       "      <td>...</td>\n",
       "      <td>...</td>\n",
       "      <td>...</td>\n",
       "      <td>...</td>\n",
       "      <td>...</td>\n",
       "      <td>...</td>\n",
       "      <td>...</td>\n",
       "    </tr>\n",
       "    <tr>\n",
       "      <th>495</th>\n",
       "      <td>0.953</td>\n",
       "      <td>0.352</td>\n",
       "      <td>73.086</td>\n",
       "      <td>1514.031349</td>\n",
       "      <td>1498.937449</td>\n",
       "      <td>1517.687851</td>\n",
       "      <td>1515.859600</td>\n",
       "      <td>1514.550610</td>\n",
       "      <td>1518.317762</td>\n",
       "      <td>1519.560080</td>\n",
       "      <td>...</td>\n",
       "      <td>4</td>\n",
       "      <td>4</td>\n",
       "      <td>4</td>\n",
       "      <td>5</td>\n",
       "      <td>1</td>\n",
       "      <td>6.0</td>\n",
       "      <td>0</td>\n",
       "      <td>0</td>\n",
       "      <td>0</td>\n",
       "      <td>1</td>\n",
       "    </tr>\n",
       "    <tr>\n",
       "      <th>496</th>\n",
       "      <td>0.923</td>\n",
       "      <td>0.355</td>\n",
       "      <td>67.191</td>\n",
       "      <td>1506.290611</td>\n",
       "      <td>1444.277495</td>\n",
       "      <td>1505.734563</td>\n",
       "      <td>1505.713624</td>\n",
       "      <td>1506.867599</td>\n",
       "      <td>1507.444587</td>\n",
       "      <td>1507.236026</td>\n",
       "      <td>...</td>\n",
       "      <td>1</td>\n",
       "      <td>2</td>\n",
       "      <td>5</td>\n",
       "      <td>1</td>\n",
       "      <td>1</td>\n",
       "      <td>6.0</td>\n",
       "      <td>1</td>\n",
       "      <td>0</td>\n",
       "      <td>0</td>\n",
       "      <td>0</td>\n",
       "    </tr>\n",
       "    <tr>\n",
       "      <th>497</th>\n",
       "      <td>0.923</td>\n",
       "      <td>0.355</td>\n",
       "      <td>67.191</td>\n",
       "      <td>1433.885814</td>\n",
       "      <td>1401.300015</td>\n",
       "      <td>1441.602347</td>\n",
       "      <td>1437.744081</td>\n",
       "      <td>1430.923555</td>\n",
       "      <td>1428.490734</td>\n",
       "      <td>1442.051871</td>\n",
       "      <td>...</td>\n",
       "      <td>2</td>\n",
       "      <td>2</td>\n",
       "      <td>5</td>\n",
       "      <td>1</td>\n",
       "      <td>1</td>\n",
       "      <td>6.0</td>\n",
       "      <td>0</td>\n",
       "      <td>1</td>\n",
       "      <td>0</td>\n",
       "      <td>0</td>\n",
       "    </tr>\n",
       "    <tr>\n",
       "      <th>498</th>\n",
       "      <td>0.923</td>\n",
       "      <td>0.355</td>\n",
       "      <td>67.191</td>\n",
       "      <td>1385.057129</td>\n",
       "      <td>1355.168231</td>\n",
       "      <td>1387.311600</td>\n",
       "      <td>1384.319977</td>\n",
       "      <td>1384.609278</td>\n",
       "      <td>1382.555992</td>\n",
       "      <td>1397.128710</td>\n",
       "      <td>...</td>\n",
       "      <td>3</td>\n",
       "      <td>2</td>\n",
       "      <td>5</td>\n",
       "      <td>1</td>\n",
       "      <td>1</td>\n",
       "      <td>6.0</td>\n",
       "      <td>0</td>\n",
       "      <td>0</td>\n",
       "      <td>1</td>\n",
       "      <td>0</td>\n",
       "    </tr>\n",
       "    <tr>\n",
       "      <th>499</th>\n",
       "      <td>0.923</td>\n",
       "      <td>0.355</td>\n",
       "      <td>67.191</td>\n",
       "      <td>1418.944207</td>\n",
       "      <td>1395.905787</td>\n",
       "      <td>1417.039855</td>\n",
       "      <td>1418.314258</td>\n",
       "      <td>1418.548356</td>\n",
       "      <td>1418.190233</td>\n",
       "      <td>1422.494546</td>\n",
       "      <td>...</td>\n",
       "      <td>4</td>\n",
       "      <td>2</td>\n",
       "      <td>5</td>\n",
       "      <td>1</td>\n",
       "      <td>1</td>\n",
       "      <td>6.0</td>\n",
       "      <td>0</td>\n",
       "      <td>0</td>\n",
       "      <td>0</td>\n",
       "      <td>1</td>\n",
       "    </tr>\n",
       "  </tbody>\n",
       "</table>\n",
       "<p>500 rows × 62 columns</p>\n",
       "</div>"
      ],
      "text/plain": [
       "     FLOWFACTOR  SPACING  DEP TIME       SITE_0       SITE_1       SITE_2  \\\n",
       "0         0.916    0.344    69.289  1601.802686  1556.668725  1597.900238   \n",
       "1         0.916    0.348    69.402  1586.827374  1536.578580  1587.316760   \n",
       "2         0.916    0.344    69.289  1516.411140  1495.080373  1516.482818   \n",
       "3         0.916    0.348    69.402  1522.882735  1486.027159  1519.176109   \n",
       "4         0.916    0.344    69.289  1478.098433  1457.372553  1483.945610   \n",
       "..          ...      ...       ...          ...          ...          ...   \n",
       "495       0.953    0.352    73.086  1514.031349  1498.937449  1517.687851   \n",
       "496       0.923    0.355    67.191  1506.290611  1444.277495  1505.734563   \n",
       "497       0.923    0.355    67.191  1433.885814  1401.300015  1441.602347   \n",
       "498       0.923    0.355    67.191  1385.057129  1355.168231  1387.311600   \n",
       "499       0.923    0.355    67.191  1418.944207  1395.905787  1417.039855   \n",
       "\n",
       "          SITE_3       SITE_4       SITE_5       SITE_6  ...  TOOL_binning  \\\n",
       "0    1599.790647  1601.083756  1601.116007  1592.004563  ...             1   \n",
       "1    1587.107206  1587.430629  1590.104267  1587.945422  ...             1   \n",
       "2    1516.366352  1516.918855  1514.835611  1503.485462  ...             2   \n",
       "3    1521.633342  1524.163318  1521.685239  1515.835756  ...             2   \n",
       "4    1481.342541  1475.516841  1472.935249  1490.164818  ...             3   \n",
       "..           ...          ...          ...          ...  ...           ...   \n",
       "495  1515.859600  1514.550610  1518.317762  1519.560080  ...             4   \n",
       "496  1505.713624  1506.867599  1507.444587  1507.236026  ...             1   \n",
       "497  1437.744081  1430.923555  1428.490734  1442.051871  ...             2   \n",
       "498  1384.319977  1384.609278  1382.555992  1397.128710  ...             3   \n",
       "499  1418.314258  1418.548356  1418.190233  1422.494546  ...             4   \n",
       "\n",
       "     FLOWFACTOR_binning  SPACING_binning  DEP TIME_binning  T  weight  TOOL_1  \\\n",
       "0                     2                3                 2  2     3.0       1   \n",
       "1                     2                3                 2  2     3.0       1   \n",
       "2                     2                3                 2  2     3.0       0   \n",
       "3                     2                3                 2  2     3.0       0   \n",
       "4                     2                3                 2  2     3.0       0   \n",
       "..                  ...              ...               ... ..     ...     ...   \n",
       "495                   4                4                 5  1     6.0       0   \n",
       "496                   2                5                 1  1     6.0       1   \n",
       "497                   2                5                 1  1     6.0       0   \n",
       "498                   2                5                 1  1     6.0       0   \n",
       "499                   2                5                 1  1     6.0       0   \n",
       "\n",
       "     TOOL_2  TOOL_3  TOOL_4  \n",
       "0         0       0       0  \n",
       "1         0       0       0  \n",
       "2         1       0       0  \n",
       "3         1       0       0  \n",
       "4         0       1       0  \n",
       "..      ...     ...     ...  \n",
       "495       0       0       1  \n",
       "496       0       0       0  \n",
       "497       1       0       0  \n",
       "498       0       1       0  \n",
       "499       0       0       1  \n",
       "\n",
       "[500 rows x 62 columns]"
      ]
     },
     "execution_count": 9,
     "metadata": {},
     "output_type": "execute_result"
    }
   ],
   "source": [
    "df"
   ]
  },
  {
   "cell_type": "code",
   "execution_count": 10,
   "metadata": {},
   "outputs": [],
   "source": [
    "Y_COLUMNS = ['FLOWFACTOR', 'SPACING', 'DEP TIME', 'TOOL_1', 'TOOL_2', 'TOOL_3', 'TOOL_4']"
   ]
  },
  {
   "cell_type": "code",
   "execution_count": 11,
   "metadata": {},
   "outputs": [
    {
     "data": {
      "text/html": [
       "<div>\n",
       "<style scoped>\n",
       "    .dataframe tbody tr th:only-of-type {\n",
       "        vertical-align: middle;\n",
       "    }\n",
       "\n",
       "    .dataframe tbody tr th {\n",
       "        vertical-align: top;\n",
       "    }\n",
       "\n",
       "    .dataframe thead th {\n",
       "        text-align: right;\n",
       "    }\n",
       "</style>\n",
       "<table border=\"1\" class=\"dataframe\">\n",
       "  <thead>\n",
       "    <tr style=\"text-align: right;\">\n",
       "      <th></th>\n",
       "      <th>FLOWFACTOR</th>\n",
       "      <th>SPACING</th>\n",
       "      <th>DEP TIME</th>\n",
       "      <th>SITE_0</th>\n",
       "      <th>SITE_1</th>\n",
       "      <th>SITE_2</th>\n",
       "      <th>SITE_3</th>\n",
       "      <th>SITE_4</th>\n",
       "      <th>SITE_5</th>\n",
       "      <th>SITE_6</th>\n",
       "      <th>...</th>\n",
       "      <th>TOOL_binning</th>\n",
       "      <th>FLOWFACTOR_binning</th>\n",
       "      <th>SPACING_binning</th>\n",
       "      <th>DEP TIME_binning</th>\n",
       "      <th>T</th>\n",
       "      <th>weight</th>\n",
       "      <th>TOOL_1</th>\n",
       "      <th>TOOL_2</th>\n",
       "      <th>TOOL_3</th>\n",
       "      <th>TOOL_4</th>\n",
       "    </tr>\n",
       "  </thead>\n",
       "  <tbody>\n",
       "    <tr>\n",
       "      <th>0</th>\n",
       "      <td>0.916</td>\n",
       "      <td>0.344</td>\n",
       "      <td>69.289</td>\n",
       "      <td>1601.802686</td>\n",
       "      <td>1556.668725</td>\n",
       "      <td>1597.900238</td>\n",
       "      <td>1599.790647</td>\n",
       "      <td>1601.083756</td>\n",
       "      <td>1601.116007</td>\n",
       "      <td>1592.004563</td>\n",
       "      <td>...</td>\n",
       "      <td>1</td>\n",
       "      <td>2</td>\n",
       "      <td>3</td>\n",
       "      <td>2</td>\n",
       "      <td>2</td>\n",
       "      <td>3.0</td>\n",
       "      <td>1</td>\n",
       "      <td>0</td>\n",
       "      <td>0</td>\n",
       "      <td>0</td>\n",
       "    </tr>\n",
       "    <tr>\n",
       "      <th>1</th>\n",
       "      <td>0.916</td>\n",
       "      <td>0.348</td>\n",
       "      <td>69.402</td>\n",
       "      <td>1586.827374</td>\n",
       "      <td>1536.578580</td>\n",
       "      <td>1587.316760</td>\n",
       "      <td>1587.107206</td>\n",
       "      <td>1587.430629</td>\n",
       "      <td>1590.104267</td>\n",
       "      <td>1587.945422</td>\n",
       "      <td>...</td>\n",
       "      <td>1</td>\n",
       "      <td>2</td>\n",
       "      <td>3</td>\n",
       "      <td>2</td>\n",
       "      <td>2</td>\n",
       "      <td>3.0</td>\n",
       "      <td>1</td>\n",
       "      <td>0</td>\n",
       "      <td>0</td>\n",
       "      <td>0</td>\n",
       "    </tr>\n",
       "    <tr>\n",
       "      <th>2</th>\n",
       "      <td>0.916</td>\n",
       "      <td>0.344</td>\n",
       "      <td>69.289</td>\n",
       "      <td>1516.411140</td>\n",
       "      <td>1495.080373</td>\n",
       "      <td>1516.482818</td>\n",
       "      <td>1516.366352</td>\n",
       "      <td>1516.918855</td>\n",
       "      <td>1514.835611</td>\n",
       "      <td>1503.485462</td>\n",
       "      <td>...</td>\n",
       "      <td>2</td>\n",
       "      <td>2</td>\n",
       "      <td>3</td>\n",
       "      <td>2</td>\n",
       "      <td>2</td>\n",
       "      <td>3.0</td>\n",
       "      <td>0</td>\n",
       "      <td>1</td>\n",
       "      <td>0</td>\n",
       "      <td>0</td>\n",
       "    </tr>\n",
       "    <tr>\n",
       "      <th>3</th>\n",
       "      <td>0.916</td>\n",
       "      <td>0.348</td>\n",
       "      <td>69.402</td>\n",
       "      <td>1522.882735</td>\n",
       "      <td>1486.027159</td>\n",
       "      <td>1519.176109</td>\n",
       "      <td>1521.633342</td>\n",
       "      <td>1524.163318</td>\n",
       "      <td>1521.685239</td>\n",
       "      <td>1515.835756</td>\n",
       "      <td>...</td>\n",
       "      <td>2</td>\n",
       "      <td>2</td>\n",
       "      <td>3</td>\n",
       "      <td>2</td>\n",
       "      <td>2</td>\n",
       "      <td>3.0</td>\n",
       "      <td>0</td>\n",
       "      <td>1</td>\n",
       "      <td>0</td>\n",
       "      <td>0</td>\n",
       "    </tr>\n",
       "    <tr>\n",
       "      <th>4</th>\n",
       "      <td>0.916</td>\n",
       "      <td>0.344</td>\n",
       "      <td>69.289</td>\n",
       "      <td>1478.098433</td>\n",
       "      <td>1457.372553</td>\n",
       "      <td>1483.945610</td>\n",
       "      <td>1481.342541</td>\n",
       "      <td>1475.516841</td>\n",
       "      <td>1472.935249</td>\n",
       "      <td>1490.164818</td>\n",
       "      <td>...</td>\n",
       "      <td>3</td>\n",
       "      <td>2</td>\n",
       "      <td>3</td>\n",
       "      <td>2</td>\n",
       "      <td>2</td>\n",
       "      <td>3.0</td>\n",
       "      <td>0</td>\n",
       "      <td>0</td>\n",
       "      <td>1</td>\n",
       "      <td>0</td>\n",
       "    </tr>\n",
       "    <tr>\n",
       "      <th>...</th>\n",
       "      <td>...</td>\n",
       "      <td>...</td>\n",
       "      <td>...</td>\n",
       "      <td>...</td>\n",
       "      <td>...</td>\n",
       "      <td>...</td>\n",
       "      <td>...</td>\n",
       "      <td>...</td>\n",
       "      <td>...</td>\n",
       "      <td>...</td>\n",
       "      <td>...</td>\n",
       "      <td>...</td>\n",
       "      <td>...</td>\n",
       "      <td>...</td>\n",
       "      <td>...</td>\n",
       "      <td>...</td>\n",
       "      <td>...</td>\n",
       "      <td>...</td>\n",
       "      <td>...</td>\n",
       "      <td>...</td>\n",
       "      <td>...</td>\n",
       "    </tr>\n",
       "    <tr>\n",
       "      <th>495</th>\n",
       "      <td>0.953</td>\n",
       "      <td>0.352</td>\n",
       "      <td>73.086</td>\n",
       "      <td>1514.031349</td>\n",
       "      <td>1498.937449</td>\n",
       "      <td>1517.687851</td>\n",
       "      <td>1515.859600</td>\n",
       "      <td>1514.550610</td>\n",
       "      <td>1518.317762</td>\n",
       "      <td>1519.560080</td>\n",
       "      <td>...</td>\n",
       "      <td>4</td>\n",
       "      <td>4</td>\n",
       "      <td>4</td>\n",
       "      <td>5</td>\n",
       "      <td>1</td>\n",
       "      <td>6.0</td>\n",
       "      <td>0</td>\n",
       "      <td>0</td>\n",
       "      <td>0</td>\n",
       "      <td>1</td>\n",
       "    </tr>\n",
       "    <tr>\n",
       "      <th>496</th>\n",
       "      <td>0.923</td>\n",
       "      <td>0.355</td>\n",
       "      <td>67.191</td>\n",
       "      <td>1506.290611</td>\n",
       "      <td>1444.277495</td>\n",
       "      <td>1505.734563</td>\n",
       "      <td>1505.713624</td>\n",
       "      <td>1506.867599</td>\n",
       "      <td>1507.444587</td>\n",
       "      <td>1507.236026</td>\n",
       "      <td>...</td>\n",
       "      <td>1</td>\n",
       "      <td>2</td>\n",
       "      <td>5</td>\n",
       "      <td>1</td>\n",
       "      <td>1</td>\n",
       "      <td>6.0</td>\n",
       "      <td>1</td>\n",
       "      <td>0</td>\n",
       "      <td>0</td>\n",
       "      <td>0</td>\n",
       "    </tr>\n",
       "    <tr>\n",
       "      <th>497</th>\n",
       "      <td>0.923</td>\n",
       "      <td>0.355</td>\n",
       "      <td>67.191</td>\n",
       "      <td>1433.885814</td>\n",
       "      <td>1401.300015</td>\n",
       "      <td>1441.602347</td>\n",
       "      <td>1437.744081</td>\n",
       "      <td>1430.923555</td>\n",
       "      <td>1428.490734</td>\n",
       "      <td>1442.051871</td>\n",
       "      <td>...</td>\n",
       "      <td>2</td>\n",
       "      <td>2</td>\n",
       "      <td>5</td>\n",
       "      <td>1</td>\n",
       "      <td>1</td>\n",
       "      <td>6.0</td>\n",
       "      <td>0</td>\n",
       "      <td>1</td>\n",
       "      <td>0</td>\n",
       "      <td>0</td>\n",
       "    </tr>\n",
       "    <tr>\n",
       "      <th>498</th>\n",
       "      <td>0.923</td>\n",
       "      <td>0.355</td>\n",
       "      <td>67.191</td>\n",
       "      <td>1385.057129</td>\n",
       "      <td>1355.168231</td>\n",
       "      <td>1387.311600</td>\n",
       "      <td>1384.319977</td>\n",
       "      <td>1384.609278</td>\n",
       "      <td>1382.555992</td>\n",
       "      <td>1397.128710</td>\n",
       "      <td>...</td>\n",
       "      <td>3</td>\n",
       "      <td>2</td>\n",
       "      <td>5</td>\n",
       "      <td>1</td>\n",
       "      <td>1</td>\n",
       "      <td>6.0</td>\n",
       "      <td>0</td>\n",
       "      <td>0</td>\n",
       "      <td>1</td>\n",
       "      <td>0</td>\n",
       "    </tr>\n",
       "    <tr>\n",
       "      <th>499</th>\n",
       "      <td>0.923</td>\n",
       "      <td>0.355</td>\n",
       "      <td>67.191</td>\n",
       "      <td>1418.944207</td>\n",
       "      <td>1395.905787</td>\n",
       "      <td>1417.039855</td>\n",
       "      <td>1418.314258</td>\n",
       "      <td>1418.548356</td>\n",
       "      <td>1418.190233</td>\n",
       "      <td>1422.494546</td>\n",
       "      <td>...</td>\n",
       "      <td>4</td>\n",
       "      <td>2</td>\n",
       "      <td>5</td>\n",
       "      <td>1</td>\n",
       "      <td>1</td>\n",
       "      <td>6.0</td>\n",
       "      <td>0</td>\n",
       "      <td>0</td>\n",
       "      <td>0</td>\n",
       "      <td>1</td>\n",
       "    </tr>\n",
       "  </tbody>\n",
       "</table>\n",
       "<p>500 rows × 62 columns</p>\n",
       "</div>"
      ],
      "text/plain": [
       "     FLOWFACTOR  SPACING  DEP TIME       SITE_0       SITE_1       SITE_2  \\\n",
       "0         0.916    0.344    69.289  1601.802686  1556.668725  1597.900238   \n",
       "1         0.916    0.348    69.402  1586.827374  1536.578580  1587.316760   \n",
       "2         0.916    0.344    69.289  1516.411140  1495.080373  1516.482818   \n",
       "3         0.916    0.348    69.402  1522.882735  1486.027159  1519.176109   \n",
       "4         0.916    0.344    69.289  1478.098433  1457.372553  1483.945610   \n",
       "..          ...      ...       ...          ...          ...          ...   \n",
       "495       0.953    0.352    73.086  1514.031349  1498.937449  1517.687851   \n",
       "496       0.923    0.355    67.191  1506.290611  1444.277495  1505.734563   \n",
       "497       0.923    0.355    67.191  1433.885814  1401.300015  1441.602347   \n",
       "498       0.923    0.355    67.191  1385.057129  1355.168231  1387.311600   \n",
       "499       0.923    0.355    67.191  1418.944207  1395.905787  1417.039855   \n",
       "\n",
       "          SITE_3       SITE_4       SITE_5       SITE_6  ...  TOOL_binning  \\\n",
       "0    1599.790647  1601.083756  1601.116007  1592.004563  ...             1   \n",
       "1    1587.107206  1587.430629  1590.104267  1587.945422  ...             1   \n",
       "2    1516.366352  1516.918855  1514.835611  1503.485462  ...             2   \n",
       "3    1521.633342  1524.163318  1521.685239  1515.835756  ...             2   \n",
       "4    1481.342541  1475.516841  1472.935249  1490.164818  ...             3   \n",
       "..           ...          ...          ...          ...  ...           ...   \n",
       "495  1515.859600  1514.550610  1518.317762  1519.560080  ...             4   \n",
       "496  1505.713624  1506.867599  1507.444587  1507.236026  ...             1   \n",
       "497  1437.744081  1430.923555  1428.490734  1442.051871  ...             2   \n",
       "498  1384.319977  1384.609278  1382.555992  1397.128710  ...             3   \n",
       "499  1418.314258  1418.548356  1418.190233  1422.494546  ...             4   \n",
       "\n",
       "     FLOWFACTOR_binning  SPACING_binning  DEP TIME_binning  T  weight  TOOL_1  \\\n",
       "0                     2                3                 2  2     3.0       1   \n",
       "1                     2                3                 2  2     3.0       1   \n",
       "2                     2                3                 2  2     3.0       0   \n",
       "3                     2                3                 2  2     3.0       0   \n",
       "4                     2                3                 2  2     3.0       0   \n",
       "..                  ...              ...               ... ..     ...     ...   \n",
       "495                   4                4                 5  1     6.0       0   \n",
       "496                   2                5                 1  1     6.0       1   \n",
       "497                   2                5                 1  1     6.0       0   \n",
       "498                   2                5                 1  1     6.0       0   \n",
       "499                   2                5                 1  1     6.0       0   \n",
       "\n",
       "     TOOL_2  TOOL_3  TOOL_4  \n",
       "0         0       0       0  \n",
       "1         0       0       0  \n",
       "2         1       0       0  \n",
       "3         1       0       0  \n",
       "4         0       1       0  \n",
       "..      ...     ...     ...  \n",
       "495       0       0       1  \n",
       "496       0       0       0  \n",
       "497       1       0       0  \n",
       "498       0       1       0  \n",
       "499       0       0       1  \n",
       "\n",
       "[500 rows x 62 columns]"
      ]
     },
     "execution_count": 11,
     "metadata": {},
     "output_type": "execute_result"
    }
   ],
   "source": [
    "df"
   ]
  },
  {
   "cell_type": "markdown",
   "metadata": {},
   "source": [
    "## Creating reprasentetive Matrix of the thickness profile:"
   ]
  },
  {
   "cell_type": "code",
   "execution_count": 12,
   "metadata": {},
   "outputs": [],
   "source": [
    "site = pd.read_csv('site_coordinates.csv')"
   ]
  },
  {
   "cell_type": "code",
   "execution_count": 13,
   "metadata": {},
   "outputs": [],
   "source": [
    "# rescaling the coordinates to 50x50\n",
    "X = site['SITE_X'].sort_values().reset_index()\n",
    "Y = site['SITE_Y'].sort_values().reset_index()\n",
    "\n",
    "new_coordinate_y= dict(zip(Y['SITE_Y'], Y.index))\n",
    "new_coordinate_x= dict(zip(X['SITE_X'], X.index))\n",
    "\n",
    "site.replace(new_coordinate_y, inplace=True)\n",
    "site.replace(new_coordinate_x, inplace=True)"
   ]
  },
  {
   "cell_type": "code",
   "execution_count": 14,
   "metadata": {},
   "outputs": [],
   "source": [
    "scaler_x = MinMaxScaler((-1, 1))\n",
    "XS_scaled = scaler_x.fit_transform(df[all_sites])\n",
    "XS_mat = []\n",
    "for thickness in XS_scaled:\n",
    "    thick_mat = np.zeros((50,50))\n",
    "    for i in site.index:        \n",
    "        x = int(site.loc[i, 'SITE_X'])\n",
    "        y = int(site.loc[i, 'SITE_Y'])\n",
    "        z = thickness[i]\n",
    "        thick_mat[x, y] = z\n",
    "    XS_mat.append(thick_mat)\n",
    "XS_mat = np.array(XS_mat)        "
   ]
  },
  {
   "cell_type": "code",
   "execution_count": 15,
   "metadata": {},
   "outputs": [
    {
     "name": "stdout",
     "output_type": "stream",
     "text": [
      "(500, 50, 50)\n"
     ]
    },
    {
     "data": {
      "text/plain": [
       "<matplotlib.image.AxesImage at 0x7fd1bdb47ac8>"
      ]
     },
     "execution_count": 15,
     "metadata": {},
     "output_type": "execute_result"
    },
    {
     "data": {
      "image/png": "[encoded data removed]",
      "text/plain": [
       "<Figure size 432x288 with 1 Axes>"
      ]
     },
     "metadata": {
      "needs_background": "light"
     },
     "output_type": "display_data"
    }
   ],
   "source": [
    "print(XS_mat.shape)\n",
    "plt.imshow(XS_mat[0])"
   ]
  },
  {
   "cell_type": "code",
   "execution_count": 16,
   "metadata": {},
   "outputs": [
    {
     "name": "stdout",
     "output_type": "stream",
     "text": [
      "0 -> 15\n",
      "16 -> 31\n",
      "32 -> 47\n",
      "48 -> 63\n",
      "64 -> 79\n",
      "80 -> 95\n",
      "96 -> 111\n",
      "112 -> 127\n",
      "128 -> 143\n",
      "144 -> 159\n",
      "160 -> 175\n",
      "176 -> 191\n",
      "192 -> 207\n",
      "208 -> 223\n",
      "224 -> 239\n",
      "240 -> 255\n",
      "256 -> 271\n",
      "272 -> 287\n",
      "288 -> 303\n",
      "304 -> 319\n",
      "320 -> 335\n",
      "336 -> 351\n",
      "352 -> 367\n",
      "368 -> 383\n",
      "384 -> 399\n",
      "400 -> 415\n",
      "416 -> 431\n",
      "432 -> 447\n",
      "448 -> 463\n",
      "464 -> 479\n",
      "480 -> 495\n",
      "496 -> 499\n"
     ]
    }
   ],
   "source": [
    "BATCH_SIZE=16\n",
    "batch_count = int(np.ceil(len(df)/BATCH_SIZE))\n",
    "\n",
    "YS = []\n",
    "WEIGHTS=[]\n",
    "\n",
    "for b in range(0, batch_count):\n",
    "    print(b * BATCH_SIZE,\"->\",min(len(df), b * BATCH_SIZE+BATCH_SIZE) - 1)\n",
    "    batch_indices = np.arange(b * BATCH_SIZE, min(len(df), b * BATCH_SIZE + BATCH_SIZE))\n",
    "    for ind in batch_indices:              \n",
    "        YS.append(df.loc[ind,Y_COLUMNS].values)\n",
    "        WEIGHTS.append(df.loc[ind,\"weight\"])\n",
    "        \n",
    "YS = np.array(YS)\n",
    "WEIGHTS = np.array(WEIGHTS)\n",
    "\n",
    "scaler_y_2 = MinMaxScaler()\n",
    "YS_scaled = scaler_y_2.fit_transform(YS)\n",
    "dataset=(XS_mat, YS_scaled, WEIGHTS)"
   ]
  },
  {
   "cell_type": "code",
   "execution_count": 17,
   "metadata": {},
   "outputs": [],
   "source": [
    "INPUT_SHAPE=(50, 50, 1)\n",
    "EXTRINSIC_DIM = 7 #LABELS, Y\n",
    "latent_dim = 32 # need to confirm\n",
    "LATENT_DIM = latent_dim"
   ]
  },
  {
   "cell_type": "markdown",
   "metadata": {},
   "source": [
    "## Discriminator Model"
   ]
  },
  {
   "cell_type": "code",
   "execution_count": 18,
   "metadata": {},
   "outputs": [],
   "source": [
    "# define the standalone discriminator model\n",
    "# @tf.function\n",
    "def define_cond_discriminator(in_shape=INPUT_SHAPE, n_classes=EXTRINSIC_DIM):    \n",
    "    # label input\n",
    "    in_label = Input(shape=(EXTRINSIC_DIM,), name=\"Y_extrinsic\")\n",
    "    # scale up to image dimensions with linear activation\n",
    "    n_nodes = in_shape[0] * in_shape[1]\n",
    "\n",
    "    li = Dense(n_nodes)(in_label)\n",
    "\n",
    "    # reshape to additional channel\n",
    "    li = Reshape((in_shape[0], in_shape[1], 1))(li)\n",
    "\n",
    "    # image input\n",
    "    in_image = Input(shape=in_shape, name=\"X\")\n",
    "    # concat label as a channel\n",
    "    merge = Concatenate()([in_image, li])\n",
    "    # downsample\n",
    "    fe = Conv2D(128, (3,3), strides=(2,2), padding='same')(merge)\n",
    "#     fe = BatchNormalization()(fe)\n",
    "    fe = LeakyReLU(alpha=0.2)(fe)\n",
    "#     fe = Dropout(0.3)(fe)\n",
    "    # downsample\n",
    "    fe = Conv2D(128, (3,3), strides=(2,2), padding='same')(fe)\n",
    "    fe = LeakyReLU(alpha=0.2)(fe)\n",
    "#     fe = BatchNormalization()(fe)\n",
    "    # flatten feature maps\n",
    "    fe = Flatten()(fe)\n",
    "    # dropout\n",
    "    fe = Dropout(0.4)(fe)\n",
    "    # output\n",
    "    out_layer = Dense(1, activation='sigmoid',name=\"Discriminator\")(fe)\n",
    "    # define model\n",
    "    model = Model([in_image, in_label], out_layer)\n",
    "    # compile model\n",
    "    opt = Adam(lr=0.00001, beta_1=0.5)\n",
    "    #opt = Adadelta()\n",
    "\n",
    "    model.compile(loss='binary_crossentropy', optimizer=opt, metrics=['accuracy'])\n",
    "    return model"
   ]
  },
  {
   "cell_type": "code",
   "execution_count": 19,
   "metadata": {},
   "outputs": [],
   "source": [
    "discriminator_model = define_cond_discriminator()"
   ]
  },
  {
   "cell_type": "code",
   "execution_count": 20,
   "metadata": {},
   "outputs": [
    {
     "name": "stdout",
     "output_type": "stream",
     "text": [
      "Model: \"model\"\n",
      "__________________________________________________________________________________________________\n",
      "Layer (type)                    Output Shape         Param #     Connected to                     \n",
      "==================================================================================================\n",
      "Y_extrinsic (InputLayer)        [(None, 7)]          0                                            \n",
      "__________________________________________________________________________________________________\n",
      "dense (Dense)                   (None, 2500)         20000       Y_extrinsic[0][0]                \n",
      "__________________________________________________________________________________________________\n",
      "X (InputLayer)                  [(None, 50, 50, 1)]  0                                            \n",
      "__________________________________________________________________________________________________\n",
      "reshape (Reshape)               (None, 50, 50, 1)    0           dense[0][0]                      \n",
      "__________________________________________________________________________________________________\n",
      "concatenate (Concatenate)       (None, 50, 50, 2)    0           X[0][0]                          \n",
      "                                                                 reshape[0][0]                    \n",
      "__________________________________________________________________________________________________\n",
      "conv2d (Conv2D)                 (None, 25, 25, 128)  2432        concatenate[0][0]                \n",
      "__________________________________________________________________________________________________\n",
      "leaky_re_lu (LeakyReLU)         (None, 25, 25, 128)  0           conv2d[0][0]                     \n",
      "__________________________________________________________________________________________________\n",
      "conv2d_1 (Conv2D)               (None, 13, 13, 128)  147584      leaky_re_lu[0][0]                \n",
      "__________________________________________________________________________________________________\n",
      "leaky_re_lu_1 (LeakyReLU)       (None, 13, 13, 128)  0           conv2d_1[0][0]                   \n",
      "__________________________________________________________________________________________________\n",
      "flatten (Flatten)               (None, 21632)        0           leaky_re_lu_1[0][0]              \n",
      "__________________________________________________________________________________________________\n",
      "dropout (Dropout)               (None, 21632)        0           flatten[0][0]                    \n",
      "__________________________________________________________________________________________________\n",
      "Discriminator (Dense)           (None, 1)            21633       dropout[0][0]                    \n",
      "==================================================================================================\n",
      "Total params: 191,649\n",
      "Trainable params: 191,649\n",
      "Non-trainable params: 0\n",
      "__________________________________________________________________________________________________\n"
     ]
    }
   ],
   "source": [
    "discriminator_model.summary()"
   ]
  },
  {
   "cell_type": "markdown",
   "metadata": {},
   "source": [
    "## Generator Model"
   ]
  },
  {
   "cell_type": "code",
   "execution_count": 72,
   "metadata": {
    "scrolled": true
   },
   "outputs": [],
   "source": [
    "\n",
    "# define the standalone generator model\n",
    "def define_cond_generator(latent_dim=LATENT_DIM, n_classes=EXTRINSIC_DIM):\n",
    "    init_size=(5, 5)\n",
    "\n",
    "    # label input\n",
    "    in_label = Input(shape=(EXTRINSIC_DIM,), name=\"Y_extrinsic\")\n",
    "    # linear multiplication\n",
    "    n_nodes = init_size[0] * init_size[1]\n",
    "    li = Dense(n_nodes)(in_label)\n",
    "    li = BatchNormalization()(li)\n",
    "    li = Dropout(0.3)(li)\n",
    "\n",
    "    # reshape to additional channel\n",
    "    li = Reshape((init_size[0] , init_size[1], 1))(li)\n",
    "\n",
    "    # image generator input\n",
    "    in_lat = Input(shape=(latent_dim,), name=\"Z_latent\")\n",
    "    # foundation for 7x7 image\n",
    "    n_nodes = 128 * n_nodes\n",
    "    gen = Dense(n_nodes)(in_lat)\n",
    "    gen = LeakyReLU(alpha=0.2)(gen)\n",
    "    gen = BatchNormalization()(gen)\n",
    "    gen = Dropout(0.5)(gen)\n",
    "    \n",
    "    gen = Reshape((init_size[0], init_size[1], 128))(gen)\n",
    "\n",
    "    # merge image gen and label input\n",
    "    merge = Concatenate()([gen, li])\n",
    "   \n",
    "    gen = Conv2DTranspose(128, (3,3), strides=(2,2), padding='same')(merge)\n",
    "    gen = LeakyReLU(alpha=0.2)(gen)\n",
    "    gen = BatchNormalization()(gen)\n",
    "    gen = Dropout(0.2)(gen)\n",
    "\n",
    "    gen = Conv2DTranspose(128, (3,3), strides=(5,5), padding='same')(gen)\n",
    "    gen = LeakyReLU(alpha=0.2)(gen)\n",
    "    gen = BatchNormalization()(gen)\n",
    "    gen = Dropout(0.2)(gen)\n",
    "    \n",
    "#     gen = Conv2D(128, (3,3), strides=(2,2), padding='same')(gen)\n",
    "#     gen = BatchNormalization()(gen)\n",
    "#     gen = LeakyReLU(alpha=0.2)(gen)\n",
    "# #     fe = Dropout(0.3)(fe)\n",
    "#     # downsample\n",
    "#     gen = Conv2D(128, (3,3), strides=(2,2), padding='same')(gen)\n",
    "#     gen = LeakyReLU(alpha=0.2)(gen)\n",
    "#     gen = BatchNormalization()(gen)\n",
    "    \n",
    "#     gen = Reshape((50, 50, 1))(gen)\n",
    "\n",
    "    # output\n",
    "    out_layer = Conv2D(1, (7, 7),activation='tanh', padding='same', name=\"X_generated\")(gen)\n",
    "\n",
    "    # define model\n",
    "    model = Model([in_lat, in_label], out_layer)\n",
    "    return model"
   ]
  },
  {
   "cell_type": "code",
   "execution_count": 73,
   "metadata": {},
   "outputs": [],
   "source": [
    "generator_model = define_cond_generator()\n",
    "\n",
    "    "
   ]
  },
  {
   "cell_type": "code",
   "execution_count": 74,
   "metadata": {},
   "outputs": [
    {
     "name": "stdout",
     "output_type": "stream",
     "text": [
      "Model: \"model_10\"\n",
      "__________________________________________________________________________________________________\n",
      "Layer (type)                    Output Shape         Param #     Connected to                     \n",
      "==================================================================================================\n",
      "Z_latent (InputLayer)           [(None, 32)]         0                                            \n",
      "__________________________________________________________________________________________________\n",
      "dense_18 (Dense)                (None, 3200)         105600      Z_latent[0][0]                   \n",
      "__________________________________________________________________________________________________\n",
      "Y_extrinsic (InputLayer)        [(None, 7)]          0                                            \n",
      "__________________________________________________________________________________________________\n",
      "leaky_re_lu_26 (LeakyReLU)      (None, 3200)         0           dense_18[0][0]                   \n",
      "__________________________________________________________________________________________________\n",
      "dense_17 (Dense)                (None, 25)           200         Y_extrinsic[0][0]                \n",
      "__________________________________________________________________________________________________\n",
      "batch_normalization_33 (BatchNo (None, 3200)         12800       leaky_re_lu_26[0][0]             \n",
      "__________________________________________________________________________________________________\n",
      "batch_normalization_32 (BatchNo (None, 25)           100         dense_17[0][0]                   \n",
      "__________________________________________________________________________________________________\n",
      "dropout_34 (Dropout)            (None, 3200)         0           batch_normalization_33[0][0]     \n",
      "__________________________________________________________________________________________________\n",
      "dropout_33 (Dropout)            (None, 25)           0           batch_normalization_32[0][0]     \n",
      "__________________________________________________________________________________________________\n",
      "reshape_20 (Reshape)            (None, 5, 5, 128)    0           dropout_34[0][0]                 \n",
      "__________________________________________________________________________________________________\n",
      "reshape_19 (Reshape)            (None, 5, 5, 1)      0           dropout_33[0][0]                 \n",
      "__________________________________________________________________________________________________\n",
      "concatenate_9 (Concatenate)     (None, 5, 5, 129)    0           reshape_20[0][0]                 \n",
      "                                                                 reshape_19[0][0]                 \n",
      "__________________________________________________________________________________________________\n",
      "conv2d_transpose_16 (Conv2DTran (None, 10, 10, 128)  148736      concatenate_9[0][0]              \n",
      "__________________________________________________________________________________________________\n",
      "leaky_re_lu_27 (LeakyReLU)      (None, 10, 10, 128)  0           conv2d_transpose_16[0][0]        \n",
      "__________________________________________________________________________________________________\n",
      "batch_normalization_34 (BatchNo (None, 10, 10, 128)  512         leaky_re_lu_27[0][0]             \n",
      "__________________________________________________________________________________________________\n",
      "dropout_35 (Dropout)            (None, 10, 10, 128)  0           batch_normalization_34[0][0]     \n",
      "__________________________________________________________________________________________________\n",
      "conv2d_transpose_17 (Conv2DTran (None, 50, 50, 128)  147584      dropout_35[0][0]                 \n",
      "__________________________________________________________________________________________________\n",
      "leaky_re_lu_28 (LeakyReLU)      (None, 50, 50, 128)  0           conv2d_transpose_17[0][0]        \n",
      "__________________________________________________________________________________________________\n",
      "batch_normalization_35 (BatchNo (None, 50, 50, 128)  512         leaky_re_lu_28[0][0]             \n",
      "__________________________________________________________________________________________________\n",
      "dropout_36 (Dropout)            (None, 50, 50, 128)  0           batch_normalization_35[0][0]     \n",
      "__________________________________________________________________________________________________\n",
      "X_generated (Conv2D)            (None, 50, 50, 1)    6273        dropout_36[0][0]                 \n",
      "==================================================================================================\n",
      "Total params: 422,317\n",
      "Trainable params: 415,355\n",
      "Non-trainable params: 6,962\n",
      "__________________________________________________________________________________________________\n"
     ]
    }
   ],
   "source": [
    "generator_model.summary()"
   ]
  },
  {
   "cell_type": "markdown",
   "metadata": {},
   "source": [
    "## Combine generator and discriminator model"
   ]
  },
  {
   "cell_type": "code",
   "execution_count": 75,
   "metadata": {},
   "outputs": [],
   "source": [
    "# define the combined generator and discriminator model, for updating the generator\n",
    "def define_cond_gan(g_model, d_model):\n",
    "    # make weights in the discriminator not trainable\n",
    "    d_model.trainable = False\n",
    "    # get noise and label inputs from generator model\n",
    "    gen_noise, gen_label = g_model.input\n",
    "    # get image output from the generator model\n",
    "    gen_output = g_model.output\n",
    "    # connect image output and label input from generator as inputs to discriminator\n",
    "    gan_output = d_model([gen_output, gen_label])\n",
    "    # define gan model as taking noise and label and outputting a classification\n",
    "    model = Model([gen_noise, gen_label], gan_output)\n",
    "    # compile model\n",
    "    opt = Adam(lr=0.00001, beta_1=0.5)\n",
    "    model.compile(loss='binary_crossentropy', optimizer=opt)\n",
    "    return model"
   ]
  },
  {
   "cell_type": "code",
   "execution_count": 76,
   "metadata": {},
   "outputs": [],
   "source": [
    "GAN = define_cond_gan(generator_model, discriminator_model)"
   ]
  },
  {
   "cell_type": "markdown",
   "metadata": {},
   "source": [
    "# Generate Real and Fake Samples:"
   ]
  },
  {
   "cell_type": "code",
   "execution_count": 77,
   "metadata": {},
   "outputs": [],
   "source": [
    "\n",
    "# select real samples\n",
    "def generate_real_samples(dataset, n_samples):\n",
    "    # split into vector and labels\n",
    "    vector, labels, weights = dataset\n",
    "    # choose random instances\n",
    "    ix = np.random.randint(0, vector.shape[0]-1, n_samples) # n_samples were removed I dunno why\n",
    "    # select vector and labels\n",
    "    X, labels, weights = vector[ix], labels[ix], weights[ix]\n",
    "    # generate class labels\n",
    "    y = np.ones((n_samples, 1))\n",
    "    return [X, labels], y, weights"
   ]
  },
  {
   "cell_type": "code",
   "execution_count": 78,
   "metadata": {},
   "outputs": [],
   "source": [
    "# generate points in latent space as input for the generator\n",
    "def generate_latent_points(latent_dim, n_samples, n_classes=EXTRINSIC_DIM):\n",
    "    # generate points in the latent space\n",
    "    x_input = np.random.randn(latent_dim * n_samples)\n",
    "    # reshape into a batch of inputs for the network\n",
    "    z_input = x_input.reshape(n_samples, latent_dim)\n",
    "    # generate labels\n",
    "    labels = np.random.choice(len(YS), size=n_samples)\n",
    "    weights = WEIGHTS[labels]\n",
    "    labels= YS_scaled[labels]    \n",
    "    return z_input, labels, weights\n",
    "\n",
    "# use the generator to generate n fake examples, with class labels\n",
    "def generate_fake_samples(generator, latent_dim, n_samples):\n",
    "    # generate points in latent space\n",
    "    z_input, labels_input, weights_input = generate_latent_points(latent_dim, n_samples)\n",
    "    # predict outputs\n",
    "    images = generator.predict([z_input, labels_input])\n",
    "    # create class labels\n",
    "    y = np.zeros((n_samples, 1))\n",
    "    return [images, labels_input], y, weights_input"
   ]
  },
  {
   "cell_type": "code",
   "execution_count": 67,
   "metadata": {},
   "outputs": [],
   "source": [
    " z_input, labels_input, weights_input = generate_latent_points(latent_dim, 16)"
   ]
  },
  {
   "cell_type": "code",
   "execution_count": 79,
   "metadata": {},
   "outputs": [],
   "source": [
    "# function for trainining of generator and discriminator\n",
    "def train_cgan(g_model, d_model, gan_model, dataset, latent_dim, n_epochs=32, verbose_freq=10, n_batch=32):\n",
    "    fig,ax = plt.subplots(1,1)\n",
    "    ax.set_xlabel('Epochs')\n",
    "    ax.set_ylabel('Loss')\n",
    "    \n",
    "    bat_per_epo = int(dataset[0].shape[0] / n_batch)\n",
    "    half_batch = int(n_batch / 2)\n",
    "\n",
    "    # manually enumerate epochs\n",
    "    d_loss1_epochs=[]\n",
    "    d_loss2_epochs=[]\n",
    "    g_loss_epochs=[]\n",
    "    d_loss1_batch=[]\n",
    "    d_loss2_batch=[]\n",
    "    g_loss_batch=[]\n",
    "    \n",
    "    \n",
    "    # manually enumerate epochs\n",
    "    iteration=0\n",
    "    for i in range(n_epochs):\n",
    "        # enumerate batches over the training set\n",
    "        for j in range(bat_per_epo):\n",
    "            # get randomly selected 'real' samples\n",
    "            [X_real, labels_real], y_real, weights_real = generate_real_samples(dataset, half_batch)\n",
    "            X_real = X_real.reshape(half_batch, 50, 50, 1)\n",
    "            # update discriminator model weights\n",
    "            d_loss1, _ = d_model.train_on_batch([X_real, labels_real], y_real,) # sample_weight=weights_real)\n",
    "            # generate 'fake' examples\n",
    "            [X_fake, labels], y_fake, weights_fake = generate_fake_samples(g_model, latent_dim, half_batch)\n",
    "            # update discriminator model weights\n",
    "            d_loss2, _ = d_model.train_on_batch([X_fake, labels], y_fake,)#sample_weight=weights_fake)\n",
    "            # prepare points in latent space as input for the generator\n",
    "            z_input, labels_input, weights_gan = generate_latent_points(latent_dim, n_batch)\n",
    "            # create inverted labels for the fake samples\n",
    "            y_gan = np.ones((n_batch, 1))\n",
    "            # update the generator via the discriminator's error\n",
    "            g_loss = gan_model.train_on_batch([z_input, labels_input], y_gan,) #sample_weight=weights_gan)\n",
    "            \n",
    "            d_loss1_batch.append(d_loss1)\n",
    "            d_loss2_batch.append(d_loss2)\n",
    "            g_loss_batch.append(g_loss)\n",
    "        \n",
    "\n",
    "            # visualizing the training steps\n",
    "            if (iteration%verbose_freq==0):\n",
    "                if ax.lines:\n",
    "                    epochs_x = (np.arange(len(d_loss2_batch))+1)/bat_per_epo\n",
    "                    for line,ydata in zip(ax.lines,[d_loss1_batch, d_loss2_batch,g_loss_batch]):\n",
    "                        line.set_xdata(epochs_x)\n",
    "                        line.set_ydata(ydata) \n",
    "                    ax.set_xlim(0,max(epochs_x) + 1/bat_per_epo)\n",
    "                    ax.set_ylim(0.9 * min([min(d_loss1_batch), min(d_loss2_batch), min(g_loss_batch)]), 1.1 * max([max(d_loss1_batch), max(d_loss2_batch), max(g_loss_batch)]))\n",
    "                else:\n",
    "                    ax.plot(d_loss1_batch, label=\"d_loss_real\")\n",
    "                    ax.plot(d_loss2_batch, label=\"d_loss_fake\")\n",
    "                    ax.plot(g_loss_batch, label=\"g_loss\")                 \n",
    "                    fig.legend()\n",
    "                fig.canvas.draw()\n",
    "                \n",
    "            iteration += 1\n",
    "            \n",
    "    if ax.lines:        \n",
    "        epochs_x=(np.arange(len(d_loss2_batch))+1)/bat_per_epo\n",
    "        for line,ydata in zip(ax.lines,[d_loss1_batch, d_loss2_batch,g_loss_batch]):\n",
    "            line.set_xdata(epochs_x)\n",
    "            line.set_ydata(ydata) \n",
    "        ax.set_xlim(0,max(epochs_x)+1/bat_per_epo)\n",
    "        ax.set_ylim(0.9*min([min(d_loss1_batch),min(d_loss2_batch),min(g_loss_batch)]),1.1*max([max(d_loss1_batch), max(d_loss2_batch), max(g_loss_batch)]))\n",
    "    else:\n",
    "        ax.plot(d_loss1_batch, label=\"d_loss_real\")\n",
    "        ax.plot(d_loss2_batch, label=\"d_loss_fake\")\n",
    "        ax.plot(g_loss_batch, label=\"g_loss\")                 \n",
    "        fig.legend()\n",
    "    fig.canvas.draw()"
   ]
  },
  {
   "cell_type": "code",
   "execution_count": 86,
   "metadata": {},
   "outputs": [],
   "source": [
    "d_loss1_epochs = [1,2,3]\n",
    "d_loss1_epochs=[1,2,3]\n",
    "d_loss2_epochs=[1,2,3]\n",
    "g_loss_epochs=[1,2,3]\n",
    "d_loss1_batch=[1,2,3]\n",
    "d_loss2_batch=[1,2,3]\n",
    "g_loss_batch=[1,2,3]"
   ]
  },
  {
   "cell_type": "code",
   "execution_count": null,
   "metadata": {},
   "outputs": [],
   "source": []
  },
  {
   "cell_type": "code",
   "execution_count": 80,
   "metadata": {},
   "outputs": [],
   "source": [
    "def thickness_extraction(X):\n",
    "    new_x = []\n",
    "    for i in site.index:        \n",
    "            x = int(site.loc[i, 'SITE_X'])\n",
    "            y = int(site.loc[i, 'SITE_Y'])\n",
    "            z = X[x, y]\n",
    "            new_x.append(z)\n",
    "    new_x = np.array(new_x)        \n",
    "    new_x = scaler_x.inverse_transform(new_x.reshape(1,-1))        \n",
    "    return new_x[0]"
   ]
  },
  {
   "cell_type": "code",
   "execution_count": null,
   "metadata": {
    "scrolled": true
   },
   "outputs": [
    {
     "name": "stdout",
     "output_type": "stream",
     "text": [
      "Warning: Cannot change to a different GUI toolkit: notebook. Using widget instead.\n",
      "train model for 512\n",
      "0\n",
      "62.5\n"
     ]
    },
    {
     "data": {
      "application/vnd.jupyter.widget-view+json": {
       "model_id": "b240362832f44bb18dd0d23ccf132377",
       "version_major": 2,
       "version_minor": 0
      },
      "text/plain": [
       "Canvas(toolbar=Toolbar(toolitems=[('Home', 'Reset original view', 'home', 'home'), ('Back', 'Back to previous …"
      ]
     },
     "metadata": {},
     "output_type": "display_data"
    },
    {
     "data": {
      "application/vnd.plotly.v1+json": {
       "config": {
        "plotlyServerURL": "https://plot.ly"
       },
       "data": [
        {
         "facecolor": [
          "rgb(117, 122, 116)",
          "rgb(166, 124, 80)",
          "rgb(106, 122, 124)",
          "rgb(142, 123, 98)",
          "rgb(104, 122, 126)",
          "rgb(194, 125, 59)",
          "rgb(164, 124, 81)",
          "rgb(241, 126, 25)",
          "rgb(32, 119, 179)",
          "rgb(202, 125, 53)",
          "rgb(226, 126, 36)",
          "rgb(252, 127, 16)",
          "rgb(185, 124, 66)",
          "rgb(234, 126, 30)",
          "rgb(196, 125, 58)",
          "rgb(228, 126, 34)",
          "rgb(239, 126, 26)",
          "rgb(251, 127, 17)",
          "rgb(253, 127, 16)",
          "rgb(255, 127, 14)",
          "rgb(33, 119, 178)",
          "rgb(241, 127, 24)",
          "rgb(245, 127, 22)",
          "rgb(182, 124, 68)",
          "rgb(239, 126, 26)",
          "rgb(173, 124, 75)",
          "rgb(255, 127, 14)",
          "rgb(189, 125, 63)",
          "rgb(35, 119, 177)",
          "rgb(35, 119, 177)",
          "rgb(169, 124, 78)",
          "rgb(246, 127, 21)",
          "rgb(171, 124, 77)",
          "rgb(155, 123, 88)",
          "rgb(242, 127, 24)",
          "rgb(164, 124, 81)",
          "rgb(234, 126, 30)",
          "rgb(175, 124, 74)",
          "rgb(238, 126, 27)",
          "rgb(180, 124, 70)",
          "rgb(33, 119, 178)",
          "rgb(34, 119, 177)",
          "rgb(86, 121, 139)",
          "rgb(184, 124, 66)",
          "rgb(90, 121, 136)",
          "rgb(99, 121, 130)",
          "rgb(190, 125, 62)",
          "rgb(93, 121, 134)",
          "rgb(248, 127, 19)",
          "rgb(182, 124, 68)",
          "rgb(248, 127, 19)",
          "rgb(183, 124, 67)",
          "rgb(31, 119, 180)",
          "rgb(32, 119, 179)",
          "rgb(145, 123, 96)",
          "rgb(235, 126, 29)",
          "rgb(151, 123, 91)",
          "rgb(162, 124, 83)",
          "rgb(240, 126, 25)",
          "rgb(158, 124, 86)",
          "rgb(252, 127, 16)",
          "rgb(248, 127, 19)",
          "rgb(137, 123, 102)",
          "rgb(230, 126, 33)",
          "rgb(131, 123, 106)",
          "rgb(220, 126, 40)",
          "rgb(111, 122, 121)",
          "rgb(207, 125, 49)",
          "rgb(116, 122, 117)",
          "rgb(124, 122, 111)",
          "rgb(214, 126, 44)",
          "rgb(119, 122, 115)"
         ],
         "i": [
          38,
          32,
          44,
          17,
          22,
          18,
          13,
          14,
          2,
          19,
          6,
          3,
          10,
          16,
          21,
          21,
          12,
          12,
          4,
          16,
          8,
          8,
          24,
          8,
          18,
          6,
          5,
          5,
          5,
          4,
          33,
          14,
          33,
          16,
          35,
          34,
          7,
          21,
          19,
          8,
          6,
          7,
          39,
          18,
          39,
          21,
          41,
          40,
          0,
          12,
          14,
          4,
          3,
          0,
          27,
          10,
          27,
          12,
          29,
          28,
          9,
          24,
          26,
          10,
          9,
          9,
          45,
          19,
          45,
          24,
          47,
          46
         ],
         "j": [
          17,
          13,
          22,
          36,
          42,
          17,
          30,
          13,
          3,
          22,
          18,
          10,
          3,
          36,
          42,
          6,
          30,
          3,
          14,
          4,
          2,
          19,
          8,
          24,
          5,
          5,
          16,
          4,
          6,
          5,
          14,
          33,
          34,
          35,
          16,
          35,
          21,
          7,
          7,
          7,
          7,
          8,
          18,
          39,
          40,
          41,
          21,
          41,
          12,
          0,
          0,
          0,
          0,
          4,
          10,
          27,
          28,
          29,
          12,
          29,
          10,
          9,
          9,
          9,
          48,
          24,
          19,
          45,
          46,
          47,
          24,
          47
         ],
         "k": [
          37,
          31,
          43,
          37,
          43,
          38,
          31,
          32,
          1,
          44,
          20,
          11,
          2,
          17,
          22,
          20,
          13,
          11,
          15,
          15,
          1,
          23,
          23,
          2,
          17,
          18,
          17,
          16,
          1,
          1,
          32,
          15,
          15,
          36,
          15,
          15,
          22,
          6,
          22,
          19,
          1,
          1,
          38,
          20,
          20,
          42,
          20,
          20,
          13,
          3,
          13,
          14,
          1,
          1,
          26,
          11,
          11,
          30,
          11,
          11,
          2,
          2,
          25,
          26,
          25,
          48,
          44,
          23,
          23,
          48,
          23,
          23
         ],
         "name": "",
         "type": "mesh3d",
         "x": [
          -49000,
          0,
          3.0002899036735098e-12,
          -34648.19921875,
          -34648.19921875,
          -9.00085995320099e-12,
          34648.19921875,
          49000,
          34648.19921875,
          6.00056983268704e-12,
          -37503,
          -69296.5,
          -90540.203125,
          -98000,
          -90540.203125,
          -69296.5,
          -37503,
          -1.80017008244437e-11,
          37503,
          90540.203125,
          69296.5,
          90540.203125,
          98000,
          69296.5,
          37503,
          9.00085995320099e-12,
          -38046.3984375,
          -73500,
          -103945,
          -127306,
          -141991,
          -147000,
          -141991,
          -127306,
          -103945,
          -73500,
          -38046.3984375,
          -2.70025998089229e-11,
          38046.3984375,
          73500,
          103945,
          127306,
          141991,
          147000,
          141991,
          127306,
          103945,
          73500,
          38046.3984375
         ],
         "y": [
          6.00056983268704e-12,
          0,
          49000,
          34648.19921875,
          -34648.19921875,
          -49000,
          -34648.19921875,
          -1.20010997667341e-11,
          34648.19921875,
          98000,
          90540.203125,
          69296.5,
          37503,
          1.20010997667341e-11,
          -37503,
          -69296.5,
          -90540.203125,
          -98000,
          -90540.203125,
          37503,
          -69296.5,
          -37503,
          -2.400230014742989e-11,
          69296.5,
          90540.203125,
          147000,
          141991,
          127306,
          103945,
          73500,
          38046.3984375,
          1.80017008244437e-11,
          -38046.3984375,
          -73500,
          -103945,
          -127306,
          -141991,
          -147000,
          -141991,
          -127306,
          -103945,
          -73500,
          -38046.3984375,
          -3.600340164888749e-11,
          38046.3984375,
          73500,
          103945,
          127306,
          141991
         ],
         "z": [
          1504.894287109375,
          1473.4237060546875,
          1505.188232421875,
          1504.7769775390625,
          1505.1092529296875,
          1506.1041259765625,
          1504.894775390625,
          1505.59814453125,
          1505.357177734375,
          1530.0069580078125,
          1530.5335693359375,
          1530.46533203125,
          1529.8935546875,
          1529.308349609375,
          1530.0662841796875,
          1530.7808837890625,
          1530.916015625,
          1529.6337890625,
          1525.2451171875,
          1527.7816162109375,
          1525.6478271484375,
          1526.3045654296875,
          1526.896484375,
          1528.453125,
          1529.1610107421875,
          1495.736572265625,
          1496.8082275390625,
          1498.2198486328125,
          1499.3800048828125,
          1500.853515625,
          1501.4827880859375,
          1502.1231689453125,
          1502.11376953125,
          1502.5223388671875,
          1501.926513671875,
          1500.15283203125,
          1498.40478515625,
          1496.493896484375,
          1488.9998779296875,
          1489.492431640625,
          1489.947265625,
          1490.7318115234375,
          1491.4288330078125,
          1491.909423828125,
          1492.485595703125,
          1492.7818603515625,
          1493.452392578125,
          1493.9193115234375,
          1494.6583251953125
         ]
        },
        {
         "line": {
          "color": "rgb(50, 50, 50)",
          "width": 1.5
         },
         "mode": "lines",
         "showlegend": false,
         "type": "scatter3d",
         "x": [
          38046.3984375,
          -1.80017008244437e-11,
          -2.70025998089229e-11,
          38046.3984375,
          null,
          -141991,
          -98000,
          -147000,
          -141991,
          null,
          141991,
          98000,
          147000,
          141991,
          null,
          -1.80017008244437e-11,
          -38046.3984375,
          -2.70025998089229e-11,
          -1.80017008244437e-11,
          null,
          98000,
          141991,
          147000,
          98000,
          null,
          37503,
          -1.80017008244437e-11,
          38046.3984375,
          37503,
          null,
          -98000,
          -141991,
          -147000,
          -98000,
          null,
          -90540.203125,
          -98000,
          -141991,
          -90540.203125,
          null,
          3.0002899036735098e-12,
          -34648.19921875,
          0,
          3.0002899036735098e-12,
          null,
          90540.203125,
          98000,
          141991,
          90540.203125,
          null,
          34648.19921875,
          37503,
          69296.5,
          34648.19921875,
          null,
          -34648.19921875,
          -37503,
          -69296.5,
          -34648.19921875,
          null,
          -37503,
          -34648.19921875,
          3.0002899036735098e-12,
          -37503,
          null,
          -37503,
          -38046.3984375,
          -1.80017008244437e-11,
          -37503,
          null,
          90540.203125,
          141991,
          98000,
          90540.203125,
          null,
          90540.203125,
          34648.19921875,
          69296.5,
          90540.203125,
          null,
          -90540.203125,
          -141991,
          -98000,
          -90540.203125,
          null,
          -90540.203125,
          -34648.19921875,
          -69296.5,
          -90540.203125,
          null,
          -34648.19921875,
          -90540.203125,
          -69296.5,
          -34648.19921875,
          null,
          -37503,
          -34648.19921875,
          -69296.5,
          -37503,
          null,
          34648.19921875,
          3.0002899036735098e-12,
          0,
          34648.19921875,
          null,
          34648.19921875,
          90540.203125,
          69296.5,
          34648.19921875,
          null,
          37503,
          34648.19921875,
          69296.5,
          37503,
          null,
          34648.19921875,
          37503,
          3.0002899036735098e-12,
          34648.19921875,
          null,
          37503,
          -9.00085995320099e-12,
          -1.80017008244437e-11,
          37503,
          null,
          34648.19921875,
          -9.00085995320099e-12,
          37503,
          34648.19921875,
          null,
          -9.00085995320099e-12,
          -37503,
          -1.80017008244437e-11,
          -9.00085995320099e-12,
          null,
          -9.00085995320099e-12,
          -34648.19921875,
          -37503,
          -9.00085995320099e-12,
          null,
          -9.00085995320099e-12,
          34648.19921875,
          0,
          -9.00085995320099e-12,
          null,
          -34648.19921875,
          -9.00085995320099e-12,
          0,
          -34648.19921875,
          null,
          -127306,
          -90540.203125,
          -141991,
          -127306,
          null,
          -90540.203125,
          -127306,
          -69296.5,
          -90540.203125,
          null,
          -127306,
          -103945,
          -69296.5,
          -127306,
          null,
          -37503,
          -73500,
          -38046.3984375,
          -37503,
          null,
          -73500,
          -37503,
          -69296.5,
          -73500,
          null,
          -103945,
          -73500,
          -69296.5,
          -103945,
          null,
          49000,
          90540.203125,
          98000,
          49000,
          null,
          90540.203125,
          49000,
          34648.19921875,
          90540.203125,
          null,
          90540.203125,
          49000,
          98000,
          90540.203125,
          null,
          34648.19921875,
          49000,
          90540.203125,
          34648.19921875,
          null,
          34648.19921875,
          49000,
          0,
          34648.19921875,
          null,
          49000,
          34648.19921875,
          0,
          49000,
          null,
          73500,
          37503,
          38046.3984375,
          73500,
          null,
          37503,
          73500,
          69296.5,
          37503,
          null,
          73500,
          103945,
          69296.5,
          73500,
          null,
          90540.203125,
          127306,
          141991,
          90540.203125,
          null,
          127306,
          90540.203125,
          69296.5,
          127306,
          null,
          103945,
          127306,
          69296.5,
          103945,
          null,
          -49000,
          -90540.203125,
          -98000,
          -49000,
          null,
          -90540.203125,
          -49000,
          -34648.19921875,
          -90540.203125,
          null,
          -90540.203125,
          -49000,
          -98000,
          -90540.203125,
          null,
          -34648.19921875,
          -49000,
          -90540.203125,
          -34648.19921875,
          null,
          -34648.19921875,
          -49000,
          0,
          -34648.19921875,
          null,
          -49000,
          -34648.19921875,
          0,
          -49000,
          null,
          -73500,
          -37503,
          -38046.3984375,
          -73500,
          null,
          -37503,
          -73500,
          -69296.5,
          -37503,
          null,
          -73500,
          -103945,
          -69296.5,
          -73500,
          null,
          -90540.203125,
          -127306,
          -141991,
          -90540.203125,
          null,
          -127306,
          -90540.203125,
          -69296.5,
          -127306,
          null,
          -103945,
          -127306,
          -69296.5,
          -103945,
          null,
          6.00056983268704e-12,
          -37503,
          3.0002899036735098e-12,
          6.00056983268704e-12,
          null,
          37503,
          6.00056983268704e-12,
          3.0002899036735098e-12,
          37503,
          null,
          -38046.3984375,
          6.00056983268704e-12,
          9.00085995320099e-12,
          -38046.3984375,
          null,
          -37503,
          6.00056983268704e-12,
          -38046.3984375,
          -37503,
          null,
          6.00056983268704e-12,
          38046.3984375,
          9.00085995320099e-12,
          6.00056983268704e-12,
          null,
          6.00056983268704e-12,
          37503,
          38046.3984375,
          6.00056983268704e-12,
          null,
          127306,
          90540.203125,
          141991,
          127306,
          null,
          90540.203125,
          127306,
          69296.5,
          90540.203125,
          null,
          127306,
          103945,
          69296.5,
          127306,
          null,
          37503,
          73500,
          38046.3984375,
          37503,
          null,
          73500,
          37503,
          69296.5,
          73500,
          null,
          103945,
          73500,
          69296.5,
          103945,
          null
         ],
         "y": [
          -141991,
          -98000,
          -147000,
          -141991,
          null,
          -38046.3984375,
          1.20010997667341e-11,
          1.80017008244437e-11,
          -38046.3984375,
          null,
          38046.3984375,
          -2.400230014742989e-11,
          -3.600340164888749e-11,
          38046.3984375,
          null,
          -98000,
          -141991,
          -147000,
          -98000,
          null,
          -2.400230014742989e-11,
          -38046.3984375,
          -3.600340164888749e-11,
          -2.400230014742989e-11,
          null,
          -90540.203125,
          -98000,
          -141991,
          -90540.203125,
          null,
          1.20010997667341e-11,
          38046.3984375,
          1.80017008244437e-11,
          1.20010997667341e-11,
          null,
          -37503,
          1.20010997667341e-11,
          -38046.3984375,
          -37503,
          null,
          49000,
          34648.19921875,
          0,
          49000,
          null,
          37503,
          -2.400230014742989e-11,
          38046.3984375,
          37503,
          null,
          -34648.19921875,
          -90540.203125,
          -69296.5,
          -34648.19921875,
          null,
          34648.19921875,
          90540.203125,
          69296.5,
          34648.19921875,
          null,
          90540.203125,
          34648.19921875,
          49000,
          90540.203125,
          null,
          -90540.203125,
          -141991,
          -98000,
          -90540.203125,
          null,
          -37503,
          -38046.3984375,
          -2.400230014742989e-11,
          -37503,
          null,
          -37503,
          -34648.19921875,
          -69296.5,
          -37503,
          null,
          37503,
          38046.3984375,
          1.20010997667341e-11,
          37503,
          null,
          37503,
          34648.19921875,
          69296.5,
          37503,
          null,
          -34648.19921875,
          -37503,
          -69296.5,
          -34648.19921875,
          null,
          -90540.203125,
          -34648.19921875,
          -69296.5,
          -90540.203125,
          null,
          34648.19921875,
          49000,
          0,
          34648.19921875,
          null,
          34648.19921875,
          37503,
          69296.5,
          34648.19921875,
          null,
          90540.203125,
          34648.19921875,
          69296.5,
          90540.203125,
          null,
          34648.19921875,
          90540.203125,
          49000,
          34648.19921875,
          null,
          -90540.203125,
          -49000,
          -98000,
          -90540.203125,
          null,
          -34648.19921875,
          -49000,
          -90540.203125,
          -34648.19921875,
          null,
          -49000,
          -90540.203125,
          -98000,
          -49000,
          null,
          -49000,
          -34648.19921875,
          -90540.203125,
          -49000,
          null,
          -49000,
          -34648.19921875,
          0,
          -49000,
          null,
          -34648.19921875,
          -49000,
          0,
          -34648.19921875,
          null,
          -73500,
          -37503,
          -38046.3984375,
          -73500,
          null,
          -37503,
          -73500,
          -69296.5,
          -37503,
          null,
          -73500,
          -103945,
          -69296.5,
          -73500,
          null,
          -90540.203125,
          -127306,
          -141991,
          -90540.203125,
          null,
          -127306,
          -90540.203125,
          -69296.5,
          -127306,
          null,
          -103945,
          -127306,
          -69296.5,
          -103945,
          null,
          -1.20010997667341e-11,
          -37503,
          -2.400230014742989e-11,
          -1.20010997667341e-11,
          null,
          -37503,
          -1.20010997667341e-11,
          -34648.19921875,
          -37503,
          null,
          37503,
          -1.20010997667341e-11,
          -2.400230014742989e-11,
          37503,
          null,
          34648.19921875,
          -1.20010997667341e-11,
          37503,
          34648.19921875,
          null,
          -34648.19921875,
          -1.20010997667341e-11,
          0,
          -34648.19921875,
          null,
          -1.20010997667341e-11,
          34648.19921875,
          0,
          -1.20010997667341e-11,
          null,
          -127306,
          -90540.203125,
          -141991,
          -127306,
          null,
          -90540.203125,
          -127306,
          -69296.5,
          -90540.203125,
          null,
          -127306,
          -103945,
          -69296.5,
          -127306,
          null,
          -37503,
          -73500,
          -38046.3984375,
          -37503,
          null,
          -73500,
          -37503,
          -69296.5,
          -73500,
          null,
          -103945,
          -73500,
          -69296.5,
          -103945,
          null,
          6.00056983268704e-12,
          37503,
          1.20010997667341e-11,
          6.00056983268704e-12,
          null,
          37503,
          6.00056983268704e-12,
          34648.19921875,
          37503,
          null,
          -37503,
          6.00056983268704e-12,
          1.20010997667341e-11,
          -37503,
          null,
          -34648.19921875,
          6.00056983268704e-12,
          -37503,
          -34648.19921875,
          null,
          34648.19921875,
          6.00056983268704e-12,
          0,
          34648.19921875,
          null,
          6.00056983268704e-12,
          -34648.19921875,
          0,
          6.00056983268704e-12,
          null,
          127306,
          90540.203125,
          141991,
          127306,
          null,
          90540.203125,
          127306,
          69296.5,
          90540.203125,
          null,
          127306,
          103945,
          69296.5,
          127306,
          null,
          37503,
          73500,
          38046.3984375,
          37503,
          null,
          73500,
          37503,
          69296.5,
          73500,
          null,
          103945,
          73500,
          69296.5,
          103945,
          null,
          98000,
          90540.203125,
          49000,
          98000,
          null,
          90540.203125,
          98000,
          49000,
          90540.203125,
          null,
          141991,
          98000,
          147000,
          141991,
          null,
          90540.203125,
          98000,
          141991,
          90540.203125,
          null,
          98000,
          141991,
          147000,
          98000,
          null,
          98000,
          90540.203125,
          141991,
          98000,
          null,
          73500,
          37503,
          38046.3984375,
          73500,
          null,
          37503,
          73500,
          69296.5,
          37503,
          null,
          73500,
          103945,
          69296.5,
          73500,
          null,
          90540.203125,
          127306,
          141991,
          90540.203125,
          null,
          127306,
          90540.203125,
          69296.5,
          127306,
          null,
          103945,
          127306,
          69296.5,
          103945,
          null
         ],
         "z": [
          1488.9998779296875,
          1529.6337890625,
          1496.493896484375,
          1488.9998779296875,
          null,
          1502.11376953125,
          1529.308349609375,
          1502.1231689453125,
          1502.11376953125,
          null,
          1492.485595703125,
          1526.896484375,
          1491.909423828125,
          1492.485595703125,
          null,
          1529.6337890625,
          1498.40478515625,
          1496.493896484375,
          1529.6337890625,
          null,
          1526.896484375,
          1491.4288330078125,
          1491.909423828125,
          1526.896484375,
          null,
          1525.2451171875,
          1529.6337890625,
          1488.9998779296875,
          1525.2451171875,
          null,
          1529.308349609375,
          1501.4827880859375,
          1502.1231689453125,
          1529.308349609375,
          null,
          1530.0662841796875,
          1529.308349609375,
          1502.11376953125,
          1530.0662841796875,
          null,
          1505.188232421875,
          1504.7769775390625,
          1473.4237060546875,
          1505.188232421875,
          null,
          1527.7816162109375,
          1526.896484375,
          1492.485595703125,
          1527.7816162109375,
          null,
          1504.894775390625,
          1525.2451171875,
          1525.6478271484375,
          1504.894775390625,
          null,
          1504.7769775390625,
          1530.5335693359375,
          1530.46533203125,
          1504.7769775390625,
          null,
          1530.5335693359375,
          1504.7769775390625,
          1505.188232421875,
          1530.5335693359375,
          null,
          1530.916015625,
          1498.40478515625,
          1529.6337890625,
          1530.916015625,
          null,
          1526.3045654296875,
          1491.4288330078125,
          1526.896484375,
          1526.3045654296875,
          null,
          1526.3045654296875,
          1504.894775390625,
          1525.6478271484375,
          1526.3045654296875,
          null,
          1529.8935546875,
          1501.4827880859375,
          1529.308349609375,
          1529.8935546875,
          null,
          1529.8935546875,
          1504.7769775390625,
          1530.46533203125,
          1529.8935546875,
          null,
          1505.1092529296875,
          1530.0662841796875,
          1530.7808837890625,
          1505.1092529296875,
          null,
          1530.916015625,
          1505.1092529296875,
          1530.7808837890625,
          1530.916015625,
          null,
          1505.357177734375,
          1505.188232421875,
          1473.4237060546875,
          1505.357177734375,
          null,
          1505.357177734375,
          1527.7816162109375,
          1528.453125,
          1505.357177734375,
          null,
          1529.1610107421875,
          1505.357177734375,
          1528.453125,
          1529.1610107421875,
          null,
          1505.357177734375,
          1529.1610107421875,
          1505.188232421875,
          1505.357177734375,
          null,
          1525.2451171875,
          1506.1041259765625,
          1529.6337890625,
          1525.2451171875,
          null,
          1504.894775390625,
          1506.1041259765625,
          1525.2451171875,
          1504.894775390625,
          null,
          1506.1041259765625,
          1530.916015625,
          1529.6337890625,
          1506.1041259765625,
          null,
          1506.1041259765625,
          1505.1092529296875,
          1530.916015625,
          1506.1041259765625,
          null,
          1506.1041259765625,
          1504.894775390625,
          1473.4237060546875,
          1506.1041259765625,
          null,
          1505.1092529296875,
          1506.1041259765625,
          1473.4237060546875,
          1505.1092529296875,
          null,
          1502.5223388671875,
          1530.0662841796875,
          1502.11376953125,
          1502.5223388671875,
          null,
          1530.0662841796875,
          1502.5223388671875,
          1530.7808837890625,
          1530.0662841796875,
          null,
          1502.5223388671875,
          1501.926513671875,
          1530.7808837890625,
          1502.5223388671875,
          null,
          1530.916015625,
          1500.15283203125,
          1498.40478515625,
          1530.916015625,
          null,
          1500.15283203125,
          1530.916015625,
          1530.7808837890625,
          1500.15283203125,
          null,
          1501.926513671875,
          1500.15283203125,
          1530.7808837890625,
          1501.926513671875,
          null,
          1505.59814453125,
          1526.3045654296875,
          1526.896484375,
          1505.59814453125,
          null,
          1526.3045654296875,
          1505.59814453125,
          1504.894775390625,
          1526.3045654296875,
          null,
          1527.7816162109375,
          1505.59814453125,
          1526.896484375,
          1527.7816162109375,
          null,
          1505.357177734375,
          1505.59814453125,
          1527.7816162109375,
          1505.357177734375,
          null,
          1504.894775390625,
          1505.59814453125,
          1473.4237060546875,
          1504.894775390625,
          null,
          1505.59814453125,
          1505.357177734375,
          1473.4237060546875,
          1505.59814453125,
          null,
          1489.492431640625,
          1525.2451171875,
          1488.9998779296875,
          1489.492431640625,
          null,
          1525.2451171875,
          1489.492431640625,
          1525.6478271484375,
          1525.2451171875,
          null,
          1489.492431640625,
          1489.947265625,
          1525.6478271484375,
          1489.492431640625,
          null,
          1526.3045654296875,
          1490.7318115234375,
          1491.4288330078125,
          1526.3045654296875,
          null,
          1490.7318115234375,
          1526.3045654296875,
          1525.6478271484375,
          1490.7318115234375,
          null,
          1489.947265625,
          1490.7318115234375,
          1525.6478271484375,
          1489.947265625,
          null,
          1504.894287109375,
          1529.8935546875,
          1529.308349609375,
          1504.894287109375,
          null,
          1529.8935546875,
          1504.894287109375,
          1504.7769775390625,
          1529.8935546875,
          null,
          1530.0662841796875,
          1504.894287109375,
          1529.308349609375,
          1530.0662841796875,
          null,
          1505.1092529296875,
          1504.894287109375,
          1530.0662841796875,
          1505.1092529296875,
          null,
          1504.7769775390625,
          1504.894287109375,
          1473.4237060546875,
          1504.7769775390625,
          null,
          1504.894287109375,
          1505.1092529296875,
          1473.4237060546875,
          1504.894287109375,
          null,
          1498.2198486328125,
          1530.5335693359375,
          1496.8082275390625,
          1498.2198486328125,
          null,
          1530.5335693359375,
          1498.2198486328125,
          1530.46533203125,
          1530.5335693359375,
          null,
          1498.2198486328125,
          1499.3800048828125,
          1530.46533203125,
          1498.2198486328125,
          null,
          1529.8935546875,
          1500.853515625,
          1501.4827880859375,
          1529.8935546875,
          null,
          1500.853515625,
          1529.8935546875,
          1530.46533203125,
          1500.853515625,
          null,
          1499.3800048828125,
          1500.853515625,
          1530.46533203125,
          1499.3800048828125,
          null,
          1530.0069580078125,
          1530.5335693359375,
          1505.188232421875,
          1530.0069580078125,
          null,
          1529.1610107421875,
          1530.0069580078125,
          1505.188232421875,
          1529.1610107421875,
          null,
          1496.8082275390625,
          1530.0069580078125,
          1495.736572265625,
          1496.8082275390625,
          null,
          1530.5335693359375,
          1530.0069580078125,
          1496.8082275390625,
          1530.5335693359375,
          null,
          1530.0069580078125,
          1494.6583251953125,
          1495.736572265625,
          1530.0069580078125,
          null,
          1530.0069580078125,
          1529.1610107421875,
          1494.6583251953125,
          1530.0069580078125,
          null,
          1492.7818603515625,
          1527.7816162109375,
          1492.485595703125,
          1492.7818603515625,
          null,
          1527.7816162109375,
          1492.7818603515625,
          1528.453125,
          1527.7816162109375,
          null,
          1492.7818603515625,
          1493.452392578125,
          1528.453125,
          1492.7818603515625,
          null,
          1529.1610107421875,
          1493.9193115234375,
          1494.6583251953125,
          1529.1610107421875,
          null,
          1493.9193115234375,
          1529.1610107421875,
          1528.453125,
          1493.9193115234375,
          null,
          1493.452392578125,
          1493.9193115234375,
          1528.453125,
          1493.452392578125,
          null
         ]
        },
        {
         "hoverinfo": "none",
         "marker": {
          "color": [
           1494.364990234375,
           1522.2687174479167
          ],
          "colorscale": [
           [
            0,
            "rgb(31, 119, 180)"
           ],
           [
            1,
            "rgb(255, 127, 14)"
           ]
          ],
          "showscale": true,
          "size": 0.1
         },
         "mode": "markers",
         "showlegend": false,
         "type": "scatter3d",
         "x": [
          -49000
         ],
         "y": [
          6.00056983268704e-12
         ],
         "z": [
          1504.894287109375
         ]
        }
       ],
       "layout": {
        "height": 800,
        "scene": {
         "aspectratio": {
          "x": 1,
          "y": 1,
          "z": 0.5
         },
         "xaxis": {
          "backgroundcolor": "rgb(230, 230, 230)",
          "gridcolor": "rgb(255, 255, 255)",
          "showbackground": true,
          "zerolinecolor": "rgb(255, 255, 255)"
         },
         "yaxis": {
          "backgroundcolor": "rgb(230, 230, 230)",
          "gridcolor": "rgb(255, 255, 255)",
          "showbackground": true,
          "zerolinecolor": "rgb(255, 255, 255)"
         },
         "zaxis": {
          "backgroundcolor": "rgb(230, 230, 230)",
          "gridcolor": "rgb(255, 255, 255)",
          "showbackground": true,
          "zerolinecolor": "rgb(255, 255, 255)"
         }
        },
        "template": {
         "data": {
          "bar": [
           {
            "error_x": {
             "color": "#2a3f5f"
            },
            "error_y": {
             "color": "#2a3f5f"
            },
            "marker": {
             "line": {
              "color": "#E5ECF6",
              "width": 0.5
             }
            },
            "type": "bar"
           }
          ],
          "barpolar": [
           {
            "marker": {
             "line": {
              "color": "#E5ECF6",
              "width": 0.5
             }
            },
            "type": "barpolar"
           }
          ],
          "carpet": [
           {
            "aaxis": {
             "endlinecolor": "#2a3f5f",
             "gridcolor": "white",
             "linecolor": "white",
             "minorgridcolor": "white",
             "startlinecolor": "#2a3f5f"
            },
            "baxis": {
             "endlinecolor": "#2a3f5f",
             "gridcolor": "white",
             "linecolor": "white",
             "minorgridcolor": "white",
             "startlinecolor": "#2a3f5f"
            },
            "type": "carpet"
           }
          ],
          "choropleth": [
           {
            "colorbar": {
             "outlinewidth": 0,
             "ticks": ""
            },
            "type": "choropleth"
           }
          ],
          "contour": [
           {
            "colorbar": {
             "outlinewidth": 0,
             "ticks": ""
            },
            "colorscale": [
             [
              0,
              "#0d0887"
             ],
             [
              0.1111111111111111,
              "#46039f"
             ],
             [
              0.2222222222222222,
              "#7201a8"
             ],
             [
              0.3333333333333333,
              "#9c179e"
             ],
             [
              0.4444444444444444,
              "#bd3786"
             ],
             [
              0.5555555555555556,
              "#d8576b"
             ],
             [
              0.6666666666666666,
              "#ed7953"
             ],
             [
              0.7777777777777778,
              "#fb9f3a"
             ],
             [
              0.8888888888888888,
              "#fdca26"
             ],
             [
              1,
              "#f0f921"
             ]
            ],
            "type": "contour"
           }
          ],
          "contourcarpet": [
           {
            "colorbar": {
             "outlinewidth": 0,
             "ticks": ""
            },
            "type": "contourcarpet"
           }
          ],
          "heatmap": [
           {
            "colorbar": {
             "outlinewidth": 0,
             "ticks": ""
            },
            "colorscale": [
             [
              0,
              "#0d0887"
             ],
             [
              0.1111111111111111,
              "#46039f"
             ],
             [
              0.2222222222222222,
              "#7201a8"
             ],
             [
              0.3333333333333333,
              "#9c179e"
             ],
             [
              0.4444444444444444,
              "#bd3786"
             ],
             [
              0.5555555555555556,
              "#d8576b"
             ],
             [
              0.6666666666666666,
              "#ed7953"
             ],
             [
              0.7777777777777778,
              "#fb9f3a"
             ],
             [
              0.8888888888888888,
              "#fdca26"
             ],
             [
              1,
              "#f0f921"
             ]
            ],
            "type": "heatmap"
           }
          ],
          "heatmapgl": [
           {
            "colorbar": {
             "outlinewidth": 0,
             "ticks": ""
            },
            "colorscale": [
             [
              0,
              "#0d0887"
             ],
             [
              0.1111111111111111,
              "#46039f"
             ],
             [
              0.2222222222222222,
              "#7201a8"
             ],
             [
              0.3333333333333333,
              "#9c179e"
             ],
             [
              0.4444444444444444,
              "#bd3786"
             ],
             [
              0.5555555555555556,
              "#d8576b"
             ],
             [
              0.6666666666666666,
              "#ed7953"
             ],
             [
              0.7777777777777778,
              "#fb9f3a"
             ],
             [
              0.8888888888888888,
              "#fdca26"
             ],
             [
              1,
              "#f0f921"
             ]
            ],
            "type": "heatmapgl"
           }
          ],
          "histogram": [
           {
            "marker": {
             "colorbar": {
              "outlinewidth": 0,
              "ticks": ""
             }
            },
            "type": "histogram"
           }
          ],
          "histogram2d": [
           {
            "colorbar": {
             "outlinewidth": 0,
             "ticks": ""
            },
            "colorscale": [
             [
              0,
              "#0d0887"
             ],
             [
              0.1111111111111111,
              "#46039f"
             ],
             [
              0.2222222222222222,
              "#7201a8"
             ],
             [
              0.3333333333333333,
              "#9c179e"
             ],
             [
              0.4444444444444444,
              "#bd3786"
             ],
             [
              0.5555555555555556,
              "#d8576b"
             ],
             [
              0.6666666666666666,
              "#ed7953"
             ],
             [
              0.7777777777777778,
              "#fb9f3a"
             ],
             [
              0.8888888888888888,
              "#fdca26"
             ],
             [
              1,
              "#f0f921"
             ]
            ],
            "type": "histogram2d"
           }
          ],
          "histogram2dcontour": [
           {
            "colorbar": {
             "outlinewidth": 0,
             "ticks": ""
            },
            "colorscale": [
             [
              0,
              "#0d0887"
             ],
             [
              0.1111111111111111,
              "#46039f"
             ],
             [
              0.2222222222222222,
              "#7201a8"
             ],
             [
              0.3333333333333333,
              "#9c179e"
             ],
             [
              0.4444444444444444,
              "#bd3786"
             ],
             [
              0.5555555555555556,
              "#d8576b"
             ],
             [
              0.6666666666666666,
              "#ed7953"
             ],
             [
              0.7777777777777778,
              "#fb9f3a"
             ],
             [
              0.8888888888888888,
              "#fdca26"
             ],
             [
              1,
              "#f0f921"
             ]
            ],
            "type": "histogram2dcontour"
           }
          ],
          "mesh3d": [
           {
            "colorbar": {
             "outlinewidth": 0,
             "ticks": ""
            },
            "type": "mesh3d"
           }
          ],
          "parcoords": [
           {
            "line": {
             "colorbar": {
              "outlinewidth": 0,
              "ticks": ""
             }
            },
            "type": "parcoords"
           }
          ],
          "pie": [
           {
            "automargin": true,
            "type": "pie"
           }
          ],
          "scatter": [
           {
            "marker": {
             "colorbar": {
              "outlinewidth": 0,
              "ticks": ""
             }
            },
            "type": "scatter"
           }
          ],
          "scatter3d": [
           {
            "line": {
             "colorbar": {
              "outlinewidth": 0,
              "ticks": ""
             }
            },
            "marker": {
             "colorbar": {
              "outlinewidth": 0,
              "ticks": ""
             }
            },
            "type": "scatter3d"
           }
          ],
          "scattercarpet": [
           {
            "marker": {
             "colorbar": {
              "outlinewidth": 0,
              "ticks": ""
             }
            },
            "type": "scattercarpet"
           }
          ],
          "scattergeo": [
           {
            "marker": {
             "colorbar": {
              "outlinewidth": 0,
              "ticks": ""
             }
            },
            "type": "scattergeo"
           }
          ],
          "scattergl": [
           {
            "marker": {
             "colorbar": {
              "outlinewidth": 0,
              "ticks": ""
             }
            },
            "type": "scattergl"
           }
          ],
          "scattermapbox": [
           {
            "marker": {
             "colorbar": {
              "outlinewidth": 0,
              "ticks": ""
             }
            },
            "type": "scattermapbox"
           }
          ],
          "scatterpolar": [
           {
            "marker": {
             "colorbar": {
              "outlinewidth": 0,
              "ticks": ""
             }
            },
            "type": "scatterpolar"
           }
          ],
          "scatterpolargl": [
           {
            "marker": {
             "colorbar": {
              "outlinewidth": 0,
              "ticks": ""
             }
            },
            "type": "scatterpolargl"
           }
          ],
          "scatterternary": [
           {
            "marker": {
             "colorbar": {
              "outlinewidth": 0,
              "ticks": ""
             }
            },
            "type": "scatterternary"
           }
          ],
          "surface": [
           {
            "colorbar": {
             "outlinewidth": 0,
             "ticks": ""
            },
            "colorscale": [
             [
              0,
              "#0d0887"
             ],
             [
              0.1111111111111111,
              "#46039f"
             ],
             [
              0.2222222222222222,
              "#7201a8"
             ],
             [
              0.3333333333333333,
              "#9c179e"
             ],
             [
              0.4444444444444444,
              "#bd3786"
             ],
             [
              0.5555555555555556,
              "#d8576b"
             ],
             [
              0.6666666666666666,
              "#ed7953"
             ],
             [
              0.7777777777777778,
              "#fb9f3a"
             ],
             [
              0.8888888888888888,
              "#fdca26"
             ],
             [
              1,
              "#f0f921"
             ]
            ],
            "type": "surface"
           }
          ],
          "table": [
           {
            "cells": {
             "fill": {
              "color": "#EBF0F8"
             },
             "line": {
              "color": "white"
             }
            },
            "header": {
             "fill": {
              "color": "#C8D4E3"
             },
             "line": {
              "color": "white"
             }
            },
            "type": "table"
           }
          ]
         },
         "layout": {
          "annotationdefaults": {
           "arrowcolor": "#2a3f5f",
           "arrowhead": 0,
           "arrowwidth": 1
          },
          "coloraxis": {
           "colorbar": {
            "outlinewidth": 0,
            "ticks": ""
           }
          },
          "colorscale": {
           "diverging": [
            [
             0,
             "#8e0152"
            ],
            [
             0.1,
             "#c51b7d"
            ],
            [
             0.2,
             "#de77ae"
            ],
            [
             0.3,
             "#f1b6da"
            ],
            [
             0.4,
             "#fde0ef"
            ],
            [
             0.5,
             "#f7f7f7"
            ],
            [
             0.6,
             "#e6f5d0"
            ],
            [
             0.7,
             "#b8e186"
            ],
            [
             0.8,
             "#7fbc41"
            ],
            [
             0.9,
             "#4d9221"
            ],
            [
             1,
             "#276419"
            ]
           ],
           "sequential": [
            [
             0,
             "#0d0887"
            ],
            [
             0.1111111111111111,
             "#46039f"
            ],
            [
             0.2222222222222222,
             "#7201a8"
            ],
            [
             0.3333333333333333,
             "#9c179e"
            ],
            [
             0.4444444444444444,
             "#bd3786"
            ],
            [
             0.5555555555555556,
             "#d8576b"
            ],
            [
             0.6666666666666666,
             "#ed7953"
            ],
            [
             0.7777777777777778,
             "#fb9f3a"
            ],
            [
             0.8888888888888888,
             "#fdca26"
            ],
            [
             1,
             "#f0f921"
            ]
           ],
           "sequentialminus": [
            [
             0,
             "#0d0887"
            ],
            [
             0.1111111111111111,
             "#46039f"
            ],
            [
             0.2222222222222222,
             "#7201a8"
            ],
            [
             0.3333333333333333,
             "#9c179e"
            ],
            [
             0.4444444444444444,
             "#bd3786"
            ],
            [
             0.5555555555555556,
             "#d8576b"
            ],
            [
             0.6666666666666666,
             "#ed7953"
            ],
            [
             0.7777777777777778,
             "#fb9f3a"
            ],
            [
             0.8888888888888888,
             "#fdca26"
            ],
            [
             1,
             "#f0f921"
            ]
           ]
          },
          "colorway": [
           "#636efa",
           "#EF553B",
           "#00cc96",
           "#ab63fa",
           "#FFA15A",
           "#19d3f3",
           "#FF6692",
           "#B6E880",
           "#FF97FF",
           "#FECB52"
          ],
          "font": {
           "color": "#2a3f5f"
          },
          "geo": {
           "bgcolor": "white",
           "lakecolor": "white",
           "landcolor": "#E5ECF6",
           "showlakes": true,
           "showland": true,
           "subunitcolor": "white"
          },
          "hoverlabel": {
           "align": "left"
          },
          "hovermode": "closest",
          "mapbox": {
           "style": "light"
          },
          "paper_bgcolor": "white",
          "plot_bgcolor": "#E5ECF6",
          "polar": {
           "angularaxis": {
            "gridcolor": "white",
            "linecolor": "white",
            "ticks": ""
           },
           "bgcolor": "#E5ECF6",
           "radialaxis": {
            "gridcolor": "white",
            "linecolor": "white",
            "ticks": ""
           }
          },
          "scene": {
           "xaxis": {
            "backgroundcolor": "#E5ECF6",
            "gridcolor": "white",
            "gridwidth": 2,
            "linecolor": "white",
            "showbackground": true,
            "ticks": "",
            "zerolinecolor": "white"
           },
           "yaxis": {
            "backgroundcolor": "#E5ECF6",
            "gridcolor": "white",
            "gridwidth": 2,
            "linecolor": "white",
            "showbackground": true,
            "ticks": "",
            "zerolinecolor": "white"
           },
           "zaxis": {
            "backgroundcolor": "#E5ECF6",
            "gridcolor": "white",
            "gridwidth": 2,
            "linecolor": "white",
            "showbackground": true,
            "ticks": "",
            "zerolinecolor": "white"
           }
          },
          "shapedefaults": {
           "line": {
            "color": "#2a3f5f"
           }
          },
          "ternary": {
           "aaxis": {
            "gridcolor": "white",
            "linecolor": "white",
            "ticks": ""
           },
           "baxis": {
            "gridcolor": "white",
            "linecolor": "white",
            "ticks": ""
           },
           "bgcolor": "#E5ECF6",
           "caxis": {
            "gridcolor": "white",
            "linecolor": "white",
            "ticks": ""
           }
          },
          "title": {
           "x": 0.05
          },
          "xaxis": {
           "automargin": true,
           "gridcolor": "white",
           "linecolor": "white",
           "ticks": "",
           "title": {
            "standoff": 15
           },
           "zerolinecolor": "white",
           "zerolinewidth": 2
          },
          "yaxis": {
           "automargin": true,
           "gridcolor": "white",
           "linecolor": "white",
           "ticks": "",
           "title": {
            "standoff": 15
           },
           "zerolinecolor": "white",
           "zerolinewidth": 2
          }
         }
        },
        "title": {
         "text": "wafare"
        },
        "width": 800
       }
      },
      "text/html": [
       "<div>\n",
       "        \n",
       "        \n",
       "            <div id=\"823a66c8-771a-459c-a11e-ddc0402c4aeb\" class=\"plotly-graph-div\" style=\"height:800px; width:800px;\"></div>\n",
       "            <script type=\"text/javascript\">\n",
       "                require([\"plotly\"], function(Plotly) {\n",
       "                    window.PLOTLYENV=window.PLOTLYENV || {};\n",
       "                    \n",
       "                if (document.getElementById(\"823a66c8-771a-459c-a11e-ddc0402c4aeb\")) {\n",
       "                    Plotly.newPlot(\n",
       "                        '823a66c8-771a-459c-a11e-ddc0402c4aeb',\n",
       "                        [{\"facecolor\": [\"rgb(117, 122, 116)\", \"rgb(166, 124, 80)\", \"rgb(106, 122, 124)\", \"rgb(142, 123, 98)\", \"rgb(104, 122, 126)\", \"rgb(194, 125, 59)\", \"rgb(164, 124, 81)\", \"rgb(241, 126, 25)\", \"rgb(32, 119, 179)\", \"rgb(202, 125, 53)\", \"rgb(226, 126, 36)\", \"rgb(252, 127, 16)\", \"rgb(185, 124, 66)\", \"rgb(234, 126, 30)\", \"rgb(196, 125, 58)\", \"rgb(228, 126, 34)\", \"rgb(239, 126, 26)\", \"rgb(251, 127, 17)\", \"rgb(253, 127, 16)\", \"rgb(255, 127, 14)\", \"rgb(33, 119, 178)\", \"rgb(241, 127, 24)\", \"rgb(245, 127, 22)\", \"rgb(182, 124, 68)\", \"rgb(239, 126, 26)\", \"rgb(173, 124, 75)\", \"rgb(255, 127, 14)\", \"rgb(189, 125, 63)\", \"rgb(35, 119, 177)\", \"rgb(35, 119, 177)\", \"rgb(169, 124, 78)\", \"rgb(246, 127, 21)\", \"rgb(171, 124, 77)\", \"rgb(155, 123, 88)\", \"rgb(242, 127, 24)\", \"rgb(164, 124, 81)\", \"rgb(234, 126, 30)\", \"rgb(175, 124, 74)\", \"rgb(238, 126, 27)\", \"rgb(180, 124, 70)\", \"rgb(33, 119, 178)\", \"rgb(34, 119, 177)\", \"rgb(86, 121, 139)\", \"rgb(184, 124, 66)\", \"rgb(90, 121, 136)\", \"rgb(99, 121, 130)\", \"rgb(190, 125, 62)\", \"rgb(93, 121, 134)\", \"rgb(248, 127, 19)\", \"rgb(182, 124, 68)\", \"rgb(248, 127, 19)\", \"rgb(183, 124, 67)\", \"rgb(31, 119, 180)\", \"rgb(32, 119, 179)\", \"rgb(145, 123, 96)\", \"rgb(235, 126, 29)\", \"rgb(151, 123, 91)\", \"rgb(162, 124, 83)\", \"rgb(240, 126, 25)\", \"rgb(158, 124, 86)\", \"rgb(252, 127, 16)\", \"rgb(248, 127, 19)\", \"rgb(137, 123, 102)\", \"rgb(230, 126, 33)\", \"rgb(131, 123, 106)\", \"rgb(220, 126, 40)\", \"rgb(111, 122, 121)\", \"rgb(207, 125, 49)\", \"rgb(116, 122, 117)\", \"rgb(124, 122, 111)\", \"rgb(214, 126, 44)\", \"rgb(119, 122, 115)\"], \"i\": [38, 32, 44, 17, 22, 18, 13, 14, 2, 19, 6, 3, 10, 16, 21, 21, 12, 12, 4, 16, 8, 8, 24, 8, 18, 6, 5, 5, 5, 4, 33, 14, 33, 16, 35, 34, 7, 21, 19, 8, 6, 7, 39, 18, 39, 21, 41, 40, 0, 12, 14, 4, 3, 0, 27, 10, 27, 12, 29, 28, 9, 24, 26, 10, 9, 9, 45, 19, 45, 24, 47, 46], \"j\": [17, 13, 22, 36, 42, 17, 30, 13, 3, 22, 18, 10, 3, 36, 42, 6, 30, 3, 14, 4, 2, 19, 8, 24, 5, 5, 16, 4, 6, 5, 14, 33, 34, 35, 16, 35, 21, 7, 7, 7, 7, 8, 18, 39, 40, 41, 21, 41, 12, 0, 0, 0, 0, 4, 10, 27, 28, 29, 12, 29, 10, 9, 9, 9, 48, 24, 19, 45, 46, 47, 24, 47], \"k\": [37, 31, 43, 37, 43, 38, 31, 32, 1, 44, 20, 11, 2, 17, 22, 20, 13, 11, 15, 15, 1, 23, 23, 2, 17, 18, 17, 16, 1, 1, 32, 15, 15, 36, 15, 15, 22, 6, 22, 19, 1, 1, 38, 20, 20, 42, 20, 20, 13, 3, 13, 14, 1, 1, 26, 11, 11, 30, 11, 11, 2, 2, 25, 26, 25, 48, 44, 23, 23, 48, 23, 23], \"name\": \"\", \"type\": \"mesh3d\", \"x\": [-49000.0, 0.0, 3.0002899036735098e-12, -34648.19921875, -34648.19921875, -9.00085995320099e-12, 34648.19921875, 49000.0, 34648.19921875, 6.00056983268704e-12, -37503.0, -69296.5, -90540.203125, -98000.0, -90540.203125, -69296.5, -37503.0, -1.80017008244437e-11, 37503.0, 90540.203125, 69296.5, 90540.203125, 98000.0, 69296.5, 37503.0, 9.00085995320099e-12, -38046.3984375, -73500.0, -103945.0, -127306.0, -141991.0, -147000.0, -141991.0, -127306.0, -103945.0, -73500.0, -38046.3984375, -2.70025998089229e-11, 38046.3984375, 73500.0, 103945.0, 127306.0, 141991.0, 147000.0, 141991.0, 127306.0, 103945.0, 73500.0, 38046.3984375], \"y\": [6.00056983268704e-12, 0.0, 49000.0, 34648.19921875, -34648.19921875, -49000.0, -34648.19921875, -1.20010997667341e-11, 34648.19921875, 98000.0, 90540.203125, 69296.5, 37503.0, 1.20010997667341e-11, -37503.0, -69296.5, -90540.203125, -98000.0, -90540.203125, 37503.0, -69296.5, -37503.0, -2.400230014742989e-11, 69296.5, 90540.203125, 147000.0, 141991.0, 127306.0, 103945.0, 73500.0, 38046.3984375, 1.80017008244437e-11, -38046.3984375, -73500.0, -103945.0, -127306.0, -141991.0, -147000.0, -141991.0, -127306.0, -103945.0, -73500.0, -38046.3984375, -3.600340164888749e-11, 38046.3984375, 73500.0, 103945.0, 127306.0, 141991.0], \"z\": [1504.894287109375, 1473.4237060546875, 1505.188232421875, 1504.7769775390625, 1505.1092529296875, 1506.1041259765625, 1504.894775390625, 1505.59814453125, 1505.357177734375, 1530.0069580078125, 1530.5335693359375, 1530.46533203125, 1529.8935546875, 1529.308349609375, 1530.0662841796875, 1530.7808837890625, 1530.916015625, 1529.6337890625, 1525.2451171875, 1527.7816162109375, 1525.6478271484375, 1526.3045654296875, 1526.896484375, 1528.453125, 1529.1610107421875, 1495.736572265625, 1496.8082275390625, 1498.2198486328125, 1499.3800048828125, 1500.853515625, 1501.4827880859375, 1502.1231689453125, 1502.11376953125, 1502.5223388671875, 1501.926513671875, 1500.15283203125, 1498.40478515625, 1496.493896484375, 1488.9998779296875, 1489.492431640625, 1489.947265625, 1490.7318115234375, 1491.4288330078125, 1491.909423828125, 1492.485595703125, 1492.7818603515625, 1493.452392578125, 1493.9193115234375, 1494.6583251953125]}, {\"line\": {\"color\": \"rgb(50, 50, 50)\", \"width\": 1.5}, \"mode\": \"lines\", \"showlegend\": false, \"type\": \"scatter3d\", \"x\": [38046.3984375, -1.80017008244437e-11, -2.70025998089229e-11, 38046.3984375, null, -141991.0, -98000.0, -147000.0, -141991.0, null, 141991.0, 98000.0, 147000.0, 141991.0, null, -1.80017008244437e-11, -38046.3984375, -2.70025998089229e-11, -1.80017008244437e-11, null, 98000.0, 141991.0, 147000.0, 98000.0, null, 37503.0, -1.80017008244437e-11, 38046.3984375, 37503.0, null, -98000.0, -141991.0, -147000.0, -98000.0, null, -90540.203125, -98000.0, -141991.0, -90540.203125, null, 3.0002899036735098e-12, -34648.19921875, 0.0, 3.0002899036735098e-12, null, 90540.203125, 98000.0, 141991.0, 90540.203125, null, 34648.19921875, 37503.0, 69296.5, 34648.19921875, null, -34648.19921875, -37503.0, -69296.5, -34648.19921875, null, -37503.0, -34648.19921875, 3.0002899036735098e-12, -37503.0, null, -37503.0, -38046.3984375, -1.80017008244437e-11, -37503.0, null, 90540.203125, 141991.0, 98000.0, 90540.203125, null, 90540.203125, 34648.19921875, 69296.5, 90540.203125, null, -90540.203125, -141991.0, -98000.0, -90540.203125, null, -90540.203125, -34648.19921875, -69296.5, -90540.203125, null, -34648.19921875, -90540.203125, -69296.5, -34648.19921875, null, -37503.0, -34648.19921875, -69296.5, -37503.0, null, 34648.19921875, 3.0002899036735098e-12, 0.0, 34648.19921875, null, 34648.19921875, 90540.203125, 69296.5, 34648.19921875, null, 37503.0, 34648.19921875, 69296.5, 37503.0, null, 34648.19921875, 37503.0, 3.0002899036735098e-12, 34648.19921875, null, 37503.0, -9.00085995320099e-12, -1.80017008244437e-11, 37503.0, null, 34648.19921875, -9.00085995320099e-12, 37503.0, 34648.19921875, null, -9.00085995320099e-12, -37503.0, -1.80017008244437e-11, -9.00085995320099e-12, null, -9.00085995320099e-12, -34648.19921875, -37503.0, -9.00085995320099e-12, null, -9.00085995320099e-12, 34648.19921875, 0.0, -9.00085995320099e-12, null, -34648.19921875, -9.00085995320099e-12, 0.0, -34648.19921875, null, -127306.0, -90540.203125, -141991.0, -127306.0, null, -90540.203125, -127306.0, -69296.5, -90540.203125, null, -127306.0, -103945.0, -69296.5, -127306.0, null, -37503.0, -73500.0, -38046.3984375, -37503.0, null, -73500.0, -37503.0, -69296.5, -73500.0, null, -103945.0, -73500.0, -69296.5, -103945.0, null, 49000.0, 90540.203125, 98000.0, 49000.0, null, 90540.203125, 49000.0, 34648.19921875, 90540.203125, null, 90540.203125, 49000.0, 98000.0, 90540.203125, null, 34648.19921875, 49000.0, 90540.203125, 34648.19921875, null, 34648.19921875, 49000.0, 0.0, 34648.19921875, null, 49000.0, 34648.19921875, 0.0, 49000.0, null, 73500.0, 37503.0, 38046.3984375, 73500.0, null, 37503.0, 73500.0, 69296.5, 37503.0, null, 73500.0, 103945.0, 69296.5, 73500.0, null, 90540.203125, 127306.0, 141991.0, 90540.203125, null, 127306.0, 90540.203125, 69296.5, 127306.0, null, 103945.0, 127306.0, 69296.5, 103945.0, null, -49000.0, -90540.203125, -98000.0, -49000.0, null, -90540.203125, -49000.0, -34648.19921875, -90540.203125, null, -90540.203125, -49000.0, -98000.0, -90540.203125, null, -34648.19921875, -49000.0, -90540.203125, -34648.19921875, null, -34648.19921875, -49000.0, 0.0, -34648.19921875, null, -49000.0, -34648.19921875, 0.0, -49000.0, null, -73500.0, -37503.0, -38046.3984375, -73500.0, null, -37503.0, -73500.0, -69296.5, -37503.0, null, -73500.0, -103945.0, -69296.5, -73500.0, null, -90540.203125, -127306.0, -141991.0, -90540.203125, null, -127306.0, -90540.203125, -69296.5, -127306.0, null, -103945.0, -127306.0, -69296.5, -103945.0, null, 6.00056983268704e-12, -37503.0, 3.0002899036735098e-12, 6.00056983268704e-12, null, 37503.0, 6.00056983268704e-12, 3.0002899036735098e-12, 37503.0, null, -38046.3984375, 6.00056983268704e-12, 9.00085995320099e-12, -38046.3984375, null, -37503.0, 6.00056983268704e-12, -38046.3984375, -37503.0, null, 6.00056983268704e-12, 38046.3984375, 9.00085995320099e-12, 6.00056983268704e-12, null, 6.00056983268704e-12, 37503.0, 38046.3984375, 6.00056983268704e-12, null, 127306.0, 90540.203125, 141991.0, 127306.0, null, 90540.203125, 127306.0, 69296.5, 90540.203125, null, 127306.0, 103945.0, 69296.5, 127306.0, null, 37503.0, 73500.0, 38046.3984375, 37503.0, null, 73500.0, 37503.0, 69296.5, 73500.0, null, 103945.0, 73500.0, 69296.5, 103945.0, null], \"y\": [-141991.0, -98000.0, -147000.0, -141991.0, null, -38046.3984375, 1.20010997667341e-11, 1.80017008244437e-11, -38046.3984375, null, 38046.3984375, -2.400230014742989e-11, -3.600340164888749e-11, 38046.3984375, null, -98000.0, -141991.0, -147000.0, -98000.0, null, -2.400230014742989e-11, -38046.3984375, -3.600340164888749e-11, -2.400230014742989e-11, null, -90540.203125, -98000.0, -141991.0, -90540.203125, null, 1.20010997667341e-11, 38046.3984375, 1.80017008244437e-11, 1.20010997667341e-11, null, -37503.0, 1.20010997667341e-11, -38046.3984375, -37503.0, null, 49000.0, 34648.19921875, 0.0, 49000.0, null, 37503.0, -2.400230014742989e-11, 38046.3984375, 37503.0, null, -34648.19921875, -90540.203125, -69296.5, -34648.19921875, null, 34648.19921875, 90540.203125, 69296.5, 34648.19921875, null, 90540.203125, 34648.19921875, 49000.0, 90540.203125, null, -90540.203125, -141991.0, -98000.0, -90540.203125, null, -37503.0, -38046.3984375, -2.400230014742989e-11, -37503.0, null, -37503.0, -34648.19921875, -69296.5, -37503.0, null, 37503.0, 38046.3984375, 1.20010997667341e-11, 37503.0, null, 37503.0, 34648.19921875, 69296.5, 37503.0, null, -34648.19921875, -37503.0, -69296.5, -34648.19921875, null, -90540.203125, -34648.19921875, -69296.5, -90540.203125, null, 34648.19921875, 49000.0, 0.0, 34648.19921875, null, 34648.19921875, 37503.0, 69296.5, 34648.19921875, null, 90540.203125, 34648.19921875, 69296.5, 90540.203125, null, 34648.19921875, 90540.203125, 49000.0, 34648.19921875, null, -90540.203125, -49000.0, -98000.0, -90540.203125, null, -34648.19921875, -49000.0, -90540.203125, -34648.19921875, null, -49000.0, -90540.203125, -98000.0, -49000.0, null, -49000.0, -34648.19921875, -90540.203125, -49000.0, null, -49000.0, -34648.19921875, 0.0, -49000.0, null, -34648.19921875, -49000.0, 0.0, -34648.19921875, null, -73500.0, -37503.0, -38046.3984375, -73500.0, null, -37503.0, -73500.0, -69296.5, -37503.0, null, -73500.0, -103945.0, -69296.5, -73500.0, null, -90540.203125, -127306.0, -141991.0, -90540.203125, null, -127306.0, -90540.203125, -69296.5, -127306.0, null, -103945.0, -127306.0, -69296.5, -103945.0, null, -1.20010997667341e-11, -37503.0, -2.400230014742989e-11, -1.20010997667341e-11, null, -37503.0, -1.20010997667341e-11, -34648.19921875, -37503.0, null, 37503.0, -1.20010997667341e-11, -2.400230014742989e-11, 37503.0, null, 34648.19921875, -1.20010997667341e-11, 37503.0, 34648.19921875, null, -34648.19921875, -1.20010997667341e-11, 0.0, -34648.19921875, null, -1.20010997667341e-11, 34648.19921875, 0.0, -1.20010997667341e-11, null, -127306.0, -90540.203125, -141991.0, -127306.0, null, -90540.203125, -127306.0, -69296.5, -90540.203125, null, -127306.0, -103945.0, -69296.5, -127306.0, null, -37503.0, -73500.0, -38046.3984375, -37503.0, null, -73500.0, -37503.0, -69296.5, -73500.0, null, -103945.0, -73500.0, -69296.5, -103945.0, null, 6.00056983268704e-12, 37503.0, 1.20010997667341e-11, 6.00056983268704e-12, null, 37503.0, 6.00056983268704e-12, 34648.19921875, 37503.0, null, -37503.0, 6.00056983268704e-12, 1.20010997667341e-11, -37503.0, null, -34648.19921875, 6.00056983268704e-12, -37503.0, -34648.19921875, null, 34648.19921875, 6.00056983268704e-12, 0.0, 34648.19921875, null, 6.00056983268704e-12, -34648.19921875, 0.0, 6.00056983268704e-12, null, 127306.0, 90540.203125, 141991.0, 127306.0, null, 90540.203125, 127306.0, 69296.5, 90540.203125, null, 127306.0, 103945.0, 69296.5, 127306.0, null, 37503.0, 73500.0, 38046.3984375, 37503.0, null, 73500.0, 37503.0, 69296.5, 73500.0, null, 103945.0, 73500.0, 69296.5, 103945.0, null, 98000.0, 90540.203125, 49000.0, 98000.0, null, 90540.203125, 98000.0, 49000.0, 90540.203125, null, 141991.0, 98000.0, 147000.0, 141991.0, null, 90540.203125, 98000.0, 141991.0, 90540.203125, null, 98000.0, 141991.0, 147000.0, 98000.0, null, 98000.0, 90540.203125, 141991.0, 98000.0, null, 73500.0, 37503.0, 38046.3984375, 73500.0, null, 37503.0, 73500.0, 69296.5, 37503.0, null, 73500.0, 103945.0, 69296.5, 73500.0, null, 90540.203125, 127306.0, 141991.0, 90540.203125, null, 127306.0, 90540.203125, 69296.5, 127306.0, null, 103945.0, 127306.0, 69296.5, 103945.0, null], \"z\": [1488.9998779296875, 1529.6337890625, 1496.493896484375, 1488.9998779296875, null, 1502.11376953125, 1529.308349609375, 1502.1231689453125, 1502.11376953125, null, 1492.485595703125, 1526.896484375, 1491.909423828125, 1492.485595703125, null, 1529.6337890625, 1498.40478515625, 1496.493896484375, 1529.6337890625, null, 1526.896484375, 1491.4288330078125, 1491.909423828125, 1526.896484375, null, 1525.2451171875, 1529.6337890625, 1488.9998779296875, 1525.2451171875, null, 1529.308349609375, 1501.4827880859375, 1502.1231689453125, 1529.308349609375, null, 1530.0662841796875, 1529.308349609375, 1502.11376953125, 1530.0662841796875, null, 1505.188232421875, 1504.7769775390625, 1473.4237060546875, 1505.188232421875, null, 1527.7816162109375, 1526.896484375, 1492.485595703125, 1527.7816162109375, null, 1504.894775390625, 1525.2451171875, 1525.6478271484375, 1504.894775390625, null, 1504.7769775390625, 1530.5335693359375, 1530.46533203125, 1504.7769775390625, null, 1530.5335693359375, 1504.7769775390625, 1505.188232421875, 1530.5335693359375, null, 1530.916015625, 1498.40478515625, 1529.6337890625, 1530.916015625, null, 1526.3045654296875, 1491.4288330078125, 1526.896484375, 1526.3045654296875, null, 1526.3045654296875, 1504.894775390625, 1525.6478271484375, 1526.3045654296875, null, 1529.8935546875, 1501.4827880859375, 1529.308349609375, 1529.8935546875, null, 1529.8935546875, 1504.7769775390625, 1530.46533203125, 1529.8935546875, null, 1505.1092529296875, 1530.0662841796875, 1530.7808837890625, 1505.1092529296875, null, 1530.916015625, 1505.1092529296875, 1530.7808837890625, 1530.916015625, null, 1505.357177734375, 1505.188232421875, 1473.4237060546875, 1505.357177734375, null, 1505.357177734375, 1527.7816162109375, 1528.453125, 1505.357177734375, null, 1529.1610107421875, 1505.357177734375, 1528.453125, 1529.1610107421875, null, 1505.357177734375, 1529.1610107421875, 1505.188232421875, 1505.357177734375, null, 1525.2451171875, 1506.1041259765625, 1529.6337890625, 1525.2451171875, null, 1504.894775390625, 1506.1041259765625, 1525.2451171875, 1504.894775390625, null, 1506.1041259765625, 1530.916015625, 1529.6337890625, 1506.1041259765625, null, 1506.1041259765625, 1505.1092529296875, 1530.916015625, 1506.1041259765625, null, 1506.1041259765625, 1504.894775390625, 1473.4237060546875, 1506.1041259765625, null, 1505.1092529296875, 1506.1041259765625, 1473.4237060546875, 1505.1092529296875, null, 1502.5223388671875, 1530.0662841796875, 1502.11376953125, 1502.5223388671875, null, 1530.0662841796875, 1502.5223388671875, 1530.7808837890625, 1530.0662841796875, null, 1502.5223388671875, 1501.926513671875, 1530.7808837890625, 1502.5223388671875, null, 1530.916015625, 1500.15283203125, 1498.40478515625, 1530.916015625, null, 1500.15283203125, 1530.916015625, 1530.7808837890625, 1500.15283203125, null, 1501.926513671875, 1500.15283203125, 1530.7808837890625, 1501.926513671875, null, 1505.59814453125, 1526.3045654296875, 1526.896484375, 1505.59814453125, null, 1526.3045654296875, 1505.59814453125, 1504.894775390625, 1526.3045654296875, null, 1527.7816162109375, 1505.59814453125, 1526.896484375, 1527.7816162109375, null, 1505.357177734375, 1505.59814453125, 1527.7816162109375, 1505.357177734375, null, 1504.894775390625, 1505.59814453125, 1473.4237060546875, 1504.894775390625, null, 1505.59814453125, 1505.357177734375, 1473.4237060546875, 1505.59814453125, null, 1489.492431640625, 1525.2451171875, 1488.9998779296875, 1489.492431640625, null, 1525.2451171875, 1489.492431640625, 1525.6478271484375, 1525.2451171875, null, 1489.492431640625, 1489.947265625, 1525.6478271484375, 1489.492431640625, null, 1526.3045654296875, 1490.7318115234375, 1491.4288330078125, 1526.3045654296875, null, 1490.7318115234375, 1526.3045654296875, 1525.6478271484375, 1490.7318115234375, null, 1489.947265625, 1490.7318115234375, 1525.6478271484375, 1489.947265625, null, 1504.894287109375, 1529.8935546875, 1529.308349609375, 1504.894287109375, null, 1529.8935546875, 1504.894287109375, 1504.7769775390625, 1529.8935546875, null, 1530.0662841796875, 1504.894287109375, 1529.308349609375, 1530.0662841796875, null, 1505.1092529296875, 1504.894287109375, 1530.0662841796875, 1505.1092529296875, null, 1504.7769775390625, 1504.894287109375, 1473.4237060546875, 1504.7769775390625, null, 1504.894287109375, 1505.1092529296875, 1473.4237060546875, 1504.894287109375, null, 1498.2198486328125, 1530.5335693359375, 1496.8082275390625, 1498.2198486328125, null, 1530.5335693359375, 1498.2198486328125, 1530.46533203125, 1530.5335693359375, null, 1498.2198486328125, 1499.3800048828125, 1530.46533203125, 1498.2198486328125, null, 1529.8935546875, 1500.853515625, 1501.4827880859375, 1529.8935546875, null, 1500.853515625, 1529.8935546875, 1530.46533203125, 1500.853515625, null, 1499.3800048828125, 1500.853515625, 1530.46533203125, 1499.3800048828125, null, 1530.0069580078125, 1530.5335693359375, 1505.188232421875, 1530.0069580078125, null, 1529.1610107421875, 1530.0069580078125, 1505.188232421875, 1529.1610107421875, null, 1496.8082275390625, 1530.0069580078125, 1495.736572265625, 1496.8082275390625, null, 1530.5335693359375, 1530.0069580078125, 1496.8082275390625, 1530.5335693359375, null, 1530.0069580078125, 1494.6583251953125, 1495.736572265625, 1530.0069580078125, null, 1530.0069580078125, 1529.1610107421875, 1494.6583251953125, 1530.0069580078125, null, 1492.7818603515625, 1527.7816162109375, 1492.485595703125, 1492.7818603515625, null, 1527.7816162109375, 1492.7818603515625, 1528.453125, 1527.7816162109375, null, 1492.7818603515625, 1493.452392578125, 1528.453125, 1492.7818603515625, null, 1529.1610107421875, 1493.9193115234375, 1494.6583251953125, 1529.1610107421875, null, 1493.9193115234375, 1529.1610107421875, 1528.453125, 1493.9193115234375, null, 1493.452392578125, 1493.9193115234375, 1528.453125, 1493.452392578125, null]}, {\"hoverinfo\": \"none\", \"marker\": {\"color\": [1494.364990234375, 1522.2687174479167], \"colorscale\": [[0.0, \"rgb(31, 119, 180)\"], [1.0, \"rgb(255, 127, 14)\"]], \"showscale\": true, \"size\": 0.1}, \"mode\": \"markers\", \"showlegend\": false, \"type\": \"scatter3d\", \"x\": [-49000.0], \"y\": [6.00056983268704e-12], \"z\": [1504.894287109375]}],\n",
       "                        {\"height\": 800, \"scene\": {\"aspectratio\": {\"x\": 1, \"y\": 1, \"z\": 0.5}, \"xaxis\": {\"backgroundcolor\": \"rgb(230, 230, 230)\", \"gridcolor\": \"rgb(255, 255, 255)\", \"showbackground\": true, \"zerolinecolor\": \"rgb(255, 255, 255)\"}, \"yaxis\": {\"backgroundcolor\": \"rgb(230, 230, 230)\", \"gridcolor\": \"rgb(255, 255, 255)\", \"showbackground\": true, \"zerolinecolor\": \"rgb(255, 255, 255)\"}, \"zaxis\": {\"backgroundcolor\": \"rgb(230, 230, 230)\", \"gridcolor\": \"rgb(255, 255, 255)\", \"showbackground\": true, \"zerolinecolor\": \"rgb(255, 255, 255)\"}}, \"template\": {\"data\": {\"bar\": [{\"error_x\": {\"color\": \"#2a3f5f\"}, \"error_y\": {\"color\": \"#2a3f5f\"}, \"marker\": {\"line\": {\"color\": \"#E5ECF6\", \"width\": 0.5}}, \"type\": \"bar\"}], \"barpolar\": [{\"marker\": {\"line\": {\"color\": \"#E5ECF6\", \"width\": 0.5}}, \"type\": \"barpolar\"}], \"carpet\": [{\"aaxis\": {\"endlinecolor\": \"#2a3f5f\", \"gridcolor\": \"white\", \"linecolor\": \"white\", \"minorgridcolor\": \"white\", \"startlinecolor\": \"#2a3f5f\"}, \"baxis\": {\"endlinecolor\": \"#2a3f5f\", \"gridcolor\": \"white\", \"linecolor\": \"white\", \"minorgridcolor\": \"white\", \"startlinecolor\": \"#2a3f5f\"}, \"type\": \"carpet\"}], \"choropleth\": [{\"colorbar\": {\"outlinewidth\": 0, \"ticks\": \"\"}, \"type\": \"choropleth\"}], \"contour\": [{\"colorbar\": {\"outlinewidth\": 0, \"ticks\": \"\"}, \"colorscale\": [[0.0, \"#0d0887\"], [0.1111111111111111, \"#46039f\"], [0.2222222222222222, \"#7201a8\"], [0.3333333333333333, \"#9c179e\"], [0.4444444444444444, \"#bd3786\"], [0.5555555555555556, \"#d8576b\"], [0.6666666666666666, \"#ed7953\"], [0.7777777777777778, \"#fb9f3a\"], [0.8888888888888888, \"#fdca26\"], [1.0, \"#f0f921\"]], \"type\": \"contour\"}], \"contourcarpet\": [{\"colorbar\": {\"outlinewidth\": 0, \"ticks\": \"\"}, \"type\": \"contourcarpet\"}], \"heatmap\": [{\"colorbar\": {\"outlinewidth\": 0, \"ticks\": \"\"}, \"colorscale\": [[0.0, \"#0d0887\"], [0.1111111111111111, \"#46039f\"], [0.2222222222222222, \"#7201a8\"], [0.3333333333333333, \"#9c179e\"], [0.4444444444444444, \"#bd3786\"], [0.5555555555555556, \"#d8576b\"], [0.6666666666666666, \"#ed7953\"], [0.7777777777777778, \"#fb9f3a\"], [0.8888888888888888, \"#fdca26\"], [1.0, \"#f0f921\"]], \"type\": \"heatmap\"}], \"heatmapgl\": [{\"colorbar\": {\"outlinewidth\": 0, \"ticks\": \"\"}, \"colorscale\": [[0.0, \"#0d0887\"], [0.1111111111111111, \"#46039f\"], [0.2222222222222222, \"#7201a8\"], [0.3333333333333333, \"#9c179e\"], [0.4444444444444444, \"#bd3786\"], [0.5555555555555556, \"#d8576b\"], [0.6666666666666666, \"#ed7953\"], [0.7777777777777778, \"#fb9f3a\"], [0.8888888888888888, \"#fdca26\"], [1.0, \"#f0f921\"]], \"type\": \"heatmapgl\"}], \"histogram\": [{\"marker\": {\"colorbar\": {\"outlinewidth\": 0, \"ticks\": \"\"}}, \"type\": \"histogram\"}], \"histogram2d\": [{\"colorbar\": {\"outlinewidth\": 0, \"ticks\": \"\"}, \"colorscale\": [[0.0, \"#0d0887\"], [0.1111111111111111, \"#46039f\"], [0.2222222222222222, \"#7201a8\"], [0.3333333333333333, \"#9c179e\"], [0.4444444444444444, \"#bd3786\"], [0.5555555555555556, \"#d8576b\"], [0.6666666666666666, \"#ed7953\"], [0.7777777777777778, \"#fb9f3a\"], [0.8888888888888888, \"#fdca26\"], [1.0, \"#f0f921\"]], \"type\": \"histogram2d\"}], \"histogram2dcontour\": [{\"colorbar\": {\"outlinewidth\": 0, \"ticks\": \"\"}, \"colorscale\": [[0.0, \"#0d0887\"], [0.1111111111111111, \"#46039f\"], [0.2222222222222222, \"#7201a8\"], [0.3333333333333333, \"#9c179e\"], [0.4444444444444444, \"#bd3786\"], [0.5555555555555556, \"#d8576b\"], [0.6666666666666666, \"#ed7953\"], [0.7777777777777778, \"#fb9f3a\"], [0.8888888888888888, \"#fdca26\"], [1.0, \"#f0f921\"]], \"type\": \"histogram2dcontour\"}], \"mesh3d\": [{\"colorbar\": {\"outlinewidth\": 0, \"ticks\": \"\"}, \"type\": \"mesh3d\"}], \"parcoords\": [{\"line\": {\"colorbar\": {\"outlinewidth\": 0, \"ticks\": \"\"}}, \"type\": \"parcoords\"}], \"pie\": [{\"automargin\": true, \"type\": \"pie\"}], \"scatter\": [{\"marker\": {\"colorbar\": {\"outlinewidth\": 0, \"ticks\": \"\"}}, \"type\": \"scatter\"}], \"scatter3d\": [{\"line\": {\"colorbar\": {\"outlinewidth\": 0, \"ticks\": \"\"}}, \"marker\": {\"colorbar\": {\"outlinewidth\": 0, \"ticks\": \"\"}}, \"type\": \"scatter3d\"}], \"scattercarpet\": [{\"marker\": {\"colorbar\": {\"outlinewidth\": 0, \"ticks\": \"\"}}, \"type\": \"scattercarpet\"}], \"scattergeo\": [{\"marker\": {\"colorbar\": {\"outlinewidth\": 0, \"ticks\": \"\"}}, \"type\": \"scattergeo\"}], \"scattergl\": [{\"marker\": {\"colorbar\": {\"outlinewidth\": 0, \"ticks\": \"\"}}, \"type\": \"scattergl\"}], \"scattermapbox\": [{\"marker\": {\"colorbar\": {\"outlinewidth\": 0, \"ticks\": \"\"}}, \"type\": \"scattermapbox\"}], \"scatterpolar\": [{\"marker\": {\"colorbar\": {\"outlinewidth\": 0, \"ticks\": \"\"}}, \"type\": \"scatterpolar\"}], \"scatterpolargl\": [{\"marker\": {\"colorbar\": {\"outlinewidth\": 0, \"ticks\": \"\"}}, \"type\": \"scatterpolargl\"}], \"scatterternary\": [{\"marker\": {\"colorbar\": {\"outlinewidth\": 0, \"ticks\": \"\"}}, \"type\": \"scatterternary\"}], \"surface\": [{\"colorbar\": {\"outlinewidth\": 0, \"ticks\": \"\"}, \"colorscale\": [[0.0, \"#0d0887\"], [0.1111111111111111, \"#46039f\"], [0.2222222222222222, \"#7201a8\"], [0.3333333333333333, \"#9c179e\"], [0.4444444444444444, \"#bd3786\"], [0.5555555555555556, \"#d8576b\"], [0.6666666666666666, \"#ed7953\"], [0.7777777777777778, \"#fb9f3a\"], [0.8888888888888888, \"#fdca26\"], [1.0, \"#f0f921\"]], \"type\": \"surface\"}], \"table\": [{\"cells\": {\"fill\": {\"color\": \"#EBF0F8\"}, \"line\": {\"color\": \"white\"}}, \"header\": {\"fill\": {\"color\": \"#C8D4E3\"}, \"line\": {\"color\": \"white\"}}, \"type\": \"table\"}]}, \"layout\": {\"annotationdefaults\": {\"arrowcolor\": \"#2a3f5f\", \"arrowhead\": 0, \"arrowwidth\": 1}, \"coloraxis\": {\"colorbar\": {\"outlinewidth\": 0, \"ticks\": \"\"}}, \"colorscale\": {\"diverging\": [[0, \"#8e0152\"], [0.1, \"#c51b7d\"], [0.2, \"#de77ae\"], [0.3, \"#f1b6da\"], [0.4, \"#fde0ef\"], [0.5, \"#f7f7f7\"], [0.6, \"#e6f5d0\"], [0.7, \"#b8e186\"], [0.8, \"#7fbc41\"], [0.9, \"#4d9221\"], [1, \"#276419\"]], \"sequential\": [[0.0, \"#0d0887\"], [0.1111111111111111, \"#46039f\"], [0.2222222222222222, \"#7201a8\"], [0.3333333333333333, \"#9c179e\"], [0.4444444444444444, \"#bd3786\"], [0.5555555555555556, \"#d8576b\"], [0.6666666666666666, \"#ed7953\"], [0.7777777777777778, \"#fb9f3a\"], [0.8888888888888888, \"#fdca26\"], [1.0, \"#f0f921\"]], \"sequentialminus\": [[0.0, \"#0d0887\"], [0.1111111111111111, \"#46039f\"], [0.2222222222222222, \"#7201a8\"], [0.3333333333333333, \"#9c179e\"], [0.4444444444444444, \"#bd3786\"], [0.5555555555555556, \"#d8576b\"], [0.6666666666666666, \"#ed7953\"], [0.7777777777777778, \"#fb9f3a\"], [0.8888888888888888, \"#fdca26\"], [1.0, \"#f0f921\"]]}, \"colorway\": [\"#636efa\", \"#EF553B\", \"#00cc96\", \"#ab63fa\", \"#FFA15A\", \"#19d3f3\", \"#FF6692\", \"#B6E880\", \"#FF97FF\", \"#FECB52\"], \"font\": {\"color\": \"#2a3f5f\"}, \"geo\": {\"bgcolor\": \"white\", \"lakecolor\": \"white\", \"landcolor\": \"#E5ECF6\", \"showlakes\": true, \"showland\": true, \"subunitcolor\": \"white\"}, \"hoverlabel\": {\"align\": \"left\"}, \"hovermode\": \"closest\", \"mapbox\": {\"style\": \"light\"}, \"paper_bgcolor\": \"white\", \"plot_bgcolor\": \"#E5ECF6\", \"polar\": {\"angularaxis\": {\"gridcolor\": \"white\", \"linecolor\": \"white\", \"ticks\": \"\"}, \"bgcolor\": \"#E5ECF6\", \"radialaxis\": {\"gridcolor\": \"white\", \"linecolor\": \"white\", \"ticks\": \"\"}}, \"scene\": {\"xaxis\": {\"backgroundcolor\": \"#E5ECF6\", \"gridcolor\": \"white\", \"gridwidth\": 2, \"linecolor\": \"white\", \"showbackground\": true, \"ticks\": \"\", \"zerolinecolor\": \"white\"}, \"yaxis\": {\"backgroundcolor\": \"#E5ECF6\", \"gridcolor\": \"white\", \"gridwidth\": 2, \"linecolor\": \"white\", \"showbackground\": true, \"ticks\": \"\", \"zerolinecolor\": \"white\"}, \"zaxis\": {\"backgroundcolor\": \"#E5ECF6\", \"gridcolor\": \"white\", \"gridwidth\": 2, \"linecolor\": \"white\", \"showbackground\": true, \"ticks\": \"\", \"zerolinecolor\": \"white\"}}, \"shapedefaults\": {\"line\": {\"color\": \"#2a3f5f\"}}, \"ternary\": {\"aaxis\": {\"gridcolor\": \"white\", \"linecolor\": \"white\", \"ticks\": \"\"}, \"baxis\": {\"gridcolor\": \"white\", \"linecolor\": \"white\", \"ticks\": \"\"}, \"bgcolor\": \"#E5ECF6\", \"caxis\": {\"gridcolor\": \"white\", \"linecolor\": \"white\", \"ticks\": \"\"}}, \"title\": {\"x\": 0.05}, \"xaxis\": {\"automargin\": true, \"gridcolor\": \"white\", \"linecolor\": \"white\", \"ticks\": \"\", \"title\": {\"standoff\": 15}, \"zerolinecolor\": \"white\", \"zerolinewidth\": 2}, \"yaxis\": {\"automargin\": true, \"gridcolor\": \"white\", \"linecolor\": \"white\", \"ticks\": \"\", \"title\": {\"standoff\": 15}, \"zerolinecolor\": \"white\", \"zerolinewidth\": 2}}}, \"title\": {\"text\": \"wafare\"}, \"width\": 800},\n",
       "                        {\"responsive\": true}\n",
       "                    ).then(function(){\n",
       "                            \n",
       "var gd = document.getElementById('823a66c8-771a-459c-a11e-ddc0402c4aeb');\n",
       "var x = new MutationObserver(function (mutations, observer) {{\n",
       "        var display = window.getComputedStyle(gd).display;\n",
       "        if (!display || display === 'none') {{\n",
       "            console.log([gd, 'removed!']);\n",
       "            Plotly.purge(gd);\n",
       "            observer.disconnect();\n",
       "        }}\n",
       "}});\n",
       "\n",
       "// Listen for the removal of the full notebook cells\n",
       "var notebookContainer = gd.closest('#notebook-container');\n",
       "if (notebookContainer) {{\n",
       "    x.observe(notebookContainer, {childList: true});\n",
       "}}\n",
       "\n",
       "// Listen for the clearing of the current output cell\n",
       "var outputEl = gd.closest('.output');\n",
       "if (outputEl) {{\n",
       "    x.observe(outputEl, {childList: true});\n",
       "}}\n",
       "\n",
       "                        })\n",
       "                };\n",
       "                });\n",
       "            </script>\n",
       "        </div>"
      ]
     },
     "metadata": {},
     "output_type": "display_data"
    },
    {
     "name": "stdout",
     "output_type": "stream",
     "text": [
      "1\n",
      "125.0\n"
     ]
    },
    {
     "data": {
      "application/vnd.jupyter.widget-view+json": {
       "model_id": "425c7be29a5f4da7947ca9fc7732c607",
       "version_major": 2,
       "version_minor": 0
      },
      "text/plain": [
       "Canvas(toolbar=Toolbar(toolitems=[('Home', 'Reset original view', 'home', 'home'), ('Back', 'Back to previous …"
      ]
     },
     "metadata": {},
     "output_type": "display_data"
    },
    {
     "data": {
      "application/vnd.plotly.v1+json": {
       "config": {
        "plotlyServerURL": "https://plot.ly"
       },
       "data": [
        {
         "facecolor": [
          "rgb(119, 122, 115)",
          "rgb(167, 124, 79)",
          "rgb(110, 122, 122)",
          "rgb(144, 123, 96)",
          "rgb(107, 122, 124)",
          "rgb(196, 125, 58)",
          "rgb(166, 124, 80)",
          "rgb(242, 127, 24)",
          "rgb(31, 119, 180)",
          "rgb(204, 125, 51)",
          "rgb(227, 126, 35)",
          "rgb(252, 127, 16)",
          "rgb(184, 124, 67)",
          "rgb(235, 126, 29)",
          "rgb(197, 125, 57)",
          "rgb(228, 126, 34)",
          "rgb(239, 126, 26)",
          "rgb(250, 127, 17)",
          "rgb(252, 127, 16)",
          "rgb(253, 127, 15)",
          "rgb(33, 119, 178)",
          "rgb(241, 127, 24)",
          "rgb(246, 127, 21)",
          "rgb(183, 124, 67)",
          "rgb(242, 127, 24)",
          "rgb(174, 124, 74)",
          "rgb(255, 127, 14)",
          "rgb(188, 125, 64)",
          "rgb(35, 119, 177)",
          "rgb(35, 119, 177)",
          "rgb(170, 124, 77)",
          "rgb(246, 127, 21)",
          "rgb(171, 124, 76)",
          "rgb(156, 123, 87)",
          "rgb(242, 127, 24)",
          "rgb(166, 124, 80)",
          "rgb(234, 126, 29)",
          "rgb(174, 124, 74)",
          "rgb(238, 126, 26)",
          "rgb(180, 124, 70)",
          "rgb(33, 119, 179)",
          "rgb(35, 119, 177)",
          "rgb(88, 121, 137)",
          "rgb(186, 125, 65)",
          "rgb(92, 121, 135)",
          "rgb(100, 121, 129)",
          "rgb(191, 125, 62)",
          "rgb(95, 121, 133)",
          "rgb(248, 127, 19)",
          "rgb(182, 124, 68)",
          "rgb(249, 127, 19)",
          "rgb(183, 124, 67)",
          "rgb(31, 119, 180)",
          "rgb(32, 119, 180)",
          "rgb(146, 123, 95)",
          "rgb(236, 126, 28)",
          "rgb(154, 123, 89)",
          "rgb(163, 124, 83)",
          "rgb(240, 126, 25)",
          "rgb(160, 124, 85)",
          "rgb(250, 127, 17)",
          "rgb(248, 127, 19)",
          "rgb(137, 123, 101)",
          "rgb(229, 126, 33)",
          "rgb(131, 123, 106)",
          "rgb(220, 126, 40)",
          "rgb(112, 122, 120)",
          "rgb(208, 125, 49)",
          "rgb(118, 122, 115)",
          "rgb(125, 122, 110)",
          "rgb(215, 126, 43)",
          "rgb(121, 122, 113)"
         ],
         "i": [
          38,
          32,
          44,
          17,
          22,
          18,
          13,
          14,
          2,
          19,
          6,
          3,
          10,
          16,
          21,
          21,
          12,
          12,
          4,
          16,
          8,
          8,
          24,
          8,
          18,
          6,
          5,
          5,
          5,
          4,
          33,
          14,
          33,
          16,
          35,
          34,
          7,
          21,
          19,
          8,
          6,
          7,
          39,
          18,
          39,
          21,
          41,
          40,
          0,
          12,
          14,
          4,
          3,
          0,
          27,
          10,
          27,
          12,
          29,
          28,
          9,
          24,
          26,
          10,
          9,
          9,
          45,
          19,
          45,
          24,
          47,
          46
         ],
         "j": [
          17,
          13,
          22,
          36,
          42,
          17,
          30,
          13,
          3,
          22,
          18,
          10,
          3,
          36,
          42,
          6,
          30,
          3,
          14,
          4,
          2,
          19,
          8,
          24,
          5,
          5,
          16,
          4,
          6,
          5,
          14,
          33,
          34,
          35,
          16,
          35,
          21,
          7,
          7,
          7,
          7,
          8,
          18,
          39,
          40,
          41,
          21,
          41,
          12,
          0,
          0,
          0,
          0,
          4,
          10,
          27,
          28,
          29,
          12,
          29,
          10,
          9,
          9,
          9,
          48,
          24,
          19,
          45,
          46,
          47,
          24,
          47
         ],
         "k": [
          37,
          31,
          43,
          37,
          43,
          38,
          31,
          32,
          1,
          44,
          20,
          11,
          2,
          17,
          22,
          20,
          13,
          11,
          15,
          15,
          1,
          23,
          23,
          2,
          17,
          18,
          17,
          16,
          1,
          1,
          32,
          15,
          15,
          36,
          15,
          15,
          22,
          6,
          22,
          19,
          1,
          1,
          38,
          20,
          20,
          42,
          20,
          20,
          13,
          3,
          13,
          14,
          1,
          1,
          26,
          11,
          11,
          30,
          11,
          11,
          2,
          2,
          25,
          26,
          25,
          48,
          44,
          23,
          23,
          48,
          23,
          23
         ],
         "name": "",
         "type": "mesh3d",
         "x": [
          -49000,
          0,
          3.0002899036735098e-12,
          -34648.19921875,
          -34648.19921875,
          -9.00085995320099e-12,
          34648.19921875,
          49000,
          34648.19921875,
          6.00056983268704e-12,
          -37503,
          -69296.5,
          -90540.203125,
          -98000,
          -90540.203125,
          -69296.5,
          -37503,
          -1.80017008244437e-11,
          37503,
          90540.203125,
          69296.5,
          90540.203125,
          98000,
          69296.5,
          37503,
          9.00085995320099e-12,
          -38046.3984375,
          -73500,
          -103945,
          -127306,
          -141991,
          -147000,
          -141991,
          -127306,
          -103945,
          -73500,
          -38046.3984375,
          -2.70025998089229e-11,
          38046.3984375,
          73500,
          103945,
          127306,
          141991,
          147000,
          141991,
          127306,
          103945,
          73500,
          38046.3984375
         ],
         "y": [
          6.00056983268704e-12,
          0,
          49000,
          34648.19921875,
          -34648.19921875,
          -49000,
          -34648.19921875,
          -1.20010997667341e-11,
          34648.19921875,
          98000,
          90540.203125,
          69296.5,
          37503,
          1.20010997667341e-11,
          -37503,
          -69296.5,
          -90540.203125,
          -98000,
          -90540.203125,
          37503,
          -69296.5,
          -37503,
          -2.400230014742989e-11,
          69296.5,
          90540.203125,
          147000,
          141991,
          127306,
          103945,
          73500,
          38046.3984375,
          1.80017008244437e-11,
          -38046.3984375,
          -73500,
          -103945,
          -127306,
          -141991,
          -147000,
          -141991,
          -127306,
          -103945,
          -73500,
          -38046.3984375,
          -3.600340164888749e-11,
          38046.3984375,
          73500,
          103945,
          127306,
          141991
         ],
         "z": [
          1504.9326171875,
          1473.1966552734375,
          1505.0733642578125,
          1504.656982421875,
          1504.851806640625,
          1506.1884765625,
          1504.775146484375,
          1505.5272216796875,
          1505.3861083984375,
          1529.712890625,
          1530.40625,
          1530.7733154296875,
          1529.775390625,
          1529.458984375,
          1530.2236328125,
          1530.783935546875,
          1530.6917724609375,
          1530.0340576171875,
          1525.6932373046875,
          1527.6796875,
          1525.888916015625,
          1526.2130126953125,
          1527.416748046875,
          1528.6666259765625,
          1529.3846435546875,
          1496.0250244140625,
          1496.9571533203125,
          1498.508056640625,
          1499.6435546875,
          1500.664306640625,
          1501.7388916015625,
          1502.126220703125,
          1502.24072265625,
          1502.552001953125,
          1502.0682373046875,
          1500.5908203125,
          1498.5860595703125,
          1496.727294921875,
          1489.06787109375,
          1489.56494140625,
          1490.259765625,
          1490.664794921875,
          1491.6451416015625,
          1492.0863037109375,
          1492.82373046875,
          1492.757080078125,
          1494.0594482421875,
          1494.0093994140625,
          1494.7783203125
         ]
        },
        {
         "line": {
          "color": "rgb(50, 50, 50)",
          "width": 1.5
         },
         "mode": "lines",
         "showlegend": false,
         "type": "scatter3d",
         "x": [
          38046.3984375,
          -1.80017008244437e-11,
          -2.70025998089229e-11,
          38046.3984375,
          null,
          -141991,
          -98000,
          -147000,
          -141991,
          null,
          141991,
          98000,
          147000,
          141991,
          null,
          -1.80017008244437e-11,
          -38046.3984375,
          -2.70025998089229e-11,
          -1.80017008244437e-11,
          null,
          98000,
          141991,
          147000,
          98000,
          null,
          37503,
          -1.80017008244437e-11,
          38046.3984375,
          37503,
          null,
          -98000,
          -141991,
          -147000,
          -98000,
          null,
          -90540.203125,
          -98000,
          -141991,
          -90540.203125,
          null,
          3.0002899036735098e-12,
          -34648.19921875,
          0,
          3.0002899036735098e-12,
          null,
          90540.203125,
          98000,
          141991,
          90540.203125,
          null,
          34648.19921875,
          37503,
          69296.5,
          34648.19921875,
          null,
          -34648.19921875,
          -37503,
          -69296.5,
          -34648.19921875,
          null,
          -37503,
          -34648.19921875,
          3.0002899036735098e-12,
          -37503,
          null,
          -37503,
          -38046.3984375,
          -1.80017008244437e-11,
          -37503,
          null,
          90540.203125,
          141991,
          98000,
          90540.203125,
          null,
          90540.203125,
          34648.19921875,
          69296.5,
          90540.203125,
          null,
          -90540.203125,
          -141991,
          -98000,
          -90540.203125,
          null,
          -90540.203125,
          -34648.19921875,
          -69296.5,
          -90540.203125,
          null,
          -34648.19921875,
          -90540.203125,
          -69296.5,
          -34648.19921875,
          null,
          -37503,
          -34648.19921875,
          -69296.5,
          -37503,
          null,
          34648.19921875,
          3.0002899036735098e-12,
          0,
          34648.19921875,
          null,
          34648.19921875,
          90540.203125,
          69296.5,
          34648.19921875,
          null,
          37503,
          34648.19921875,
          69296.5,
          37503,
          null,
          34648.19921875,
          37503,
          3.0002899036735098e-12,
          34648.19921875,
          null,
          37503,
          -9.00085995320099e-12,
          -1.80017008244437e-11,
          37503,
          null,
          34648.19921875,
          -9.00085995320099e-12,
          37503,
          34648.19921875,
          null,
          -9.00085995320099e-12,
          -37503,
          -1.80017008244437e-11,
          -9.00085995320099e-12,
          null,
          -9.00085995320099e-12,
          -34648.19921875,
          -37503,
          -9.00085995320099e-12,
          null,
          -9.00085995320099e-12,
          34648.19921875,
          0,
          -9.00085995320099e-12,
          null,
          -34648.19921875,
          -9.00085995320099e-12,
          0,
          -34648.19921875,
          null,
          -127306,
          -90540.203125,
          -141991,
          -127306,
          null,
          -90540.203125,
          -127306,
          -69296.5,
          -90540.203125,
          null,
          -127306,
          -103945,
          -69296.5,
          -127306,
          null,
          -37503,
          -73500,
          -38046.3984375,
          -37503,
          null,
          -73500,
          -37503,
          -69296.5,
          -73500,
          null,
          -103945,
          -73500,
          -69296.5,
          -103945,
          null,
          49000,
          90540.203125,
          98000,
          49000,
          null,
          90540.203125,
          49000,
          34648.19921875,
          90540.203125,
          null,
          90540.203125,
          49000,
          98000,
          90540.203125,
          null,
          34648.19921875,
          49000,
          90540.203125,
          34648.19921875,
          null,
          34648.19921875,
          49000,
          0,
          34648.19921875,
          null,
          49000,
          34648.19921875,
          0,
          49000,
          null,
          73500,
          37503,
          38046.3984375,
          73500,
          null,
          37503,
          73500,
          69296.5,
          37503,
          null,
          73500,
          103945,
          69296.5,
          73500,
          null,
          90540.203125,
          127306,
          141991,
          90540.203125,
          null,
          127306,
          90540.203125,
          69296.5,
          127306,
          null,
          103945,
          127306,
          69296.5,
          103945,
          null,
          -49000,
          -90540.203125,
          -98000,
          -49000,
          null,
          -90540.203125,
          -49000,
          -34648.19921875,
          -90540.203125,
          null,
          -90540.203125,
          -49000,
          -98000,
          -90540.203125,
          null,
          -34648.19921875,
          -49000,
          -90540.203125,
          -34648.19921875,
          null,
          -34648.19921875,
          -49000,
          0,
          -34648.19921875,
          null,
          -49000,
          -34648.19921875,
          0,
          -49000,
          null,
          -73500,
          -37503,
          -38046.3984375,
          -73500,
          null,
          -37503,
          -73500,
          -69296.5,
          -37503,
          null,
          -73500,
          -103945,
          -69296.5,
          -73500,
          null,
          -90540.203125,
          -127306,
          -141991,
          -90540.203125,
          null,
          -127306,
          -90540.203125,
          -69296.5,
          -127306,
          null,
          -103945,
          -127306,
          -69296.5,
          -103945,
          null,
          6.00056983268704e-12,
          -37503,
          3.0002899036735098e-12,
          6.00056983268704e-12,
          null,
          37503,
          6.00056983268704e-12,
          3.0002899036735098e-12,
          37503,
          null,
          -38046.3984375,
          6.00056983268704e-12,
          9.00085995320099e-12,
          -38046.3984375,
          null,
          -37503,
          6.00056983268704e-12,
          -38046.3984375,
          -37503,
          null,
          6.00056983268704e-12,
          38046.3984375,
          9.00085995320099e-12,
          6.00056983268704e-12,
          null,
          6.00056983268704e-12,
          37503,
          38046.3984375,
          6.00056983268704e-12,
          null,
          127306,
          90540.203125,
          141991,
          127306,
          null,
          90540.203125,
          127306,
          69296.5,
          90540.203125,
          null,
          127306,
          103945,
          69296.5,
          127306,
          null,
          37503,
          73500,
          38046.3984375,
          37503,
          null,
          73500,
          37503,
          69296.5,
          73500,
          null,
          103945,
          73500,
          69296.5,
          103945,
          null
         ],
         "y": [
          -141991,
          -98000,
          -147000,
          -141991,
          null,
          -38046.3984375,
          1.20010997667341e-11,
          1.80017008244437e-11,
          -38046.3984375,
          null,
          38046.3984375,
          -2.400230014742989e-11,
          -3.600340164888749e-11,
          38046.3984375,
          null,
          -98000,
          -141991,
          -147000,
          -98000,
          null,
          -2.400230014742989e-11,
          -38046.3984375,
          -3.600340164888749e-11,
          -2.400230014742989e-11,
          null,
          -90540.203125,
          -98000,
          -141991,
          -90540.203125,
          null,
          1.20010997667341e-11,
          38046.3984375,
          1.80017008244437e-11,
          1.20010997667341e-11,
          null,
          -37503,
          1.20010997667341e-11,
          -38046.3984375,
          -37503,
          null,
          49000,
          34648.19921875,
          0,
          49000,
          null,
          37503,
          -2.400230014742989e-11,
          38046.3984375,
          37503,
          null,
          -34648.19921875,
          -90540.203125,
          -69296.5,
          -34648.19921875,
          null,
          34648.19921875,
          90540.203125,
          69296.5,
          34648.19921875,
          null,
          90540.203125,
          34648.19921875,
          49000,
          90540.203125,
          null,
          -90540.203125,
          -141991,
          -98000,
          -90540.203125,
          null,
          -37503,
          -38046.3984375,
          -2.400230014742989e-11,
          -37503,
          null,
          -37503,
          -34648.19921875,
          -69296.5,
          -37503,
          null,
          37503,
          38046.3984375,
          1.20010997667341e-11,
          37503,
          null,
          37503,
          34648.19921875,
          69296.5,
          37503,
          null,
          -34648.19921875,
          -37503,
          -69296.5,
          -34648.19921875,
          null,
          -90540.203125,
          -34648.19921875,
          -69296.5,
          -90540.203125,
          null,
          34648.19921875,
          49000,
          0,
          34648.19921875,
          null,
          34648.19921875,
          37503,
          69296.5,
          34648.19921875,
          null,
          90540.203125,
          34648.19921875,
          69296.5,
          90540.203125,
          null,
          34648.19921875,
          90540.203125,
          49000,
          34648.19921875,
          null,
          -90540.203125,
          -49000,
          -98000,
          -90540.203125,
          null,
          -34648.19921875,
          -49000,
          -90540.203125,
          -34648.19921875,
          null,
          -49000,
          -90540.203125,
          -98000,
          -49000,
          null,
          -49000,
          -34648.19921875,
          -90540.203125,
          -49000,
          null,
          -49000,
          -34648.19921875,
          0,
          -49000,
          null,
          -34648.19921875,
          -49000,
          0,
          -34648.19921875,
          null,
          -73500,
          -37503,
          -38046.3984375,
          -73500,
          null,
          -37503,
          -73500,
          -69296.5,
          -37503,
          null,
          -73500,
          -103945,
          -69296.5,
          -73500,
          null,
          -90540.203125,
          -127306,
          -141991,
          -90540.203125,
          null,
          -127306,
          -90540.203125,
          -69296.5,
          -127306,
          null,
          -103945,
          -127306,
          -69296.5,
          -103945,
          null,
          -1.20010997667341e-11,
          -37503,
          -2.400230014742989e-11,
          -1.20010997667341e-11,
          null,
          -37503,
          -1.20010997667341e-11,
          -34648.19921875,
          -37503,
          null,
          37503,
          -1.20010997667341e-11,
          -2.400230014742989e-11,
          37503,
          null,
          34648.19921875,
          -1.20010997667341e-11,
          37503,
          34648.19921875,
          null,
          -34648.19921875,
          -1.20010997667341e-11,
          0,
          -34648.19921875,
          null,
          -1.20010997667341e-11,
          34648.19921875,
          0,
          -1.20010997667341e-11,
          null,
          -127306,
          -90540.203125,
          -141991,
          -127306,
          null,
          -90540.203125,
          -127306,
          -69296.5,
          -90540.203125,
          null,
          -127306,
          -103945,
          -69296.5,
          -127306,
          null,
          -37503,
          -73500,
          -38046.3984375,
          -37503,
          null,
          -73500,
          -37503,
          -69296.5,
          -73500,
          null,
          -103945,
          -73500,
          -69296.5,
          -103945,
          null,
          6.00056983268704e-12,
          37503,
          1.20010997667341e-11,
          6.00056983268704e-12,
          null,
          37503,
          6.00056983268704e-12,
          34648.19921875,
          37503,
          null,
          -37503,
          6.00056983268704e-12,
          1.20010997667341e-11,
          -37503,
          null,
          -34648.19921875,
          6.00056983268704e-12,
          -37503,
          -34648.19921875,
          null,
          34648.19921875,
          6.00056983268704e-12,
          0,
          34648.19921875,
          null,
          6.00056983268704e-12,
          -34648.19921875,
          0,
          6.00056983268704e-12,
          null,
          127306,
          90540.203125,
          141991,
          127306,
          null,
          90540.203125,
          127306,
          69296.5,
          90540.203125,
          null,
          127306,
          103945,
          69296.5,
          127306,
          null,
          37503,
          73500,
          38046.3984375,
          37503,
          null,
          73500,
          37503,
          69296.5,
          73500,
          null,
          103945,
          73500,
          69296.5,
          103945,
          null,
          98000,
          90540.203125,
          49000,
          98000,
          null,
          90540.203125,
          98000,
          49000,
          90540.203125,
          null,
          141991,
          98000,
          147000,
          141991,
          null,
          90540.203125,
          98000,
          141991,
          90540.203125,
          null,
          98000,
          141991,
          147000,
          98000,
          null,
          98000,
          90540.203125,
          141991,
          98000,
          null,
          73500,
          37503,
          38046.3984375,
          73500,
          null,
          37503,
          73500,
          69296.5,
          37503,
          null,
          73500,
          103945,
          69296.5,
          73500,
          null,
          90540.203125,
          127306,
          141991,
          90540.203125,
          null,
          127306,
          90540.203125,
          69296.5,
          127306,
          null,
          103945,
          127306,
          69296.5,
          103945,
          null
         ],
         "z": [
          1489.06787109375,
          1530.0340576171875,
          1496.727294921875,
          1489.06787109375,
          null,
          1502.24072265625,
          1529.458984375,
          1502.126220703125,
          1502.24072265625,
          null,
          1492.82373046875,
          1527.416748046875,
          1492.0863037109375,
          1492.82373046875,
          null,
          1530.0340576171875,
          1498.5860595703125,
          1496.727294921875,
          1530.0340576171875,
          null,
          1527.416748046875,
          1491.6451416015625,
          1492.0863037109375,
          1527.416748046875,
          null,
          1525.6932373046875,
          1530.0340576171875,
          1489.06787109375,
          1525.6932373046875,
          null,
          1529.458984375,
          1501.7388916015625,
          1502.126220703125,
          1529.458984375,
          null,
          1530.2236328125,
          1529.458984375,
          1502.24072265625,
          1530.2236328125,
          null,
          1505.0733642578125,
          1504.656982421875,
          1473.1966552734375,
          1505.0733642578125,
          null,
          1527.6796875,
          1527.416748046875,
          1492.82373046875,
          1527.6796875,
          null,
          1504.775146484375,
          1525.6932373046875,
          1525.888916015625,
          1504.775146484375,
          null,
          1504.656982421875,
          1530.40625,
          1530.7733154296875,
          1504.656982421875,
          null,
          1530.40625,
          1504.656982421875,
          1505.0733642578125,
          1530.40625,
          null,
          1530.6917724609375,
          1498.5860595703125,
          1530.0340576171875,
          1530.6917724609375,
          null,
          1526.2130126953125,
          1491.6451416015625,
          1527.416748046875,
          1526.2130126953125,
          null,
          1526.2130126953125,
          1504.775146484375,
          1525.888916015625,
          1526.2130126953125,
          null,
          1529.775390625,
          1501.7388916015625,
          1529.458984375,
          1529.775390625,
          null,
          1529.775390625,
          1504.656982421875,
          1530.7733154296875,
          1529.775390625,
          null,
          1504.851806640625,
          1530.2236328125,
          1530.783935546875,
          1504.851806640625,
          null,
          1530.6917724609375,
          1504.851806640625,
          1530.783935546875,
          1530.6917724609375,
          null,
          1505.3861083984375,
          1505.0733642578125,
          1473.1966552734375,
          1505.3861083984375,
          null,
          1505.3861083984375,
          1527.6796875,
          1528.6666259765625,
          1505.3861083984375,
          null,
          1529.3846435546875,
          1505.3861083984375,
          1528.6666259765625,
          1529.3846435546875,
          null,
          1505.3861083984375,
          1529.3846435546875,
          1505.0733642578125,
          1505.3861083984375,
          null,
          1525.6932373046875,
          1506.1884765625,
          1530.0340576171875,
          1525.6932373046875,
          null,
          1504.775146484375,
          1506.1884765625,
          1525.6932373046875,
          1504.775146484375,
          null,
          1506.1884765625,
          1530.6917724609375,
          1530.0340576171875,
          1506.1884765625,
          null,
          1506.1884765625,
          1504.851806640625,
          1530.6917724609375,
          1506.1884765625,
          null,
          1506.1884765625,
          1504.775146484375,
          1473.1966552734375,
          1506.1884765625,
          null,
          1504.851806640625,
          1506.1884765625,
          1473.1966552734375,
          1504.851806640625,
          null,
          1502.552001953125,
          1530.2236328125,
          1502.24072265625,
          1502.552001953125,
          null,
          1530.2236328125,
          1502.552001953125,
          1530.783935546875,
          1530.2236328125,
          null,
          1502.552001953125,
          1502.0682373046875,
          1530.783935546875,
          1502.552001953125,
          null,
          1530.6917724609375,
          1500.5908203125,
          1498.5860595703125,
          1530.6917724609375,
          null,
          1500.5908203125,
          1530.6917724609375,
          1530.783935546875,
          1500.5908203125,
          null,
          1502.0682373046875,
          1500.5908203125,
          1530.783935546875,
          1502.0682373046875,
          null,
          1505.5272216796875,
          1526.2130126953125,
          1527.416748046875,
          1505.5272216796875,
          null,
          1526.2130126953125,
          1505.5272216796875,
          1504.775146484375,
          1526.2130126953125,
          null,
          1527.6796875,
          1505.5272216796875,
          1527.416748046875,
          1527.6796875,
          null,
          1505.3861083984375,
          1505.5272216796875,
          1527.6796875,
          1505.3861083984375,
          null,
          1504.775146484375,
          1505.5272216796875,
          1473.1966552734375,
          1504.775146484375,
          null,
          1505.5272216796875,
          1505.3861083984375,
          1473.1966552734375,
          1505.5272216796875,
          null,
          1489.56494140625,
          1525.6932373046875,
          1489.06787109375,
          1489.56494140625,
          null,
          1525.6932373046875,
          1489.56494140625,
          1525.888916015625,
          1525.6932373046875,
          null,
          1489.56494140625,
          1490.259765625,
          1525.888916015625,
          1489.56494140625,
          null,
          1526.2130126953125,
          1490.664794921875,
          1491.6451416015625,
          1526.2130126953125,
          null,
          1490.664794921875,
          1526.2130126953125,
          1525.888916015625,
          1490.664794921875,
          null,
          1490.259765625,
          1490.664794921875,
          1525.888916015625,
          1490.259765625,
          null,
          1504.9326171875,
          1529.775390625,
          1529.458984375,
          1504.9326171875,
          null,
          1529.775390625,
          1504.9326171875,
          1504.656982421875,
          1529.775390625,
          null,
          1530.2236328125,
          1504.9326171875,
          1529.458984375,
          1530.2236328125,
          null,
          1504.851806640625,
          1504.9326171875,
          1530.2236328125,
          1504.851806640625,
          null,
          1504.656982421875,
          1504.9326171875,
          1473.1966552734375,
          1504.656982421875,
          null,
          1504.9326171875,
          1504.851806640625,
          1473.1966552734375,
          1504.9326171875,
          null,
          1498.508056640625,
          1530.40625,
          1496.9571533203125,
          1498.508056640625,
          null,
          1530.40625,
          1498.508056640625,
          1530.7733154296875,
          1530.40625,
          null,
          1498.508056640625,
          1499.6435546875,
          1530.7733154296875,
          1498.508056640625,
          null,
          1529.775390625,
          1500.664306640625,
          1501.7388916015625,
          1529.775390625,
          null,
          1500.664306640625,
          1529.775390625,
          1530.7733154296875,
          1500.664306640625,
          null,
          1499.6435546875,
          1500.664306640625,
          1530.7733154296875,
          1499.6435546875,
          null,
          1529.712890625,
          1530.40625,
          1505.0733642578125,
          1529.712890625,
          null,
          1529.3846435546875,
          1529.712890625,
          1505.0733642578125,
          1529.3846435546875,
          null,
          1496.9571533203125,
          1529.712890625,
          1496.0250244140625,
          1496.9571533203125,
          null,
          1530.40625,
          1529.712890625,
          1496.9571533203125,
          1530.40625,
          null,
          1529.712890625,
          1494.7783203125,
          1496.0250244140625,
          1529.712890625,
          null,
          1529.712890625,
          1529.3846435546875,
          1494.7783203125,
          1529.712890625,
          null,
          1492.757080078125,
          1527.6796875,
          1492.82373046875,
          1492.757080078125,
          null,
          1527.6796875,
          1492.757080078125,
          1528.6666259765625,
          1527.6796875,
          null,
          1492.757080078125,
          1494.0594482421875,
          1528.6666259765625,
          1492.757080078125,
          null,
          1529.3846435546875,
          1494.0093994140625,
          1494.7783203125,
          1529.3846435546875,
          null,
          1494.0093994140625,
          1529.3846435546875,
          1528.6666259765625,
          1494.0093994140625,
          null,
          1494.0594482421875,
          1494.0093994140625,
          1528.6666259765625,
          1494.0594482421875,
          null
         ]
        },
        {
         "hoverinfo": "none",
         "marker": {
          "color": [
           1494.2620849609375,
           1522.3047688802083
          ],
          "colorscale": [
           [
            0,
            "rgb(31, 119, 180)"
           ],
           [
            1,
            "rgb(255, 127, 14)"
           ]
          ],
          "showscale": true,
          "size": 0.1
         },
         "mode": "markers",
         "showlegend": false,
         "type": "scatter3d",
         "x": [
          -49000
         ],
         "y": [
          6.00056983268704e-12
         ],
         "z": [
          1504.9326171875
         ]
        }
       ],
       "layout": {
        "height": 800,
        "scene": {
         "aspectratio": {
          "x": 1,
          "y": 1,
          "z": 0.5
         },
         "xaxis": {
          "backgroundcolor": "rgb(230, 230, 230)",
          "gridcolor": "rgb(255, 255, 255)",
          "showbackground": true,
          "zerolinecolor": "rgb(255, 255, 255)"
         },
         "yaxis": {
          "backgroundcolor": "rgb(230, 230, 230)",
          "gridcolor": "rgb(255, 255, 255)",
          "showbackground": true,
          "zerolinecolor": "rgb(255, 255, 255)"
         },
         "zaxis": {
          "backgroundcolor": "rgb(230, 230, 230)",
          "gridcolor": "rgb(255, 255, 255)",
          "showbackground": true,
          "zerolinecolor": "rgb(255, 255, 255)"
         }
        },
        "template": {
         "data": {
          "bar": [
           {
            "error_x": {
             "color": "#2a3f5f"
            },
            "error_y": {
             "color": "#2a3f5f"
            },
            "marker": {
             "line": {
              "color": "#E5ECF6",
              "width": 0.5
             }
            },
            "type": "bar"
           }
          ],
          "barpolar": [
           {
            "marker": {
             "line": {
              "color": "#E5ECF6",
              "width": 0.5
             }
            },
            "type": "barpolar"
           }
          ],
          "carpet": [
           {
            "aaxis": {
             "endlinecolor": "#2a3f5f",
             "gridcolor": "white",
             "linecolor": "white",
             "minorgridcolor": "white",
             "startlinecolor": "#2a3f5f"
            },
            "baxis": {
             "endlinecolor": "#2a3f5f",
             "gridcolor": "white",
             "linecolor": "white",
             "minorgridcolor": "white",
             "startlinecolor": "#2a3f5f"
            },
            "type": "carpet"
           }
          ],
          "choropleth": [
           {
            "colorbar": {
             "outlinewidth": 0,
             "ticks": ""
            },
            "type": "choropleth"
           }
          ],
          "contour": [
           {
            "colorbar": {
             "outlinewidth": 0,
             "ticks": ""
            },
            "colorscale": [
             [
              0,
              "#0d0887"
             ],
             [
              0.1111111111111111,
              "#46039f"
             ],
             [
              0.2222222222222222,
              "#7201a8"
             ],
             [
              0.3333333333333333,
              "#9c179e"
             ],
             [
              0.4444444444444444,
              "#bd3786"
             ],
             [
              0.5555555555555556,
              "#d8576b"
             ],
             [
              0.6666666666666666,
              "#ed7953"
             ],
             [
              0.7777777777777778,
              "#fb9f3a"
             ],
             [
              0.8888888888888888,
              "#fdca26"
             ],
             [
              1,
              "#f0f921"
             ]
            ],
            "type": "contour"
           }
          ],
          "contourcarpet": [
           {
            "colorbar": {
             "outlinewidth": 0,
             "ticks": ""
            },
            "type": "contourcarpet"
           }
          ],
          "heatmap": [
           {
            "colorbar": {
             "outlinewidth": 0,
             "ticks": ""
            },
            "colorscale": [
             [
              0,
              "#0d0887"
             ],
             [
              0.1111111111111111,
              "#46039f"
             ],
             [
              0.2222222222222222,
              "#7201a8"
             ],
             [
              0.3333333333333333,
              "#9c179e"
             ],
             [
              0.4444444444444444,
              "#bd3786"
             ],
             [
              0.5555555555555556,
              "#d8576b"
             ],
             [
              0.6666666666666666,
              "#ed7953"
             ],
             [
              0.7777777777777778,
              "#fb9f3a"
             ],
             [
              0.8888888888888888,
              "#fdca26"
             ],
             [
              1,
              "#f0f921"
             ]
            ],
            "type": "heatmap"
           }
          ],
          "heatmapgl": [
           {
            "colorbar": {
             "outlinewidth": 0,
             "ticks": ""
            },
            "colorscale": [
             [
              0,
              "#0d0887"
             ],
             [
              0.1111111111111111,
              "#46039f"
             ],
             [
              0.2222222222222222,
              "#7201a8"
             ],
             [
              0.3333333333333333,
              "#9c179e"
             ],
             [
              0.4444444444444444,
              "#bd3786"
             ],
             [
              0.5555555555555556,
              "#d8576b"
             ],
             [
              0.6666666666666666,
              "#ed7953"
             ],
             [
              0.7777777777777778,
              "#fb9f3a"
             ],
             [
              0.8888888888888888,
              "#fdca26"
             ],
             [
              1,
              "#f0f921"
             ]
            ],
            "type": "heatmapgl"
           }
          ],
          "histogram": [
           {
            "marker": {
             "colorbar": {
              "outlinewidth": 0,
              "ticks": ""
             }
            },
            "type": "histogram"
           }
          ],
          "histogram2d": [
           {
            "colorbar": {
             "outlinewidth": 0,
             "ticks": ""
            },
            "colorscale": [
             [
              0,
              "#0d0887"
             ],
             [
              0.1111111111111111,
              "#46039f"
             ],
             [
              0.2222222222222222,
              "#7201a8"
             ],
             [
              0.3333333333333333,
              "#9c179e"
             ],
             [
              0.4444444444444444,
              "#bd3786"
             ],
             [
              0.5555555555555556,
              "#d8576b"
             ],
             [
              0.6666666666666666,
              "#ed7953"
             ],
             [
              0.7777777777777778,
              "#fb9f3a"
             ],
             [
              0.8888888888888888,
              "#fdca26"
             ],
             [
              1,
              "#f0f921"
             ]
            ],
            "type": "histogram2d"
           }
          ],
          "histogram2dcontour": [
           {
            "colorbar": {
             "outlinewidth": 0,
             "ticks": ""
            },
            "colorscale": [
             [
              0,
              "#0d0887"
             ],
             [
              0.1111111111111111,
              "#46039f"
             ],
             [
              0.2222222222222222,
              "#7201a8"
             ],
             [
              0.3333333333333333,
              "#9c179e"
             ],
             [
              0.4444444444444444,
              "#bd3786"
             ],
             [
              0.5555555555555556,
              "#d8576b"
             ],
             [
              0.6666666666666666,
              "#ed7953"
             ],
             [
              0.7777777777777778,
              "#fb9f3a"
             ],
             [
              0.8888888888888888,
              "#fdca26"
             ],
             [
              1,
              "#f0f921"
             ]
            ],
            "type": "histogram2dcontour"
           }
          ],
          "mesh3d": [
           {
            "colorbar": {
             "outlinewidth": 0,
             "ticks": ""
            },
            "type": "mesh3d"
           }
          ],
          "parcoords": [
           {
            "line": {
             "colorbar": {
              "outlinewidth": 0,
              "ticks": ""
             }
            },
            "type": "parcoords"
           }
          ],
          "pie": [
           {
            "automargin": true,
            "type": "pie"
           }
          ],
          "scatter": [
           {
            "marker": {
             "colorbar": {
              "outlinewidth": 0,
              "ticks": ""
             }
            },
            "type": "scatter"
           }
          ],
          "scatter3d": [
           {
            "line": {
             "colorbar": {
              "outlinewidth": 0,
              "ticks": ""
             }
            },
            "marker": {
             "colorbar": {
              "outlinewidth": 0,
              "ticks": ""
             }
            },
            "type": "scatter3d"
           }
          ],
          "scattercarpet": [
           {
            "marker": {
             "colorbar": {
              "outlinewidth": 0,
              "ticks": ""
             }
            },
            "type": "scattercarpet"
           }
          ],
          "scattergeo": [
           {
            "marker": {
             "colorbar": {
              "outlinewidth": 0,
              "ticks": ""
             }
            },
            "type": "scattergeo"
           }
          ],
          "scattergl": [
           {
            "marker": {
             "colorbar": {
              "outlinewidth": 0,
              "ticks": ""
             }
            },
            "type": "scattergl"
           }
          ],
          "scattermapbox": [
           {
            "marker": {
             "colorbar": {
              "outlinewidth": 0,
              "ticks": ""
             }
            },
            "type": "scattermapbox"
           }
          ],
          "scatterpolar": [
           {
            "marker": {
             "colorbar": {
              "outlinewidth": 0,
              "ticks": ""
             }
            },
            "type": "scatterpolar"
           }
          ],
          "scatterpolargl": [
           {
            "marker": {
             "colorbar": {
              "outlinewidth": 0,
              "ticks": ""
             }
            },
            "type": "scatterpolargl"
           }
          ],
          "scatterternary": [
           {
            "marker": {
             "colorbar": {
              "outlinewidth": 0,
              "ticks": ""
             }
            },
            "type": "scatterternary"
           }
          ],
          "surface": [
           {
            "colorbar": {
             "outlinewidth": 0,
             "ticks": ""
            },
            "colorscale": [
             [
              0,
              "#0d0887"
             ],
             [
              0.1111111111111111,
              "#46039f"
             ],
             [
              0.2222222222222222,
              "#7201a8"
             ],
             [
              0.3333333333333333,
              "#9c179e"
             ],
             [
              0.4444444444444444,
              "#bd3786"
             ],
             [
              0.5555555555555556,
              "#d8576b"
             ],
             [
              0.6666666666666666,
              "#ed7953"
             ],
             [
              0.7777777777777778,
              "#fb9f3a"
             ],
             [
              0.8888888888888888,
              "#fdca26"
             ],
             [
              1,
              "#f0f921"
             ]
            ],
            "type": "surface"
           }
          ],
          "table": [
           {
            "cells": {
             "fill": {
              "color": "#EBF0F8"
             },
             "line": {
              "color": "white"
             }
            },
            "header": {
             "fill": {
              "color": "#C8D4E3"
             },
             "line": {
              "color": "white"
             }
            },
            "type": "table"
           }
          ]
         },
         "layout": {
          "annotationdefaults": {
           "arrowcolor": "#2a3f5f",
           "arrowhead": 0,
           "arrowwidth": 1
          },
          "coloraxis": {
           "colorbar": {
            "outlinewidth": 0,
            "ticks": ""
           }
          },
          "colorscale": {
           "diverging": [
            [
             0,
             "#8e0152"
            ],
            [
             0.1,
             "#c51b7d"
            ],
            [
             0.2,
             "#de77ae"
            ],
            [
             0.3,
             "#f1b6da"
            ],
            [
             0.4,
             "#fde0ef"
            ],
            [
             0.5,
             "#f7f7f7"
            ],
            [
             0.6,
             "#e6f5d0"
            ],
            [
             0.7,
             "#b8e186"
            ],
            [
             0.8,
             "#7fbc41"
            ],
            [
             0.9,
             "#4d9221"
            ],
            [
             1,
             "#276419"
            ]
           ],
           "sequential": [
            [
             0,
             "#0d0887"
            ],
            [
             0.1111111111111111,
             "#46039f"
            ],
            [
             0.2222222222222222,
             "#7201a8"
            ],
            [
             0.3333333333333333,
             "#9c179e"
            ],
            [
             0.4444444444444444,
             "#bd3786"
            ],
            [
             0.5555555555555556,
             "#d8576b"
            ],
            [
             0.6666666666666666,
             "#ed7953"
            ],
            [
             0.7777777777777778,
             "#fb9f3a"
            ],
            [
             0.8888888888888888,
             "#fdca26"
            ],
            [
             1,
             "#f0f921"
            ]
           ],
           "sequentialminus": [
            [
             0,
             "#0d0887"
            ],
            [
             0.1111111111111111,
             "#46039f"
            ],
            [
             0.2222222222222222,
             "#7201a8"
            ],
            [
             0.3333333333333333,
             "#9c179e"
            ],
            [
             0.4444444444444444,
             "#bd3786"
            ],
            [
             0.5555555555555556,
             "#d8576b"
            ],
            [
             0.6666666666666666,
             "#ed7953"
            ],
            [
             0.7777777777777778,
             "#fb9f3a"
            ],
            [
             0.8888888888888888,
             "#fdca26"
            ],
            [
             1,
             "#f0f921"
            ]
           ]
          },
          "colorway": [
           "#636efa",
           "#EF553B",
           "#00cc96",
           "#ab63fa",
           "#FFA15A",
           "#19d3f3",
           "#FF6692",
           "#B6E880",
           "#FF97FF",
           "#FECB52"
          ],
          "font": {
           "color": "#2a3f5f"
          },
          "geo": {
           "bgcolor": "white",
           "lakecolor": "white",
           "landcolor": "#E5ECF6",
           "showlakes": true,
           "showland": true,
           "subunitcolor": "white"
          },
          "hoverlabel": {
           "align": "left"
          },
          "hovermode": "closest",
          "mapbox": {
           "style": "light"
          },
          "paper_bgcolor": "white",
          "plot_bgcolor": "#E5ECF6",
          "polar": {
           "angularaxis": {
            "gridcolor": "white",
            "linecolor": "white",
            "ticks": ""
           },
           "bgcolor": "#E5ECF6",
           "radialaxis": {
            "gridcolor": "white",
            "linecolor": "white",
            "ticks": ""
           }
          },
          "scene": {
           "xaxis": {
            "backgroundcolor": "#E5ECF6",
            "gridcolor": "white",
            "gridwidth": 2,
            "linecolor": "white",
            "showbackground": true,
            "ticks": "",
            "zerolinecolor": "white"
           },
           "yaxis": {
            "backgroundcolor": "#E5ECF6",
            "gridcolor": "white",
            "gridwidth": 2,
            "linecolor": "white",
            "showbackground": true,
            "ticks": "",
            "zerolinecolor": "white"
           },
           "zaxis": {
            "backgroundcolor": "#E5ECF6",
            "gridcolor": "white",
            "gridwidth": 2,
            "linecolor": "white",
            "showbackground": true,
            "ticks": "",
            "zerolinecolor": "white"
           }
          },
          "shapedefaults": {
           "line": {
            "color": "#2a3f5f"
           }
          },
          "ternary": {
           "aaxis": {
            "gridcolor": "white",
            "linecolor": "white",
            "ticks": ""
           },
           "baxis": {
            "gridcolor": "white",
            "linecolor": "white",
            "ticks": ""
           },
           "bgcolor": "#E5ECF6",
           "caxis": {
            "gridcolor": "white",
            "linecolor": "white",
            "ticks": ""
           }
          },
          "title": {
           "x": 0.05
          },
          "xaxis": {
           "automargin": true,
           "gridcolor": "white",
           "linecolor": "white",
           "ticks": "",
           "title": {
            "standoff": 15
           },
           "zerolinecolor": "white",
           "zerolinewidth": 2
          },
          "yaxis": {
           "automargin": true,
           "gridcolor": "white",
           "linecolor": "white",
           "ticks": "",
           "title": {
            "standoff": 15
           },
           "zerolinecolor": "white",
           "zerolinewidth": 2
          }
         }
        },
        "title": {
         "text": "wafare"
        },
        "width": 800
       }
      },
      "text/html": [
       "<div>\n",
       "        \n",
       "        \n",
       "            <div id=\"18e286b8-ed40-4336-8304-0061661ad702\" class=\"plotly-graph-div\" style=\"height:800px; width:800px;\"></div>\n",
       "            <script type=\"text/javascript\">\n",
       "                require([\"plotly\"], function(Plotly) {\n",
       "                    window.PLOTLYENV=window.PLOTLYENV || {};\n",
       "                    \n",
       "                if (document.getElementById(\"18e286b8-ed40-4336-8304-0061661ad702\")) {\n",
       "                    Plotly.newPlot(\n",
       "                        '18e286b8-ed40-4336-8304-0061661ad702',\n",
       "                        [{\"facecolor\": [\"rgb(119, 122, 115)\", \"rgb(167, 124, 79)\", \"rgb(110, 122, 122)\", \"rgb(144, 123, 96)\", \"rgb(107, 122, 124)\", \"rgb(196, 125, 58)\", \"rgb(166, 124, 80)\", \"rgb(242, 127, 24)\", \"rgb(31, 119, 180)\", \"rgb(204, 125, 51)\", \"rgb(227, 126, 35)\", \"rgb(252, 127, 16)\", \"rgb(184, 124, 67)\", \"rgb(235, 126, 29)\", \"rgb(197, 125, 57)\", \"rgb(228, 126, 34)\", \"rgb(239, 126, 26)\", \"rgb(250, 127, 17)\", \"rgb(252, 127, 16)\", \"rgb(253, 127, 15)\", \"rgb(33, 119, 178)\", \"rgb(241, 127, 24)\", \"rgb(246, 127, 21)\", \"rgb(183, 124, 67)\", \"rgb(242, 127, 24)\", \"rgb(174, 124, 74)\", \"rgb(255, 127, 14)\", \"rgb(188, 125, 64)\", \"rgb(35, 119, 177)\", \"rgb(35, 119, 177)\", \"rgb(170, 124, 77)\", \"rgb(246, 127, 21)\", \"rgb(171, 124, 76)\", \"rgb(156, 123, 87)\", \"rgb(242, 127, 24)\", \"rgb(166, 124, 80)\", \"rgb(234, 126, 29)\", \"rgb(174, 124, 74)\", \"rgb(238, 126, 26)\", \"rgb(180, 124, 70)\", \"rgb(33, 119, 179)\", \"rgb(35, 119, 177)\", \"rgb(88, 121, 137)\", \"rgb(186, 125, 65)\", \"rgb(92, 121, 135)\", \"rgb(100, 121, 129)\", \"rgb(191, 125, 62)\", \"rgb(95, 121, 133)\", \"rgb(248, 127, 19)\", \"rgb(182, 124, 68)\", \"rgb(249, 127, 19)\", \"rgb(183, 124, 67)\", \"rgb(31, 119, 180)\", \"rgb(32, 119, 180)\", \"rgb(146, 123, 95)\", \"rgb(236, 126, 28)\", \"rgb(154, 123, 89)\", \"rgb(163, 124, 83)\", \"rgb(240, 126, 25)\", \"rgb(160, 124, 85)\", \"rgb(250, 127, 17)\", \"rgb(248, 127, 19)\", \"rgb(137, 123, 101)\", \"rgb(229, 126, 33)\", \"rgb(131, 123, 106)\", \"rgb(220, 126, 40)\", \"rgb(112, 122, 120)\", \"rgb(208, 125, 49)\", \"rgb(118, 122, 115)\", \"rgb(125, 122, 110)\", \"rgb(215, 126, 43)\", \"rgb(121, 122, 113)\"], \"i\": [38, 32, 44, 17, 22, 18, 13, 14, 2, 19, 6, 3, 10, 16, 21, 21, 12, 12, 4, 16, 8, 8, 24, 8, 18, 6, 5, 5, 5, 4, 33, 14, 33, 16, 35, 34, 7, 21, 19, 8, 6, 7, 39, 18, 39, 21, 41, 40, 0, 12, 14, 4, 3, 0, 27, 10, 27, 12, 29, 28, 9, 24, 26, 10, 9, 9, 45, 19, 45, 24, 47, 46], \"j\": [17, 13, 22, 36, 42, 17, 30, 13, 3, 22, 18, 10, 3, 36, 42, 6, 30, 3, 14, 4, 2, 19, 8, 24, 5, 5, 16, 4, 6, 5, 14, 33, 34, 35, 16, 35, 21, 7, 7, 7, 7, 8, 18, 39, 40, 41, 21, 41, 12, 0, 0, 0, 0, 4, 10, 27, 28, 29, 12, 29, 10, 9, 9, 9, 48, 24, 19, 45, 46, 47, 24, 47], \"k\": [37, 31, 43, 37, 43, 38, 31, 32, 1, 44, 20, 11, 2, 17, 22, 20, 13, 11, 15, 15, 1, 23, 23, 2, 17, 18, 17, 16, 1, 1, 32, 15, 15, 36, 15, 15, 22, 6, 22, 19, 1, 1, 38, 20, 20, 42, 20, 20, 13, 3, 13, 14, 1, 1, 26, 11, 11, 30, 11, 11, 2, 2, 25, 26, 25, 48, 44, 23, 23, 48, 23, 23], \"name\": \"\", \"type\": \"mesh3d\", \"x\": [-49000.0, 0.0, 3.0002899036735098e-12, -34648.19921875, -34648.19921875, -9.00085995320099e-12, 34648.19921875, 49000.0, 34648.19921875, 6.00056983268704e-12, -37503.0, -69296.5, -90540.203125, -98000.0, -90540.203125, -69296.5, -37503.0, -1.80017008244437e-11, 37503.0, 90540.203125, 69296.5, 90540.203125, 98000.0, 69296.5, 37503.0, 9.00085995320099e-12, -38046.3984375, -73500.0, -103945.0, -127306.0, -141991.0, -147000.0, -141991.0, -127306.0, -103945.0, -73500.0, -38046.3984375, -2.70025998089229e-11, 38046.3984375, 73500.0, 103945.0, 127306.0, 141991.0, 147000.0, 141991.0, 127306.0, 103945.0, 73500.0, 38046.3984375], \"y\": [6.00056983268704e-12, 0.0, 49000.0, 34648.19921875, -34648.19921875, -49000.0, -34648.19921875, -1.20010997667341e-11, 34648.19921875, 98000.0, 90540.203125, 69296.5, 37503.0, 1.20010997667341e-11, -37503.0, -69296.5, -90540.203125, -98000.0, -90540.203125, 37503.0, -69296.5, -37503.0, -2.400230014742989e-11, 69296.5, 90540.203125, 147000.0, 141991.0, 127306.0, 103945.0, 73500.0, 38046.3984375, 1.80017008244437e-11, -38046.3984375, -73500.0, -103945.0, -127306.0, -141991.0, -147000.0, -141991.0, -127306.0, -103945.0, -73500.0, -38046.3984375, -3.600340164888749e-11, 38046.3984375, 73500.0, 103945.0, 127306.0, 141991.0], \"z\": [1504.9326171875, 1473.1966552734375, 1505.0733642578125, 1504.656982421875, 1504.851806640625, 1506.1884765625, 1504.775146484375, 1505.5272216796875, 1505.3861083984375, 1529.712890625, 1530.40625, 1530.7733154296875, 1529.775390625, 1529.458984375, 1530.2236328125, 1530.783935546875, 1530.6917724609375, 1530.0340576171875, 1525.6932373046875, 1527.6796875, 1525.888916015625, 1526.2130126953125, 1527.416748046875, 1528.6666259765625, 1529.3846435546875, 1496.0250244140625, 1496.9571533203125, 1498.508056640625, 1499.6435546875, 1500.664306640625, 1501.7388916015625, 1502.126220703125, 1502.24072265625, 1502.552001953125, 1502.0682373046875, 1500.5908203125, 1498.5860595703125, 1496.727294921875, 1489.06787109375, 1489.56494140625, 1490.259765625, 1490.664794921875, 1491.6451416015625, 1492.0863037109375, 1492.82373046875, 1492.757080078125, 1494.0594482421875, 1494.0093994140625, 1494.7783203125]}, {\"line\": {\"color\": \"rgb(50, 50, 50)\", \"width\": 1.5}, \"mode\": \"lines\", \"showlegend\": false, \"type\": \"scatter3d\", \"x\": [38046.3984375, -1.80017008244437e-11, -2.70025998089229e-11, 38046.3984375, null, -141991.0, -98000.0, -147000.0, -141991.0, null, 141991.0, 98000.0, 147000.0, 141991.0, null, -1.80017008244437e-11, -38046.3984375, -2.70025998089229e-11, -1.80017008244437e-11, null, 98000.0, 141991.0, 147000.0, 98000.0, null, 37503.0, -1.80017008244437e-11, 38046.3984375, 37503.0, null, -98000.0, -141991.0, -147000.0, -98000.0, null, -90540.203125, -98000.0, -141991.0, -90540.203125, null, 3.0002899036735098e-12, -34648.19921875, 0.0, 3.0002899036735098e-12, null, 90540.203125, 98000.0, 141991.0, 90540.203125, null, 34648.19921875, 37503.0, 69296.5, 34648.19921875, null, -34648.19921875, -37503.0, -69296.5, -34648.19921875, null, -37503.0, -34648.19921875, 3.0002899036735098e-12, -37503.0, null, -37503.0, -38046.3984375, -1.80017008244437e-11, -37503.0, null, 90540.203125, 141991.0, 98000.0, 90540.203125, null, 90540.203125, 34648.19921875, 69296.5, 90540.203125, null, -90540.203125, -141991.0, -98000.0, -90540.203125, null, -90540.203125, -34648.19921875, -69296.5, -90540.203125, null, -34648.19921875, -90540.203125, -69296.5, -34648.19921875, null, -37503.0, -34648.19921875, -69296.5, -37503.0, null, 34648.19921875, 3.0002899036735098e-12, 0.0, 34648.19921875, null, 34648.19921875, 90540.203125, 69296.5, 34648.19921875, null, 37503.0, 34648.19921875, 69296.5, 37503.0, null, 34648.19921875, 37503.0, 3.0002899036735098e-12, 34648.19921875, null, 37503.0, -9.00085995320099e-12, -1.80017008244437e-11, 37503.0, null, 34648.19921875, -9.00085995320099e-12, 37503.0, 34648.19921875, null, -9.00085995320099e-12, -37503.0, -1.80017008244437e-11, -9.00085995320099e-12, null, -9.00085995320099e-12, -34648.19921875, -37503.0, -9.00085995320099e-12, null, -9.00085995320099e-12, 34648.19921875, 0.0, -9.00085995320099e-12, null, -34648.19921875, -9.00085995320099e-12, 0.0, -34648.19921875, null, -127306.0, -90540.203125, -141991.0, -127306.0, null, -90540.203125, -127306.0, -69296.5, -90540.203125, null, -127306.0, -103945.0, -69296.5, -127306.0, null, -37503.0, -73500.0, -38046.3984375, -37503.0, null, -73500.0, -37503.0, -69296.5, -73500.0, null, -103945.0, -73500.0, -69296.5, -103945.0, null, 49000.0, 90540.203125, 98000.0, 49000.0, null, 90540.203125, 49000.0, 34648.19921875, 90540.203125, null, 90540.203125, 49000.0, 98000.0, 90540.203125, null, 34648.19921875, 49000.0, 90540.203125, 34648.19921875, null, 34648.19921875, 49000.0, 0.0, 34648.19921875, null, 49000.0, 34648.19921875, 0.0, 49000.0, null, 73500.0, 37503.0, 38046.3984375, 73500.0, null, 37503.0, 73500.0, 69296.5, 37503.0, null, 73500.0, 103945.0, 69296.5, 73500.0, null, 90540.203125, 127306.0, 141991.0, 90540.203125, null, 127306.0, 90540.203125, 69296.5, 127306.0, null, 103945.0, 127306.0, 69296.5, 103945.0, null, -49000.0, -90540.203125, -98000.0, -49000.0, null, -90540.203125, -49000.0, -34648.19921875, -90540.203125, null, -90540.203125, -49000.0, -98000.0, -90540.203125, null, -34648.19921875, -49000.0, -90540.203125, -34648.19921875, null, -34648.19921875, -49000.0, 0.0, -34648.19921875, null, -49000.0, -34648.19921875, 0.0, -49000.0, null, -73500.0, -37503.0, -38046.3984375, -73500.0, null, -37503.0, -73500.0, -69296.5, -37503.0, null, -73500.0, -103945.0, -69296.5, -73500.0, null, -90540.203125, -127306.0, -141991.0, -90540.203125, null, -127306.0, -90540.203125, -69296.5, -127306.0, null, -103945.0, -127306.0, -69296.5, -103945.0, null, 6.00056983268704e-12, -37503.0, 3.0002899036735098e-12, 6.00056983268704e-12, null, 37503.0, 6.00056983268704e-12, 3.0002899036735098e-12, 37503.0, null, -38046.3984375, 6.00056983268704e-12, 9.00085995320099e-12, -38046.3984375, null, -37503.0, 6.00056983268704e-12, -38046.3984375, -37503.0, null, 6.00056983268704e-12, 38046.3984375, 9.00085995320099e-12, 6.00056983268704e-12, null, 6.00056983268704e-12, 37503.0, 38046.3984375, 6.00056983268704e-12, null, 127306.0, 90540.203125, 141991.0, 127306.0, null, 90540.203125, 127306.0, 69296.5, 90540.203125, null, 127306.0, 103945.0, 69296.5, 127306.0, null, 37503.0, 73500.0, 38046.3984375, 37503.0, null, 73500.0, 37503.0, 69296.5, 73500.0, null, 103945.0, 73500.0, 69296.5, 103945.0, null], \"y\": [-141991.0, -98000.0, -147000.0, -141991.0, null, -38046.3984375, 1.20010997667341e-11, 1.80017008244437e-11, -38046.3984375, null, 38046.3984375, -2.400230014742989e-11, -3.600340164888749e-11, 38046.3984375, null, -98000.0, -141991.0, -147000.0, -98000.0, null, -2.400230014742989e-11, -38046.3984375, -3.600340164888749e-11, -2.400230014742989e-11, null, -90540.203125, -98000.0, -141991.0, -90540.203125, null, 1.20010997667341e-11, 38046.3984375, 1.80017008244437e-11, 1.20010997667341e-11, null, -37503.0, 1.20010997667341e-11, -38046.3984375, -37503.0, null, 49000.0, 34648.19921875, 0.0, 49000.0, null, 37503.0, -2.400230014742989e-11, 38046.3984375, 37503.0, null, -34648.19921875, -90540.203125, -69296.5, -34648.19921875, null, 34648.19921875, 90540.203125, 69296.5, 34648.19921875, null, 90540.203125, 34648.19921875, 49000.0, 90540.203125, null, -90540.203125, -141991.0, -98000.0, -90540.203125, null, -37503.0, -38046.3984375, -2.400230014742989e-11, -37503.0, null, -37503.0, -34648.19921875, -69296.5, -37503.0, null, 37503.0, 38046.3984375, 1.20010997667341e-11, 37503.0, null, 37503.0, 34648.19921875, 69296.5, 37503.0, null, -34648.19921875, -37503.0, -69296.5, -34648.19921875, null, -90540.203125, -34648.19921875, -69296.5, -90540.203125, null, 34648.19921875, 49000.0, 0.0, 34648.19921875, null, 34648.19921875, 37503.0, 69296.5, 34648.19921875, null, 90540.203125, 34648.19921875, 69296.5, 90540.203125, null, 34648.19921875, 90540.203125, 49000.0, 34648.19921875, null, -90540.203125, -49000.0, -98000.0, -90540.203125, null, -34648.19921875, -49000.0, -90540.203125, -34648.19921875, null, -49000.0, -90540.203125, -98000.0, -49000.0, null, -49000.0, -34648.19921875, -90540.203125, -49000.0, null, -49000.0, -34648.19921875, 0.0, -49000.0, null, -34648.19921875, -49000.0, 0.0, -34648.19921875, null, -73500.0, -37503.0, -38046.3984375, -73500.0, null, -37503.0, -73500.0, -69296.5, -37503.0, null, -73500.0, -103945.0, -69296.5, -73500.0, null, -90540.203125, -127306.0, -141991.0, -90540.203125, null, -127306.0, -90540.203125, -69296.5, -127306.0, null, -103945.0, -127306.0, -69296.5, -103945.0, null, -1.20010997667341e-11, -37503.0, -2.400230014742989e-11, -1.20010997667341e-11, null, -37503.0, -1.20010997667341e-11, -34648.19921875, -37503.0, null, 37503.0, -1.20010997667341e-11, -2.400230014742989e-11, 37503.0, null, 34648.19921875, -1.20010997667341e-11, 37503.0, 34648.19921875, null, -34648.19921875, -1.20010997667341e-11, 0.0, -34648.19921875, null, -1.20010997667341e-11, 34648.19921875, 0.0, -1.20010997667341e-11, null, -127306.0, -90540.203125, -141991.0, -127306.0, null, -90540.203125, -127306.0, -69296.5, -90540.203125, null, -127306.0, -103945.0, -69296.5, -127306.0, null, -37503.0, -73500.0, -38046.3984375, -37503.0, null, -73500.0, -37503.0, -69296.5, -73500.0, null, -103945.0, -73500.0, -69296.5, -103945.0, null, 6.00056983268704e-12, 37503.0, 1.20010997667341e-11, 6.00056983268704e-12, null, 37503.0, 6.00056983268704e-12, 34648.19921875, 37503.0, null, -37503.0, 6.00056983268704e-12, 1.20010997667341e-11, -37503.0, null, -34648.19921875, 6.00056983268704e-12, -37503.0, -34648.19921875, null, 34648.19921875, 6.00056983268704e-12, 0.0, 34648.19921875, null, 6.00056983268704e-12, -34648.19921875, 0.0, 6.00056983268704e-12, null, 127306.0, 90540.203125, 141991.0, 127306.0, null, 90540.203125, 127306.0, 69296.5, 90540.203125, null, 127306.0, 103945.0, 69296.5, 127306.0, null, 37503.0, 73500.0, 38046.3984375, 37503.0, null, 73500.0, 37503.0, 69296.5, 73500.0, null, 103945.0, 73500.0, 69296.5, 103945.0, null, 98000.0, 90540.203125, 49000.0, 98000.0, null, 90540.203125, 98000.0, 49000.0, 90540.203125, null, 141991.0, 98000.0, 147000.0, 141991.0, null, 90540.203125, 98000.0, 141991.0, 90540.203125, null, 98000.0, 141991.0, 147000.0, 98000.0, null, 98000.0, 90540.203125, 141991.0, 98000.0, null, 73500.0, 37503.0, 38046.3984375, 73500.0, null, 37503.0, 73500.0, 69296.5, 37503.0, null, 73500.0, 103945.0, 69296.5, 73500.0, null, 90540.203125, 127306.0, 141991.0, 90540.203125, null, 127306.0, 90540.203125, 69296.5, 127306.0, null, 103945.0, 127306.0, 69296.5, 103945.0, null], \"z\": [1489.06787109375, 1530.0340576171875, 1496.727294921875, 1489.06787109375, null, 1502.24072265625, 1529.458984375, 1502.126220703125, 1502.24072265625, null, 1492.82373046875, 1527.416748046875, 1492.0863037109375, 1492.82373046875, null, 1530.0340576171875, 1498.5860595703125, 1496.727294921875, 1530.0340576171875, null, 1527.416748046875, 1491.6451416015625, 1492.0863037109375, 1527.416748046875, null, 1525.6932373046875, 1530.0340576171875, 1489.06787109375, 1525.6932373046875, null, 1529.458984375, 1501.7388916015625, 1502.126220703125, 1529.458984375, null, 1530.2236328125, 1529.458984375, 1502.24072265625, 1530.2236328125, null, 1505.0733642578125, 1504.656982421875, 1473.1966552734375, 1505.0733642578125, null, 1527.6796875, 1527.416748046875, 1492.82373046875, 1527.6796875, null, 1504.775146484375, 1525.6932373046875, 1525.888916015625, 1504.775146484375, null, 1504.656982421875, 1530.40625, 1530.7733154296875, 1504.656982421875, null, 1530.40625, 1504.656982421875, 1505.0733642578125, 1530.40625, null, 1530.6917724609375, 1498.5860595703125, 1530.0340576171875, 1530.6917724609375, null, 1526.2130126953125, 1491.6451416015625, 1527.416748046875, 1526.2130126953125, null, 1526.2130126953125, 1504.775146484375, 1525.888916015625, 1526.2130126953125, null, 1529.775390625, 1501.7388916015625, 1529.458984375, 1529.775390625, null, 1529.775390625, 1504.656982421875, 1530.7733154296875, 1529.775390625, null, 1504.851806640625, 1530.2236328125, 1530.783935546875, 1504.851806640625, null, 1530.6917724609375, 1504.851806640625, 1530.783935546875, 1530.6917724609375, null, 1505.3861083984375, 1505.0733642578125, 1473.1966552734375, 1505.3861083984375, null, 1505.3861083984375, 1527.6796875, 1528.6666259765625, 1505.3861083984375, null, 1529.3846435546875, 1505.3861083984375, 1528.6666259765625, 1529.3846435546875, null, 1505.3861083984375, 1529.3846435546875, 1505.0733642578125, 1505.3861083984375, null, 1525.6932373046875, 1506.1884765625, 1530.0340576171875, 1525.6932373046875, null, 1504.775146484375, 1506.1884765625, 1525.6932373046875, 1504.775146484375, null, 1506.1884765625, 1530.6917724609375, 1530.0340576171875, 1506.1884765625, null, 1506.1884765625, 1504.851806640625, 1530.6917724609375, 1506.1884765625, null, 1506.1884765625, 1504.775146484375, 1473.1966552734375, 1506.1884765625, null, 1504.851806640625, 1506.1884765625, 1473.1966552734375, 1504.851806640625, null, 1502.552001953125, 1530.2236328125, 1502.24072265625, 1502.552001953125, null, 1530.2236328125, 1502.552001953125, 1530.783935546875, 1530.2236328125, null, 1502.552001953125, 1502.0682373046875, 1530.783935546875, 1502.552001953125, null, 1530.6917724609375, 1500.5908203125, 1498.5860595703125, 1530.6917724609375, null, 1500.5908203125, 1530.6917724609375, 1530.783935546875, 1500.5908203125, null, 1502.0682373046875, 1500.5908203125, 1530.783935546875, 1502.0682373046875, null, 1505.5272216796875, 1526.2130126953125, 1527.416748046875, 1505.5272216796875, null, 1526.2130126953125, 1505.5272216796875, 1504.775146484375, 1526.2130126953125, null, 1527.6796875, 1505.5272216796875, 1527.416748046875, 1527.6796875, null, 1505.3861083984375, 1505.5272216796875, 1527.6796875, 1505.3861083984375, null, 1504.775146484375, 1505.5272216796875, 1473.1966552734375, 1504.775146484375, null, 1505.5272216796875, 1505.3861083984375, 1473.1966552734375, 1505.5272216796875, null, 1489.56494140625, 1525.6932373046875, 1489.06787109375, 1489.56494140625, null, 1525.6932373046875, 1489.56494140625, 1525.888916015625, 1525.6932373046875, null, 1489.56494140625, 1490.259765625, 1525.888916015625, 1489.56494140625, null, 1526.2130126953125, 1490.664794921875, 1491.6451416015625, 1526.2130126953125, null, 1490.664794921875, 1526.2130126953125, 1525.888916015625, 1490.664794921875, null, 1490.259765625, 1490.664794921875, 1525.888916015625, 1490.259765625, null, 1504.9326171875, 1529.775390625, 1529.458984375, 1504.9326171875, null, 1529.775390625, 1504.9326171875, 1504.656982421875, 1529.775390625, null, 1530.2236328125, 1504.9326171875, 1529.458984375, 1530.2236328125, null, 1504.851806640625, 1504.9326171875, 1530.2236328125, 1504.851806640625, null, 1504.656982421875, 1504.9326171875, 1473.1966552734375, 1504.656982421875, null, 1504.9326171875, 1504.851806640625, 1473.1966552734375, 1504.9326171875, null, 1498.508056640625, 1530.40625, 1496.9571533203125, 1498.508056640625, null, 1530.40625, 1498.508056640625, 1530.7733154296875, 1530.40625, null, 1498.508056640625, 1499.6435546875, 1530.7733154296875, 1498.508056640625, null, 1529.775390625, 1500.664306640625, 1501.7388916015625, 1529.775390625, null, 1500.664306640625, 1529.775390625, 1530.7733154296875, 1500.664306640625, null, 1499.6435546875, 1500.664306640625, 1530.7733154296875, 1499.6435546875, null, 1529.712890625, 1530.40625, 1505.0733642578125, 1529.712890625, null, 1529.3846435546875, 1529.712890625, 1505.0733642578125, 1529.3846435546875, null, 1496.9571533203125, 1529.712890625, 1496.0250244140625, 1496.9571533203125, null, 1530.40625, 1529.712890625, 1496.9571533203125, 1530.40625, null, 1529.712890625, 1494.7783203125, 1496.0250244140625, 1529.712890625, null, 1529.712890625, 1529.3846435546875, 1494.7783203125, 1529.712890625, null, 1492.757080078125, 1527.6796875, 1492.82373046875, 1492.757080078125, null, 1527.6796875, 1492.757080078125, 1528.6666259765625, 1527.6796875, null, 1492.757080078125, 1494.0594482421875, 1528.6666259765625, 1492.757080078125, null, 1529.3846435546875, 1494.0093994140625, 1494.7783203125, 1529.3846435546875, null, 1494.0093994140625, 1529.3846435546875, 1528.6666259765625, 1494.0093994140625, null, 1494.0594482421875, 1494.0093994140625, 1528.6666259765625, 1494.0594482421875, null]}, {\"hoverinfo\": \"none\", \"marker\": {\"color\": [1494.2620849609375, 1522.3047688802083], \"colorscale\": [[0.0, \"rgb(31, 119, 180)\"], [1.0, \"rgb(255, 127, 14)\"]], \"showscale\": true, \"size\": 0.1}, \"mode\": \"markers\", \"showlegend\": false, \"type\": \"scatter3d\", \"x\": [-49000.0], \"y\": [6.00056983268704e-12], \"z\": [1504.9326171875]}],\n",
       "                        {\"height\": 800, \"scene\": {\"aspectratio\": {\"x\": 1, \"y\": 1, \"z\": 0.5}, \"xaxis\": {\"backgroundcolor\": \"rgb(230, 230, 230)\", \"gridcolor\": \"rgb(255, 255, 255)\", \"showbackground\": true, \"zerolinecolor\": \"rgb(255, 255, 255)\"}, \"yaxis\": {\"backgroundcolor\": \"rgb(230, 230, 230)\", \"gridcolor\": \"rgb(255, 255, 255)\", \"showbackground\": true, \"zerolinecolor\": \"rgb(255, 255, 255)\"}, \"zaxis\": {\"backgroundcolor\": \"rgb(230, 230, 230)\", \"gridcolor\": \"rgb(255, 255, 255)\", \"showbackground\": true, \"zerolinecolor\": \"rgb(255, 255, 255)\"}}, \"template\": {\"data\": {\"bar\": [{\"error_x\": {\"color\": \"#2a3f5f\"}, \"error_y\": {\"color\": \"#2a3f5f\"}, \"marker\": {\"line\": {\"color\": \"#E5ECF6\", \"width\": 0.5}}, \"type\": \"bar\"}], \"barpolar\": [{\"marker\": {\"line\": {\"color\": \"#E5ECF6\", \"width\": 0.5}}, \"type\": \"barpolar\"}], \"carpet\": [{\"aaxis\": {\"endlinecolor\": \"#2a3f5f\", \"gridcolor\": \"white\", \"linecolor\": \"white\", \"minorgridcolor\": \"white\", \"startlinecolor\": \"#2a3f5f\"}, \"baxis\": {\"endlinecolor\": \"#2a3f5f\", \"gridcolor\": \"white\", \"linecolor\": \"white\", \"minorgridcolor\": \"white\", \"startlinecolor\": \"#2a3f5f\"}, \"type\": \"carpet\"}], \"choropleth\": [{\"colorbar\": {\"outlinewidth\": 0, \"ticks\": \"\"}, \"type\": \"choropleth\"}], \"contour\": [{\"colorbar\": {\"outlinewidth\": 0, \"ticks\": \"\"}, \"colorscale\": [[0.0, \"#0d0887\"], [0.1111111111111111, \"#46039f\"], [0.2222222222222222, \"#7201a8\"], [0.3333333333333333, \"#9c179e\"], [0.4444444444444444, \"#bd3786\"], [0.5555555555555556, \"#d8576b\"], [0.6666666666666666, \"#ed7953\"], [0.7777777777777778, \"#fb9f3a\"], [0.8888888888888888, \"#fdca26\"], [1.0, \"#f0f921\"]], \"type\": \"contour\"}], \"contourcarpet\": [{\"colorbar\": {\"outlinewidth\": 0, \"ticks\": \"\"}, \"type\": \"contourcarpet\"}], \"heatmap\": [{\"colorbar\": {\"outlinewidth\": 0, \"ticks\": \"\"}, \"colorscale\": [[0.0, \"#0d0887\"], [0.1111111111111111, \"#46039f\"], [0.2222222222222222, \"#7201a8\"], [0.3333333333333333, \"#9c179e\"], [0.4444444444444444, \"#bd3786\"], [0.5555555555555556, \"#d8576b\"], [0.6666666666666666, \"#ed7953\"], [0.7777777777777778, \"#fb9f3a\"], [0.8888888888888888, \"#fdca26\"], [1.0, \"#f0f921\"]], \"type\": \"heatmap\"}], \"heatmapgl\": [{\"colorbar\": {\"outlinewidth\": 0, \"ticks\": \"\"}, \"colorscale\": [[0.0, \"#0d0887\"], [0.1111111111111111, \"#46039f\"], [0.2222222222222222, \"#7201a8\"], [0.3333333333333333, \"#9c179e\"], [0.4444444444444444, \"#bd3786\"], [0.5555555555555556, \"#d8576b\"], [0.6666666666666666, \"#ed7953\"], [0.7777777777777778, \"#fb9f3a\"], [0.8888888888888888, \"#fdca26\"], [1.0, \"#f0f921\"]], \"type\": \"heatmapgl\"}], \"histogram\": [{\"marker\": {\"colorbar\": {\"outlinewidth\": 0, \"ticks\": \"\"}}, \"type\": \"histogram\"}], \"histogram2d\": [{\"colorbar\": {\"outlinewidth\": 0, \"ticks\": \"\"}, \"colorscale\": [[0.0, \"#0d0887\"], [0.1111111111111111, \"#46039f\"], [0.2222222222222222, \"#7201a8\"], [0.3333333333333333, \"#9c179e\"], [0.4444444444444444, \"#bd3786\"], [0.5555555555555556, \"#d8576b\"], [0.6666666666666666, \"#ed7953\"], [0.7777777777777778, \"#fb9f3a\"], [0.8888888888888888, \"#fdca26\"], [1.0, \"#f0f921\"]], \"type\": \"histogram2d\"}], \"histogram2dcontour\": [{\"colorbar\": {\"outlinewidth\": 0, \"ticks\": \"\"}, \"colorscale\": [[0.0, \"#0d0887\"], [0.1111111111111111, \"#46039f\"], [0.2222222222222222, \"#7201a8\"], [0.3333333333333333, \"#9c179e\"], [0.4444444444444444, \"#bd3786\"], [0.5555555555555556, \"#d8576b\"], [0.6666666666666666, \"#ed7953\"], [0.7777777777777778, \"#fb9f3a\"], [0.8888888888888888, \"#fdca26\"], [1.0, \"#f0f921\"]], \"type\": \"histogram2dcontour\"}], \"mesh3d\": [{\"colorbar\": {\"outlinewidth\": 0, \"ticks\": \"\"}, \"type\": \"mesh3d\"}], \"parcoords\": [{\"line\": {\"colorbar\": {\"outlinewidth\": 0, \"ticks\": \"\"}}, \"type\": \"parcoords\"}], \"pie\": [{\"automargin\": true, \"type\": \"pie\"}], \"scatter\": [{\"marker\": {\"colorbar\": {\"outlinewidth\": 0, \"ticks\": \"\"}}, \"type\": \"scatter\"}], \"scatter3d\": [{\"line\": {\"colorbar\": {\"outlinewidth\": 0, \"ticks\": \"\"}}, \"marker\": {\"colorbar\": {\"outlinewidth\": 0, \"ticks\": \"\"}}, \"type\": \"scatter3d\"}], \"scattercarpet\": [{\"marker\": {\"colorbar\": {\"outlinewidth\": 0, \"ticks\": \"\"}}, \"type\": \"scattercarpet\"}], \"scattergeo\": [{\"marker\": {\"colorbar\": {\"outlinewidth\": 0, \"ticks\": \"\"}}, \"type\": \"scattergeo\"}], \"scattergl\": [{\"marker\": {\"colorbar\": {\"outlinewidth\": 0, \"ticks\": \"\"}}, \"type\": \"scattergl\"}], \"scattermapbox\": [{\"marker\": {\"colorbar\": {\"outlinewidth\": 0, \"ticks\": \"\"}}, \"type\": \"scattermapbox\"}], \"scatterpolar\": [{\"marker\": {\"colorbar\": {\"outlinewidth\": 0, \"ticks\": \"\"}}, \"type\": \"scatterpolar\"}], \"scatterpolargl\": [{\"marker\": {\"colorbar\": {\"outlinewidth\": 0, \"ticks\": \"\"}}, \"type\": \"scatterpolargl\"}], \"scatterternary\": [{\"marker\": {\"colorbar\": {\"outlinewidth\": 0, \"ticks\": \"\"}}, \"type\": \"scatterternary\"}], \"surface\": [{\"colorbar\": {\"outlinewidth\": 0, \"ticks\": \"\"}, \"colorscale\": [[0.0, \"#0d0887\"], [0.1111111111111111, \"#46039f\"], [0.2222222222222222, \"#7201a8\"], [0.3333333333333333, \"#9c179e\"], [0.4444444444444444, \"#bd3786\"], [0.5555555555555556, \"#d8576b\"], [0.6666666666666666, \"#ed7953\"], [0.7777777777777778, \"#fb9f3a\"], [0.8888888888888888, \"#fdca26\"], [1.0, \"#f0f921\"]], \"type\": \"surface\"}], \"table\": [{\"cells\": {\"fill\": {\"color\": \"#EBF0F8\"}, \"line\": {\"color\": \"white\"}}, \"header\": {\"fill\": {\"color\": \"#C8D4E3\"}, \"line\": {\"color\": \"white\"}}, \"type\": \"table\"}]}, \"layout\": {\"annotationdefaults\": {\"arrowcolor\": \"#2a3f5f\", \"arrowhead\": 0, \"arrowwidth\": 1}, \"coloraxis\": {\"colorbar\": {\"outlinewidth\": 0, \"ticks\": \"\"}}, \"colorscale\": {\"diverging\": [[0, \"#8e0152\"], [0.1, \"#c51b7d\"], [0.2, \"#de77ae\"], [0.3, \"#f1b6da\"], [0.4, \"#fde0ef\"], [0.5, \"#f7f7f7\"], [0.6, \"#e6f5d0\"], [0.7, \"#b8e186\"], [0.8, \"#7fbc41\"], [0.9, \"#4d9221\"], [1, \"#276419\"]], \"sequential\": [[0.0, \"#0d0887\"], [0.1111111111111111, \"#46039f\"], [0.2222222222222222, \"#7201a8\"], [0.3333333333333333, \"#9c179e\"], [0.4444444444444444, \"#bd3786\"], [0.5555555555555556, \"#d8576b\"], [0.6666666666666666, \"#ed7953\"], [0.7777777777777778, \"#fb9f3a\"], [0.8888888888888888, \"#fdca26\"], [1.0, \"#f0f921\"]], \"sequentialminus\": [[0.0, \"#0d0887\"], [0.1111111111111111, \"#46039f\"], [0.2222222222222222, \"#7201a8\"], [0.3333333333333333, \"#9c179e\"], [0.4444444444444444, \"#bd3786\"], [0.5555555555555556, \"#d8576b\"], [0.6666666666666666, \"#ed7953\"], [0.7777777777777778, \"#fb9f3a\"], [0.8888888888888888, \"#fdca26\"], [1.0, \"#f0f921\"]]}, \"colorway\": [\"#636efa\", \"#EF553B\", \"#00cc96\", \"#ab63fa\", \"#FFA15A\", \"#19d3f3\", \"#FF6692\", \"#B6E880\", \"#FF97FF\", \"#FECB52\"], \"font\": {\"color\": \"#2a3f5f\"}, \"geo\": {\"bgcolor\": \"white\", \"lakecolor\": \"white\", \"landcolor\": \"#E5ECF6\", \"showlakes\": true, \"showland\": true, \"subunitcolor\": \"white\"}, \"hoverlabel\": {\"align\": \"left\"}, \"hovermode\": \"closest\", \"mapbox\": {\"style\": \"light\"}, \"paper_bgcolor\": \"white\", \"plot_bgcolor\": \"#E5ECF6\", \"polar\": {\"angularaxis\": {\"gridcolor\": \"white\", \"linecolor\": \"white\", \"ticks\": \"\"}, \"bgcolor\": \"#E5ECF6\", \"radialaxis\": {\"gridcolor\": \"white\", \"linecolor\": \"white\", \"ticks\": \"\"}}, \"scene\": {\"xaxis\": {\"backgroundcolor\": \"#E5ECF6\", \"gridcolor\": \"white\", \"gridwidth\": 2, \"linecolor\": \"white\", \"showbackground\": true, \"ticks\": \"\", \"zerolinecolor\": \"white\"}, \"yaxis\": {\"backgroundcolor\": \"#E5ECF6\", \"gridcolor\": \"white\", \"gridwidth\": 2, \"linecolor\": \"white\", \"showbackground\": true, \"ticks\": \"\", \"zerolinecolor\": \"white\"}, \"zaxis\": {\"backgroundcolor\": \"#E5ECF6\", \"gridcolor\": \"white\", \"gridwidth\": 2, \"linecolor\": \"white\", \"showbackground\": true, \"ticks\": \"\", \"zerolinecolor\": \"white\"}}, \"shapedefaults\": {\"line\": {\"color\": \"#2a3f5f\"}}, \"ternary\": {\"aaxis\": {\"gridcolor\": \"white\", \"linecolor\": \"white\", \"ticks\": \"\"}, \"baxis\": {\"gridcolor\": \"white\", \"linecolor\": \"white\", \"ticks\": \"\"}, \"bgcolor\": \"#E5ECF6\", \"caxis\": {\"gridcolor\": \"white\", \"linecolor\": \"white\", \"ticks\": \"\"}}, \"title\": {\"x\": 0.05}, \"xaxis\": {\"automargin\": true, \"gridcolor\": \"white\", \"linecolor\": \"white\", \"ticks\": \"\", \"title\": {\"standoff\": 15}, \"zerolinecolor\": \"white\", \"zerolinewidth\": 2}, \"yaxis\": {\"automargin\": true, \"gridcolor\": \"white\", \"linecolor\": \"white\", \"ticks\": \"\", \"title\": {\"standoff\": 15}, \"zerolinecolor\": \"white\", \"zerolinewidth\": 2}}}, \"title\": {\"text\": \"wafare\"}, \"width\": 800},\n",
       "                        {\"responsive\": true}\n",
       "                    ).then(function(){\n",
       "                            \n",
       "var gd = document.getElementById('18e286b8-ed40-4336-8304-0061661ad702');\n",
       "var x = new MutationObserver(function (mutations, observer) {{\n",
       "        var display = window.getComputedStyle(gd).display;\n",
       "        if (!display || display === 'none') {{\n",
       "            console.log([gd, 'removed!']);\n",
       "            Plotly.purge(gd);\n",
       "            observer.disconnect();\n",
       "        }}\n",
       "}});\n",
       "\n",
       "// Listen for the removal of the full notebook cells\n",
       "var notebookContainer = gd.closest('#notebook-container');\n",
       "if (notebookContainer) {{\n",
       "    x.observe(notebookContainer, {childList: true});\n",
       "}}\n",
       "\n",
       "// Listen for the clearing of the current output cell\n",
       "var outputEl = gd.closest('.output');\n",
       "if (outputEl) {{\n",
       "    x.observe(outputEl, {childList: true});\n",
       "}}\n",
       "\n",
       "                        })\n",
       "                };\n",
       "                });\n",
       "            </script>\n",
       "        </div>"
      ]
     },
     "metadata": {},
     "output_type": "display_data"
    },
    {
     "name": "stdout",
     "output_type": "stream",
     "text": [
      "2\n",
      "187.5\n"
     ]
    },
    {
     "data": {
      "application/vnd.jupyter.widget-view+json": {
       "model_id": "94f9a5ef6c9843bfbab74a09048413ef",
       "version_major": 2,
       "version_minor": 0
      },
      "text/plain": [
       "Canvas(toolbar=Toolbar(toolitems=[('Home', 'Reset original view', 'home', 'home'), ('Back', 'Back to previous …"
      ]
     },
     "metadata": {},
     "output_type": "display_data"
    },
    {
     "data": {
      "application/vnd.plotly.v1+json": {
       "config": {
        "plotlyServerURL": "https://plot.ly"
       },
       "data": [
        {
         "facecolor": [
          "rgb(118, 122, 115)",
          "rgb(167, 124, 79)",
          "rgb(109, 122, 122)",
          "rgb(145, 123, 96)",
          "rgb(106, 122, 124)",
          "rgb(196, 125, 58)",
          "rgb(164, 124, 81)",
          "rgb(243, 127, 23)",
          "rgb(33, 119, 179)",
          "rgb(207, 125, 49)",
          "rgb(229, 126, 34)",
          "rgb(254, 127, 15)",
          "rgb(186, 125, 65)",
          "rgb(235, 126, 29)",
          "rgb(200, 125, 55)",
          "rgb(231, 126, 32)",
          "rgb(240, 126, 25)",
          "rgb(253, 127, 15)",
          "rgb(254, 127, 15)",
          "rgb(255, 127, 14)",
          "rgb(34, 119, 178)",
          "rgb(245, 127, 21)",
          "rgb(248, 127, 19)",
          "rgb(185, 125, 66)",
          "rgb(241, 127, 24)",
          "rgb(174, 124, 74)",
          "rgb(254, 127, 15)",
          "rgb(189, 125, 63)",
          "rgb(32, 119, 179)",
          "rgb(34, 119, 178)",
          "rgb(170, 124, 77)",
          "rgb(246, 127, 21)",
          "rgb(171, 124, 76)",
          "rgb(157, 123, 87)",
          "rgb(243, 127, 23)",
          "rgb(166, 124, 80)",
          "rgb(238, 126, 27)",
          "rgb(176, 124, 73)",
          "rgb(243, 127, 23)",
          "rgb(183, 124, 68)",
          "rgb(32, 119, 179)",
          "rgb(34, 119, 178)",
          "rgb(88, 121, 138)",
          "rgb(188, 125, 64)",
          "rgb(91, 121, 135)",
          "rgb(101, 122, 128)",
          "rgb(194, 125, 59)",
          "rgb(95, 121, 132)",
          "rgb(249, 127, 19)",
          "rgb(183, 124, 67)",
          "rgb(250, 127, 18)",
          "rgb(185, 124, 66)",
          "rgb(31, 119, 180)",
          "rgb(31, 119, 180)",
          "rgb(146, 123, 95)",
          "rgb(237, 126, 28)",
          "rgb(154, 123, 89)",
          "rgb(162, 124, 83)",
          "rgb(241, 126, 25)",
          "rgb(160, 124, 85)",
          "rgb(253, 127, 15)",
          "rgb(251, 127, 17)",
          "rgb(137, 123, 101)",
          "rgb(230, 126, 32)",
          "rgb(131, 123, 106)",
          "rgb(222, 126, 38)",
          "rgb(114, 122, 119)",
          "rgb(212, 125, 46)",
          "rgb(117, 122, 116)",
          "rgb(125, 122, 111)",
          "rgb(217, 126, 42)",
          "rgb(119, 122, 115)"
         ],
         "i": [
          38,
          32,
          44,
          17,
          22,
          18,
          13,
          14,
          2,
          19,
          6,
          3,
          10,
          16,
          21,
          21,
          12,
          12,
          4,
          16,
          8,
          8,
          24,
          8,
          18,
          6,
          5,
          5,
          5,
          4,
          33,
          14,
          33,
          16,
          35,
          34,
          7,
          21,
          19,
          8,
          6,
          7,
          39,
          18,
          39,
          21,
          41,
          40,
          0,
          12,
          14,
          4,
          3,
          0,
          27,
          10,
          27,
          12,
          29,
          28,
          9,
          24,
          26,
          10,
          9,
          9,
          45,
          19,
          45,
          24,
          47,
          46
         ],
         "j": [
          17,
          13,
          22,
          36,
          42,
          17,
          30,
          13,
          3,
          22,
          18,
          10,
          3,
          36,
          42,
          6,
          30,
          3,
          14,
          4,
          2,
          19,
          8,
          24,
          5,
          5,
          16,
          4,
          6,
          5,
          14,
          33,
          34,
          35,
          16,
          35,
          21,
          7,
          7,
          7,
          7,
          8,
          18,
          39,
          40,
          41,
          21,
          41,
          12,
          0,
          0,
          0,
          0,
          4,
          10,
          27,
          28,
          29,
          12,
          29,
          10,
          9,
          9,
          9,
          48,
          24,
          19,
          45,
          46,
          47,
          24,
          47
         ],
         "k": [
          37,
          31,
          43,
          37,
          43,
          38,
          31,
          32,
          1,
          44,
          20,
          11,
          2,
          17,
          22,
          20,
          13,
          11,
          15,
          15,
          1,
          23,
          23,
          2,
          17,
          18,
          17,
          16,
          1,
          1,
          32,
          15,
          15,
          36,
          15,
          15,
          22,
          6,
          22,
          19,
          1,
          1,
          38,
          20,
          20,
          42,
          20,
          20,
          13,
          3,
          13,
          14,
          1,
          1,
          26,
          11,
          11,
          30,
          11,
          11,
          2,
          2,
          25,
          26,
          25,
          48,
          44,
          23,
          23,
          48,
          23,
          23
         ],
         "name": "",
         "type": "mesh3d",
         "x": [
          -49000,
          0,
          3.0002899036735098e-12,
          -34648.19921875,
          -34648.19921875,
          -9.00085995320099e-12,
          34648.19921875,
          49000,
          34648.19921875,
          6.00056983268704e-12,
          -37503,
          -69296.5,
          -90540.203125,
          -98000,
          -90540.203125,
          -69296.5,
          -37503,
          -1.80017008244437e-11,
          37503,
          90540.203125,
          69296.5,
          90540.203125,
          98000,
          69296.5,
          37503,
          9.00085995320099e-12,
          -38046.3984375,
          -73500,
          -103945,
          -127306,
          -141991,
          -147000,
          -141991,
          -127306,
          -103945,
          -73500,
          -38046.3984375,
          -2.70025998089229e-11,
          38046.3984375,
          73500,
          103945,
          127306,
          141991,
          147000,
          141991,
          127306,
          103945,
          73500,
          38046.3984375
         ],
         "y": [
          6.00056983268704e-12,
          0,
          49000,
          34648.19921875,
          -34648.19921875,
          -49000,
          -34648.19921875,
          -1.20010997667341e-11,
          34648.19921875,
          98000,
          90540.203125,
          69296.5,
          37503,
          1.20010997667341e-11,
          -37503,
          -69296.5,
          -90540.203125,
          -98000,
          -90540.203125,
          37503,
          -69296.5,
          -37503,
          -2.400230014742989e-11,
          69296.5,
          90540.203125,
          147000,
          141991,
          127306,
          103945,
          73500,
          38046.3984375,
          1.80017008244437e-11,
          -38046.3984375,
          -73500,
          -103945,
          -127306,
          -141991,
          -147000,
          -141991,
          -127306,
          -103945,
          -73500,
          -38046.3984375,
          -3.600340164888749e-11,
          38046.3984375,
          73500,
          103945,
          127306,
          141991
         ],
         "z": [
          1504.7861328125,
          1473.3375244140625,
          1505.4580078125,
          1505.2620849609375,
          1505.4141845703125,
          1505.80859375,
          1504.7403564453125,
          1505.56884765625,
          1505.5291748046875,
          1530.0450439453125,
          1530.254150390625,
          1530.6292724609375,
          1529.7974853515625,
          1529.5379638671875,
          1530.15283203125,
          1530.43408203125,
          1530.55419921875,
          1529.7138671875,
          1525.8739013671875,
          1528.4671630859375,
          1525.9945068359375,
          1526.7772216796875,
          1527.76171875,
          1528.8021240234375,
          1529.5125732421875,
          1495.8341064453125,
          1496.9512939453125,
          1498.6796875,
          1499.7879638671875,
          1500.60986328125,
          1501.37158203125,
          1501.8690185546875,
          1502.3046875,
          1502.5498046875,
          1502.2569580078125,
          1500.7978515625,
          1498.646240234375,
          1497.13818359375,
          1488.879638671875,
          1489.62890625,
          1490.1688232421875,
          1491.0091552734375,
          1491.5947265625,
          1491.908447265625,
          1492.504638671875,
          1493.114990234375,
          1493.30517578125,
          1493.9754638671875,
          1494.632568359375
         ]
        },
        {
         "line": {
          "color": "rgb(50, 50, 50)",
          "width": 1.5
         },
         "mode": "lines",
         "showlegend": false,
         "type": "scatter3d",
         "x": [
          38046.3984375,
          -1.80017008244437e-11,
          -2.70025998089229e-11,
          38046.3984375,
          null,
          -141991,
          -98000,
          -147000,
          -141991,
          null,
          141991,
          98000,
          147000,
          141991,
          null,
          -1.80017008244437e-11,
          -38046.3984375,
          -2.70025998089229e-11,
          -1.80017008244437e-11,
          null,
          98000,
          141991,
          147000,
          98000,
          null,
          37503,
          -1.80017008244437e-11,
          38046.3984375,
          37503,
          null,
          -98000,
          -141991,
          -147000,
          -98000,
          null,
          -90540.203125,
          -98000,
          -141991,
          -90540.203125,
          null,
          3.0002899036735098e-12,
          -34648.19921875,
          0,
          3.0002899036735098e-12,
          null,
          90540.203125,
          98000,
          141991,
          90540.203125,
          null,
          34648.19921875,
          37503,
          69296.5,
          34648.19921875,
          null,
          -34648.19921875,
          -37503,
          -69296.5,
          -34648.19921875,
          null,
          -37503,
          -34648.19921875,
          3.0002899036735098e-12,
          -37503,
          null,
          -37503,
          -38046.3984375,
          -1.80017008244437e-11,
          -37503,
          null,
          90540.203125,
          141991,
          98000,
          90540.203125,
          null,
          90540.203125,
          34648.19921875,
          69296.5,
          90540.203125,
          null,
          -90540.203125,
          -141991,
          -98000,
          -90540.203125,
          null,
          -90540.203125,
          -34648.19921875,
          -69296.5,
          -90540.203125,
          null,
          -34648.19921875,
          -90540.203125,
          -69296.5,
          -34648.19921875,
          null,
          -37503,
          -34648.19921875,
          -69296.5,
          -37503,
          null,
          34648.19921875,
          3.0002899036735098e-12,
          0,
          34648.19921875,
          null,
          34648.19921875,
          90540.203125,
          69296.5,
          34648.19921875,
          null,
          37503,
          34648.19921875,
          69296.5,
          37503,
          null,
          34648.19921875,
          37503,
          3.0002899036735098e-12,
          34648.19921875,
          null,
          37503,
          -9.00085995320099e-12,
          -1.80017008244437e-11,
          37503,
          null,
          34648.19921875,
          -9.00085995320099e-12,
          37503,
          34648.19921875,
          null,
          -9.00085995320099e-12,
          -37503,
          -1.80017008244437e-11,
          -9.00085995320099e-12,
          null,
          -9.00085995320099e-12,
          -34648.19921875,
          -37503,
          -9.00085995320099e-12,
          null,
          -9.00085995320099e-12,
          34648.19921875,
          0,
          -9.00085995320099e-12,
          null,
          -34648.19921875,
          -9.00085995320099e-12,
          0,
          -34648.19921875,
          null,
          -127306,
          -90540.203125,
          -141991,
          -127306,
          null,
          -90540.203125,
          -127306,
          -69296.5,
          -90540.203125,
          null,
          -127306,
          -103945,
          -69296.5,
          -127306,
          null,
          -37503,
          -73500,
          -38046.3984375,
          -37503,
          null,
          -73500,
          -37503,
          -69296.5,
          -73500,
          null,
          -103945,
          -73500,
          -69296.5,
          -103945,
          null,
          49000,
          90540.203125,
          98000,
          49000,
          null,
          90540.203125,
          49000,
          34648.19921875,
          90540.203125,
          null,
          90540.203125,
          49000,
          98000,
          90540.203125,
          null,
          34648.19921875,
          49000,
          90540.203125,
          34648.19921875,
          null,
          34648.19921875,
          49000,
          0,
          34648.19921875,
          null,
          49000,
          34648.19921875,
          0,
          49000,
          null,
          73500,
          37503,
          38046.3984375,
          73500,
          null,
          37503,
          73500,
          69296.5,
          37503,
          null,
          73500,
          103945,
          69296.5,
          73500,
          null,
          90540.203125,
          127306,
          141991,
          90540.203125,
          null,
          127306,
          90540.203125,
          69296.5,
          127306,
          null,
          103945,
          127306,
          69296.5,
          103945,
          null,
          -49000,
          -90540.203125,
          -98000,
          -49000,
          null,
          -90540.203125,
          -49000,
          -34648.19921875,
          -90540.203125,
          null,
          -90540.203125,
          -49000,
          -98000,
          -90540.203125,
          null,
          -34648.19921875,
          -49000,
          -90540.203125,
          -34648.19921875,
          null,
          -34648.19921875,
          -49000,
          0,
          -34648.19921875,
          null,
          -49000,
          -34648.19921875,
          0,
          -49000,
          null,
          -73500,
          -37503,
          -38046.3984375,
          -73500,
          null,
          -37503,
          -73500,
          -69296.5,
          -37503,
          null,
          -73500,
          -103945,
          -69296.5,
          -73500,
          null,
          -90540.203125,
          -127306,
          -141991,
          -90540.203125,
          null,
          -127306,
          -90540.203125,
          -69296.5,
          -127306,
          null,
          -103945,
          -127306,
          -69296.5,
          -103945,
          null,
          6.00056983268704e-12,
          -37503,
          3.0002899036735098e-12,
          6.00056983268704e-12,
          null,
          37503,
          6.00056983268704e-12,
          3.0002899036735098e-12,
          37503,
          null,
          -38046.3984375,
          6.00056983268704e-12,
          9.00085995320099e-12,
          -38046.3984375,
          null,
          -37503,
          6.00056983268704e-12,
          -38046.3984375,
          -37503,
          null,
          6.00056983268704e-12,
          38046.3984375,
          9.00085995320099e-12,
          6.00056983268704e-12,
          null,
          6.00056983268704e-12,
          37503,
          38046.3984375,
          6.00056983268704e-12,
          null,
          127306,
          90540.203125,
          141991,
          127306,
          null,
          90540.203125,
          127306,
          69296.5,
          90540.203125,
          null,
          127306,
          103945,
          69296.5,
          127306,
          null,
          37503,
          73500,
          38046.3984375,
          37503,
          null,
          73500,
          37503,
          69296.5,
          73500,
          null,
          103945,
          73500,
          69296.5,
          103945,
          null
         ],
         "y": [
          -141991,
          -98000,
          -147000,
          -141991,
          null,
          -38046.3984375,
          1.20010997667341e-11,
          1.80017008244437e-11,
          -38046.3984375,
          null,
          38046.3984375,
          -2.400230014742989e-11,
          -3.600340164888749e-11,
          38046.3984375,
          null,
          -98000,
          -141991,
          -147000,
          -98000,
          null,
          -2.400230014742989e-11,
          -38046.3984375,
          -3.600340164888749e-11,
          -2.400230014742989e-11,
          null,
          -90540.203125,
          -98000,
          -141991,
          -90540.203125,
          null,
          1.20010997667341e-11,
          38046.3984375,
          1.80017008244437e-11,
          1.20010997667341e-11,
          null,
          -37503,
          1.20010997667341e-11,
          -38046.3984375,
          -37503,
          null,
          49000,
          34648.19921875,
          0,
          49000,
          null,
          37503,
          -2.400230014742989e-11,
          38046.3984375,
          37503,
          null,
          -34648.19921875,
          -90540.203125,
          -69296.5,
          -34648.19921875,
          null,
          34648.19921875,
          90540.203125,
          69296.5,
          34648.19921875,
          null,
          90540.203125,
          34648.19921875,
          49000,
          90540.203125,
          null,
          -90540.203125,
          -141991,
          -98000,
          -90540.203125,
          null,
          -37503,
          -38046.3984375,
          -2.400230014742989e-11,
          -37503,
          null,
          -37503,
          -34648.19921875,
          -69296.5,
          -37503,
          null,
          37503,
          38046.3984375,
          1.20010997667341e-11,
          37503,
          null,
          37503,
          34648.19921875,
          69296.5,
          37503,
          null,
          -34648.19921875,
          -37503,
          -69296.5,
          -34648.19921875,
          null,
          -90540.203125,
          -34648.19921875,
          -69296.5,
          -90540.203125,
          null,
          34648.19921875,
          49000,
          0,
          34648.19921875,
          null,
          34648.19921875,
          37503,
          69296.5,
          34648.19921875,
          null,
          90540.203125,
          34648.19921875,
          69296.5,
          90540.203125,
          null,
          34648.19921875,
          90540.203125,
          49000,
          34648.19921875,
          null,
          -90540.203125,
          -49000,
          -98000,
          -90540.203125,
          null,
          -34648.19921875,
          -49000,
          -90540.203125,
          -34648.19921875,
          null,
          -49000,
          -90540.203125,
          -98000,
          -49000,
          null,
          -49000,
          -34648.19921875,
          -90540.203125,
          -49000,
          null,
          -49000,
          -34648.19921875,
          0,
          -49000,
          null,
          -34648.19921875,
          -49000,
          0,
          -34648.19921875,
          null,
          -73500,
          -37503,
          -38046.3984375,
          -73500,
          null,
          -37503,
          -73500,
          -69296.5,
          -37503,
          null,
          -73500,
          -103945,
          -69296.5,
          -73500,
          null,
          -90540.203125,
          -127306,
          -141991,
          -90540.203125,
          null,
          -127306,
          -90540.203125,
          -69296.5,
          -127306,
          null,
          -103945,
          -127306,
          -69296.5,
          -103945,
          null,
          -1.20010997667341e-11,
          -37503,
          -2.400230014742989e-11,
          -1.20010997667341e-11,
          null,
          -37503,
          -1.20010997667341e-11,
          -34648.19921875,
          -37503,
          null,
          37503,
          -1.20010997667341e-11,
          -2.400230014742989e-11,
          37503,
          null,
          34648.19921875,
          -1.20010997667341e-11,
          37503,
          34648.19921875,
          null,
          -34648.19921875,
          -1.20010997667341e-11,
          0,
          -34648.19921875,
          null,
          -1.20010997667341e-11,
          34648.19921875,
          0,
          -1.20010997667341e-11,
          null,
          -127306,
          -90540.203125,
          -141991,
          -127306,
          null,
          -90540.203125,
          -127306,
          -69296.5,
          -90540.203125,
          null,
          -127306,
          -103945,
          -69296.5,
          -127306,
          null,
          -37503,
          -73500,
          -38046.3984375,
          -37503,
          null,
          -73500,
          -37503,
          -69296.5,
          -73500,
          null,
          -103945,
          -73500,
          -69296.5,
          -103945,
          null,
          6.00056983268704e-12,
          37503,
          1.20010997667341e-11,
          6.00056983268704e-12,
          null,
          37503,
          6.00056983268704e-12,
          34648.19921875,
          37503,
          null,
          -37503,
          6.00056983268704e-12,
          1.20010997667341e-11,
          -37503,
          null,
          -34648.19921875,
          6.00056983268704e-12,
          -37503,
          -34648.19921875,
          null,
          34648.19921875,
          6.00056983268704e-12,
          0,
          34648.19921875,
          null,
          6.00056983268704e-12,
          -34648.19921875,
          0,
          6.00056983268704e-12,
          null,
          127306,
          90540.203125,
          141991,
          127306,
          null,
          90540.203125,
          127306,
          69296.5,
          90540.203125,
          null,
          127306,
          103945,
          69296.5,
          127306,
          null,
          37503,
          73500,
          38046.3984375,
          37503,
          null,
          73500,
          37503,
          69296.5,
          73500,
          null,
          103945,
          73500,
          69296.5,
          103945,
          null,
          98000,
          90540.203125,
          49000,
          98000,
          null,
          90540.203125,
          98000,
          49000,
          90540.203125,
          null,
          141991,
          98000,
          147000,
          141991,
          null,
          90540.203125,
          98000,
          141991,
          90540.203125,
          null,
          98000,
          141991,
          147000,
          98000,
          null,
          98000,
          90540.203125,
          141991,
          98000,
          null,
          73500,
          37503,
          38046.3984375,
          73500,
          null,
          37503,
          73500,
          69296.5,
          37503,
          null,
          73500,
          103945,
          69296.5,
          73500,
          null,
          90540.203125,
          127306,
          141991,
          90540.203125,
          null,
          127306,
          90540.203125,
          69296.5,
          127306,
          null,
          103945,
          127306,
          69296.5,
          103945,
          null
         ],
         "z": [
          1488.879638671875,
          1529.7138671875,
          1497.13818359375,
          1488.879638671875,
          null,
          1502.3046875,
          1529.5379638671875,
          1501.8690185546875,
          1502.3046875,
          null,
          1492.504638671875,
          1527.76171875,
          1491.908447265625,
          1492.504638671875,
          null,
          1529.7138671875,
          1498.646240234375,
          1497.13818359375,
          1529.7138671875,
          null,
          1527.76171875,
          1491.5947265625,
          1491.908447265625,
          1527.76171875,
          null,
          1525.8739013671875,
          1529.7138671875,
          1488.879638671875,
          1525.8739013671875,
          null,
          1529.5379638671875,
          1501.37158203125,
          1501.8690185546875,
          1529.5379638671875,
          null,
          1530.15283203125,
          1529.5379638671875,
          1502.3046875,
          1530.15283203125,
          null,
          1505.4580078125,
          1505.2620849609375,
          1473.3375244140625,
          1505.4580078125,
          null,
          1528.4671630859375,
          1527.76171875,
          1492.504638671875,
          1528.4671630859375,
          null,
          1504.7403564453125,
          1525.8739013671875,
          1525.9945068359375,
          1504.7403564453125,
          null,
          1505.2620849609375,
          1530.254150390625,
          1530.6292724609375,
          1505.2620849609375,
          null,
          1530.254150390625,
          1505.2620849609375,
          1505.4580078125,
          1530.254150390625,
          null,
          1530.55419921875,
          1498.646240234375,
          1529.7138671875,
          1530.55419921875,
          null,
          1526.7772216796875,
          1491.5947265625,
          1527.76171875,
          1526.7772216796875,
          null,
          1526.7772216796875,
          1504.7403564453125,
          1525.9945068359375,
          1526.7772216796875,
          null,
          1529.7974853515625,
          1501.37158203125,
          1529.5379638671875,
          1529.7974853515625,
          null,
          1529.7974853515625,
          1505.2620849609375,
          1530.6292724609375,
          1529.7974853515625,
          null,
          1505.4141845703125,
          1530.15283203125,
          1530.43408203125,
          1505.4141845703125,
          null,
          1530.55419921875,
          1505.4141845703125,
          1530.43408203125,
          1530.55419921875,
          null,
          1505.5291748046875,
          1505.4580078125,
          1473.3375244140625,
          1505.5291748046875,
          null,
          1505.5291748046875,
          1528.4671630859375,
          1528.8021240234375,
          1505.5291748046875,
          null,
          1529.5125732421875,
          1505.5291748046875,
          1528.8021240234375,
          1529.5125732421875,
          null,
          1505.5291748046875,
          1529.5125732421875,
          1505.4580078125,
          1505.5291748046875,
          null,
          1525.8739013671875,
          1505.80859375,
          1529.7138671875,
          1525.8739013671875,
          null,
          1504.7403564453125,
          1505.80859375,
          1525.8739013671875,
          1504.7403564453125,
          null,
          1505.80859375,
          1530.55419921875,
          1529.7138671875,
          1505.80859375,
          null,
          1505.80859375,
          1505.4141845703125,
          1530.55419921875,
          1505.80859375,
          null,
          1505.80859375,
          1504.7403564453125,
          1473.3375244140625,
          1505.80859375,
          null,
          1505.4141845703125,
          1505.80859375,
          1473.3375244140625,
          1505.4141845703125,
          null,
          1502.5498046875,
          1530.15283203125,
          1502.3046875,
          1502.5498046875,
          null,
          1530.15283203125,
          1502.5498046875,
          1530.43408203125,
          1530.15283203125,
          null,
          1502.5498046875,
          1502.2569580078125,
          1530.43408203125,
          1502.5498046875,
          null,
          1530.55419921875,
          1500.7978515625,
          1498.646240234375,
          1530.55419921875,
          null,
          1500.7978515625,
          1530.55419921875,
          1530.43408203125,
          1500.7978515625,
          null,
          1502.2569580078125,
          1500.7978515625,
          1530.43408203125,
          1502.2569580078125,
          null,
          1505.56884765625,
          1526.7772216796875,
          1527.76171875,
          1505.56884765625,
          null,
          1526.7772216796875,
          1505.56884765625,
          1504.7403564453125,
          1526.7772216796875,
          null,
          1528.4671630859375,
          1505.56884765625,
          1527.76171875,
          1528.4671630859375,
          null,
          1505.5291748046875,
          1505.56884765625,
          1528.4671630859375,
          1505.5291748046875,
          null,
          1504.7403564453125,
          1505.56884765625,
          1473.3375244140625,
          1504.7403564453125,
          null,
          1505.56884765625,
          1505.5291748046875,
          1473.3375244140625,
          1505.56884765625,
          null,
          1489.62890625,
          1525.8739013671875,
          1488.879638671875,
          1489.62890625,
          null,
          1525.8739013671875,
          1489.62890625,
          1525.9945068359375,
          1525.8739013671875,
          null,
          1489.62890625,
          1490.1688232421875,
          1525.9945068359375,
          1489.62890625,
          null,
          1526.7772216796875,
          1491.0091552734375,
          1491.5947265625,
          1526.7772216796875,
          null,
          1491.0091552734375,
          1526.7772216796875,
          1525.9945068359375,
          1491.0091552734375,
          null,
          1490.1688232421875,
          1491.0091552734375,
          1525.9945068359375,
          1490.1688232421875,
          null,
          1504.7861328125,
          1529.7974853515625,
          1529.5379638671875,
          1504.7861328125,
          null,
          1529.7974853515625,
          1504.7861328125,
          1505.2620849609375,
          1529.7974853515625,
          null,
          1530.15283203125,
          1504.7861328125,
          1529.5379638671875,
          1530.15283203125,
          null,
          1505.4141845703125,
          1504.7861328125,
          1530.15283203125,
          1505.4141845703125,
          null,
          1505.2620849609375,
          1504.7861328125,
          1473.3375244140625,
          1505.2620849609375,
          null,
          1504.7861328125,
          1505.4141845703125,
          1473.3375244140625,
          1504.7861328125,
          null,
          1498.6796875,
          1530.254150390625,
          1496.9512939453125,
          1498.6796875,
          null,
          1530.254150390625,
          1498.6796875,
          1530.6292724609375,
          1530.254150390625,
          null,
          1498.6796875,
          1499.7879638671875,
          1530.6292724609375,
          1498.6796875,
          null,
          1529.7974853515625,
          1500.60986328125,
          1501.37158203125,
          1529.7974853515625,
          null,
          1500.60986328125,
          1529.7974853515625,
          1530.6292724609375,
          1500.60986328125,
          null,
          1499.7879638671875,
          1500.60986328125,
          1530.6292724609375,
          1499.7879638671875,
          null,
          1530.0450439453125,
          1530.254150390625,
          1505.4580078125,
          1530.0450439453125,
          null,
          1529.5125732421875,
          1530.0450439453125,
          1505.4580078125,
          1529.5125732421875,
          null,
          1496.9512939453125,
          1530.0450439453125,
          1495.8341064453125,
          1496.9512939453125,
          null,
          1530.254150390625,
          1530.0450439453125,
          1496.9512939453125,
          1530.254150390625,
          null,
          1530.0450439453125,
          1494.632568359375,
          1495.8341064453125,
          1530.0450439453125,
          null,
          1530.0450439453125,
          1529.5125732421875,
          1494.632568359375,
          1530.0450439453125,
          null,
          1493.114990234375,
          1528.4671630859375,
          1492.504638671875,
          1493.114990234375,
          null,
          1528.4671630859375,
          1493.114990234375,
          1528.8021240234375,
          1528.4671630859375,
          null,
          1493.114990234375,
          1493.30517578125,
          1528.8021240234375,
          1493.114990234375,
          null,
          1529.5125732421875,
          1493.9754638671875,
          1494.632568359375,
          1529.5125732421875,
          null,
          1493.9754638671875,
          1529.5125732421875,
          1528.8021240234375,
          1493.9754638671875,
          null,
          1493.30517578125,
          1493.9754638671875,
          1528.8021240234375,
          1493.30517578125,
          null
         ]
        },
        {
         "hoverinfo": "none",
         "marker": {
          "color": [
           1494.4619140625,
           1522.1341552734375
          ],
          "colorscale": [
           [
            0,
            "rgb(31, 119, 180)"
           ],
           [
            1,
            "rgb(255, 127, 14)"
           ]
          ],
          "showscale": true,
          "size": 0.1
         },
         "mode": "markers",
         "showlegend": false,
         "type": "scatter3d",
         "x": [
          -49000
         ],
         "y": [
          6.00056983268704e-12
         ],
         "z": [
          1504.7861328125
         ]
        }
       ],
       "layout": {
        "height": 800,
        "scene": {
         "aspectratio": {
          "x": 1,
          "y": 1,
          "z": 0.5
         },
         "xaxis": {
          "backgroundcolor": "rgb(230, 230, 230)",
          "gridcolor": "rgb(255, 255, 255)",
          "showbackground": true,
          "zerolinecolor": "rgb(255, 255, 255)"
         },
         "yaxis": {
          "backgroundcolor": "rgb(230, 230, 230)",
          "gridcolor": "rgb(255, 255, 255)",
          "showbackground": true,
          "zerolinecolor": "rgb(255, 255, 255)"
         },
         "zaxis": {
          "backgroundcolor": "rgb(230, 230, 230)",
          "gridcolor": "rgb(255, 255, 255)",
          "showbackground": true,
          "zerolinecolor": "rgb(255, 255, 255)"
         }
        },
        "template": {
         "data": {
          "bar": [
           {
            "error_x": {
             "color": "#2a3f5f"
            },
            "error_y": {
             "color": "#2a3f5f"
            },
            "marker": {
             "line": {
              "color": "#E5ECF6",
              "width": 0.5
             }
            },
            "type": "bar"
           }
          ],
          "barpolar": [
           {
            "marker": {
             "line": {
              "color": "#E5ECF6",
              "width": 0.5
             }
            },
            "type": "barpolar"
           }
          ],
          "carpet": [
           {
            "aaxis": {
             "endlinecolor": "#2a3f5f",
             "gridcolor": "white",
             "linecolor": "white",
             "minorgridcolor": "white",
             "startlinecolor": "#2a3f5f"
            },
            "baxis": {
             "endlinecolor": "#2a3f5f",
             "gridcolor": "white",
             "linecolor": "white",
             "minorgridcolor": "white",
             "startlinecolor": "#2a3f5f"
            },
            "type": "carpet"
           }
          ],
          "choropleth": [
           {
            "colorbar": {
             "outlinewidth": 0,
             "ticks": ""
            },
            "type": "choropleth"
           }
          ],
          "contour": [
           {
            "colorbar": {
             "outlinewidth": 0,
             "ticks": ""
            },
            "colorscale": [
             [
              0,
              "#0d0887"
             ],
             [
              0.1111111111111111,
              "#46039f"
             ],
             [
              0.2222222222222222,
              "#7201a8"
             ],
             [
              0.3333333333333333,
              "#9c179e"
             ],
             [
              0.4444444444444444,
              "#bd3786"
             ],
             [
              0.5555555555555556,
              "#d8576b"
             ],
             [
              0.6666666666666666,
              "#ed7953"
             ],
             [
              0.7777777777777778,
              "#fb9f3a"
             ],
             [
              0.8888888888888888,
              "#fdca26"
             ],
             [
              1,
              "#f0f921"
             ]
            ],
            "type": "contour"
           }
          ],
          "contourcarpet": [
           {
            "colorbar": {
             "outlinewidth": 0,
             "ticks": ""
            },
            "type": "contourcarpet"
           }
          ],
          "heatmap": [
           {
            "colorbar": {
             "outlinewidth": 0,
             "ticks": ""
            },
            "colorscale": [
             [
              0,
              "#0d0887"
             ],
             [
              0.1111111111111111,
              "#46039f"
             ],
             [
              0.2222222222222222,
              "#7201a8"
             ],
             [
              0.3333333333333333,
              "#9c179e"
             ],
             [
              0.4444444444444444,
              "#bd3786"
             ],
             [
              0.5555555555555556,
              "#d8576b"
             ],
             [
              0.6666666666666666,
              "#ed7953"
             ],
             [
              0.7777777777777778,
              "#fb9f3a"
             ],
             [
              0.8888888888888888,
              "#fdca26"
             ],
             [
              1,
              "#f0f921"
             ]
            ],
            "type": "heatmap"
           }
          ],
          "heatmapgl": [
           {
            "colorbar": {
             "outlinewidth": 0,
             "ticks": ""
            },
            "colorscale": [
             [
              0,
              "#0d0887"
             ],
             [
              0.1111111111111111,
              "#46039f"
             ],
             [
              0.2222222222222222,
              "#7201a8"
             ],
             [
              0.3333333333333333,
              "#9c179e"
             ],
             [
              0.4444444444444444,
              "#bd3786"
             ],
             [
              0.5555555555555556,
              "#d8576b"
             ],
             [
              0.6666666666666666,
              "#ed7953"
             ],
             [
              0.7777777777777778,
              "#fb9f3a"
             ],
             [
              0.8888888888888888,
              "#fdca26"
             ],
             [
              1,
              "#f0f921"
             ]
            ],
            "type": "heatmapgl"
           }
          ],
          "histogram": [
           {
            "marker": {
             "colorbar": {
              "outlinewidth": 0,
              "ticks": ""
             }
            },
            "type": "histogram"
           }
          ],
          "histogram2d": [
           {
            "colorbar": {
             "outlinewidth": 0,
             "ticks": ""
            },
            "colorscale": [
             [
              0,
              "#0d0887"
             ],
             [
              0.1111111111111111,
              "#46039f"
             ],
             [
              0.2222222222222222,
              "#7201a8"
             ],
             [
              0.3333333333333333,
              "#9c179e"
             ],
             [
              0.4444444444444444,
              "#bd3786"
             ],
             [
              0.5555555555555556,
              "#d8576b"
             ],
             [
              0.6666666666666666,
              "#ed7953"
             ],
             [
              0.7777777777777778,
              "#fb9f3a"
             ],
             [
              0.8888888888888888,
              "#fdca26"
             ],
             [
              1,
              "#f0f921"
             ]
            ],
            "type": "histogram2d"
           }
          ],
          "histogram2dcontour": [
           {
            "colorbar": {
             "outlinewidth": 0,
             "ticks": ""
            },
            "colorscale": [
             [
              0,
              "#0d0887"
             ],
             [
              0.1111111111111111,
              "#46039f"
             ],
             [
              0.2222222222222222,
              "#7201a8"
             ],
             [
              0.3333333333333333,
              "#9c179e"
             ],
             [
              0.4444444444444444,
              "#bd3786"
             ],
             [
              0.5555555555555556,
              "#d8576b"
             ],
             [
              0.6666666666666666,
              "#ed7953"
             ],
             [
              0.7777777777777778,
              "#fb9f3a"
             ],
             [
              0.8888888888888888,
              "#fdca26"
             ],
             [
              1,
              "#f0f921"
             ]
            ],
            "type": "histogram2dcontour"
           }
          ],
          "mesh3d": [
           {
            "colorbar": {
             "outlinewidth": 0,
             "ticks": ""
            },
            "type": "mesh3d"
           }
          ],
          "parcoords": [
           {
            "line": {
             "colorbar": {
              "outlinewidth": 0,
              "ticks": ""
             }
            },
            "type": "parcoords"
           }
          ],
          "pie": [
           {
            "automargin": true,
            "type": "pie"
           }
          ],
          "scatter": [
           {
            "marker": {
             "colorbar": {
              "outlinewidth": 0,
              "ticks": ""
             }
            },
            "type": "scatter"
           }
          ],
          "scatter3d": [
           {
            "line": {
             "colorbar": {
              "outlinewidth": 0,
              "ticks": ""
             }
            },
            "marker": {
             "colorbar": {
              "outlinewidth": 0,
              "ticks": ""
             }
            },
            "type": "scatter3d"
           }
          ],
          "scattercarpet": [
           {
            "marker": {
             "colorbar": {
              "outlinewidth": 0,
              "ticks": ""
             }
            },
            "type": "scattercarpet"
           }
          ],
          "scattergeo": [
           {
            "marker": {
             "colorbar": {
              "outlinewidth": 0,
              "ticks": ""
             }
            },
            "type": "scattergeo"
           }
          ],
          "scattergl": [
           {
            "marker": {
             "colorbar": {
              "outlinewidth": 0,
              "ticks": ""
             }
            },
            "type": "scattergl"
           }
          ],
          "scattermapbox": [
           {
            "marker": {
             "colorbar": {
              "outlinewidth": 0,
              "ticks": ""
             }
            },
            "type": "scattermapbox"
           }
          ],
          "scatterpolar": [
           {
            "marker": {
             "colorbar": {
              "outlinewidth": 0,
              "ticks": ""
             }
            },
            "type": "scatterpolar"
           }
          ],
          "scatterpolargl": [
           {
            "marker": {
             "colorbar": {
              "outlinewidth": 0,
              "ticks": ""
             }
            },
            "type": "scatterpolargl"
           }
          ],
          "scatterternary": [
           {
            "marker": {
             "colorbar": {
              "outlinewidth": 0,
              "ticks": ""
             }
            },
            "type": "scatterternary"
           }
          ],
          "surface": [
           {
            "colorbar": {
             "outlinewidth": 0,
             "ticks": ""
            },
            "colorscale": [
             [
              0,
              "#0d0887"
             ],
             [
              0.1111111111111111,
              "#46039f"
             ],
             [
              0.2222222222222222,
              "#7201a8"
             ],
             [
              0.3333333333333333,
              "#9c179e"
             ],
             [
              0.4444444444444444,
              "#bd3786"
             ],
             [
              0.5555555555555556,
              "#d8576b"
             ],
             [
              0.6666666666666666,
              "#ed7953"
             ],
             [
              0.7777777777777778,
              "#fb9f3a"
             ],
             [
              0.8888888888888888,
              "#fdca26"
             ],
             [
              1,
              "#f0f921"
             ]
            ],
            "type": "surface"
           }
          ],
          "table": [
           {
            "cells": {
             "fill": {
              "color": "#EBF0F8"
             },
             "line": {
              "color": "white"
             }
            },
            "header": {
             "fill": {
              "color": "#C8D4E3"
             },
             "line": {
              "color": "white"
             }
            },
            "type": "table"
           }
          ]
         },
         "layout": {
          "annotationdefaults": {
           "arrowcolor": "#2a3f5f",
           "arrowhead": 0,
           "arrowwidth": 1
          },
          "coloraxis": {
           "colorbar": {
            "outlinewidth": 0,
            "ticks": ""
           }
          },
          "colorscale": {
           "diverging": [
            [
             0,
             "#8e0152"
            ],
            [
             0.1,
             "#c51b7d"
            ],
            [
             0.2,
             "#de77ae"
            ],
            [
             0.3,
             "#f1b6da"
            ],
            [
             0.4,
             "#fde0ef"
            ],
            [
             0.5,
             "#f7f7f7"
            ],
            [
             0.6,
             "#e6f5d0"
            ],
            [
             0.7,
             "#b8e186"
            ],
            [
             0.8,
             "#7fbc41"
            ],
            [
             0.9,
             "#4d9221"
            ],
            [
             1,
             "#276419"
            ]
           ],
           "sequential": [
            [
             0,
             "#0d0887"
            ],
            [
             0.1111111111111111,
             "#46039f"
            ],
            [
             0.2222222222222222,
             "#7201a8"
            ],
            [
             0.3333333333333333,
             "#9c179e"
            ],
            [
             0.4444444444444444,
             "#bd3786"
            ],
            [
             0.5555555555555556,
             "#d8576b"
            ],
            [
             0.6666666666666666,
             "#ed7953"
            ],
            [
             0.7777777777777778,
             "#fb9f3a"
            ],
            [
             0.8888888888888888,
             "#fdca26"
            ],
            [
             1,
             "#f0f921"
            ]
           ],
           "sequentialminus": [
            [
             0,
             "#0d0887"
            ],
            [
             0.1111111111111111,
             "#46039f"
            ],
            [
             0.2222222222222222,
             "#7201a8"
            ],
            [
             0.3333333333333333,
             "#9c179e"
            ],
            [
             0.4444444444444444,
             "#bd3786"
            ],
            [
             0.5555555555555556,
             "#d8576b"
            ],
            [
             0.6666666666666666,
             "#ed7953"
            ],
            [
             0.7777777777777778,
             "#fb9f3a"
            ],
            [
             0.8888888888888888,
             "#fdca26"
            ],
            [
             1,
             "#f0f921"
            ]
           ]
          },
          "colorway": [
           "#636efa",
           "#EF553B",
           "#00cc96",
           "#ab63fa",
           "#FFA15A",
           "#19d3f3",
           "#FF6692",
           "#B6E880",
           "#FF97FF",
           "#FECB52"
          ],
          "font": {
           "color": "#2a3f5f"
          },
          "geo": {
           "bgcolor": "white",
           "lakecolor": "white",
           "landcolor": "#E5ECF6",
           "showlakes": true,
           "showland": true,
           "subunitcolor": "white"
          },
          "hoverlabel": {
           "align": "left"
          },
          "hovermode": "closest",
          "mapbox": {
           "style": "light"
          },
          "paper_bgcolor": "white",
          "plot_bgcolor": "#E5ECF6",
          "polar": {
           "angularaxis": {
            "gridcolor": "white",
            "linecolor": "white",
            "ticks": ""
           },
           "bgcolor": "#E5ECF6",
           "radialaxis": {
            "gridcolor": "white",
            "linecolor": "white",
            "ticks": ""
           }
          },
          "scene": {
           "xaxis": {
            "backgroundcolor": "#E5ECF6",
            "gridcolor": "white",
            "gridwidth": 2,
            "linecolor": "white",
            "showbackground": true,
            "ticks": "",
            "zerolinecolor": "white"
           },
           "yaxis": {
            "backgroundcolor": "#E5ECF6",
            "gridcolor": "white",
            "gridwidth": 2,
            "linecolor": "white",
            "showbackground": true,
            "ticks": "",
            "zerolinecolor": "white"
           },
           "zaxis": {
            "backgroundcolor": "#E5ECF6",
            "gridcolor": "white",
            "gridwidth": 2,
            "linecolor": "white",
            "showbackground": true,
            "ticks": "",
            "zerolinecolor": "white"
           }
          },
          "shapedefaults": {
           "line": {
            "color": "#2a3f5f"
           }
          },
          "ternary": {
           "aaxis": {
            "gridcolor": "white",
            "linecolor": "white",
            "ticks": ""
           },
           "baxis": {
            "gridcolor": "white",
            "linecolor": "white",
            "ticks": ""
           },
           "bgcolor": "#E5ECF6",
           "caxis": {
            "gridcolor": "white",
            "linecolor": "white",
            "ticks": ""
           }
          },
          "title": {
           "x": 0.05
          },
          "xaxis": {
           "automargin": true,
           "gridcolor": "white",
           "linecolor": "white",
           "ticks": "",
           "title": {
            "standoff": 15
           },
           "zerolinecolor": "white",
           "zerolinewidth": 2
          },
          "yaxis": {
           "automargin": true,
           "gridcolor": "white",
           "linecolor": "white",
           "ticks": "",
           "title": {
            "standoff": 15
           },
           "zerolinecolor": "white",
           "zerolinewidth": 2
          }
         }
        },
        "title": {
         "text": "wafare"
        },
        "width": 800
       }
      },
      "text/html": [
       "<div>\n",
       "        \n",
       "        \n",
       "            <div id=\"0eefaab6-54e9-4eea-83d4-2fe46eed24c7\" class=\"plotly-graph-div\" style=\"height:800px; width:800px;\"></div>\n",
       "            <script type=\"text/javascript\">\n",
       "                require([\"plotly\"], function(Plotly) {\n",
       "                    window.PLOTLYENV=window.PLOTLYENV || {};\n",
       "                    \n",
       "                if (document.getElementById(\"0eefaab6-54e9-4eea-83d4-2fe46eed24c7\")) {\n",
       "                    Plotly.newPlot(\n",
       "                        '0eefaab6-54e9-4eea-83d4-2fe46eed24c7',\n",
       "                        [{\"facecolor\": [\"rgb(118, 122, 115)\", \"rgb(167, 124, 79)\", \"rgb(109, 122, 122)\", \"rgb(145, 123, 96)\", \"rgb(106, 122, 124)\", \"rgb(196, 125, 58)\", \"rgb(164, 124, 81)\", \"rgb(243, 127, 23)\", \"rgb(33, 119, 179)\", \"rgb(207, 125, 49)\", \"rgb(229, 126, 34)\", \"rgb(254, 127, 15)\", \"rgb(186, 125, 65)\", \"rgb(235, 126, 29)\", \"rgb(200, 125, 55)\", \"rgb(231, 126, 32)\", \"rgb(240, 126, 25)\", \"rgb(253, 127, 15)\", \"rgb(254, 127, 15)\", \"rgb(255, 127, 14)\", \"rgb(34, 119, 178)\", \"rgb(245, 127, 21)\", \"rgb(248, 127, 19)\", \"rgb(185, 125, 66)\", \"rgb(241, 127, 24)\", \"rgb(174, 124, 74)\", \"rgb(254, 127, 15)\", \"rgb(189, 125, 63)\", \"rgb(32, 119, 179)\", \"rgb(34, 119, 178)\", \"rgb(170, 124, 77)\", \"rgb(246, 127, 21)\", \"rgb(171, 124, 76)\", \"rgb(157, 123, 87)\", \"rgb(243, 127, 23)\", \"rgb(166, 124, 80)\", \"rgb(238, 126, 27)\", \"rgb(176, 124, 73)\", \"rgb(243, 127, 23)\", \"rgb(183, 124, 68)\", \"rgb(32, 119, 179)\", \"rgb(34, 119, 178)\", \"rgb(88, 121, 138)\", \"rgb(188, 125, 64)\", \"rgb(91, 121, 135)\", \"rgb(101, 122, 128)\", \"rgb(194, 125, 59)\", \"rgb(95, 121, 132)\", \"rgb(249, 127, 19)\", \"rgb(183, 124, 67)\", \"rgb(250, 127, 18)\", \"rgb(185, 124, 66)\", \"rgb(31, 119, 180)\", \"rgb(31, 119, 180)\", \"rgb(146, 123, 95)\", \"rgb(237, 126, 28)\", \"rgb(154, 123, 89)\", \"rgb(162, 124, 83)\", \"rgb(241, 126, 25)\", \"rgb(160, 124, 85)\", \"rgb(253, 127, 15)\", \"rgb(251, 127, 17)\", \"rgb(137, 123, 101)\", \"rgb(230, 126, 32)\", \"rgb(131, 123, 106)\", \"rgb(222, 126, 38)\", \"rgb(114, 122, 119)\", \"rgb(212, 125, 46)\", \"rgb(117, 122, 116)\", \"rgb(125, 122, 111)\", \"rgb(217, 126, 42)\", \"rgb(119, 122, 115)\"], \"i\": [38, 32, 44, 17, 22, 18, 13, 14, 2, 19, 6, 3, 10, 16, 21, 21, 12, 12, 4, 16, 8, 8, 24, 8, 18, 6, 5, 5, 5, 4, 33, 14, 33, 16, 35, 34, 7, 21, 19, 8, 6, 7, 39, 18, 39, 21, 41, 40, 0, 12, 14, 4, 3, 0, 27, 10, 27, 12, 29, 28, 9, 24, 26, 10, 9, 9, 45, 19, 45, 24, 47, 46], \"j\": [17, 13, 22, 36, 42, 17, 30, 13, 3, 22, 18, 10, 3, 36, 42, 6, 30, 3, 14, 4, 2, 19, 8, 24, 5, 5, 16, 4, 6, 5, 14, 33, 34, 35, 16, 35, 21, 7, 7, 7, 7, 8, 18, 39, 40, 41, 21, 41, 12, 0, 0, 0, 0, 4, 10, 27, 28, 29, 12, 29, 10, 9, 9, 9, 48, 24, 19, 45, 46, 47, 24, 47], \"k\": [37, 31, 43, 37, 43, 38, 31, 32, 1, 44, 20, 11, 2, 17, 22, 20, 13, 11, 15, 15, 1, 23, 23, 2, 17, 18, 17, 16, 1, 1, 32, 15, 15, 36, 15, 15, 22, 6, 22, 19, 1, 1, 38, 20, 20, 42, 20, 20, 13, 3, 13, 14, 1, 1, 26, 11, 11, 30, 11, 11, 2, 2, 25, 26, 25, 48, 44, 23, 23, 48, 23, 23], \"name\": \"\", \"type\": \"mesh3d\", \"x\": [-49000.0, 0.0, 3.0002899036735098e-12, -34648.19921875, -34648.19921875, -9.00085995320099e-12, 34648.19921875, 49000.0, 34648.19921875, 6.00056983268704e-12, -37503.0, -69296.5, -90540.203125, -98000.0, -90540.203125, -69296.5, -37503.0, -1.80017008244437e-11, 37503.0, 90540.203125, 69296.5, 90540.203125, 98000.0, 69296.5, 37503.0, 9.00085995320099e-12, -38046.3984375, -73500.0, -103945.0, -127306.0, -141991.0, -147000.0, -141991.0, -127306.0, -103945.0, -73500.0, -38046.3984375, -2.70025998089229e-11, 38046.3984375, 73500.0, 103945.0, 127306.0, 141991.0, 147000.0, 141991.0, 127306.0, 103945.0, 73500.0, 38046.3984375], \"y\": [6.00056983268704e-12, 0.0, 49000.0, 34648.19921875, -34648.19921875, -49000.0, -34648.19921875, -1.20010997667341e-11, 34648.19921875, 98000.0, 90540.203125, 69296.5, 37503.0, 1.20010997667341e-11, -37503.0, -69296.5, -90540.203125, -98000.0, -90540.203125, 37503.0, -69296.5, -37503.0, -2.400230014742989e-11, 69296.5, 90540.203125, 147000.0, 141991.0, 127306.0, 103945.0, 73500.0, 38046.3984375, 1.80017008244437e-11, -38046.3984375, -73500.0, -103945.0, -127306.0, -141991.0, -147000.0, -141991.0, -127306.0, -103945.0, -73500.0, -38046.3984375, -3.600340164888749e-11, 38046.3984375, 73500.0, 103945.0, 127306.0, 141991.0], \"z\": [1504.7861328125, 1473.3375244140625, 1505.4580078125, 1505.2620849609375, 1505.4141845703125, 1505.80859375, 1504.7403564453125, 1505.56884765625, 1505.5291748046875, 1530.0450439453125, 1530.254150390625, 1530.6292724609375, 1529.7974853515625, 1529.5379638671875, 1530.15283203125, 1530.43408203125, 1530.55419921875, 1529.7138671875, 1525.8739013671875, 1528.4671630859375, 1525.9945068359375, 1526.7772216796875, 1527.76171875, 1528.8021240234375, 1529.5125732421875, 1495.8341064453125, 1496.9512939453125, 1498.6796875, 1499.7879638671875, 1500.60986328125, 1501.37158203125, 1501.8690185546875, 1502.3046875, 1502.5498046875, 1502.2569580078125, 1500.7978515625, 1498.646240234375, 1497.13818359375, 1488.879638671875, 1489.62890625, 1490.1688232421875, 1491.0091552734375, 1491.5947265625, 1491.908447265625, 1492.504638671875, 1493.114990234375, 1493.30517578125, 1493.9754638671875, 1494.632568359375]}, {\"line\": {\"color\": \"rgb(50, 50, 50)\", \"width\": 1.5}, \"mode\": \"lines\", \"showlegend\": false, \"type\": \"scatter3d\", \"x\": [38046.3984375, -1.80017008244437e-11, -2.70025998089229e-11, 38046.3984375, null, -141991.0, -98000.0, -147000.0, -141991.0, null, 141991.0, 98000.0, 147000.0, 141991.0, null, -1.80017008244437e-11, -38046.3984375, -2.70025998089229e-11, -1.80017008244437e-11, null, 98000.0, 141991.0, 147000.0, 98000.0, null, 37503.0, -1.80017008244437e-11, 38046.3984375, 37503.0, null, -98000.0, -141991.0, -147000.0, -98000.0, null, -90540.203125, -98000.0, -141991.0, -90540.203125, null, 3.0002899036735098e-12, -34648.19921875, 0.0, 3.0002899036735098e-12, null, 90540.203125, 98000.0, 141991.0, 90540.203125, null, 34648.19921875, 37503.0, 69296.5, 34648.19921875, null, -34648.19921875, -37503.0, -69296.5, -34648.19921875, null, -37503.0, -34648.19921875, 3.0002899036735098e-12, -37503.0, null, -37503.0, -38046.3984375, -1.80017008244437e-11, -37503.0, null, 90540.203125, 141991.0, 98000.0, 90540.203125, null, 90540.203125, 34648.19921875, 69296.5, 90540.203125, null, -90540.203125, -141991.0, -98000.0, -90540.203125, null, -90540.203125, -34648.19921875, -69296.5, -90540.203125, null, -34648.19921875, -90540.203125, -69296.5, -34648.19921875, null, -37503.0, -34648.19921875, -69296.5, -37503.0, null, 34648.19921875, 3.0002899036735098e-12, 0.0, 34648.19921875, null, 34648.19921875, 90540.203125, 69296.5, 34648.19921875, null, 37503.0, 34648.19921875, 69296.5, 37503.0, null, 34648.19921875, 37503.0, 3.0002899036735098e-12, 34648.19921875, null, 37503.0, -9.00085995320099e-12, -1.80017008244437e-11, 37503.0, null, 34648.19921875, -9.00085995320099e-12, 37503.0, 34648.19921875, null, -9.00085995320099e-12, -37503.0, -1.80017008244437e-11, -9.00085995320099e-12, null, -9.00085995320099e-12, -34648.19921875, -37503.0, -9.00085995320099e-12, null, -9.00085995320099e-12, 34648.19921875, 0.0, -9.00085995320099e-12, null, -34648.19921875, -9.00085995320099e-12, 0.0, -34648.19921875, null, -127306.0, -90540.203125, -141991.0, -127306.0, null, -90540.203125, -127306.0, -69296.5, -90540.203125, null, -127306.0, -103945.0, -69296.5, -127306.0, null, -37503.0, -73500.0, -38046.3984375, -37503.0, null, -73500.0, -37503.0, -69296.5, -73500.0, null, -103945.0, -73500.0, -69296.5, -103945.0, null, 49000.0, 90540.203125, 98000.0, 49000.0, null, 90540.203125, 49000.0, 34648.19921875, 90540.203125, null, 90540.203125, 49000.0, 98000.0, 90540.203125, null, 34648.19921875, 49000.0, 90540.203125, 34648.19921875, null, 34648.19921875, 49000.0, 0.0, 34648.19921875, null, 49000.0, 34648.19921875, 0.0, 49000.0, null, 73500.0, 37503.0, 38046.3984375, 73500.0, null, 37503.0, 73500.0, 69296.5, 37503.0, null, 73500.0, 103945.0, 69296.5, 73500.0, null, 90540.203125, 127306.0, 141991.0, 90540.203125, null, 127306.0, 90540.203125, 69296.5, 127306.0, null, 103945.0, 127306.0, 69296.5, 103945.0, null, -49000.0, -90540.203125, -98000.0, -49000.0, null, -90540.203125, -49000.0, -34648.19921875, -90540.203125, null, -90540.203125, -49000.0, -98000.0, -90540.203125, null, -34648.19921875, -49000.0, -90540.203125, -34648.19921875, null, -34648.19921875, -49000.0, 0.0, -34648.19921875, null, -49000.0, -34648.19921875, 0.0, -49000.0, null, -73500.0, -37503.0, -38046.3984375, -73500.0, null, -37503.0, -73500.0, -69296.5, -37503.0, null, -73500.0, -103945.0, -69296.5, -73500.0, null, -90540.203125, -127306.0, -141991.0, -90540.203125, null, -127306.0, -90540.203125, -69296.5, -127306.0, null, -103945.0, -127306.0, -69296.5, -103945.0, null, 6.00056983268704e-12, -37503.0, 3.0002899036735098e-12, 6.00056983268704e-12, null, 37503.0, 6.00056983268704e-12, 3.0002899036735098e-12, 37503.0, null, -38046.3984375, 6.00056983268704e-12, 9.00085995320099e-12, -38046.3984375, null, -37503.0, 6.00056983268704e-12, -38046.3984375, -37503.0, null, 6.00056983268704e-12, 38046.3984375, 9.00085995320099e-12, 6.00056983268704e-12, null, 6.00056983268704e-12, 37503.0, 38046.3984375, 6.00056983268704e-12, null, 127306.0, 90540.203125, 141991.0, 127306.0, null, 90540.203125, 127306.0, 69296.5, 90540.203125, null, 127306.0, 103945.0, 69296.5, 127306.0, null, 37503.0, 73500.0, 38046.3984375, 37503.0, null, 73500.0, 37503.0, 69296.5, 73500.0, null, 103945.0, 73500.0, 69296.5, 103945.0, null], \"y\": [-141991.0, -98000.0, -147000.0, -141991.0, null, -38046.3984375, 1.20010997667341e-11, 1.80017008244437e-11, -38046.3984375, null, 38046.3984375, -2.400230014742989e-11, -3.600340164888749e-11, 38046.3984375, null, -98000.0, -141991.0, -147000.0, -98000.0, null, -2.400230014742989e-11, -38046.3984375, -3.600340164888749e-11, -2.400230014742989e-11, null, -90540.203125, -98000.0, -141991.0, -90540.203125, null, 1.20010997667341e-11, 38046.3984375, 1.80017008244437e-11, 1.20010997667341e-11, null, -37503.0, 1.20010997667341e-11, -38046.3984375, -37503.0, null, 49000.0, 34648.19921875, 0.0, 49000.0, null, 37503.0, -2.400230014742989e-11, 38046.3984375, 37503.0, null, -34648.19921875, -90540.203125, -69296.5, -34648.19921875, null, 34648.19921875, 90540.203125, 69296.5, 34648.19921875, null, 90540.203125, 34648.19921875, 49000.0, 90540.203125, null, -90540.203125, -141991.0, -98000.0, -90540.203125, null, -37503.0, -38046.3984375, -2.400230014742989e-11, -37503.0, null, -37503.0, -34648.19921875, -69296.5, -37503.0, null, 37503.0, 38046.3984375, 1.20010997667341e-11, 37503.0, null, 37503.0, 34648.19921875, 69296.5, 37503.0, null, -34648.19921875, -37503.0, -69296.5, -34648.19921875, null, -90540.203125, -34648.19921875, -69296.5, -90540.203125, null, 34648.19921875, 49000.0, 0.0, 34648.19921875, null, 34648.19921875, 37503.0, 69296.5, 34648.19921875, null, 90540.203125, 34648.19921875, 69296.5, 90540.203125, null, 34648.19921875, 90540.203125, 49000.0, 34648.19921875, null, -90540.203125, -49000.0, -98000.0, -90540.203125, null, -34648.19921875, -49000.0, -90540.203125, -34648.19921875, null, -49000.0, -90540.203125, -98000.0, -49000.0, null, -49000.0, -34648.19921875, -90540.203125, -49000.0, null, -49000.0, -34648.19921875, 0.0, -49000.0, null, -34648.19921875, -49000.0, 0.0, -34648.19921875, null, -73500.0, -37503.0, -38046.3984375, -73500.0, null, -37503.0, -73500.0, -69296.5, -37503.0, null, -73500.0, -103945.0, -69296.5, -73500.0, null, -90540.203125, -127306.0, -141991.0, -90540.203125, null, -127306.0, -90540.203125, -69296.5, -127306.0, null, -103945.0, -127306.0, -69296.5, -103945.0, null, -1.20010997667341e-11, -37503.0, -2.400230014742989e-11, -1.20010997667341e-11, null, -37503.0, -1.20010997667341e-11, -34648.19921875, -37503.0, null, 37503.0, -1.20010997667341e-11, -2.400230014742989e-11, 37503.0, null, 34648.19921875, -1.20010997667341e-11, 37503.0, 34648.19921875, null, -34648.19921875, -1.20010997667341e-11, 0.0, -34648.19921875, null, -1.20010997667341e-11, 34648.19921875, 0.0, -1.20010997667341e-11, null, -127306.0, -90540.203125, -141991.0, -127306.0, null, -90540.203125, -127306.0, -69296.5, -90540.203125, null, -127306.0, -103945.0, -69296.5, -127306.0, null, -37503.0, -73500.0, -38046.3984375, -37503.0, null, -73500.0, -37503.0, -69296.5, -73500.0, null, -103945.0, -73500.0, -69296.5, -103945.0, null, 6.00056983268704e-12, 37503.0, 1.20010997667341e-11, 6.00056983268704e-12, null, 37503.0, 6.00056983268704e-12, 34648.19921875, 37503.0, null, -37503.0, 6.00056983268704e-12, 1.20010997667341e-11, -37503.0, null, -34648.19921875, 6.00056983268704e-12, -37503.0, -34648.19921875, null, 34648.19921875, 6.00056983268704e-12, 0.0, 34648.19921875, null, 6.00056983268704e-12, -34648.19921875, 0.0, 6.00056983268704e-12, null, 127306.0, 90540.203125, 141991.0, 127306.0, null, 90540.203125, 127306.0, 69296.5, 90540.203125, null, 127306.0, 103945.0, 69296.5, 127306.0, null, 37503.0, 73500.0, 38046.3984375, 37503.0, null, 73500.0, 37503.0, 69296.5, 73500.0, null, 103945.0, 73500.0, 69296.5, 103945.0, null, 98000.0, 90540.203125, 49000.0, 98000.0, null, 90540.203125, 98000.0, 49000.0, 90540.203125, null, 141991.0, 98000.0, 147000.0, 141991.0, null, 90540.203125, 98000.0, 141991.0, 90540.203125, null, 98000.0, 141991.0, 147000.0, 98000.0, null, 98000.0, 90540.203125, 141991.0, 98000.0, null, 73500.0, 37503.0, 38046.3984375, 73500.0, null, 37503.0, 73500.0, 69296.5, 37503.0, null, 73500.0, 103945.0, 69296.5, 73500.0, null, 90540.203125, 127306.0, 141991.0, 90540.203125, null, 127306.0, 90540.203125, 69296.5, 127306.0, null, 103945.0, 127306.0, 69296.5, 103945.0, null], \"z\": [1488.879638671875, 1529.7138671875, 1497.13818359375, 1488.879638671875, null, 1502.3046875, 1529.5379638671875, 1501.8690185546875, 1502.3046875, null, 1492.504638671875, 1527.76171875, 1491.908447265625, 1492.504638671875, null, 1529.7138671875, 1498.646240234375, 1497.13818359375, 1529.7138671875, null, 1527.76171875, 1491.5947265625, 1491.908447265625, 1527.76171875, null, 1525.8739013671875, 1529.7138671875, 1488.879638671875, 1525.8739013671875, null, 1529.5379638671875, 1501.37158203125, 1501.8690185546875, 1529.5379638671875, null, 1530.15283203125, 1529.5379638671875, 1502.3046875, 1530.15283203125, null, 1505.4580078125, 1505.2620849609375, 1473.3375244140625, 1505.4580078125, null, 1528.4671630859375, 1527.76171875, 1492.504638671875, 1528.4671630859375, null, 1504.7403564453125, 1525.8739013671875, 1525.9945068359375, 1504.7403564453125, null, 1505.2620849609375, 1530.254150390625, 1530.6292724609375, 1505.2620849609375, null, 1530.254150390625, 1505.2620849609375, 1505.4580078125, 1530.254150390625, null, 1530.55419921875, 1498.646240234375, 1529.7138671875, 1530.55419921875, null, 1526.7772216796875, 1491.5947265625, 1527.76171875, 1526.7772216796875, null, 1526.7772216796875, 1504.7403564453125, 1525.9945068359375, 1526.7772216796875, null, 1529.7974853515625, 1501.37158203125, 1529.5379638671875, 1529.7974853515625, null, 1529.7974853515625, 1505.2620849609375, 1530.6292724609375, 1529.7974853515625, null, 1505.4141845703125, 1530.15283203125, 1530.43408203125, 1505.4141845703125, null, 1530.55419921875, 1505.4141845703125, 1530.43408203125, 1530.55419921875, null, 1505.5291748046875, 1505.4580078125, 1473.3375244140625, 1505.5291748046875, null, 1505.5291748046875, 1528.4671630859375, 1528.8021240234375, 1505.5291748046875, null, 1529.5125732421875, 1505.5291748046875, 1528.8021240234375, 1529.5125732421875, null, 1505.5291748046875, 1529.5125732421875, 1505.4580078125, 1505.5291748046875, null, 1525.8739013671875, 1505.80859375, 1529.7138671875, 1525.8739013671875, null, 1504.7403564453125, 1505.80859375, 1525.8739013671875, 1504.7403564453125, null, 1505.80859375, 1530.55419921875, 1529.7138671875, 1505.80859375, null, 1505.80859375, 1505.4141845703125, 1530.55419921875, 1505.80859375, null, 1505.80859375, 1504.7403564453125, 1473.3375244140625, 1505.80859375, null, 1505.4141845703125, 1505.80859375, 1473.3375244140625, 1505.4141845703125, null, 1502.5498046875, 1530.15283203125, 1502.3046875, 1502.5498046875, null, 1530.15283203125, 1502.5498046875, 1530.43408203125, 1530.15283203125, null, 1502.5498046875, 1502.2569580078125, 1530.43408203125, 1502.5498046875, null, 1530.55419921875, 1500.7978515625, 1498.646240234375, 1530.55419921875, null, 1500.7978515625, 1530.55419921875, 1530.43408203125, 1500.7978515625, null, 1502.2569580078125, 1500.7978515625, 1530.43408203125, 1502.2569580078125, null, 1505.56884765625, 1526.7772216796875, 1527.76171875, 1505.56884765625, null, 1526.7772216796875, 1505.56884765625, 1504.7403564453125, 1526.7772216796875, null, 1528.4671630859375, 1505.56884765625, 1527.76171875, 1528.4671630859375, null, 1505.5291748046875, 1505.56884765625, 1528.4671630859375, 1505.5291748046875, null, 1504.7403564453125, 1505.56884765625, 1473.3375244140625, 1504.7403564453125, null, 1505.56884765625, 1505.5291748046875, 1473.3375244140625, 1505.56884765625, null, 1489.62890625, 1525.8739013671875, 1488.879638671875, 1489.62890625, null, 1525.8739013671875, 1489.62890625, 1525.9945068359375, 1525.8739013671875, null, 1489.62890625, 1490.1688232421875, 1525.9945068359375, 1489.62890625, null, 1526.7772216796875, 1491.0091552734375, 1491.5947265625, 1526.7772216796875, null, 1491.0091552734375, 1526.7772216796875, 1525.9945068359375, 1491.0091552734375, null, 1490.1688232421875, 1491.0091552734375, 1525.9945068359375, 1490.1688232421875, null, 1504.7861328125, 1529.7974853515625, 1529.5379638671875, 1504.7861328125, null, 1529.7974853515625, 1504.7861328125, 1505.2620849609375, 1529.7974853515625, null, 1530.15283203125, 1504.7861328125, 1529.5379638671875, 1530.15283203125, null, 1505.4141845703125, 1504.7861328125, 1530.15283203125, 1505.4141845703125, null, 1505.2620849609375, 1504.7861328125, 1473.3375244140625, 1505.2620849609375, null, 1504.7861328125, 1505.4141845703125, 1473.3375244140625, 1504.7861328125, null, 1498.6796875, 1530.254150390625, 1496.9512939453125, 1498.6796875, null, 1530.254150390625, 1498.6796875, 1530.6292724609375, 1530.254150390625, null, 1498.6796875, 1499.7879638671875, 1530.6292724609375, 1498.6796875, null, 1529.7974853515625, 1500.60986328125, 1501.37158203125, 1529.7974853515625, null, 1500.60986328125, 1529.7974853515625, 1530.6292724609375, 1500.60986328125, null, 1499.7879638671875, 1500.60986328125, 1530.6292724609375, 1499.7879638671875, null, 1530.0450439453125, 1530.254150390625, 1505.4580078125, 1530.0450439453125, null, 1529.5125732421875, 1530.0450439453125, 1505.4580078125, 1529.5125732421875, null, 1496.9512939453125, 1530.0450439453125, 1495.8341064453125, 1496.9512939453125, null, 1530.254150390625, 1530.0450439453125, 1496.9512939453125, 1530.254150390625, null, 1530.0450439453125, 1494.632568359375, 1495.8341064453125, 1530.0450439453125, null, 1530.0450439453125, 1529.5125732421875, 1494.632568359375, 1530.0450439453125, null, 1493.114990234375, 1528.4671630859375, 1492.504638671875, 1493.114990234375, null, 1528.4671630859375, 1493.114990234375, 1528.8021240234375, 1528.4671630859375, null, 1493.114990234375, 1493.30517578125, 1528.8021240234375, 1493.114990234375, null, 1529.5125732421875, 1493.9754638671875, 1494.632568359375, 1529.5125732421875, null, 1493.9754638671875, 1529.5125732421875, 1528.8021240234375, 1493.9754638671875, null, 1493.30517578125, 1493.9754638671875, 1528.8021240234375, 1493.30517578125, null]}, {\"hoverinfo\": \"none\", \"marker\": {\"color\": [1494.4619140625, 1522.1341552734375], \"colorscale\": [[0.0, \"rgb(31, 119, 180)\"], [1.0, \"rgb(255, 127, 14)\"]], \"showscale\": true, \"size\": 0.1}, \"mode\": \"markers\", \"showlegend\": false, \"type\": \"scatter3d\", \"x\": [-49000.0], \"y\": [6.00056983268704e-12], \"z\": [1504.7861328125]}],\n",
       "                        {\"height\": 800, \"scene\": {\"aspectratio\": {\"x\": 1, \"y\": 1, \"z\": 0.5}, \"xaxis\": {\"backgroundcolor\": \"rgb(230, 230, 230)\", \"gridcolor\": \"rgb(255, 255, 255)\", \"showbackground\": true, \"zerolinecolor\": \"rgb(255, 255, 255)\"}, \"yaxis\": {\"backgroundcolor\": \"rgb(230, 230, 230)\", \"gridcolor\": \"rgb(255, 255, 255)\", \"showbackground\": true, \"zerolinecolor\": \"rgb(255, 255, 255)\"}, \"zaxis\": {\"backgroundcolor\": \"rgb(230, 230, 230)\", \"gridcolor\": \"rgb(255, 255, 255)\", \"showbackground\": true, \"zerolinecolor\": \"rgb(255, 255, 255)\"}}, \"template\": {\"data\": {\"bar\": [{\"error_x\": {\"color\": \"#2a3f5f\"}, \"error_y\": {\"color\": \"#2a3f5f\"}, \"marker\": {\"line\": {\"color\": \"#E5ECF6\", \"width\": 0.5}}, \"type\": \"bar\"}], \"barpolar\": [{\"marker\": {\"line\": {\"color\": \"#E5ECF6\", \"width\": 0.5}}, \"type\": \"barpolar\"}], \"carpet\": [{\"aaxis\": {\"endlinecolor\": \"#2a3f5f\", \"gridcolor\": \"white\", \"linecolor\": \"white\", \"minorgridcolor\": \"white\", \"startlinecolor\": \"#2a3f5f\"}, \"baxis\": {\"endlinecolor\": \"#2a3f5f\", \"gridcolor\": \"white\", \"linecolor\": \"white\", \"minorgridcolor\": \"white\", \"startlinecolor\": \"#2a3f5f\"}, \"type\": \"carpet\"}], \"choropleth\": [{\"colorbar\": {\"outlinewidth\": 0, \"ticks\": \"\"}, \"type\": \"choropleth\"}], \"contour\": [{\"colorbar\": {\"outlinewidth\": 0, \"ticks\": \"\"}, \"colorscale\": [[0.0, \"#0d0887\"], [0.1111111111111111, \"#46039f\"], [0.2222222222222222, \"#7201a8\"], [0.3333333333333333, \"#9c179e\"], [0.4444444444444444, \"#bd3786\"], [0.5555555555555556, \"#d8576b\"], [0.6666666666666666, \"#ed7953\"], [0.7777777777777778, \"#fb9f3a\"], [0.8888888888888888, \"#fdca26\"], [1.0, \"#f0f921\"]], \"type\": \"contour\"}], \"contourcarpet\": [{\"colorbar\": {\"outlinewidth\": 0, \"ticks\": \"\"}, \"type\": \"contourcarpet\"}], \"heatmap\": [{\"colorbar\": {\"outlinewidth\": 0, \"ticks\": \"\"}, \"colorscale\": [[0.0, \"#0d0887\"], [0.1111111111111111, \"#46039f\"], [0.2222222222222222, \"#7201a8\"], [0.3333333333333333, \"#9c179e\"], [0.4444444444444444, \"#bd3786\"], [0.5555555555555556, \"#d8576b\"], [0.6666666666666666, \"#ed7953\"], [0.7777777777777778, \"#fb9f3a\"], [0.8888888888888888, \"#fdca26\"], [1.0, \"#f0f921\"]], \"type\": \"heatmap\"}], \"heatmapgl\": [{\"colorbar\": {\"outlinewidth\": 0, \"ticks\": \"\"}, \"colorscale\": [[0.0, \"#0d0887\"], [0.1111111111111111, \"#46039f\"], [0.2222222222222222, \"#7201a8\"], [0.3333333333333333, \"#9c179e\"], [0.4444444444444444, \"#bd3786\"], [0.5555555555555556, \"#d8576b\"], [0.6666666666666666, \"#ed7953\"], [0.7777777777777778, \"#fb9f3a\"], [0.8888888888888888, \"#fdca26\"], [1.0, \"#f0f921\"]], \"type\": \"heatmapgl\"}], \"histogram\": [{\"marker\": {\"colorbar\": {\"outlinewidth\": 0, \"ticks\": \"\"}}, \"type\": \"histogram\"}], \"histogram2d\": [{\"colorbar\": {\"outlinewidth\": 0, \"ticks\": \"\"}, \"colorscale\": [[0.0, \"#0d0887\"], [0.1111111111111111, \"#46039f\"], [0.2222222222222222, \"#7201a8\"], [0.3333333333333333, \"#9c179e\"], [0.4444444444444444, \"#bd3786\"], [0.5555555555555556, \"#d8576b\"], [0.6666666666666666, \"#ed7953\"], [0.7777777777777778, \"#fb9f3a\"], [0.8888888888888888, \"#fdca26\"], [1.0, \"#f0f921\"]], \"type\": \"histogram2d\"}], \"histogram2dcontour\": [{\"colorbar\": {\"outlinewidth\": 0, \"ticks\": \"\"}, \"colorscale\": [[0.0, \"#0d0887\"], [0.1111111111111111, \"#46039f\"], [0.2222222222222222, \"#7201a8\"], [0.3333333333333333, \"#9c179e\"], [0.4444444444444444, \"#bd3786\"], [0.5555555555555556, \"#d8576b\"], [0.6666666666666666, \"#ed7953\"], [0.7777777777777778, \"#fb9f3a\"], [0.8888888888888888, \"#fdca26\"], [1.0, \"#f0f921\"]], \"type\": \"histogram2dcontour\"}], \"mesh3d\": [{\"colorbar\": {\"outlinewidth\": 0, \"ticks\": \"\"}, \"type\": \"mesh3d\"}], \"parcoords\": [{\"line\": {\"colorbar\": {\"outlinewidth\": 0, \"ticks\": \"\"}}, \"type\": \"parcoords\"}], \"pie\": [{\"automargin\": true, \"type\": \"pie\"}], \"scatter\": [{\"marker\": {\"colorbar\": {\"outlinewidth\": 0, \"ticks\": \"\"}}, \"type\": \"scatter\"}], \"scatter3d\": [{\"line\": {\"colorbar\": {\"outlinewidth\": 0, \"ticks\": \"\"}}, \"marker\": {\"colorbar\": {\"outlinewidth\": 0, \"ticks\": \"\"}}, \"type\": \"scatter3d\"}], \"scattercarpet\": [{\"marker\": {\"colorbar\": {\"outlinewidth\": 0, \"ticks\": \"\"}}, \"type\": \"scattercarpet\"}], \"scattergeo\": [{\"marker\": {\"colorbar\": {\"outlinewidth\": 0, \"ticks\": \"\"}}, \"type\": \"scattergeo\"}], \"scattergl\": [{\"marker\": {\"colorbar\": {\"outlinewidth\": 0, \"ticks\": \"\"}}, \"type\": \"scattergl\"}], \"scattermapbox\": [{\"marker\": {\"colorbar\": {\"outlinewidth\": 0, \"ticks\": \"\"}}, \"type\": \"scattermapbox\"}], \"scatterpolar\": [{\"marker\": {\"colorbar\": {\"outlinewidth\": 0, \"ticks\": \"\"}}, \"type\": \"scatterpolar\"}], \"scatterpolargl\": [{\"marker\": {\"colorbar\": {\"outlinewidth\": 0, \"ticks\": \"\"}}, \"type\": \"scatterpolargl\"}], \"scatterternary\": [{\"marker\": {\"colorbar\": {\"outlinewidth\": 0, \"ticks\": \"\"}}, \"type\": \"scatterternary\"}], \"surface\": [{\"colorbar\": {\"outlinewidth\": 0, \"ticks\": \"\"}, \"colorscale\": [[0.0, \"#0d0887\"], [0.1111111111111111, \"#46039f\"], [0.2222222222222222, \"#7201a8\"], [0.3333333333333333, \"#9c179e\"], [0.4444444444444444, \"#bd3786\"], [0.5555555555555556, \"#d8576b\"], [0.6666666666666666, \"#ed7953\"], [0.7777777777777778, \"#fb9f3a\"], [0.8888888888888888, \"#fdca26\"], [1.0, \"#f0f921\"]], \"type\": \"surface\"}], \"table\": [{\"cells\": {\"fill\": {\"color\": \"#EBF0F8\"}, \"line\": {\"color\": \"white\"}}, \"header\": {\"fill\": {\"color\": \"#C8D4E3\"}, \"line\": {\"color\": \"white\"}}, \"type\": \"table\"}]}, \"layout\": {\"annotationdefaults\": {\"arrowcolor\": \"#2a3f5f\", \"arrowhead\": 0, \"arrowwidth\": 1}, \"coloraxis\": {\"colorbar\": {\"outlinewidth\": 0, \"ticks\": \"\"}}, \"colorscale\": {\"diverging\": [[0, \"#8e0152\"], [0.1, \"#c51b7d\"], [0.2, \"#de77ae\"], [0.3, \"#f1b6da\"], [0.4, \"#fde0ef\"], [0.5, \"#f7f7f7\"], [0.6, \"#e6f5d0\"], [0.7, \"#b8e186\"], [0.8, \"#7fbc41\"], [0.9, \"#4d9221\"], [1, \"#276419\"]], \"sequential\": [[0.0, \"#0d0887\"], [0.1111111111111111, \"#46039f\"], [0.2222222222222222, \"#7201a8\"], [0.3333333333333333, \"#9c179e\"], [0.4444444444444444, \"#bd3786\"], [0.5555555555555556, \"#d8576b\"], [0.6666666666666666, \"#ed7953\"], [0.7777777777777778, \"#fb9f3a\"], [0.8888888888888888, \"#fdca26\"], [1.0, \"#f0f921\"]], \"sequentialminus\": [[0.0, \"#0d0887\"], [0.1111111111111111, \"#46039f\"], [0.2222222222222222, \"#7201a8\"], [0.3333333333333333, \"#9c179e\"], [0.4444444444444444, \"#bd3786\"], [0.5555555555555556, \"#d8576b\"], [0.6666666666666666, \"#ed7953\"], [0.7777777777777778, \"#fb9f3a\"], [0.8888888888888888, \"#fdca26\"], [1.0, \"#f0f921\"]]}, \"colorway\": [\"#636efa\", \"#EF553B\", \"#00cc96\", \"#ab63fa\", \"#FFA15A\", \"#19d3f3\", \"#FF6692\", \"#B6E880\", \"#FF97FF\", \"#FECB52\"], \"font\": {\"color\": \"#2a3f5f\"}, \"geo\": {\"bgcolor\": \"white\", \"lakecolor\": \"white\", \"landcolor\": \"#E5ECF6\", \"showlakes\": true, \"showland\": true, \"subunitcolor\": \"white\"}, \"hoverlabel\": {\"align\": \"left\"}, \"hovermode\": \"closest\", \"mapbox\": {\"style\": \"light\"}, \"paper_bgcolor\": \"white\", \"plot_bgcolor\": \"#E5ECF6\", \"polar\": {\"angularaxis\": {\"gridcolor\": \"white\", \"linecolor\": \"white\", \"ticks\": \"\"}, \"bgcolor\": \"#E5ECF6\", \"radialaxis\": {\"gridcolor\": \"white\", \"linecolor\": \"white\", \"ticks\": \"\"}}, \"scene\": {\"xaxis\": {\"backgroundcolor\": \"#E5ECF6\", \"gridcolor\": \"white\", \"gridwidth\": 2, \"linecolor\": \"white\", \"showbackground\": true, \"ticks\": \"\", \"zerolinecolor\": \"white\"}, \"yaxis\": {\"backgroundcolor\": \"#E5ECF6\", \"gridcolor\": \"white\", \"gridwidth\": 2, \"linecolor\": \"white\", \"showbackground\": true, \"ticks\": \"\", \"zerolinecolor\": \"white\"}, \"zaxis\": {\"backgroundcolor\": \"#E5ECF6\", \"gridcolor\": \"white\", \"gridwidth\": 2, \"linecolor\": \"white\", \"showbackground\": true, \"ticks\": \"\", \"zerolinecolor\": \"white\"}}, \"shapedefaults\": {\"line\": {\"color\": \"#2a3f5f\"}}, \"ternary\": {\"aaxis\": {\"gridcolor\": \"white\", \"linecolor\": \"white\", \"ticks\": \"\"}, \"baxis\": {\"gridcolor\": \"white\", \"linecolor\": \"white\", \"ticks\": \"\"}, \"bgcolor\": \"#E5ECF6\", \"caxis\": {\"gridcolor\": \"white\", \"linecolor\": \"white\", \"ticks\": \"\"}}, \"title\": {\"x\": 0.05}, \"xaxis\": {\"automargin\": true, \"gridcolor\": \"white\", \"linecolor\": \"white\", \"ticks\": \"\", \"title\": {\"standoff\": 15}, \"zerolinecolor\": \"white\", \"zerolinewidth\": 2}, \"yaxis\": {\"automargin\": true, \"gridcolor\": \"white\", \"linecolor\": \"white\", \"ticks\": \"\", \"title\": {\"standoff\": 15}, \"zerolinecolor\": \"white\", \"zerolinewidth\": 2}}}, \"title\": {\"text\": \"wafare\"}, \"width\": 800},\n",
       "                        {\"responsive\": true}\n",
       "                    ).then(function(){\n",
       "                            \n",
       "var gd = document.getElementById('0eefaab6-54e9-4eea-83d4-2fe46eed24c7');\n",
       "var x = new MutationObserver(function (mutations, observer) {{\n",
       "        var display = window.getComputedStyle(gd).display;\n",
       "        if (!display || display === 'none') {{\n",
       "            console.log([gd, 'removed!']);\n",
       "            Plotly.purge(gd);\n",
       "            observer.disconnect();\n",
       "        }}\n",
       "}});\n",
       "\n",
       "// Listen for the removal of the full notebook cells\n",
       "var notebookContainer = gd.closest('#notebook-container');\n",
       "if (notebookContainer) {{\n",
       "    x.observe(notebookContainer, {childList: true});\n",
       "}}\n",
       "\n",
       "// Listen for the clearing of the current output cell\n",
       "var outputEl = gd.closest('.output');\n",
       "if (outputEl) {{\n",
       "    x.observe(outputEl, {childList: true});\n",
       "}}\n",
       "\n",
       "                        })\n",
       "                };\n",
       "                });\n",
       "            </script>\n",
       "        </div>"
      ]
     },
     "metadata": {},
     "output_type": "display_data"
    },
    {
     "name": "stdout",
     "output_type": "stream",
     "text": [
      "3\n",
      "250.0\n"
     ]
    },
    {
     "data": {
      "application/vnd.jupyter.widget-view+json": {
       "model_id": "7237c15a06cc44e9a0e817b271e3aad7",
       "version_major": 2,
       "version_minor": 0
      },
      "text/plain": [
       "Canvas(toolbar=Toolbar(toolitems=[('Home', 'Reset original view', 'home', 'home'), ('Back', 'Back to previous …"
      ]
     },
     "metadata": {},
     "output_type": "display_data"
    },
    {
     "data": {
      "application/vnd.plotly.v1+json": {
       "config": {
        "plotlyServerURL": "https://plot.ly"
       },
       "data": [
        {
         "facecolor": [
          "rgb(118, 122, 115)",
          "rgb(166, 124, 80)",
          "rgb(107, 122, 124)",
          "rgb(144, 123, 97)",
          "rgb(105, 122, 126)",
          "rgb(196, 125, 58)",
          "rgb(164, 124, 82)",
          "rgb(242, 127, 24)",
          "rgb(33, 119, 179)",
          "rgb(205, 125, 51)",
          "rgb(228, 126, 34)",
          "rgb(254, 127, 15)",
          "rgb(186, 125, 65)",
          "rgb(234, 126, 29)",
          "rgb(198, 125, 56)",
          "rgb(229, 126, 33)",
          "rgb(240, 126, 25)",
          "rgb(253, 127, 15)",
          "rgb(253, 127, 15)",
          "rgb(255, 127, 14)",
          "rgb(33, 119, 179)",
          "rgb(244, 127, 22)",
          "rgb(247, 127, 20)",
          "rgb(184, 124, 67)",
          "rgb(241, 127, 24)",
          "rgb(174, 124, 74)",
          "rgb(254, 127, 15)",
          "rgb(188, 125, 63)",
          "rgb(32, 119, 179)",
          "rgb(34, 119, 178)",
          "rgb(170, 124, 77)",
          "rgb(247, 127, 20)",
          "rgb(172, 124, 76)",
          "rgb(156, 123, 87)",
          "rgb(242, 127, 23)",
          "rgb(166, 124, 80)",
          "rgb(235, 126, 29)",
          "rgb(174, 124, 74)",
          "rgb(239, 126, 26)",
          "rgb(181, 124, 69)",
          "rgb(31, 119, 180)",
          "rgb(33, 119, 179)",
          "rgb(88, 121, 138)",
          "rgb(187, 125, 64)",
          "rgb(91, 121, 136)",
          "rgb(101, 121, 128)",
          "rgb(193, 125, 60)",
          "rgb(95, 121, 133)",
          "rgb(249, 127, 19)",
          "rgb(184, 124, 67)",
          "rgb(249, 127, 19)",
          "rgb(184, 124, 67)",
          "rgb(31, 119, 180)",
          "rgb(31, 119, 180)",
          "rgb(146, 123, 95)",
          "rgb(236, 126, 28)",
          "rgb(153, 123, 90)",
          "rgb(162, 124, 83)",
          "rgb(241, 127, 24)",
          "rgb(159, 124, 85)",
          "rgb(253, 127, 15)",
          "rgb(251, 127, 17)",
          "rgb(137, 123, 101)",
          "rgb(231, 126, 32)",
          "rgb(131, 123, 106)",
          "rgb(222, 126, 39)",
          "rgb(113, 122, 120)",
          "rgb(211, 125, 47)",
          "rgb(117, 122, 116)",
          "rgb(124, 122, 111)",
          "rgb(216, 126, 43)",
          "rgb(120, 122, 114)"
         ],
         "i": [
          38,
          32,
          44,
          17,
          22,
          18,
          13,
          14,
          2,
          19,
          6,
          3,
          10,
          16,
          21,
          21,
          12,
          12,
          4,
          16,
          8,
          8,
          24,
          8,
          18,
          6,
          5,
          5,
          5,
          4,
          33,
          14,
          33,
          16,
          35,
          34,
          7,
          21,
          19,
          8,
          6,
          7,
          39,
          18,
          39,
          21,
          41,
          40,
          0,
          12,
          14,
          4,
          3,
          0,
          27,
          10,
          27,
          12,
          29,
          28,
          9,
          24,
          26,
          10,
          9,
          9,
          45,
          19,
          45,
          24,
          47,
          46
         ],
         "j": [
          17,
          13,
          22,
          36,
          42,
          17,
          30,
          13,
          3,
          22,
          18,
          10,
          3,
          36,
          42,
          6,
          30,
          3,
          14,
          4,
          2,
          19,
          8,
          24,
          5,
          5,
          16,
          4,
          6,
          5,
          14,
          33,
          34,
          35,
          16,
          35,
          21,
          7,
          7,
          7,
          7,
          8,
          18,
          39,
          40,
          41,
          21,
          41,
          12,
          0,
          0,
          0,
          0,
          4,
          10,
          27,
          28,
          29,
          12,
          29,
          10,
          9,
          9,
          9,
          48,
          24,
          19,
          45,
          46,
          47,
          24,
          47
         ],
         "k": [
          37,
          31,
          43,
          37,
          43,
          38,
          31,
          32,
          1,
          44,
          20,
          11,
          2,
          17,
          22,
          20,
          13,
          11,
          15,
          15,
          1,
          23,
          23,
          2,
          17,
          18,
          17,
          16,
          1,
          1,
          32,
          15,
          15,
          36,
          15,
          15,
          22,
          6,
          22,
          19,
          1,
          1,
          38,
          20,
          20,
          42,
          20,
          20,
          13,
          3,
          13,
          14,
          1,
          1,
          26,
          11,
          11,
          30,
          11,
          11,
          2,
          2,
          25,
          26,
          25,
          48,
          44,
          23,
          23,
          48,
          23,
          23
         ],
         "name": "",
         "type": "mesh3d",
         "x": [
          -49000,
          0,
          3.0002899036735098e-12,
          -34648.19921875,
          -34648.19921875,
          -9.00085995320099e-12,
          34648.19921875,
          49000,
          34648.19921875,
          6.00056983268704e-12,
          -37503,
          -69296.5,
          -90540.203125,
          -98000,
          -90540.203125,
          -69296.5,
          -37503,
          -1.80017008244437e-11,
          37503,
          90540.203125,
          69296.5,
          90540.203125,
          98000,
          69296.5,
          37503,
          9.00085995320099e-12,
          -38046.3984375,
          -73500,
          -103945,
          -127306,
          -141991,
          -147000,
          -141991,
          -127306,
          -103945,
          -73500,
          -38046.3984375,
          -2.70025998089229e-11,
          38046.3984375,
          73500,
          103945,
          127306,
          141991,
          147000,
          141991,
          127306,
          103945,
          73500,
          38046.3984375
         ],
         "y": [
          6.00056983268704e-12,
          0,
          49000,
          34648.19921875,
          -34648.19921875,
          -49000,
          -34648.19921875,
          -1.20010997667341e-11,
          34648.19921875,
          98000,
          90540.203125,
          69296.5,
          37503,
          1.20010997667341e-11,
          -37503,
          -69296.5,
          -90540.203125,
          -98000,
          -90540.203125,
          37503,
          -69296.5,
          -37503,
          -2.400230014742989e-11,
          69296.5,
          90540.203125,
          147000,
          141991,
          127306,
          103945,
          73500,
          38046.3984375,
          1.80017008244437e-11,
          -38046.3984375,
          -73500,
          -103945,
          -127306,
          -141991,
          -147000,
          -141991,
          -127306,
          -103945,
          -73500,
          -38046.3984375,
          -3.600340164888749e-11,
          38046.3984375,
          73500,
          103945,
          127306,
          141991
         ],
         "z": [
          1504.7440185546875,
          1473.4132080078125,
          1505.2733154296875,
          1505.214111328125,
          1505.2764892578125,
          1505.789794921875,
          1504.6021728515625,
          1505.2958984375,
          1505.3359375,
          1530.1744384765625,
          1530.4041748046875,
          1530.53271484375,
          1530.028564453125,
          1529.3670654296875,
          1529.9925537109375,
          1530.4921875,
          1530.690673828125,
          1529.710693359375,
          1525.9246826171875,
          1528.2791748046875,
          1525.7879638671875,
          1526.5577392578125,
          1527.0791015625,
          1528.7479248046875,
          1529.435546875,
          1495.7249755859375,
          1496.8582763671875,
          1498.6043701171875,
          1499.493408203125,
          1500.7159423828125,
          1501.3443603515625,
          1501.9278564453125,
          1502.1724853515625,
          1502.858642578125,
          1502.25537109375,
          1500.6104736328125,
          1498.381591796875,
          1497.02978515625,
          1488.9232177734375,
          1489.584228515625,
          1490.135009765625,
          1491.0115966796875,
          1491.585693359375,
          1491.9296875,
          1492.3836669921875,
          1492.94140625,
          1493.622314453125,
          1493.9071044921875,
          1494.5667724609375
         ]
        },
        {
         "line": {
          "color": "rgb(50, 50, 50)",
          "width": 1.5
         },
         "mode": "lines",
         "showlegend": false,
         "type": "scatter3d",
         "x": [
          38046.3984375,
          -1.80017008244437e-11,
          -2.70025998089229e-11,
          38046.3984375,
          null,
          -141991,
          -98000,
          -147000,
          -141991,
          null,
          141991,
          98000,
          147000,
          141991,
          null,
          -1.80017008244437e-11,
          -38046.3984375,
          -2.70025998089229e-11,
          -1.80017008244437e-11,
          null,
          98000,
          141991,
          147000,
          98000,
          null,
          37503,
          -1.80017008244437e-11,
          38046.3984375,
          37503,
          null,
          -98000,
          -141991,
          -147000,
          -98000,
          null,
          -90540.203125,
          -98000,
          -141991,
          -90540.203125,
          null,
          3.0002899036735098e-12,
          -34648.19921875,
          0,
          3.0002899036735098e-12,
          null,
          90540.203125,
          98000,
          141991,
          90540.203125,
          null,
          34648.19921875,
          37503,
          69296.5,
          34648.19921875,
          null,
          -34648.19921875,
          -37503,
          -69296.5,
          -34648.19921875,
          null,
          -37503,
          -34648.19921875,
          3.0002899036735098e-12,
          -37503,
          null,
          -37503,
          -38046.3984375,
          -1.80017008244437e-11,
          -37503,
          null,
          90540.203125,
          141991,
          98000,
          90540.203125,
          null,
          90540.203125,
          34648.19921875,
          69296.5,
          90540.203125,
          null,
          -90540.203125,
          -141991,
          -98000,
          -90540.203125,
          null,
          -90540.203125,
          -34648.19921875,
          -69296.5,
          -90540.203125,
          null,
          -34648.19921875,
          -90540.203125,
          -69296.5,
          -34648.19921875,
          null,
          -37503,
          -34648.19921875,
          -69296.5,
          -37503,
          null,
          34648.19921875,
          3.0002899036735098e-12,
          0,
          34648.19921875,
          null,
          34648.19921875,
          90540.203125,
          69296.5,
          34648.19921875,
          null,
          37503,
          34648.19921875,
          69296.5,
          37503,
          null,
          34648.19921875,
          37503,
          3.0002899036735098e-12,
          34648.19921875,
          null,
          37503,
          -9.00085995320099e-12,
          -1.80017008244437e-11,
          37503,
          null,
          34648.19921875,
          -9.00085995320099e-12,
          37503,
          34648.19921875,
          null,
          -9.00085995320099e-12,
          -37503,
          -1.80017008244437e-11,
          -9.00085995320099e-12,
          null,
          -9.00085995320099e-12,
          -34648.19921875,
          -37503,
          -9.00085995320099e-12,
          null,
          -9.00085995320099e-12,
          34648.19921875,
          0,
          -9.00085995320099e-12,
          null,
          -34648.19921875,
          -9.00085995320099e-12,
          0,
          -34648.19921875,
          null,
          -127306,
          -90540.203125,
          -141991,
          -127306,
          null,
          -90540.203125,
          -127306,
          -69296.5,
          -90540.203125,
          null,
          -127306,
          -103945,
          -69296.5,
          -127306,
          null,
          -37503,
          -73500,
          -38046.3984375,
          -37503,
          null,
          -73500,
          -37503,
          -69296.5,
          -73500,
          null,
          -103945,
          -73500,
          -69296.5,
          -103945,
          null,
          49000,
          90540.203125,
          98000,
          49000,
          null,
          90540.203125,
          49000,
          34648.19921875,
          90540.203125,
          null,
          90540.203125,
          49000,
          98000,
          90540.203125,
          null,
          34648.19921875,
          49000,
          90540.203125,
          34648.19921875,
          null,
          34648.19921875,
          49000,
          0,
          34648.19921875,
          null,
          49000,
          34648.19921875,
          0,
          49000,
          null,
          73500,
          37503,
          38046.3984375,
          73500,
          null,
          37503,
          73500,
          69296.5,
          37503,
          null,
          73500,
          103945,
          69296.5,
          73500,
          null,
          90540.203125,
          127306,
          141991,
          90540.203125,
          null,
          127306,
          90540.203125,
          69296.5,
          127306,
          null,
          103945,
          127306,
          69296.5,
          103945,
          null,
          -49000,
          -90540.203125,
          -98000,
          -49000,
          null,
          -90540.203125,
          -49000,
          -34648.19921875,
          -90540.203125,
          null,
          -90540.203125,
          -49000,
          -98000,
          -90540.203125,
          null,
          -34648.19921875,
          -49000,
          -90540.203125,
          -34648.19921875,
          null,
          -34648.19921875,
          -49000,
          0,
          -34648.19921875,
          null,
          -49000,
          -34648.19921875,
          0,
          -49000,
          null,
          -73500,
          -37503,
          -38046.3984375,
          -73500,
          null,
          -37503,
          -73500,
          -69296.5,
          -37503,
          null,
          -73500,
          -103945,
          -69296.5,
          -73500,
          null,
          -90540.203125,
          -127306,
          -141991,
          -90540.203125,
          null,
          -127306,
          -90540.203125,
          -69296.5,
          -127306,
          null,
          -103945,
          -127306,
          -69296.5,
          -103945,
          null,
          6.00056983268704e-12,
          -37503,
          3.0002899036735098e-12,
          6.00056983268704e-12,
          null,
          37503,
          6.00056983268704e-12,
          3.0002899036735098e-12,
          37503,
          null,
          -38046.3984375,
          6.00056983268704e-12,
          9.00085995320099e-12,
          -38046.3984375,
          null,
          -37503,
          6.00056983268704e-12,
          -38046.3984375,
          -37503,
          null,
          6.00056983268704e-12,
          38046.3984375,
          9.00085995320099e-12,
          6.00056983268704e-12,
          null,
          6.00056983268704e-12,
          37503,
          38046.3984375,
          6.00056983268704e-12,
          null,
          127306,
          90540.203125,
          141991,
          127306,
          null,
          90540.203125,
          127306,
          69296.5,
          90540.203125,
          null,
          127306,
          103945,
          69296.5,
          127306,
          null,
          37503,
          73500,
          38046.3984375,
          37503,
          null,
          73500,
          37503,
          69296.5,
          73500,
          null,
          103945,
          73500,
          69296.5,
          103945,
          null
         ],
         "y": [
          -141991,
          -98000,
          -147000,
          -141991,
          null,
          -38046.3984375,
          1.20010997667341e-11,
          1.80017008244437e-11,
          -38046.3984375,
          null,
          38046.3984375,
          -2.400230014742989e-11,
          -3.600340164888749e-11,
          38046.3984375,
          null,
          -98000,
          -141991,
          -147000,
          -98000,
          null,
          -2.400230014742989e-11,
          -38046.3984375,
          -3.600340164888749e-11,
          -2.400230014742989e-11,
          null,
          -90540.203125,
          -98000,
          -141991,
          -90540.203125,
          null,
          1.20010997667341e-11,
          38046.3984375,
          1.80017008244437e-11,
          1.20010997667341e-11,
          null,
          -37503,
          1.20010997667341e-11,
          -38046.3984375,
          -37503,
          null,
          49000,
          34648.19921875,
          0,
          49000,
          null,
          37503,
          -2.400230014742989e-11,
          38046.3984375,
          37503,
          null,
          -34648.19921875,
          -90540.203125,
          -69296.5,
          -34648.19921875,
          null,
          34648.19921875,
          90540.203125,
          69296.5,
          34648.19921875,
          null,
          90540.203125,
          34648.19921875,
          49000,
          90540.203125,
          null,
          -90540.203125,
          -141991,
          -98000,
          -90540.203125,
          null,
          -37503,
          -38046.3984375,
          -2.400230014742989e-11,
          -37503,
          null,
          -37503,
          -34648.19921875,
          -69296.5,
          -37503,
          null,
          37503,
          38046.3984375,
          1.20010997667341e-11,
          37503,
          null,
          37503,
          34648.19921875,
          69296.5,
          37503,
          null,
          -34648.19921875,
          -37503,
          -69296.5,
          -34648.19921875,
          null,
          -90540.203125,
          -34648.19921875,
          -69296.5,
          -90540.203125,
          null,
          34648.19921875,
          49000,
          0,
          34648.19921875,
          null,
          34648.19921875,
          37503,
          69296.5,
          34648.19921875,
          null,
          90540.203125,
          34648.19921875,
          69296.5,
          90540.203125,
          null,
          34648.19921875,
          90540.203125,
          49000,
          34648.19921875,
          null,
          -90540.203125,
          -49000,
          -98000,
          -90540.203125,
          null,
          -34648.19921875,
          -49000,
          -90540.203125,
          -34648.19921875,
          null,
          -49000,
          -90540.203125,
          -98000,
          -49000,
          null,
          -49000,
          -34648.19921875,
          -90540.203125,
          -49000,
          null,
          -49000,
          -34648.19921875,
          0,
          -49000,
          null,
          -34648.19921875,
          -49000,
          0,
          -34648.19921875,
          null,
          -73500,
          -37503,
          -38046.3984375,
          -73500,
          null,
          -37503,
          -73500,
          -69296.5,
          -37503,
          null,
          -73500,
          -103945,
          -69296.5,
          -73500,
          null,
          -90540.203125,
          -127306,
          -141991,
          -90540.203125,
          null,
          -127306,
          -90540.203125,
          -69296.5,
          -127306,
          null,
          -103945,
          -127306,
          -69296.5,
          -103945,
          null,
          -1.20010997667341e-11,
          -37503,
          -2.400230014742989e-11,
          -1.20010997667341e-11,
          null,
          -37503,
          -1.20010997667341e-11,
          -34648.19921875,
          -37503,
          null,
          37503,
          -1.20010997667341e-11,
          -2.400230014742989e-11,
          37503,
          null,
          34648.19921875,
          -1.20010997667341e-11,
          37503,
          34648.19921875,
          null,
          -34648.19921875,
          -1.20010997667341e-11,
          0,
          -34648.19921875,
          null,
          -1.20010997667341e-11,
          34648.19921875,
          0,
          -1.20010997667341e-11,
          null,
          -127306,
          -90540.203125,
          -141991,
          -127306,
          null,
          -90540.203125,
          -127306,
          -69296.5,
          -90540.203125,
          null,
          -127306,
          -103945,
          -69296.5,
          -127306,
          null,
          -37503,
          -73500,
          -38046.3984375,
          -37503,
          null,
          -73500,
          -37503,
          -69296.5,
          -73500,
          null,
          -103945,
          -73500,
          -69296.5,
          -103945,
          null,
          6.00056983268704e-12,
          37503,
          1.20010997667341e-11,
          6.00056983268704e-12,
          null,
          37503,
          6.00056983268704e-12,
          34648.19921875,
          37503,
          null,
          -37503,
          6.00056983268704e-12,
          1.20010997667341e-11,
          -37503,
          null,
          -34648.19921875,
          6.00056983268704e-12,
          -37503,
          -34648.19921875,
          null,
          34648.19921875,
          6.00056983268704e-12,
          0,
          34648.19921875,
          null,
          6.00056983268704e-12,
          -34648.19921875,
          0,
          6.00056983268704e-12,
          null,
          127306,
          90540.203125,
          141991,
          127306,
          null,
          90540.203125,
          127306,
          69296.5,
          90540.203125,
          null,
          127306,
          103945,
          69296.5,
          127306,
          null,
          37503,
          73500,
          38046.3984375,
          37503,
          null,
          73500,
          37503,
          69296.5,
          73500,
          null,
          103945,
          73500,
          69296.5,
          103945,
          null,
          98000,
          90540.203125,
          49000,
          98000,
          null,
          90540.203125,
          98000,
          49000,
          90540.203125,
          null,
          141991,
          98000,
          147000,
          141991,
          null,
          90540.203125,
          98000,
          141991,
          90540.203125,
          null,
          98000,
          141991,
          147000,
          98000,
          null,
          98000,
          90540.203125,
          141991,
          98000,
          null,
          73500,
          37503,
          38046.3984375,
          73500,
          null,
          37503,
          73500,
          69296.5,
          37503,
          null,
          73500,
          103945,
          69296.5,
          73500,
          null,
          90540.203125,
          127306,
          141991,
          90540.203125,
          null,
          127306,
          90540.203125,
          69296.5,
          127306,
          null,
          103945,
          127306,
          69296.5,
          103945,
          null
         ],
         "z": [
          1488.9232177734375,
          1529.710693359375,
          1497.02978515625,
          1488.9232177734375,
          null,
          1502.1724853515625,
          1529.3670654296875,
          1501.9278564453125,
          1502.1724853515625,
          null,
          1492.3836669921875,
          1527.0791015625,
          1491.9296875,
          1492.3836669921875,
          null,
          1529.710693359375,
          1498.381591796875,
          1497.02978515625,
          1529.710693359375,
          null,
          1527.0791015625,
          1491.585693359375,
          1491.9296875,
          1527.0791015625,
          null,
          1525.9246826171875,
          1529.710693359375,
          1488.9232177734375,
          1525.9246826171875,
          null,
          1529.3670654296875,
          1501.3443603515625,
          1501.9278564453125,
          1529.3670654296875,
          null,
          1529.9925537109375,
          1529.3670654296875,
          1502.1724853515625,
          1529.9925537109375,
          null,
          1505.2733154296875,
          1505.214111328125,
          1473.4132080078125,
          1505.2733154296875,
          null,
          1528.2791748046875,
          1527.0791015625,
          1492.3836669921875,
          1528.2791748046875,
          null,
          1504.6021728515625,
          1525.9246826171875,
          1525.7879638671875,
          1504.6021728515625,
          null,
          1505.214111328125,
          1530.4041748046875,
          1530.53271484375,
          1505.214111328125,
          null,
          1530.4041748046875,
          1505.214111328125,
          1505.2733154296875,
          1530.4041748046875,
          null,
          1530.690673828125,
          1498.381591796875,
          1529.710693359375,
          1530.690673828125,
          null,
          1526.5577392578125,
          1491.585693359375,
          1527.0791015625,
          1526.5577392578125,
          null,
          1526.5577392578125,
          1504.6021728515625,
          1525.7879638671875,
          1526.5577392578125,
          null,
          1530.028564453125,
          1501.3443603515625,
          1529.3670654296875,
          1530.028564453125,
          null,
          1530.028564453125,
          1505.214111328125,
          1530.53271484375,
          1530.028564453125,
          null,
          1505.2764892578125,
          1529.9925537109375,
          1530.4921875,
          1505.2764892578125,
          null,
          1530.690673828125,
          1505.2764892578125,
          1530.4921875,
          1530.690673828125,
          null,
          1505.3359375,
          1505.2733154296875,
          1473.4132080078125,
          1505.3359375,
          null,
          1505.3359375,
          1528.2791748046875,
          1528.7479248046875,
          1505.3359375,
          null,
          1529.435546875,
          1505.3359375,
          1528.7479248046875,
          1529.435546875,
          null,
          1505.3359375,
          1529.435546875,
          1505.2733154296875,
          1505.3359375,
          null,
          1525.9246826171875,
          1505.789794921875,
          1529.710693359375,
          1525.9246826171875,
          null,
          1504.6021728515625,
          1505.789794921875,
          1525.9246826171875,
          1504.6021728515625,
          null,
          1505.789794921875,
          1530.690673828125,
          1529.710693359375,
          1505.789794921875,
          null,
          1505.789794921875,
          1505.2764892578125,
          1530.690673828125,
          1505.789794921875,
          null,
          1505.789794921875,
          1504.6021728515625,
          1473.4132080078125,
          1505.789794921875,
          null,
          1505.2764892578125,
          1505.789794921875,
          1473.4132080078125,
          1505.2764892578125,
          null,
          1502.858642578125,
          1529.9925537109375,
          1502.1724853515625,
          1502.858642578125,
          null,
          1529.9925537109375,
          1502.858642578125,
          1530.4921875,
          1529.9925537109375,
          null,
          1502.858642578125,
          1502.25537109375,
          1530.4921875,
          1502.858642578125,
          null,
          1530.690673828125,
          1500.6104736328125,
          1498.381591796875,
          1530.690673828125,
          null,
          1500.6104736328125,
          1530.690673828125,
          1530.4921875,
          1500.6104736328125,
          null,
          1502.25537109375,
          1500.6104736328125,
          1530.4921875,
          1502.25537109375,
          null,
          1505.2958984375,
          1526.5577392578125,
          1527.0791015625,
          1505.2958984375,
          null,
          1526.5577392578125,
          1505.2958984375,
          1504.6021728515625,
          1526.5577392578125,
          null,
          1528.2791748046875,
          1505.2958984375,
          1527.0791015625,
          1528.2791748046875,
          null,
          1505.3359375,
          1505.2958984375,
          1528.2791748046875,
          1505.3359375,
          null,
          1504.6021728515625,
          1505.2958984375,
          1473.4132080078125,
          1504.6021728515625,
          null,
          1505.2958984375,
          1505.3359375,
          1473.4132080078125,
          1505.2958984375,
          null,
          1489.584228515625,
          1525.9246826171875,
          1488.9232177734375,
          1489.584228515625,
          null,
          1525.9246826171875,
          1489.584228515625,
          1525.7879638671875,
          1525.9246826171875,
          null,
          1489.584228515625,
          1490.135009765625,
          1525.7879638671875,
          1489.584228515625,
          null,
          1526.5577392578125,
          1491.0115966796875,
          1491.585693359375,
          1526.5577392578125,
          null,
          1491.0115966796875,
          1526.5577392578125,
          1525.7879638671875,
          1491.0115966796875,
          null,
          1490.135009765625,
          1491.0115966796875,
          1525.7879638671875,
          1490.135009765625,
          null,
          1504.7440185546875,
          1530.028564453125,
          1529.3670654296875,
          1504.7440185546875,
          null,
          1530.028564453125,
          1504.7440185546875,
          1505.214111328125,
          1530.028564453125,
          null,
          1529.9925537109375,
          1504.7440185546875,
          1529.3670654296875,
          1529.9925537109375,
          null,
          1505.2764892578125,
          1504.7440185546875,
          1529.9925537109375,
          1505.2764892578125,
          null,
          1505.214111328125,
          1504.7440185546875,
          1473.4132080078125,
          1505.214111328125,
          null,
          1504.7440185546875,
          1505.2764892578125,
          1473.4132080078125,
          1504.7440185546875,
          null,
          1498.6043701171875,
          1530.4041748046875,
          1496.8582763671875,
          1498.6043701171875,
          null,
          1530.4041748046875,
          1498.6043701171875,
          1530.53271484375,
          1530.4041748046875,
          null,
          1498.6043701171875,
          1499.493408203125,
          1530.53271484375,
          1498.6043701171875,
          null,
          1530.028564453125,
          1500.7159423828125,
          1501.3443603515625,
          1530.028564453125,
          null,
          1500.7159423828125,
          1530.028564453125,
          1530.53271484375,
          1500.7159423828125,
          null,
          1499.493408203125,
          1500.7159423828125,
          1530.53271484375,
          1499.493408203125,
          null,
          1530.1744384765625,
          1530.4041748046875,
          1505.2733154296875,
          1530.1744384765625,
          null,
          1529.435546875,
          1530.1744384765625,
          1505.2733154296875,
          1529.435546875,
          null,
          1496.8582763671875,
          1530.1744384765625,
          1495.7249755859375,
          1496.8582763671875,
          null,
          1530.4041748046875,
          1530.1744384765625,
          1496.8582763671875,
          1530.4041748046875,
          null,
          1530.1744384765625,
          1494.5667724609375,
          1495.7249755859375,
          1530.1744384765625,
          null,
          1530.1744384765625,
          1529.435546875,
          1494.5667724609375,
          1530.1744384765625,
          null,
          1492.94140625,
          1528.2791748046875,
          1492.3836669921875,
          1492.94140625,
          null,
          1528.2791748046875,
          1492.94140625,
          1528.7479248046875,
          1528.2791748046875,
          null,
          1492.94140625,
          1493.622314453125,
          1528.7479248046875,
          1492.94140625,
          null,
          1529.435546875,
          1493.9071044921875,
          1494.5667724609375,
          1529.435546875,
          null,
          1493.9071044921875,
          1529.435546875,
          1528.7479248046875,
          1493.9071044921875,
          null,
          1493.622314453125,
          1493.9071044921875,
          1528.7479248046875,
          1493.622314453125,
          null
         ]
        },
        {
         "hoverinfo": "none",
         "marker": {
          "color": [
           1494.4370930989583,
           1522.1531168619792
          ],
          "colorscale": [
           [
            0,
            "rgb(31, 119, 180)"
           ],
           [
            1,
            "rgb(255, 127, 14)"
           ]
          ],
          "showscale": true,
          "size": 0.1
         },
         "mode": "markers",
         "showlegend": false,
         "type": "scatter3d",
         "x": [
          -49000
         ],
         "y": [
          6.00056983268704e-12
         ],
         "z": [
          1504.7440185546875
         ]
        }
       ],
       "layout": {
        "height": 800,
        "scene": {
         "aspectratio": {
          "x": 1,
          "y": 1,
          "z": 0.5
         },
         "xaxis": {
          "backgroundcolor": "rgb(230, 230, 230)",
          "gridcolor": "rgb(255, 255, 255)",
          "showbackground": true,
          "zerolinecolor": "rgb(255, 255, 255)"
         },
         "yaxis": {
          "backgroundcolor": "rgb(230, 230, 230)",
          "gridcolor": "rgb(255, 255, 255)",
          "showbackground": true,
          "zerolinecolor": "rgb(255, 255, 255)"
         },
         "zaxis": {
          "backgroundcolor": "rgb(230, 230, 230)",
          "gridcolor": "rgb(255, 255, 255)",
          "showbackground": true,
          "zerolinecolor": "rgb(255, 255, 255)"
         }
        },
        "template": {
         "data": {
          "bar": [
           {
            "error_x": {
             "color": "#2a3f5f"
            },
            "error_y": {
             "color": "#2a3f5f"
            },
            "marker": {
             "line": {
              "color": "#E5ECF6",
              "width": 0.5
             }
            },
            "type": "bar"
           }
          ],
          "barpolar": [
           {
            "marker": {
             "line": {
              "color": "#E5ECF6",
              "width": 0.5
             }
            },
            "type": "barpolar"
           }
          ],
          "carpet": [
           {
            "aaxis": {
             "endlinecolor": "#2a3f5f",
             "gridcolor": "white",
             "linecolor": "white",
             "minorgridcolor": "white",
             "startlinecolor": "#2a3f5f"
            },
            "baxis": {
             "endlinecolor": "#2a3f5f",
             "gridcolor": "white",
             "linecolor": "white",
             "minorgridcolor": "white",
             "startlinecolor": "#2a3f5f"
            },
            "type": "carpet"
           }
          ],
          "choropleth": [
           {
            "colorbar": {
             "outlinewidth": 0,
             "ticks": ""
            },
            "type": "choropleth"
           }
          ],
          "contour": [
           {
            "colorbar": {
             "outlinewidth": 0,
             "ticks": ""
            },
            "colorscale": [
             [
              0,
              "#0d0887"
             ],
             [
              0.1111111111111111,
              "#46039f"
             ],
             [
              0.2222222222222222,
              "#7201a8"
             ],
             [
              0.3333333333333333,
              "#9c179e"
             ],
             [
              0.4444444444444444,
              "#bd3786"
             ],
             [
              0.5555555555555556,
              "#d8576b"
             ],
             [
              0.6666666666666666,
              "#ed7953"
             ],
             [
              0.7777777777777778,
              "#fb9f3a"
             ],
             [
              0.8888888888888888,
              "#fdca26"
             ],
             [
              1,
              "#f0f921"
             ]
            ],
            "type": "contour"
           }
          ],
          "contourcarpet": [
           {
            "colorbar": {
             "outlinewidth": 0,
             "ticks": ""
            },
            "type": "contourcarpet"
           }
          ],
          "heatmap": [
           {
            "colorbar": {
             "outlinewidth": 0,
             "ticks": ""
            },
            "colorscale": [
             [
              0,
              "#0d0887"
             ],
             [
              0.1111111111111111,
              "#46039f"
             ],
             [
              0.2222222222222222,
              "#7201a8"
             ],
             [
              0.3333333333333333,
              "#9c179e"
             ],
             [
              0.4444444444444444,
              "#bd3786"
             ],
             [
              0.5555555555555556,
              "#d8576b"
             ],
             [
              0.6666666666666666,
              "#ed7953"
             ],
             [
              0.7777777777777778,
              "#fb9f3a"
             ],
             [
              0.8888888888888888,
              "#fdca26"
             ],
             [
              1,
              "#f0f921"
             ]
            ],
            "type": "heatmap"
           }
          ],
          "heatmapgl": [
           {
            "colorbar": {
             "outlinewidth": 0,
             "ticks": ""
            },
            "colorscale": [
             [
              0,
              "#0d0887"
             ],
             [
              0.1111111111111111,
              "#46039f"
             ],
             [
              0.2222222222222222,
              "#7201a8"
             ],
             [
              0.3333333333333333,
              "#9c179e"
             ],
             [
              0.4444444444444444,
              "#bd3786"
             ],
             [
              0.5555555555555556,
              "#d8576b"
             ],
             [
              0.6666666666666666,
              "#ed7953"
             ],
             [
              0.7777777777777778,
              "#fb9f3a"
             ],
             [
              0.8888888888888888,
              "#fdca26"
             ],
             [
              1,
              "#f0f921"
             ]
            ],
            "type": "heatmapgl"
           }
          ],
          "histogram": [
           {
            "marker": {
             "colorbar": {
              "outlinewidth": 0,
              "ticks": ""
             }
            },
            "type": "histogram"
           }
          ],
          "histogram2d": [
           {
            "colorbar": {
             "outlinewidth": 0,
             "ticks": ""
            },
            "colorscale": [
             [
              0,
              "#0d0887"
             ],
             [
              0.1111111111111111,
              "#46039f"
             ],
             [
              0.2222222222222222,
              "#7201a8"
             ],
             [
              0.3333333333333333,
              "#9c179e"
             ],
             [
              0.4444444444444444,
              "#bd3786"
             ],
             [
              0.5555555555555556,
              "#d8576b"
             ],
             [
              0.6666666666666666,
              "#ed7953"
             ],
             [
              0.7777777777777778,
              "#fb9f3a"
             ],
             [
              0.8888888888888888,
              "#fdca26"
             ],
             [
              1,
              "#f0f921"
             ]
            ],
            "type": "histogram2d"
           }
          ],
          "histogram2dcontour": [
           {
            "colorbar": {
             "outlinewidth": 0,
             "ticks": ""
            },
            "colorscale": [
             [
              0,
              "#0d0887"
             ],
             [
              0.1111111111111111,
              "#46039f"
             ],
             [
              0.2222222222222222,
              "#7201a8"
             ],
             [
              0.3333333333333333,
              "#9c179e"
             ],
             [
              0.4444444444444444,
              "#bd3786"
             ],
             [
              0.5555555555555556,
              "#d8576b"
             ],
             [
              0.6666666666666666,
              "#ed7953"
             ],
             [
              0.7777777777777778,
              "#fb9f3a"
             ],
             [
              0.8888888888888888,
              "#fdca26"
             ],
             [
              1,
              "#f0f921"
             ]
            ],
            "type": "histogram2dcontour"
           }
          ],
          "mesh3d": [
           {
            "colorbar": {
             "outlinewidth": 0,
             "ticks": ""
            },
            "type": "mesh3d"
           }
          ],
          "parcoords": [
           {
            "line": {
             "colorbar": {
              "outlinewidth": 0,
              "ticks": ""
             }
            },
            "type": "parcoords"
           }
          ],
          "pie": [
           {
            "automargin": true,
            "type": "pie"
           }
          ],
          "scatter": [
           {
            "marker": {
             "colorbar": {
              "outlinewidth": 0,
              "ticks": ""
             }
            },
            "type": "scatter"
           }
          ],
          "scatter3d": [
           {
            "line": {
             "colorbar": {
              "outlinewidth": 0,
              "ticks": ""
             }
            },
            "marker": {
             "colorbar": {
              "outlinewidth": 0,
              "ticks": ""
             }
            },
            "type": "scatter3d"
           }
          ],
          "scattercarpet": [
           {
            "marker": {
             "colorbar": {
              "outlinewidth": 0,
              "ticks": ""
             }
            },
            "type": "scattercarpet"
           }
          ],
          "scattergeo": [
           {
            "marker": {
             "colorbar": {
              "outlinewidth": 0,
              "ticks": ""
             }
            },
            "type": "scattergeo"
           }
          ],
          "scattergl": [
           {
            "marker": {
             "colorbar": {
              "outlinewidth": 0,
              "ticks": ""
             }
            },
            "type": "scattergl"
           }
          ],
          "scattermapbox": [
           {
            "marker": {
             "colorbar": {
              "outlinewidth": 0,
              "ticks": ""
             }
            },
            "type": "scattermapbox"
           }
          ],
          "scatterpolar": [
           {
            "marker": {
             "colorbar": {
              "outlinewidth": 0,
              "ticks": ""
             }
            },
            "type": "scatterpolar"
           }
          ],
          "scatterpolargl": [
           {
            "marker": {
             "colorbar": {
              "outlinewidth": 0,
              "ticks": ""
             }
            },
            "type": "scatterpolargl"
           }
          ],
          "scatterternary": [
           {
            "marker": {
             "colorbar": {
              "outlinewidth": 0,
              "ticks": ""
             }
            },
            "type": "scatterternary"
           }
          ],
          "surface": [
           {
            "colorbar": {
             "outlinewidth": 0,
             "ticks": ""
            },
            "colorscale": [
             [
              0,
              "#0d0887"
             ],
             [
              0.1111111111111111,
              "#46039f"
             ],
             [
              0.2222222222222222,
              "#7201a8"
             ],
             [
              0.3333333333333333,
              "#9c179e"
             ],
             [
              0.4444444444444444,
              "#bd3786"
             ],
             [
              0.5555555555555556,
              "#d8576b"
             ],
             [
              0.6666666666666666,
              "#ed7953"
             ],
             [
              0.7777777777777778,
              "#fb9f3a"
             ],
             [
              0.8888888888888888,
              "#fdca26"
             ],
             [
              1,
              "#f0f921"
             ]
            ],
            "type": "surface"
           }
          ],
          "table": [
           {
            "cells": {
             "fill": {
              "color": "#EBF0F8"
             },
             "line": {
              "color": "white"
             }
            },
            "header": {
             "fill": {
              "color": "#C8D4E3"
             },
             "line": {
              "color": "white"
             }
            },
            "type": "table"
           }
          ]
         },
         "layout": {
          "annotationdefaults": {
           "arrowcolor": "#2a3f5f",
           "arrowhead": 0,
           "arrowwidth": 1
          },
          "coloraxis": {
           "colorbar": {
            "outlinewidth": 0,
            "ticks": ""
           }
          },
          "colorscale": {
           "diverging": [
            [
             0,
             "#8e0152"
            ],
            [
             0.1,
             "#c51b7d"
            ],
            [
             0.2,
             "#de77ae"
            ],
            [
             0.3,
             "#f1b6da"
            ],
            [
             0.4,
             "#fde0ef"
            ],
            [
             0.5,
             "#f7f7f7"
            ],
            [
             0.6,
             "#e6f5d0"
            ],
            [
             0.7,
             "#b8e186"
            ],
            [
             0.8,
             "#7fbc41"
            ],
            [
             0.9,
             "#4d9221"
            ],
            [
             1,
             "#276419"
            ]
           ],
           "sequential": [
            [
             0,
             "#0d0887"
            ],
            [
             0.1111111111111111,
             "#46039f"
            ],
            [
             0.2222222222222222,
             "#7201a8"
            ],
            [
             0.3333333333333333,
             "#9c179e"
            ],
            [
             0.4444444444444444,
             "#bd3786"
            ],
            [
             0.5555555555555556,
             "#d8576b"
            ],
            [
             0.6666666666666666,
             "#ed7953"
            ],
            [
             0.7777777777777778,
             "#fb9f3a"
            ],
            [
             0.8888888888888888,
             "#fdca26"
            ],
            [
             1,
             "#f0f921"
            ]
           ],
           "sequentialminus": [
            [
             0,
             "#0d0887"
            ],
            [
             0.1111111111111111,
             "#46039f"
            ],
            [
             0.2222222222222222,
             "#7201a8"
            ],
            [
             0.3333333333333333,
             "#9c179e"
            ],
            [
             0.4444444444444444,
             "#bd3786"
            ],
            [
             0.5555555555555556,
             "#d8576b"
            ],
            [
             0.6666666666666666,
             "#ed7953"
            ],
            [
             0.7777777777777778,
             "#fb9f3a"
            ],
            [
             0.8888888888888888,
             "#fdca26"
            ],
            [
             1,
             "#f0f921"
            ]
           ]
          },
          "colorway": [
           "#636efa",
           "#EF553B",
           "#00cc96",
           "#ab63fa",
           "#FFA15A",
           "#19d3f3",
           "#FF6692",
           "#B6E880",
           "#FF97FF",
           "#FECB52"
          ],
          "font": {
           "color": "#2a3f5f"
          },
          "geo": {
           "bgcolor": "white",
           "lakecolor": "white",
           "landcolor": "#E5ECF6",
           "showlakes": true,
           "showland": true,
           "subunitcolor": "white"
          },
          "hoverlabel": {
           "align": "left"
          },
          "hovermode": "closest",
          "mapbox": {
           "style": "light"
          },
          "paper_bgcolor": "white",
          "plot_bgcolor": "#E5ECF6",
          "polar": {
           "angularaxis": {
            "gridcolor": "white",
            "linecolor": "white",
            "ticks": ""
           },
           "bgcolor": "#E5ECF6",
           "radialaxis": {
            "gridcolor": "white",
            "linecolor": "white",
            "ticks": ""
           }
          },
          "scene": {
           "xaxis": {
            "backgroundcolor": "#E5ECF6",
            "gridcolor": "white",
            "gridwidth": 2,
            "linecolor": "white",
            "showbackground": true,
            "ticks": "",
            "zerolinecolor": "white"
           },
           "yaxis": {
            "backgroundcolor": "#E5ECF6",
            "gridcolor": "white",
            "gridwidth": 2,
            "linecolor": "white",
            "showbackground": true,
            "ticks": "",
            "zerolinecolor": "white"
           },
           "zaxis": {
            "backgroundcolor": "#E5ECF6",
            "gridcolor": "white",
            "gridwidth": 2,
            "linecolor": "white",
            "showbackground": true,
            "ticks": "",
            "zerolinecolor": "white"
           }
          },
          "shapedefaults": {
           "line": {
            "color": "#2a3f5f"
           }
          },
          "ternary": {
           "aaxis": {
            "gridcolor": "white",
            "linecolor": "white",
            "ticks": ""
           },
           "baxis": {
            "gridcolor": "white",
            "linecolor": "white",
            "ticks": ""
           },
           "bgcolor": "#E5ECF6",
           "caxis": {
            "gridcolor": "white",
            "linecolor": "white",
            "ticks": ""
           }
          },
          "title": {
           "x": 0.05
          },
          "xaxis": {
           "automargin": true,
           "gridcolor": "white",
           "linecolor": "white",
           "ticks": "",
           "title": {
            "standoff": 15
           },
           "zerolinecolor": "white",
           "zerolinewidth": 2
          },
          "yaxis": {
           "automargin": true,
           "gridcolor": "white",
           "linecolor": "white",
           "ticks": "",
           "title": {
            "standoff": 15
           },
           "zerolinecolor": "white",
           "zerolinewidth": 2
          }
         }
        },
        "title": {
         "text": "wafare"
        },
        "width": 800
       }
      },
      "text/html": [
       "<div>\n",
       "        \n",
       "        \n",
       "            <div id=\"4653d10c-b74a-4791-9ec7-2507bac33dec\" class=\"plotly-graph-div\" style=\"height:800px; width:800px;\"></div>\n",
       "            <script type=\"text/javascript\">\n",
       "                require([\"plotly\"], function(Plotly) {\n",
       "                    window.PLOTLYENV=window.PLOTLYENV || {};\n",
       "                    \n",
       "                if (document.getElementById(\"4653d10c-b74a-4791-9ec7-2507bac33dec\")) {\n",
       "                    Plotly.newPlot(\n",
       "                        '4653d10c-b74a-4791-9ec7-2507bac33dec',\n",
       "                        [{\"facecolor\": [\"rgb(118, 122, 115)\", \"rgb(166, 124, 80)\", \"rgb(107, 122, 124)\", \"rgb(144, 123, 97)\", \"rgb(105, 122, 126)\", \"rgb(196, 125, 58)\", \"rgb(164, 124, 82)\", \"rgb(242, 127, 24)\", \"rgb(33, 119, 179)\", \"rgb(205, 125, 51)\", \"rgb(228, 126, 34)\", \"rgb(254, 127, 15)\", \"rgb(186, 125, 65)\", \"rgb(234, 126, 29)\", \"rgb(198, 125, 56)\", \"rgb(229, 126, 33)\", \"rgb(240, 126, 25)\", \"rgb(253, 127, 15)\", \"rgb(253, 127, 15)\", \"rgb(255, 127, 14)\", \"rgb(33, 119, 179)\", \"rgb(244, 127, 22)\", \"rgb(247, 127, 20)\", \"rgb(184, 124, 67)\", \"rgb(241, 127, 24)\", \"rgb(174, 124, 74)\", \"rgb(254, 127, 15)\", \"rgb(188, 125, 63)\", \"rgb(32, 119, 179)\", \"rgb(34, 119, 178)\", \"rgb(170, 124, 77)\", \"rgb(247, 127, 20)\", \"rgb(172, 124, 76)\", \"rgb(156, 123, 87)\", \"rgb(242, 127, 23)\", \"rgb(166, 124, 80)\", \"rgb(235, 126, 29)\", \"rgb(174, 124, 74)\", \"rgb(239, 126, 26)\", \"rgb(181, 124, 69)\", \"rgb(31, 119, 180)\", \"rgb(33, 119, 179)\", \"rgb(88, 121, 138)\", \"rgb(187, 125, 64)\", \"rgb(91, 121, 136)\", \"rgb(101, 121, 128)\", \"rgb(193, 125, 60)\", \"rgb(95, 121, 133)\", \"rgb(249, 127, 19)\", \"rgb(184, 124, 67)\", \"rgb(249, 127, 19)\", \"rgb(184, 124, 67)\", \"rgb(31, 119, 180)\", \"rgb(31, 119, 180)\", \"rgb(146, 123, 95)\", \"rgb(236, 126, 28)\", \"rgb(153, 123, 90)\", \"rgb(162, 124, 83)\", \"rgb(241, 127, 24)\", \"rgb(159, 124, 85)\", \"rgb(253, 127, 15)\", \"rgb(251, 127, 17)\", \"rgb(137, 123, 101)\", \"rgb(231, 126, 32)\", \"rgb(131, 123, 106)\", \"rgb(222, 126, 39)\", \"rgb(113, 122, 120)\", \"rgb(211, 125, 47)\", \"rgb(117, 122, 116)\", \"rgb(124, 122, 111)\", \"rgb(216, 126, 43)\", \"rgb(120, 122, 114)\"], \"i\": [38, 32, 44, 17, 22, 18, 13, 14, 2, 19, 6, 3, 10, 16, 21, 21, 12, 12, 4, 16, 8, 8, 24, 8, 18, 6, 5, 5, 5, 4, 33, 14, 33, 16, 35, 34, 7, 21, 19, 8, 6, 7, 39, 18, 39, 21, 41, 40, 0, 12, 14, 4, 3, 0, 27, 10, 27, 12, 29, 28, 9, 24, 26, 10, 9, 9, 45, 19, 45, 24, 47, 46], \"j\": [17, 13, 22, 36, 42, 17, 30, 13, 3, 22, 18, 10, 3, 36, 42, 6, 30, 3, 14, 4, 2, 19, 8, 24, 5, 5, 16, 4, 6, 5, 14, 33, 34, 35, 16, 35, 21, 7, 7, 7, 7, 8, 18, 39, 40, 41, 21, 41, 12, 0, 0, 0, 0, 4, 10, 27, 28, 29, 12, 29, 10, 9, 9, 9, 48, 24, 19, 45, 46, 47, 24, 47], \"k\": [37, 31, 43, 37, 43, 38, 31, 32, 1, 44, 20, 11, 2, 17, 22, 20, 13, 11, 15, 15, 1, 23, 23, 2, 17, 18, 17, 16, 1, 1, 32, 15, 15, 36, 15, 15, 22, 6, 22, 19, 1, 1, 38, 20, 20, 42, 20, 20, 13, 3, 13, 14, 1, 1, 26, 11, 11, 30, 11, 11, 2, 2, 25, 26, 25, 48, 44, 23, 23, 48, 23, 23], \"name\": \"\", \"type\": \"mesh3d\", \"x\": [-49000.0, 0.0, 3.0002899036735098e-12, -34648.19921875, -34648.19921875, -9.00085995320099e-12, 34648.19921875, 49000.0, 34648.19921875, 6.00056983268704e-12, -37503.0, -69296.5, -90540.203125, -98000.0, -90540.203125, -69296.5, -37503.0, -1.80017008244437e-11, 37503.0, 90540.203125, 69296.5, 90540.203125, 98000.0, 69296.5, 37503.0, 9.00085995320099e-12, -38046.3984375, -73500.0, -103945.0, -127306.0, -141991.0, -147000.0, -141991.0, -127306.0, -103945.0, -73500.0, -38046.3984375, -2.70025998089229e-11, 38046.3984375, 73500.0, 103945.0, 127306.0, 141991.0, 147000.0, 141991.0, 127306.0, 103945.0, 73500.0, 38046.3984375], \"y\": [6.00056983268704e-12, 0.0, 49000.0, 34648.19921875, -34648.19921875, -49000.0, -34648.19921875, -1.20010997667341e-11, 34648.19921875, 98000.0, 90540.203125, 69296.5, 37503.0, 1.20010997667341e-11, -37503.0, -69296.5, -90540.203125, -98000.0, -90540.203125, 37503.0, -69296.5, -37503.0, -2.400230014742989e-11, 69296.5, 90540.203125, 147000.0, 141991.0, 127306.0, 103945.0, 73500.0, 38046.3984375, 1.80017008244437e-11, -38046.3984375, -73500.0, -103945.0, -127306.0, -141991.0, -147000.0, -141991.0, -127306.0, -103945.0, -73500.0, -38046.3984375, -3.600340164888749e-11, 38046.3984375, 73500.0, 103945.0, 127306.0, 141991.0], \"z\": [1504.7440185546875, 1473.4132080078125, 1505.2733154296875, 1505.214111328125, 1505.2764892578125, 1505.789794921875, 1504.6021728515625, 1505.2958984375, 1505.3359375, 1530.1744384765625, 1530.4041748046875, 1530.53271484375, 1530.028564453125, 1529.3670654296875, 1529.9925537109375, 1530.4921875, 1530.690673828125, 1529.710693359375, 1525.9246826171875, 1528.2791748046875, 1525.7879638671875, 1526.5577392578125, 1527.0791015625, 1528.7479248046875, 1529.435546875, 1495.7249755859375, 1496.8582763671875, 1498.6043701171875, 1499.493408203125, 1500.7159423828125, 1501.3443603515625, 1501.9278564453125, 1502.1724853515625, 1502.858642578125, 1502.25537109375, 1500.6104736328125, 1498.381591796875, 1497.02978515625, 1488.9232177734375, 1489.584228515625, 1490.135009765625, 1491.0115966796875, 1491.585693359375, 1491.9296875, 1492.3836669921875, 1492.94140625, 1493.622314453125, 1493.9071044921875, 1494.5667724609375]}, {\"line\": {\"color\": \"rgb(50, 50, 50)\", \"width\": 1.5}, \"mode\": \"lines\", \"showlegend\": false, \"type\": \"scatter3d\", \"x\": [38046.3984375, -1.80017008244437e-11, -2.70025998089229e-11, 38046.3984375, null, -141991.0, -98000.0, -147000.0, -141991.0, null, 141991.0, 98000.0, 147000.0, 141991.0, null, -1.80017008244437e-11, -38046.3984375, -2.70025998089229e-11, -1.80017008244437e-11, null, 98000.0, 141991.0, 147000.0, 98000.0, null, 37503.0, -1.80017008244437e-11, 38046.3984375, 37503.0, null, -98000.0, -141991.0, -147000.0, -98000.0, null, -90540.203125, -98000.0, -141991.0, -90540.203125, null, 3.0002899036735098e-12, -34648.19921875, 0.0, 3.0002899036735098e-12, null, 90540.203125, 98000.0, 141991.0, 90540.203125, null, 34648.19921875, 37503.0, 69296.5, 34648.19921875, null, -34648.19921875, -37503.0, -69296.5, -34648.19921875, null, -37503.0, -34648.19921875, 3.0002899036735098e-12, -37503.0, null, -37503.0, -38046.3984375, -1.80017008244437e-11, -37503.0, null, 90540.203125, 141991.0, 98000.0, 90540.203125, null, 90540.203125, 34648.19921875, 69296.5, 90540.203125, null, -90540.203125, -141991.0, -98000.0, -90540.203125, null, -90540.203125, -34648.19921875, -69296.5, -90540.203125, null, -34648.19921875, -90540.203125, -69296.5, -34648.19921875, null, -37503.0, -34648.19921875, -69296.5, -37503.0, null, 34648.19921875, 3.0002899036735098e-12, 0.0, 34648.19921875, null, 34648.19921875, 90540.203125, 69296.5, 34648.19921875, null, 37503.0, 34648.19921875, 69296.5, 37503.0, null, 34648.19921875, 37503.0, 3.0002899036735098e-12, 34648.19921875, null, 37503.0, -9.00085995320099e-12, -1.80017008244437e-11, 37503.0, null, 34648.19921875, -9.00085995320099e-12, 37503.0, 34648.19921875, null, -9.00085995320099e-12, -37503.0, -1.80017008244437e-11, -9.00085995320099e-12, null, -9.00085995320099e-12, -34648.19921875, -37503.0, -9.00085995320099e-12, null, -9.00085995320099e-12, 34648.19921875, 0.0, -9.00085995320099e-12, null, -34648.19921875, -9.00085995320099e-12, 0.0, -34648.19921875, null, -127306.0, -90540.203125, -141991.0, -127306.0, null, -90540.203125, -127306.0, -69296.5, -90540.203125, null, -127306.0, -103945.0, -69296.5, -127306.0, null, -37503.0, -73500.0, -38046.3984375, -37503.0, null, -73500.0, -37503.0, -69296.5, -73500.0, null, -103945.0, -73500.0, -69296.5, -103945.0, null, 49000.0, 90540.203125, 98000.0, 49000.0, null, 90540.203125, 49000.0, 34648.19921875, 90540.203125, null, 90540.203125, 49000.0, 98000.0, 90540.203125, null, 34648.19921875, 49000.0, 90540.203125, 34648.19921875, null, 34648.19921875, 49000.0, 0.0, 34648.19921875, null, 49000.0, 34648.19921875, 0.0, 49000.0, null, 73500.0, 37503.0, 38046.3984375, 73500.0, null, 37503.0, 73500.0, 69296.5, 37503.0, null, 73500.0, 103945.0, 69296.5, 73500.0, null, 90540.203125, 127306.0, 141991.0, 90540.203125, null, 127306.0, 90540.203125, 69296.5, 127306.0, null, 103945.0, 127306.0, 69296.5, 103945.0, null, -49000.0, -90540.203125, -98000.0, -49000.0, null, -90540.203125, -49000.0, -34648.19921875, -90540.203125, null, -90540.203125, -49000.0, -98000.0, -90540.203125, null, -34648.19921875, -49000.0, -90540.203125, -34648.19921875, null, -34648.19921875, -49000.0, 0.0, -34648.19921875, null, -49000.0, -34648.19921875, 0.0, -49000.0, null, -73500.0, -37503.0, -38046.3984375, -73500.0, null, -37503.0, -73500.0, -69296.5, -37503.0, null, -73500.0, -103945.0, -69296.5, -73500.0, null, -90540.203125, -127306.0, -141991.0, -90540.203125, null, -127306.0, -90540.203125, -69296.5, -127306.0, null, -103945.0, -127306.0, -69296.5, -103945.0, null, 6.00056983268704e-12, -37503.0, 3.0002899036735098e-12, 6.00056983268704e-12, null, 37503.0, 6.00056983268704e-12, 3.0002899036735098e-12, 37503.0, null, -38046.3984375, 6.00056983268704e-12, 9.00085995320099e-12, -38046.3984375, null, -37503.0, 6.00056983268704e-12, -38046.3984375, -37503.0, null, 6.00056983268704e-12, 38046.3984375, 9.00085995320099e-12, 6.00056983268704e-12, null, 6.00056983268704e-12, 37503.0, 38046.3984375, 6.00056983268704e-12, null, 127306.0, 90540.203125, 141991.0, 127306.0, null, 90540.203125, 127306.0, 69296.5, 90540.203125, null, 127306.0, 103945.0, 69296.5, 127306.0, null, 37503.0, 73500.0, 38046.3984375, 37503.0, null, 73500.0, 37503.0, 69296.5, 73500.0, null, 103945.0, 73500.0, 69296.5, 103945.0, null], \"y\": [-141991.0, -98000.0, -147000.0, -141991.0, null, -38046.3984375, 1.20010997667341e-11, 1.80017008244437e-11, -38046.3984375, null, 38046.3984375, -2.400230014742989e-11, -3.600340164888749e-11, 38046.3984375, null, -98000.0, -141991.0, -147000.0, -98000.0, null, -2.400230014742989e-11, -38046.3984375, -3.600340164888749e-11, -2.400230014742989e-11, null, -90540.203125, -98000.0, -141991.0, -90540.203125, null, 1.20010997667341e-11, 38046.3984375, 1.80017008244437e-11, 1.20010997667341e-11, null, -37503.0, 1.20010997667341e-11, -38046.3984375, -37503.0, null, 49000.0, 34648.19921875, 0.0, 49000.0, null, 37503.0, -2.400230014742989e-11, 38046.3984375, 37503.0, null, -34648.19921875, -90540.203125, -69296.5, -34648.19921875, null, 34648.19921875, 90540.203125, 69296.5, 34648.19921875, null, 90540.203125, 34648.19921875, 49000.0, 90540.203125, null, -90540.203125, -141991.0, -98000.0, -90540.203125, null, -37503.0, -38046.3984375, -2.400230014742989e-11, -37503.0, null, -37503.0, -34648.19921875, -69296.5, -37503.0, null, 37503.0, 38046.3984375, 1.20010997667341e-11, 37503.0, null, 37503.0, 34648.19921875, 69296.5, 37503.0, null, -34648.19921875, -37503.0, -69296.5, -34648.19921875, null, -90540.203125, -34648.19921875, -69296.5, -90540.203125, null, 34648.19921875, 49000.0, 0.0, 34648.19921875, null, 34648.19921875, 37503.0, 69296.5, 34648.19921875, null, 90540.203125, 34648.19921875, 69296.5, 90540.203125, null, 34648.19921875, 90540.203125, 49000.0, 34648.19921875, null, -90540.203125, -49000.0, -98000.0, -90540.203125, null, -34648.19921875, -49000.0, -90540.203125, -34648.19921875, null, -49000.0, -90540.203125, -98000.0, -49000.0, null, -49000.0, -34648.19921875, -90540.203125, -49000.0, null, -49000.0, -34648.19921875, 0.0, -49000.0, null, -34648.19921875, -49000.0, 0.0, -34648.19921875, null, -73500.0, -37503.0, -38046.3984375, -73500.0, null, -37503.0, -73500.0, -69296.5, -37503.0, null, -73500.0, -103945.0, -69296.5, -73500.0, null, -90540.203125, -127306.0, -141991.0, -90540.203125, null, -127306.0, -90540.203125, -69296.5, -127306.0, null, -103945.0, -127306.0, -69296.5, -103945.0, null, -1.20010997667341e-11, -37503.0, -2.400230014742989e-11, -1.20010997667341e-11, null, -37503.0, -1.20010997667341e-11, -34648.19921875, -37503.0, null, 37503.0, -1.20010997667341e-11, -2.400230014742989e-11, 37503.0, null, 34648.19921875, -1.20010997667341e-11, 37503.0, 34648.19921875, null, -34648.19921875, -1.20010997667341e-11, 0.0, -34648.19921875, null, -1.20010997667341e-11, 34648.19921875, 0.0, -1.20010997667341e-11, null, -127306.0, -90540.203125, -141991.0, -127306.0, null, -90540.203125, -127306.0, -69296.5, -90540.203125, null, -127306.0, -103945.0, -69296.5, -127306.0, null, -37503.0, -73500.0, -38046.3984375, -37503.0, null, -73500.0, -37503.0, -69296.5, -73500.0, null, -103945.0, -73500.0, -69296.5, -103945.0, null, 6.00056983268704e-12, 37503.0, 1.20010997667341e-11, 6.00056983268704e-12, null, 37503.0, 6.00056983268704e-12, 34648.19921875, 37503.0, null, -37503.0, 6.00056983268704e-12, 1.20010997667341e-11, -37503.0, null, -34648.19921875, 6.00056983268704e-12, -37503.0, -34648.19921875, null, 34648.19921875, 6.00056983268704e-12, 0.0, 34648.19921875, null, 6.00056983268704e-12, -34648.19921875, 0.0, 6.00056983268704e-12, null, 127306.0, 90540.203125, 141991.0, 127306.0, null, 90540.203125, 127306.0, 69296.5, 90540.203125, null, 127306.0, 103945.0, 69296.5, 127306.0, null, 37503.0, 73500.0, 38046.3984375, 37503.0, null, 73500.0, 37503.0, 69296.5, 73500.0, null, 103945.0, 73500.0, 69296.5, 103945.0, null, 98000.0, 90540.203125, 49000.0, 98000.0, null, 90540.203125, 98000.0, 49000.0, 90540.203125, null, 141991.0, 98000.0, 147000.0, 141991.0, null, 90540.203125, 98000.0, 141991.0, 90540.203125, null, 98000.0, 141991.0, 147000.0, 98000.0, null, 98000.0, 90540.203125, 141991.0, 98000.0, null, 73500.0, 37503.0, 38046.3984375, 73500.0, null, 37503.0, 73500.0, 69296.5, 37503.0, null, 73500.0, 103945.0, 69296.5, 73500.0, null, 90540.203125, 127306.0, 141991.0, 90540.203125, null, 127306.0, 90540.203125, 69296.5, 127306.0, null, 103945.0, 127306.0, 69296.5, 103945.0, null], \"z\": [1488.9232177734375, 1529.710693359375, 1497.02978515625, 1488.9232177734375, null, 1502.1724853515625, 1529.3670654296875, 1501.9278564453125, 1502.1724853515625, null, 1492.3836669921875, 1527.0791015625, 1491.9296875, 1492.3836669921875, null, 1529.710693359375, 1498.381591796875, 1497.02978515625, 1529.710693359375, null, 1527.0791015625, 1491.585693359375, 1491.9296875, 1527.0791015625, null, 1525.9246826171875, 1529.710693359375, 1488.9232177734375, 1525.9246826171875, null, 1529.3670654296875, 1501.3443603515625, 1501.9278564453125, 1529.3670654296875, null, 1529.9925537109375, 1529.3670654296875, 1502.1724853515625, 1529.9925537109375, null, 1505.2733154296875, 1505.214111328125, 1473.4132080078125, 1505.2733154296875, null, 1528.2791748046875, 1527.0791015625, 1492.3836669921875, 1528.2791748046875, null, 1504.6021728515625, 1525.9246826171875, 1525.7879638671875, 1504.6021728515625, null, 1505.214111328125, 1530.4041748046875, 1530.53271484375, 1505.214111328125, null, 1530.4041748046875, 1505.214111328125, 1505.2733154296875, 1530.4041748046875, null, 1530.690673828125, 1498.381591796875, 1529.710693359375, 1530.690673828125, null, 1526.5577392578125, 1491.585693359375, 1527.0791015625, 1526.5577392578125, null, 1526.5577392578125, 1504.6021728515625, 1525.7879638671875, 1526.5577392578125, null, 1530.028564453125, 1501.3443603515625, 1529.3670654296875, 1530.028564453125, null, 1530.028564453125, 1505.214111328125, 1530.53271484375, 1530.028564453125, null, 1505.2764892578125, 1529.9925537109375, 1530.4921875, 1505.2764892578125, null, 1530.690673828125, 1505.2764892578125, 1530.4921875, 1530.690673828125, null, 1505.3359375, 1505.2733154296875, 1473.4132080078125, 1505.3359375, null, 1505.3359375, 1528.2791748046875, 1528.7479248046875, 1505.3359375, null, 1529.435546875, 1505.3359375, 1528.7479248046875, 1529.435546875, null, 1505.3359375, 1529.435546875, 1505.2733154296875, 1505.3359375, null, 1525.9246826171875, 1505.789794921875, 1529.710693359375, 1525.9246826171875, null, 1504.6021728515625, 1505.789794921875, 1525.9246826171875, 1504.6021728515625, null, 1505.789794921875, 1530.690673828125, 1529.710693359375, 1505.789794921875, null, 1505.789794921875, 1505.2764892578125, 1530.690673828125, 1505.789794921875, null, 1505.789794921875, 1504.6021728515625, 1473.4132080078125, 1505.789794921875, null, 1505.2764892578125, 1505.789794921875, 1473.4132080078125, 1505.2764892578125, null, 1502.858642578125, 1529.9925537109375, 1502.1724853515625, 1502.858642578125, null, 1529.9925537109375, 1502.858642578125, 1530.4921875, 1529.9925537109375, null, 1502.858642578125, 1502.25537109375, 1530.4921875, 1502.858642578125, null, 1530.690673828125, 1500.6104736328125, 1498.381591796875, 1530.690673828125, null, 1500.6104736328125, 1530.690673828125, 1530.4921875, 1500.6104736328125, null, 1502.25537109375, 1500.6104736328125, 1530.4921875, 1502.25537109375, null, 1505.2958984375, 1526.5577392578125, 1527.0791015625, 1505.2958984375, null, 1526.5577392578125, 1505.2958984375, 1504.6021728515625, 1526.5577392578125, null, 1528.2791748046875, 1505.2958984375, 1527.0791015625, 1528.2791748046875, null, 1505.3359375, 1505.2958984375, 1528.2791748046875, 1505.3359375, null, 1504.6021728515625, 1505.2958984375, 1473.4132080078125, 1504.6021728515625, null, 1505.2958984375, 1505.3359375, 1473.4132080078125, 1505.2958984375, null, 1489.584228515625, 1525.9246826171875, 1488.9232177734375, 1489.584228515625, null, 1525.9246826171875, 1489.584228515625, 1525.7879638671875, 1525.9246826171875, null, 1489.584228515625, 1490.135009765625, 1525.7879638671875, 1489.584228515625, null, 1526.5577392578125, 1491.0115966796875, 1491.585693359375, 1526.5577392578125, null, 1491.0115966796875, 1526.5577392578125, 1525.7879638671875, 1491.0115966796875, null, 1490.135009765625, 1491.0115966796875, 1525.7879638671875, 1490.135009765625, null, 1504.7440185546875, 1530.028564453125, 1529.3670654296875, 1504.7440185546875, null, 1530.028564453125, 1504.7440185546875, 1505.214111328125, 1530.028564453125, null, 1529.9925537109375, 1504.7440185546875, 1529.3670654296875, 1529.9925537109375, null, 1505.2764892578125, 1504.7440185546875, 1529.9925537109375, 1505.2764892578125, null, 1505.214111328125, 1504.7440185546875, 1473.4132080078125, 1505.214111328125, null, 1504.7440185546875, 1505.2764892578125, 1473.4132080078125, 1504.7440185546875, null, 1498.6043701171875, 1530.4041748046875, 1496.8582763671875, 1498.6043701171875, null, 1530.4041748046875, 1498.6043701171875, 1530.53271484375, 1530.4041748046875, null, 1498.6043701171875, 1499.493408203125, 1530.53271484375, 1498.6043701171875, null, 1530.028564453125, 1500.7159423828125, 1501.3443603515625, 1530.028564453125, null, 1500.7159423828125, 1530.028564453125, 1530.53271484375, 1500.7159423828125, null, 1499.493408203125, 1500.7159423828125, 1530.53271484375, 1499.493408203125, null, 1530.1744384765625, 1530.4041748046875, 1505.2733154296875, 1530.1744384765625, null, 1529.435546875, 1530.1744384765625, 1505.2733154296875, 1529.435546875, null, 1496.8582763671875, 1530.1744384765625, 1495.7249755859375, 1496.8582763671875, null, 1530.4041748046875, 1530.1744384765625, 1496.8582763671875, 1530.4041748046875, null, 1530.1744384765625, 1494.5667724609375, 1495.7249755859375, 1530.1744384765625, null, 1530.1744384765625, 1529.435546875, 1494.5667724609375, 1530.1744384765625, null, 1492.94140625, 1528.2791748046875, 1492.3836669921875, 1492.94140625, null, 1528.2791748046875, 1492.94140625, 1528.7479248046875, 1528.2791748046875, null, 1492.94140625, 1493.622314453125, 1528.7479248046875, 1492.94140625, null, 1529.435546875, 1493.9071044921875, 1494.5667724609375, 1529.435546875, null, 1493.9071044921875, 1529.435546875, 1528.7479248046875, 1493.9071044921875, null, 1493.622314453125, 1493.9071044921875, 1528.7479248046875, 1493.622314453125, null]}, {\"hoverinfo\": \"none\", \"marker\": {\"color\": [1494.4370930989583, 1522.1531168619792], \"colorscale\": [[0.0, \"rgb(31, 119, 180)\"], [1.0, \"rgb(255, 127, 14)\"]], \"showscale\": true, \"size\": 0.1}, \"mode\": \"markers\", \"showlegend\": false, \"type\": \"scatter3d\", \"x\": [-49000.0], \"y\": [6.00056983268704e-12], \"z\": [1504.7440185546875]}],\n",
       "                        {\"height\": 800, \"scene\": {\"aspectratio\": {\"x\": 1, \"y\": 1, \"z\": 0.5}, \"xaxis\": {\"backgroundcolor\": \"rgb(230, 230, 230)\", \"gridcolor\": \"rgb(255, 255, 255)\", \"showbackground\": true, \"zerolinecolor\": \"rgb(255, 255, 255)\"}, \"yaxis\": {\"backgroundcolor\": \"rgb(230, 230, 230)\", \"gridcolor\": \"rgb(255, 255, 255)\", \"showbackground\": true, \"zerolinecolor\": \"rgb(255, 255, 255)\"}, \"zaxis\": {\"backgroundcolor\": \"rgb(230, 230, 230)\", \"gridcolor\": \"rgb(255, 255, 255)\", \"showbackground\": true, \"zerolinecolor\": \"rgb(255, 255, 255)\"}}, \"template\": {\"data\": {\"bar\": [{\"error_x\": {\"color\": \"#2a3f5f\"}, \"error_y\": {\"color\": \"#2a3f5f\"}, \"marker\": {\"line\": {\"color\": \"#E5ECF6\", \"width\": 0.5}}, \"type\": \"bar\"}], \"barpolar\": [{\"marker\": {\"line\": {\"color\": \"#E5ECF6\", \"width\": 0.5}}, \"type\": \"barpolar\"}], \"carpet\": [{\"aaxis\": {\"endlinecolor\": \"#2a3f5f\", \"gridcolor\": \"white\", \"linecolor\": \"white\", \"minorgridcolor\": \"white\", \"startlinecolor\": \"#2a3f5f\"}, \"baxis\": {\"endlinecolor\": \"#2a3f5f\", \"gridcolor\": \"white\", \"linecolor\": \"white\", \"minorgridcolor\": \"white\", \"startlinecolor\": \"#2a3f5f\"}, \"type\": \"carpet\"}], \"choropleth\": [{\"colorbar\": {\"outlinewidth\": 0, \"ticks\": \"\"}, \"type\": \"choropleth\"}], \"contour\": [{\"colorbar\": {\"outlinewidth\": 0, \"ticks\": \"\"}, \"colorscale\": [[0.0, \"#0d0887\"], [0.1111111111111111, \"#46039f\"], [0.2222222222222222, \"#7201a8\"], [0.3333333333333333, \"#9c179e\"], [0.4444444444444444, \"#bd3786\"], [0.5555555555555556, \"#d8576b\"], [0.6666666666666666, \"#ed7953\"], [0.7777777777777778, \"#fb9f3a\"], [0.8888888888888888, \"#fdca26\"], [1.0, \"#f0f921\"]], \"type\": \"contour\"}], \"contourcarpet\": [{\"colorbar\": {\"outlinewidth\": 0, \"ticks\": \"\"}, \"type\": \"contourcarpet\"}], \"heatmap\": [{\"colorbar\": {\"outlinewidth\": 0, \"ticks\": \"\"}, \"colorscale\": [[0.0, \"#0d0887\"], [0.1111111111111111, \"#46039f\"], [0.2222222222222222, \"#7201a8\"], [0.3333333333333333, \"#9c179e\"], [0.4444444444444444, \"#bd3786\"], [0.5555555555555556, \"#d8576b\"], [0.6666666666666666, \"#ed7953\"], [0.7777777777777778, \"#fb9f3a\"], [0.8888888888888888, \"#fdca26\"], [1.0, \"#f0f921\"]], \"type\": \"heatmap\"}], \"heatmapgl\": [{\"colorbar\": {\"outlinewidth\": 0, \"ticks\": \"\"}, \"colorscale\": [[0.0, \"#0d0887\"], [0.1111111111111111, \"#46039f\"], [0.2222222222222222, \"#7201a8\"], [0.3333333333333333, \"#9c179e\"], [0.4444444444444444, \"#bd3786\"], [0.5555555555555556, \"#d8576b\"], [0.6666666666666666, \"#ed7953\"], [0.7777777777777778, \"#fb9f3a\"], [0.8888888888888888, \"#fdca26\"], [1.0, \"#f0f921\"]], \"type\": \"heatmapgl\"}], \"histogram\": [{\"marker\": {\"colorbar\": {\"outlinewidth\": 0, \"ticks\": \"\"}}, \"type\": \"histogram\"}], \"histogram2d\": [{\"colorbar\": {\"outlinewidth\": 0, \"ticks\": \"\"}, \"colorscale\": [[0.0, \"#0d0887\"], [0.1111111111111111, \"#46039f\"], [0.2222222222222222, \"#7201a8\"], [0.3333333333333333, \"#9c179e\"], [0.4444444444444444, \"#bd3786\"], [0.5555555555555556, \"#d8576b\"], [0.6666666666666666, \"#ed7953\"], [0.7777777777777778, \"#fb9f3a\"], [0.8888888888888888, \"#fdca26\"], [1.0, \"#f0f921\"]], \"type\": \"histogram2d\"}], \"histogram2dcontour\": [{\"colorbar\": {\"outlinewidth\": 0, \"ticks\": \"\"}, \"colorscale\": [[0.0, \"#0d0887\"], [0.1111111111111111, \"#46039f\"], [0.2222222222222222, \"#7201a8\"], [0.3333333333333333, \"#9c179e\"], [0.4444444444444444, \"#bd3786\"], [0.5555555555555556, \"#d8576b\"], [0.6666666666666666, \"#ed7953\"], [0.7777777777777778, \"#fb9f3a\"], [0.8888888888888888, \"#fdca26\"], [1.0, \"#f0f921\"]], \"type\": \"histogram2dcontour\"}], \"mesh3d\": [{\"colorbar\": {\"outlinewidth\": 0, \"ticks\": \"\"}, \"type\": \"mesh3d\"}], \"parcoords\": [{\"line\": {\"colorbar\": {\"outlinewidth\": 0, \"ticks\": \"\"}}, \"type\": \"parcoords\"}], \"pie\": [{\"automargin\": true, \"type\": \"pie\"}], \"scatter\": [{\"marker\": {\"colorbar\": {\"outlinewidth\": 0, \"ticks\": \"\"}}, \"type\": \"scatter\"}], \"scatter3d\": [{\"line\": {\"colorbar\": {\"outlinewidth\": 0, \"ticks\": \"\"}}, \"marker\": {\"colorbar\": {\"outlinewidth\": 0, \"ticks\": \"\"}}, \"type\": \"scatter3d\"}], \"scattercarpet\": [{\"marker\": {\"colorbar\": {\"outlinewidth\": 0, \"ticks\": \"\"}}, \"type\": \"scattercarpet\"}], \"scattergeo\": [{\"marker\": {\"colorbar\": {\"outlinewidth\": 0, \"ticks\": \"\"}}, \"type\": \"scattergeo\"}], \"scattergl\": [{\"marker\": {\"colorbar\": {\"outlinewidth\": 0, \"ticks\": \"\"}}, \"type\": \"scattergl\"}], \"scattermapbox\": [{\"marker\": {\"colorbar\": {\"outlinewidth\": 0, \"ticks\": \"\"}}, \"type\": \"scattermapbox\"}], \"scatterpolar\": [{\"marker\": {\"colorbar\": {\"outlinewidth\": 0, \"ticks\": \"\"}}, \"type\": \"scatterpolar\"}], \"scatterpolargl\": [{\"marker\": {\"colorbar\": {\"outlinewidth\": 0, \"ticks\": \"\"}}, \"type\": \"scatterpolargl\"}], \"scatterternary\": [{\"marker\": {\"colorbar\": {\"outlinewidth\": 0, \"ticks\": \"\"}}, \"type\": \"scatterternary\"}], \"surface\": [{\"colorbar\": {\"outlinewidth\": 0, \"ticks\": \"\"}, \"colorscale\": [[0.0, \"#0d0887\"], [0.1111111111111111, \"#46039f\"], [0.2222222222222222, \"#7201a8\"], [0.3333333333333333, \"#9c179e\"], [0.4444444444444444, \"#bd3786\"], [0.5555555555555556, \"#d8576b\"], [0.6666666666666666, \"#ed7953\"], [0.7777777777777778, \"#fb9f3a\"], [0.8888888888888888, \"#fdca26\"], [1.0, \"#f0f921\"]], \"type\": \"surface\"}], \"table\": [{\"cells\": {\"fill\": {\"color\": \"#EBF0F8\"}, \"line\": {\"color\": \"white\"}}, \"header\": {\"fill\": {\"color\": \"#C8D4E3\"}, \"line\": {\"color\": \"white\"}}, \"type\": \"table\"}]}, \"layout\": {\"annotationdefaults\": {\"arrowcolor\": \"#2a3f5f\", \"arrowhead\": 0, \"arrowwidth\": 1}, \"coloraxis\": {\"colorbar\": {\"outlinewidth\": 0, \"ticks\": \"\"}}, \"colorscale\": {\"diverging\": [[0, \"#8e0152\"], [0.1, \"#c51b7d\"], [0.2, \"#de77ae\"], [0.3, \"#f1b6da\"], [0.4, \"#fde0ef\"], [0.5, \"#f7f7f7\"], [0.6, \"#e6f5d0\"], [0.7, \"#b8e186\"], [0.8, \"#7fbc41\"], [0.9, \"#4d9221\"], [1, \"#276419\"]], \"sequential\": [[0.0, \"#0d0887\"], [0.1111111111111111, \"#46039f\"], [0.2222222222222222, \"#7201a8\"], [0.3333333333333333, \"#9c179e\"], [0.4444444444444444, \"#bd3786\"], [0.5555555555555556, \"#d8576b\"], [0.6666666666666666, \"#ed7953\"], [0.7777777777777778, \"#fb9f3a\"], [0.8888888888888888, \"#fdca26\"], [1.0, \"#f0f921\"]], \"sequentialminus\": [[0.0, \"#0d0887\"], [0.1111111111111111, \"#46039f\"], [0.2222222222222222, \"#7201a8\"], [0.3333333333333333, \"#9c179e\"], [0.4444444444444444, \"#bd3786\"], [0.5555555555555556, \"#d8576b\"], [0.6666666666666666, \"#ed7953\"], [0.7777777777777778, \"#fb9f3a\"], [0.8888888888888888, \"#fdca26\"], [1.0, \"#f0f921\"]]}, \"colorway\": [\"#636efa\", \"#EF553B\", \"#00cc96\", \"#ab63fa\", \"#FFA15A\", \"#19d3f3\", \"#FF6692\", \"#B6E880\", \"#FF97FF\", \"#FECB52\"], \"font\": {\"color\": \"#2a3f5f\"}, \"geo\": {\"bgcolor\": \"white\", \"lakecolor\": \"white\", \"landcolor\": \"#E5ECF6\", \"showlakes\": true, \"showland\": true, \"subunitcolor\": \"white\"}, \"hoverlabel\": {\"align\": \"left\"}, \"hovermode\": \"closest\", \"mapbox\": {\"style\": \"light\"}, \"paper_bgcolor\": \"white\", \"plot_bgcolor\": \"#E5ECF6\", \"polar\": {\"angularaxis\": {\"gridcolor\": \"white\", \"linecolor\": \"white\", \"ticks\": \"\"}, \"bgcolor\": \"#E5ECF6\", \"radialaxis\": {\"gridcolor\": \"white\", \"linecolor\": \"white\", \"ticks\": \"\"}}, \"scene\": {\"xaxis\": {\"backgroundcolor\": \"#E5ECF6\", \"gridcolor\": \"white\", \"gridwidth\": 2, \"linecolor\": \"white\", \"showbackground\": true, \"ticks\": \"\", \"zerolinecolor\": \"white\"}, \"yaxis\": {\"backgroundcolor\": \"#E5ECF6\", \"gridcolor\": \"white\", \"gridwidth\": 2, \"linecolor\": \"white\", \"showbackground\": true, \"ticks\": \"\", \"zerolinecolor\": \"white\"}, \"zaxis\": {\"backgroundcolor\": \"#E5ECF6\", \"gridcolor\": \"white\", \"gridwidth\": 2, \"linecolor\": \"white\", \"showbackground\": true, \"ticks\": \"\", \"zerolinecolor\": \"white\"}}, \"shapedefaults\": {\"line\": {\"color\": \"#2a3f5f\"}}, \"ternary\": {\"aaxis\": {\"gridcolor\": \"white\", \"linecolor\": \"white\", \"ticks\": \"\"}, \"baxis\": {\"gridcolor\": \"white\", \"linecolor\": \"white\", \"ticks\": \"\"}, \"bgcolor\": \"#E5ECF6\", \"caxis\": {\"gridcolor\": \"white\", \"linecolor\": \"white\", \"ticks\": \"\"}}, \"title\": {\"x\": 0.05}, \"xaxis\": {\"automargin\": true, \"gridcolor\": \"white\", \"linecolor\": \"white\", \"ticks\": \"\", \"title\": {\"standoff\": 15}, \"zerolinecolor\": \"white\", \"zerolinewidth\": 2}, \"yaxis\": {\"automargin\": true, \"gridcolor\": \"white\", \"linecolor\": \"white\", \"ticks\": \"\", \"title\": {\"standoff\": 15}, \"zerolinecolor\": \"white\", \"zerolinewidth\": 2}}}, \"title\": {\"text\": \"wafare\"}, \"width\": 800},\n",
       "                        {\"responsive\": true}\n",
       "                    ).then(function(){\n",
       "                            \n",
       "var gd = document.getElementById('4653d10c-b74a-4791-9ec7-2507bac33dec');\n",
       "var x = new MutationObserver(function (mutations, observer) {{\n",
       "        var display = window.getComputedStyle(gd).display;\n",
       "        if (!display || display === 'none') {{\n",
       "            console.log([gd, 'removed!']);\n",
       "            Plotly.purge(gd);\n",
       "            observer.disconnect();\n",
       "        }}\n",
       "}});\n",
       "\n",
       "// Listen for the removal of the full notebook cells\n",
       "var notebookContainer = gd.closest('#notebook-container');\n",
       "if (notebookContainer) {{\n",
       "    x.observe(notebookContainer, {childList: true});\n",
       "}}\n",
       "\n",
       "// Listen for the clearing of the current output cell\n",
       "var outputEl = gd.closest('.output');\n",
       "if (outputEl) {{\n",
       "    x.observe(outputEl, {childList: true});\n",
       "}}\n",
       "\n",
       "                        })\n",
       "                };\n",
       "                });\n",
       "            </script>\n",
       "        </div>"
      ]
     },
     "metadata": {},
     "output_type": "display_data"
    },
    {
     "name": "stdout",
     "output_type": "stream",
     "text": [
      "4\n",
      "312.5\n"
     ]
    },
    {
     "data": {
      "application/vnd.jupyter.widget-view+json": {
       "model_id": "86cfbb2749814a4d824503de2b127bbd",
       "version_major": 2,
       "version_minor": 0
      },
      "text/plain": [
       "Canvas(toolbar=Toolbar(toolitems=[('Home', 'Reset original view', 'home', 'home'), ('Back', 'Back to previous …"
      ]
     },
     "metadata": {},
     "output_type": "display_data"
    },
    {
     "data": {
      "application/vnd.plotly.v1+json": {
       "config": {
        "plotlyServerURL": "https://plot.ly"
       },
       "data": [
        {
         "facecolor": [
          "rgb(117, 122, 117)",
          "rgb(164, 124, 81)",
          "rgb(107, 122, 124)",
          "rgb(141, 123, 98)",
          "rgb(105, 122, 125)",
          "rgb(193, 125, 60)",
          "rgb(162, 124, 83)",
          "rgb(240, 126, 25)",
          "rgb(33, 119, 179)",
          "rgb(202, 125, 53)",
          "rgb(223, 126, 37)",
          "rgb(251, 127, 17)",
          "rgb(184, 124, 67)",
          "rgb(232, 126, 31)",
          "rgb(196, 125, 58)",
          "rgb(225, 126, 36)",
          "rgb(236, 126, 28)",
          "rgb(249, 127, 18)",
          "rgb(253, 127, 16)",
          "rgb(255, 127, 14)",
          "rgb(34, 119, 178)",
          "rgb(242, 127, 24)",
          "rgb(246, 127, 20)",
          "rgb(184, 124, 67)",
          "rgb(238, 126, 26)",
          "rgb(172, 124, 76)",
          "rgb(253, 127, 16)",
          "rgb(189, 125, 63)",
          "rgb(33, 119, 178)",
          "rgb(36, 119, 176)",
          "rgb(168, 124, 79)",
          "rgb(244, 127, 22)",
          "rgb(171, 124, 76)",
          "rgb(155, 123, 88)",
          "rgb(242, 127, 23)",
          "rgb(166, 124, 80)",
          "rgb(231, 126, 32)",
          "rgb(172, 124, 76)",
          "rgb(236, 126, 28)",
          "rgb(180, 124, 70)",
          "rgb(31, 119, 180)",
          "rgb(34, 119, 177)",
          "rgb(88, 121, 138)",
          "rgb(185, 125, 66)",
          "rgb(92, 121, 135)",
          "rgb(99, 121, 129)",
          "rgb(189, 125, 63)",
          "rgb(93, 121, 134)",
          "rgb(246, 127, 21)",
          "rgb(180, 124, 69)",
          "rgb(246, 127, 20)",
          "rgb(183, 124, 67)",
          "rgb(31, 119, 180)",
          "rgb(32, 119, 179)",
          "rgb(145, 123, 96)",
          "rgb(234, 126, 29)",
          "rgb(152, 123, 90)",
          "rgb(159, 124, 85)",
          "rgb(237, 126, 27)",
          "rgb(157, 124, 87)",
          "rgb(250, 127, 17)",
          "rgb(248, 127, 19)",
          "rgb(136, 123, 102)",
          "rgb(228, 126, 34)",
          "rgb(130, 123, 106)",
          "rgb(220, 126, 40)",
          "rgb(112, 122, 120)",
          "rgb(208, 125, 49)",
          "rgb(119, 122, 115)",
          "rgb(125, 122, 110)",
          "rgb(216, 126, 43)",
          "rgb(122, 122, 112)"
         ],
         "i": [
          38,
          32,
          44,
          17,
          22,
          18,
          13,
          14,
          2,
          19,
          6,
          3,
          10,
          16,
          21,
          21,
          12,
          12,
          4,
          16,
          8,
          8,
          24,
          8,
          18,
          6,
          5,
          5,
          5,
          4,
          33,
          14,
          33,
          16,
          35,
          34,
          7,
          21,
          19,
          8,
          6,
          7,
          39,
          18,
          39,
          21,
          41,
          40,
          0,
          12,
          14,
          4,
          3,
          0,
          27,
          10,
          27,
          12,
          29,
          28,
          9,
          24,
          26,
          10,
          9,
          9,
          45,
          19,
          45,
          24,
          47,
          46
         ],
         "j": [
          17,
          13,
          22,
          36,
          42,
          17,
          30,
          13,
          3,
          22,
          18,
          10,
          3,
          36,
          42,
          6,
          30,
          3,
          14,
          4,
          2,
          19,
          8,
          24,
          5,
          5,
          16,
          4,
          6,
          5,
          14,
          33,
          34,
          35,
          16,
          35,
          21,
          7,
          7,
          7,
          7,
          8,
          18,
          39,
          40,
          41,
          21,
          41,
          12,
          0,
          0,
          0,
          0,
          4,
          10,
          27,
          28,
          29,
          12,
          29,
          10,
          9,
          9,
          9,
          48,
          24,
          19,
          45,
          46,
          47,
          24,
          47
         ],
         "k": [
          37,
          31,
          43,
          37,
          43,
          38,
          31,
          32,
          1,
          44,
          20,
          11,
          2,
          17,
          22,
          20,
          13,
          11,
          15,
          15,
          1,
          23,
          23,
          2,
          17,
          18,
          17,
          16,
          1,
          1,
          32,
          15,
          15,
          36,
          15,
          15,
          22,
          6,
          22,
          19,
          1,
          1,
          38,
          20,
          20,
          42,
          20,
          20,
          13,
          3,
          13,
          14,
          1,
          1,
          26,
          11,
          11,
          30,
          11,
          11,
          2,
          2,
          25,
          26,
          25,
          48,
          44,
          23,
          23,
          48,
          23,
          23
         ],
         "name": "",
         "type": "mesh3d",
         "x": [
          -49000,
          0,
          3.0002899036735098e-12,
          -34648.19921875,
          -34648.19921875,
          -9.00085995320099e-12,
          34648.19921875,
          49000,
          34648.19921875,
          6.00056983268704e-12,
          -37503,
          -69296.5,
          -90540.203125,
          -98000,
          -90540.203125,
          -69296.5,
          -37503,
          -1.80017008244437e-11,
          37503,
          90540.203125,
          69296.5,
          90540.203125,
          98000,
          69296.5,
          37503,
          9.00085995320099e-12,
          -38046.3984375,
          -73500,
          -103945,
          -127306,
          -141991,
          -147000,
          -141991,
          -127306,
          -103945,
          -73500,
          -38046.3984375,
          -2.70025998089229e-11,
          38046.3984375,
          73500,
          103945,
          127306,
          141991,
          147000,
          141991,
          127306,
          103945,
          73500,
          38046.3984375
         ],
         "y": [
          6.00056983268704e-12,
          0,
          49000,
          34648.19921875,
          -34648.19921875,
          -49000,
          -34648.19921875,
          -1.20010997667341e-11,
          34648.19921875,
          98000,
          90540.203125,
          69296.5,
          37503,
          1.20010997667341e-11,
          -37503,
          -69296.5,
          -90540.203125,
          -98000,
          -90540.203125,
          37503,
          -69296.5,
          -37503,
          -2.400230014742989e-11,
          69296.5,
          90540.203125,
          147000,
          141991,
          127306,
          103945,
          73500,
          38046.3984375,
          1.80017008244437e-11,
          -38046.3984375,
          -73500,
          -103945,
          -127306,
          -141991,
          -147000,
          -141991,
          -127306,
          -103945,
          -73500,
          -38046.3984375,
          -3.600340164888749e-11,
          38046.3984375,
          73500,
          103945,
          127306,
          141991
         ],
         "z": [
          1504.584228515625,
          1473.205078125,
          1505.1650390625,
          1504.9315185546875,
          1505.4876708984375,
          1505.9569091796875,
          1504.4454345703125,
          1505.2193603515625,
          1505.5833740234375,
          1529.9786376953125,
          1530.4976806640625,
          1530.626220703125,
          1529.7039794921875,
          1529.5191650390625,
          1530.0528564453125,
          1530.93408203125,
          1530.97216796875,
          1529.5926513671875,
          1525.5382080078125,
          1528.0965576171875,
          1525.4959716796875,
          1526.200927734375,
          1527.0208740234375,
          1528.8074951171875,
          1529.7010498046875,
          1495.72265625,
          1496.6546630859375,
          1498.492431640625,
          1499.4600830078125,
          1500.3157958984375,
          1501.0908203125,
          1501.542724609375,
          1502.061279296875,
          1502.3095703125,
          1502.2890625,
          1500.65966796875,
          1498.0196533203125,
          1496.78955078125,
          1488.723388671875,
          1489.916748046875,
          1490.212646484375,
          1490.633056640625,
          1491.6907958984375,
          1491.9625244140625,
          1492.3900146484375,
          1492.810791015625,
          1494.280517578125,
          1494.1824951171875,
          1494.540283203125
         ]
        },
        {
         "line": {
          "color": "rgb(50, 50, 50)",
          "width": 1.5
         },
         "mode": "lines",
         "showlegend": false,
         "type": "scatter3d",
         "x": [
          38046.3984375,
          -1.80017008244437e-11,
          -2.70025998089229e-11,
          38046.3984375,
          null,
          -141991,
          -98000,
          -147000,
          -141991,
          null,
          141991,
          98000,
          147000,
          141991,
          null,
          -1.80017008244437e-11,
          -38046.3984375,
          -2.70025998089229e-11,
          -1.80017008244437e-11,
          null,
          98000,
          141991,
          147000,
          98000,
          null,
          37503,
          -1.80017008244437e-11,
          38046.3984375,
          37503,
          null,
          -98000,
          -141991,
          -147000,
          -98000,
          null,
          -90540.203125,
          -98000,
          -141991,
          -90540.203125,
          null,
          3.0002899036735098e-12,
          -34648.19921875,
          0,
          3.0002899036735098e-12,
          null,
          90540.203125,
          98000,
          141991,
          90540.203125,
          null,
          34648.19921875,
          37503,
          69296.5,
          34648.19921875,
          null,
          -34648.19921875,
          -37503,
          -69296.5,
          -34648.19921875,
          null,
          -37503,
          -34648.19921875,
          3.0002899036735098e-12,
          -37503,
          null,
          -37503,
          -38046.3984375,
          -1.80017008244437e-11,
          -37503,
          null,
          90540.203125,
          141991,
          98000,
          90540.203125,
          null,
          90540.203125,
          34648.19921875,
          69296.5,
          90540.203125,
          null,
          -90540.203125,
          -141991,
          -98000,
          -90540.203125,
          null,
          -90540.203125,
          -34648.19921875,
          -69296.5,
          -90540.203125,
          null,
          -34648.19921875,
          -90540.203125,
          -69296.5,
          -34648.19921875,
          null,
          -37503,
          -34648.19921875,
          -69296.5,
          -37503,
          null,
          34648.19921875,
          3.0002899036735098e-12,
          0,
          34648.19921875,
          null,
          34648.19921875,
          90540.203125,
          69296.5,
          34648.19921875,
          null,
          37503,
          34648.19921875,
          69296.5,
          37503,
          null,
          34648.19921875,
          37503,
          3.0002899036735098e-12,
          34648.19921875,
          null,
          37503,
          -9.00085995320099e-12,
          -1.80017008244437e-11,
          37503,
          null,
          34648.19921875,
          -9.00085995320099e-12,
          37503,
          34648.19921875,
          null,
          -9.00085995320099e-12,
          -37503,
          -1.80017008244437e-11,
          -9.00085995320099e-12,
          null,
          -9.00085995320099e-12,
          -34648.19921875,
          -37503,
          -9.00085995320099e-12,
          null,
          -9.00085995320099e-12,
          34648.19921875,
          0,
          -9.00085995320099e-12,
          null,
          -34648.19921875,
          -9.00085995320099e-12,
          0,
          -34648.19921875,
          null,
          -127306,
          -90540.203125,
          -141991,
          -127306,
          null,
          -90540.203125,
          -127306,
          -69296.5,
          -90540.203125,
          null,
          -127306,
          -103945,
          -69296.5,
          -127306,
          null,
          -37503,
          -73500,
          -38046.3984375,
          -37503,
          null,
          -73500,
          -37503,
          -69296.5,
          -73500,
          null,
          -103945,
          -73500,
          -69296.5,
          -103945,
          null,
          49000,
          90540.203125,
          98000,
          49000,
          null,
          90540.203125,
          49000,
          34648.19921875,
          90540.203125,
          null,
          90540.203125,
          49000,
          98000,
          90540.203125,
          null,
          34648.19921875,
          49000,
          90540.203125,
          34648.19921875,
          null,
          34648.19921875,
          49000,
          0,
          34648.19921875,
          null,
          49000,
          34648.19921875,
          0,
          49000,
          null,
          73500,
          37503,
          38046.3984375,
          73500,
          null,
          37503,
          73500,
          69296.5,
          37503,
          null,
          73500,
          103945,
          69296.5,
          73500,
          null,
          90540.203125,
          127306,
          141991,
          90540.203125,
          null,
          127306,
          90540.203125,
          69296.5,
          127306,
          null,
          103945,
          127306,
          69296.5,
          103945,
          null,
          -49000,
          -90540.203125,
          -98000,
          -49000,
          null,
          -90540.203125,
          -49000,
          -34648.19921875,
          -90540.203125,
          null,
          -90540.203125,
          -49000,
          -98000,
          -90540.203125,
          null,
          -34648.19921875,
          -49000,
          -90540.203125,
          -34648.19921875,
          null,
          -34648.19921875,
          -49000,
          0,
          -34648.19921875,
          null,
          -49000,
          -34648.19921875,
          0,
          -49000,
          null,
          -73500,
          -37503,
          -38046.3984375,
          -73500,
          null,
          -37503,
          -73500,
          -69296.5,
          -37503,
          null,
          -73500,
          -103945,
          -69296.5,
          -73500,
          null,
          -90540.203125,
          -127306,
          -141991,
          -90540.203125,
          null,
          -127306,
          -90540.203125,
          -69296.5,
          -127306,
          null,
          -103945,
          -127306,
          -69296.5,
          -103945,
          null,
          6.00056983268704e-12,
          -37503,
          3.0002899036735098e-12,
          6.00056983268704e-12,
          null,
          37503,
          6.00056983268704e-12,
          3.0002899036735098e-12,
          37503,
          null,
          -38046.3984375,
          6.00056983268704e-12,
          9.00085995320099e-12,
          -38046.3984375,
          null,
          -37503,
          6.00056983268704e-12,
          -38046.3984375,
          -37503,
          null,
          6.00056983268704e-12,
          38046.3984375,
          9.00085995320099e-12,
          6.00056983268704e-12,
          null,
          6.00056983268704e-12,
          37503,
          38046.3984375,
          6.00056983268704e-12,
          null,
          127306,
          90540.203125,
          141991,
          127306,
          null,
          90540.203125,
          127306,
          69296.5,
          90540.203125,
          null,
          127306,
          103945,
          69296.5,
          127306,
          null,
          37503,
          73500,
          38046.3984375,
          37503,
          null,
          73500,
          37503,
          69296.5,
          73500,
          null,
          103945,
          73500,
          69296.5,
          103945,
          null
         ],
         "y": [
          -141991,
          -98000,
          -147000,
          -141991,
          null,
          -38046.3984375,
          1.20010997667341e-11,
          1.80017008244437e-11,
          -38046.3984375,
          null,
          38046.3984375,
          -2.400230014742989e-11,
          -3.600340164888749e-11,
          38046.3984375,
          null,
          -98000,
          -141991,
          -147000,
          -98000,
          null,
          -2.400230014742989e-11,
          -38046.3984375,
          -3.600340164888749e-11,
          -2.400230014742989e-11,
          null,
          -90540.203125,
          -98000,
          -141991,
          -90540.203125,
          null,
          1.20010997667341e-11,
          38046.3984375,
          1.80017008244437e-11,
          1.20010997667341e-11,
          null,
          -37503,
          1.20010997667341e-11,
          -38046.3984375,
          -37503,
          null,
          49000,
          34648.19921875,
          0,
          49000,
          null,
          37503,
          -2.400230014742989e-11,
          38046.3984375,
          37503,
          null,
          -34648.19921875,
          -90540.203125,
          -69296.5,
          -34648.19921875,
          null,
          34648.19921875,
          90540.203125,
          69296.5,
          34648.19921875,
          null,
          90540.203125,
          34648.19921875,
          49000,
          90540.203125,
          null,
          -90540.203125,
          -141991,
          -98000,
          -90540.203125,
          null,
          -37503,
          -38046.3984375,
          -2.400230014742989e-11,
          -37503,
          null,
          -37503,
          -34648.19921875,
          -69296.5,
          -37503,
          null,
          37503,
          38046.3984375,
          1.20010997667341e-11,
          37503,
          null,
          37503,
          34648.19921875,
          69296.5,
          37503,
          null,
          -34648.19921875,
          -37503,
          -69296.5,
          -34648.19921875,
          null,
          -90540.203125,
          -34648.19921875,
          -69296.5,
          -90540.203125,
          null,
          34648.19921875,
          49000,
          0,
          34648.19921875,
          null,
          34648.19921875,
          37503,
          69296.5,
          34648.19921875,
          null,
          90540.203125,
          34648.19921875,
          69296.5,
          90540.203125,
          null,
          34648.19921875,
          90540.203125,
          49000,
          34648.19921875,
          null,
          -90540.203125,
          -49000,
          -98000,
          -90540.203125,
          null,
          -34648.19921875,
          -49000,
          -90540.203125,
          -34648.19921875,
          null,
          -49000,
          -90540.203125,
          -98000,
          -49000,
          null,
          -49000,
          -34648.19921875,
          -90540.203125,
          -49000,
          null,
          -49000,
          -34648.19921875,
          0,
          -49000,
          null,
          -34648.19921875,
          -49000,
          0,
          -34648.19921875,
          null,
          -73500,
          -37503,
          -38046.3984375,
          -73500,
          null,
          -37503,
          -73500,
          -69296.5,
          -37503,
          null,
          -73500,
          -103945,
          -69296.5,
          -73500,
          null,
          -90540.203125,
          -127306,
          -141991,
          -90540.203125,
          null,
          -127306,
          -90540.203125,
          -69296.5,
          -127306,
          null,
          -103945,
          -127306,
          -69296.5,
          -103945,
          null,
          -1.20010997667341e-11,
          -37503,
          -2.400230014742989e-11,
          -1.20010997667341e-11,
          null,
          -37503,
          -1.20010997667341e-11,
          -34648.19921875,
          -37503,
          null,
          37503,
          -1.20010997667341e-11,
          -2.400230014742989e-11,
          37503,
          null,
          34648.19921875,
          -1.20010997667341e-11,
          37503,
          34648.19921875,
          null,
          -34648.19921875,
          -1.20010997667341e-11,
          0,
          -34648.19921875,
          null,
          -1.20010997667341e-11,
          34648.19921875,
          0,
          -1.20010997667341e-11,
          null,
          -127306,
          -90540.203125,
          -141991,
          -127306,
          null,
          -90540.203125,
          -127306,
          -69296.5,
          -90540.203125,
          null,
          -127306,
          -103945,
          -69296.5,
          -127306,
          null,
          -37503,
          -73500,
          -38046.3984375,
          -37503,
          null,
          -73500,
          -37503,
          -69296.5,
          -73500,
          null,
          -103945,
          -73500,
          -69296.5,
          -103945,
          null,
          6.00056983268704e-12,
          37503,
          1.20010997667341e-11,
          6.00056983268704e-12,
          null,
          37503,
          6.00056983268704e-12,
          34648.19921875,
          37503,
          null,
          -37503,
          6.00056983268704e-12,
          1.20010997667341e-11,
          -37503,
          null,
          -34648.19921875,
          6.00056983268704e-12,
          -37503,
          -34648.19921875,
          null,
          34648.19921875,
          6.00056983268704e-12,
          0,
          34648.19921875,
          null,
          6.00056983268704e-12,
          -34648.19921875,
          0,
          6.00056983268704e-12,
          null,
          127306,
          90540.203125,
          141991,
          127306,
          null,
          90540.203125,
          127306,
          69296.5,
          90540.203125,
          null,
          127306,
          103945,
          69296.5,
          127306,
          null,
          37503,
          73500,
          38046.3984375,
          37503,
          null,
          73500,
          37503,
          69296.5,
          73500,
          null,
          103945,
          73500,
          69296.5,
          103945,
          null,
          98000,
          90540.203125,
          49000,
          98000,
          null,
          90540.203125,
          98000,
          49000,
          90540.203125,
          null,
          141991,
          98000,
          147000,
          141991,
          null,
          90540.203125,
          98000,
          141991,
          90540.203125,
          null,
          98000,
          141991,
          147000,
          98000,
          null,
          98000,
          90540.203125,
          141991,
          98000,
          null,
          73500,
          37503,
          38046.3984375,
          73500,
          null,
          37503,
          73500,
          69296.5,
          37503,
          null,
          73500,
          103945,
          69296.5,
          73500,
          null,
          90540.203125,
          127306,
          141991,
          90540.203125,
          null,
          127306,
          90540.203125,
          69296.5,
          127306,
          null,
          103945,
          127306,
          69296.5,
          103945,
          null
         ],
         "z": [
          1488.723388671875,
          1529.5926513671875,
          1496.78955078125,
          1488.723388671875,
          null,
          1502.061279296875,
          1529.5191650390625,
          1501.542724609375,
          1502.061279296875,
          null,
          1492.3900146484375,
          1527.0208740234375,
          1491.9625244140625,
          1492.3900146484375,
          null,
          1529.5926513671875,
          1498.0196533203125,
          1496.78955078125,
          1529.5926513671875,
          null,
          1527.0208740234375,
          1491.6907958984375,
          1491.9625244140625,
          1527.0208740234375,
          null,
          1525.5382080078125,
          1529.5926513671875,
          1488.723388671875,
          1525.5382080078125,
          null,
          1529.5191650390625,
          1501.0908203125,
          1501.542724609375,
          1529.5191650390625,
          null,
          1530.0528564453125,
          1529.5191650390625,
          1502.061279296875,
          1530.0528564453125,
          null,
          1505.1650390625,
          1504.9315185546875,
          1473.205078125,
          1505.1650390625,
          null,
          1528.0965576171875,
          1527.0208740234375,
          1492.3900146484375,
          1528.0965576171875,
          null,
          1504.4454345703125,
          1525.5382080078125,
          1525.4959716796875,
          1504.4454345703125,
          null,
          1504.9315185546875,
          1530.4976806640625,
          1530.626220703125,
          1504.9315185546875,
          null,
          1530.4976806640625,
          1504.9315185546875,
          1505.1650390625,
          1530.4976806640625,
          null,
          1530.97216796875,
          1498.0196533203125,
          1529.5926513671875,
          1530.97216796875,
          null,
          1526.200927734375,
          1491.6907958984375,
          1527.0208740234375,
          1526.200927734375,
          null,
          1526.200927734375,
          1504.4454345703125,
          1525.4959716796875,
          1526.200927734375,
          null,
          1529.7039794921875,
          1501.0908203125,
          1529.5191650390625,
          1529.7039794921875,
          null,
          1529.7039794921875,
          1504.9315185546875,
          1530.626220703125,
          1529.7039794921875,
          null,
          1505.4876708984375,
          1530.0528564453125,
          1530.93408203125,
          1505.4876708984375,
          null,
          1530.97216796875,
          1505.4876708984375,
          1530.93408203125,
          1530.97216796875,
          null,
          1505.5833740234375,
          1505.1650390625,
          1473.205078125,
          1505.5833740234375,
          null,
          1505.5833740234375,
          1528.0965576171875,
          1528.8074951171875,
          1505.5833740234375,
          null,
          1529.7010498046875,
          1505.5833740234375,
          1528.8074951171875,
          1529.7010498046875,
          null,
          1505.5833740234375,
          1529.7010498046875,
          1505.1650390625,
          1505.5833740234375,
          null,
          1525.5382080078125,
          1505.9569091796875,
          1529.5926513671875,
          1525.5382080078125,
          null,
          1504.4454345703125,
          1505.9569091796875,
          1525.5382080078125,
          1504.4454345703125,
          null,
          1505.9569091796875,
          1530.97216796875,
          1529.5926513671875,
          1505.9569091796875,
          null,
          1505.9569091796875,
          1505.4876708984375,
          1530.97216796875,
          1505.9569091796875,
          null,
          1505.9569091796875,
          1504.4454345703125,
          1473.205078125,
          1505.9569091796875,
          null,
          1505.4876708984375,
          1505.9569091796875,
          1473.205078125,
          1505.4876708984375,
          null,
          1502.3095703125,
          1530.0528564453125,
          1502.061279296875,
          1502.3095703125,
          null,
          1530.0528564453125,
          1502.3095703125,
          1530.93408203125,
          1530.0528564453125,
          null,
          1502.3095703125,
          1502.2890625,
          1530.93408203125,
          1502.3095703125,
          null,
          1530.97216796875,
          1500.65966796875,
          1498.0196533203125,
          1530.97216796875,
          null,
          1500.65966796875,
          1530.97216796875,
          1530.93408203125,
          1500.65966796875,
          null,
          1502.2890625,
          1500.65966796875,
          1530.93408203125,
          1502.2890625,
          null,
          1505.2193603515625,
          1526.200927734375,
          1527.0208740234375,
          1505.2193603515625,
          null,
          1526.200927734375,
          1505.2193603515625,
          1504.4454345703125,
          1526.200927734375,
          null,
          1528.0965576171875,
          1505.2193603515625,
          1527.0208740234375,
          1528.0965576171875,
          null,
          1505.5833740234375,
          1505.2193603515625,
          1528.0965576171875,
          1505.5833740234375,
          null,
          1504.4454345703125,
          1505.2193603515625,
          1473.205078125,
          1504.4454345703125,
          null,
          1505.2193603515625,
          1505.5833740234375,
          1473.205078125,
          1505.2193603515625,
          null,
          1489.916748046875,
          1525.5382080078125,
          1488.723388671875,
          1489.916748046875,
          null,
          1525.5382080078125,
          1489.916748046875,
          1525.4959716796875,
          1525.5382080078125,
          null,
          1489.916748046875,
          1490.212646484375,
          1525.4959716796875,
          1489.916748046875,
          null,
          1526.200927734375,
          1490.633056640625,
          1491.6907958984375,
          1526.200927734375,
          null,
          1490.633056640625,
          1526.200927734375,
          1525.4959716796875,
          1490.633056640625,
          null,
          1490.212646484375,
          1490.633056640625,
          1525.4959716796875,
          1490.212646484375,
          null,
          1504.584228515625,
          1529.7039794921875,
          1529.5191650390625,
          1504.584228515625,
          null,
          1529.7039794921875,
          1504.584228515625,
          1504.9315185546875,
          1529.7039794921875,
          null,
          1530.0528564453125,
          1504.584228515625,
          1529.5191650390625,
          1530.0528564453125,
          null,
          1505.4876708984375,
          1504.584228515625,
          1530.0528564453125,
          1505.4876708984375,
          null,
          1504.9315185546875,
          1504.584228515625,
          1473.205078125,
          1504.9315185546875,
          null,
          1504.584228515625,
          1505.4876708984375,
          1473.205078125,
          1504.584228515625,
          null,
          1498.492431640625,
          1530.4976806640625,
          1496.6546630859375,
          1498.492431640625,
          null,
          1530.4976806640625,
          1498.492431640625,
          1530.626220703125,
          1530.4976806640625,
          null,
          1498.492431640625,
          1499.4600830078125,
          1530.626220703125,
          1498.492431640625,
          null,
          1529.7039794921875,
          1500.3157958984375,
          1501.0908203125,
          1529.7039794921875,
          null,
          1500.3157958984375,
          1529.7039794921875,
          1530.626220703125,
          1500.3157958984375,
          null,
          1499.4600830078125,
          1500.3157958984375,
          1530.626220703125,
          1499.4600830078125,
          null,
          1529.9786376953125,
          1530.4976806640625,
          1505.1650390625,
          1529.9786376953125,
          null,
          1529.7010498046875,
          1529.9786376953125,
          1505.1650390625,
          1529.7010498046875,
          null,
          1496.6546630859375,
          1529.9786376953125,
          1495.72265625,
          1496.6546630859375,
          null,
          1530.4976806640625,
          1529.9786376953125,
          1496.6546630859375,
          1530.4976806640625,
          null,
          1529.9786376953125,
          1494.540283203125,
          1495.72265625,
          1529.9786376953125,
          null,
          1529.9786376953125,
          1529.7010498046875,
          1494.540283203125,
          1529.9786376953125,
          null,
          1492.810791015625,
          1528.0965576171875,
          1492.3900146484375,
          1492.810791015625,
          null,
          1528.0965576171875,
          1492.810791015625,
          1528.8074951171875,
          1528.0965576171875,
          null,
          1492.810791015625,
          1494.280517578125,
          1528.8074951171875,
          1492.810791015625,
          null,
          1529.7010498046875,
          1494.1824951171875,
          1494.540283203125,
          1529.7010498046875,
          null,
          1494.1824951171875,
          1529.7010498046875,
          1528.8074951171875,
          1494.1824951171875,
          null,
          1494.280517578125,
          1494.1824951171875,
          1528.8074951171875,
          1494.280517578125,
          null
         ]
        },
        {
         "hoverinfo": "none",
         "marker": {
          "color": [
           1494.2402750651042,
           1522.4646402994792
          ],
          "colorscale": [
           [
            0,
            "rgb(31, 119, 180)"
           ],
           [
            1,
            "rgb(255, 127, 14)"
           ]
          ],
          "showscale": true,
          "size": 0.1
         },
         "mode": "markers",
         "showlegend": false,
         "type": "scatter3d",
         "x": [
          -49000
         ],
         "y": [
          6.00056983268704e-12
         ],
         "z": [
          1504.584228515625
         ]
        }
       ],
       "layout": {
        "height": 800,
        "scene": {
         "aspectratio": {
          "x": 1,
          "y": 1,
          "z": 0.5
         },
         "xaxis": {
          "backgroundcolor": "rgb(230, 230, 230)",
          "gridcolor": "rgb(255, 255, 255)",
          "showbackground": true,
          "zerolinecolor": "rgb(255, 255, 255)"
         },
         "yaxis": {
          "backgroundcolor": "rgb(230, 230, 230)",
          "gridcolor": "rgb(255, 255, 255)",
          "showbackground": true,
          "zerolinecolor": "rgb(255, 255, 255)"
         },
         "zaxis": {
          "backgroundcolor": "rgb(230, 230, 230)",
          "gridcolor": "rgb(255, 255, 255)",
          "showbackground": true,
          "zerolinecolor": "rgb(255, 255, 255)"
         }
        },
        "template": {
         "data": {
          "bar": [
           {
            "error_x": {
             "color": "#2a3f5f"
            },
            "error_y": {
             "color": "#2a3f5f"
            },
            "marker": {
             "line": {
              "color": "#E5ECF6",
              "width": 0.5
             }
            },
            "type": "bar"
           }
          ],
          "barpolar": [
           {
            "marker": {
             "line": {
              "color": "#E5ECF6",
              "width": 0.5
             }
            },
            "type": "barpolar"
           }
          ],
          "carpet": [
           {
            "aaxis": {
             "endlinecolor": "#2a3f5f",
             "gridcolor": "white",
             "linecolor": "white",
             "minorgridcolor": "white",
             "startlinecolor": "#2a3f5f"
            },
            "baxis": {
             "endlinecolor": "#2a3f5f",
             "gridcolor": "white",
             "linecolor": "white",
             "minorgridcolor": "white",
             "startlinecolor": "#2a3f5f"
            },
            "type": "carpet"
           }
          ],
          "choropleth": [
           {
            "colorbar": {
             "outlinewidth": 0,
             "ticks": ""
            },
            "type": "choropleth"
           }
          ],
          "contour": [
           {
            "colorbar": {
             "outlinewidth": 0,
             "ticks": ""
            },
            "colorscale": [
             [
              0,
              "#0d0887"
             ],
             [
              0.1111111111111111,
              "#46039f"
             ],
             [
              0.2222222222222222,
              "#7201a8"
             ],
             [
              0.3333333333333333,
              "#9c179e"
             ],
             [
              0.4444444444444444,
              "#bd3786"
             ],
             [
              0.5555555555555556,
              "#d8576b"
             ],
             [
              0.6666666666666666,
              "#ed7953"
             ],
             [
              0.7777777777777778,
              "#fb9f3a"
             ],
             [
              0.8888888888888888,
              "#fdca26"
             ],
             [
              1,
              "#f0f921"
             ]
            ],
            "type": "contour"
           }
          ],
          "contourcarpet": [
           {
            "colorbar": {
             "outlinewidth": 0,
             "ticks": ""
            },
            "type": "contourcarpet"
           }
          ],
          "heatmap": [
           {
            "colorbar": {
             "outlinewidth": 0,
             "ticks": ""
            },
            "colorscale": [
             [
              0,
              "#0d0887"
             ],
             [
              0.1111111111111111,
              "#46039f"
             ],
             [
              0.2222222222222222,
              "#7201a8"
             ],
             [
              0.3333333333333333,
              "#9c179e"
             ],
             [
              0.4444444444444444,
              "#bd3786"
             ],
             [
              0.5555555555555556,
              "#d8576b"
             ],
             [
              0.6666666666666666,
              "#ed7953"
             ],
             [
              0.7777777777777778,
              "#fb9f3a"
             ],
             [
              0.8888888888888888,
              "#fdca26"
             ],
             [
              1,
              "#f0f921"
             ]
            ],
            "type": "heatmap"
           }
          ],
          "heatmapgl": [
           {
            "colorbar": {
             "outlinewidth": 0,
             "ticks": ""
            },
            "colorscale": [
             [
              0,
              "#0d0887"
             ],
             [
              0.1111111111111111,
              "#46039f"
             ],
             [
              0.2222222222222222,
              "#7201a8"
             ],
             [
              0.3333333333333333,
              "#9c179e"
             ],
             [
              0.4444444444444444,
              "#bd3786"
             ],
             [
              0.5555555555555556,
              "#d8576b"
             ],
             [
              0.6666666666666666,
              "#ed7953"
             ],
             [
              0.7777777777777778,
              "#fb9f3a"
             ],
             [
              0.8888888888888888,
              "#fdca26"
             ],
             [
              1,
              "#f0f921"
             ]
            ],
            "type": "heatmapgl"
           }
          ],
          "histogram": [
           {
            "marker": {
             "colorbar": {
              "outlinewidth": 0,
              "ticks": ""
             }
            },
            "type": "histogram"
           }
          ],
          "histogram2d": [
           {
            "colorbar": {
             "outlinewidth": 0,
             "ticks": ""
            },
            "colorscale": [
             [
              0,
              "#0d0887"
             ],
             [
              0.1111111111111111,
              "#46039f"
             ],
             [
              0.2222222222222222,
              "#7201a8"
             ],
             [
              0.3333333333333333,
              "#9c179e"
             ],
             [
              0.4444444444444444,
              "#bd3786"
             ],
             [
              0.5555555555555556,
              "#d8576b"
             ],
             [
              0.6666666666666666,
              "#ed7953"
             ],
             [
              0.7777777777777778,
              "#fb9f3a"
             ],
             [
              0.8888888888888888,
              "#fdca26"
             ],
             [
              1,
              "#f0f921"
             ]
            ],
            "type": "histogram2d"
           }
          ],
          "histogram2dcontour": [
           {
            "colorbar": {
             "outlinewidth": 0,
             "ticks": ""
            },
            "colorscale": [
             [
              0,
              "#0d0887"
             ],
             [
              0.1111111111111111,
              "#46039f"
             ],
             [
              0.2222222222222222,
              "#7201a8"
             ],
             [
              0.3333333333333333,
              "#9c179e"
             ],
             [
              0.4444444444444444,
              "#bd3786"
             ],
             [
              0.5555555555555556,
              "#d8576b"
             ],
             [
              0.6666666666666666,
              "#ed7953"
             ],
             [
              0.7777777777777778,
              "#fb9f3a"
             ],
             [
              0.8888888888888888,
              "#fdca26"
             ],
             [
              1,
              "#f0f921"
             ]
            ],
            "type": "histogram2dcontour"
           }
          ],
          "mesh3d": [
           {
            "colorbar": {
             "outlinewidth": 0,
             "ticks": ""
            },
            "type": "mesh3d"
           }
          ],
          "parcoords": [
           {
            "line": {
             "colorbar": {
              "outlinewidth": 0,
              "ticks": ""
             }
            },
            "type": "parcoords"
           }
          ],
          "pie": [
           {
            "automargin": true,
            "type": "pie"
           }
          ],
          "scatter": [
           {
            "marker": {
             "colorbar": {
              "outlinewidth": 0,
              "ticks": ""
             }
            },
            "type": "scatter"
           }
          ],
          "scatter3d": [
           {
            "line": {
             "colorbar": {
              "outlinewidth": 0,
              "ticks": ""
             }
            },
            "marker": {
             "colorbar": {
              "outlinewidth": 0,
              "ticks": ""
             }
            },
            "type": "scatter3d"
           }
          ],
          "scattercarpet": [
           {
            "marker": {
             "colorbar": {
              "outlinewidth": 0,
              "ticks": ""
             }
            },
            "type": "scattercarpet"
           }
          ],
          "scattergeo": [
           {
            "marker": {
             "colorbar": {
              "outlinewidth": 0,
              "ticks": ""
             }
            },
            "type": "scattergeo"
           }
          ],
          "scattergl": [
           {
            "marker": {
             "colorbar": {
              "outlinewidth": 0,
              "ticks": ""
             }
            },
            "type": "scattergl"
           }
          ],
          "scattermapbox": [
           {
            "marker": {
             "colorbar": {
              "outlinewidth": 0,
              "ticks": ""
             }
            },
            "type": "scattermapbox"
           }
          ],
          "scatterpolar": [
           {
            "marker": {
             "colorbar": {
              "outlinewidth": 0,
              "ticks": ""
             }
            },
            "type": "scatterpolar"
           }
          ],
          "scatterpolargl": [
           {
            "marker": {
             "colorbar": {
              "outlinewidth": 0,
              "ticks": ""
             }
            },
            "type": "scatterpolargl"
           }
          ],
          "scatterternary": [
           {
            "marker": {
             "colorbar": {
              "outlinewidth": 0,
              "ticks": ""
             }
            },
            "type": "scatterternary"
           }
          ],
          "surface": [
           {
            "colorbar": {
             "outlinewidth": 0,
             "ticks": ""
            },
            "colorscale": [
             [
              0,
              "#0d0887"
             ],
             [
              0.1111111111111111,
              "#46039f"
             ],
             [
              0.2222222222222222,
              "#7201a8"
             ],
             [
              0.3333333333333333,
              "#9c179e"
             ],
             [
              0.4444444444444444,
              "#bd3786"
             ],
             [
              0.5555555555555556,
              "#d8576b"
             ],
             [
              0.6666666666666666,
              "#ed7953"
             ],
             [
              0.7777777777777778,
              "#fb9f3a"
             ],
             [
              0.8888888888888888,
              "#fdca26"
             ],
             [
              1,
              "#f0f921"
             ]
            ],
            "type": "surface"
           }
          ],
          "table": [
           {
            "cells": {
             "fill": {
              "color": "#EBF0F8"
             },
             "line": {
              "color": "white"
             }
            },
            "header": {
             "fill": {
              "color": "#C8D4E3"
             },
             "line": {
              "color": "white"
             }
            },
            "type": "table"
           }
          ]
         },
         "layout": {
          "annotationdefaults": {
           "arrowcolor": "#2a3f5f",
           "arrowhead": 0,
           "arrowwidth": 1
          },
          "coloraxis": {
           "colorbar": {
            "outlinewidth": 0,
            "ticks": ""
           }
          },
          "colorscale": {
           "diverging": [
            [
             0,
             "#8e0152"
            ],
            [
             0.1,
             "#c51b7d"
            ],
            [
             0.2,
             "#de77ae"
            ],
            [
             0.3,
             "#f1b6da"
            ],
            [
             0.4,
             "#fde0ef"
            ],
            [
             0.5,
             "#f7f7f7"
            ],
            [
             0.6,
             "#e6f5d0"
            ],
            [
             0.7,
             "#b8e186"
            ],
            [
             0.8,
             "#7fbc41"
            ],
            [
             0.9,
             "#4d9221"
            ],
            [
             1,
             "#276419"
            ]
           ],
           "sequential": [
            [
             0,
             "#0d0887"
            ],
            [
             0.1111111111111111,
             "#46039f"
            ],
            [
             0.2222222222222222,
             "#7201a8"
            ],
            [
             0.3333333333333333,
             "#9c179e"
            ],
            [
             0.4444444444444444,
             "#bd3786"
            ],
            [
             0.5555555555555556,
             "#d8576b"
            ],
            [
             0.6666666666666666,
             "#ed7953"
            ],
            [
             0.7777777777777778,
             "#fb9f3a"
            ],
            [
             0.8888888888888888,
             "#fdca26"
            ],
            [
             1,
             "#f0f921"
            ]
           ],
           "sequentialminus": [
            [
             0,
             "#0d0887"
            ],
            [
             0.1111111111111111,
             "#46039f"
            ],
            [
             0.2222222222222222,
             "#7201a8"
            ],
            [
             0.3333333333333333,
             "#9c179e"
            ],
            [
             0.4444444444444444,
             "#bd3786"
            ],
            [
             0.5555555555555556,
             "#d8576b"
            ],
            [
             0.6666666666666666,
             "#ed7953"
            ],
            [
             0.7777777777777778,
             "#fb9f3a"
            ],
            [
             0.8888888888888888,
             "#fdca26"
            ],
            [
             1,
             "#f0f921"
            ]
           ]
          },
          "colorway": [
           "#636efa",
           "#EF553B",
           "#00cc96",
           "#ab63fa",
           "#FFA15A",
           "#19d3f3",
           "#FF6692",
           "#B6E880",
           "#FF97FF",
           "#FECB52"
          ],
          "font": {
           "color": "#2a3f5f"
          },
          "geo": {
           "bgcolor": "white",
           "lakecolor": "white",
           "landcolor": "#E5ECF6",
           "showlakes": true,
           "showland": true,
           "subunitcolor": "white"
          },
          "hoverlabel": {
           "align": "left"
          },
          "hovermode": "closest",
          "mapbox": {
           "style": "light"
          },
          "paper_bgcolor": "white",
          "plot_bgcolor": "#E5ECF6",
          "polar": {
           "angularaxis": {
            "gridcolor": "white",
            "linecolor": "white",
            "ticks": ""
           },
           "bgcolor": "#E5ECF6",
           "radialaxis": {
            "gridcolor": "white",
            "linecolor": "white",
            "ticks": ""
           }
          },
          "scene": {
           "xaxis": {
            "backgroundcolor": "#E5ECF6",
            "gridcolor": "white",
            "gridwidth": 2,
            "linecolor": "white",
            "showbackground": true,
            "ticks": "",
            "zerolinecolor": "white"
           },
           "yaxis": {
            "backgroundcolor": "#E5ECF6",
            "gridcolor": "white",
            "gridwidth": 2,
            "linecolor": "white",
            "showbackground": true,
            "ticks": "",
            "zerolinecolor": "white"
           },
           "zaxis": {
            "backgroundcolor": "#E5ECF6",
            "gridcolor": "white",
            "gridwidth": 2,
            "linecolor": "white",
            "showbackground": true,
            "ticks": "",
            "zerolinecolor": "white"
           }
          },
          "shapedefaults": {
           "line": {
            "color": "#2a3f5f"
           }
          },
          "ternary": {
           "aaxis": {
            "gridcolor": "white",
            "linecolor": "white",
            "ticks": ""
           },
           "baxis": {
            "gridcolor": "white",
            "linecolor": "white",
            "ticks": ""
           },
           "bgcolor": "#E5ECF6",
           "caxis": {
            "gridcolor": "white",
            "linecolor": "white",
            "ticks": ""
           }
          },
          "title": {
           "x": 0.05
          },
          "xaxis": {
           "automargin": true,
           "gridcolor": "white",
           "linecolor": "white",
           "ticks": "",
           "title": {
            "standoff": 15
           },
           "zerolinecolor": "white",
           "zerolinewidth": 2
          },
          "yaxis": {
           "automargin": true,
           "gridcolor": "white",
           "linecolor": "white",
           "ticks": "",
           "title": {
            "standoff": 15
           },
           "zerolinecolor": "white",
           "zerolinewidth": 2
          }
         }
        },
        "title": {
         "text": "wafare"
        },
        "width": 800
       }
      },
      "text/html": [
       "<div>\n",
       "        \n",
       "        \n",
       "            <div id=\"4d0e5fec-c85c-44b9-9c66-652144324556\" class=\"plotly-graph-div\" style=\"height:800px; width:800px;\"></div>\n",
       "            <script type=\"text/javascript\">\n",
       "                require([\"plotly\"], function(Plotly) {\n",
       "                    window.PLOTLYENV=window.PLOTLYENV || {};\n",
       "                    \n",
       "                if (document.getElementById(\"4d0e5fec-c85c-44b9-9c66-652144324556\")) {\n",
       "                    Plotly.newPlot(\n",
       "                        '4d0e5fec-c85c-44b9-9c66-652144324556',\n",
       "                        [{\"facecolor\": [\"rgb(117, 122, 117)\", \"rgb(164, 124, 81)\", \"rgb(107, 122, 124)\", \"rgb(141, 123, 98)\", \"rgb(105, 122, 125)\", \"rgb(193, 125, 60)\", \"rgb(162, 124, 83)\", \"rgb(240, 126, 25)\", \"rgb(33, 119, 179)\", \"rgb(202, 125, 53)\", \"rgb(223, 126, 37)\", \"rgb(251, 127, 17)\", \"rgb(184, 124, 67)\", \"rgb(232, 126, 31)\", \"rgb(196, 125, 58)\", \"rgb(225, 126, 36)\", \"rgb(236, 126, 28)\", \"rgb(249, 127, 18)\", \"rgb(253, 127, 16)\", \"rgb(255, 127, 14)\", \"rgb(34, 119, 178)\", \"rgb(242, 127, 24)\", \"rgb(246, 127, 20)\", \"rgb(184, 124, 67)\", \"rgb(238, 126, 26)\", \"rgb(172, 124, 76)\", \"rgb(253, 127, 16)\", \"rgb(189, 125, 63)\", \"rgb(33, 119, 178)\", \"rgb(36, 119, 176)\", \"rgb(168, 124, 79)\", \"rgb(244, 127, 22)\", \"rgb(171, 124, 76)\", \"rgb(155, 123, 88)\", \"rgb(242, 127, 23)\", \"rgb(166, 124, 80)\", \"rgb(231, 126, 32)\", \"rgb(172, 124, 76)\", \"rgb(236, 126, 28)\", \"rgb(180, 124, 70)\", \"rgb(31, 119, 180)\", \"rgb(34, 119, 177)\", \"rgb(88, 121, 138)\", \"rgb(185, 125, 66)\", \"rgb(92, 121, 135)\", \"rgb(99, 121, 129)\", \"rgb(189, 125, 63)\", \"rgb(93, 121, 134)\", \"rgb(246, 127, 21)\", \"rgb(180, 124, 69)\", \"rgb(246, 127, 20)\", \"rgb(183, 124, 67)\", \"rgb(31, 119, 180)\", \"rgb(32, 119, 179)\", \"rgb(145, 123, 96)\", \"rgb(234, 126, 29)\", \"rgb(152, 123, 90)\", \"rgb(159, 124, 85)\", \"rgb(237, 126, 27)\", \"rgb(157, 124, 87)\", \"rgb(250, 127, 17)\", \"rgb(248, 127, 19)\", \"rgb(136, 123, 102)\", \"rgb(228, 126, 34)\", \"rgb(130, 123, 106)\", \"rgb(220, 126, 40)\", \"rgb(112, 122, 120)\", \"rgb(208, 125, 49)\", \"rgb(119, 122, 115)\", \"rgb(125, 122, 110)\", \"rgb(216, 126, 43)\", \"rgb(122, 122, 112)\"], \"i\": [38, 32, 44, 17, 22, 18, 13, 14, 2, 19, 6, 3, 10, 16, 21, 21, 12, 12, 4, 16, 8, 8, 24, 8, 18, 6, 5, 5, 5, 4, 33, 14, 33, 16, 35, 34, 7, 21, 19, 8, 6, 7, 39, 18, 39, 21, 41, 40, 0, 12, 14, 4, 3, 0, 27, 10, 27, 12, 29, 28, 9, 24, 26, 10, 9, 9, 45, 19, 45, 24, 47, 46], \"j\": [17, 13, 22, 36, 42, 17, 30, 13, 3, 22, 18, 10, 3, 36, 42, 6, 30, 3, 14, 4, 2, 19, 8, 24, 5, 5, 16, 4, 6, 5, 14, 33, 34, 35, 16, 35, 21, 7, 7, 7, 7, 8, 18, 39, 40, 41, 21, 41, 12, 0, 0, 0, 0, 4, 10, 27, 28, 29, 12, 29, 10, 9, 9, 9, 48, 24, 19, 45, 46, 47, 24, 47], \"k\": [37, 31, 43, 37, 43, 38, 31, 32, 1, 44, 20, 11, 2, 17, 22, 20, 13, 11, 15, 15, 1, 23, 23, 2, 17, 18, 17, 16, 1, 1, 32, 15, 15, 36, 15, 15, 22, 6, 22, 19, 1, 1, 38, 20, 20, 42, 20, 20, 13, 3, 13, 14, 1, 1, 26, 11, 11, 30, 11, 11, 2, 2, 25, 26, 25, 48, 44, 23, 23, 48, 23, 23], \"name\": \"\", \"type\": \"mesh3d\", \"x\": [-49000.0, 0.0, 3.0002899036735098e-12, -34648.19921875, -34648.19921875, -9.00085995320099e-12, 34648.19921875, 49000.0, 34648.19921875, 6.00056983268704e-12, -37503.0, -69296.5, -90540.203125, -98000.0, -90540.203125, -69296.5, -37503.0, -1.80017008244437e-11, 37503.0, 90540.203125, 69296.5, 90540.203125, 98000.0, 69296.5, 37503.0, 9.00085995320099e-12, -38046.3984375, -73500.0, -103945.0, -127306.0, -141991.0, -147000.0, -141991.0, -127306.0, -103945.0, -73500.0, -38046.3984375, -2.70025998089229e-11, 38046.3984375, 73500.0, 103945.0, 127306.0, 141991.0, 147000.0, 141991.0, 127306.0, 103945.0, 73500.0, 38046.3984375], \"y\": [6.00056983268704e-12, 0.0, 49000.0, 34648.19921875, -34648.19921875, -49000.0, -34648.19921875, -1.20010997667341e-11, 34648.19921875, 98000.0, 90540.203125, 69296.5, 37503.0, 1.20010997667341e-11, -37503.0, -69296.5, -90540.203125, -98000.0, -90540.203125, 37503.0, -69296.5, -37503.0, -2.400230014742989e-11, 69296.5, 90540.203125, 147000.0, 141991.0, 127306.0, 103945.0, 73500.0, 38046.3984375, 1.80017008244437e-11, -38046.3984375, -73500.0, -103945.0, -127306.0, -141991.0, -147000.0, -141991.0, -127306.0, -103945.0, -73500.0, -38046.3984375, -3.600340164888749e-11, 38046.3984375, 73500.0, 103945.0, 127306.0, 141991.0], \"z\": [1504.584228515625, 1473.205078125, 1505.1650390625, 1504.9315185546875, 1505.4876708984375, 1505.9569091796875, 1504.4454345703125, 1505.2193603515625, 1505.5833740234375, 1529.9786376953125, 1530.4976806640625, 1530.626220703125, 1529.7039794921875, 1529.5191650390625, 1530.0528564453125, 1530.93408203125, 1530.97216796875, 1529.5926513671875, 1525.5382080078125, 1528.0965576171875, 1525.4959716796875, 1526.200927734375, 1527.0208740234375, 1528.8074951171875, 1529.7010498046875, 1495.72265625, 1496.6546630859375, 1498.492431640625, 1499.4600830078125, 1500.3157958984375, 1501.0908203125, 1501.542724609375, 1502.061279296875, 1502.3095703125, 1502.2890625, 1500.65966796875, 1498.0196533203125, 1496.78955078125, 1488.723388671875, 1489.916748046875, 1490.212646484375, 1490.633056640625, 1491.6907958984375, 1491.9625244140625, 1492.3900146484375, 1492.810791015625, 1494.280517578125, 1494.1824951171875, 1494.540283203125]}, {\"line\": {\"color\": \"rgb(50, 50, 50)\", \"width\": 1.5}, \"mode\": \"lines\", \"showlegend\": false, \"type\": \"scatter3d\", \"x\": [38046.3984375, -1.80017008244437e-11, -2.70025998089229e-11, 38046.3984375, null, -141991.0, -98000.0, -147000.0, -141991.0, null, 141991.0, 98000.0, 147000.0, 141991.0, null, -1.80017008244437e-11, -38046.3984375, -2.70025998089229e-11, -1.80017008244437e-11, null, 98000.0, 141991.0, 147000.0, 98000.0, null, 37503.0, -1.80017008244437e-11, 38046.3984375, 37503.0, null, -98000.0, -141991.0, -147000.0, -98000.0, null, -90540.203125, -98000.0, -141991.0, -90540.203125, null, 3.0002899036735098e-12, -34648.19921875, 0.0, 3.0002899036735098e-12, null, 90540.203125, 98000.0, 141991.0, 90540.203125, null, 34648.19921875, 37503.0, 69296.5, 34648.19921875, null, -34648.19921875, -37503.0, -69296.5, -34648.19921875, null, -37503.0, -34648.19921875, 3.0002899036735098e-12, -37503.0, null, -37503.0, -38046.3984375, -1.80017008244437e-11, -37503.0, null, 90540.203125, 141991.0, 98000.0, 90540.203125, null, 90540.203125, 34648.19921875, 69296.5, 90540.203125, null, -90540.203125, -141991.0, -98000.0, -90540.203125, null, -90540.203125, -34648.19921875, -69296.5, -90540.203125, null, -34648.19921875, -90540.203125, -69296.5, -34648.19921875, null, -37503.0, -34648.19921875, -69296.5, -37503.0, null, 34648.19921875, 3.0002899036735098e-12, 0.0, 34648.19921875, null, 34648.19921875, 90540.203125, 69296.5, 34648.19921875, null, 37503.0, 34648.19921875, 69296.5, 37503.0, null, 34648.19921875, 37503.0, 3.0002899036735098e-12, 34648.19921875, null, 37503.0, -9.00085995320099e-12, -1.80017008244437e-11, 37503.0, null, 34648.19921875, -9.00085995320099e-12, 37503.0, 34648.19921875, null, -9.00085995320099e-12, -37503.0, -1.80017008244437e-11, -9.00085995320099e-12, null, -9.00085995320099e-12, -34648.19921875, -37503.0, -9.00085995320099e-12, null, -9.00085995320099e-12, 34648.19921875, 0.0, -9.00085995320099e-12, null, -34648.19921875, -9.00085995320099e-12, 0.0, -34648.19921875, null, -127306.0, -90540.203125, -141991.0, -127306.0, null, -90540.203125, -127306.0, -69296.5, -90540.203125, null, -127306.0, -103945.0, -69296.5, -127306.0, null, -37503.0, -73500.0, -38046.3984375, -37503.0, null, -73500.0, -37503.0, -69296.5, -73500.0, null, -103945.0, -73500.0, -69296.5, -103945.0, null, 49000.0, 90540.203125, 98000.0, 49000.0, null, 90540.203125, 49000.0, 34648.19921875, 90540.203125, null, 90540.203125, 49000.0, 98000.0, 90540.203125, null, 34648.19921875, 49000.0, 90540.203125, 34648.19921875, null, 34648.19921875, 49000.0, 0.0, 34648.19921875, null, 49000.0, 34648.19921875, 0.0, 49000.0, null, 73500.0, 37503.0, 38046.3984375, 73500.0, null, 37503.0, 73500.0, 69296.5, 37503.0, null, 73500.0, 103945.0, 69296.5, 73500.0, null, 90540.203125, 127306.0, 141991.0, 90540.203125, null, 127306.0, 90540.203125, 69296.5, 127306.0, null, 103945.0, 127306.0, 69296.5, 103945.0, null, -49000.0, -90540.203125, -98000.0, -49000.0, null, -90540.203125, -49000.0, -34648.19921875, -90540.203125, null, -90540.203125, -49000.0, -98000.0, -90540.203125, null, -34648.19921875, -49000.0, -90540.203125, -34648.19921875, null, -34648.19921875, -49000.0, 0.0, -34648.19921875, null, -49000.0, -34648.19921875, 0.0, -49000.0, null, -73500.0, -37503.0, -38046.3984375, -73500.0, null, -37503.0, -73500.0, -69296.5, -37503.0, null, -73500.0, -103945.0, -69296.5, -73500.0, null, -90540.203125, -127306.0, -141991.0, -90540.203125, null, -127306.0, -90540.203125, -69296.5, -127306.0, null, -103945.0, -127306.0, -69296.5, -103945.0, null, 6.00056983268704e-12, -37503.0, 3.0002899036735098e-12, 6.00056983268704e-12, null, 37503.0, 6.00056983268704e-12, 3.0002899036735098e-12, 37503.0, null, -38046.3984375, 6.00056983268704e-12, 9.00085995320099e-12, -38046.3984375, null, -37503.0, 6.00056983268704e-12, -38046.3984375, -37503.0, null, 6.00056983268704e-12, 38046.3984375, 9.00085995320099e-12, 6.00056983268704e-12, null, 6.00056983268704e-12, 37503.0, 38046.3984375, 6.00056983268704e-12, null, 127306.0, 90540.203125, 141991.0, 127306.0, null, 90540.203125, 127306.0, 69296.5, 90540.203125, null, 127306.0, 103945.0, 69296.5, 127306.0, null, 37503.0, 73500.0, 38046.3984375, 37503.0, null, 73500.0, 37503.0, 69296.5, 73500.0, null, 103945.0, 73500.0, 69296.5, 103945.0, null], \"y\": [-141991.0, -98000.0, -147000.0, -141991.0, null, -38046.3984375, 1.20010997667341e-11, 1.80017008244437e-11, -38046.3984375, null, 38046.3984375, -2.400230014742989e-11, -3.600340164888749e-11, 38046.3984375, null, -98000.0, -141991.0, -147000.0, -98000.0, null, -2.400230014742989e-11, -38046.3984375, -3.600340164888749e-11, -2.400230014742989e-11, null, -90540.203125, -98000.0, -141991.0, -90540.203125, null, 1.20010997667341e-11, 38046.3984375, 1.80017008244437e-11, 1.20010997667341e-11, null, -37503.0, 1.20010997667341e-11, -38046.3984375, -37503.0, null, 49000.0, 34648.19921875, 0.0, 49000.0, null, 37503.0, -2.400230014742989e-11, 38046.3984375, 37503.0, null, -34648.19921875, -90540.203125, -69296.5, -34648.19921875, null, 34648.19921875, 90540.203125, 69296.5, 34648.19921875, null, 90540.203125, 34648.19921875, 49000.0, 90540.203125, null, -90540.203125, -141991.0, -98000.0, -90540.203125, null, -37503.0, -38046.3984375, -2.400230014742989e-11, -37503.0, null, -37503.0, -34648.19921875, -69296.5, -37503.0, null, 37503.0, 38046.3984375, 1.20010997667341e-11, 37503.0, null, 37503.0, 34648.19921875, 69296.5, 37503.0, null, -34648.19921875, -37503.0, -69296.5, -34648.19921875, null, -90540.203125, -34648.19921875, -69296.5, -90540.203125, null, 34648.19921875, 49000.0, 0.0, 34648.19921875, null, 34648.19921875, 37503.0, 69296.5, 34648.19921875, null, 90540.203125, 34648.19921875, 69296.5, 90540.203125, null, 34648.19921875, 90540.203125, 49000.0, 34648.19921875, null, -90540.203125, -49000.0, -98000.0, -90540.203125, null, -34648.19921875, -49000.0, -90540.203125, -34648.19921875, null, -49000.0, -90540.203125, -98000.0, -49000.0, null, -49000.0, -34648.19921875, -90540.203125, -49000.0, null, -49000.0, -34648.19921875, 0.0, -49000.0, null, -34648.19921875, -49000.0, 0.0, -34648.19921875, null, -73500.0, -37503.0, -38046.3984375, -73500.0, null, -37503.0, -73500.0, -69296.5, -37503.0, null, -73500.0, -103945.0, -69296.5, -73500.0, null, -90540.203125, -127306.0, -141991.0, -90540.203125, null, -127306.0, -90540.203125, -69296.5, -127306.0, null, -103945.0, -127306.0, -69296.5, -103945.0, null, -1.20010997667341e-11, -37503.0, -2.400230014742989e-11, -1.20010997667341e-11, null, -37503.0, -1.20010997667341e-11, -34648.19921875, -37503.0, null, 37503.0, -1.20010997667341e-11, -2.400230014742989e-11, 37503.0, null, 34648.19921875, -1.20010997667341e-11, 37503.0, 34648.19921875, null, -34648.19921875, -1.20010997667341e-11, 0.0, -34648.19921875, null, -1.20010997667341e-11, 34648.19921875, 0.0, -1.20010997667341e-11, null, -127306.0, -90540.203125, -141991.0, -127306.0, null, -90540.203125, -127306.0, -69296.5, -90540.203125, null, -127306.0, -103945.0, -69296.5, -127306.0, null, -37503.0, -73500.0, -38046.3984375, -37503.0, null, -73500.0, -37503.0, -69296.5, -73500.0, null, -103945.0, -73500.0, -69296.5, -103945.0, null, 6.00056983268704e-12, 37503.0, 1.20010997667341e-11, 6.00056983268704e-12, null, 37503.0, 6.00056983268704e-12, 34648.19921875, 37503.0, null, -37503.0, 6.00056983268704e-12, 1.20010997667341e-11, -37503.0, null, -34648.19921875, 6.00056983268704e-12, -37503.0, -34648.19921875, null, 34648.19921875, 6.00056983268704e-12, 0.0, 34648.19921875, null, 6.00056983268704e-12, -34648.19921875, 0.0, 6.00056983268704e-12, null, 127306.0, 90540.203125, 141991.0, 127306.0, null, 90540.203125, 127306.0, 69296.5, 90540.203125, null, 127306.0, 103945.0, 69296.5, 127306.0, null, 37503.0, 73500.0, 38046.3984375, 37503.0, null, 73500.0, 37503.0, 69296.5, 73500.0, null, 103945.0, 73500.0, 69296.5, 103945.0, null, 98000.0, 90540.203125, 49000.0, 98000.0, null, 90540.203125, 98000.0, 49000.0, 90540.203125, null, 141991.0, 98000.0, 147000.0, 141991.0, null, 90540.203125, 98000.0, 141991.0, 90540.203125, null, 98000.0, 141991.0, 147000.0, 98000.0, null, 98000.0, 90540.203125, 141991.0, 98000.0, null, 73500.0, 37503.0, 38046.3984375, 73500.0, null, 37503.0, 73500.0, 69296.5, 37503.0, null, 73500.0, 103945.0, 69296.5, 73500.0, null, 90540.203125, 127306.0, 141991.0, 90540.203125, null, 127306.0, 90540.203125, 69296.5, 127306.0, null, 103945.0, 127306.0, 69296.5, 103945.0, null], \"z\": [1488.723388671875, 1529.5926513671875, 1496.78955078125, 1488.723388671875, null, 1502.061279296875, 1529.5191650390625, 1501.542724609375, 1502.061279296875, null, 1492.3900146484375, 1527.0208740234375, 1491.9625244140625, 1492.3900146484375, null, 1529.5926513671875, 1498.0196533203125, 1496.78955078125, 1529.5926513671875, null, 1527.0208740234375, 1491.6907958984375, 1491.9625244140625, 1527.0208740234375, null, 1525.5382080078125, 1529.5926513671875, 1488.723388671875, 1525.5382080078125, null, 1529.5191650390625, 1501.0908203125, 1501.542724609375, 1529.5191650390625, null, 1530.0528564453125, 1529.5191650390625, 1502.061279296875, 1530.0528564453125, null, 1505.1650390625, 1504.9315185546875, 1473.205078125, 1505.1650390625, null, 1528.0965576171875, 1527.0208740234375, 1492.3900146484375, 1528.0965576171875, null, 1504.4454345703125, 1525.5382080078125, 1525.4959716796875, 1504.4454345703125, null, 1504.9315185546875, 1530.4976806640625, 1530.626220703125, 1504.9315185546875, null, 1530.4976806640625, 1504.9315185546875, 1505.1650390625, 1530.4976806640625, null, 1530.97216796875, 1498.0196533203125, 1529.5926513671875, 1530.97216796875, null, 1526.200927734375, 1491.6907958984375, 1527.0208740234375, 1526.200927734375, null, 1526.200927734375, 1504.4454345703125, 1525.4959716796875, 1526.200927734375, null, 1529.7039794921875, 1501.0908203125, 1529.5191650390625, 1529.7039794921875, null, 1529.7039794921875, 1504.9315185546875, 1530.626220703125, 1529.7039794921875, null, 1505.4876708984375, 1530.0528564453125, 1530.93408203125, 1505.4876708984375, null, 1530.97216796875, 1505.4876708984375, 1530.93408203125, 1530.97216796875, null, 1505.5833740234375, 1505.1650390625, 1473.205078125, 1505.5833740234375, null, 1505.5833740234375, 1528.0965576171875, 1528.8074951171875, 1505.5833740234375, null, 1529.7010498046875, 1505.5833740234375, 1528.8074951171875, 1529.7010498046875, null, 1505.5833740234375, 1529.7010498046875, 1505.1650390625, 1505.5833740234375, null, 1525.5382080078125, 1505.9569091796875, 1529.5926513671875, 1525.5382080078125, null, 1504.4454345703125, 1505.9569091796875, 1525.5382080078125, 1504.4454345703125, null, 1505.9569091796875, 1530.97216796875, 1529.5926513671875, 1505.9569091796875, null, 1505.9569091796875, 1505.4876708984375, 1530.97216796875, 1505.9569091796875, null, 1505.9569091796875, 1504.4454345703125, 1473.205078125, 1505.9569091796875, null, 1505.4876708984375, 1505.9569091796875, 1473.205078125, 1505.4876708984375, null, 1502.3095703125, 1530.0528564453125, 1502.061279296875, 1502.3095703125, null, 1530.0528564453125, 1502.3095703125, 1530.93408203125, 1530.0528564453125, null, 1502.3095703125, 1502.2890625, 1530.93408203125, 1502.3095703125, null, 1530.97216796875, 1500.65966796875, 1498.0196533203125, 1530.97216796875, null, 1500.65966796875, 1530.97216796875, 1530.93408203125, 1500.65966796875, null, 1502.2890625, 1500.65966796875, 1530.93408203125, 1502.2890625, null, 1505.2193603515625, 1526.200927734375, 1527.0208740234375, 1505.2193603515625, null, 1526.200927734375, 1505.2193603515625, 1504.4454345703125, 1526.200927734375, null, 1528.0965576171875, 1505.2193603515625, 1527.0208740234375, 1528.0965576171875, null, 1505.5833740234375, 1505.2193603515625, 1528.0965576171875, 1505.5833740234375, null, 1504.4454345703125, 1505.2193603515625, 1473.205078125, 1504.4454345703125, null, 1505.2193603515625, 1505.5833740234375, 1473.205078125, 1505.2193603515625, null, 1489.916748046875, 1525.5382080078125, 1488.723388671875, 1489.916748046875, null, 1525.5382080078125, 1489.916748046875, 1525.4959716796875, 1525.5382080078125, null, 1489.916748046875, 1490.212646484375, 1525.4959716796875, 1489.916748046875, null, 1526.200927734375, 1490.633056640625, 1491.6907958984375, 1526.200927734375, null, 1490.633056640625, 1526.200927734375, 1525.4959716796875, 1490.633056640625, null, 1490.212646484375, 1490.633056640625, 1525.4959716796875, 1490.212646484375, null, 1504.584228515625, 1529.7039794921875, 1529.5191650390625, 1504.584228515625, null, 1529.7039794921875, 1504.584228515625, 1504.9315185546875, 1529.7039794921875, null, 1530.0528564453125, 1504.584228515625, 1529.5191650390625, 1530.0528564453125, null, 1505.4876708984375, 1504.584228515625, 1530.0528564453125, 1505.4876708984375, null, 1504.9315185546875, 1504.584228515625, 1473.205078125, 1504.9315185546875, null, 1504.584228515625, 1505.4876708984375, 1473.205078125, 1504.584228515625, null, 1498.492431640625, 1530.4976806640625, 1496.6546630859375, 1498.492431640625, null, 1530.4976806640625, 1498.492431640625, 1530.626220703125, 1530.4976806640625, null, 1498.492431640625, 1499.4600830078125, 1530.626220703125, 1498.492431640625, null, 1529.7039794921875, 1500.3157958984375, 1501.0908203125, 1529.7039794921875, null, 1500.3157958984375, 1529.7039794921875, 1530.626220703125, 1500.3157958984375, null, 1499.4600830078125, 1500.3157958984375, 1530.626220703125, 1499.4600830078125, null, 1529.9786376953125, 1530.4976806640625, 1505.1650390625, 1529.9786376953125, null, 1529.7010498046875, 1529.9786376953125, 1505.1650390625, 1529.7010498046875, null, 1496.6546630859375, 1529.9786376953125, 1495.72265625, 1496.6546630859375, null, 1530.4976806640625, 1529.9786376953125, 1496.6546630859375, 1530.4976806640625, null, 1529.9786376953125, 1494.540283203125, 1495.72265625, 1529.9786376953125, null, 1529.9786376953125, 1529.7010498046875, 1494.540283203125, 1529.9786376953125, null, 1492.810791015625, 1528.0965576171875, 1492.3900146484375, 1492.810791015625, null, 1528.0965576171875, 1492.810791015625, 1528.8074951171875, 1528.0965576171875, null, 1492.810791015625, 1494.280517578125, 1528.8074951171875, 1492.810791015625, null, 1529.7010498046875, 1494.1824951171875, 1494.540283203125, 1529.7010498046875, null, 1494.1824951171875, 1529.7010498046875, 1528.8074951171875, 1494.1824951171875, null, 1494.280517578125, 1494.1824951171875, 1528.8074951171875, 1494.280517578125, null]}, {\"hoverinfo\": \"none\", \"marker\": {\"color\": [1494.2402750651042, 1522.4646402994792], \"colorscale\": [[0.0, \"rgb(31, 119, 180)\"], [1.0, \"rgb(255, 127, 14)\"]], \"showscale\": true, \"size\": 0.1}, \"mode\": \"markers\", \"showlegend\": false, \"type\": \"scatter3d\", \"x\": [-49000.0], \"y\": [6.00056983268704e-12], \"z\": [1504.584228515625]}],\n",
       "                        {\"height\": 800, \"scene\": {\"aspectratio\": {\"x\": 1, \"y\": 1, \"z\": 0.5}, \"xaxis\": {\"backgroundcolor\": \"rgb(230, 230, 230)\", \"gridcolor\": \"rgb(255, 255, 255)\", \"showbackground\": true, \"zerolinecolor\": \"rgb(255, 255, 255)\"}, \"yaxis\": {\"backgroundcolor\": \"rgb(230, 230, 230)\", \"gridcolor\": \"rgb(255, 255, 255)\", \"showbackground\": true, \"zerolinecolor\": \"rgb(255, 255, 255)\"}, \"zaxis\": {\"backgroundcolor\": \"rgb(230, 230, 230)\", \"gridcolor\": \"rgb(255, 255, 255)\", \"showbackground\": true, \"zerolinecolor\": \"rgb(255, 255, 255)\"}}, \"template\": {\"data\": {\"bar\": [{\"error_x\": {\"color\": \"#2a3f5f\"}, \"error_y\": {\"color\": \"#2a3f5f\"}, \"marker\": {\"line\": {\"color\": \"#E5ECF6\", \"width\": 0.5}}, \"type\": \"bar\"}], \"barpolar\": [{\"marker\": {\"line\": {\"color\": \"#E5ECF6\", \"width\": 0.5}}, \"type\": \"barpolar\"}], \"carpet\": [{\"aaxis\": {\"endlinecolor\": \"#2a3f5f\", \"gridcolor\": \"white\", \"linecolor\": \"white\", \"minorgridcolor\": \"white\", \"startlinecolor\": \"#2a3f5f\"}, \"baxis\": {\"endlinecolor\": \"#2a3f5f\", \"gridcolor\": \"white\", \"linecolor\": \"white\", \"minorgridcolor\": \"white\", \"startlinecolor\": \"#2a3f5f\"}, \"type\": \"carpet\"}], \"choropleth\": [{\"colorbar\": {\"outlinewidth\": 0, \"ticks\": \"\"}, \"type\": \"choropleth\"}], \"contour\": [{\"colorbar\": {\"outlinewidth\": 0, \"ticks\": \"\"}, \"colorscale\": [[0.0, \"#0d0887\"], [0.1111111111111111, \"#46039f\"], [0.2222222222222222, \"#7201a8\"], [0.3333333333333333, \"#9c179e\"], [0.4444444444444444, \"#bd3786\"], [0.5555555555555556, \"#d8576b\"], [0.6666666666666666, \"#ed7953\"], [0.7777777777777778, \"#fb9f3a\"], [0.8888888888888888, \"#fdca26\"], [1.0, \"#f0f921\"]], \"type\": \"contour\"}], \"contourcarpet\": [{\"colorbar\": {\"outlinewidth\": 0, \"ticks\": \"\"}, \"type\": \"contourcarpet\"}], \"heatmap\": [{\"colorbar\": {\"outlinewidth\": 0, \"ticks\": \"\"}, \"colorscale\": [[0.0, \"#0d0887\"], [0.1111111111111111, \"#46039f\"], [0.2222222222222222, \"#7201a8\"], [0.3333333333333333, \"#9c179e\"], [0.4444444444444444, \"#bd3786\"], [0.5555555555555556, \"#d8576b\"], [0.6666666666666666, \"#ed7953\"], [0.7777777777777778, \"#fb9f3a\"], [0.8888888888888888, \"#fdca26\"], [1.0, \"#f0f921\"]], \"type\": \"heatmap\"}], \"heatmapgl\": [{\"colorbar\": {\"outlinewidth\": 0, \"ticks\": \"\"}, \"colorscale\": [[0.0, \"#0d0887\"], [0.1111111111111111, \"#46039f\"], [0.2222222222222222, \"#7201a8\"], [0.3333333333333333, \"#9c179e\"], [0.4444444444444444, \"#bd3786\"], [0.5555555555555556, \"#d8576b\"], [0.6666666666666666, \"#ed7953\"], [0.7777777777777778, \"#fb9f3a\"], [0.8888888888888888, \"#fdca26\"], [1.0, \"#f0f921\"]], \"type\": \"heatmapgl\"}], \"histogram\": [{\"marker\": {\"colorbar\": {\"outlinewidth\": 0, \"ticks\": \"\"}}, \"type\": \"histogram\"}], \"histogram2d\": [{\"colorbar\": {\"outlinewidth\": 0, \"ticks\": \"\"}, \"colorscale\": [[0.0, \"#0d0887\"], [0.1111111111111111, \"#46039f\"], [0.2222222222222222, \"#7201a8\"], [0.3333333333333333, \"#9c179e\"], [0.4444444444444444, \"#bd3786\"], [0.5555555555555556, \"#d8576b\"], [0.6666666666666666, \"#ed7953\"], [0.7777777777777778, \"#fb9f3a\"], [0.8888888888888888, \"#fdca26\"], [1.0, \"#f0f921\"]], \"type\": \"histogram2d\"}], \"histogram2dcontour\": [{\"colorbar\": {\"outlinewidth\": 0, \"ticks\": \"\"}, \"colorscale\": [[0.0, \"#0d0887\"], [0.1111111111111111, \"#46039f\"], [0.2222222222222222, \"#7201a8\"], [0.3333333333333333, \"#9c179e\"], [0.4444444444444444, \"#bd3786\"], [0.5555555555555556, \"#d8576b\"], [0.6666666666666666, \"#ed7953\"], [0.7777777777777778, \"#fb9f3a\"], [0.8888888888888888, \"#fdca26\"], [1.0, \"#f0f921\"]], \"type\": \"histogram2dcontour\"}], \"mesh3d\": [{\"colorbar\": {\"outlinewidth\": 0, \"ticks\": \"\"}, \"type\": \"mesh3d\"}], \"parcoords\": [{\"line\": {\"colorbar\": {\"outlinewidth\": 0, \"ticks\": \"\"}}, \"type\": \"parcoords\"}], \"pie\": [{\"automargin\": true, \"type\": \"pie\"}], \"scatter\": [{\"marker\": {\"colorbar\": {\"outlinewidth\": 0, \"ticks\": \"\"}}, \"type\": \"scatter\"}], \"scatter3d\": [{\"line\": {\"colorbar\": {\"outlinewidth\": 0, \"ticks\": \"\"}}, \"marker\": {\"colorbar\": {\"outlinewidth\": 0, \"ticks\": \"\"}}, \"type\": \"scatter3d\"}], \"scattercarpet\": [{\"marker\": {\"colorbar\": {\"outlinewidth\": 0, \"ticks\": \"\"}}, \"type\": \"scattercarpet\"}], \"scattergeo\": [{\"marker\": {\"colorbar\": {\"outlinewidth\": 0, \"ticks\": \"\"}}, \"type\": \"scattergeo\"}], \"scattergl\": [{\"marker\": {\"colorbar\": {\"outlinewidth\": 0, \"ticks\": \"\"}}, \"type\": \"scattergl\"}], \"scattermapbox\": [{\"marker\": {\"colorbar\": {\"outlinewidth\": 0, \"ticks\": \"\"}}, \"type\": \"scattermapbox\"}], \"scatterpolar\": [{\"marker\": {\"colorbar\": {\"outlinewidth\": 0, \"ticks\": \"\"}}, \"type\": \"scatterpolar\"}], \"scatterpolargl\": [{\"marker\": {\"colorbar\": {\"outlinewidth\": 0, \"ticks\": \"\"}}, \"type\": \"scatterpolargl\"}], \"scatterternary\": [{\"marker\": {\"colorbar\": {\"outlinewidth\": 0, \"ticks\": \"\"}}, \"type\": \"scatterternary\"}], \"surface\": [{\"colorbar\": {\"outlinewidth\": 0, \"ticks\": \"\"}, \"colorscale\": [[0.0, \"#0d0887\"], [0.1111111111111111, \"#46039f\"], [0.2222222222222222, \"#7201a8\"], [0.3333333333333333, \"#9c179e\"], [0.4444444444444444, \"#bd3786\"], [0.5555555555555556, \"#d8576b\"], [0.6666666666666666, \"#ed7953\"], [0.7777777777777778, \"#fb9f3a\"], [0.8888888888888888, \"#fdca26\"], [1.0, \"#f0f921\"]], \"type\": \"surface\"}], \"table\": [{\"cells\": {\"fill\": {\"color\": \"#EBF0F8\"}, \"line\": {\"color\": \"white\"}}, \"header\": {\"fill\": {\"color\": \"#C8D4E3\"}, \"line\": {\"color\": \"white\"}}, \"type\": \"table\"}]}, \"layout\": {\"annotationdefaults\": {\"arrowcolor\": \"#2a3f5f\", \"arrowhead\": 0, \"arrowwidth\": 1}, \"coloraxis\": {\"colorbar\": {\"outlinewidth\": 0, \"ticks\": \"\"}}, \"colorscale\": {\"diverging\": [[0, \"#8e0152\"], [0.1, \"#c51b7d\"], [0.2, \"#de77ae\"], [0.3, \"#f1b6da\"], [0.4, \"#fde0ef\"], [0.5, \"#f7f7f7\"], [0.6, \"#e6f5d0\"], [0.7, \"#b8e186\"], [0.8, \"#7fbc41\"], [0.9, \"#4d9221\"], [1, \"#276419\"]], \"sequential\": [[0.0, \"#0d0887\"], [0.1111111111111111, \"#46039f\"], [0.2222222222222222, \"#7201a8\"], [0.3333333333333333, \"#9c179e\"], [0.4444444444444444, \"#bd3786\"], [0.5555555555555556, \"#d8576b\"], [0.6666666666666666, \"#ed7953\"], [0.7777777777777778, \"#fb9f3a\"], [0.8888888888888888, \"#fdca26\"], [1.0, \"#f0f921\"]], \"sequentialminus\": [[0.0, \"#0d0887\"], [0.1111111111111111, \"#46039f\"], [0.2222222222222222, \"#7201a8\"], [0.3333333333333333, \"#9c179e\"], [0.4444444444444444, \"#bd3786\"], [0.5555555555555556, \"#d8576b\"], [0.6666666666666666, \"#ed7953\"], [0.7777777777777778, \"#fb9f3a\"], [0.8888888888888888, \"#fdca26\"], [1.0, \"#f0f921\"]]}, \"colorway\": [\"#636efa\", \"#EF553B\", \"#00cc96\", \"#ab63fa\", \"#FFA15A\", \"#19d3f3\", \"#FF6692\", \"#B6E880\", \"#FF97FF\", \"#FECB52\"], \"font\": {\"color\": \"#2a3f5f\"}, \"geo\": {\"bgcolor\": \"white\", \"lakecolor\": \"white\", \"landcolor\": \"#E5ECF6\", \"showlakes\": true, \"showland\": true, \"subunitcolor\": \"white\"}, \"hoverlabel\": {\"align\": \"left\"}, \"hovermode\": \"closest\", \"mapbox\": {\"style\": \"light\"}, \"paper_bgcolor\": \"white\", \"plot_bgcolor\": \"#E5ECF6\", \"polar\": {\"angularaxis\": {\"gridcolor\": \"white\", \"linecolor\": \"white\", \"ticks\": \"\"}, \"bgcolor\": \"#E5ECF6\", \"radialaxis\": {\"gridcolor\": \"white\", \"linecolor\": \"white\", \"ticks\": \"\"}}, \"scene\": {\"xaxis\": {\"backgroundcolor\": \"#E5ECF6\", \"gridcolor\": \"white\", \"gridwidth\": 2, \"linecolor\": \"white\", \"showbackground\": true, \"ticks\": \"\", \"zerolinecolor\": \"white\"}, \"yaxis\": {\"backgroundcolor\": \"#E5ECF6\", \"gridcolor\": \"white\", \"gridwidth\": 2, \"linecolor\": \"white\", \"showbackground\": true, \"ticks\": \"\", \"zerolinecolor\": \"white\"}, \"zaxis\": {\"backgroundcolor\": \"#E5ECF6\", \"gridcolor\": \"white\", \"gridwidth\": 2, \"linecolor\": \"white\", \"showbackground\": true, \"ticks\": \"\", \"zerolinecolor\": \"white\"}}, \"shapedefaults\": {\"line\": {\"color\": \"#2a3f5f\"}}, \"ternary\": {\"aaxis\": {\"gridcolor\": \"white\", \"linecolor\": \"white\", \"ticks\": \"\"}, \"baxis\": {\"gridcolor\": \"white\", \"linecolor\": \"white\", \"ticks\": \"\"}, \"bgcolor\": \"#E5ECF6\", \"caxis\": {\"gridcolor\": \"white\", \"linecolor\": \"white\", \"ticks\": \"\"}}, \"title\": {\"x\": 0.05}, \"xaxis\": {\"automargin\": true, \"gridcolor\": \"white\", \"linecolor\": \"white\", \"ticks\": \"\", \"title\": {\"standoff\": 15}, \"zerolinecolor\": \"white\", \"zerolinewidth\": 2}, \"yaxis\": {\"automargin\": true, \"gridcolor\": \"white\", \"linecolor\": \"white\", \"ticks\": \"\", \"title\": {\"standoff\": 15}, \"zerolinecolor\": \"white\", \"zerolinewidth\": 2}}}, \"title\": {\"text\": \"wafare\"}, \"width\": 800},\n",
       "                        {\"responsive\": true}\n",
       "                    ).then(function(){\n",
       "                            \n",
       "var gd = document.getElementById('4d0e5fec-c85c-44b9-9c66-652144324556');\n",
       "var x = new MutationObserver(function (mutations, observer) {{\n",
       "        var display = window.getComputedStyle(gd).display;\n",
       "        if (!display || display === 'none') {{\n",
       "            console.log([gd, 'removed!']);\n",
       "            Plotly.purge(gd);\n",
       "            observer.disconnect();\n",
       "        }}\n",
       "}});\n",
       "\n",
       "// Listen for the removal of the full notebook cells\n",
       "var notebookContainer = gd.closest('#notebook-container');\n",
       "if (notebookContainer) {{\n",
       "    x.observe(notebookContainer, {childList: true});\n",
       "}}\n",
       "\n",
       "// Listen for the clearing of the current output cell\n",
       "var outputEl = gd.closest('.output');\n",
       "if (outputEl) {{\n",
       "    x.observe(outputEl, {childList: true});\n",
       "}}\n",
       "\n",
       "                        })\n",
       "                };\n",
       "                });\n",
       "            </script>\n",
       "        </div>"
      ]
     },
     "metadata": {},
     "output_type": "display_data"
    },
    {
     "name": "stdout",
     "output_type": "stream",
     "text": [
      "5\n",
      "375.0\n"
     ]
    },
    {
     "data": {
      "application/vnd.jupyter.widget-view+json": {
       "model_id": "c78dfce1d9a84fffbb2c2860e0f7d5b8",
       "version_major": 2,
       "version_minor": 0
      },
      "text/plain": [
       "Canvas(toolbar=Toolbar(toolitems=[('Home', 'Reset original view', 'home', 'home'), ('Back', 'Back to previous …"
      ]
     },
     "metadata": {},
     "output_type": "display_data"
    },
    {
     "data": {
      "application/vnd.plotly.v1+json": {
       "config": {
        "plotlyServerURL": "https://plot.ly"
       },
       "data": [
        {
         "facecolor": [
          "rgb(125, 122, 110)",
          "rgb(168, 124, 79)",
          "rgb(111, 122, 120)",
          "rgb(147, 123, 94)",
          "rgb(110, 122, 121)",
          "rgb(195, 125, 58)",
          "rgb(166, 124, 80)",
          "rgb(239, 126, 26)",
          "rgb(32, 119, 179)",
          "rgb(202, 125, 54)",
          "rgb(224, 126, 37)",
          "rgb(246, 127, 21)",
          "rgb(183, 124, 67)",
          "rgb(227, 126, 35)",
          "rgb(199, 125, 55)",
          "rgb(229, 126, 34)",
          "rgb(234, 126, 29)",
          "rgb(246, 127, 21)",
          "rgb(255, 127, 14)",
          "rgb(252, 127, 16)",
          "rgb(32, 119, 179)",
          "rgb(238, 126, 26)",
          "rgb(241, 126, 24)",
          "rgb(182, 124, 68)",
          "rgb(237, 126, 27)",
          "rgb(176, 124, 73)",
          "rgb(247, 127, 20)",
          "rgb(191, 125, 62)",
          "rgb(34, 119, 178)",
          "rgb(39, 119, 174)",
          "rgb(172, 124, 75)",
          "rgb(244, 127, 22)",
          "rgb(174, 124, 74)",
          "rgb(156, 123, 88)",
          "rgb(237, 126, 27)",
          "rgb(169, 124, 78)",
          "rgb(233, 126, 30)",
          "rgb(178, 124, 71)",
          "rgb(234, 126, 30)",
          "rgb(180, 124, 70)",
          "rgb(31, 119, 180)",
          "rgb(32, 119, 179)",
          "rgb(97, 121, 131)",
          "rgb(187, 125, 64)",
          "rgb(98, 121, 130)",
          "rgb(111, 122, 121)",
          "rgb(195, 125, 58)",
          "rgb(101, 122, 128)",
          "rgb(243, 127, 23)",
          "rgb(182, 124, 68)",
          "rgb(246, 127, 21)",
          "rgb(189, 125, 63)",
          "rgb(31, 119, 180)",
          "rgb(35, 119, 177)",
          "rgb(146, 123, 95)",
          "rgb(229, 126, 33)",
          "rgb(154, 123, 89)",
          "rgb(157, 124, 87)",
          "rgb(230, 126, 33)",
          "rgb(154, 123, 89)",
          "rgb(246, 127, 21)",
          "rgb(246, 127, 21)",
          "rgb(142, 123, 98)",
          "rgb(225, 126, 36)",
          "rgb(136, 123, 102)",
          "rgb(219, 126, 40)",
          "rgb(118, 122, 115)",
          "rgb(209, 125, 48)",
          "rgb(124, 122, 111)",
          "rgb(129, 122, 108)",
          "rgb(213, 126, 45)",
          "rgb(125, 122, 110)"
         ],
         "i": [
          38,
          32,
          44,
          17,
          22,
          18,
          13,
          14,
          2,
          19,
          6,
          3,
          10,
          16,
          21,
          21,
          12,
          12,
          4,
          16,
          8,
          8,
          24,
          8,
          18,
          6,
          5,
          5,
          5,
          4,
          33,
          14,
          33,
          16,
          35,
          34,
          7,
          21,
          19,
          8,
          6,
          7,
          39,
          18,
          39,
          21,
          41,
          40,
          0,
          12,
          14,
          4,
          3,
          0,
          27,
          10,
          27,
          12,
          29,
          28,
          9,
          24,
          26,
          10,
          9,
          9,
          45,
          19,
          45,
          24,
          47,
          46
         ],
         "j": [
          17,
          13,
          22,
          36,
          42,
          17,
          30,
          13,
          3,
          22,
          18,
          10,
          3,
          36,
          42,
          6,
          30,
          3,
          14,
          4,
          2,
          19,
          8,
          24,
          5,
          5,
          16,
          4,
          6,
          5,
          14,
          33,
          34,
          35,
          16,
          35,
          21,
          7,
          7,
          7,
          7,
          8,
          18,
          39,
          40,
          41,
          21,
          41,
          12,
          0,
          0,
          0,
          0,
          4,
          10,
          27,
          28,
          29,
          12,
          29,
          10,
          9,
          9,
          9,
          48,
          24,
          19,
          45,
          46,
          47,
          24,
          47
         ],
         "k": [
          37,
          31,
          43,
          37,
          43,
          38,
          31,
          32,
          1,
          44,
          20,
          11,
          2,
          17,
          22,
          20,
          13,
          11,
          15,
          15,
          1,
          23,
          23,
          2,
          17,
          18,
          17,
          16,
          1,
          1,
          32,
          15,
          15,
          36,
          15,
          15,
          22,
          6,
          22,
          19,
          1,
          1,
          38,
          20,
          20,
          42,
          20,
          20,
          13,
          3,
          13,
          14,
          1,
          1,
          26,
          11,
          11,
          30,
          11,
          11,
          2,
          2,
          25,
          26,
          25,
          48,
          44,
          23,
          23,
          48,
          23,
          23
         ],
         "name": "",
         "type": "mesh3d",
         "x": [
          -49000,
          0,
          3.0002899036735098e-12,
          -34648.19921875,
          -34648.19921875,
          -9.00085995320099e-12,
          34648.19921875,
          49000,
          34648.19921875,
          6.00056983268704e-12,
          -37503,
          -69296.5,
          -90540.203125,
          -98000,
          -90540.203125,
          -69296.5,
          -37503,
          -1.80017008244437e-11,
          37503,
          90540.203125,
          69296.5,
          90540.203125,
          98000,
          69296.5,
          37503,
          9.00085995320099e-12,
          -38046.3984375,
          -73500,
          -103945,
          -127306,
          -141991,
          -147000,
          -141991,
          -127306,
          -103945,
          -73500,
          -38046.3984375,
          -2.70025998089229e-11,
          38046.3984375,
          73500,
          103945,
          127306,
          141991,
          147000,
          141991,
          127306,
          103945,
          73500,
          38046.3984375
         ],
         "y": [
          6.00056983268704e-12,
          0,
          49000,
          34648.19921875,
          -34648.19921875,
          -49000,
          -34648.19921875,
          -1.20010997667341e-11,
          34648.19921875,
          98000,
          90540.203125,
          69296.5,
          37503,
          1.20010997667341e-11,
          -37503,
          -69296.5,
          -90540.203125,
          -98000,
          -90540.203125,
          37503,
          -69296.5,
          -37503,
          -2.400230014742989e-11,
          69296.5,
          90540.203125,
          147000,
          141991,
          127306,
          103945,
          73500,
          38046.3984375,
          1.80017008244437e-11,
          -38046.3984375,
          -73500,
          -103945,
          -127306,
          -141991,
          -147000,
          -141991,
          -127306,
          -103945,
          -73500,
          -38046.3984375,
          -3.600340164888749e-11,
          38046.3984375,
          73500,
          103945,
          127306,
          141991
         ],
         "z": [
          1504.696533203125,
          1468.8997802734375,
          1505.27734375,
          1505.15283203125,
          1506.936767578125,
          1506.2645263671875,
          1504.7637939453125,
          1505.2471923828125,
          1504.8846435546875,
          1530.328125,
          1529.6773681640625,
          1530.372314453125,
          1529.8460693359375,
          1529.6236572265625,
          1530.901611328125,
          1531.086669921875,
          1529.811767578125,
          1529.5235595703125,
          1526.0634765625,
          1528.4490966796875,
          1525.5255126953125,
          1527.997314453125,
          1526.762451171875,
          1528.8497314453125,
          1529.5267333984375,
          1496.013916015625,
          1496.916748046875,
          1498.4178466796875,
          1499.5367431640625,
          1498.5252685546875,
          1501.1566162109375,
          1502.185302734375,
          1502.036865234375,
          1502.702880859375,
          1502.396484375,
          1500.9439697265625,
          1498.1864013671875,
          1497.709716796875,
          1489.33544921875,
          1490.071533203125,
          1490.217041015625,
          1491.2869873046875,
          1491.7159423828125,
          1492.1617431640625,
          1492.204345703125,
          1493.240966796875,
          1493.9720458984375,
          1493.8228759765625,
          1494.7061767578125
         ]
        },
        {
         "line": {
          "color": "rgb(50, 50, 50)",
          "width": 1.5
         },
         "mode": "lines",
         "showlegend": false,
         "type": "scatter3d",
         "x": [
          38046.3984375,
          -1.80017008244437e-11,
          -2.70025998089229e-11,
          38046.3984375,
          null,
          -141991,
          -98000,
          -147000,
          -141991,
          null,
          141991,
          98000,
          147000,
          141991,
          null,
          -1.80017008244437e-11,
          -38046.3984375,
          -2.70025998089229e-11,
          -1.80017008244437e-11,
          null,
          98000,
          141991,
          147000,
          98000,
          null,
          37503,
          -1.80017008244437e-11,
          38046.3984375,
          37503,
          null,
          -98000,
          -141991,
          -147000,
          -98000,
          null,
          -90540.203125,
          -98000,
          -141991,
          -90540.203125,
          null,
          3.0002899036735098e-12,
          -34648.19921875,
          0,
          3.0002899036735098e-12,
          null,
          90540.203125,
          98000,
          141991,
          90540.203125,
          null,
          34648.19921875,
          37503,
          69296.5,
          34648.19921875,
          null,
          -34648.19921875,
          -37503,
          -69296.5,
          -34648.19921875,
          null,
          -37503,
          -34648.19921875,
          3.0002899036735098e-12,
          -37503,
          null,
          -37503,
          -38046.3984375,
          -1.80017008244437e-11,
          -37503,
          null,
          90540.203125,
          141991,
          98000,
          90540.203125,
          null,
          90540.203125,
          34648.19921875,
          69296.5,
          90540.203125,
          null,
          -90540.203125,
          -141991,
          -98000,
          -90540.203125,
          null,
          -90540.203125,
          -34648.19921875,
          -69296.5,
          -90540.203125,
          null,
          -34648.19921875,
          -90540.203125,
          -69296.5,
          -34648.19921875,
          null,
          -37503,
          -34648.19921875,
          -69296.5,
          -37503,
          null,
          34648.19921875,
          3.0002899036735098e-12,
          0,
          34648.19921875,
          null,
          34648.19921875,
          90540.203125,
          69296.5,
          34648.19921875,
          null,
          37503,
          34648.19921875,
          69296.5,
          37503,
          null,
          34648.19921875,
          37503,
          3.0002899036735098e-12,
          34648.19921875,
          null,
          37503,
          -9.00085995320099e-12,
          -1.80017008244437e-11,
          37503,
          null,
          34648.19921875,
          -9.00085995320099e-12,
          37503,
          34648.19921875,
          null,
          -9.00085995320099e-12,
          -37503,
          -1.80017008244437e-11,
          -9.00085995320099e-12,
          null,
          -9.00085995320099e-12,
          -34648.19921875,
          -37503,
          -9.00085995320099e-12,
          null,
          -9.00085995320099e-12,
          34648.19921875,
          0,
          -9.00085995320099e-12,
          null,
          -34648.19921875,
          -9.00085995320099e-12,
          0,
          -34648.19921875,
          null,
          -127306,
          -90540.203125,
          -141991,
          -127306,
          null,
          -90540.203125,
          -127306,
          -69296.5,
          -90540.203125,
          null,
          -127306,
          -103945,
          -69296.5,
          -127306,
          null,
          -37503,
          -73500,
          -38046.3984375,
          -37503,
          null,
          -73500,
          -37503,
          -69296.5,
          -73500,
          null,
          -103945,
          -73500,
          -69296.5,
          -103945,
          null,
          49000,
          90540.203125,
          98000,
          49000,
          null,
          90540.203125,
          49000,
          34648.19921875,
          90540.203125,
          null,
          90540.203125,
          49000,
          98000,
          90540.203125,
          null,
          34648.19921875,
          49000,
          90540.203125,
          34648.19921875,
          null,
          34648.19921875,
          49000,
          0,
          34648.19921875,
          null,
          49000,
          34648.19921875,
          0,
          49000,
          null,
          73500,
          37503,
          38046.3984375,
          73500,
          null,
          37503,
          73500,
          69296.5,
          37503,
          null,
          73500,
          103945,
          69296.5,
          73500,
          null,
          90540.203125,
          127306,
          141991,
          90540.203125,
          null,
          127306,
          90540.203125,
          69296.5,
          127306,
          null,
          103945,
          127306,
          69296.5,
          103945,
          null,
          -49000,
          -90540.203125,
          -98000,
          -49000,
          null,
          -90540.203125,
          -49000,
          -34648.19921875,
          -90540.203125,
          null,
          -90540.203125,
          -49000,
          -98000,
          -90540.203125,
          null,
          -34648.19921875,
          -49000,
          -90540.203125,
          -34648.19921875,
          null,
          -34648.19921875,
          -49000,
          0,
          -34648.19921875,
          null,
          -49000,
          -34648.19921875,
          0,
          -49000,
          null,
          -73500,
          -37503,
          -38046.3984375,
          -73500,
          null,
          -37503,
          -73500,
          -69296.5,
          -37503,
          null,
          -73500,
          -103945,
          -69296.5,
          -73500,
          null,
          -90540.203125,
          -127306,
          -141991,
          -90540.203125,
          null,
          -127306,
          -90540.203125,
          -69296.5,
          -127306,
          null,
          -103945,
          -127306,
          -69296.5,
          -103945,
          null,
          6.00056983268704e-12,
          -37503,
          3.0002899036735098e-12,
          6.00056983268704e-12,
          null,
          37503,
          6.00056983268704e-12,
          3.0002899036735098e-12,
          37503,
          null,
          -38046.3984375,
          6.00056983268704e-12,
          9.00085995320099e-12,
          -38046.3984375,
          null,
          -37503,
          6.00056983268704e-12,
          -38046.3984375,
          -37503,
          null,
          6.00056983268704e-12,
          38046.3984375,
          9.00085995320099e-12,
          6.00056983268704e-12,
          null,
          6.00056983268704e-12,
          37503,
          38046.3984375,
          6.00056983268704e-12,
          null,
          127306,
          90540.203125,
          141991,
          127306,
          null,
          90540.203125,
          127306,
          69296.5,
          90540.203125,
          null,
          127306,
          103945,
          69296.5,
          127306,
          null,
          37503,
          73500,
          38046.3984375,
          37503,
          null,
          73500,
          37503,
          69296.5,
          73500,
          null,
          103945,
          73500,
          69296.5,
          103945,
          null
         ],
         "y": [
          -141991,
          -98000,
          -147000,
          -141991,
          null,
          -38046.3984375,
          1.20010997667341e-11,
          1.80017008244437e-11,
          -38046.3984375,
          null,
          38046.3984375,
          -2.400230014742989e-11,
          -3.600340164888749e-11,
          38046.3984375,
          null,
          -98000,
          -141991,
          -147000,
          -98000,
          null,
          -2.400230014742989e-11,
          -38046.3984375,
          -3.600340164888749e-11,
          -2.400230014742989e-11,
          null,
          -90540.203125,
          -98000,
          -141991,
          -90540.203125,
          null,
          1.20010997667341e-11,
          38046.3984375,
          1.80017008244437e-11,
          1.20010997667341e-11,
          null,
          -37503,
          1.20010997667341e-11,
          -38046.3984375,
          -37503,
          null,
          49000,
          34648.19921875,
          0,
          49000,
          null,
          37503,
          -2.400230014742989e-11,
          38046.3984375,
          37503,
          null,
          -34648.19921875,
          -90540.203125,
          -69296.5,
          -34648.19921875,
          null,
          34648.19921875,
          90540.203125,
          69296.5,
          34648.19921875,
          null,
          90540.203125,
          34648.19921875,
          49000,
          90540.203125,
          null,
          -90540.203125,
          -141991,
          -98000,
          -90540.203125,
          null,
          -37503,
          -38046.3984375,
          -2.400230014742989e-11,
          -37503,
          null,
          -37503,
          -34648.19921875,
          -69296.5,
          -37503,
          null,
          37503,
          38046.3984375,
          1.20010997667341e-11,
          37503,
          null,
          37503,
          34648.19921875,
          69296.5,
          37503,
          null,
          -34648.19921875,
          -37503,
          -69296.5,
          -34648.19921875,
          null,
          -90540.203125,
          -34648.19921875,
          -69296.5,
          -90540.203125,
          null,
          34648.19921875,
          49000,
          0,
          34648.19921875,
          null,
          34648.19921875,
          37503,
          69296.5,
          34648.19921875,
          null,
          90540.203125,
          34648.19921875,
          69296.5,
          90540.203125,
          null,
          34648.19921875,
          90540.203125,
          49000,
          34648.19921875,
          null,
          -90540.203125,
          -49000,
          -98000,
          -90540.203125,
          null,
          -34648.19921875,
          -49000,
          -90540.203125,
          -34648.19921875,
          null,
          -49000,
          -90540.203125,
          -98000,
          -49000,
          null,
          -49000,
          -34648.19921875,
          -90540.203125,
          -49000,
          null,
          -49000,
          -34648.19921875,
          0,
          -49000,
          null,
          -34648.19921875,
          -49000,
          0,
          -34648.19921875,
          null,
          -73500,
          -37503,
          -38046.3984375,
          -73500,
          null,
          -37503,
          -73500,
          -69296.5,
          -37503,
          null,
          -73500,
          -103945,
          -69296.5,
          -73500,
          null,
          -90540.203125,
          -127306,
          -141991,
          -90540.203125,
          null,
          -127306,
          -90540.203125,
          -69296.5,
          -127306,
          null,
          -103945,
          -127306,
          -69296.5,
          -103945,
          null,
          -1.20010997667341e-11,
          -37503,
          -2.400230014742989e-11,
          -1.20010997667341e-11,
          null,
          -37503,
          -1.20010997667341e-11,
          -34648.19921875,
          -37503,
          null,
          37503,
          -1.20010997667341e-11,
          -2.400230014742989e-11,
          37503,
          null,
          34648.19921875,
          -1.20010997667341e-11,
          37503,
          34648.19921875,
          null,
          -34648.19921875,
          -1.20010997667341e-11,
          0,
          -34648.19921875,
          null,
          -1.20010997667341e-11,
          34648.19921875,
          0,
          -1.20010997667341e-11,
          null,
          -127306,
          -90540.203125,
          -141991,
          -127306,
          null,
          -90540.203125,
          -127306,
          -69296.5,
          -90540.203125,
          null,
          -127306,
          -103945,
          -69296.5,
          -127306,
          null,
          -37503,
          -73500,
          -38046.3984375,
          -37503,
          null,
          -73500,
          -37503,
          -69296.5,
          -73500,
          null,
          -103945,
          -73500,
          -69296.5,
          -103945,
          null,
          6.00056983268704e-12,
          37503,
          1.20010997667341e-11,
          6.00056983268704e-12,
          null,
          37503,
          6.00056983268704e-12,
          34648.19921875,
          37503,
          null,
          -37503,
          6.00056983268704e-12,
          1.20010997667341e-11,
          -37503,
          null,
          -34648.19921875,
          6.00056983268704e-12,
          -37503,
          -34648.19921875,
          null,
          34648.19921875,
          6.00056983268704e-12,
          0,
          34648.19921875,
          null,
          6.00056983268704e-12,
          -34648.19921875,
          0,
          6.00056983268704e-12,
          null,
          127306,
          90540.203125,
          141991,
          127306,
          null,
          90540.203125,
          127306,
          69296.5,
          90540.203125,
          null,
          127306,
          103945,
          69296.5,
          127306,
          null,
          37503,
          73500,
          38046.3984375,
          37503,
          null,
          73500,
          37503,
          69296.5,
          73500,
          null,
          103945,
          73500,
          69296.5,
          103945,
          null,
          98000,
          90540.203125,
          49000,
          98000,
          null,
          90540.203125,
          98000,
          49000,
          90540.203125,
          null,
          141991,
          98000,
          147000,
          141991,
          null,
          90540.203125,
          98000,
          141991,
          90540.203125,
          null,
          98000,
          141991,
          147000,
          98000,
          null,
          98000,
          90540.203125,
          141991,
          98000,
          null,
          73500,
          37503,
          38046.3984375,
          73500,
          null,
          37503,
          73500,
          69296.5,
          37503,
          null,
          73500,
          103945,
          69296.5,
          73500,
          null,
          90540.203125,
          127306,
          141991,
          90540.203125,
          null,
          127306,
          90540.203125,
          69296.5,
          127306,
          null,
          103945,
          127306,
          69296.5,
          103945,
          null
         ],
         "z": [
          1489.33544921875,
          1529.5235595703125,
          1497.709716796875,
          1489.33544921875,
          null,
          1502.036865234375,
          1529.6236572265625,
          1502.185302734375,
          1502.036865234375,
          null,
          1492.204345703125,
          1526.762451171875,
          1492.1617431640625,
          1492.204345703125,
          null,
          1529.5235595703125,
          1498.1864013671875,
          1497.709716796875,
          1529.5235595703125,
          null,
          1526.762451171875,
          1491.7159423828125,
          1492.1617431640625,
          1526.762451171875,
          null,
          1526.0634765625,
          1529.5235595703125,
          1489.33544921875,
          1526.0634765625,
          null,
          1529.6236572265625,
          1501.1566162109375,
          1502.185302734375,
          1529.6236572265625,
          null,
          1530.901611328125,
          1529.6236572265625,
          1502.036865234375,
          1530.901611328125,
          null,
          1505.27734375,
          1505.15283203125,
          1468.8997802734375,
          1505.27734375,
          null,
          1528.4490966796875,
          1526.762451171875,
          1492.204345703125,
          1528.4490966796875,
          null,
          1504.7637939453125,
          1526.0634765625,
          1525.5255126953125,
          1504.7637939453125,
          null,
          1505.15283203125,
          1529.6773681640625,
          1530.372314453125,
          1505.15283203125,
          null,
          1529.6773681640625,
          1505.15283203125,
          1505.27734375,
          1529.6773681640625,
          null,
          1529.811767578125,
          1498.1864013671875,
          1529.5235595703125,
          1529.811767578125,
          null,
          1527.997314453125,
          1491.7159423828125,
          1526.762451171875,
          1527.997314453125,
          null,
          1527.997314453125,
          1504.7637939453125,
          1525.5255126953125,
          1527.997314453125,
          null,
          1529.8460693359375,
          1501.1566162109375,
          1529.6236572265625,
          1529.8460693359375,
          null,
          1529.8460693359375,
          1505.15283203125,
          1530.372314453125,
          1529.8460693359375,
          null,
          1506.936767578125,
          1530.901611328125,
          1531.086669921875,
          1506.936767578125,
          null,
          1529.811767578125,
          1506.936767578125,
          1531.086669921875,
          1529.811767578125,
          null,
          1504.8846435546875,
          1505.27734375,
          1468.8997802734375,
          1504.8846435546875,
          null,
          1504.8846435546875,
          1528.4490966796875,
          1528.8497314453125,
          1504.8846435546875,
          null,
          1529.5267333984375,
          1504.8846435546875,
          1528.8497314453125,
          1529.5267333984375,
          null,
          1504.8846435546875,
          1529.5267333984375,
          1505.27734375,
          1504.8846435546875,
          null,
          1526.0634765625,
          1506.2645263671875,
          1529.5235595703125,
          1526.0634765625,
          null,
          1504.7637939453125,
          1506.2645263671875,
          1526.0634765625,
          1504.7637939453125,
          null,
          1506.2645263671875,
          1529.811767578125,
          1529.5235595703125,
          1506.2645263671875,
          null,
          1506.2645263671875,
          1506.936767578125,
          1529.811767578125,
          1506.2645263671875,
          null,
          1506.2645263671875,
          1504.7637939453125,
          1468.8997802734375,
          1506.2645263671875,
          null,
          1506.936767578125,
          1506.2645263671875,
          1468.8997802734375,
          1506.936767578125,
          null,
          1502.702880859375,
          1530.901611328125,
          1502.036865234375,
          1502.702880859375,
          null,
          1530.901611328125,
          1502.702880859375,
          1531.086669921875,
          1530.901611328125,
          null,
          1502.702880859375,
          1502.396484375,
          1531.086669921875,
          1502.702880859375,
          null,
          1529.811767578125,
          1500.9439697265625,
          1498.1864013671875,
          1529.811767578125,
          null,
          1500.9439697265625,
          1529.811767578125,
          1531.086669921875,
          1500.9439697265625,
          null,
          1502.396484375,
          1500.9439697265625,
          1531.086669921875,
          1502.396484375,
          null,
          1505.2471923828125,
          1527.997314453125,
          1526.762451171875,
          1505.2471923828125,
          null,
          1527.997314453125,
          1505.2471923828125,
          1504.7637939453125,
          1527.997314453125,
          null,
          1528.4490966796875,
          1505.2471923828125,
          1526.762451171875,
          1528.4490966796875,
          null,
          1504.8846435546875,
          1505.2471923828125,
          1528.4490966796875,
          1504.8846435546875,
          null,
          1504.7637939453125,
          1505.2471923828125,
          1468.8997802734375,
          1504.7637939453125,
          null,
          1505.2471923828125,
          1504.8846435546875,
          1468.8997802734375,
          1505.2471923828125,
          null,
          1490.071533203125,
          1526.0634765625,
          1489.33544921875,
          1490.071533203125,
          null,
          1526.0634765625,
          1490.071533203125,
          1525.5255126953125,
          1526.0634765625,
          null,
          1490.071533203125,
          1490.217041015625,
          1525.5255126953125,
          1490.071533203125,
          null,
          1527.997314453125,
          1491.2869873046875,
          1491.7159423828125,
          1527.997314453125,
          null,
          1491.2869873046875,
          1527.997314453125,
          1525.5255126953125,
          1491.2869873046875,
          null,
          1490.217041015625,
          1491.2869873046875,
          1525.5255126953125,
          1490.217041015625,
          null,
          1504.696533203125,
          1529.8460693359375,
          1529.6236572265625,
          1504.696533203125,
          null,
          1529.8460693359375,
          1504.696533203125,
          1505.15283203125,
          1529.8460693359375,
          null,
          1530.901611328125,
          1504.696533203125,
          1529.6236572265625,
          1530.901611328125,
          null,
          1506.936767578125,
          1504.696533203125,
          1530.901611328125,
          1506.936767578125,
          null,
          1505.15283203125,
          1504.696533203125,
          1468.8997802734375,
          1505.15283203125,
          null,
          1504.696533203125,
          1506.936767578125,
          1468.8997802734375,
          1504.696533203125,
          null,
          1498.4178466796875,
          1529.6773681640625,
          1496.916748046875,
          1498.4178466796875,
          null,
          1529.6773681640625,
          1498.4178466796875,
          1530.372314453125,
          1529.6773681640625,
          null,
          1498.4178466796875,
          1499.5367431640625,
          1530.372314453125,
          1498.4178466796875,
          null,
          1529.8460693359375,
          1498.5252685546875,
          1501.1566162109375,
          1529.8460693359375,
          null,
          1498.5252685546875,
          1529.8460693359375,
          1530.372314453125,
          1498.5252685546875,
          null,
          1499.5367431640625,
          1498.5252685546875,
          1530.372314453125,
          1499.5367431640625,
          null,
          1530.328125,
          1529.6773681640625,
          1505.27734375,
          1530.328125,
          null,
          1529.5267333984375,
          1530.328125,
          1505.27734375,
          1529.5267333984375,
          null,
          1496.916748046875,
          1530.328125,
          1496.013916015625,
          1496.916748046875,
          null,
          1529.6773681640625,
          1530.328125,
          1496.916748046875,
          1529.6773681640625,
          null,
          1530.328125,
          1494.7061767578125,
          1496.013916015625,
          1530.328125,
          null,
          1530.328125,
          1529.5267333984375,
          1494.7061767578125,
          1530.328125,
          null,
          1493.240966796875,
          1528.4490966796875,
          1492.204345703125,
          1493.240966796875,
          null,
          1528.4490966796875,
          1493.240966796875,
          1528.8497314453125,
          1528.4490966796875,
          null,
          1493.240966796875,
          1493.9720458984375,
          1528.8497314453125,
          1493.240966796875,
          null,
          1529.5267333984375,
          1493.8228759765625,
          1494.7061767578125,
          1529.5267333984375,
          null,
          1493.8228759765625,
          1529.5267333984375,
          1528.8497314453125,
          1493.8228759765625,
          null,
          1493.9720458984375,
          1493.8228759765625,
          1528.8497314453125,
          1493.9720458984375,
          null
         ]
        },
        {
         "hoverinfo": "none",
         "marker": {
          "color": [
           1492.9163818359375,
           1522.9750162760417
          ],
          "colorscale": [
           [
            0,
            "rgb(31, 119, 180)"
           ],
           [
            1,
            "rgb(255, 127, 14)"
           ]
          ],
          "showscale": true,
          "size": 0.1
         },
         "mode": "markers",
         "showlegend": false,
         "type": "scatter3d",
         "x": [
          -49000
         ],
         "y": [
          6.00056983268704e-12
         ],
         "z": [
          1504.696533203125
         ]
        }
       ],
       "layout": {
        "height": 800,
        "scene": {
         "aspectratio": {
          "x": 1,
          "y": 1,
          "z": 0.5
         },
         "xaxis": {
          "backgroundcolor": "rgb(230, 230, 230)",
          "gridcolor": "rgb(255, 255, 255)",
          "showbackground": true,
          "zerolinecolor": "rgb(255, 255, 255)"
         },
         "yaxis": {
          "backgroundcolor": "rgb(230, 230, 230)",
          "gridcolor": "rgb(255, 255, 255)",
          "showbackground": true,
          "zerolinecolor": "rgb(255, 255, 255)"
         },
         "zaxis": {
          "backgroundcolor": "rgb(230, 230, 230)",
          "gridcolor": "rgb(255, 255, 255)",
          "showbackground": true,
          "zerolinecolor": "rgb(255, 255, 255)"
         }
        },
        "template": {
         "data": {
          "bar": [
           {
            "error_x": {
             "color": "#2a3f5f"
            },
            "error_y": {
             "color": "#2a3f5f"
            },
            "marker": {
             "line": {
              "color": "#E5ECF6",
              "width": 0.5
             }
            },
            "type": "bar"
           }
          ],
          "barpolar": [
           {
            "marker": {
             "line": {
              "color": "#E5ECF6",
              "width": 0.5
             }
            },
            "type": "barpolar"
           }
          ],
          "carpet": [
           {
            "aaxis": {
             "endlinecolor": "#2a3f5f",
             "gridcolor": "white",
             "linecolor": "white",
             "minorgridcolor": "white",
             "startlinecolor": "#2a3f5f"
            },
            "baxis": {
             "endlinecolor": "#2a3f5f",
             "gridcolor": "white",
             "linecolor": "white",
             "minorgridcolor": "white",
             "startlinecolor": "#2a3f5f"
            },
            "type": "carpet"
           }
          ],
          "choropleth": [
           {
            "colorbar": {
             "outlinewidth": 0,
             "ticks": ""
            },
            "type": "choropleth"
           }
          ],
          "contour": [
           {
            "colorbar": {
             "outlinewidth": 0,
             "ticks": ""
            },
            "colorscale": [
             [
              0,
              "#0d0887"
             ],
             [
              0.1111111111111111,
              "#46039f"
             ],
             [
              0.2222222222222222,
              "#7201a8"
             ],
             [
              0.3333333333333333,
              "#9c179e"
             ],
             [
              0.4444444444444444,
              "#bd3786"
             ],
             [
              0.5555555555555556,
              "#d8576b"
             ],
             [
              0.6666666666666666,
              "#ed7953"
             ],
             [
              0.7777777777777778,
              "#fb9f3a"
             ],
             [
              0.8888888888888888,
              "#fdca26"
             ],
             [
              1,
              "#f0f921"
             ]
            ],
            "type": "contour"
           }
          ],
          "contourcarpet": [
           {
            "colorbar": {
             "outlinewidth": 0,
             "ticks": ""
            },
            "type": "contourcarpet"
           }
          ],
          "heatmap": [
           {
            "colorbar": {
             "outlinewidth": 0,
             "ticks": ""
            },
            "colorscale": [
             [
              0,
              "#0d0887"
             ],
             [
              0.1111111111111111,
              "#46039f"
             ],
             [
              0.2222222222222222,
              "#7201a8"
             ],
             [
              0.3333333333333333,
              "#9c179e"
             ],
             [
              0.4444444444444444,
              "#bd3786"
             ],
             [
              0.5555555555555556,
              "#d8576b"
             ],
             [
              0.6666666666666666,
              "#ed7953"
             ],
             [
              0.7777777777777778,
              "#fb9f3a"
             ],
             [
              0.8888888888888888,
              "#fdca26"
             ],
             [
              1,
              "#f0f921"
             ]
            ],
            "type": "heatmap"
           }
          ],
          "heatmapgl": [
           {
            "colorbar": {
             "outlinewidth": 0,
             "ticks": ""
            },
            "colorscale": [
             [
              0,
              "#0d0887"
             ],
             [
              0.1111111111111111,
              "#46039f"
             ],
             [
              0.2222222222222222,
              "#7201a8"
             ],
             [
              0.3333333333333333,
              "#9c179e"
             ],
             [
              0.4444444444444444,
              "#bd3786"
             ],
             [
              0.5555555555555556,
              "#d8576b"
             ],
             [
              0.6666666666666666,
              "#ed7953"
             ],
             [
              0.7777777777777778,
              "#fb9f3a"
             ],
             [
              0.8888888888888888,
              "#fdca26"
             ],
             [
              1,
              "#f0f921"
             ]
            ],
            "type": "heatmapgl"
           }
          ],
          "histogram": [
           {
            "marker": {
             "colorbar": {
              "outlinewidth": 0,
              "ticks": ""
             }
            },
            "type": "histogram"
           }
          ],
          "histogram2d": [
           {
            "colorbar": {
             "outlinewidth": 0,
             "ticks": ""
            },
            "colorscale": [
             [
              0,
              "#0d0887"
             ],
             [
              0.1111111111111111,
              "#46039f"
             ],
             [
              0.2222222222222222,
              "#7201a8"
             ],
             [
              0.3333333333333333,
              "#9c179e"
             ],
             [
              0.4444444444444444,
              "#bd3786"
             ],
             [
              0.5555555555555556,
              "#d8576b"
             ],
             [
              0.6666666666666666,
              "#ed7953"
             ],
             [
              0.7777777777777778,
              "#fb9f3a"
             ],
             [
              0.8888888888888888,
              "#fdca26"
             ],
             [
              1,
              "#f0f921"
             ]
            ],
            "type": "histogram2d"
           }
          ],
          "histogram2dcontour": [
           {
            "colorbar": {
             "outlinewidth": 0,
             "ticks": ""
            },
            "colorscale": [
             [
              0,
              "#0d0887"
             ],
             [
              0.1111111111111111,
              "#46039f"
             ],
             [
              0.2222222222222222,
              "#7201a8"
             ],
             [
              0.3333333333333333,
              "#9c179e"
             ],
             [
              0.4444444444444444,
              "#bd3786"
             ],
             [
              0.5555555555555556,
              "#d8576b"
             ],
             [
              0.6666666666666666,
              "#ed7953"
             ],
             [
              0.7777777777777778,
              "#fb9f3a"
             ],
             [
              0.8888888888888888,
              "#fdca26"
             ],
             [
              1,
              "#f0f921"
             ]
            ],
            "type": "histogram2dcontour"
           }
          ],
          "mesh3d": [
           {
            "colorbar": {
             "outlinewidth": 0,
             "ticks": ""
            },
            "type": "mesh3d"
           }
          ],
          "parcoords": [
           {
            "line": {
             "colorbar": {
              "outlinewidth": 0,
              "ticks": ""
             }
            },
            "type": "parcoords"
           }
          ],
          "pie": [
           {
            "automargin": true,
            "type": "pie"
           }
          ],
          "scatter": [
           {
            "marker": {
             "colorbar": {
              "outlinewidth": 0,
              "ticks": ""
             }
            },
            "type": "scatter"
           }
          ],
          "scatter3d": [
           {
            "line": {
             "colorbar": {
              "outlinewidth": 0,
              "ticks": ""
             }
            },
            "marker": {
             "colorbar": {
              "outlinewidth": 0,
              "ticks": ""
             }
            },
            "type": "scatter3d"
           }
          ],
          "scattercarpet": [
           {
            "marker": {
             "colorbar": {
              "outlinewidth": 0,
              "ticks": ""
             }
            },
            "type": "scattercarpet"
           }
          ],
          "scattergeo": [
           {
            "marker": {
             "colorbar": {
              "outlinewidth": 0,
              "ticks": ""
             }
            },
            "type": "scattergeo"
           }
          ],
          "scattergl": [
           {
            "marker": {
             "colorbar": {
              "outlinewidth": 0,
              "ticks": ""
             }
            },
            "type": "scattergl"
           }
          ],
          "scattermapbox": [
           {
            "marker": {
             "colorbar": {
              "outlinewidth": 0,
              "ticks": ""
             }
            },
            "type": "scattermapbox"
           }
          ],
          "scatterpolar": [
           {
            "marker": {
             "colorbar": {
              "outlinewidth": 0,
              "ticks": ""
             }
            },
            "type": "scatterpolar"
           }
          ],
          "scatterpolargl": [
           {
            "marker": {
             "colorbar": {
              "outlinewidth": 0,
              "ticks": ""
             }
            },
            "type": "scatterpolargl"
           }
          ],
          "scatterternary": [
           {
            "marker": {
             "colorbar": {
              "outlinewidth": 0,
              "ticks": ""
             }
            },
            "type": "scatterternary"
           }
          ],
          "surface": [
           {
            "colorbar": {
             "outlinewidth": 0,
             "ticks": ""
            },
            "colorscale": [
             [
              0,
              "#0d0887"
             ],
             [
              0.1111111111111111,
              "#46039f"
             ],
             [
              0.2222222222222222,
              "#7201a8"
             ],
             [
              0.3333333333333333,
              "#9c179e"
             ],
             [
              0.4444444444444444,
              "#bd3786"
             ],
             [
              0.5555555555555556,
              "#d8576b"
             ],
             [
              0.6666666666666666,
              "#ed7953"
             ],
             [
              0.7777777777777778,
              "#fb9f3a"
             ],
             [
              0.8888888888888888,
              "#fdca26"
             ],
             [
              1,
              "#f0f921"
             ]
            ],
            "type": "surface"
           }
          ],
          "table": [
           {
            "cells": {
             "fill": {
              "color": "#EBF0F8"
             },
             "line": {
              "color": "white"
             }
            },
            "header": {
             "fill": {
              "color": "#C8D4E3"
             },
             "line": {
              "color": "white"
             }
            },
            "type": "table"
           }
          ]
         },
         "layout": {
          "annotationdefaults": {
           "arrowcolor": "#2a3f5f",
           "arrowhead": 0,
           "arrowwidth": 1
          },
          "coloraxis": {
           "colorbar": {
            "outlinewidth": 0,
            "ticks": ""
           }
          },
          "colorscale": {
           "diverging": [
            [
             0,
             "#8e0152"
            ],
            [
             0.1,
             "#c51b7d"
            ],
            [
             0.2,
             "#de77ae"
            ],
            [
             0.3,
             "#f1b6da"
            ],
            [
             0.4,
             "#fde0ef"
            ],
            [
             0.5,
             "#f7f7f7"
            ],
            [
             0.6,
             "#e6f5d0"
            ],
            [
             0.7,
             "#b8e186"
            ],
            [
             0.8,
             "#7fbc41"
            ],
            [
             0.9,
             "#4d9221"
            ],
            [
             1,
             "#276419"
            ]
           ],
           "sequential": [
            [
             0,
             "#0d0887"
            ],
            [
             0.1111111111111111,
             "#46039f"
            ],
            [
             0.2222222222222222,
             "#7201a8"
            ],
            [
             0.3333333333333333,
             "#9c179e"
            ],
            [
             0.4444444444444444,
             "#bd3786"
            ],
            [
             0.5555555555555556,
             "#d8576b"
            ],
            [
             0.6666666666666666,
             "#ed7953"
            ],
            [
             0.7777777777777778,
             "#fb9f3a"
            ],
            [
             0.8888888888888888,
             "#fdca26"
            ],
            [
             1,
             "#f0f921"
            ]
           ],
           "sequentialminus": [
            [
             0,
             "#0d0887"
            ],
            [
             0.1111111111111111,
             "#46039f"
            ],
            [
             0.2222222222222222,
             "#7201a8"
            ],
            [
             0.3333333333333333,
             "#9c179e"
            ],
            [
             0.4444444444444444,
             "#bd3786"
            ],
            [
             0.5555555555555556,
             "#d8576b"
            ],
            [
             0.6666666666666666,
             "#ed7953"
            ],
            [
             0.7777777777777778,
             "#fb9f3a"
            ],
            [
             0.8888888888888888,
             "#fdca26"
            ],
            [
             1,
             "#f0f921"
            ]
           ]
          },
          "colorway": [
           "#636efa",
           "#EF553B",
           "#00cc96",
           "#ab63fa",
           "#FFA15A",
           "#19d3f3",
           "#FF6692",
           "#B6E880",
           "#FF97FF",
           "#FECB52"
          ],
          "font": {
           "color": "#2a3f5f"
          },
          "geo": {
           "bgcolor": "white",
           "lakecolor": "white",
           "landcolor": "#E5ECF6",
           "showlakes": true,
           "showland": true,
           "subunitcolor": "white"
          },
          "hoverlabel": {
           "align": "left"
          },
          "hovermode": "closest",
          "mapbox": {
           "style": "light"
          },
          "paper_bgcolor": "white",
          "plot_bgcolor": "#E5ECF6",
          "polar": {
           "angularaxis": {
            "gridcolor": "white",
            "linecolor": "white",
            "ticks": ""
           },
           "bgcolor": "#E5ECF6",
           "radialaxis": {
            "gridcolor": "white",
            "linecolor": "white",
            "ticks": ""
           }
          },
          "scene": {
           "xaxis": {
            "backgroundcolor": "#E5ECF6",
            "gridcolor": "white",
            "gridwidth": 2,
            "linecolor": "white",
            "showbackground": true,
            "ticks": "",
            "zerolinecolor": "white"
           },
           "yaxis": {
            "backgroundcolor": "#E5ECF6",
            "gridcolor": "white",
            "gridwidth": 2,
            "linecolor": "white",
            "showbackground": true,
            "ticks": "",
            "zerolinecolor": "white"
           },
           "zaxis": {
            "backgroundcolor": "#E5ECF6",
            "gridcolor": "white",
            "gridwidth": 2,
            "linecolor": "white",
            "showbackground": true,
            "ticks": "",
            "zerolinecolor": "white"
           }
          },
          "shapedefaults": {
           "line": {
            "color": "#2a3f5f"
           }
          },
          "ternary": {
           "aaxis": {
            "gridcolor": "white",
            "linecolor": "white",
            "ticks": ""
           },
           "baxis": {
            "gridcolor": "white",
            "linecolor": "white",
            "ticks": ""
           },
           "bgcolor": "#E5ECF6",
           "caxis": {
            "gridcolor": "white",
            "linecolor": "white",
            "ticks": ""
           }
          },
          "title": {
           "x": 0.05
          },
          "xaxis": {
           "automargin": true,
           "gridcolor": "white",
           "linecolor": "white",
           "ticks": "",
           "title": {
            "standoff": 15
           },
           "zerolinecolor": "white",
           "zerolinewidth": 2
          },
          "yaxis": {
           "automargin": true,
           "gridcolor": "white",
           "linecolor": "white",
           "ticks": "",
           "title": {
            "standoff": 15
           },
           "zerolinecolor": "white",
           "zerolinewidth": 2
          }
         }
        },
        "title": {
         "text": "wafare"
        },
        "width": 800
       }
      },
      "text/html": [
       "<div>\n",
       "        \n",
       "        \n",
       "            <div id=\"7bfce5c2-2336-4a5c-b1ad-58d63773e1bc\" class=\"plotly-graph-div\" style=\"height:800px; width:800px;\"></div>\n",
       "            <script type=\"text/javascript\">\n",
       "                require([\"plotly\"], function(Plotly) {\n",
       "                    window.PLOTLYENV=window.PLOTLYENV || {};\n",
       "                    \n",
       "                if (document.getElementById(\"7bfce5c2-2336-4a5c-b1ad-58d63773e1bc\")) {\n",
       "                    Plotly.newPlot(\n",
       "                        '7bfce5c2-2336-4a5c-b1ad-58d63773e1bc',\n",
       "                        [{\"facecolor\": [\"rgb(125, 122, 110)\", \"rgb(168, 124, 79)\", \"rgb(111, 122, 120)\", \"rgb(147, 123, 94)\", \"rgb(110, 122, 121)\", \"rgb(195, 125, 58)\", \"rgb(166, 124, 80)\", \"rgb(239, 126, 26)\", \"rgb(32, 119, 179)\", \"rgb(202, 125, 54)\", \"rgb(224, 126, 37)\", \"rgb(246, 127, 21)\", \"rgb(183, 124, 67)\", \"rgb(227, 126, 35)\", \"rgb(199, 125, 55)\", \"rgb(229, 126, 34)\", \"rgb(234, 126, 29)\", \"rgb(246, 127, 21)\", \"rgb(255, 127, 14)\", \"rgb(252, 127, 16)\", \"rgb(32, 119, 179)\", \"rgb(238, 126, 26)\", \"rgb(241, 126, 24)\", \"rgb(182, 124, 68)\", \"rgb(237, 126, 27)\", \"rgb(176, 124, 73)\", \"rgb(247, 127, 20)\", \"rgb(191, 125, 62)\", \"rgb(34, 119, 178)\", \"rgb(39, 119, 174)\", \"rgb(172, 124, 75)\", \"rgb(244, 127, 22)\", \"rgb(174, 124, 74)\", \"rgb(156, 123, 88)\", \"rgb(237, 126, 27)\", \"rgb(169, 124, 78)\", \"rgb(233, 126, 30)\", \"rgb(178, 124, 71)\", \"rgb(234, 126, 30)\", \"rgb(180, 124, 70)\", \"rgb(31, 119, 180)\", \"rgb(32, 119, 179)\", \"rgb(97, 121, 131)\", \"rgb(187, 125, 64)\", \"rgb(98, 121, 130)\", \"rgb(111, 122, 121)\", \"rgb(195, 125, 58)\", \"rgb(101, 122, 128)\", \"rgb(243, 127, 23)\", \"rgb(182, 124, 68)\", \"rgb(246, 127, 21)\", \"rgb(189, 125, 63)\", \"rgb(31, 119, 180)\", \"rgb(35, 119, 177)\", \"rgb(146, 123, 95)\", \"rgb(229, 126, 33)\", \"rgb(154, 123, 89)\", \"rgb(157, 124, 87)\", \"rgb(230, 126, 33)\", \"rgb(154, 123, 89)\", \"rgb(246, 127, 21)\", \"rgb(246, 127, 21)\", \"rgb(142, 123, 98)\", \"rgb(225, 126, 36)\", \"rgb(136, 123, 102)\", \"rgb(219, 126, 40)\", \"rgb(118, 122, 115)\", \"rgb(209, 125, 48)\", \"rgb(124, 122, 111)\", \"rgb(129, 122, 108)\", \"rgb(213, 126, 45)\", \"rgb(125, 122, 110)\"], \"i\": [38, 32, 44, 17, 22, 18, 13, 14, 2, 19, 6, 3, 10, 16, 21, 21, 12, 12, 4, 16, 8, 8, 24, 8, 18, 6, 5, 5, 5, 4, 33, 14, 33, 16, 35, 34, 7, 21, 19, 8, 6, 7, 39, 18, 39, 21, 41, 40, 0, 12, 14, 4, 3, 0, 27, 10, 27, 12, 29, 28, 9, 24, 26, 10, 9, 9, 45, 19, 45, 24, 47, 46], \"j\": [17, 13, 22, 36, 42, 17, 30, 13, 3, 22, 18, 10, 3, 36, 42, 6, 30, 3, 14, 4, 2, 19, 8, 24, 5, 5, 16, 4, 6, 5, 14, 33, 34, 35, 16, 35, 21, 7, 7, 7, 7, 8, 18, 39, 40, 41, 21, 41, 12, 0, 0, 0, 0, 4, 10, 27, 28, 29, 12, 29, 10, 9, 9, 9, 48, 24, 19, 45, 46, 47, 24, 47], \"k\": [37, 31, 43, 37, 43, 38, 31, 32, 1, 44, 20, 11, 2, 17, 22, 20, 13, 11, 15, 15, 1, 23, 23, 2, 17, 18, 17, 16, 1, 1, 32, 15, 15, 36, 15, 15, 22, 6, 22, 19, 1, 1, 38, 20, 20, 42, 20, 20, 13, 3, 13, 14, 1, 1, 26, 11, 11, 30, 11, 11, 2, 2, 25, 26, 25, 48, 44, 23, 23, 48, 23, 23], \"name\": \"\", \"type\": \"mesh3d\", \"x\": [-49000.0, 0.0, 3.0002899036735098e-12, -34648.19921875, -34648.19921875, -9.00085995320099e-12, 34648.19921875, 49000.0, 34648.19921875, 6.00056983268704e-12, -37503.0, -69296.5, -90540.203125, -98000.0, -90540.203125, -69296.5, -37503.0, -1.80017008244437e-11, 37503.0, 90540.203125, 69296.5, 90540.203125, 98000.0, 69296.5, 37503.0, 9.00085995320099e-12, -38046.3984375, -73500.0, -103945.0, -127306.0, -141991.0, -147000.0, -141991.0, -127306.0, -103945.0, -73500.0, -38046.3984375, -2.70025998089229e-11, 38046.3984375, 73500.0, 103945.0, 127306.0, 141991.0, 147000.0, 141991.0, 127306.0, 103945.0, 73500.0, 38046.3984375], \"y\": [6.00056983268704e-12, 0.0, 49000.0, 34648.19921875, -34648.19921875, -49000.0, -34648.19921875, -1.20010997667341e-11, 34648.19921875, 98000.0, 90540.203125, 69296.5, 37503.0, 1.20010997667341e-11, -37503.0, -69296.5, -90540.203125, -98000.0, -90540.203125, 37503.0, -69296.5, -37503.0, -2.400230014742989e-11, 69296.5, 90540.203125, 147000.0, 141991.0, 127306.0, 103945.0, 73500.0, 38046.3984375, 1.80017008244437e-11, -38046.3984375, -73500.0, -103945.0, -127306.0, -141991.0, -147000.0, -141991.0, -127306.0, -103945.0, -73500.0, -38046.3984375, -3.600340164888749e-11, 38046.3984375, 73500.0, 103945.0, 127306.0, 141991.0], \"z\": [1504.696533203125, 1468.8997802734375, 1505.27734375, 1505.15283203125, 1506.936767578125, 1506.2645263671875, 1504.7637939453125, 1505.2471923828125, 1504.8846435546875, 1530.328125, 1529.6773681640625, 1530.372314453125, 1529.8460693359375, 1529.6236572265625, 1530.901611328125, 1531.086669921875, 1529.811767578125, 1529.5235595703125, 1526.0634765625, 1528.4490966796875, 1525.5255126953125, 1527.997314453125, 1526.762451171875, 1528.8497314453125, 1529.5267333984375, 1496.013916015625, 1496.916748046875, 1498.4178466796875, 1499.5367431640625, 1498.5252685546875, 1501.1566162109375, 1502.185302734375, 1502.036865234375, 1502.702880859375, 1502.396484375, 1500.9439697265625, 1498.1864013671875, 1497.709716796875, 1489.33544921875, 1490.071533203125, 1490.217041015625, 1491.2869873046875, 1491.7159423828125, 1492.1617431640625, 1492.204345703125, 1493.240966796875, 1493.9720458984375, 1493.8228759765625, 1494.7061767578125]}, {\"line\": {\"color\": \"rgb(50, 50, 50)\", \"width\": 1.5}, \"mode\": \"lines\", \"showlegend\": false, \"type\": \"scatter3d\", \"x\": [38046.3984375, -1.80017008244437e-11, -2.70025998089229e-11, 38046.3984375, null, -141991.0, -98000.0, -147000.0, -141991.0, null, 141991.0, 98000.0, 147000.0, 141991.0, null, -1.80017008244437e-11, -38046.3984375, -2.70025998089229e-11, -1.80017008244437e-11, null, 98000.0, 141991.0, 147000.0, 98000.0, null, 37503.0, -1.80017008244437e-11, 38046.3984375, 37503.0, null, -98000.0, -141991.0, -147000.0, -98000.0, null, -90540.203125, -98000.0, -141991.0, -90540.203125, null, 3.0002899036735098e-12, -34648.19921875, 0.0, 3.0002899036735098e-12, null, 90540.203125, 98000.0, 141991.0, 90540.203125, null, 34648.19921875, 37503.0, 69296.5, 34648.19921875, null, -34648.19921875, -37503.0, -69296.5, -34648.19921875, null, -37503.0, -34648.19921875, 3.0002899036735098e-12, -37503.0, null, -37503.0, -38046.3984375, -1.80017008244437e-11, -37503.0, null, 90540.203125, 141991.0, 98000.0, 90540.203125, null, 90540.203125, 34648.19921875, 69296.5, 90540.203125, null, -90540.203125, -141991.0, -98000.0, -90540.203125, null, -90540.203125, -34648.19921875, -69296.5, -90540.203125, null, -34648.19921875, -90540.203125, -69296.5, -34648.19921875, null, -37503.0, -34648.19921875, -69296.5, -37503.0, null, 34648.19921875, 3.0002899036735098e-12, 0.0, 34648.19921875, null, 34648.19921875, 90540.203125, 69296.5, 34648.19921875, null, 37503.0, 34648.19921875, 69296.5, 37503.0, null, 34648.19921875, 37503.0, 3.0002899036735098e-12, 34648.19921875, null, 37503.0, -9.00085995320099e-12, -1.80017008244437e-11, 37503.0, null, 34648.19921875, -9.00085995320099e-12, 37503.0, 34648.19921875, null, -9.00085995320099e-12, -37503.0, -1.80017008244437e-11, -9.00085995320099e-12, null, -9.00085995320099e-12, -34648.19921875, -37503.0, -9.00085995320099e-12, null, -9.00085995320099e-12, 34648.19921875, 0.0, -9.00085995320099e-12, null, -34648.19921875, -9.00085995320099e-12, 0.0, -34648.19921875, null, -127306.0, -90540.203125, -141991.0, -127306.0, null, -90540.203125, -127306.0, -69296.5, -90540.203125, null, -127306.0, -103945.0, -69296.5, -127306.0, null, -37503.0, -73500.0, -38046.3984375, -37503.0, null, -73500.0, -37503.0, -69296.5, -73500.0, null, -103945.0, -73500.0, -69296.5, -103945.0, null, 49000.0, 90540.203125, 98000.0, 49000.0, null, 90540.203125, 49000.0, 34648.19921875, 90540.203125, null, 90540.203125, 49000.0, 98000.0, 90540.203125, null, 34648.19921875, 49000.0, 90540.203125, 34648.19921875, null, 34648.19921875, 49000.0, 0.0, 34648.19921875, null, 49000.0, 34648.19921875, 0.0, 49000.0, null, 73500.0, 37503.0, 38046.3984375, 73500.0, null, 37503.0, 73500.0, 69296.5, 37503.0, null, 73500.0, 103945.0, 69296.5, 73500.0, null, 90540.203125, 127306.0, 141991.0, 90540.203125, null, 127306.0, 90540.203125, 69296.5, 127306.0, null, 103945.0, 127306.0, 69296.5, 103945.0, null, -49000.0, -90540.203125, -98000.0, -49000.0, null, -90540.203125, -49000.0, -34648.19921875, -90540.203125, null, -90540.203125, -49000.0, -98000.0, -90540.203125, null, -34648.19921875, -49000.0, -90540.203125, -34648.19921875, null, -34648.19921875, -49000.0, 0.0, -34648.19921875, null, -49000.0, -34648.19921875, 0.0, -49000.0, null, -73500.0, -37503.0, -38046.3984375, -73500.0, null, -37503.0, -73500.0, -69296.5, -37503.0, null, -73500.0, -103945.0, -69296.5, -73500.0, null, -90540.203125, -127306.0, -141991.0, -90540.203125, null, -127306.0, -90540.203125, -69296.5, -127306.0, null, -103945.0, -127306.0, -69296.5, -103945.0, null, 6.00056983268704e-12, -37503.0, 3.0002899036735098e-12, 6.00056983268704e-12, null, 37503.0, 6.00056983268704e-12, 3.0002899036735098e-12, 37503.0, null, -38046.3984375, 6.00056983268704e-12, 9.00085995320099e-12, -38046.3984375, null, -37503.0, 6.00056983268704e-12, -38046.3984375, -37503.0, null, 6.00056983268704e-12, 38046.3984375, 9.00085995320099e-12, 6.00056983268704e-12, null, 6.00056983268704e-12, 37503.0, 38046.3984375, 6.00056983268704e-12, null, 127306.0, 90540.203125, 141991.0, 127306.0, null, 90540.203125, 127306.0, 69296.5, 90540.203125, null, 127306.0, 103945.0, 69296.5, 127306.0, null, 37503.0, 73500.0, 38046.3984375, 37503.0, null, 73500.0, 37503.0, 69296.5, 73500.0, null, 103945.0, 73500.0, 69296.5, 103945.0, null], \"y\": [-141991.0, -98000.0, -147000.0, -141991.0, null, -38046.3984375, 1.20010997667341e-11, 1.80017008244437e-11, -38046.3984375, null, 38046.3984375, -2.400230014742989e-11, -3.600340164888749e-11, 38046.3984375, null, -98000.0, -141991.0, -147000.0, -98000.0, null, -2.400230014742989e-11, -38046.3984375, -3.600340164888749e-11, -2.400230014742989e-11, null, -90540.203125, -98000.0, -141991.0, -90540.203125, null, 1.20010997667341e-11, 38046.3984375, 1.80017008244437e-11, 1.20010997667341e-11, null, -37503.0, 1.20010997667341e-11, -38046.3984375, -37503.0, null, 49000.0, 34648.19921875, 0.0, 49000.0, null, 37503.0, -2.400230014742989e-11, 38046.3984375, 37503.0, null, -34648.19921875, -90540.203125, -69296.5, -34648.19921875, null, 34648.19921875, 90540.203125, 69296.5, 34648.19921875, null, 90540.203125, 34648.19921875, 49000.0, 90540.203125, null, -90540.203125, -141991.0, -98000.0, -90540.203125, null, -37503.0, -38046.3984375, -2.400230014742989e-11, -37503.0, null, -37503.0, -34648.19921875, -69296.5, -37503.0, null, 37503.0, 38046.3984375, 1.20010997667341e-11, 37503.0, null, 37503.0, 34648.19921875, 69296.5, 37503.0, null, -34648.19921875, -37503.0, -69296.5, -34648.19921875, null, -90540.203125, -34648.19921875, -69296.5, -90540.203125, null, 34648.19921875, 49000.0, 0.0, 34648.19921875, null, 34648.19921875, 37503.0, 69296.5, 34648.19921875, null, 90540.203125, 34648.19921875, 69296.5, 90540.203125, null, 34648.19921875, 90540.203125, 49000.0, 34648.19921875, null, -90540.203125, -49000.0, -98000.0, -90540.203125, null, -34648.19921875, -49000.0, -90540.203125, -34648.19921875, null, -49000.0, -90540.203125, -98000.0, -49000.0, null, -49000.0, -34648.19921875, -90540.203125, -49000.0, null, -49000.0, -34648.19921875, 0.0, -49000.0, null, -34648.19921875, -49000.0, 0.0, -34648.19921875, null, -73500.0, -37503.0, -38046.3984375, -73500.0, null, -37503.0, -73500.0, -69296.5, -37503.0, null, -73500.0, -103945.0, -69296.5, -73500.0, null, -90540.203125, -127306.0, -141991.0, -90540.203125, null, -127306.0, -90540.203125, -69296.5, -127306.0, null, -103945.0, -127306.0, -69296.5, -103945.0, null, -1.20010997667341e-11, -37503.0, -2.400230014742989e-11, -1.20010997667341e-11, null, -37503.0, -1.20010997667341e-11, -34648.19921875, -37503.0, null, 37503.0, -1.20010997667341e-11, -2.400230014742989e-11, 37503.0, null, 34648.19921875, -1.20010997667341e-11, 37503.0, 34648.19921875, null, -34648.19921875, -1.20010997667341e-11, 0.0, -34648.19921875, null, -1.20010997667341e-11, 34648.19921875, 0.0, -1.20010997667341e-11, null, -127306.0, -90540.203125, -141991.0, -127306.0, null, -90540.203125, -127306.0, -69296.5, -90540.203125, null, -127306.0, -103945.0, -69296.5, -127306.0, null, -37503.0, -73500.0, -38046.3984375, -37503.0, null, -73500.0, -37503.0, -69296.5, -73500.0, null, -103945.0, -73500.0, -69296.5, -103945.0, null, 6.00056983268704e-12, 37503.0, 1.20010997667341e-11, 6.00056983268704e-12, null, 37503.0, 6.00056983268704e-12, 34648.19921875, 37503.0, null, -37503.0, 6.00056983268704e-12, 1.20010997667341e-11, -37503.0, null, -34648.19921875, 6.00056983268704e-12, -37503.0, -34648.19921875, null, 34648.19921875, 6.00056983268704e-12, 0.0, 34648.19921875, null, 6.00056983268704e-12, -34648.19921875, 0.0, 6.00056983268704e-12, null, 127306.0, 90540.203125, 141991.0, 127306.0, null, 90540.203125, 127306.0, 69296.5, 90540.203125, null, 127306.0, 103945.0, 69296.5, 127306.0, null, 37503.0, 73500.0, 38046.3984375, 37503.0, null, 73500.0, 37503.0, 69296.5, 73500.0, null, 103945.0, 73500.0, 69296.5, 103945.0, null, 98000.0, 90540.203125, 49000.0, 98000.0, null, 90540.203125, 98000.0, 49000.0, 90540.203125, null, 141991.0, 98000.0, 147000.0, 141991.0, null, 90540.203125, 98000.0, 141991.0, 90540.203125, null, 98000.0, 141991.0, 147000.0, 98000.0, null, 98000.0, 90540.203125, 141991.0, 98000.0, null, 73500.0, 37503.0, 38046.3984375, 73500.0, null, 37503.0, 73500.0, 69296.5, 37503.0, null, 73500.0, 103945.0, 69296.5, 73500.0, null, 90540.203125, 127306.0, 141991.0, 90540.203125, null, 127306.0, 90540.203125, 69296.5, 127306.0, null, 103945.0, 127306.0, 69296.5, 103945.0, null], \"z\": [1489.33544921875, 1529.5235595703125, 1497.709716796875, 1489.33544921875, null, 1502.036865234375, 1529.6236572265625, 1502.185302734375, 1502.036865234375, null, 1492.204345703125, 1526.762451171875, 1492.1617431640625, 1492.204345703125, null, 1529.5235595703125, 1498.1864013671875, 1497.709716796875, 1529.5235595703125, null, 1526.762451171875, 1491.7159423828125, 1492.1617431640625, 1526.762451171875, null, 1526.0634765625, 1529.5235595703125, 1489.33544921875, 1526.0634765625, null, 1529.6236572265625, 1501.1566162109375, 1502.185302734375, 1529.6236572265625, null, 1530.901611328125, 1529.6236572265625, 1502.036865234375, 1530.901611328125, null, 1505.27734375, 1505.15283203125, 1468.8997802734375, 1505.27734375, null, 1528.4490966796875, 1526.762451171875, 1492.204345703125, 1528.4490966796875, null, 1504.7637939453125, 1526.0634765625, 1525.5255126953125, 1504.7637939453125, null, 1505.15283203125, 1529.6773681640625, 1530.372314453125, 1505.15283203125, null, 1529.6773681640625, 1505.15283203125, 1505.27734375, 1529.6773681640625, null, 1529.811767578125, 1498.1864013671875, 1529.5235595703125, 1529.811767578125, null, 1527.997314453125, 1491.7159423828125, 1526.762451171875, 1527.997314453125, null, 1527.997314453125, 1504.7637939453125, 1525.5255126953125, 1527.997314453125, null, 1529.8460693359375, 1501.1566162109375, 1529.6236572265625, 1529.8460693359375, null, 1529.8460693359375, 1505.15283203125, 1530.372314453125, 1529.8460693359375, null, 1506.936767578125, 1530.901611328125, 1531.086669921875, 1506.936767578125, null, 1529.811767578125, 1506.936767578125, 1531.086669921875, 1529.811767578125, null, 1504.8846435546875, 1505.27734375, 1468.8997802734375, 1504.8846435546875, null, 1504.8846435546875, 1528.4490966796875, 1528.8497314453125, 1504.8846435546875, null, 1529.5267333984375, 1504.8846435546875, 1528.8497314453125, 1529.5267333984375, null, 1504.8846435546875, 1529.5267333984375, 1505.27734375, 1504.8846435546875, null, 1526.0634765625, 1506.2645263671875, 1529.5235595703125, 1526.0634765625, null, 1504.7637939453125, 1506.2645263671875, 1526.0634765625, 1504.7637939453125, null, 1506.2645263671875, 1529.811767578125, 1529.5235595703125, 1506.2645263671875, null, 1506.2645263671875, 1506.936767578125, 1529.811767578125, 1506.2645263671875, null, 1506.2645263671875, 1504.7637939453125, 1468.8997802734375, 1506.2645263671875, null, 1506.936767578125, 1506.2645263671875, 1468.8997802734375, 1506.936767578125, null, 1502.702880859375, 1530.901611328125, 1502.036865234375, 1502.702880859375, null, 1530.901611328125, 1502.702880859375, 1531.086669921875, 1530.901611328125, null, 1502.702880859375, 1502.396484375, 1531.086669921875, 1502.702880859375, null, 1529.811767578125, 1500.9439697265625, 1498.1864013671875, 1529.811767578125, null, 1500.9439697265625, 1529.811767578125, 1531.086669921875, 1500.9439697265625, null, 1502.396484375, 1500.9439697265625, 1531.086669921875, 1502.396484375, null, 1505.2471923828125, 1527.997314453125, 1526.762451171875, 1505.2471923828125, null, 1527.997314453125, 1505.2471923828125, 1504.7637939453125, 1527.997314453125, null, 1528.4490966796875, 1505.2471923828125, 1526.762451171875, 1528.4490966796875, null, 1504.8846435546875, 1505.2471923828125, 1528.4490966796875, 1504.8846435546875, null, 1504.7637939453125, 1505.2471923828125, 1468.8997802734375, 1504.7637939453125, null, 1505.2471923828125, 1504.8846435546875, 1468.8997802734375, 1505.2471923828125, null, 1490.071533203125, 1526.0634765625, 1489.33544921875, 1490.071533203125, null, 1526.0634765625, 1490.071533203125, 1525.5255126953125, 1526.0634765625, null, 1490.071533203125, 1490.217041015625, 1525.5255126953125, 1490.071533203125, null, 1527.997314453125, 1491.2869873046875, 1491.7159423828125, 1527.997314453125, null, 1491.2869873046875, 1527.997314453125, 1525.5255126953125, 1491.2869873046875, null, 1490.217041015625, 1491.2869873046875, 1525.5255126953125, 1490.217041015625, null, 1504.696533203125, 1529.8460693359375, 1529.6236572265625, 1504.696533203125, null, 1529.8460693359375, 1504.696533203125, 1505.15283203125, 1529.8460693359375, null, 1530.901611328125, 1504.696533203125, 1529.6236572265625, 1530.901611328125, null, 1506.936767578125, 1504.696533203125, 1530.901611328125, 1506.936767578125, null, 1505.15283203125, 1504.696533203125, 1468.8997802734375, 1505.15283203125, null, 1504.696533203125, 1506.936767578125, 1468.8997802734375, 1504.696533203125, null, 1498.4178466796875, 1529.6773681640625, 1496.916748046875, 1498.4178466796875, null, 1529.6773681640625, 1498.4178466796875, 1530.372314453125, 1529.6773681640625, null, 1498.4178466796875, 1499.5367431640625, 1530.372314453125, 1498.4178466796875, null, 1529.8460693359375, 1498.5252685546875, 1501.1566162109375, 1529.8460693359375, null, 1498.5252685546875, 1529.8460693359375, 1530.372314453125, 1498.5252685546875, null, 1499.5367431640625, 1498.5252685546875, 1530.372314453125, 1499.5367431640625, null, 1530.328125, 1529.6773681640625, 1505.27734375, 1530.328125, null, 1529.5267333984375, 1530.328125, 1505.27734375, 1529.5267333984375, null, 1496.916748046875, 1530.328125, 1496.013916015625, 1496.916748046875, null, 1529.6773681640625, 1530.328125, 1496.916748046875, 1529.6773681640625, null, 1530.328125, 1494.7061767578125, 1496.013916015625, 1530.328125, null, 1530.328125, 1529.5267333984375, 1494.7061767578125, 1530.328125, null, 1493.240966796875, 1528.4490966796875, 1492.204345703125, 1493.240966796875, null, 1528.4490966796875, 1493.240966796875, 1528.8497314453125, 1528.4490966796875, null, 1493.240966796875, 1493.9720458984375, 1528.8497314453125, 1493.240966796875, null, 1529.5267333984375, 1493.8228759765625, 1494.7061767578125, 1529.5267333984375, null, 1493.8228759765625, 1529.5267333984375, 1528.8497314453125, 1493.8228759765625, null, 1493.9720458984375, 1493.8228759765625, 1528.8497314453125, 1493.9720458984375, null]}, {\"hoverinfo\": \"none\", \"marker\": {\"color\": [1492.9163818359375, 1522.9750162760417], \"colorscale\": [[0.0, \"rgb(31, 119, 180)\"], [1.0, \"rgb(255, 127, 14)\"]], \"showscale\": true, \"size\": 0.1}, \"mode\": \"markers\", \"showlegend\": false, \"type\": \"scatter3d\", \"x\": [-49000.0], \"y\": [6.00056983268704e-12], \"z\": [1504.696533203125]}],\n",
       "                        {\"height\": 800, \"scene\": {\"aspectratio\": {\"x\": 1, \"y\": 1, \"z\": 0.5}, \"xaxis\": {\"backgroundcolor\": \"rgb(230, 230, 230)\", \"gridcolor\": \"rgb(255, 255, 255)\", \"showbackground\": true, \"zerolinecolor\": \"rgb(255, 255, 255)\"}, \"yaxis\": {\"backgroundcolor\": \"rgb(230, 230, 230)\", \"gridcolor\": \"rgb(255, 255, 255)\", \"showbackground\": true, \"zerolinecolor\": \"rgb(255, 255, 255)\"}, \"zaxis\": {\"backgroundcolor\": \"rgb(230, 230, 230)\", \"gridcolor\": \"rgb(255, 255, 255)\", \"showbackground\": true, \"zerolinecolor\": \"rgb(255, 255, 255)\"}}, \"template\": {\"data\": {\"bar\": [{\"error_x\": {\"color\": \"#2a3f5f\"}, \"error_y\": {\"color\": \"#2a3f5f\"}, \"marker\": {\"line\": {\"color\": \"#E5ECF6\", \"width\": 0.5}}, \"type\": \"bar\"}], \"barpolar\": [{\"marker\": {\"line\": {\"color\": \"#E5ECF6\", \"width\": 0.5}}, \"type\": \"barpolar\"}], \"carpet\": [{\"aaxis\": {\"endlinecolor\": \"#2a3f5f\", \"gridcolor\": \"white\", \"linecolor\": \"white\", \"minorgridcolor\": \"white\", \"startlinecolor\": \"#2a3f5f\"}, \"baxis\": {\"endlinecolor\": \"#2a3f5f\", \"gridcolor\": \"white\", \"linecolor\": \"white\", \"minorgridcolor\": \"white\", \"startlinecolor\": \"#2a3f5f\"}, \"type\": \"carpet\"}], \"choropleth\": [{\"colorbar\": {\"outlinewidth\": 0, \"ticks\": \"\"}, \"type\": \"choropleth\"}], \"contour\": [{\"colorbar\": {\"outlinewidth\": 0, \"ticks\": \"\"}, \"colorscale\": [[0.0, \"#0d0887\"], [0.1111111111111111, \"#46039f\"], [0.2222222222222222, \"#7201a8\"], [0.3333333333333333, \"#9c179e\"], [0.4444444444444444, \"#bd3786\"], [0.5555555555555556, \"#d8576b\"], [0.6666666666666666, \"#ed7953\"], [0.7777777777777778, \"#fb9f3a\"], [0.8888888888888888, \"#fdca26\"], [1.0, \"#f0f921\"]], \"type\": \"contour\"}], \"contourcarpet\": [{\"colorbar\": {\"outlinewidth\": 0, \"ticks\": \"\"}, \"type\": \"contourcarpet\"}], \"heatmap\": [{\"colorbar\": {\"outlinewidth\": 0, \"ticks\": \"\"}, \"colorscale\": [[0.0, \"#0d0887\"], [0.1111111111111111, \"#46039f\"], [0.2222222222222222, \"#7201a8\"], [0.3333333333333333, \"#9c179e\"], [0.4444444444444444, \"#bd3786\"], [0.5555555555555556, \"#d8576b\"], [0.6666666666666666, \"#ed7953\"], [0.7777777777777778, \"#fb9f3a\"], [0.8888888888888888, \"#fdca26\"], [1.0, \"#f0f921\"]], \"type\": \"heatmap\"}], \"heatmapgl\": [{\"colorbar\": {\"outlinewidth\": 0, \"ticks\": \"\"}, \"colorscale\": [[0.0, \"#0d0887\"], [0.1111111111111111, \"#46039f\"], [0.2222222222222222, \"#7201a8\"], [0.3333333333333333, \"#9c179e\"], [0.4444444444444444, \"#bd3786\"], [0.5555555555555556, \"#d8576b\"], [0.6666666666666666, \"#ed7953\"], [0.7777777777777778, \"#fb9f3a\"], [0.8888888888888888, \"#fdca26\"], [1.0, \"#f0f921\"]], \"type\": \"heatmapgl\"}], \"histogram\": [{\"marker\": {\"colorbar\": {\"outlinewidth\": 0, \"ticks\": \"\"}}, \"type\": \"histogram\"}], \"histogram2d\": [{\"colorbar\": {\"outlinewidth\": 0, \"ticks\": \"\"}, \"colorscale\": [[0.0, \"#0d0887\"], [0.1111111111111111, \"#46039f\"], [0.2222222222222222, \"#7201a8\"], [0.3333333333333333, \"#9c179e\"], [0.4444444444444444, \"#bd3786\"], [0.5555555555555556, \"#d8576b\"], [0.6666666666666666, \"#ed7953\"], [0.7777777777777778, \"#fb9f3a\"], [0.8888888888888888, \"#fdca26\"], [1.0, \"#f0f921\"]], \"type\": \"histogram2d\"}], \"histogram2dcontour\": [{\"colorbar\": {\"outlinewidth\": 0, \"ticks\": \"\"}, \"colorscale\": [[0.0, \"#0d0887\"], [0.1111111111111111, \"#46039f\"], [0.2222222222222222, \"#7201a8\"], [0.3333333333333333, \"#9c179e\"], [0.4444444444444444, \"#bd3786\"], [0.5555555555555556, \"#d8576b\"], [0.6666666666666666, \"#ed7953\"], [0.7777777777777778, \"#fb9f3a\"], [0.8888888888888888, \"#fdca26\"], [1.0, \"#f0f921\"]], \"type\": \"histogram2dcontour\"}], \"mesh3d\": [{\"colorbar\": {\"outlinewidth\": 0, \"ticks\": \"\"}, \"type\": \"mesh3d\"}], \"parcoords\": [{\"line\": {\"colorbar\": {\"outlinewidth\": 0, \"ticks\": \"\"}}, \"type\": \"parcoords\"}], \"pie\": [{\"automargin\": true, \"type\": \"pie\"}], \"scatter\": [{\"marker\": {\"colorbar\": {\"outlinewidth\": 0, \"ticks\": \"\"}}, \"type\": \"scatter\"}], \"scatter3d\": [{\"line\": {\"colorbar\": {\"outlinewidth\": 0, \"ticks\": \"\"}}, \"marker\": {\"colorbar\": {\"outlinewidth\": 0, \"ticks\": \"\"}}, \"type\": \"scatter3d\"}], \"scattercarpet\": [{\"marker\": {\"colorbar\": {\"outlinewidth\": 0, \"ticks\": \"\"}}, \"type\": \"scattercarpet\"}], \"scattergeo\": [{\"marker\": {\"colorbar\": {\"outlinewidth\": 0, \"ticks\": \"\"}}, \"type\": \"scattergeo\"}], \"scattergl\": [{\"marker\": {\"colorbar\": {\"outlinewidth\": 0, \"ticks\": \"\"}}, \"type\": \"scattergl\"}], \"scattermapbox\": [{\"marker\": {\"colorbar\": {\"outlinewidth\": 0, \"ticks\": \"\"}}, \"type\": \"scattermapbox\"}], \"scatterpolar\": [{\"marker\": {\"colorbar\": {\"outlinewidth\": 0, \"ticks\": \"\"}}, \"type\": \"scatterpolar\"}], \"scatterpolargl\": [{\"marker\": {\"colorbar\": {\"outlinewidth\": 0, \"ticks\": \"\"}}, \"type\": \"scatterpolargl\"}], \"scatterternary\": [{\"marker\": {\"colorbar\": {\"outlinewidth\": 0, \"ticks\": \"\"}}, \"type\": \"scatterternary\"}], \"surface\": [{\"colorbar\": {\"outlinewidth\": 0, \"ticks\": \"\"}, \"colorscale\": [[0.0, \"#0d0887\"], [0.1111111111111111, \"#46039f\"], [0.2222222222222222, \"#7201a8\"], [0.3333333333333333, \"#9c179e\"], [0.4444444444444444, \"#bd3786\"], [0.5555555555555556, \"#d8576b\"], [0.6666666666666666, \"#ed7953\"], [0.7777777777777778, \"#fb9f3a\"], [0.8888888888888888, \"#fdca26\"], [1.0, \"#f0f921\"]], \"type\": \"surface\"}], \"table\": [{\"cells\": {\"fill\": {\"color\": \"#EBF0F8\"}, \"line\": {\"color\": \"white\"}}, \"header\": {\"fill\": {\"color\": \"#C8D4E3\"}, \"line\": {\"color\": \"white\"}}, \"type\": \"table\"}]}, \"layout\": {\"annotationdefaults\": {\"arrowcolor\": \"#2a3f5f\", \"arrowhead\": 0, \"arrowwidth\": 1}, \"coloraxis\": {\"colorbar\": {\"outlinewidth\": 0, \"ticks\": \"\"}}, \"colorscale\": {\"diverging\": [[0, \"#8e0152\"], [0.1, \"#c51b7d\"], [0.2, \"#de77ae\"], [0.3, \"#f1b6da\"], [0.4, \"#fde0ef\"], [0.5, \"#f7f7f7\"], [0.6, \"#e6f5d0\"], [0.7, \"#b8e186\"], [0.8, \"#7fbc41\"], [0.9, \"#4d9221\"], [1, \"#276419\"]], \"sequential\": [[0.0, \"#0d0887\"], [0.1111111111111111, \"#46039f\"], [0.2222222222222222, \"#7201a8\"], [0.3333333333333333, \"#9c179e\"], [0.4444444444444444, \"#bd3786\"], [0.5555555555555556, \"#d8576b\"], [0.6666666666666666, \"#ed7953\"], [0.7777777777777778, \"#fb9f3a\"], [0.8888888888888888, \"#fdca26\"], [1.0, \"#f0f921\"]], \"sequentialminus\": [[0.0, \"#0d0887\"], [0.1111111111111111, \"#46039f\"], [0.2222222222222222, \"#7201a8\"], [0.3333333333333333, \"#9c179e\"], [0.4444444444444444, \"#bd3786\"], [0.5555555555555556, \"#d8576b\"], [0.6666666666666666, \"#ed7953\"], [0.7777777777777778, \"#fb9f3a\"], [0.8888888888888888, \"#fdca26\"], [1.0, \"#f0f921\"]]}, \"colorway\": [\"#636efa\", \"#EF553B\", \"#00cc96\", \"#ab63fa\", \"#FFA15A\", \"#19d3f3\", \"#FF6692\", \"#B6E880\", \"#FF97FF\", \"#FECB52\"], \"font\": {\"color\": \"#2a3f5f\"}, \"geo\": {\"bgcolor\": \"white\", \"lakecolor\": \"white\", \"landcolor\": \"#E5ECF6\", \"showlakes\": true, \"showland\": true, \"subunitcolor\": \"white\"}, \"hoverlabel\": {\"align\": \"left\"}, \"hovermode\": \"closest\", \"mapbox\": {\"style\": \"light\"}, \"paper_bgcolor\": \"white\", \"plot_bgcolor\": \"#E5ECF6\", \"polar\": {\"angularaxis\": {\"gridcolor\": \"white\", \"linecolor\": \"white\", \"ticks\": \"\"}, \"bgcolor\": \"#E5ECF6\", \"radialaxis\": {\"gridcolor\": \"white\", \"linecolor\": \"white\", \"ticks\": \"\"}}, \"scene\": {\"xaxis\": {\"backgroundcolor\": \"#E5ECF6\", \"gridcolor\": \"white\", \"gridwidth\": 2, \"linecolor\": \"white\", \"showbackground\": true, \"ticks\": \"\", \"zerolinecolor\": \"white\"}, \"yaxis\": {\"backgroundcolor\": \"#E5ECF6\", \"gridcolor\": \"white\", \"gridwidth\": 2, \"linecolor\": \"white\", \"showbackground\": true, \"ticks\": \"\", \"zerolinecolor\": \"white\"}, \"zaxis\": {\"backgroundcolor\": \"#E5ECF6\", \"gridcolor\": \"white\", \"gridwidth\": 2, \"linecolor\": \"white\", \"showbackground\": true, \"ticks\": \"\", \"zerolinecolor\": \"white\"}}, \"shapedefaults\": {\"line\": {\"color\": \"#2a3f5f\"}}, \"ternary\": {\"aaxis\": {\"gridcolor\": \"white\", \"linecolor\": \"white\", \"ticks\": \"\"}, \"baxis\": {\"gridcolor\": \"white\", \"linecolor\": \"white\", \"ticks\": \"\"}, \"bgcolor\": \"#E5ECF6\", \"caxis\": {\"gridcolor\": \"white\", \"linecolor\": \"white\", \"ticks\": \"\"}}, \"title\": {\"x\": 0.05}, \"xaxis\": {\"automargin\": true, \"gridcolor\": \"white\", \"linecolor\": \"white\", \"ticks\": \"\", \"title\": {\"standoff\": 15}, \"zerolinecolor\": \"white\", \"zerolinewidth\": 2}, \"yaxis\": {\"automargin\": true, \"gridcolor\": \"white\", \"linecolor\": \"white\", \"ticks\": \"\", \"title\": {\"standoff\": 15}, \"zerolinecolor\": \"white\", \"zerolinewidth\": 2}}}, \"title\": {\"text\": \"wafare\"}, \"width\": 800},\n",
       "                        {\"responsive\": true}\n",
       "                    ).then(function(){\n",
       "                            \n",
       "var gd = document.getElementById('7bfce5c2-2336-4a5c-b1ad-58d63773e1bc');\n",
       "var x = new MutationObserver(function (mutations, observer) {{\n",
       "        var display = window.getComputedStyle(gd).display;\n",
       "        if (!display || display === 'none') {{\n",
       "            console.log([gd, 'removed!']);\n",
       "            Plotly.purge(gd);\n",
       "            observer.disconnect();\n",
       "        }}\n",
       "}});\n",
       "\n",
       "// Listen for the removal of the full notebook cells\n",
       "var notebookContainer = gd.closest('#notebook-container');\n",
       "if (notebookContainer) {{\n",
       "    x.observe(notebookContainer, {childList: true});\n",
       "}}\n",
       "\n",
       "// Listen for the clearing of the current output cell\n",
       "var outputEl = gd.closest('.output');\n",
       "if (outputEl) {{\n",
       "    x.observe(outputEl, {childList: true});\n",
       "}}\n",
       "\n",
       "                        })\n",
       "                };\n",
       "                });\n",
       "            </script>\n",
       "        </div>"
      ]
     },
     "metadata": {},
     "output_type": "display_data"
    },
    {
     "name": "stdout",
     "output_type": "stream",
     "text": [
      "6\n",
      "437.5\n"
     ]
    },
    {
     "data": {
      "application/vnd.jupyter.widget-view+json": {
       "model_id": "7a85b222b66a45f8bcfecdee570a2c87",
       "version_major": 2,
       "version_minor": 0
      },
      "text/plain": [
       "Canvas(toolbar=Toolbar(toolitems=[('Home', 'Reset original view', 'home', 'home'), ('Back', 'Back to previous …"
      ]
     },
     "metadata": {},
     "output_type": "display_data"
    }
   ],
   "source": [
    "%matplotlib notebook\n",
    "%matplotlib widget\n",
    "# train model\n",
    "n_runs = 32\n",
    "total_batch = 0\n",
    "total_epochs = 0\n",
    "n_batch = 128\n",
    "n_epochs = 16\n",
    "\n",
    "print('train model for ' + str(n_runs * n_epochs))\n",
    "for k in range(n_runs):\n",
    "    print(k)\n",
    "    total_batch = total_batch + (dataset[0].shape[0] / n_batch) * n_epochs\n",
    "    print(total_batch)\n",
    "    train_cgan(generator_model, discriminator_model, GAN, dataset, latent_dim)\n",
    "    pp = create_process_vector(YS[0])\n",
    "    latent_points, labels, _ = generate_latent_points(latent_dim, 1)\n",
    "    del labels\n",
    "    X_test = generator_model.predict([latent_points, pp])\n",
    "    X_test = thickness_extraction(X_test[0])\n",
    "    visualize(X_test)\n",
    "    \n",
    "\n",
    "    # save models\n",
    "    savename = 'conv_paper'\n",
    "    generator_model.save(savename+'_total_batches_'+str(total_batch) + '_generator.h5')\n",
    "    discriminator_model.save(savename+'_total_batches_'+str(total_batch) + ' _discriminator.h5')\n",
    "    GAN.save(savename+'_total_batches_'+str(total_batch) + '_gan.h5')\n"
   ]
  },
  {
   "cell_type": "code",
   "execution_count": 53,
   "metadata": {},
   "outputs": [],
   "source": [
    "[X_real, labels_real], y_real, weights_real = generate_real_samples(dataset, 16)"
   ]
  },
  {
   "cell_type": "code",
   "execution_count": 59,
   "metadata": {},
   "outputs": [],
   "source": [
    "X_real = X_real.reshape(16, 50, 50, 1)"
   ]
  },
  {
   "cell_type": "code",
   "execution_count": 61,
   "metadata": {},
   "outputs": [
    {
     "data": {
      "text/plain": [
       "[0.6927289, 0.6875]"
      ]
     },
     "execution_count": 61,
     "metadata": {},
     "output_type": "execute_result"
    }
   ],
   "source": [
    "discriminator_model.train_on_batch([X_real, labels_real], y_real,)"
   ]
  },
  {
   "cell_type": "code",
   "execution_count": 25,
   "metadata": {},
   "outputs": [],
   "source": [
    "generator_model.load_weights('conv_2_total_batches_2000.0_generator.h5')"
   ]
  },
  {
   "cell_type": "code",
   "execution_count": 88,
   "metadata": {},
   "outputs": [],
   "source": [
    "def create_process_vector(features):\n",
    "    features = np.array(features).reshape(1, -1)\n",
    "    process_vector = scaler_y_2.transform(features)\n",
    "    return process_vector"
   ]
  },
  {
   "cell_type": "code",
   "execution_count": 89,
   "metadata": {},
   "outputs": [],
   "source": [
    "import plotly.figure_factory as ff\n",
    "from scipy.spatial import Delaunay\n",
    "\n",
    "def visualize(thickness):\n",
    "    site = pd.read_csv('site_coordinates.csv')\n",
    "    site['SITE_Z'] = thickness\n",
    "    points2D = np.vstack([site['SITE_X'], site['SITE_Y']]).T\n",
    "    tri = Delaunay(points2D)\n",
    "    simplices = tri.simplices\n",
    "\n",
    "    fig = ff.create_trisurf(site['SITE_X'], site['SITE_Y'], site['SITE_Z'],\n",
    "                             simplices=simplices,\n",
    "                             title=\"wafare\", aspectratio=dict(x=1, y=1, z=0.5))\n",
    "    fig.show()\n"
   ]
  },
  {
   "cell_type": "code",
   "execution_count": 31,
   "metadata": {},
   "outputs": [],
   "source": [
    "latent_points, labels, _ = generate_latent_points(latent_dim, 1)"
   ]
  },
  {
   "cell_type": "code",
   "execution_count": 162,
   "metadata": {},
   "outputs": [
    {
     "name": "stdout",
     "output_type": "stream",
     "text": [
      "[[0.25       0.34482759 0.3026466  1.         0.         0.\n",
      "  0.        ]]\n"
     ]
    },
    {
     "data": {
      "application/vnd.plotly.v1+json": {
       "config": {
        "plotlyServerURL": "https://plot.ly"
       },
       "data": [
        {
         "facecolor": [
          "rgb(134, 123, 104)",
          "rgb(122, 122, 113)",
          "rgb(116, 122, 117)",
          "rgb(112, 122, 120)",
          "rgb(78, 121, 145)",
          "rgb(184, 124, 67)",
          "rgb(171, 124, 77)",
          "rgb(124, 122, 111)",
          "rgb(156, 123, 87)",
          "rgb(170, 124, 77)",
          "rgb(254, 127, 15)",
          "rgb(240, 126, 25)",
          "rgb(194, 125, 59)",
          "rgb(155, 123, 88)",
          "rgb(154, 123, 89)",
          "rgb(220, 126, 40)",
          "rgb(190, 125, 62)",
          "rgb(195, 125, 58)",
          "rgb(136, 123, 102)",
          "rgb(207, 125, 50)",
          "rgb(151, 123, 91)",
          "rgb(212, 125, 46)",
          "rgb(238, 126, 27)",
          "rgb(174, 124, 74)",
          "rgb(183, 124, 67)",
          "rgb(198, 125, 56)",
          "rgb(177, 124, 72)",
          "rgb(148, 123, 93)",
          "rgb(145, 123, 96)",
          "rgb(101, 122, 128)",
          "rgb(31, 119, 180)",
          "rgb(84, 121, 141)",
          "rgb(82, 121, 142)",
          "rgb(104, 122, 126)",
          "rgb(185, 124, 66)",
          "rgb(112, 122, 120)",
          "rgb(170, 124, 77)",
          "rgb(170, 124, 77)",
          "rgb(147, 123, 94)",
          "rgb(122, 122, 112)",
          "rgb(150, 123, 92)",
          "rgb(125, 122, 110)",
          "rgb(200, 125, 55)",
          "rgb(255, 127, 14)",
          "rgb(177, 124, 72)",
          "rgb(93, 121, 134)",
          "rgb(159, 124, 85)",
          "rgb(115, 122, 118)",
          "rgb(155, 123, 88)",
          "rgb(138, 123, 101)",
          "rgb(138, 123, 101)",
          "rgb(97, 121, 131)",
          "rgb(144, 123, 96)",
          "rgb(121, 122, 114)",
          "rgb(179, 124, 71)",
          "rgb(243, 127, 23)",
          "rgb(161, 124, 84)",
          "rgb(189, 125, 63)",
          "rgb(212, 125, 46)",
          "rgb(174, 124, 74)",
          "rgb(190, 125, 62)",
          "rgb(175, 124, 73)",
          "rgb(167, 124, 79)",
          "rgb(171, 124, 76)",
          "rgb(233, 126, 31)",
          "rgb(222, 126, 38)",
          "rgb(98, 121, 130)",
          "rgb(165, 124, 81)",
          "rgb(106, 122, 125)",
          "rgb(182, 124, 68)",
          "rgb(198, 125, 56)",
          "rgb(112, 122, 120)"
         ],
         "i": [
          38,
          32,
          44,
          17,
          22,
          18,
          13,
          14,
          2,
          19,
          6,
          3,
          10,
          16,
          21,
          21,
          12,
          12,
          4,
          16,
          8,
          8,
          24,
          8,
          18,
          6,
          5,
          5,
          5,
          4,
          33,
          14,
          33,
          16,
          35,
          34,
          7,
          21,
          19,
          8,
          6,
          7,
          39,
          18,
          39,
          21,
          41,
          40,
          0,
          12,
          14,
          4,
          3,
          0,
          27,
          10,
          27,
          12,
          29,
          28,
          9,
          24,
          26,
          10,
          9,
          9,
          45,
          19,
          45,
          24,
          47,
          46
         ],
         "j": [
          17,
          13,
          22,
          36,
          42,
          17,
          30,
          13,
          3,
          22,
          18,
          10,
          3,
          36,
          42,
          6,
          30,
          3,
          14,
          4,
          2,
          19,
          8,
          24,
          5,
          5,
          16,
          4,
          6,
          5,
          14,
          33,
          34,
          35,
          16,
          35,
          21,
          7,
          7,
          7,
          7,
          8,
          18,
          39,
          40,
          41,
          21,
          41,
          12,
          0,
          0,
          0,
          0,
          4,
          10,
          27,
          28,
          29,
          12,
          29,
          10,
          9,
          9,
          9,
          48,
          24,
          19,
          45,
          46,
          47,
          24,
          47
         ],
         "k": [
          37,
          31,
          43,
          37,
          43,
          38,
          31,
          32,
          1,
          44,
          20,
          11,
          2,
          17,
          22,
          20,
          13,
          11,
          15,
          15,
          1,
          23,
          23,
          2,
          17,
          18,
          17,
          16,
          1,
          1,
          32,
          15,
          15,
          36,
          15,
          15,
          22,
          6,
          22,
          19,
          1,
          1,
          38,
          20,
          20,
          42,
          20,
          20,
          13,
          3,
          13,
          14,
          1,
          1,
          26,
          11,
          11,
          30,
          11,
          11,
          2,
          2,
          25,
          26,
          25,
          48,
          44,
          23,
          23,
          48,
          23,
          23
         ],
         "name": "",
         "type": "mesh3d",
         "x": [
          -49000,
          0,
          3.0002899036735098e-12,
          -34648.19921875,
          -34648.19921875,
          -9.00085995320099e-12,
          34648.19921875,
          49000,
          34648.19921875,
          6.00056983268704e-12,
          -37503,
          -69296.5,
          -90540.203125,
          -98000,
          -90540.203125,
          -69296.5,
          -37503,
          -1.80017008244437e-11,
          37503,
          90540.203125,
          69296.5,
          90540.203125,
          98000,
          69296.5,
          37503,
          9.00085995320099e-12,
          -38046.3984375,
          -73500,
          -103945,
          -127306,
          -141991,
          -147000,
          -141991,
          -127306,
          -103945,
          -73500,
          -38046.3984375,
          -2.70025998089229e-11,
          38046.3984375,
          73500,
          103945,
          127306,
          141991,
          147000,
          141991,
          127306,
          103945,
          73500,
          38046.3984375
         ],
         "y": [
          6.00056983268704e-12,
          0,
          49000,
          34648.19921875,
          -34648.19921875,
          -49000,
          -34648.19921875,
          -1.20010997667341e-11,
          34648.19921875,
          98000,
          90540.203125,
          69296.5,
          37503,
          1.20010997667341e-11,
          -37503,
          -69296.5,
          -90540.203125,
          -98000,
          -90540.203125,
          37503,
          -69296.5,
          -37503,
          -2.400230014742989e-11,
          69296.5,
          90540.203125,
          147000,
          141991,
          127306,
          103945,
          73500,
          38046.3984375,
          1.80017008244437e-11,
          -38046.3984375,
          -73500,
          -103945,
          -127306,
          -141991,
          -147000,
          -141991,
          -127306,
          -103945,
          -73500,
          -38046.3984375,
          -3.600340164888749e-11,
          38046.3984375,
          73500,
          103945,
          127306,
          141991
         ],
         "z": [
          1457.2127685546875,
          1521.2877197265625,
          1481.16796875,
          1530.0267333984375,
          1482.6636962890625,
          1418.245849609375,
          1569.838623046875,
          1429.61181640625,
          1519.302978515625,
          1520.4273681640625,
          1598.55126953125,
          1573.171142578125,
          1508.5560302734375,
          1565.4244384765625,
          1473.85888671875,
          1536.47900390625,
          1615.58642578125,
          1541.06396484375,
          1628.3560791015625,
          1515.85595703125,
          1530.9097900390625,
          1560.5384521484375,
          1569.6041259765625,
          1609.1644287109375,
          1569.103271484375,
          1589.8660888671875,
          1444.2774658203125,
          1534.9300537109375,
          1433.689697265625,
          1562.4163818359375,
          1527.1827392578125,
          1469.153076171875,
          1429.3272705078125,
          1377.66552734375,
          1468.6180419921875,
          1437.7467041015625,
          1374.010498046875,
          1527.957275390625,
          1419.490478515625,
          1572.33056640625,
          1471.3511962890625,
          1447.0166015625,
          1397.470947265625,
          1408.5379638671875,
          1474.149169921875,
          1425.8800048828125,
          1395.97265625,
          1438.7291259765625,
          1576.240966796875
         ]
        },
        {
         "line": {
          "color": "rgb(50, 50, 50)",
          "width": 1.5
         },
         "mode": "lines",
         "showlegend": false,
         "type": "scatter3d",
         "x": [
          38046.3984375,
          -1.80017008244437e-11,
          -2.70025998089229e-11,
          38046.3984375,
          null,
          -141991,
          -98000,
          -147000,
          -141991,
          null,
          141991,
          98000,
          147000,
          141991,
          null,
          -1.80017008244437e-11,
          -38046.3984375,
          -2.70025998089229e-11,
          -1.80017008244437e-11,
          null,
          98000,
          141991,
          147000,
          98000,
          null,
          37503,
          -1.80017008244437e-11,
          38046.3984375,
          37503,
          null,
          -98000,
          -141991,
          -147000,
          -98000,
          null,
          -90540.203125,
          -98000,
          -141991,
          -90540.203125,
          null,
          3.0002899036735098e-12,
          -34648.19921875,
          0,
          3.0002899036735098e-12,
          null,
          90540.203125,
          98000,
          141991,
          90540.203125,
          null,
          34648.19921875,
          37503,
          69296.5,
          34648.19921875,
          null,
          -34648.19921875,
          -37503,
          -69296.5,
          -34648.19921875,
          null,
          -37503,
          -34648.19921875,
          3.0002899036735098e-12,
          -37503,
          null,
          -37503,
          -38046.3984375,
          -1.80017008244437e-11,
          -37503,
          null,
          90540.203125,
          141991,
          98000,
          90540.203125,
          null,
          90540.203125,
          34648.19921875,
          69296.5,
          90540.203125,
          null,
          -90540.203125,
          -141991,
          -98000,
          -90540.203125,
          null,
          -90540.203125,
          -34648.19921875,
          -69296.5,
          -90540.203125,
          null,
          -34648.19921875,
          -90540.203125,
          -69296.5,
          -34648.19921875,
          null,
          -37503,
          -34648.19921875,
          -69296.5,
          -37503,
          null,
          34648.19921875,
          3.0002899036735098e-12,
          0,
          34648.19921875,
          null,
          34648.19921875,
          90540.203125,
          69296.5,
          34648.19921875,
          null,
          37503,
          34648.19921875,
          69296.5,
          37503,
          null,
          34648.19921875,
          37503,
          3.0002899036735098e-12,
          34648.19921875,
          null,
          37503,
          -9.00085995320099e-12,
          -1.80017008244437e-11,
          37503,
          null,
          34648.19921875,
          -9.00085995320099e-12,
          37503,
          34648.19921875,
          null,
          -9.00085995320099e-12,
          -37503,
          -1.80017008244437e-11,
          -9.00085995320099e-12,
          null,
          -9.00085995320099e-12,
          -34648.19921875,
          -37503,
          -9.00085995320099e-12,
          null,
          -9.00085995320099e-12,
          34648.19921875,
          0,
          -9.00085995320099e-12,
          null,
          -34648.19921875,
          -9.00085995320099e-12,
          0,
          -34648.19921875,
          null,
          -127306,
          -90540.203125,
          -141991,
          -127306,
          null,
          -90540.203125,
          -127306,
          -69296.5,
          -90540.203125,
          null,
          -127306,
          -103945,
          -69296.5,
          -127306,
          null,
          -37503,
          -73500,
          -38046.3984375,
          -37503,
          null,
          -73500,
          -37503,
          -69296.5,
          -73500,
          null,
          -103945,
          -73500,
          -69296.5,
          -103945,
          null,
          49000,
          90540.203125,
          98000,
          49000,
          null,
          90540.203125,
          49000,
          34648.19921875,
          90540.203125,
          null,
          90540.203125,
          49000,
          98000,
          90540.203125,
          null,
          34648.19921875,
          49000,
          90540.203125,
          34648.19921875,
          null,
          34648.19921875,
          49000,
          0,
          34648.19921875,
          null,
          49000,
          34648.19921875,
          0,
          49000,
          null,
          73500,
          37503,
          38046.3984375,
          73500,
          null,
          37503,
          73500,
          69296.5,
          37503,
          null,
          73500,
          103945,
          69296.5,
          73500,
          null,
          90540.203125,
          127306,
          141991,
          90540.203125,
          null,
          127306,
          90540.203125,
          69296.5,
          127306,
          null,
          103945,
          127306,
          69296.5,
          103945,
          null,
          -49000,
          -90540.203125,
          -98000,
          -49000,
          null,
          -90540.203125,
          -49000,
          -34648.19921875,
          -90540.203125,
          null,
          -90540.203125,
          -49000,
          -98000,
          -90540.203125,
          null,
          -34648.19921875,
          -49000,
          -90540.203125,
          -34648.19921875,
          null,
          -34648.19921875,
          -49000,
          0,
          -34648.19921875,
          null,
          -49000,
          -34648.19921875,
          0,
          -49000,
          null,
          -73500,
          -37503,
          -38046.3984375,
          -73500,
          null,
          -37503,
          -73500,
          -69296.5,
          -37503,
          null,
          -73500,
          -103945,
          -69296.5,
          -73500,
          null,
          -90540.203125,
          -127306,
          -141991,
          -90540.203125,
          null,
          -127306,
          -90540.203125,
          -69296.5,
          -127306,
          null,
          -103945,
          -127306,
          -69296.5,
          -103945,
          null,
          6.00056983268704e-12,
          -37503,
          3.0002899036735098e-12,
          6.00056983268704e-12,
          null,
          37503,
          6.00056983268704e-12,
          3.0002899036735098e-12,
          37503,
          null,
          -38046.3984375,
          6.00056983268704e-12,
          9.00085995320099e-12,
          -38046.3984375,
          null,
          -37503,
          6.00056983268704e-12,
          -38046.3984375,
          -37503,
          null,
          6.00056983268704e-12,
          38046.3984375,
          9.00085995320099e-12,
          6.00056983268704e-12,
          null,
          6.00056983268704e-12,
          37503,
          38046.3984375,
          6.00056983268704e-12,
          null,
          127306,
          90540.203125,
          141991,
          127306,
          null,
          90540.203125,
          127306,
          69296.5,
          90540.203125,
          null,
          127306,
          103945,
          69296.5,
          127306,
          null,
          37503,
          73500,
          38046.3984375,
          37503,
          null,
          73500,
          37503,
          69296.5,
          73500,
          null,
          103945,
          73500,
          69296.5,
          103945,
          null
         ],
         "y": [
          -141991,
          -98000,
          -147000,
          -141991,
          null,
          -38046.3984375,
          1.20010997667341e-11,
          1.80017008244437e-11,
          -38046.3984375,
          null,
          38046.3984375,
          -2.400230014742989e-11,
          -3.600340164888749e-11,
          38046.3984375,
          null,
          -98000,
          -141991,
          -147000,
          -98000,
          null,
          -2.400230014742989e-11,
          -38046.3984375,
          -3.600340164888749e-11,
          -2.400230014742989e-11,
          null,
          -90540.203125,
          -98000,
          -141991,
          -90540.203125,
          null,
          1.20010997667341e-11,
          38046.3984375,
          1.80017008244437e-11,
          1.20010997667341e-11,
          null,
          -37503,
          1.20010997667341e-11,
          -38046.3984375,
          -37503,
          null,
          49000,
          34648.19921875,
          0,
          49000,
          null,
          37503,
          -2.400230014742989e-11,
          38046.3984375,
          37503,
          null,
          -34648.19921875,
          -90540.203125,
          -69296.5,
          -34648.19921875,
          null,
          34648.19921875,
          90540.203125,
          69296.5,
          34648.19921875,
          null,
          90540.203125,
          34648.19921875,
          49000,
          90540.203125,
          null,
          -90540.203125,
          -141991,
          -98000,
          -90540.203125,
          null,
          -37503,
          -38046.3984375,
          -2.400230014742989e-11,
          -37503,
          null,
          -37503,
          -34648.19921875,
          -69296.5,
          -37503,
          null,
          37503,
          38046.3984375,
          1.20010997667341e-11,
          37503,
          null,
          37503,
          34648.19921875,
          69296.5,
          37503,
          null,
          -34648.19921875,
          -37503,
          -69296.5,
          -34648.19921875,
          null,
          -90540.203125,
          -34648.19921875,
          -69296.5,
          -90540.203125,
          null,
          34648.19921875,
          49000,
          0,
          34648.19921875,
          null,
          34648.19921875,
          37503,
          69296.5,
          34648.19921875,
          null,
          90540.203125,
          34648.19921875,
          69296.5,
          90540.203125,
          null,
          34648.19921875,
          90540.203125,
          49000,
          34648.19921875,
          null,
          -90540.203125,
          -49000,
          -98000,
          -90540.203125,
          null,
          -34648.19921875,
          -49000,
          -90540.203125,
          -34648.19921875,
          null,
          -49000,
          -90540.203125,
          -98000,
          -49000,
          null,
          -49000,
          -34648.19921875,
          -90540.203125,
          -49000,
          null,
          -49000,
          -34648.19921875,
          0,
          -49000,
          null,
          -34648.19921875,
          -49000,
          0,
          -34648.19921875,
          null,
          -73500,
          -37503,
          -38046.3984375,
          -73500,
          null,
          -37503,
          -73500,
          -69296.5,
          -37503,
          null,
          -73500,
          -103945,
          -69296.5,
          -73500,
          null,
          -90540.203125,
          -127306,
          -141991,
          -90540.203125,
          null,
          -127306,
          -90540.203125,
          -69296.5,
          -127306,
          null,
          -103945,
          -127306,
          -69296.5,
          -103945,
          null,
          -1.20010997667341e-11,
          -37503,
          -2.400230014742989e-11,
          -1.20010997667341e-11,
          null,
          -37503,
          -1.20010997667341e-11,
          -34648.19921875,
          -37503,
          null,
          37503,
          -1.20010997667341e-11,
          -2.400230014742989e-11,
          37503,
          null,
          34648.19921875,
          -1.20010997667341e-11,
          37503,
          34648.19921875,
          null,
          -34648.19921875,
          -1.20010997667341e-11,
          0,
          -34648.19921875,
          null,
          -1.20010997667341e-11,
          34648.19921875,
          0,
          -1.20010997667341e-11,
          null,
          -127306,
          -90540.203125,
          -141991,
          -127306,
          null,
          -90540.203125,
          -127306,
          -69296.5,
          -90540.203125,
          null,
          -127306,
          -103945,
          -69296.5,
          -127306,
          null,
          -37503,
          -73500,
          -38046.3984375,
          -37503,
          null,
          -73500,
          -37503,
          -69296.5,
          -73500,
          null,
          -103945,
          -73500,
          -69296.5,
          -103945,
          null,
          6.00056983268704e-12,
          37503,
          1.20010997667341e-11,
          6.00056983268704e-12,
          null,
          37503,
          6.00056983268704e-12,
          34648.19921875,
          37503,
          null,
          -37503,
          6.00056983268704e-12,
          1.20010997667341e-11,
          -37503,
          null,
          -34648.19921875,
          6.00056983268704e-12,
          -37503,
          -34648.19921875,
          null,
          34648.19921875,
          6.00056983268704e-12,
          0,
          34648.19921875,
          null,
          6.00056983268704e-12,
          -34648.19921875,
          0,
          6.00056983268704e-12,
          null,
          127306,
          90540.203125,
          141991,
          127306,
          null,
          90540.203125,
          127306,
          69296.5,
          90540.203125,
          null,
          127306,
          103945,
          69296.5,
          127306,
          null,
          37503,
          73500,
          38046.3984375,
          37503,
          null,
          73500,
          37503,
          69296.5,
          73500,
          null,
          103945,
          73500,
          69296.5,
          103945,
          null,
          98000,
          90540.203125,
          49000,
          98000,
          null,
          90540.203125,
          98000,
          49000,
          90540.203125,
          null,
          141991,
          98000,
          147000,
          141991,
          null,
          90540.203125,
          98000,
          141991,
          90540.203125,
          null,
          98000,
          141991,
          147000,
          98000,
          null,
          98000,
          90540.203125,
          141991,
          98000,
          null,
          73500,
          37503,
          38046.3984375,
          73500,
          null,
          37503,
          73500,
          69296.5,
          37503,
          null,
          73500,
          103945,
          69296.5,
          73500,
          null,
          90540.203125,
          127306,
          141991,
          90540.203125,
          null,
          127306,
          90540.203125,
          69296.5,
          127306,
          null,
          103945,
          127306,
          69296.5,
          103945,
          null
         ],
         "z": [
          1419.490478515625,
          1541.06396484375,
          1527.957275390625,
          1419.490478515625,
          null,
          1429.3272705078125,
          1565.4244384765625,
          1469.153076171875,
          1429.3272705078125,
          null,
          1474.149169921875,
          1569.6041259765625,
          1408.5379638671875,
          1474.149169921875,
          null,
          1541.06396484375,
          1374.010498046875,
          1527.957275390625,
          1541.06396484375,
          null,
          1569.6041259765625,
          1397.470947265625,
          1408.5379638671875,
          1569.6041259765625,
          null,
          1628.3560791015625,
          1541.06396484375,
          1419.490478515625,
          1628.3560791015625,
          null,
          1565.4244384765625,
          1527.1827392578125,
          1469.153076171875,
          1565.4244384765625,
          null,
          1473.85888671875,
          1565.4244384765625,
          1429.3272705078125,
          1473.85888671875,
          null,
          1481.16796875,
          1530.0267333984375,
          1521.2877197265625,
          1481.16796875,
          null,
          1515.85595703125,
          1569.6041259765625,
          1474.149169921875,
          1515.85595703125,
          null,
          1569.838623046875,
          1628.3560791015625,
          1530.9097900390625,
          1569.838623046875,
          null,
          1530.0267333984375,
          1598.55126953125,
          1573.171142578125,
          1530.0267333984375,
          null,
          1598.55126953125,
          1530.0267333984375,
          1481.16796875,
          1598.55126953125,
          null,
          1615.58642578125,
          1374.010498046875,
          1541.06396484375,
          1615.58642578125,
          null,
          1560.5384521484375,
          1397.470947265625,
          1569.6041259765625,
          1560.5384521484375,
          null,
          1560.5384521484375,
          1569.838623046875,
          1530.9097900390625,
          1560.5384521484375,
          null,
          1508.5560302734375,
          1527.1827392578125,
          1565.4244384765625,
          1508.5560302734375,
          null,
          1508.5560302734375,
          1530.0267333984375,
          1573.171142578125,
          1508.5560302734375,
          null,
          1482.6636962890625,
          1473.85888671875,
          1536.47900390625,
          1482.6636962890625,
          null,
          1615.58642578125,
          1482.6636962890625,
          1536.47900390625,
          1615.58642578125,
          null,
          1519.302978515625,
          1481.16796875,
          1521.2877197265625,
          1519.302978515625,
          null,
          1519.302978515625,
          1515.85595703125,
          1609.1644287109375,
          1519.302978515625,
          null,
          1569.103271484375,
          1519.302978515625,
          1609.1644287109375,
          1569.103271484375,
          null,
          1519.302978515625,
          1569.103271484375,
          1481.16796875,
          1519.302978515625,
          null,
          1628.3560791015625,
          1418.245849609375,
          1541.06396484375,
          1628.3560791015625,
          null,
          1569.838623046875,
          1418.245849609375,
          1628.3560791015625,
          1569.838623046875,
          null,
          1418.245849609375,
          1615.58642578125,
          1541.06396484375,
          1418.245849609375,
          null,
          1418.245849609375,
          1482.6636962890625,
          1615.58642578125,
          1418.245849609375,
          null,
          1418.245849609375,
          1569.838623046875,
          1521.2877197265625,
          1418.245849609375,
          null,
          1482.6636962890625,
          1418.245849609375,
          1521.2877197265625,
          1482.6636962890625,
          null,
          1377.66552734375,
          1473.85888671875,
          1429.3272705078125,
          1377.66552734375,
          null,
          1473.85888671875,
          1377.66552734375,
          1536.47900390625,
          1473.85888671875,
          null,
          1377.66552734375,
          1468.6180419921875,
          1536.47900390625,
          1377.66552734375,
          null,
          1615.58642578125,
          1437.7467041015625,
          1374.010498046875,
          1615.58642578125,
          null,
          1437.7467041015625,
          1615.58642578125,
          1536.47900390625,
          1437.7467041015625,
          null,
          1468.6180419921875,
          1437.7467041015625,
          1536.47900390625,
          1468.6180419921875,
          null,
          1429.61181640625,
          1560.5384521484375,
          1569.6041259765625,
          1429.61181640625,
          null,
          1560.5384521484375,
          1429.61181640625,
          1569.838623046875,
          1560.5384521484375,
          null,
          1515.85595703125,
          1429.61181640625,
          1569.6041259765625,
          1515.85595703125,
          null,
          1519.302978515625,
          1429.61181640625,
          1515.85595703125,
          1519.302978515625,
          null,
          1569.838623046875,
          1429.61181640625,
          1521.2877197265625,
          1569.838623046875,
          null,
          1429.61181640625,
          1519.302978515625,
          1521.2877197265625,
          1429.61181640625,
          null,
          1572.33056640625,
          1628.3560791015625,
          1419.490478515625,
          1572.33056640625,
          null,
          1628.3560791015625,
          1572.33056640625,
          1530.9097900390625,
          1628.3560791015625,
          null,
          1572.33056640625,
          1471.3511962890625,
          1530.9097900390625,
          1572.33056640625,
          null,
          1560.5384521484375,
          1447.0166015625,
          1397.470947265625,
          1560.5384521484375,
          null,
          1447.0166015625,
          1560.5384521484375,
          1530.9097900390625,
          1447.0166015625,
          null,
          1471.3511962890625,
          1447.0166015625,
          1530.9097900390625,
          1471.3511962890625,
          null,
          1457.2127685546875,
          1508.5560302734375,
          1565.4244384765625,
          1457.2127685546875,
          null,
          1508.5560302734375,
          1457.2127685546875,
          1530.0267333984375,
          1508.5560302734375,
          null,
          1473.85888671875,
          1457.2127685546875,
          1565.4244384765625,
          1473.85888671875,
          null,
          1482.6636962890625,
          1457.2127685546875,
          1473.85888671875,
          1482.6636962890625,
          null,
          1530.0267333984375,
          1457.2127685546875,
          1521.2877197265625,
          1530.0267333984375,
          null,
          1457.2127685546875,
          1482.6636962890625,
          1521.2877197265625,
          1457.2127685546875,
          null,
          1534.9300537109375,
          1598.55126953125,
          1444.2774658203125,
          1534.9300537109375,
          null,
          1598.55126953125,
          1534.9300537109375,
          1573.171142578125,
          1598.55126953125,
          null,
          1534.9300537109375,
          1433.689697265625,
          1573.171142578125,
          1534.9300537109375,
          null,
          1508.5560302734375,
          1562.4163818359375,
          1527.1827392578125,
          1508.5560302734375,
          null,
          1562.4163818359375,
          1508.5560302734375,
          1573.171142578125,
          1562.4163818359375,
          null,
          1433.689697265625,
          1562.4163818359375,
          1573.171142578125,
          1433.689697265625,
          null,
          1520.4273681640625,
          1598.55126953125,
          1481.16796875,
          1520.4273681640625,
          null,
          1569.103271484375,
          1520.4273681640625,
          1481.16796875,
          1569.103271484375,
          null,
          1444.2774658203125,
          1520.4273681640625,
          1589.8660888671875,
          1444.2774658203125,
          null,
          1598.55126953125,
          1520.4273681640625,
          1444.2774658203125,
          1598.55126953125,
          null,
          1520.4273681640625,
          1576.240966796875,
          1589.8660888671875,
          1520.4273681640625,
          null,
          1520.4273681640625,
          1569.103271484375,
          1576.240966796875,
          1520.4273681640625,
          null,
          1425.8800048828125,
          1515.85595703125,
          1474.149169921875,
          1425.8800048828125,
          null,
          1515.85595703125,
          1425.8800048828125,
          1609.1644287109375,
          1515.85595703125,
          null,
          1425.8800048828125,
          1395.97265625,
          1609.1644287109375,
          1425.8800048828125,
          null,
          1569.103271484375,
          1438.7291259765625,
          1576.240966796875,
          1569.103271484375,
          null,
          1438.7291259765625,
          1569.103271484375,
          1609.1644287109375,
          1438.7291259765625,
          null,
          1395.97265625,
          1438.7291259765625,
          1609.1644287109375,
          1395.97265625,
          null
         ]
        },
        {
         "hoverinfo": "none",
         "marker": {
          "color": [
           1426.9505615234375,
           1577.1988118489583
          ],
          "colorscale": [
           [
            0,
            "rgb(31, 119, 180)"
           ],
           [
            1,
            "rgb(255, 127, 14)"
           ]
          ],
          "showscale": true,
          "size": 0.1
         },
         "mode": "markers",
         "showlegend": false,
         "type": "scatter3d",
         "x": [
          -49000
         ],
         "y": [
          6.00056983268704e-12
         ],
         "z": [
          1457.2127685546875
         ]
        }
       ],
       "layout": {
        "height": 800,
        "scene": {
         "aspectratio": {
          "x": 1,
          "y": 1,
          "z": 0.5
         },
         "xaxis": {
          "backgroundcolor": "rgb(230, 230, 230)",
          "gridcolor": "rgb(255, 255, 255)",
          "showbackground": true,
          "zerolinecolor": "rgb(255, 255, 255)"
         },
         "yaxis": {
          "backgroundcolor": "rgb(230, 230, 230)",
          "gridcolor": "rgb(255, 255, 255)",
          "showbackground": true,
          "zerolinecolor": "rgb(255, 255, 255)"
         },
         "zaxis": {
          "backgroundcolor": "rgb(230, 230, 230)",
          "gridcolor": "rgb(255, 255, 255)",
          "showbackground": true,
          "zerolinecolor": "rgb(255, 255, 255)"
         }
        },
        "template": {
         "data": {
          "bar": [
           {
            "error_x": {
             "color": "#2a3f5f"
            },
            "error_y": {
             "color": "#2a3f5f"
            },
            "marker": {
             "line": {
              "color": "#E5ECF6",
              "width": 0.5
             }
            },
            "type": "bar"
           }
          ],
          "barpolar": [
           {
            "marker": {
             "line": {
              "color": "#E5ECF6",
              "width": 0.5
             }
            },
            "type": "barpolar"
           }
          ],
          "carpet": [
           {
            "aaxis": {
             "endlinecolor": "#2a3f5f",
             "gridcolor": "white",
             "linecolor": "white",
             "minorgridcolor": "white",
             "startlinecolor": "#2a3f5f"
            },
            "baxis": {
             "endlinecolor": "#2a3f5f",
             "gridcolor": "white",
             "linecolor": "white",
             "minorgridcolor": "white",
             "startlinecolor": "#2a3f5f"
            },
            "type": "carpet"
           }
          ],
          "choropleth": [
           {
            "colorbar": {
             "outlinewidth": 0,
             "ticks": ""
            },
            "type": "choropleth"
           }
          ],
          "contour": [
           {
            "colorbar": {
             "outlinewidth": 0,
             "ticks": ""
            },
            "colorscale": [
             [
              0,
              "#0d0887"
             ],
             [
              0.1111111111111111,
              "#46039f"
             ],
             [
              0.2222222222222222,
              "#7201a8"
             ],
             [
              0.3333333333333333,
              "#9c179e"
             ],
             [
              0.4444444444444444,
              "#bd3786"
             ],
             [
              0.5555555555555556,
              "#d8576b"
             ],
             [
              0.6666666666666666,
              "#ed7953"
             ],
             [
              0.7777777777777778,
              "#fb9f3a"
             ],
             [
              0.8888888888888888,
              "#fdca26"
             ],
             [
              1,
              "#f0f921"
             ]
            ],
            "type": "contour"
           }
          ],
          "contourcarpet": [
           {
            "colorbar": {
             "outlinewidth": 0,
             "ticks": ""
            },
            "type": "contourcarpet"
           }
          ],
          "heatmap": [
           {
            "colorbar": {
             "outlinewidth": 0,
             "ticks": ""
            },
            "colorscale": [
             [
              0,
              "#0d0887"
             ],
             [
              0.1111111111111111,
              "#46039f"
             ],
             [
              0.2222222222222222,
              "#7201a8"
             ],
             [
              0.3333333333333333,
              "#9c179e"
             ],
             [
              0.4444444444444444,
              "#bd3786"
             ],
             [
              0.5555555555555556,
              "#d8576b"
             ],
             [
              0.6666666666666666,
              "#ed7953"
             ],
             [
              0.7777777777777778,
              "#fb9f3a"
             ],
             [
              0.8888888888888888,
              "#fdca26"
             ],
             [
              1,
              "#f0f921"
             ]
            ],
            "type": "heatmap"
           }
          ],
          "heatmapgl": [
           {
            "colorbar": {
             "outlinewidth": 0,
             "ticks": ""
            },
            "colorscale": [
             [
              0,
              "#0d0887"
             ],
             [
              0.1111111111111111,
              "#46039f"
             ],
             [
              0.2222222222222222,
              "#7201a8"
             ],
             [
              0.3333333333333333,
              "#9c179e"
             ],
             [
              0.4444444444444444,
              "#bd3786"
             ],
             [
              0.5555555555555556,
              "#d8576b"
             ],
             [
              0.6666666666666666,
              "#ed7953"
             ],
             [
              0.7777777777777778,
              "#fb9f3a"
             ],
             [
              0.8888888888888888,
              "#fdca26"
             ],
             [
              1,
              "#f0f921"
             ]
            ],
            "type": "heatmapgl"
           }
          ],
          "histogram": [
           {
            "marker": {
             "colorbar": {
              "outlinewidth": 0,
              "ticks": ""
             }
            },
            "type": "histogram"
           }
          ],
          "histogram2d": [
           {
            "colorbar": {
             "outlinewidth": 0,
             "ticks": ""
            },
            "colorscale": [
             [
              0,
              "#0d0887"
             ],
             [
              0.1111111111111111,
              "#46039f"
             ],
             [
              0.2222222222222222,
              "#7201a8"
             ],
             [
              0.3333333333333333,
              "#9c179e"
             ],
             [
              0.4444444444444444,
              "#bd3786"
             ],
             [
              0.5555555555555556,
              "#d8576b"
             ],
             [
              0.6666666666666666,
              "#ed7953"
             ],
             [
              0.7777777777777778,
              "#fb9f3a"
             ],
             [
              0.8888888888888888,
              "#fdca26"
             ],
             [
              1,
              "#f0f921"
             ]
            ],
            "type": "histogram2d"
           }
          ],
          "histogram2dcontour": [
           {
            "colorbar": {
             "outlinewidth": 0,
             "ticks": ""
            },
            "colorscale": [
             [
              0,
              "#0d0887"
             ],
             [
              0.1111111111111111,
              "#46039f"
             ],
             [
              0.2222222222222222,
              "#7201a8"
             ],
             [
              0.3333333333333333,
              "#9c179e"
             ],
             [
              0.4444444444444444,
              "#bd3786"
             ],
             [
              0.5555555555555556,
              "#d8576b"
             ],
             [
              0.6666666666666666,
              "#ed7953"
             ],
             [
              0.7777777777777778,
              "#fb9f3a"
             ],
             [
              0.8888888888888888,
              "#fdca26"
             ],
             [
              1,
              "#f0f921"
             ]
            ],
            "type": "histogram2dcontour"
           }
          ],
          "mesh3d": [
           {
            "colorbar": {
             "outlinewidth": 0,
             "ticks": ""
            },
            "type": "mesh3d"
           }
          ],
          "parcoords": [
           {
            "line": {
             "colorbar": {
              "outlinewidth": 0,
              "ticks": ""
             }
            },
            "type": "parcoords"
           }
          ],
          "pie": [
           {
            "automargin": true,
            "type": "pie"
           }
          ],
          "scatter": [
           {
            "marker": {
             "colorbar": {
              "outlinewidth": 0,
              "ticks": ""
             }
            },
            "type": "scatter"
           }
          ],
          "scatter3d": [
           {
            "line": {
             "colorbar": {
              "outlinewidth": 0,
              "ticks": ""
             }
            },
            "marker": {
             "colorbar": {
              "outlinewidth": 0,
              "ticks": ""
             }
            },
            "type": "scatter3d"
           }
          ],
          "scattercarpet": [
           {
            "marker": {
             "colorbar": {
              "outlinewidth": 0,
              "ticks": ""
             }
            },
            "type": "scattercarpet"
           }
          ],
          "scattergeo": [
           {
            "marker": {
             "colorbar": {
              "outlinewidth": 0,
              "ticks": ""
             }
            },
            "type": "scattergeo"
           }
          ],
          "scattergl": [
           {
            "marker": {
             "colorbar": {
              "outlinewidth": 0,
              "ticks": ""
             }
            },
            "type": "scattergl"
           }
          ],
          "scattermapbox": [
           {
            "marker": {
             "colorbar": {
              "outlinewidth": 0,
              "ticks": ""
             }
            },
            "type": "scattermapbox"
           }
          ],
          "scatterpolar": [
           {
            "marker": {
             "colorbar": {
              "outlinewidth": 0,
              "ticks": ""
             }
            },
            "type": "scatterpolar"
           }
          ],
          "scatterpolargl": [
           {
            "marker": {
             "colorbar": {
              "outlinewidth": 0,
              "ticks": ""
             }
            },
            "type": "scatterpolargl"
           }
          ],
          "scatterternary": [
           {
            "marker": {
             "colorbar": {
              "outlinewidth": 0,
              "ticks": ""
             }
            },
            "type": "scatterternary"
           }
          ],
          "surface": [
           {
            "colorbar": {
             "outlinewidth": 0,
             "ticks": ""
            },
            "colorscale": [
             [
              0,
              "#0d0887"
             ],
             [
              0.1111111111111111,
              "#46039f"
             ],
             [
              0.2222222222222222,
              "#7201a8"
             ],
             [
              0.3333333333333333,
              "#9c179e"
             ],
             [
              0.4444444444444444,
              "#bd3786"
             ],
             [
              0.5555555555555556,
              "#d8576b"
             ],
             [
              0.6666666666666666,
              "#ed7953"
             ],
             [
              0.7777777777777778,
              "#fb9f3a"
             ],
             [
              0.8888888888888888,
              "#fdca26"
             ],
             [
              1,
              "#f0f921"
             ]
            ],
            "type": "surface"
           }
          ],
          "table": [
           {
            "cells": {
             "fill": {
              "color": "#EBF0F8"
             },
             "line": {
              "color": "white"
             }
            },
            "header": {
             "fill": {
              "color": "#C8D4E3"
             },
             "line": {
              "color": "white"
             }
            },
            "type": "table"
           }
          ]
         },
         "layout": {
          "annotationdefaults": {
           "arrowcolor": "#2a3f5f",
           "arrowhead": 0,
           "arrowwidth": 1
          },
          "coloraxis": {
           "colorbar": {
            "outlinewidth": 0,
            "ticks": ""
           }
          },
          "colorscale": {
           "diverging": [
            [
             0,
             "#8e0152"
            ],
            [
             0.1,
             "#c51b7d"
            ],
            [
             0.2,
             "#de77ae"
            ],
            [
             0.3,
             "#f1b6da"
            ],
            [
             0.4,
             "#fde0ef"
            ],
            [
             0.5,
             "#f7f7f7"
            ],
            [
             0.6,
             "#e6f5d0"
            ],
            [
             0.7,
             "#b8e186"
            ],
            [
             0.8,
             "#7fbc41"
            ],
            [
             0.9,
             "#4d9221"
            ],
            [
             1,
             "#276419"
            ]
           ],
           "sequential": [
            [
             0,
             "#0d0887"
            ],
            [
             0.1111111111111111,
             "#46039f"
            ],
            [
             0.2222222222222222,
             "#7201a8"
            ],
            [
             0.3333333333333333,
             "#9c179e"
            ],
            [
             0.4444444444444444,
             "#bd3786"
            ],
            [
             0.5555555555555556,
             "#d8576b"
            ],
            [
             0.6666666666666666,
             "#ed7953"
            ],
            [
             0.7777777777777778,
             "#fb9f3a"
            ],
            [
             0.8888888888888888,
             "#fdca26"
            ],
            [
             1,
             "#f0f921"
            ]
           ],
           "sequentialminus": [
            [
             0,
             "#0d0887"
            ],
            [
             0.1111111111111111,
             "#46039f"
            ],
            [
             0.2222222222222222,
             "#7201a8"
            ],
            [
             0.3333333333333333,
             "#9c179e"
            ],
            [
             0.4444444444444444,
             "#bd3786"
            ],
            [
             0.5555555555555556,
             "#d8576b"
            ],
            [
             0.6666666666666666,
             "#ed7953"
            ],
            [
             0.7777777777777778,
             "#fb9f3a"
            ],
            [
             0.8888888888888888,
             "#fdca26"
            ],
            [
             1,
             "#f0f921"
            ]
           ]
          },
          "colorway": [
           "#636efa",
           "#EF553B",
           "#00cc96",
           "#ab63fa",
           "#FFA15A",
           "#19d3f3",
           "#FF6692",
           "#B6E880",
           "#FF97FF",
           "#FECB52"
          ],
          "font": {
           "color": "#2a3f5f"
          },
          "geo": {
           "bgcolor": "white",
           "lakecolor": "white",
           "landcolor": "#E5ECF6",
           "showlakes": true,
           "showland": true,
           "subunitcolor": "white"
          },
          "hoverlabel": {
           "align": "left"
          },
          "hovermode": "closest",
          "mapbox": {
           "style": "light"
          },
          "paper_bgcolor": "white",
          "plot_bgcolor": "#E5ECF6",
          "polar": {
           "angularaxis": {
            "gridcolor": "white",
            "linecolor": "white",
            "ticks": ""
           },
           "bgcolor": "#E5ECF6",
           "radialaxis": {
            "gridcolor": "white",
            "linecolor": "white",
            "ticks": ""
           }
          },
          "scene": {
           "xaxis": {
            "backgroundcolor": "#E5ECF6",
            "gridcolor": "white",
            "gridwidth": 2,
            "linecolor": "white",
            "showbackground": true,
            "ticks": "",
            "zerolinecolor": "white"
           },
           "yaxis": {
            "backgroundcolor": "#E5ECF6",
            "gridcolor": "white",
            "gridwidth": 2,
            "linecolor": "white",
            "showbackground": true,
            "ticks": "",
            "zerolinecolor": "white"
           },
           "zaxis": {
            "backgroundcolor": "#E5ECF6",
            "gridcolor": "white",
            "gridwidth": 2,
            "linecolor": "white",
            "showbackground": true,
            "ticks": "",
            "zerolinecolor": "white"
           }
          },
          "shapedefaults": {
           "line": {
            "color": "#2a3f5f"
           }
          },
          "ternary": {
           "aaxis": {
            "gridcolor": "white",
            "linecolor": "white",
            "ticks": ""
           },
           "baxis": {
            "gridcolor": "white",
            "linecolor": "white",
            "ticks": ""
           },
           "bgcolor": "#E5ECF6",
           "caxis": {
            "gridcolor": "white",
            "linecolor": "white",
            "ticks": ""
           }
          },
          "title": {
           "x": 0.05
          },
          "xaxis": {
           "automargin": true,
           "gridcolor": "white",
           "linecolor": "white",
           "ticks": "",
           "title": {
            "standoff": 15
           },
           "zerolinecolor": "white",
           "zerolinewidth": 2
          },
          "yaxis": {
           "automargin": true,
           "gridcolor": "white",
           "linecolor": "white",
           "ticks": "",
           "title": {
            "standoff": 15
           },
           "zerolinecolor": "white",
           "zerolinewidth": 2
          }
         }
        },
        "title": {
         "text": "wafare"
        },
        "width": 800
       }
      },
      "text/html": [
       "<div>\n",
       "        \n",
       "        \n",
       "            <div id=\"22535611-c63b-426c-9a67-5fb0c77445fe\" class=\"plotly-graph-div\" style=\"height:800px; width:800px;\"></div>\n",
       "            <script type=\"text/javascript\">\n",
       "                require([\"plotly\"], function(Plotly) {\n",
       "                    window.PLOTLYENV=window.PLOTLYENV || {};\n",
       "                    \n",
       "                if (document.getElementById(\"22535611-c63b-426c-9a67-5fb0c77445fe\")) {\n",
       "                    Plotly.newPlot(\n",
       "                        '22535611-c63b-426c-9a67-5fb0c77445fe',\n",
       "                        [{\"facecolor\": [\"rgb(134, 123, 104)\", \"rgb(122, 122, 113)\", \"rgb(116, 122, 117)\", \"rgb(112, 122, 120)\", \"rgb(78, 121, 145)\", \"rgb(184, 124, 67)\", \"rgb(171, 124, 77)\", \"rgb(124, 122, 111)\", \"rgb(156, 123, 87)\", \"rgb(170, 124, 77)\", \"rgb(254, 127, 15)\", \"rgb(240, 126, 25)\", \"rgb(194, 125, 59)\", \"rgb(155, 123, 88)\", \"rgb(154, 123, 89)\", \"rgb(220, 126, 40)\", \"rgb(190, 125, 62)\", \"rgb(195, 125, 58)\", \"rgb(136, 123, 102)\", \"rgb(207, 125, 50)\", \"rgb(151, 123, 91)\", \"rgb(212, 125, 46)\", \"rgb(238, 126, 27)\", \"rgb(174, 124, 74)\", \"rgb(183, 124, 67)\", \"rgb(198, 125, 56)\", \"rgb(177, 124, 72)\", \"rgb(148, 123, 93)\", \"rgb(145, 123, 96)\", \"rgb(101, 122, 128)\", \"rgb(31, 119, 180)\", \"rgb(84, 121, 141)\", \"rgb(82, 121, 142)\", \"rgb(104, 122, 126)\", \"rgb(185, 124, 66)\", \"rgb(112, 122, 120)\", \"rgb(170, 124, 77)\", \"rgb(170, 124, 77)\", \"rgb(147, 123, 94)\", \"rgb(122, 122, 112)\", \"rgb(150, 123, 92)\", \"rgb(125, 122, 110)\", \"rgb(200, 125, 55)\", \"rgb(255, 127, 14)\", \"rgb(177, 124, 72)\", \"rgb(93, 121, 134)\", \"rgb(159, 124, 85)\", \"rgb(115, 122, 118)\", \"rgb(155, 123, 88)\", \"rgb(138, 123, 101)\", \"rgb(138, 123, 101)\", \"rgb(97, 121, 131)\", \"rgb(144, 123, 96)\", \"rgb(121, 122, 114)\", \"rgb(179, 124, 71)\", \"rgb(243, 127, 23)\", \"rgb(161, 124, 84)\", \"rgb(189, 125, 63)\", \"rgb(212, 125, 46)\", \"rgb(174, 124, 74)\", \"rgb(190, 125, 62)\", \"rgb(175, 124, 73)\", \"rgb(167, 124, 79)\", \"rgb(171, 124, 76)\", \"rgb(233, 126, 31)\", \"rgb(222, 126, 38)\", \"rgb(98, 121, 130)\", \"rgb(165, 124, 81)\", \"rgb(106, 122, 125)\", \"rgb(182, 124, 68)\", \"rgb(198, 125, 56)\", \"rgb(112, 122, 120)\"], \"i\": [38, 32, 44, 17, 22, 18, 13, 14, 2, 19, 6, 3, 10, 16, 21, 21, 12, 12, 4, 16, 8, 8, 24, 8, 18, 6, 5, 5, 5, 4, 33, 14, 33, 16, 35, 34, 7, 21, 19, 8, 6, 7, 39, 18, 39, 21, 41, 40, 0, 12, 14, 4, 3, 0, 27, 10, 27, 12, 29, 28, 9, 24, 26, 10, 9, 9, 45, 19, 45, 24, 47, 46], \"j\": [17, 13, 22, 36, 42, 17, 30, 13, 3, 22, 18, 10, 3, 36, 42, 6, 30, 3, 14, 4, 2, 19, 8, 24, 5, 5, 16, 4, 6, 5, 14, 33, 34, 35, 16, 35, 21, 7, 7, 7, 7, 8, 18, 39, 40, 41, 21, 41, 12, 0, 0, 0, 0, 4, 10, 27, 28, 29, 12, 29, 10, 9, 9, 9, 48, 24, 19, 45, 46, 47, 24, 47], \"k\": [37, 31, 43, 37, 43, 38, 31, 32, 1, 44, 20, 11, 2, 17, 22, 20, 13, 11, 15, 15, 1, 23, 23, 2, 17, 18, 17, 16, 1, 1, 32, 15, 15, 36, 15, 15, 22, 6, 22, 19, 1, 1, 38, 20, 20, 42, 20, 20, 13, 3, 13, 14, 1, 1, 26, 11, 11, 30, 11, 11, 2, 2, 25, 26, 25, 48, 44, 23, 23, 48, 23, 23], \"name\": \"\", \"type\": \"mesh3d\", \"x\": [-49000.0, 0.0, 3.0002899036735098e-12, -34648.19921875, -34648.19921875, -9.00085995320099e-12, 34648.19921875, 49000.0, 34648.19921875, 6.00056983268704e-12, -37503.0, -69296.5, -90540.203125, -98000.0, -90540.203125, -69296.5, -37503.0, -1.80017008244437e-11, 37503.0, 90540.203125, 69296.5, 90540.203125, 98000.0, 69296.5, 37503.0, 9.00085995320099e-12, -38046.3984375, -73500.0, -103945.0, -127306.0, -141991.0, -147000.0, -141991.0, -127306.0, -103945.0, -73500.0, -38046.3984375, -2.70025998089229e-11, 38046.3984375, 73500.0, 103945.0, 127306.0, 141991.0, 147000.0, 141991.0, 127306.0, 103945.0, 73500.0, 38046.3984375], \"y\": [6.00056983268704e-12, 0.0, 49000.0, 34648.19921875, -34648.19921875, -49000.0, -34648.19921875, -1.20010997667341e-11, 34648.19921875, 98000.0, 90540.203125, 69296.5, 37503.0, 1.20010997667341e-11, -37503.0, -69296.5, -90540.203125, -98000.0, -90540.203125, 37503.0, -69296.5, -37503.0, -2.400230014742989e-11, 69296.5, 90540.203125, 147000.0, 141991.0, 127306.0, 103945.0, 73500.0, 38046.3984375, 1.80017008244437e-11, -38046.3984375, -73500.0, -103945.0, -127306.0, -141991.0, -147000.0, -141991.0, -127306.0, -103945.0, -73500.0, -38046.3984375, -3.600340164888749e-11, 38046.3984375, 73500.0, 103945.0, 127306.0, 141991.0], \"z\": [1457.2127685546875, 1521.2877197265625, 1481.16796875, 1530.0267333984375, 1482.6636962890625, 1418.245849609375, 1569.838623046875, 1429.61181640625, 1519.302978515625, 1520.4273681640625, 1598.55126953125, 1573.171142578125, 1508.5560302734375, 1565.4244384765625, 1473.85888671875, 1536.47900390625, 1615.58642578125, 1541.06396484375, 1628.3560791015625, 1515.85595703125, 1530.9097900390625, 1560.5384521484375, 1569.6041259765625, 1609.1644287109375, 1569.103271484375, 1589.8660888671875, 1444.2774658203125, 1534.9300537109375, 1433.689697265625, 1562.4163818359375, 1527.1827392578125, 1469.153076171875, 1429.3272705078125, 1377.66552734375, 1468.6180419921875, 1437.7467041015625, 1374.010498046875, 1527.957275390625, 1419.490478515625, 1572.33056640625, 1471.3511962890625, 1447.0166015625, 1397.470947265625, 1408.5379638671875, 1474.149169921875, 1425.8800048828125, 1395.97265625, 1438.7291259765625, 1576.240966796875]}, {\"line\": {\"color\": \"rgb(50, 50, 50)\", \"width\": 1.5}, \"mode\": \"lines\", \"showlegend\": false, \"type\": \"scatter3d\", \"x\": [38046.3984375, -1.80017008244437e-11, -2.70025998089229e-11, 38046.3984375, null, -141991.0, -98000.0, -147000.0, -141991.0, null, 141991.0, 98000.0, 147000.0, 141991.0, null, -1.80017008244437e-11, -38046.3984375, -2.70025998089229e-11, -1.80017008244437e-11, null, 98000.0, 141991.0, 147000.0, 98000.0, null, 37503.0, -1.80017008244437e-11, 38046.3984375, 37503.0, null, -98000.0, -141991.0, -147000.0, -98000.0, null, -90540.203125, -98000.0, -141991.0, -90540.203125, null, 3.0002899036735098e-12, -34648.19921875, 0.0, 3.0002899036735098e-12, null, 90540.203125, 98000.0, 141991.0, 90540.203125, null, 34648.19921875, 37503.0, 69296.5, 34648.19921875, null, -34648.19921875, -37503.0, -69296.5, -34648.19921875, null, -37503.0, -34648.19921875, 3.0002899036735098e-12, -37503.0, null, -37503.0, -38046.3984375, -1.80017008244437e-11, -37503.0, null, 90540.203125, 141991.0, 98000.0, 90540.203125, null, 90540.203125, 34648.19921875, 69296.5, 90540.203125, null, -90540.203125, -141991.0, -98000.0, -90540.203125, null, -90540.203125, -34648.19921875, -69296.5, -90540.203125, null, -34648.19921875, -90540.203125, -69296.5, -34648.19921875, null, -37503.0, -34648.19921875, -69296.5, -37503.0, null, 34648.19921875, 3.0002899036735098e-12, 0.0, 34648.19921875, null, 34648.19921875, 90540.203125, 69296.5, 34648.19921875, null, 37503.0, 34648.19921875, 69296.5, 37503.0, null, 34648.19921875, 37503.0, 3.0002899036735098e-12, 34648.19921875, null, 37503.0, -9.00085995320099e-12, -1.80017008244437e-11, 37503.0, null, 34648.19921875, -9.00085995320099e-12, 37503.0, 34648.19921875, null, -9.00085995320099e-12, -37503.0, -1.80017008244437e-11, -9.00085995320099e-12, null, -9.00085995320099e-12, -34648.19921875, -37503.0, -9.00085995320099e-12, null, -9.00085995320099e-12, 34648.19921875, 0.0, -9.00085995320099e-12, null, -34648.19921875, -9.00085995320099e-12, 0.0, -34648.19921875, null, -127306.0, -90540.203125, -141991.0, -127306.0, null, -90540.203125, -127306.0, -69296.5, -90540.203125, null, -127306.0, -103945.0, -69296.5, -127306.0, null, -37503.0, -73500.0, -38046.3984375, -37503.0, null, -73500.0, -37503.0, -69296.5, -73500.0, null, -103945.0, -73500.0, -69296.5, -103945.0, null, 49000.0, 90540.203125, 98000.0, 49000.0, null, 90540.203125, 49000.0, 34648.19921875, 90540.203125, null, 90540.203125, 49000.0, 98000.0, 90540.203125, null, 34648.19921875, 49000.0, 90540.203125, 34648.19921875, null, 34648.19921875, 49000.0, 0.0, 34648.19921875, null, 49000.0, 34648.19921875, 0.0, 49000.0, null, 73500.0, 37503.0, 38046.3984375, 73500.0, null, 37503.0, 73500.0, 69296.5, 37503.0, null, 73500.0, 103945.0, 69296.5, 73500.0, null, 90540.203125, 127306.0, 141991.0, 90540.203125, null, 127306.0, 90540.203125, 69296.5, 127306.0, null, 103945.0, 127306.0, 69296.5, 103945.0, null, -49000.0, -90540.203125, -98000.0, -49000.0, null, -90540.203125, -49000.0, -34648.19921875, -90540.203125, null, -90540.203125, -49000.0, -98000.0, -90540.203125, null, -34648.19921875, -49000.0, -90540.203125, -34648.19921875, null, -34648.19921875, -49000.0, 0.0, -34648.19921875, null, -49000.0, -34648.19921875, 0.0, -49000.0, null, -73500.0, -37503.0, -38046.3984375, -73500.0, null, -37503.0, -73500.0, -69296.5, -37503.0, null, -73500.0, -103945.0, -69296.5, -73500.0, null, -90540.203125, -127306.0, -141991.0, -90540.203125, null, -127306.0, -90540.203125, -69296.5, -127306.0, null, -103945.0, -127306.0, -69296.5, -103945.0, null, 6.00056983268704e-12, -37503.0, 3.0002899036735098e-12, 6.00056983268704e-12, null, 37503.0, 6.00056983268704e-12, 3.0002899036735098e-12, 37503.0, null, -38046.3984375, 6.00056983268704e-12, 9.00085995320099e-12, -38046.3984375, null, -37503.0, 6.00056983268704e-12, -38046.3984375, -37503.0, null, 6.00056983268704e-12, 38046.3984375, 9.00085995320099e-12, 6.00056983268704e-12, null, 6.00056983268704e-12, 37503.0, 38046.3984375, 6.00056983268704e-12, null, 127306.0, 90540.203125, 141991.0, 127306.0, null, 90540.203125, 127306.0, 69296.5, 90540.203125, null, 127306.0, 103945.0, 69296.5, 127306.0, null, 37503.0, 73500.0, 38046.3984375, 37503.0, null, 73500.0, 37503.0, 69296.5, 73500.0, null, 103945.0, 73500.0, 69296.5, 103945.0, null], \"y\": [-141991.0, -98000.0, -147000.0, -141991.0, null, -38046.3984375, 1.20010997667341e-11, 1.80017008244437e-11, -38046.3984375, null, 38046.3984375, -2.400230014742989e-11, -3.600340164888749e-11, 38046.3984375, null, -98000.0, -141991.0, -147000.0, -98000.0, null, -2.400230014742989e-11, -38046.3984375, -3.600340164888749e-11, -2.400230014742989e-11, null, -90540.203125, -98000.0, -141991.0, -90540.203125, null, 1.20010997667341e-11, 38046.3984375, 1.80017008244437e-11, 1.20010997667341e-11, null, -37503.0, 1.20010997667341e-11, -38046.3984375, -37503.0, null, 49000.0, 34648.19921875, 0.0, 49000.0, null, 37503.0, -2.400230014742989e-11, 38046.3984375, 37503.0, null, -34648.19921875, -90540.203125, -69296.5, -34648.19921875, null, 34648.19921875, 90540.203125, 69296.5, 34648.19921875, null, 90540.203125, 34648.19921875, 49000.0, 90540.203125, null, -90540.203125, -141991.0, -98000.0, -90540.203125, null, -37503.0, -38046.3984375, -2.400230014742989e-11, -37503.0, null, -37503.0, -34648.19921875, -69296.5, -37503.0, null, 37503.0, 38046.3984375, 1.20010997667341e-11, 37503.0, null, 37503.0, 34648.19921875, 69296.5, 37503.0, null, -34648.19921875, -37503.0, -69296.5, -34648.19921875, null, -90540.203125, -34648.19921875, -69296.5, -90540.203125, null, 34648.19921875, 49000.0, 0.0, 34648.19921875, null, 34648.19921875, 37503.0, 69296.5, 34648.19921875, null, 90540.203125, 34648.19921875, 69296.5, 90540.203125, null, 34648.19921875, 90540.203125, 49000.0, 34648.19921875, null, -90540.203125, -49000.0, -98000.0, -90540.203125, null, -34648.19921875, -49000.0, -90540.203125, -34648.19921875, null, -49000.0, -90540.203125, -98000.0, -49000.0, null, -49000.0, -34648.19921875, -90540.203125, -49000.0, null, -49000.0, -34648.19921875, 0.0, -49000.0, null, -34648.19921875, -49000.0, 0.0, -34648.19921875, null, -73500.0, -37503.0, -38046.3984375, -73500.0, null, -37503.0, -73500.0, -69296.5, -37503.0, null, -73500.0, -103945.0, -69296.5, -73500.0, null, -90540.203125, -127306.0, -141991.0, -90540.203125, null, -127306.0, -90540.203125, -69296.5, -127306.0, null, -103945.0, -127306.0, -69296.5, -103945.0, null, -1.20010997667341e-11, -37503.0, -2.400230014742989e-11, -1.20010997667341e-11, null, -37503.0, -1.20010997667341e-11, -34648.19921875, -37503.0, null, 37503.0, -1.20010997667341e-11, -2.400230014742989e-11, 37503.0, null, 34648.19921875, -1.20010997667341e-11, 37503.0, 34648.19921875, null, -34648.19921875, -1.20010997667341e-11, 0.0, -34648.19921875, null, -1.20010997667341e-11, 34648.19921875, 0.0, -1.20010997667341e-11, null, -127306.0, -90540.203125, -141991.0, -127306.0, null, -90540.203125, -127306.0, -69296.5, -90540.203125, null, -127306.0, -103945.0, -69296.5, -127306.0, null, -37503.0, -73500.0, -38046.3984375, -37503.0, null, -73500.0, -37503.0, -69296.5, -73500.0, null, -103945.0, -73500.0, -69296.5, -103945.0, null, 6.00056983268704e-12, 37503.0, 1.20010997667341e-11, 6.00056983268704e-12, null, 37503.0, 6.00056983268704e-12, 34648.19921875, 37503.0, null, -37503.0, 6.00056983268704e-12, 1.20010997667341e-11, -37503.0, null, -34648.19921875, 6.00056983268704e-12, -37503.0, -34648.19921875, null, 34648.19921875, 6.00056983268704e-12, 0.0, 34648.19921875, null, 6.00056983268704e-12, -34648.19921875, 0.0, 6.00056983268704e-12, null, 127306.0, 90540.203125, 141991.0, 127306.0, null, 90540.203125, 127306.0, 69296.5, 90540.203125, null, 127306.0, 103945.0, 69296.5, 127306.0, null, 37503.0, 73500.0, 38046.3984375, 37503.0, null, 73500.0, 37503.0, 69296.5, 73500.0, null, 103945.0, 73500.0, 69296.5, 103945.0, null, 98000.0, 90540.203125, 49000.0, 98000.0, null, 90540.203125, 98000.0, 49000.0, 90540.203125, null, 141991.0, 98000.0, 147000.0, 141991.0, null, 90540.203125, 98000.0, 141991.0, 90540.203125, null, 98000.0, 141991.0, 147000.0, 98000.0, null, 98000.0, 90540.203125, 141991.0, 98000.0, null, 73500.0, 37503.0, 38046.3984375, 73500.0, null, 37503.0, 73500.0, 69296.5, 37503.0, null, 73500.0, 103945.0, 69296.5, 73500.0, null, 90540.203125, 127306.0, 141991.0, 90540.203125, null, 127306.0, 90540.203125, 69296.5, 127306.0, null, 103945.0, 127306.0, 69296.5, 103945.0, null], \"z\": [1419.490478515625, 1541.06396484375, 1527.957275390625, 1419.490478515625, null, 1429.3272705078125, 1565.4244384765625, 1469.153076171875, 1429.3272705078125, null, 1474.149169921875, 1569.6041259765625, 1408.5379638671875, 1474.149169921875, null, 1541.06396484375, 1374.010498046875, 1527.957275390625, 1541.06396484375, null, 1569.6041259765625, 1397.470947265625, 1408.5379638671875, 1569.6041259765625, null, 1628.3560791015625, 1541.06396484375, 1419.490478515625, 1628.3560791015625, null, 1565.4244384765625, 1527.1827392578125, 1469.153076171875, 1565.4244384765625, null, 1473.85888671875, 1565.4244384765625, 1429.3272705078125, 1473.85888671875, null, 1481.16796875, 1530.0267333984375, 1521.2877197265625, 1481.16796875, null, 1515.85595703125, 1569.6041259765625, 1474.149169921875, 1515.85595703125, null, 1569.838623046875, 1628.3560791015625, 1530.9097900390625, 1569.838623046875, null, 1530.0267333984375, 1598.55126953125, 1573.171142578125, 1530.0267333984375, null, 1598.55126953125, 1530.0267333984375, 1481.16796875, 1598.55126953125, null, 1615.58642578125, 1374.010498046875, 1541.06396484375, 1615.58642578125, null, 1560.5384521484375, 1397.470947265625, 1569.6041259765625, 1560.5384521484375, null, 1560.5384521484375, 1569.838623046875, 1530.9097900390625, 1560.5384521484375, null, 1508.5560302734375, 1527.1827392578125, 1565.4244384765625, 1508.5560302734375, null, 1508.5560302734375, 1530.0267333984375, 1573.171142578125, 1508.5560302734375, null, 1482.6636962890625, 1473.85888671875, 1536.47900390625, 1482.6636962890625, null, 1615.58642578125, 1482.6636962890625, 1536.47900390625, 1615.58642578125, null, 1519.302978515625, 1481.16796875, 1521.2877197265625, 1519.302978515625, null, 1519.302978515625, 1515.85595703125, 1609.1644287109375, 1519.302978515625, null, 1569.103271484375, 1519.302978515625, 1609.1644287109375, 1569.103271484375, null, 1519.302978515625, 1569.103271484375, 1481.16796875, 1519.302978515625, null, 1628.3560791015625, 1418.245849609375, 1541.06396484375, 1628.3560791015625, null, 1569.838623046875, 1418.245849609375, 1628.3560791015625, 1569.838623046875, null, 1418.245849609375, 1615.58642578125, 1541.06396484375, 1418.245849609375, null, 1418.245849609375, 1482.6636962890625, 1615.58642578125, 1418.245849609375, null, 1418.245849609375, 1569.838623046875, 1521.2877197265625, 1418.245849609375, null, 1482.6636962890625, 1418.245849609375, 1521.2877197265625, 1482.6636962890625, null, 1377.66552734375, 1473.85888671875, 1429.3272705078125, 1377.66552734375, null, 1473.85888671875, 1377.66552734375, 1536.47900390625, 1473.85888671875, null, 1377.66552734375, 1468.6180419921875, 1536.47900390625, 1377.66552734375, null, 1615.58642578125, 1437.7467041015625, 1374.010498046875, 1615.58642578125, null, 1437.7467041015625, 1615.58642578125, 1536.47900390625, 1437.7467041015625, null, 1468.6180419921875, 1437.7467041015625, 1536.47900390625, 1468.6180419921875, null, 1429.61181640625, 1560.5384521484375, 1569.6041259765625, 1429.61181640625, null, 1560.5384521484375, 1429.61181640625, 1569.838623046875, 1560.5384521484375, null, 1515.85595703125, 1429.61181640625, 1569.6041259765625, 1515.85595703125, null, 1519.302978515625, 1429.61181640625, 1515.85595703125, 1519.302978515625, null, 1569.838623046875, 1429.61181640625, 1521.2877197265625, 1569.838623046875, null, 1429.61181640625, 1519.302978515625, 1521.2877197265625, 1429.61181640625, null, 1572.33056640625, 1628.3560791015625, 1419.490478515625, 1572.33056640625, null, 1628.3560791015625, 1572.33056640625, 1530.9097900390625, 1628.3560791015625, null, 1572.33056640625, 1471.3511962890625, 1530.9097900390625, 1572.33056640625, null, 1560.5384521484375, 1447.0166015625, 1397.470947265625, 1560.5384521484375, null, 1447.0166015625, 1560.5384521484375, 1530.9097900390625, 1447.0166015625, null, 1471.3511962890625, 1447.0166015625, 1530.9097900390625, 1471.3511962890625, null, 1457.2127685546875, 1508.5560302734375, 1565.4244384765625, 1457.2127685546875, null, 1508.5560302734375, 1457.2127685546875, 1530.0267333984375, 1508.5560302734375, null, 1473.85888671875, 1457.2127685546875, 1565.4244384765625, 1473.85888671875, null, 1482.6636962890625, 1457.2127685546875, 1473.85888671875, 1482.6636962890625, null, 1530.0267333984375, 1457.2127685546875, 1521.2877197265625, 1530.0267333984375, null, 1457.2127685546875, 1482.6636962890625, 1521.2877197265625, 1457.2127685546875, null, 1534.9300537109375, 1598.55126953125, 1444.2774658203125, 1534.9300537109375, null, 1598.55126953125, 1534.9300537109375, 1573.171142578125, 1598.55126953125, null, 1534.9300537109375, 1433.689697265625, 1573.171142578125, 1534.9300537109375, null, 1508.5560302734375, 1562.4163818359375, 1527.1827392578125, 1508.5560302734375, null, 1562.4163818359375, 1508.5560302734375, 1573.171142578125, 1562.4163818359375, null, 1433.689697265625, 1562.4163818359375, 1573.171142578125, 1433.689697265625, null, 1520.4273681640625, 1598.55126953125, 1481.16796875, 1520.4273681640625, null, 1569.103271484375, 1520.4273681640625, 1481.16796875, 1569.103271484375, null, 1444.2774658203125, 1520.4273681640625, 1589.8660888671875, 1444.2774658203125, null, 1598.55126953125, 1520.4273681640625, 1444.2774658203125, 1598.55126953125, null, 1520.4273681640625, 1576.240966796875, 1589.8660888671875, 1520.4273681640625, null, 1520.4273681640625, 1569.103271484375, 1576.240966796875, 1520.4273681640625, null, 1425.8800048828125, 1515.85595703125, 1474.149169921875, 1425.8800048828125, null, 1515.85595703125, 1425.8800048828125, 1609.1644287109375, 1515.85595703125, null, 1425.8800048828125, 1395.97265625, 1609.1644287109375, 1425.8800048828125, null, 1569.103271484375, 1438.7291259765625, 1576.240966796875, 1569.103271484375, null, 1438.7291259765625, 1569.103271484375, 1609.1644287109375, 1438.7291259765625, null, 1395.97265625, 1438.7291259765625, 1609.1644287109375, 1395.97265625, null]}, {\"hoverinfo\": \"none\", \"marker\": {\"color\": [1426.9505615234375, 1577.1988118489583], \"colorscale\": [[0.0, \"rgb(31, 119, 180)\"], [1.0, \"rgb(255, 127, 14)\"]], \"showscale\": true, \"size\": 0.1}, \"mode\": \"markers\", \"showlegend\": false, \"type\": \"scatter3d\", \"x\": [-49000.0], \"y\": [6.00056983268704e-12], \"z\": [1457.2127685546875]}],\n",
       "                        {\"height\": 800, \"scene\": {\"aspectratio\": {\"x\": 1, \"y\": 1, \"z\": 0.5}, \"xaxis\": {\"backgroundcolor\": \"rgb(230, 230, 230)\", \"gridcolor\": \"rgb(255, 255, 255)\", \"showbackground\": true, \"zerolinecolor\": \"rgb(255, 255, 255)\"}, \"yaxis\": {\"backgroundcolor\": \"rgb(230, 230, 230)\", \"gridcolor\": \"rgb(255, 255, 255)\", \"showbackground\": true, \"zerolinecolor\": \"rgb(255, 255, 255)\"}, \"zaxis\": {\"backgroundcolor\": \"rgb(230, 230, 230)\", \"gridcolor\": \"rgb(255, 255, 255)\", \"showbackground\": true, \"zerolinecolor\": \"rgb(255, 255, 255)\"}}, \"template\": {\"data\": {\"bar\": [{\"error_x\": {\"color\": \"#2a3f5f\"}, \"error_y\": {\"color\": \"#2a3f5f\"}, \"marker\": {\"line\": {\"color\": \"#E5ECF6\", \"width\": 0.5}}, \"type\": \"bar\"}], \"barpolar\": [{\"marker\": {\"line\": {\"color\": \"#E5ECF6\", \"width\": 0.5}}, \"type\": \"barpolar\"}], \"carpet\": [{\"aaxis\": {\"endlinecolor\": \"#2a3f5f\", \"gridcolor\": \"white\", \"linecolor\": \"white\", \"minorgridcolor\": \"white\", \"startlinecolor\": \"#2a3f5f\"}, \"baxis\": {\"endlinecolor\": \"#2a3f5f\", \"gridcolor\": \"white\", \"linecolor\": \"white\", \"minorgridcolor\": \"white\", \"startlinecolor\": \"#2a3f5f\"}, \"type\": \"carpet\"}], \"choropleth\": [{\"colorbar\": {\"outlinewidth\": 0, \"ticks\": \"\"}, \"type\": \"choropleth\"}], \"contour\": [{\"colorbar\": {\"outlinewidth\": 0, \"ticks\": \"\"}, \"colorscale\": [[0.0, \"#0d0887\"], [0.1111111111111111, \"#46039f\"], [0.2222222222222222, \"#7201a8\"], [0.3333333333333333, \"#9c179e\"], [0.4444444444444444, \"#bd3786\"], [0.5555555555555556, \"#d8576b\"], [0.6666666666666666, \"#ed7953\"], [0.7777777777777778, \"#fb9f3a\"], [0.8888888888888888, \"#fdca26\"], [1.0, \"#f0f921\"]], \"type\": \"contour\"}], \"contourcarpet\": [{\"colorbar\": {\"outlinewidth\": 0, \"ticks\": \"\"}, \"type\": \"contourcarpet\"}], \"heatmap\": [{\"colorbar\": {\"outlinewidth\": 0, \"ticks\": \"\"}, \"colorscale\": [[0.0, \"#0d0887\"], [0.1111111111111111, \"#46039f\"], [0.2222222222222222, \"#7201a8\"], [0.3333333333333333, \"#9c179e\"], [0.4444444444444444, \"#bd3786\"], [0.5555555555555556, \"#d8576b\"], [0.6666666666666666, \"#ed7953\"], [0.7777777777777778, \"#fb9f3a\"], [0.8888888888888888, \"#fdca26\"], [1.0, \"#f0f921\"]], \"type\": \"heatmap\"}], \"heatmapgl\": [{\"colorbar\": {\"outlinewidth\": 0, \"ticks\": \"\"}, \"colorscale\": [[0.0, \"#0d0887\"], [0.1111111111111111, \"#46039f\"], [0.2222222222222222, \"#7201a8\"], [0.3333333333333333, \"#9c179e\"], [0.4444444444444444, \"#bd3786\"], [0.5555555555555556, \"#d8576b\"], [0.6666666666666666, \"#ed7953\"], [0.7777777777777778, \"#fb9f3a\"], [0.8888888888888888, \"#fdca26\"], [1.0, \"#f0f921\"]], \"type\": \"heatmapgl\"}], \"histogram\": [{\"marker\": {\"colorbar\": {\"outlinewidth\": 0, \"ticks\": \"\"}}, \"type\": \"histogram\"}], \"histogram2d\": [{\"colorbar\": {\"outlinewidth\": 0, \"ticks\": \"\"}, \"colorscale\": [[0.0, \"#0d0887\"], [0.1111111111111111, \"#46039f\"], [0.2222222222222222, \"#7201a8\"], [0.3333333333333333, \"#9c179e\"], [0.4444444444444444, \"#bd3786\"], [0.5555555555555556, \"#d8576b\"], [0.6666666666666666, \"#ed7953\"], [0.7777777777777778, \"#fb9f3a\"], [0.8888888888888888, \"#fdca26\"], [1.0, \"#f0f921\"]], \"type\": \"histogram2d\"}], \"histogram2dcontour\": [{\"colorbar\": {\"outlinewidth\": 0, \"ticks\": \"\"}, \"colorscale\": [[0.0, \"#0d0887\"], [0.1111111111111111, \"#46039f\"], [0.2222222222222222, \"#7201a8\"], [0.3333333333333333, \"#9c179e\"], [0.4444444444444444, \"#bd3786\"], [0.5555555555555556, \"#d8576b\"], [0.6666666666666666, \"#ed7953\"], [0.7777777777777778, \"#fb9f3a\"], [0.8888888888888888, \"#fdca26\"], [1.0, \"#f0f921\"]], \"type\": \"histogram2dcontour\"}], \"mesh3d\": [{\"colorbar\": {\"outlinewidth\": 0, \"ticks\": \"\"}, \"type\": \"mesh3d\"}], \"parcoords\": [{\"line\": {\"colorbar\": {\"outlinewidth\": 0, \"ticks\": \"\"}}, \"type\": \"parcoords\"}], \"pie\": [{\"automargin\": true, \"type\": \"pie\"}], \"scatter\": [{\"marker\": {\"colorbar\": {\"outlinewidth\": 0, \"ticks\": \"\"}}, \"type\": \"scatter\"}], \"scatter3d\": [{\"line\": {\"colorbar\": {\"outlinewidth\": 0, \"ticks\": \"\"}}, \"marker\": {\"colorbar\": {\"outlinewidth\": 0, \"ticks\": \"\"}}, \"type\": \"scatter3d\"}], \"scattercarpet\": [{\"marker\": {\"colorbar\": {\"outlinewidth\": 0, \"ticks\": \"\"}}, \"type\": \"scattercarpet\"}], \"scattergeo\": [{\"marker\": {\"colorbar\": {\"outlinewidth\": 0, \"ticks\": \"\"}}, \"type\": \"scattergeo\"}], \"scattergl\": [{\"marker\": {\"colorbar\": {\"outlinewidth\": 0, \"ticks\": \"\"}}, \"type\": \"scattergl\"}], \"scattermapbox\": [{\"marker\": {\"colorbar\": {\"outlinewidth\": 0, \"ticks\": \"\"}}, \"type\": \"scattermapbox\"}], \"scatterpolar\": [{\"marker\": {\"colorbar\": {\"outlinewidth\": 0, \"ticks\": \"\"}}, \"type\": \"scatterpolar\"}], \"scatterpolargl\": [{\"marker\": {\"colorbar\": {\"outlinewidth\": 0, \"ticks\": \"\"}}, \"type\": \"scatterpolargl\"}], \"scatterternary\": [{\"marker\": {\"colorbar\": {\"outlinewidth\": 0, \"ticks\": \"\"}}, \"type\": \"scatterternary\"}], \"surface\": [{\"colorbar\": {\"outlinewidth\": 0, \"ticks\": \"\"}, \"colorscale\": [[0.0, \"#0d0887\"], [0.1111111111111111, \"#46039f\"], [0.2222222222222222, \"#7201a8\"], [0.3333333333333333, \"#9c179e\"], [0.4444444444444444, \"#bd3786\"], [0.5555555555555556, \"#d8576b\"], [0.6666666666666666, \"#ed7953\"], [0.7777777777777778, \"#fb9f3a\"], [0.8888888888888888, \"#fdca26\"], [1.0, \"#f0f921\"]], \"type\": \"surface\"}], \"table\": [{\"cells\": {\"fill\": {\"color\": \"#EBF0F8\"}, \"line\": {\"color\": \"white\"}}, \"header\": {\"fill\": {\"color\": \"#C8D4E3\"}, \"line\": {\"color\": \"white\"}}, \"type\": \"table\"}]}, \"layout\": {\"annotationdefaults\": {\"arrowcolor\": \"#2a3f5f\", \"arrowhead\": 0, \"arrowwidth\": 1}, \"coloraxis\": {\"colorbar\": {\"outlinewidth\": 0, \"ticks\": \"\"}}, \"colorscale\": {\"diverging\": [[0, \"#8e0152\"], [0.1, \"#c51b7d\"], [0.2, \"#de77ae\"], [0.3, \"#f1b6da\"], [0.4, \"#fde0ef\"], [0.5, \"#f7f7f7\"], [0.6, \"#e6f5d0\"], [0.7, \"#b8e186\"], [0.8, \"#7fbc41\"], [0.9, \"#4d9221\"], [1, \"#276419\"]], \"sequential\": [[0.0, \"#0d0887\"], [0.1111111111111111, \"#46039f\"], [0.2222222222222222, \"#7201a8\"], [0.3333333333333333, \"#9c179e\"], [0.4444444444444444, \"#bd3786\"], [0.5555555555555556, \"#d8576b\"], [0.6666666666666666, \"#ed7953\"], [0.7777777777777778, \"#fb9f3a\"], [0.8888888888888888, \"#fdca26\"], [1.0, \"#f0f921\"]], \"sequentialminus\": [[0.0, \"#0d0887\"], [0.1111111111111111, \"#46039f\"], [0.2222222222222222, \"#7201a8\"], [0.3333333333333333, \"#9c179e\"], [0.4444444444444444, \"#bd3786\"], [0.5555555555555556, \"#d8576b\"], [0.6666666666666666, \"#ed7953\"], [0.7777777777777778, \"#fb9f3a\"], [0.8888888888888888, \"#fdca26\"], [1.0, \"#f0f921\"]]}, \"colorway\": [\"#636efa\", \"#EF553B\", \"#00cc96\", \"#ab63fa\", \"#FFA15A\", \"#19d3f3\", \"#FF6692\", \"#B6E880\", \"#FF97FF\", \"#FECB52\"], \"font\": {\"color\": \"#2a3f5f\"}, \"geo\": {\"bgcolor\": \"white\", \"lakecolor\": \"white\", \"landcolor\": \"#E5ECF6\", \"showlakes\": true, \"showland\": true, \"subunitcolor\": \"white\"}, \"hoverlabel\": {\"align\": \"left\"}, \"hovermode\": \"closest\", \"mapbox\": {\"style\": \"light\"}, \"paper_bgcolor\": \"white\", \"plot_bgcolor\": \"#E5ECF6\", \"polar\": {\"angularaxis\": {\"gridcolor\": \"white\", \"linecolor\": \"white\", \"ticks\": \"\"}, \"bgcolor\": \"#E5ECF6\", \"radialaxis\": {\"gridcolor\": \"white\", \"linecolor\": \"white\", \"ticks\": \"\"}}, \"scene\": {\"xaxis\": {\"backgroundcolor\": \"#E5ECF6\", \"gridcolor\": \"white\", \"gridwidth\": 2, \"linecolor\": \"white\", \"showbackground\": true, \"ticks\": \"\", \"zerolinecolor\": \"white\"}, \"yaxis\": {\"backgroundcolor\": \"#E5ECF6\", \"gridcolor\": \"white\", \"gridwidth\": 2, \"linecolor\": \"white\", \"showbackground\": true, \"ticks\": \"\", \"zerolinecolor\": \"white\"}, \"zaxis\": {\"backgroundcolor\": \"#E5ECF6\", \"gridcolor\": \"white\", \"gridwidth\": 2, \"linecolor\": \"white\", \"showbackground\": true, \"ticks\": \"\", \"zerolinecolor\": \"white\"}}, \"shapedefaults\": {\"line\": {\"color\": \"#2a3f5f\"}}, \"ternary\": {\"aaxis\": {\"gridcolor\": \"white\", \"linecolor\": \"white\", \"ticks\": \"\"}, \"baxis\": {\"gridcolor\": \"white\", \"linecolor\": \"white\", \"ticks\": \"\"}, \"bgcolor\": \"#E5ECF6\", \"caxis\": {\"gridcolor\": \"white\", \"linecolor\": \"white\", \"ticks\": \"\"}}, \"title\": {\"x\": 0.05}, \"xaxis\": {\"automargin\": true, \"gridcolor\": \"white\", \"linecolor\": \"white\", \"ticks\": \"\", \"title\": {\"standoff\": 15}, \"zerolinecolor\": \"white\", \"zerolinewidth\": 2}, \"yaxis\": {\"automargin\": true, \"gridcolor\": \"white\", \"linecolor\": \"white\", \"ticks\": \"\", \"title\": {\"standoff\": 15}, \"zerolinecolor\": \"white\", \"zerolinewidth\": 2}}}, \"title\": {\"text\": \"wafare\"}, \"width\": 800},\n",
       "                        {\"responsive\": true}\n",
       "                    ).then(function(){\n",
       "                            \n",
       "var gd = document.getElementById('22535611-c63b-426c-9a67-5fb0c77445fe');\n",
       "var x = new MutationObserver(function (mutations, observer) {{\n",
       "        var display = window.getComputedStyle(gd).display;\n",
       "        if (!display || display === 'none') {{\n",
       "            console.log([gd, 'removed!']);\n",
       "            Plotly.purge(gd);\n",
       "            observer.disconnect();\n",
       "        }}\n",
       "}});\n",
       "\n",
       "// Listen for the removal of the full notebook cells\n",
       "var notebookContainer = gd.closest('#notebook-container');\n",
       "if (notebookContainer) {{\n",
       "    x.observe(notebookContainer, {childList: true});\n",
       "}}\n",
       "\n",
       "// Listen for the clearing of the current output cell\n",
       "var outputEl = gd.closest('.output');\n",
       "if (outputEl) {{\n",
       "    x.observe(outputEl, {childList: true});\n",
       "}}\n",
       "\n",
       "                        })\n",
       "                };\n",
       "                });\n",
       "            </script>\n",
       "        </div>"
      ]
     },
     "metadata": {},
     "output_type": "display_data"
    }
   ],
   "source": [
    "latent_points, labels, _ = generate_latent_points(latent_dim, 1)\n",
    "pp = create_process_vector(YS[0])\n",
    "print(pp)\n",
    "X_test = generator_model.predict([latent_points, pp])\n",
    "\n",
    "X_test = thickness_extraction(X_test[0])\n",
    "\n",
    "visualize(X_test)"
   ]
  },
  {
   "cell_type": "code",
   "execution_count": 158,
   "metadata": {},
   "outputs": [
    {
     "data": {
      "application/vnd.plotly.v1+json": {
       "config": {
        "plotlyServerURL": "https://plot.ly"
       },
       "data": [
        {
         "facecolor": [
          "rgb(88, 121, 138)",
          "rgb(160, 124, 84)",
          "rgb(94, 121, 133)",
          "rgb(69, 120, 152)",
          "rgb(102, 122, 128)",
          "rgb(156, 123, 87)",
          "rgb(147, 123, 94)",
          "rgb(206, 125, 50)",
          "rgb(87, 121, 138)",
          "rgb(128, 122, 108)",
          "rgb(154, 123, 89)",
          "rgb(144, 123, 96)",
          "rgb(122, 122, 112)",
          "rgb(147, 123, 94)",
          "rgb(105, 122, 126)",
          "rgb(113, 122, 119)",
          "rgb(155, 123, 88)",
          "rgb(130, 123, 107)",
          "rgb(175, 124, 73)",
          "rgb(163, 124, 82)",
          "rgb(124, 122, 111)",
          "rgb(166, 124, 80)",
          "rgb(180, 124, 70)",
          "rgb(166, 124, 80)",
          "rgb(141, 123, 98)",
          "rgb(145, 123, 96)",
          "rgb(150, 123, 92)",
          "rgb(158, 124, 86)",
          "rgb(106, 122, 124)",
          "rgb(111, 122, 121)",
          "rgb(93, 121, 134)",
          "rgb(120, 122, 114)",
          "rgb(31, 119, 180)",
          "rgb(110, 122, 122)",
          "rgb(118, 122, 115)",
          "rgb(41, 119, 173)",
          "rgb(129, 123, 107)",
          "rgb(142, 123, 97)",
          "rgb(160, 124, 84)",
          "rgb(193, 125, 60)",
          "rgb(145, 123, 96)",
          "rgb(164, 124, 81)",
          "rgb(182, 124, 68)",
          "rgb(175, 124, 73)",
          "rgb(112, 122, 120)",
          "rgb(104, 122, 126)",
          "rgb(99, 121, 130)",
          "rgb(76, 121, 147)",
          "rgb(216, 126, 43)",
          "rgb(137, 123, 102)",
          "rgb(255, 127, 14)",
          "rgb(197, 125, 57)",
          "rgb(116, 122, 117)",
          "rgb(137, 123, 101)",
          "rgb(174, 124, 74)",
          "rgb(188, 125, 63)",
          "rgb(135, 123, 103)",
          "rgb(40, 119, 174)",
          "rgb(95, 121, 133)",
          "rgb(55, 120, 162)",
          "rgb(128, 122, 108)",
          "rgb(135, 123, 103)",
          "rgb(109, 122, 122)",
          "rgb(135, 123, 103)",
          "rgb(110, 122, 122)",
          "rgb(143, 123, 97)",
          "rgb(117, 122, 116)",
          "rgb(123, 122, 112)",
          "rgb(57, 120, 161)",
          "rgb(177, 124, 72)",
          "rgb(183, 124, 68)",
          "rgb(102, 122, 127)"
         ],
         "i": [
          38,
          32,
          44,
          17,
          22,
          18,
          13,
          14,
          2,
          19,
          6,
          3,
          10,
          16,
          21,
          21,
          12,
          12,
          4,
          16,
          8,
          8,
          24,
          8,
          18,
          6,
          5,
          5,
          5,
          4,
          33,
          14,
          33,
          16,
          35,
          34,
          7,
          21,
          19,
          8,
          6,
          7,
          39,
          18,
          39,
          21,
          41,
          40,
          0,
          12,
          14,
          4,
          3,
          0,
          27,
          10,
          27,
          12,
          29,
          28,
          9,
          24,
          26,
          10,
          9,
          9,
          45,
          19,
          45,
          24,
          47,
          46
         ],
         "j": [
          17,
          13,
          22,
          36,
          42,
          17,
          30,
          13,
          3,
          22,
          18,
          10,
          3,
          36,
          42,
          6,
          30,
          3,
          14,
          4,
          2,
          19,
          8,
          24,
          5,
          5,
          16,
          4,
          6,
          5,
          14,
          33,
          34,
          35,
          16,
          35,
          21,
          7,
          7,
          7,
          7,
          8,
          18,
          39,
          40,
          41,
          21,
          41,
          12,
          0,
          0,
          0,
          0,
          4,
          10,
          27,
          28,
          29,
          12,
          29,
          10,
          9,
          9,
          9,
          48,
          24,
          19,
          45,
          46,
          47,
          24,
          47
         ],
         "k": [
          37,
          31,
          43,
          37,
          43,
          38,
          31,
          32,
          1,
          44,
          20,
          11,
          2,
          17,
          22,
          20,
          13,
          11,
          15,
          15,
          1,
          23,
          23,
          2,
          17,
          18,
          17,
          16,
          1,
          1,
          32,
          15,
          15,
          36,
          15,
          15,
          22,
          6,
          22,
          19,
          1,
          1,
          38,
          20,
          20,
          42,
          20,
          20,
          13,
          3,
          13,
          14,
          1,
          1,
          26,
          11,
          11,
          30,
          11,
          11,
          2,
          2,
          25,
          26,
          25,
          48,
          44,
          23,
          23,
          48,
          23,
          23
         ],
         "name": "",
         "type": "mesh3d",
         "x": [
          -49000,
          0,
          3.0002899036735098e-12,
          -34648.19921875,
          -34648.19921875,
          -9.00085995320099e-12,
          34648.19921875,
          49000,
          34648.19921875,
          6.00056983268704e-12,
          -37503,
          -69296.5,
          -90540.203125,
          -98000,
          -90540.203125,
          -69296.5,
          -37503,
          -1.80017008244437e-11,
          37503,
          90540.203125,
          69296.5,
          90540.203125,
          98000,
          69296.5,
          37503,
          9.00085995320099e-12,
          -38046.3984375,
          -73500,
          -103945,
          -127306,
          -141991,
          -147000,
          -141991,
          -127306,
          -103945,
          -73500,
          -38046.3984375,
          -2.70025998089229e-11,
          38046.3984375,
          73500,
          103945,
          127306,
          141991,
          147000,
          141991,
          127306,
          103945,
          73500,
          38046.3984375
         ],
         "y": [
          6.00056983268704e-12,
          0,
          49000,
          34648.19921875,
          -34648.19921875,
          -49000,
          -34648.19921875,
          -1.20010997667341e-11,
          34648.19921875,
          98000,
          90540.203125,
          69296.5,
          37503,
          1.20010997667341e-11,
          -37503,
          -69296.5,
          -90540.203125,
          -98000,
          -90540.203125,
          37503,
          -69296.5,
          -37503,
          -2.400230014742989e-11,
          69296.5,
          90540.203125,
          147000,
          141991,
          127306,
          103945,
          73500,
          38046.3984375,
          1.80017008244437e-11,
          -38046.3984375,
          -73500,
          -103945,
          -127306,
          -141991,
          -147000,
          -141991,
          -127306,
          -103945,
          -73500,
          -38046.3984375,
          -3.600340164888749e-11,
          38046.3984375,
          73500,
          103945,
          127306,
          141991
         ],
         "z": [
          1540.8558349609375,
          1499.521240234375,
          1484.7509765625,
          1460.0289306640625,
          1502.6617431640625,
          1488.2132568359375,
          1494.2890625,
          1563.7596435546875,
          1531.56884765625,
          1470.9627685546875,
          1568.40576171875,
          1527.8294677734375,
          1540.345458984375,
          1616.449462890625,
          1615.7353515625,
          1497.6817626953125,
          1592.639892578125,
          1487.156494140625,
          1574.8184814453125,
          1555.5518798828125,
          1505.486572265625,
          1494.6748046875,
          1468.5296630859375,
          1512.0496826171875,
          1582.81591796875,
          1516.5379638671875,
          1499.5274658203125,
          1546.328369140625,
          1463.223388671875,
          1390.8646240234375,
          1420.2867431640625,
          1525.772216796875,
          1445.147705078125,
          1395.809326171875,
          1441.1622314453125,
          1414.756103515625,
          1481.0623779296875,
          1441.3707275390625,
          1517.5166015625,
          1537.02587890625,
          1450.087646484375,
          1466.829345703125,
          1515.2991943359375,
          1489.29931640625,
          1500.4580078125,
          1447.3746337890625,
          1425.7720947265625,
          1536.5289306640625,
          1500.8526611328125
         ]
        },
        {
         "line": {
          "color": "rgb(50, 50, 50)",
          "width": 1.5
         },
         "mode": "lines",
         "showlegend": false,
         "type": "scatter3d",
         "x": [
          38046.3984375,
          -1.80017008244437e-11,
          -2.70025998089229e-11,
          38046.3984375,
          null,
          -141991,
          -98000,
          -147000,
          -141991,
          null,
          141991,
          98000,
          147000,
          141991,
          null,
          -1.80017008244437e-11,
          -38046.3984375,
          -2.70025998089229e-11,
          -1.80017008244437e-11,
          null,
          98000,
          141991,
          147000,
          98000,
          null,
          37503,
          -1.80017008244437e-11,
          38046.3984375,
          37503,
          null,
          -98000,
          -141991,
          -147000,
          -98000,
          null,
          -90540.203125,
          -98000,
          -141991,
          -90540.203125,
          null,
          3.0002899036735098e-12,
          -34648.19921875,
          0,
          3.0002899036735098e-12,
          null,
          90540.203125,
          98000,
          141991,
          90540.203125,
          null,
          34648.19921875,
          37503,
          69296.5,
          34648.19921875,
          null,
          -34648.19921875,
          -37503,
          -69296.5,
          -34648.19921875,
          null,
          -37503,
          -34648.19921875,
          3.0002899036735098e-12,
          -37503,
          null,
          -37503,
          -38046.3984375,
          -1.80017008244437e-11,
          -37503,
          null,
          90540.203125,
          141991,
          98000,
          90540.203125,
          null,
          90540.203125,
          34648.19921875,
          69296.5,
          90540.203125,
          null,
          -90540.203125,
          -141991,
          -98000,
          -90540.203125,
          null,
          -90540.203125,
          -34648.19921875,
          -69296.5,
          -90540.203125,
          null,
          -34648.19921875,
          -90540.203125,
          -69296.5,
          -34648.19921875,
          null,
          -37503,
          -34648.19921875,
          -69296.5,
          -37503,
          null,
          34648.19921875,
          3.0002899036735098e-12,
          0,
          34648.19921875,
          null,
          34648.19921875,
          90540.203125,
          69296.5,
          34648.19921875,
          null,
          37503,
          34648.19921875,
          69296.5,
          37503,
          null,
          34648.19921875,
          37503,
          3.0002899036735098e-12,
          34648.19921875,
          null,
          37503,
          -9.00085995320099e-12,
          -1.80017008244437e-11,
          37503,
          null,
          34648.19921875,
          -9.00085995320099e-12,
          37503,
          34648.19921875,
          null,
          -9.00085995320099e-12,
          -37503,
          -1.80017008244437e-11,
          -9.00085995320099e-12,
          null,
          -9.00085995320099e-12,
          -34648.19921875,
          -37503,
          -9.00085995320099e-12,
          null,
          -9.00085995320099e-12,
          34648.19921875,
          0,
          -9.00085995320099e-12,
          null,
          -34648.19921875,
          -9.00085995320099e-12,
          0,
          -34648.19921875,
          null,
          -127306,
          -90540.203125,
          -141991,
          -127306,
          null,
          -90540.203125,
          -127306,
          -69296.5,
          -90540.203125,
          null,
          -127306,
          -103945,
          -69296.5,
          -127306,
          null,
          -37503,
          -73500,
          -38046.3984375,
          -37503,
          null,
          -73500,
          -37503,
          -69296.5,
          -73500,
          null,
          -103945,
          -73500,
          -69296.5,
          -103945,
          null,
          49000,
          90540.203125,
          98000,
          49000,
          null,
          90540.203125,
          49000,
          34648.19921875,
          90540.203125,
          null,
          90540.203125,
          49000,
          98000,
          90540.203125,
          null,
          34648.19921875,
          49000,
          90540.203125,
          34648.19921875,
          null,
          34648.19921875,
          49000,
          0,
          34648.19921875,
          null,
          49000,
          34648.19921875,
          0,
          49000,
          null,
          73500,
          37503,
          38046.3984375,
          73500,
          null,
          37503,
          73500,
          69296.5,
          37503,
          null,
          73500,
          103945,
          69296.5,
          73500,
          null,
          90540.203125,
          127306,
          141991,
          90540.203125,
          null,
          127306,
          90540.203125,
          69296.5,
          127306,
          null,
          103945,
          127306,
          69296.5,
          103945,
          null,
          -49000,
          -90540.203125,
          -98000,
          -49000,
          null,
          -90540.203125,
          -49000,
          -34648.19921875,
          -90540.203125,
          null,
          -90540.203125,
          -49000,
          -98000,
          -90540.203125,
          null,
          -34648.19921875,
          -49000,
          -90540.203125,
          -34648.19921875,
          null,
          -34648.19921875,
          -49000,
          0,
          -34648.19921875,
          null,
          -49000,
          -34648.19921875,
          0,
          -49000,
          null,
          -73500,
          -37503,
          -38046.3984375,
          -73500,
          null,
          -37503,
          -73500,
          -69296.5,
          -37503,
          null,
          -73500,
          -103945,
          -69296.5,
          -73500,
          null,
          -90540.203125,
          -127306,
          -141991,
          -90540.203125,
          null,
          -127306,
          -90540.203125,
          -69296.5,
          -127306,
          null,
          -103945,
          -127306,
          -69296.5,
          -103945,
          null,
          6.00056983268704e-12,
          -37503,
          3.0002899036735098e-12,
          6.00056983268704e-12,
          null,
          37503,
          6.00056983268704e-12,
          3.0002899036735098e-12,
          37503,
          null,
          -38046.3984375,
          6.00056983268704e-12,
          9.00085995320099e-12,
          -38046.3984375,
          null,
          -37503,
          6.00056983268704e-12,
          -38046.3984375,
          -37503,
          null,
          6.00056983268704e-12,
          38046.3984375,
          9.00085995320099e-12,
          6.00056983268704e-12,
          null,
          6.00056983268704e-12,
          37503,
          38046.3984375,
          6.00056983268704e-12,
          null,
          127306,
          90540.203125,
          141991,
          127306,
          null,
          90540.203125,
          127306,
          69296.5,
          90540.203125,
          null,
          127306,
          103945,
          69296.5,
          127306,
          null,
          37503,
          73500,
          38046.3984375,
          37503,
          null,
          73500,
          37503,
          69296.5,
          73500,
          null,
          103945,
          73500,
          69296.5,
          103945,
          null
         ],
         "y": [
          -141991,
          -98000,
          -147000,
          -141991,
          null,
          -38046.3984375,
          1.20010997667341e-11,
          1.80017008244437e-11,
          -38046.3984375,
          null,
          38046.3984375,
          -2.400230014742989e-11,
          -3.600340164888749e-11,
          38046.3984375,
          null,
          -98000,
          -141991,
          -147000,
          -98000,
          null,
          -2.400230014742989e-11,
          -38046.3984375,
          -3.600340164888749e-11,
          -2.400230014742989e-11,
          null,
          -90540.203125,
          -98000,
          -141991,
          -90540.203125,
          null,
          1.20010997667341e-11,
          38046.3984375,
          1.80017008244437e-11,
          1.20010997667341e-11,
          null,
          -37503,
          1.20010997667341e-11,
          -38046.3984375,
          -37503,
          null,
          49000,
          34648.19921875,
          0,
          49000,
          null,
          37503,
          -2.400230014742989e-11,
          38046.3984375,
          37503,
          null,
          -34648.19921875,
          -90540.203125,
          -69296.5,
          -34648.19921875,
          null,
          34648.19921875,
          90540.203125,
          69296.5,
          34648.19921875,
          null,
          90540.203125,
          34648.19921875,
          49000,
          90540.203125,
          null,
          -90540.203125,
          -141991,
          -98000,
          -90540.203125,
          null,
          -37503,
          -38046.3984375,
          -2.400230014742989e-11,
          -37503,
          null,
          -37503,
          -34648.19921875,
          -69296.5,
          -37503,
          null,
          37503,
          38046.3984375,
          1.20010997667341e-11,
          37503,
          null,
          37503,
          34648.19921875,
          69296.5,
          37503,
          null,
          -34648.19921875,
          -37503,
          -69296.5,
          -34648.19921875,
          null,
          -90540.203125,
          -34648.19921875,
          -69296.5,
          -90540.203125,
          null,
          34648.19921875,
          49000,
          0,
          34648.19921875,
          null,
          34648.19921875,
          37503,
          69296.5,
          34648.19921875,
          null,
          90540.203125,
          34648.19921875,
          69296.5,
          90540.203125,
          null,
          34648.19921875,
          90540.203125,
          49000,
          34648.19921875,
          null,
          -90540.203125,
          -49000,
          -98000,
          -90540.203125,
          null,
          -34648.19921875,
          -49000,
          -90540.203125,
          -34648.19921875,
          null,
          -49000,
          -90540.203125,
          -98000,
          -49000,
          null,
          -49000,
          -34648.19921875,
          -90540.203125,
          -49000,
          null,
          -49000,
          -34648.19921875,
          0,
          -49000,
          null,
          -34648.19921875,
          -49000,
          0,
          -34648.19921875,
          null,
          -73500,
          -37503,
          -38046.3984375,
          -73500,
          null,
          -37503,
          -73500,
          -69296.5,
          -37503,
          null,
          -73500,
          -103945,
          -69296.5,
          -73500,
          null,
          -90540.203125,
          -127306,
          -141991,
          -90540.203125,
          null,
          -127306,
          -90540.203125,
          -69296.5,
          -127306,
          null,
          -103945,
          -127306,
          -69296.5,
          -103945,
          null,
          -1.20010997667341e-11,
          -37503,
          -2.400230014742989e-11,
          -1.20010997667341e-11,
          null,
          -37503,
          -1.20010997667341e-11,
          -34648.19921875,
          -37503,
          null,
          37503,
          -1.20010997667341e-11,
          -2.400230014742989e-11,
          37503,
          null,
          34648.19921875,
          -1.20010997667341e-11,
          37503,
          34648.19921875,
          null,
          -34648.19921875,
          -1.20010997667341e-11,
          0,
          -34648.19921875,
          null,
          -1.20010997667341e-11,
          34648.19921875,
          0,
          -1.20010997667341e-11,
          null,
          -127306,
          -90540.203125,
          -141991,
          -127306,
          null,
          -90540.203125,
          -127306,
          -69296.5,
          -90540.203125,
          null,
          -127306,
          -103945,
          -69296.5,
          -127306,
          null,
          -37503,
          -73500,
          -38046.3984375,
          -37503,
          null,
          -73500,
          -37503,
          -69296.5,
          -73500,
          null,
          -103945,
          -73500,
          -69296.5,
          -103945,
          null,
          6.00056983268704e-12,
          37503,
          1.20010997667341e-11,
          6.00056983268704e-12,
          null,
          37503,
          6.00056983268704e-12,
          34648.19921875,
          37503,
          null,
          -37503,
          6.00056983268704e-12,
          1.20010997667341e-11,
          -37503,
          null,
          -34648.19921875,
          6.00056983268704e-12,
          -37503,
          -34648.19921875,
          null,
          34648.19921875,
          6.00056983268704e-12,
          0,
          34648.19921875,
          null,
          6.00056983268704e-12,
          -34648.19921875,
          0,
          6.00056983268704e-12,
          null,
          127306,
          90540.203125,
          141991,
          127306,
          null,
          90540.203125,
          127306,
          69296.5,
          90540.203125,
          null,
          127306,
          103945,
          69296.5,
          127306,
          null,
          37503,
          73500,
          38046.3984375,
          37503,
          null,
          73500,
          37503,
          69296.5,
          73500,
          null,
          103945,
          73500,
          69296.5,
          103945,
          null,
          98000,
          90540.203125,
          49000,
          98000,
          null,
          90540.203125,
          98000,
          49000,
          90540.203125,
          null,
          141991,
          98000,
          147000,
          141991,
          null,
          90540.203125,
          98000,
          141991,
          90540.203125,
          null,
          98000,
          141991,
          147000,
          98000,
          null,
          98000,
          90540.203125,
          141991,
          98000,
          null,
          73500,
          37503,
          38046.3984375,
          73500,
          null,
          37503,
          73500,
          69296.5,
          37503,
          null,
          73500,
          103945,
          69296.5,
          73500,
          null,
          90540.203125,
          127306,
          141991,
          90540.203125,
          null,
          127306,
          90540.203125,
          69296.5,
          127306,
          null,
          103945,
          127306,
          69296.5,
          103945,
          null
         ],
         "z": [
          1517.5166015625,
          1487.156494140625,
          1441.3707275390625,
          1517.5166015625,
          null,
          1445.147705078125,
          1616.449462890625,
          1525.772216796875,
          1445.147705078125,
          null,
          1500.4580078125,
          1468.5296630859375,
          1489.29931640625,
          1500.4580078125,
          null,
          1487.156494140625,
          1481.0623779296875,
          1441.3707275390625,
          1487.156494140625,
          null,
          1468.5296630859375,
          1515.2991943359375,
          1489.29931640625,
          1468.5296630859375,
          null,
          1574.8184814453125,
          1487.156494140625,
          1517.5166015625,
          1574.8184814453125,
          null,
          1616.449462890625,
          1420.2867431640625,
          1525.772216796875,
          1616.449462890625,
          null,
          1615.7353515625,
          1616.449462890625,
          1445.147705078125,
          1615.7353515625,
          null,
          1484.7509765625,
          1460.0289306640625,
          1499.521240234375,
          1484.7509765625,
          null,
          1555.5518798828125,
          1468.5296630859375,
          1500.4580078125,
          1555.5518798828125,
          null,
          1494.2890625,
          1574.8184814453125,
          1505.486572265625,
          1494.2890625,
          null,
          1460.0289306640625,
          1568.40576171875,
          1527.8294677734375,
          1460.0289306640625,
          null,
          1568.40576171875,
          1460.0289306640625,
          1484.7509765625,
          1568.40576171875,
          null,
          1592.639892578125,
          1481.0623779296875,
          1487.156494140625,
          1592.639892578125,
          null,
          1494.6748046875,
          1515.2991943359375,
          1468.5296630859375,
          1494.6748046875,
          null,
          1494.6748046875,
          1494.2890625,
          1505.486572265625,
          1494.6748046875,
          null,
          1540.345458984375,
          1420.2867431640625,
          1616.449462890625,
          1540.345458984375,
          null,
          1540.345458984375,
          1460.0289306640625,
          1527.8294677734375,
          1540.345458984375,
          null,
          1502.6617431640625,
          1615.7353515625,
          1497.6817626953125,
          1502.6617431640625,
          null,
          1592.639892578125,
          1502.6617431640625,
          1497.6817626953125,
          1592.639892578125,
          null,
          1531.56884765625,
          1484.7509765625,
          1499.521240234375,
          1531.56884765625,
          null,
          1531.56884765625,
          1555.5518798828125,
          1512.0496826171875,
          1531.56884765625,
          null,
          1582.81591796875,
          1531.56884765625,
          1512.0496826171875,
          1582.81591796875,
          null,
          1531.56884765625,
          1582.81591796875,
          1484.7509765625,
          1531.56884765625,
          null,
          1574.8184814453125,
          1488.2132568359375,
          1487.156494140625,
          1574.8184814453125,
          null,
          1494.2890625,
          1488.2132568359375,
          1574.8184814453125,
          1494.2890625,
          null,
          1488.2132568359375,
          1592.639892578125,
          1487.156494140625,
          1488.2132568359375,
          null,
          1488.2132568359375,
          1502.6617431640625,
          1592.639892578125,
          1488.2132568359375,
          null,
          1488.2132568359375,
          1494.2890625,
          1499.521240234375,
          1488.2132568359375,
          null,
          1502.6617431640625,
          1488.2132568359375,
          1499.521240234375,
          1502.6617431640625,
          null,
          1395.809326171875,
          1615.7353515625,
          1445.147705078125,
          1395.809326171875,
          null,
          1615.7353515625,
          1395.809326171875,
          1497.6817626953125,
          1615.7353515625,
          null,
          1395.809326171875,
          1441.1622314453125,
          1497.6817626953125,
          1395.809326171875,
          null,
          1592.639892578125,
          1414.756103515625,
          1481.0623779296875,
          1592.639892578125,
          null,
          1414.756103515625,
          1592.639892578125,
          1497.6817626953125,
          1414.756103515625,
          null,
          1441.1622314453125,
          1414.756103515625,
          1497.6817626953125,
          1441.1622314453125,
          null,
          1563.7596435546875,
          1494.6748046875,
          1468.5296630859375,
          1563.7596435546875,
          null,
          1494.6748046875,
          1563.7596435546875,
          1494.2890625,
          1494.6748046875,
          null,
          1555.5518798828125,
          1563.7596435546875,
          1468.5296630859375,
          1555.5518798828125,
          null,
          1531.56884765625,
          1563.7596435546875,
          1555.5518798828125,
          1531.56884765625,
          null,
          1494.2890625,
          1563.7596435546875,
          1499.521240234375,
          1494.2890625,
          null,
          1563.7596435546875,
          1531.56884765625,
          1499.521240234375,
          1563.7596435546875,
          null,
          1537.02587890625,
          1574.8184814453125,
          1517.5166015625,
          1537.02587890625,
          null,
          1574.8184814453125,
          1537.02587890625,
          1505.486572265625,
          1574.8184814453125,
          null,
          1537.02587890625,
          1450.087646484375,
          1505.486572265625,
          1537.02587890625,
          null,
          1494.6748046875,
          1466.829345703125,
          1515.2991943359375,
          1494.6748046875,
          null,
          1466.829345703125,
          1494.6748046875,
          1505.486572265625,
          1466.829345703125,
          null,
          1450.087646484375,
          1466.829345703125,
          1505.486572265625,
          1450.087646484375,
          null,
          1540.8558349609375,
          1540.345458984375,
          1616.449462890625,
          1540.8558349609375,
          null,
          1540.345458984375,
          1540.8558349609375,
          1460.0289306640625,
          1540.345458984375,
          null,
          1615.7353515625,
          1540.8558349609375,
          1616.449462890625,
          1615.7353515625,
          null,
          1502.6617431640625,
          1540.8558349609375,
          1615.7353515625,
          1502.6617431640625,
          null,
          1460.0289306640625,
          1540.8558349609375,
          1499.521240234375,
          1460.0289306640625,
          null,
          1540.8558349609375,
          1502.6617431640625,
          1499.521240234375,
          1540.8558349609375,
          null,
          1546.328369140625,
          1568.40576171875,
          1499.5274658203125,
          1546.328369140625,
          null,
          1568.40576171875,
          1546.328369140625,
          1527.8294677734375,
          1568.40576171875,
          null,
          1546.328369140625,
          1463.223388671875,
          1527.8294677734375,
          1546.328369140625,
          null,
          1540.345458984375,
          1390.8646240234375,
          1420.2867431640625,
          1540.345458984375,
          null,
          1390.8646240234375,
          1540.345458984375,
          1527.8294677734375,
          1390.8646240234375,
          null,
          1463.223388671875,
          1390.8646240234375,
          1527.8294677734375,
          1463.223388671875,
          null,
          1470.9627685546875,
          1568.40576171875,
          1484.7509765625,
          1470.9627685546875,
          null,
          1582.81591796875,
          1470.9627685546875,
          1484.7509765625,
          1582.81591796875,
          null,
          1499.5274658203125,
          1470.9627685546875,
          1516.5379638671875,
          1499.5274658203125,
          null,
          1568.40576171875,
          1470.9627685546875,
          1499.5274658203125,
          1568.40576171875,
          null,
          1470.9627685546875,
          1500.8526611328125,
          1516.5379638671875,
          1470.9627685546875,
          null,
          1470.9627685546875,
          1582.81591796875,
          1500.8526611328125,
          1470.9627685546875,
          null,
          1447.3746337890625,
          1555.5518798828125,
          1500.4580078125,
          1447.3746337890625,
          null,
          1555.5518798828125,
          1447.3746337890625,
          1512.0496826171875,
          1555.5518798828125,
          null,
          1447.3746337890625,
          1425.7720947265625,
          1512.0496826171875,
          1447.3746337890625,
          null,
          1582.81591796875,
          1536.5289306640625,
          1500.8526611328125,
          1582.81591796875,
          null,
          1536.5289306640625,
          1582.81591796875,
          1512.0496826171875,
          1536.5289306640625,
          null,
          1425.7720947265625,
          1536.5289306640625,
          1512.0496826171875,
          1425.7720947265625,
          null
         ]
        },
        {
         "hoverinfo": "none",
         "marker": {
          "color": [
           1444.8844401041667,
           1591.0135498046875
          ],
          "colorscale": [
           [
            0,
            "rgb(31, 119, 180)"
           ],
           [
            1,
            "rgb(255, 127, 14)"
           ]
          ],
          "showscale": true,
          "size": 0.1
         },
         "mode": "markers",
         "showlegend": false,
         "type": "scatter3d",
         "x": [
          -49000
         ],
         "y": [
          6.00056983268704e-12
         ],
         "z": [
          1540.8558349609375
         ]
        }
       ],
       "layout": {
        "height": 800,
        "scene": {
         "aspectratio": {
          "x": 1,
          "y": 1,
          "z": 0.5
         },
         "xaxis": {
          "backgroundcolor": "rgb(230, 230, 230)",
          "gridcolor": "rgb(255, 255, 255)",
          "showbackground": true,
          "zerolinecolor": "rgb(255, 255, 255)"
         },
         "yaxis": {
          "backgroundcolor": "rgb(230, 230, 230)",
          "gridcolor": "rgb(255, 255, 255)",
          "showbackground": true,
          "zerolinecolor": "rgb(255, 255, 255)"
         },
         "zaxis": {
          "backgroundcolor": "rgb(230, 230, 230)",
          "gridcolor": "rgb(255, 255, 255)",
          "showbackground": true,
          "zerolinecolor": "rgb(255, 255, 255)"
         }
        },
        "template": {
         "data": {
          "bar": [
           {
            "error_x": {
             "color": "#2a3f5f"
            },
            "error_y": {
             "color": "#2a3f5f"
            },
            "marker": {
             "line": {
              "color": "#E5ECF6",
              "width": 0.5
             }
            },
            "type": "bar"
           }
          ],
          "barpolar": [
           {
            "marker": {
             "line": {
              "color": "#E5ECF6",
              "width": 0.5
             }
            },
            "type": "barpolar"
           }
          ],
          "carpet": [
           {
            "aaxis": {
             "endlinecolor": "#2a3f5f",
             "gridcolor": "white",
             "linecolor": "white",
             "minorgridcolor": "white",
             "startlinecolor": "#2a3f5f"
            },
            "baxis": {
             "endlinecolor": "#2a3f5f",
             "gridcolor": "white",
             "linecolor": "white",
             "minorgridcolor": "white",
             "startlinecolor": "#2a3f5f"
            },
            "type": "carpet"
           }
          ],
          "choropleth": [
           {
            "colorbar": {
             "outlinewidth": 0,
             "ticks": ""
            },
            "type": "choropleth"
           }
          ],
          "contour": [
           {
            "colorbar": {
             "outlinewidth": 0,
             "ticks": ""
            },
            "colorscale": [
             [
              0,
              "#0d0887"
             ],
             [
              0.1111111111111111,
              "#46039f"
             ],
             [
              0.2222222222222222,
              "#7201a8"
             ],
             [
              0.3333333333333333,
              "#9c179e"
             ],
             [
              0.4444444444444444,
              "#bd3786"
             ],
             [
              0.5555555555555556,
              "#d8576b"
             ],
             [
              0.6666666666666666,
              "#ed7953"
             ],
             [
              0.7777777777777778,
              "#fb9f3a"
             ],
             [
              0.8888888888888888,
              "#fdca26"
             ],
             [
              1,
              "#f0f921"
             ]
            ],
            "type": "contour"
           }
          ],
          "contourcarpet": [
           {
            "colorbar": {
             "outlinewidth": 0,
             "ticks": ""
            },
            "type": "contourcarpet"
           }
          ],
          "heatmap": [
           {
            "colorbar": {
             "outlinewidth": 0,
             "ticks": ""
            },
            "colorscale": [
             [
              0,
              "#0d0887"
             ],
             [
              0.1111111111111111,
              "#46039f"
             ],
             [
              0.2222222222222222,
              "#7201a8"
             ],
             [
              0.3333333333333333,
              "#9c179e"
             ],
             [
              0.4444444444444444,
              "#bd3786"
             ],
             [
              0.5555555555555556,
              "#d8576b"
             ],
             [
              0.6666666666666666,
              "#ed7953"
             ],
             [
              0.7777777777777778,
              "#fb9f3a"
             ],
             [
              0.8888888888888888,
              "#fdca26"
             ],
             [
              1,
              "#f0f921"
             ]
            ],
            "type": "heatmap"
           }
          ],
          "heatmapgl": [
           {
            "colorbar": {
             "outlinewidth": 0,
             "ticks": ""
            },
            "colorscale": [
             [
              0,
              "#0d0887"
             ],
             [
              0.1111111111111111,
              "#46039f"
             ],
             [
              0.2222222222222222,
              "#7201a8"
             ],
             [
              0.3333333333333333,
              "#9c179e"
             ],
             [
              0.4444444444444444,
              "#bd3786"
             ],
             [
              0.5555555555555556,
              "#d8576b"
             ],
             [
              0.6666666666666666,
              "#ed7953"
             ],
             [
              0.7777777777777778,
              "#fb9f3a"
             ],
             [
              0.8888888888888888,
              "#fdca26"
             ],
             [
              1,
              "#f0f921"
             ]
            ],
            "type": "heatmapgl"
           }
          ],
          "histogram": [
           {
            "marker": {
             "colorbar": {
              "outlinewidth": 0,
              "ticks": ""
             }
            },
            "type": "histogram"
           }
          ],
          "histogram2d": [
           {
            "colorbar": {
             "outlinewidth": 0,
             "ticks": ""
            },
            "colorscale": [
             [
              0,
              "#0d0887"
             ],
             [
              0.1111111111111111,
              "#46039f"
             ],
             [
              0.2222222222222222,
              "#7201a8"
             ],
             [
              0.3333333333333333,
              "#9c179e"
             ],
             [
              0.4444444444444444,
              "#bd3786"
             ],
             [
              0.5555555555555556,
              "#d8576b"
             ],
             [
              0.6666666666666666,
              "#ed7953"
             ],
             [
              0.7777777777777778,
              "#fb9f3a"
             ],
             [
              0.8888888888888888,
              "#fdca26"
             ],
             [
              1,
              "#f0f921"
             ]
            ],
            "type": "histogram2d"
           }
          ],
          "histogram2dcontour": [
           {
            "colorbar": {
             "outlinewidth": 0,
             "ticks": ""
            },
            "colorscale": [
             [
              0,
              "#0d0887"
             ],
             [
              0.1111111111111111,
              "#46039f"
             ],
             [
              0.2222222222222222,
              "#7201a8"
             ],
             [
              0.3333333333333333,
              "#9c179e"
             ],
             [
              0.4444444444444444,
              "#bd3786"
             ],
             [
              0.5555555555555556,
              "#d8576b"
             ],
             [
              0.6666666666666666,
              "#ed7953"
             ],
             [
              0.7777777777777778,
              "#fb9f3a"
             ],
             [
              0.8888888888888888,
              "#fdca26"
             ],
             [
              1,
              "#f0f921"
             ]
            ],
            "type": "histogram2dcontour"
           }
          ],
          "mesh3d": [
           {
            "colorbar": {
             "outlinewidth": 0,
             "ticks": ""
            },
            "type": "mesh3d"
           }
          ],
          "parcoords": [
           {
            "line": {
             "colorbar": {
              "outlinewidth": 0,
              "ticks": ""
             }
            },
            "type": "parcoords"
           }
          ],
          "pie": [
           {
            "automargin": true,
            "type": "pie"
           }
          ],
          "scatter": [
           {
            "marker": {
             "colorbar": {
              "outlinewidth": 0,
              "ticks": ""
             }
            },
            "type": "scatter"
           }
          ],
          "scatter3d": [
           {
            "line": {
             "colorbar": {
              "outlinewidth": 0,
              "ticks": ""
             }
            },
            "marker": {
             "colorbar": {
              "outlinewidth": 0,
              "ticks": ""
             }
            },
            "type": "scatter3d"
           }
          ],
          "scattercarpet": [
           {
            "marker": {
             "colorbar": {
              "outlinewidth": 0,
              "ticks": ""
             }
            },
            "type": "scattercarpet"
           }
          ],
          "scattergeo": [
           {
            "marker": {
             "colorbar": {
              "outlinewidth": 0,
              "ticks": ""
             }
            },
            "type": "scattergeo"
           }
          ],
          "scattergl": [
           {
            "marker": {
             "colorbar": {
              "outlinewidth": 0,
              "ticks": ""
             }
            },
            "type": "scattergl"
           }
          ],
          "scattermapbox": [
           {
            "marker": {
             "colorbar": {
              "outlinewidth": 0,
              "ticks": ""
             }
            },
            "type": "scattermapbox"
           }
          ],
          "scatterpolar": [
           {
            "marker": {
             "colorbar": {
              "outlinewidth": 0,
              "ticks": ""
             }
            },
            "type": "scatterpolar"
           }
          ],
          "scatterpolargl": [
           {
            "marker": {
             "colorbar": {
              "outlinewidth": 0,
              "ticks": ""
             }
            },
            "type": "scatterpolargl"
           }
          ],
          "scatterternary": [
           {
            "marker": {
             "colorbar": {
              "outlinewidth": 0,
              "ticks": ""
             }
            },
            "type": "scatterternary"
           }
          ],
          "surface": [
           {
            "colorbar": {
             "outlinewidth": 0,
             "ticks": ""
            },
            "colorscale": [
             [
              0,
              "#0d0887"
             ],
             [
              0.1111111111111111,
              "#46039f"
             ],
             [
              0.2222222222222222,
              "#7201a8"
             ],
             [
              0.3333333333333333,
              "#9c179e"
             ],
             [
              0.4444444444444444,
              "#bd3786"
             ],
             [
              0.5555555555555556,
              "#d8576b"
             ],
             [
              0.6666666666666666,
              "#ed7953"
             ],
             [
              0.7777777777777778,
              "#fb9f3a"
             ],
             [
              0.8888888888888888,
              "#fdca26"
             ],
             [
              1,
              "#f0f921"
             ]
            ],
            "type": "surface"
           }
          ],
          "table": [
           {
            "cells": {
             "fill": {
              "color": "#EBF0F8"
             },
             "line": {
              "color": "white"
             }
            },
            "header": {
             "fill": {
              "color": "#C8D4E3"
             },
             "line": {
              "color": "white"
             }
            },
            "type": "table"
           }
          ]
         },
         "layout": {
          "annotationdefaults": {
           "arrowcolor": "#2a3f5f",
           "arrowhead": 0,
           "arrowwidth": 1
          },
          "coloraxis": {
           "colorbar": {
            "outlinewidth": 0,
            "ticks": ""
           }
          },
          "colorscale": {
           "diverging": [
            [
             0,
             "#8e0152"
            ],
            [
             0.1,
             "#c51b7d"
            ],
            [
             0.2,
             "#de77ae"
            ],
            [
             0.3,
             "#f1b6da"
            ],
            [
             0.4,
             "#fde0ef"
            ],
            [
             0.5,
             "#f7f7f7"
            ],
            [
             0.6,
             "#e6f5d0"
            ],
            [
             0.7,
             "#b8e186"
            ],
            [
             0.8,
             "#7fbc41"
            ],
            [
             0.9,
             "#4d9221"
            ],
            [
             1,
             "#276419"
            ]
           ],
           "sequential": [
            [
             0,
             "#0d0887"
            ],
            [
             0.1111111111111111,
             "#46039f"
            ],
            [
             0.2222222222222222,
             "#7201a8"
            ],
            [
             0.3333333333333333,
             "#9c179e"
            ],
            [
             0.4444444444444444,
             "#bd3786"
            ],
            [
             0.5555555555555556,
             "#d8576b"
            ],
            [
             0.6666666666666666,
             "#ed7953"
            ],
            [
             0.7777777777777778,
             "#fb9f3a"
            ],
            [
             0.8888888888888888,
             "#fdca26"
            ],
            [
             1,
             "#f0f921"
            ]
           ],
           "sequentialminus": [
            [
             0,
             "#0d0887"
            ],
            [
             0.1111111111111111,
             "#46039f"
            ],
            [
             0.2222222222222222,
             "#7201a8"
            ],
            [
             0.3333333333333333,
             "#9c179e"
            ],
            [
             0.4444444444444444,
             "#bd3786"
            ],
            [
             0.5555555555555556,
             "#d8576b"
            ],
            [
             0.6666666666666666,
             "#ed7953"
            ],
            [
             0.7777777777777778,
             "#fb9f3a"
            ],
            [
             0.8888888888888888,
             "#fdca26"
            ],
            [
             1,
             "#f0f921"
            ]
           ]
          },
          "colorway": [
           "#636efa",
           "#EF553B",
           "#00cc96",
           "#ab63fa",
           "#FFA15A",
           "#19d3f3",
           "#FF6692",
           "#B6E880",
           "#FF97FF",
           "#FECB52"
          ],
          "font": {
           "color": "#2a3f5f"
          },
          "geo": {
           "bgcolor": "white",
           "lakecolor": "white",
           "landcolor": "#E5ECF6",
           "showlakes": true,
           "showland": true,
           "subunitcolor": "white"
          },
          "hoverlabel": {
           "align": "left"
          },
          "hovermode": "closest",
          "mapbox": {
           "style": "light"
          },
          "paper_bgcolor": "white",
          "plot_bgcolor": "#E5ECF6",
          "polar": {
           "angularaxis": {
            "gridcolor": "white",
            "linecolor": "white",
            "ticks": ""
           },
           "bgcolor": "#E5ECF6",
           "radialaxis": {
            "gridcolor": "white",
            "linecolor": "white",
            "ticks": ""
           }
          },
          "scene": {
           "xaxis": {
            "backgroundcolor": "#E5ECF6",
            "gridcolor": "white",
            "gridwidth": 2,
            "linecolor": "white",
            "showbackground": true,
            "ticks": "",
            "zerolinecolor": "white"
           },
           "yaxis": {
            "backgroundcolor": "#E5ECF6",
            "gridcolor": "white",
            "gridwidth": 2,
            "linecolor": "white",
            "showbackground": true,
            "ticks": "",
            "zerolinecolor": "white"
           },
           "zaxis": {
            "backgroundcolor": "#E5ECF6",
            "gridcolor": "white",
            "gridwidth": 2,
            "linecolor": "white",
            "showbackground": true,
            "ticks": "",
            "zerolinecolor": "white"
           }
          },
          "shapedefaults": {
           "line": {
            "color": "#2a3f5f"
           }
          },
          "ternary": {
           "aaxis": {
            "gridcolor": "white",
            "linecolor": "white",
            "ticks": ""
           },
           "baxis": {
            "gridcolor": "white",
            "linecolor": "white",
            "ticks": ""
           },
           "bgcolor": "#E5ECF6",
           "caxis": {
            "gridcolor": "white",
            "linecolor": "white",
            "ticks": ""
           }
          },
          "title": {
           "x": 0.05
          },
          "xaxis": {
           "automargin": true,
           "gridcolor": "white",
           "linecolor": "white",
           "ticks": "",
           "title": {
            "standoff": 15
           },
           "zerolinecolor": "white",
           "zerolinewidth": 2
          },
          "yaxis": {
           "automargin": true,
           "gridcolor": "white",
           "linecolor": "white",
           "ticks": "",
           "title": {
            "standoff": 15
           },
           "zerolinecolor": "white",
           "zerolinewidth": 2
          }
         }
        },
        "title": {
         "text": "wafare"
        },
        "width": 800
       }
      },
      "text/html": [
       "<div>\n",
       "        \n",
       "        \n",
       "            <div id=\"3e8b6ad2-ef2f-4833-b064-b3d4e9ff9032\" class=\"plotly-graph-div\" style=\"height:800px; width:800px;\"></div>\n",
       "            <script type=\"text/javascript\">\n",
       "                require([\"plotly\"], function(Plotly) {\n",
       "                    window.PLOTLYENV=window.PLOTLYENV || {};\n",
       "                    \n",
       "                if (document.getElementById(\"3e8b6ad2-ef2f-4833-b064-b3d4e9ff9032\")) {\n",
       "                    Plotly.newPlot(\n",
       "                        '3e8b6ad2-ef2f-4833-b064-b3d4e9ff9032',\n",
       "                        [{\"facecolor\": [\"rgb(88, 121, 138)\", \"rgb(160, 124, 84)\", \"rgb(94, 121, 133)\", \"rgb(69, 120, 152)\", \"rgb(102, 122, 128)\", \"rgb(156, 123, 87)\", \"rgb(147, 123, 94)\", \"rgb(206, 125, 50)\", \"rgb(87, 121, 138)\", \"rgb(128, 122, 108)\", \"rgb(154, 123, 89)\", \"rgb(144, 123, 96)\", \"rgb(122, 122, 112)\", \"rgb(147, 123, 94)\", \"rgb(105, 122, 126)\", \"rgb(113, 122, 119)\", \"rgb(155, 123, 88)\", \"rgb(130, 123, 107)\", \"rgb(175, 124, 73)\", \"rgb(163, 124, 82)\", \"rgb(124, 122, 111)\", \"rgb(166, 124, 80)\", \"rgb(180, 124, 70)\", \"rgb(166, 124, 80)\", \"rgb(141, 123, 98)\", \"rgb(145, 123, 96)\", \"rgb(150, 123, 92)\", \"rgb(158, 124, 86)\", \"rgb(106, 122, 124)\", \"rgb(111, 122, 121)\", \"rgb(93, 121, 134)\", \"rgb(120, 122, 114)\", \"rgb(31, 119, 180)\", \"rgb(110, 122, 122)\", \"rgb(118, 122, 115)\", \"rgb(41, 119, 173)\", \"rgb(129, 123, 107)\", \"rgb(142, 123, 97)\", \"rgb(160, 124, 84)\", \"rgb(193, 125, 60)\", \"rgb(145, 123, 96)\", \"rgb(164, 124, 81)\", \"rgb(182, 124, 68)\", \"rgb(175, 124, 73)\", \"rgb(112, 122, 120)\", \"rgb(104, 122, 126)\", \"rgb(99, 121, 130)\", \"rgb(76, 121, 147)\", \"rgb(216, 126, 43)\", \"rgb(137, 123, 102)\", \"rgb(255, 127, 14)\", \"rgb(197, 125, 57)\", \"rgb(116, 122, 117)\", \"rgb(137, 123, 101)\", \"rgb(174, 124, 74)\", \"rgb(188, 125, 63)\", \"rgb(135, 123, 103)\", \"rgb(40, 119, 174)\", \"rgb(95, 121, 133)\", \"rgb(55, 120, 162)\", \"rgb(128, 122, 108)\", \"rgb(135, 123, 103)\", \"rgb(109, 122, 122)\", \"rgb(135, 123, 103)\", \"rgb(110, 122, 122)\", \"rgb(143, 123, 97)\", \"rgb(117, 122, 116)\", \"rgb(123, 122, 112)\", \"rgb(57, 120, 161)\", \"rgb(177, 124, 72)\", \"rgb(183, 124, 68)\", \"rgb(102, 122, 127)\"], \"i\": [38, 32, 44, 17, 22, 18, 13, 14, 2, 19, 6, 3, 10, 16, 21, 21, 12, 12, 4, 16, 8, 8, 24, 8, 18, 6, 5, 5, 5, 4, 33, 14, 33, 16, 35, 34, 7, 21, 19, 8, 6, 7, 39, 18, 39, 21, 41, 40, 0, 12, 14, 4, 3, 0, 27, 10, 27, 12, 29, 28, 9, 24, 26, 10, 9, 9, 45, 19, 45, 24, 47, 46], \"j\": [17, 13, 22, 36, 42, 17, 30, 13, 3, 22, 18, 10, 3, 36, 42, 6, 30, 3, 14, 4, 2, 19, 8, 24, 5, 5, 16, 4, 6, 5, 14, 33, 34, 35, 16, 35, 21, 7, 7, 7, 7, 8, 18, 39, 40, 41, 21, 41, 12, 0, 0, 0, 0, 4, 10, 27, 28, 29, 12, 29, 10, 9, 9, 9, 48, 24, 19, 45, 46, 47, 24, 47], \"k\": [37, 31, 43, 37, 43, 38, 31, 32, 1, 44, 20, 11, 2, 17, 22, 20, 13, 11, 15, 15, 1, 23, 23, 2, 17, 18, 17, 16, 1, 1, 32, 15, 15, 36, 15, 15, 22, 6, 22, 19, 1, 1, 38, 20, 20, 42, 20, 20, 13, 3, 13, 14, 1, 1, 26, 11, 11, 30, 11, 11, 2, 2, 25, 26, 25, 48, 44, 23, 23, 48, 23, 23], \"name\": \"\", \"type\": \"mesh3d\", \"x\": [-49000.0, 0.0, 3.0002899036735098e-12, -34648.19921875, -34648.19921875, -9.00085995320099e-12, 34648.19921875, 49000.0, 34648.19921875, 6.00056983268704e-12, -37503.0, -69296.5, -90540.203125, -98000.0, -90540.203125, -69296.5, -37503.0, -1.80017008244437e-11, 37503.0, 90540.203125, 69296.5, 90540.203125, 98000.0, 69296.5, 37503.0, 9.00085995320099e-12, -38046.3984375, -73500.0, -103945.0, -127306.0, -141991.0, -147000.0, -141991.0, -127306.0, -103945.0, -73500.0, -38046.3984375, -2.70025998089229e-11, 38046.3984375, 73500.0, 103945.0, 127306.0, 141991.0, 147000.0, 141991.0, 127306.0, 103945.0, 73500.0, 38046.3984375], \"y\": [6.00056983268704e-12, 0.0, 49000.0, 34648.19921875, -34648.19921875, -49000.0, -34648.19921875, -1.20010997667341e-11, 34648.19921875, 98000.0, 90540.203125, 69296.5, 37503.0, 1.20010997667341e-11, -37503.0, -69296.5, -90540.203125, -98000.0, -90540.203125, 37503.0, -69296.5, -37503.0, -2.400230014742989e-11, 69296.5, 90540.203125, 147000.0, 141991.0, 127306.0, 103945.0, 73500.0, 38046.3984375, 1.80017008244437e-11, -38046.3984375, -73500.0, -103945.0, -127306.0, -141991.0, -147000.0, -141991.0, -127306.0, -103945.0, -73500.0, -38046.3984375, -3.600340164888749e-11, 38046.3984375, 73500.0, 103945.0, 127306.0, 141991.0], \"z\": [1540.8558349609375, 1499.521240234375, 1484.7509765625, 1460.0289306640625, 1502.6617431640625, 1488.2132568359375, 1494.2890625, 1563.7596435546875, 1531.56884765625, 1470.9627685546875, 1568.40576171875, 1527.8294677734375, 1540.345458984375, 1616.449462890625, 1615.7353515625, 1497.6817626953125, 1592.639892578125, 1487.156494140625, 1574.8184814453125, 1555.5518798828125, 1505.486572265625, 1494.6748046875, 1468.5296630859375, 1512.0496826171875, 1582.81591796875, 1516.5379638671875, 1499.5274658203125, 1546.328369140625, 1463.223388671875, 1390.8646240234375, 1420.2867431640625, 1525.772216796875, 1445.147705078125, 1395.809326171875, 1441.1622314453125, 1414.756103515625, 1481.0623779296875, 1441.3707275390625, 1517.5166015625, 1537.02587890625, 1450.087646484375, 1466.829345703125, 1515.2991943359375, 1489.29931640625, 1500.4580078125, 1447.3746337890625, 1425.7720947265625, 1536.5289306640625, 1500.8526611328125]}, {\"line\": {\"color\": \"rgb(50, 50, 50)\", \"width\": 1.5}, \"mode\": \"lines\", \"showlegend\": false, \"type\": \"scatter3d\", \"x\": [38046.3984375, -1.80017008244437e-11, -2.70025998089229e-11, 38046.3984375, null, -141991.0, -98000.0, -147000.0, -141991.0, null, 141991.0, 98000.0, 147000.0, 141991.0, null, -1.80017008244437e-11, -38046.3984375, -2.70025998089229e-11, -1.80017008244437e-11, null, 98000.0, 141991.0, 147000.0, 98000.0, null, 37503.0, -1.80017008244437e-11, 38046.3984375, 37503.0, null, -98000.0, -141991.0, -147000.0, -98000.0, null, -90540.203125, -98000.0, -141991.0, -90540.203125, null, 3.0002899036735098e-12, -34648.19921875, 0.0, 3.0002899036735098e-12, null, 90540.203125, 98000.0, 141991.0, 90540.203125, null, 34648.19921875, 37503.0, 69296.5, 34648.19921875, null, -34648.19921875, -37503.0, -69296.5, -34648.19921875, null, -37503.0, -34648.19921875, 3.0002899036735098e-12, -37503.0, null, -37503.0, -38046.3984375, -1.80017008244437e-11, -37503.0, null, 90540.203125, 141991.0, 98000.0, 90540.203125, null, 90540.203125, 34648.19921875, 69296.5, 90540.203125, null, -90540.203125, -141991.0, -98000.0, -90540.203125, null, -90540.203125, -34648.19921875, -69296.5, -90540.203125, null, -34648.19921875, -90540.203125, -69296.5, -34648.19921875, null, -37503.0, -34648.19921875, -69296.5, -37503.0, null, 34648.19921875, 3.0002899036735098e-12, 0.0, 34648.19921875, null, 34648.19921875, 90540.203125, 69296.5, 34648.19921875, null, 37503.0, 34648.19921875, 69296.5, 37503.0, null, 34648.19921875, 37503.0, 3.0002899036735098e-12, 34648.19921875, null, 37503.0, -9.00085995320099e-12, -1.80017008244437e-11, 37503.0, null, 34648.19921875, -9.00085995320099e-12, 37503.0, 34648.19921875, null, -9.00085995320099e-12, -37503.0, -1.80017008244437e-11, -9.00085995320099e-12, null, -9.00085995320099e-12, -34648.19921875, -37503.0, -9.00085995320099e-12, null, -9.00085995320099e-12, 34648.19921875, 0.0, -9.00085995320099e-12, null, -34648.19921875, -9.00085995320099e-12, 0.0, -34648.19921875, null, -127306.0, -90540.203125, -141991.0, -127306.0, null, -90540.203125, -127306.0, -69296.5, -90540.203125, null, -127306.0, -103945.0, -69296.5, -127306.0, null, -37503.0, -73500.0, -38046.3984375, -37503.0, null, -73500.0, -37503.0, -69296.5, -73500.0, null, -103945.0, -73500.0, -69296.5, -103945.0, null, 49000.0, 90540.203125, 98000.0, 49000.0, null, 90540.203125, 49000.0, 34648.19921875, 90540.203125, null, 90540.203125, 49000.0, 98000.0, 90540.203125, null, 34648.19921875, 49000.0, 90540.203125, 34648.19921875, null, 34648.19921875, 49000.0, 0.0, 34648.19921875, null, 49000.0, 34648.19921875, 0.0, 49000.0, null, 73500.0, 37503.0, 38046.3984375, 73500.0, null, 37503.0, 73500.0, 69296.5, 37503.0, null, 73500.0, 103945.0, 69296.5, 73500.0, null, 90540.203125, 127306.0, 141991.0, 90540.203125, null, 127306.0, 90540.203125, 69296.5, 127306.0, null, 103945.0, 127306.0, 69296.5, 103945.0, null, -49000.0, -90540.203125, -98000.0, -49000.0, null, -90540.203125, -49000.0, -34648.19921875, -90540.203125, null, -90540.203125, -49000.0, -98000.0, -90540.203125, null, -34648.19921875, -49000.0, -90540.203125, -34648.19921875, null, -34648.19921875, -49000.0, 0.0, -34648.19921875, null, -49000.0, -34648.19921875, 0.0, -49000.0, null, -73500.0, -37503.0, -38046.3984375, -73500.0, null, -37503.0, -73500.0, -69296.5, -37503.0, null, -73500.0, -103945.0, -69296.5, -73500.0, null, -90540.203125, -127306.0, -141991.0, -90540.203125, null, -127306.0, -90540.203125, -69296.5, -127306.0, null, -103945.0, -127306.0, -69296.5, -103945.0, null, 6.00056983268704e-12, -37503.0, 3.0002899036735098e-12, 6.00056983268704e-12, null, 37503.0, 6.00056983268704e-12, 3.0002899036735098e-12, 37503.0, null, -38046.3984375, 6.00056983268704e-12, 9.00085995320099e-12, -38046.3984375, null, -37503.0, 6.00056983268704e-12, -38046.3984375, -37503.0, null, 6.00056983268704e-12, 38046.3984375, 9.00085995320099e-12, 6.00056983268704e-12, null, 6.00056983268704e-12, 37503.0, 38046.3984375, 6.00056983268704e-12, null, 127306.0, 90540.203125, 141991.0, 127306.0, null, 90540.203125, 127306.0, 69296.5, 90540.203125, null, 127306.0, 103945.0, 69296.5, 127306.0, null, 37503.0, 73500.0, 38046.3984375, 37503.0, null, 73500.0, 37503.0, 69296.5, 73500.0, null, 103945.0, 73500.0, 69296.5, 103945.0, null], \"y\": [-141991.0, -98000.0, -147000.0, -141991.0, null, -38046.3984375, 1.20010997667341e-11, 1.80017008244437e-11, -38046.3984375, null, 38046.3984375, -2.400230014742989e-11, -3.600340164888749e-11, 38046.3984375, null, -98000.0, -141991.0, -147000.0, -98000.0, null, -2.400230014742989e-11, -38046.3984375, -3.600340164888749e-11, -2.400230014742989e-11, null, -90540.203125, -98000.0, -141991.0, -90540.203125, null, 1.20010997667341e-11, 38046.3984375, 1.80017008244437e-11, 1.20010997667341e-11, null, -37503.0, 1.20010997667341e-11, -38046.3984375, -37503.0, null, 49000.0, 34648.19921875, 0.0, 49000.0, null, 37503.0, -2.400230014742989e-11, 38046.3984375, 37503.0, null, -34648.19921875, -90540.203125, -69296.5, -34648.19921875, null, 34648.19921875, 90540.203125, 69296.5, 34648.19921875, null, 90540.203125, 34648.19921875, 49000.0, 90540.203125, null, -90540.203125, -141991.0, -98000.0, -90540.203125, null, -37503.0, -38046.3984375, -2.400230014742989e-11, -37503.0, null, -37503.0, -34648.19921875, -69296.5, -37503.0, null, 37503.0, 38046.3984375, 1.20010997667341e-11, 37503.0, null, 37503.0, 34648.19921875, 69296.5, 37503.0, null, -34648.19921875, -37503.0, -69296.5, -34648.19921875, null, -90540.203125, -34648.19921875, -69296.5, -90540.203125, null, 34648.19921875, 49000.0, 0.0, 34648.19921875, null, 34648.19921875, 37503.0, 69296.5, 34648.19921875, null, 90540.203125, 34648.19921875, 69296.5, 90540.203125, null, 34648.19921875, 90540.203125, 49000.0, 34648.19921875, null, -90540.203125, -49000.0, -98000.0, -90540.203125, null, -34648.19921875, -49000.0, -90540.203125, -34648.19921875, null, -49000.0, -90540.203125, -98000.0, -49000.0, null, -49000.0, -34648.19921875, -90540.203125, -49000.0, null, -49000.0, -34648.19921875, 0.0, -49000.0, null, -34648.19921875, -49000.0, 0.0, -34648.19921875, null, -73500.0, -37503.0, -38046.3984375, -73500.0, null, -37503.0, -73500.0, -69296.5, -37503.0, null, -73500.0, -103945.0, -69296.5, -73500.0, null, -90540.203125, -127306.0, -141991.0, -90540.203125, null, -127306.0, -90540.203125, -69296.5, -127306.0, null, -103945.0, -127306.0, -69296.5, -103945.0, null, -1.20010997667341e-11, -37503.0, -2.400230014742989e-11, -1.20010997667341e-11, null, -37503.0, -1.20010997667341e-11, -34648.19921875, -37503.0, null, 37503.0, -1.20010997667341e-11, -2.400230014742989e-11, 37503.0, null, 34648.19921875, -1.20010997667341e-11, 37503.0, 34648.19921875, null, -34648.19921875, -1.20010997667341e-11, 0.0, -34648.19921875, null, -1.20010997667341e-11, 34648.19921875, 0.0, -1.20010997667341e-11, null, -127306.0, -90540.203125, -141991.0, -127306.0, null, -90540.203125, -127306.0, -69296.5, -90540.203125, null, -127306.0, -103945.0, -69296.5, -127306.0, null, -37503.0, -73500.0, -38046.3984375, -37503.0, null, -73500.0, -37503.0, -69296.5, -73500.0, null, -103945.0, -73500.0, -69296.5, -103945.0, null, 6.00056983268704e-12, 37503.0, 1.20010997667341e-11, 6.00056983268704e-12, null, 37503.0, 6.00056983268704e-12, 34648.19921875, 37503.0, null, -37503.0, 6.00056983268704e-12, 1.20010997667341e-11, -37503.0, null, -34648.19921875, 6.00056983268704e-12, -37503.0, -34648.19921875, null, 34648.19921875, 6.00056983268704e-12, 0.0, 34648.19921875, null, 6.00056983268704e-12, -34648.19921875, 0.0, 6.00056983268704e-12, null, 127306.0, 90540.203125, 141991.0, 127306.0, null, 90540.203125, 127306.0, 69296.5, 90540.203125, null, 127306.0, 103945.0, 69296.5, 127306.0, null, 37503.0, 73500.0, 38046.3984375, 37503.0, null, 73500.0, 37503.0, 69296.5, 73500.0, null, 103945.0, 73500.0, 69296.5, 103945.0, null, 98000.0, 90540.203125, 49000.0, 98000.0, null, 90540.203125, 98000.0, 49000.0, 90540.203125, null, 141991.0, 98000.0, 147000.0, 141991.0, null, 90540.203125, 98000.0, 141991.0, 90540.203125, null, 98000.0, 141991.0, 147000.0, 98000.0, null, 98000.0, 90540.203125, 141991.0, 98000.0, null, 73500.0, 37503.0, 38046.3984375, 73500.0, null, 37503.0, 73500.0, 69296.5, 37503.0, null, 73500.0, 103945.0, 69296.5, 73500.0, null, 90540.203125, 127306.0, 141991.0, 90540.203125, null, 127306.0, 90540.203125, 69296.5, 127306.0, null, 103945.0, 127306.0, 69296.5, 103945.0, null], \"z\": [1517.5166015625, 1487.156494140625, 1441.3707275390625, 1517.5166015625, null, 1445.147705078125, 1616.449462890625, 1525.772216796875, 1445.147705078125, null, 1500.4580078125, 1468.5296630859375, 1489.29931640625, 1500.4580078125, null, 1487.156494140625, 1481.0623779296875, 1441.3707275390625, 1487.156494140625, null, 1468.5296630859375, 1515.2991943359375, 1489.29931640625, 1468.5296630859375, null, 1574.8184814453125, 1487.156494140625, 1517.5166015625, 1574.8184814453125, null, 1616.449462890625, 1420.2867431640625, 1525.772216796875, 1616.449462890625, null, 1615.7353515625, 1616.449462890625, 1445.147705078125, 1615.7353515625, null, 1484.7509765625, 1460.0289306640625, 1499.521240234375, 1484.7509765625, null, 1555.5518798828125, 1468.5296630859375, 1500.4580078125, 1555.5518798828125, null, 1494.2890625, 1574.8184814453125, 1505.486572265625, 1494.2890625, null, 1460.0289306640625, 1568.40576171875, 1527.8294677734375, 1460.0289306640625, null, 1568.40576171875, 1460.0289306640625, 1484.7509765625, 1568.40576171875, null, 1592.639892578125, 1481.0623779296875, 1487.156494140625, 1592.639892578125, null, 1494.6748046875, 1515.2991943359375, 1468.5296630859375, 1494.6748046875, null, 1494.6748046875, 1494.2890625, 1505.486572265625, 1494.6748046875, null, 1540.345458984375, 1420.2867431640625, 1616.449462890625, 1540.345458984375, null, 1540.345458984375, 1460.0289306640625, 1527.8294677734375, 1540.345458984375, null, 1502.6617431640625, 1615.7353515625, 1497.6817626953125, 1502.6617431640625, null, 1592.639892578125, 1502.6617431640625, 1497.6817626953125, 1592.639892578125, null, 1531.56884765625, 1484.7509765625, 1499.521240234375, 1531.56884765625, null, 1531.56884765625, 1555.5518798828125, 1512.0496826171875, 1531.56884765625, null, 1582.81591796875, 1531.56884765625, 1512.0496826171875, 1582.81591796875, null, 1531.56884765625, 1582.81591796875, 1484.7509765625, 1531.56884765625, null, 1574.8184814453125, 1488.2132568359375, 1487.156494140625, 1574.8184814453125, null, 1494.2890625, 1488.2132568359375, 1574.8184814453125, 1494.2890625, null, 1488.2132568359375, 1592.639892578125, 1487.156494140625, 1488.2132568359375, null, 1488.2132568359375, 1502.6617431640625, 1592.639892578125, 1488.2132568359375, null, 1488.2132568359375, 1494.2890625, 1499.521240234375, 1488.2132568359375, null, 1502.6617431640625, 1488.2132568359375, 1499.521240234375, 1502.6617431640625, null, 1395.809326171875, 1615.7353515625, 1445.147705078125, 1395.809326171875, null, 1615.7353515625, 1395.809326171875, 1497.6817626953125, 1615.7353515625, null, 1395.809326171875, 1441.1622314453125, 1497.6817626953125, 1395.809326171875, null, 1592.639892578125, 1414.756103515625, 1481.0623779296875, 1592.639892578125, null, 1414.756103515625, 1592.639892578125, 1497.6817626953125, 1414.756103515625, null, 1441.1622314453125, 1414.756103515625, 1497.6817626953125, 1441.1622314453125, null, 1563.7596435546875, 1494.6748046875, 1468.5296630859375, 1563.7596435546875, null, 1494.6748046875, 1563.7596435546875, 1494.2890625, 1494.6748046875, null, 1555.5518798828125, 1563.7596435546875, 1468.5296630859375, 1555.5518798828125, null, 1531.56884765625, 1563.7596435546875, 1555.5518798828125, 1531.56884765625, null, 1494.2890625, 1563.7596435546875, 1499.521240234375, 1494.2890625, null, 1563.7596435546875, 1531.56884765625, 1499.521240234375, 1563.7596435546875, null, 1537.02587890625, 1574.8184814453125, 1517.5166015625, 1537.02587890625, null, 1574.8184814453125, 1537.02587890625, 1505.486572265625, 1574.8184814453125, null, 1537.02587890625, 1450.087646484375, 1505.486572265625, 1537.02587890625, null, 1494.6748046875, 1466.829345703125, 1515.2991943359375, 1494.6748046875, null, 1466.829345703125, 1494.6748046875, 1505.486572265625, 1466.829345703125, null, 1450.087646484375, 1466.829345703125, 1505.486572265625, 1450.087646484375, null, 1540.8558349609375, 1540.345458984375, 1616.449462890625, 1540.8558349609375, null, 1540.345458984375, 1540.8558349609375, 1460.0289306640625, 1540.345458984375, null, 1615.7353515625, 1540.8558349609375, 1616.449462890625, 1615.7353515625, null, 1502.6617431640625, 1540.8558349609375, 1615.7353515625, 1502.6617431640625, null, 1460.0289306640625, 1540.8558349609375, 1499.521240234375, 1460.0289306640625, null, 1540.8558349609375, 1502.6617431640625, 1499.521240234375, 1540.8558349609375, null, 1546.328369140625, 1568.40576171875, 1499.5274658203125, 1546.328369140625, null, 1568.40576171875, 1546.328369140625, 1527.8294677734375, 1568.40576171875, null, 1546.328369140625, 1463.223388671875, 1527.8294677734375, 1546.328369140625, null, 1540.345458984375, 1390.8646240234375, 1420.2867431640625, 1540.345458984375, null, 1390.8646240234375, 1540.345458984375, 1527.8294677734375, 1390.8646240234375, null, 1463.223388671875, 1390.8646240234375, 1527.8294677734375, 1463.223388671875, null, 1470.9627685546875, 1568.40576171875, 1484.7509765625, 1470.9627685546875, null, 1582.81591796875, 1470.9627685546875, 1484.7509765625, 1582.81591796875, null, 1499.5274658203125, 1470.9627685546875, 1516.5379638671875, 1499.5274658203125, null, 1568.40576171875, 1470.9627685546875, 1499.5274658203125, 1568.40576171875, null, 1470.9627685546875, 1500.8526611328125, 1516.5379638671875, 1470.9627685546875, null, 1470.9627685546875, 1582.81591796875, 1500.8526611328125, 1470.9627685546875, null, 1447.3746337890625, 1555.5518798828125, 1500.4580078125, 1447.3746337890625, null, 1555.5518798828125, 1447.3746337890625, 1512.0496826171875, 1555.5518798828125, null, 1447.3746337890625, 1425.7720947265625, 1512.0496826171875, 1447.3746337890625, null, 1582.81591796875, 1536.5289306640625, 1500.8526611328125, 1582.81591796875, null, 1536.5289306640625, 1582.81591796875, 1512.0496826171875, 1536.5289306640625, null, 1425.7720947265625, 1536.5289306640625, 1512.0496826171875, 1425.7720947265625, null]}, {\"hoverinfo\": \"none\", \"marker\": {\"color\": [1444.8844401041667, 1591.0135498046875], \"colorscale\": [[0.0, \"rgb(31, 119, 180)\"], [1.0, \"rgb(255, 127, 14)\"]], \"showscale\": true, \"size\": 0.1}, \"mode\": \"markers\", \"showlegend\": false, \"type\": \"scatter3d\", \"x\": [-49000.0], \"y\": [6.00056983268704e-12], \"z\": [1540.8558349609375]}],\n",
       "                        {\"height\": 800, \"scene\": {\"aspectratio\": {\"x\": 1, \"y\": 1, \"z\": 0.5}, \"xaxis\": {\"backgroundcolor\": \"rgb(230, 230, 230)\", \"gridcolor\": \"rgb(255, 255, 255)\", \"showbackground\": true, \"zerolinecolor\": \"rgb(255, 255, 255)\"}, \"yaxis\": {\"backgroundcolor\": \"rgb(230, 230, 230)\", \"gridcolor\": \"rgb(255, 255, 255)\", \"showbackground\": true, \"zerolinecolor\": \"rgb(255, 255, 255)\"}, \"zaxis\": {\"backgroundcolor\": \"rgb(230, 230, 230)\", \"gridcolor\": \"rgb(255, 255, 255)\", \"showbackground\": true, \"zerolinecolor\": \"rgb(255, 255, 255)\"}}, \"template\": {\"data\": {\"bar\": [{\"error_x\": {\"color\": \"#2a3f5f\"}, \"error_y\": {\"color\": \"#2a3f5f\"}, \"marker\": {\"line\": {\"color\": \"#E5ECF6\", \"width\": 0.5}}, \"type\": \"bar\"}], \"barpolar\": [{\"marker\": {\"line\": {\"color\": \"#E5ECF6\", \"width\": 0.5}}, \"type\": \"barpolar\"}], \"carpet\": [{\"aaxis\": {\"endlinecolor\": \"#2a3f5f\", \"gridcolor\": \"white\", \"linecolor\": \"white\", \"minorgridcolor\": \"white\", \"startlinecolor\": \"#2a3f5f\"}, \"baxis\": {\"endlinecolor\": \"#2a3f5f\", \"gridcolor\": \"white\", \"linecolor\": \"white\", \"minorgridcolor\": \"white\", \"startlinecolor\": \"#2a3f5f\"}, \"type\": \"carpet\"}], \"choropleth\": [{\"colorbar\": {\"outlinewidth\": 0, \"ticks\": \"\"}, \"type\": \"choropleth\"}], \"contour\": [{\"colorbar\": {\"outlinewidth\": 0, \"ticks\": \"\"}, \"colorscale\": [[0.0, \"#0d0887\"], [0.1111111111111111, \"#46039f\"], [0.2222222222222222, \"#7201a8\"], [0.3333333333333333, \"#9c179e\"], [0.4444444444444444, \"#bd3786\"], [0.5555555555555556, \"#d8576b\"], [0.6666666666666666, \"#ed7953\"], [0.7777777777777778, \"#fb9f3a\"], [0.8888888888888888, \"#fdca26\"], [1.0, \"#f0f921\"]], \"type\": \"contour\"}], \"contourcarpet\": [{\"colorbar\": {\"outlinewidth\": 0, \"ticks\": \"\"}, \"type\": \"contourcarpet\"}], \"heatmap\": [{\"colorbar\": {\"outlinewidth\": 0, \"ticks\": \"\"}, \"colorscale\": [[0.0, \"#0d0887\"], [0.1111111111111111, \"#46039f\"], [0.2222222222222222, \"#7201a8\"], [0.3333333333333333, \"#9c179e\"], [0.4444444444444444, \"#bd3786\"], [0.5555555555555556, \"#d8576b\"], [0.6666666666666666, \"#ed7953\"], [0.7777777777777778, \"#fb9f3a\"], [0.8888888888888888, \"#fdca26\"], [1.0, \"#f0f921\"]], \"type\": \"heatmap\"}], \"heatmapgl\": [{\"colorbar\": {\"outlinewidth\": 0, \"ticks\": \"\"}, \"colorscale\": [[0.0, \"#0d0887\"], [0.1111111111111111, \"#46039f\"], [0.2222222222222222, \"#7201a8\"], [0.3333333333333333, \"#9c179e\"], [0.4444444444444444, \"#bd3786\"], [0.5555555555555556, \"#d8576b\"], [0.6666666666666666, \"#ed7953\"], [0.7777777777777778, \"#fb9f3a\"], [0.8888888888888888, \"#fdca26\"], [1.0, \"#f0f921\"]], \"type\": \"heatmapgl\"}], \"histogram\": [{\"marker\": {\"colorbar\": {\"outlinewidth\": 0, \"ticks\": \"\"}}, \"type\": \"histogram\"}], \"histogram2d\": [{\"colorbar\": {\"outlinewidth\": 0, \"ticks\": \"\"}, \"colorscale\": [[0.0, \"#0d0887\"], [0.1111111111111111, \"#46039f\"], [0.2222222222222222, \"#7201a8\"], [0.3333333333333333, \"#9c179e\"], [0.4444444444444444, \"#bd3786\"], [0.5555555555555556, \"#d8576b\"], [0.6666666666666666, \"#ed7953\"], [0.7777777777777778, \"#fb9f3a\"], [0.8888888888888888, \"#fdca26\"], [1.0, \"#f0f921\"]], \"type\": \"histogram2d\"}], \"histogram2dcontour\": [{\"colorbar\": {\"outlinewidth\": 0, \"ticks\": \"\"}, \"colorscale\": [[0.0, \"#0d0887\"], [0.1111111111111111, \"#46039f\"], [0.2222222222222222, \"#7201a8\"], [0.3333333333333333, \"#9c179e\"], [0.4444444444444444, \"#bd3786\"], [0.5555555555555556, \"#d8576b\"], [0.6666666666666666, \"#ed7953\"], [0.7777777777777778, \"#fb9f3a\"], [0.8888888888888888, \"#fdca26\"], [1.0, \"#f0f921\"]], \"type\": \"histogram2dcontour\"}], \"mesh3d\": [{\"colorbar\": {\"outlinewidth\": 0, \"ticks\": \"\"}, \"type\": \"mesh3d\"}], \"parcoords\": [{\"line\": {\"colorbar\": {\"outlinewidth\": 0, \"ticks\": \"\"}}, \"type\": \"parcoords\"}], \"pie\": [{\"automargin\": true, \"type\": \"pie\"}], \"scatter\": [{\"marker\": {\"colorbar\": {\"outlinewidth\": 0, \"ticks\": \"\"}}, \"type\": \"scatter\"}], \"scatter3d\": [{\"line\": {\"colorbar\": {\"outlinewidth\": 0, \"ticks\": \"\"}}, \"marker\": {\"colorbar\": {\"outlinewidth\": 0, \"ticks\": \"\"}}, \"type\": \"scatter3d\"}], \"scattercarpet\": [{\"marker\": {\"colorbar\": {\"outlinewidth\": 0, \"ticks\": \"\"}}, \"type\": \"scattercarpet\"}], \"scattergeo\": [{\"marker\": {\"colorbar\": {\"outlinewidth\": 0, \"ticks\": \"\"}}, \"type\": \"scattergeo\"}], \"scattergl\": [{\"marker\": {\"colorbar\": {\"outlinewidth\": 0, \"ticks\": \"\"}}, \"type\": \"scattergl\"}], \"scattermapbox\": [{\"marker\": {\"colorbar\": {\"outlinewidth\": 0, \"ticks\": \"\"}}, \"type\": \"scattermapbox\"}], \"scatterpolar\": [{\"marker\": {\"colorbar\": {\"outlinewidth\": 0, \"ticks\": \"\"}}, \"type\": \"scatterpolar\"}], \"scatterpolargl\": [{\"marker\": {\"colorbar\": {\"outlinewidth\": 0, \"ticks\": \"\"}}, \"type\": \"scatterpolargl\"}], \"scatterternary\": [{\"marker\": {\"colorbar\": {\"outlinewidth\": 0, \"ticks\": \"\"}}, \"type\": \"scatterternary\"}], \"surface\": [{\"colorbar\": {\"outlinewidth\": 0, \"ticks\": \"\"}, \"colorscale\": [[0.0, \"#0d0887\"], [0.1111111111111111, \"#46039f\"], [0.2222222222222222, \"#7201a8\"], [0.3333333333333333, \"#9c179e\"], [0.4444444444444444, \"#bd3786\"], [0.5555555555555556, \"#d8576b\"], [0.6666666666666666, \"#ed7953\"], [0.7777777777777778, \"#fb9f3a\"], [0.8888888888888888, \"#fdca26\"], [1.0, \"#f0f921\"]], \"type\": \"surface\"}], \"table\": [{\"cells\": {\"fill\": {\"color\": \"#EBF0F8\"}, \"line\": {\"color\": \"white\"}}, \"header\": {\"fill\": {\"color\": \"#C8D4E3\"}, \"line\": {\"color\": \"white\"}}, \"type\": \"table\"}]}, \"layout\": {\"annotationdefaults\": {\"arrowcolor\": \"#2a3f5f\", \"arrowhead\": 0, \"arrowwidth\": 1}, \"coloraxis\": {\"colorbar\": {\"outlinewidth\": 0, \"ticks\": \"\"}}, \"colorscale\": {\"diverging\": [[0, \"#8e0152\"], [0.1, \"#c51b7d\"], [0.2, \"#de77ae\"], [0.3, \"#f1b6da\"], [0.4, \"#fde0ef\"], [0.5, \"#f7f7f7\"], [0.6, \"#e6f5d0\"], [0.7, \"#b8e186\"], [0.8, \"#7fbc41\"], [0.9, \"#4d9221\"], [1, \"#276419\"]], \"sequential\": [[0.0, \"#0d0887\"], [0.1111111111111111, \"#46039f\"], [0.2222222222222222, \"#7201a8\"], [0.3333333333333333, \"#9c179e\"], [0.4444444444444444, \"#bd3786\"], [0.5555555555555556, \"#d8576b\"], [0.6666666666666666, \"#ed7953\"], [0.7777777777777778, \"#fb9f3a\"], [0.8888888888888888, \"#fdca26\"], [1.0, \"#f0f921\"]], \"sequentialminus\": [[0.0, \"#0d0887\"], [0.1111111111111111, \"#46039f\"], [0.2222222222222222, \"#7201a8\"], [0.3333333333333333, \"#9c179e\"], [0.4444444444444444, \"#bd3786\"], [0.5555555555555556, \"#d8576b\"], [0.6666666666666666, \"#ed7953\"], [0.7777777777777778, \"#fb9f3a\"], [0.8888888888888888, \"#fdca26\"], [1.0, \"#f0f921\"]]}, \"colorway\": [\"#636efa\", \"#EF553B\", \"#00cc96\", \"#ab63fa\", \"#FFA15A\", \"#19d3f3\", \"#FF6692\", \"#B6E880\", \"#FF97FF\", \"#FECB52\"], \"font\": {\"color\": \"#2a3f5f\"}, \"geo\": {\"bgcolor\": \"white\", \"lakecolor\": \"white\", \"landcolor\": \"#E5ECF6\", \"showlakes\": true, \"showland\": true, \"subunitcolor\": \"white\"}, \"hoverlabel\": {\"align\": \"left\"}, \"hovermode\": \"closest\", \"mapbox\": {\"style\": \"light\"}, \"paper_bgcolor\": \"white\", \"plot_bgcolor\": \"#E5ECF6\", \"polar\": {\"angularaxis\": {\"gridcolor\": \"white\", \"linecolor\": \"white\", \"ticks\": \"\"}, \"bgcolor\": \"#E5ECF6\", \"radialaxis\": {\"gridcolor\": \"white\", \"linecolor\": \"white\", \"ticks\": \"\"}}, \"scene\": {\"xaxis\": {\"backgroundcolor\": \"#E5ECF6\", \"gridcolor\": \"white\", \"gridwidth\": 2, \"linecolor\": \"white\", \"showbackground\": true, \"ticks\": \"\", \"zerolinecolor\": \"white\"}, \"yaxis\": {\"backgroundcolor\": \"#E5ECF6\", \"gridcolor\": \"white\", \"gridwidth\": 2, \"linecolor\": \"white\", \"showbackground\": true, \"ticks\": \"\", \"zerolinecolor\": \"white\"}, \"zaxis\": {\"backgroundcolor\": \"#E5ECF6\", \"gridcolor\": \"white\", \"gridwidth\": 2, \"linecolor\": \"white\", \"showbackground\": true, \"ticks\": \"\", \"zerolinecolor\": \"white\"}}, \"shapedefaults\": {\"line\": {\"color\": \"#2a3f5f\"}}, \"ternary\": {\"aaxis\": {\"gridcolor\": \"white\", \"linecolor\": \"white\", \"ticks\": \"\"}, \"baxis\": {\"gridcolor\": \"white\", \"linecolor\": \"white\", \"ticks\": \"\"}, \"bgcolor\": \"#E5ECF6\", \"caxis\": {\"gridcolor\": \"white\", \"linecolor\": \"white\", \"ticks\": \"\"}}, \"title\": {\"x\": 0.05}, \"xaxis\": {\"automargin\": true, \"gridcolor\": \"white\", \"linecolor\": \"white\", \"ticks\": \"\", \"title\": {\"standoff\": 15}, \"zerolinecolor\": \"white\", \"zerolinewidth\": 2}, \"yaxis\": {\"automargin\": true, \"gridcolor\": \"white\", \"linecolor\": \"white\", \"ticks\": \"\", \"title\": {\"standoff\": 15}, \"zerolinecolor\": \"white\", \"zerolinewidth\": 2}}}, \"title\": {\"text\": \"wafare\"}, \"width\": 800},\n",
       "                        {\"responsive\": true}\n",
       "                    ).then(function(){\n",
       "                            \n",
       "var gd = document.getElementById('3e8b6ad2-ef2f-4833-b064-b3d4e9ff9032');\n",
       "var x = new MutationObserver(function (mutations, observer) {{\n",
       "        var display = window.getComputedStyle(gd).display;\n",
       "        if (!display || display === 'none') {{\n",
       "            console.log([gd, 'removed!']);\n",
       "            Plotly.purge(gd);\n",
       "            observer.disconnect();\n",
       "        }}\n",
       "}});\n",
       "\n",
       "// Listen for the removal of the full notebook cells\n",
       "var notebookContainer = gd.closest('#notebook-container');\n",
       "if (notebookContainer) {{\n",
       "    x.observe(notebookContainer, {childList: true});\n",
       "}}\n",
       "\n",
       "// Listen for the clearing of the current output cell\n",
       "var outputEl = gd.closest('.output');\n",
       "if (outputEl) {{\n",
       "    x.observe(outputEl, {childList: true});\n",
       "}}\n",
       "\n",
       "                        })\n",
       "                };\n",
       "                });\n",
       "            </script>\n",
       "        </div>"
      ]
     },
     "metadata": {},
     "output_type": "display_data"
    }
   ],
   "source": [
    "visualize(X_test)"
   ]
  },
  {
   "cell_type": "code",
   "execution_count": 157,
   "metadata": {},
   "outputs": [],
   "source": [
    "X_test = thickness_extraction(X_test[0])"
   ]
  },
  {
   "cell_type": "code",
   "execution_count": 129,
   "metadata": {},
   "outputs": [
    {
     "data": {
      "application/vnd.plotly.v1+json": {
       "config": {
        "plotlyServerURL": "https://plot.ly"
       },
       "data": [
        {
         "facecolor": [
          "rgb(158, 124, 86)",
          "rgb(131, 123, 106)",
          "rgb(147, 123, 94)",
          "rgb(145, 123, 96)",
          "rgb(149, 123, 93)",
          "rgb(215, 126, 43)",
          "rgb(132, 123, 105)",
          "rgb(212, 125, 46)",
          "rgb(53, 120, 164)",
          "rgb(202, 125, 53)",
          "rgb(191, 125, 62)",
          "rgb(232, 126, 31)",
          "rgb(184, 124, 67)",
          "rgb(226, 126, 36)",
          "rgb(199, 125, 55)",
          "rgb(195, 125, 59)",
          "rgb(209, 125, 48)",
          "rgb(235, 126, 29)",
          "rgb(248, 127, 19)",
          "rgb(252, 127, 16)",
          "rgb(49, 120, 167)",
          "rgb(219, 126, 41)",
          "rgb(224, 126, 37)",
          "rgb(179, 124, 70)",
          "rgb(232, 126, 31)",
          "rgb(161, 124, 84)",
          "rgb(255, 127, 14)",
          "rgb(202, 125, 53)",
          "rgb(43, 119, 171)",
          "rgb(62, 120, 157)",
          "rgb(133, 123, 104)",
          "rgb(216, 126, 43)",
          "rgb(137, 123, 102)",
          "rgb(143, 123, 97)",
          "rgb(222, 126, 39)",
          "rgb(139, 123, 100)",
          "rgb(205, 125, 51)",
          "rgb(152, 123, 90)",
          "rgb(209, 125, 48)",
          "rgb(168, 124, 78)",
          "rgb(31, 119, 180)",
          "rgb(43, 119, 171)",
          "rgb(147, 123, 94)",
          "rgb(194, 125, 60)",
          "rgb(149, 123, 93)",
          "rgb(148, 123, 93)",
          "rgb(196, 125, 58)",
          "rgb(148, 123, 94)",
          "rgb(242, 127, 23)",
          "rgb(194, 125, 59)",
          "rgb(246, 127, 21)",
          "rgb(200, 125, 55)",
          "rgb(60, 120, 158)",
          "rgb(63, 120, 156)",
          "rgb(144, 123, 96)",
          "rgb(210, 125, 47)",
          "rgb(141, 123, 98)",
          "rgb(133, 123, 104)",
          "rgb(207, 125, 49)",
          "rgb(136, 123, 103)",
          "rgb(228, 126, 34)",
          "rgb(227, 126, 35)",
          "rgb(147, 123, 94)",
          "rgb(211, 125, 46)",
          "rgb(148, 123, 93)",
          "rgb(212, 125, 46)",
          "rgb(148, 123, 93)",
          "rgb(206, 125, 51)",
          "rgb(149, 123, 93)",
          "rgb(148, 123, 93)",
          "rgb(209, 125, 48)",
          "rgb(148, 123, 94)"
         ],
         "i": [
          38,
          32,
          44,
          17,
          22,
          18,
          13,
          14,
          2,
          19,
          6,
          3,
          10,
          16,
          21,
          21,
          12,
          12,
          4,
          16,
          8,
          8,
          24,
          8,
          18,
          6,
          5,
          5,
          5,
          4,
          33,
          14,
          33,
          16,
          35,
          34,
          7,
          21,
          19,
          8,
          6,
          7,
          39,
          18,
          39,
          21,
          41,
          40,
          0,
          12,
          14,
          4,
          3,
          0,
          27,
          10,
          27,
          12,
          29,
          28,
          9,
          24,
          26,
          10,
          9,
          9,
          45,
          19,
          45,
          24,
          47,
          46
         ],
         "j": [
          17,
          13,
          22,
          36,
          42,
          17,
          30,
          13,
          3,
          22,
          18,
          10,
          3,
          36,
          42,
          6,
          30,
          3,
          14,
          4,
          2,
          19,
          8,
          24,
          5,
          5,
          16,
          4,
          6,
          5,
          14,
          33,
          34,
          35,
          16,
          35,
          21,
          7,
          7,
          7,
          7,
          8,
          18,
          39,
          40,
          41,
          21,
          41,
          12,
          0,
          0,
          0,
          0,
          4,
          10,
          27,
          28,
          29,
          12,
          29,
          10,
          9,
          9,
          9,
          48,
          24,
          19,
          45,
          46,
          47,
          24,
          47
         ],
         "k": [
          37,
          31,
          43,
          37,
          43,
          38,
          31,
          32,
          1,
          44,
          20,
          11,
          2,
          17,
          22,
          20,
          13,
          11,
          15,
          15,
          1,
          23,
          23,
          2,
          17,
          18,
          17,
          16,
          1,
          1,
          32,
          15,
          15,
          36,
          15,
          15,
          22,
          6,
          22,
          19,
          1,
          1,
          38,
          20,
          20,
          42,
          20,
          20,
          13,
          3,
          13,
          14,
          1,
          1,
          26,
          11,
          11,
          30,
          11,
          11,
          2,
          2,
          25,
          26,
          25,
          48,
          44,
          23,
          23,
          48,
          23,
          23
         ],
         "name": "",
         "type": "mesh3d",
         "x": [
          -49000,
          0,
          3.0002899036735098e-12,
          -34648.19921875,
          -34648.19921875,
          -9.00085995320099e-12,
          34648.19921875,
          49000,
          34648.19921875,
          6.00056983268704e-12,
          -37503,
          -69296.5,
          -90540.203125,
          -98000,
          -90540.203125,
          -69296.5,
          -37503,
          -1.80017008244437e-11,
          37503,
          90540.203125,
          69296.5,
          90540.203125,
          98000,
          69296.5,
          37503,
          9.00085995320099e-12,
          -38046.3984375,
          -73500,
          -103945,
          -127306,
          -141991,
          -147000,
          -141991,
          -127306,
          -103945,
          -73500,
          -38046.3984375,
          -2.70025998089229e-11,
          38046.3984375,
          73500,
          103945,
          127306,
          141991,
          147000,
          141991,
          127306,
          103945,
          73500,
          38046.3984375
         ],
         "y": [
          6.00056983268704e-12,
          0,
          49000,
          34648.19921875,
          -34648.19921875,
          -49000,
          -34648.19921875,
          -1.20010997667341e-11,
          34648.19921875,
          98000,
          90540.203125,
          69296.5,
          37503,
          1.20010997667341e-11,
          -37503,
          -69296.5,
          -90540.203125,
          -98000,
          -90540.203125,
          37503,
          -69296.5,
          -37503,
          -2.400230014742989e-11,
          69296.5,
          90540.203125,
          147000,
          141991,
          127306,
          103945,
          73500,
          38046.3984375,
          1.80017008244437e-11,
          -38046.3984375,
          -73500,
          -103945,
          -127306,
          -141991,
          -147000,
          -141991,
          -127306,
          -103945,
          -73500,
          -38046.3984375,
          -3.600340164888749e-11,
          38046.3984375,
          73500,
          103945,
          127306,
          141991
         ],
         "z": [
          1601.802686157764,
          1556.6687246417948,
          1597.90023782539,
          1599.7906468169422,
          1601.0837560546493,
          1601.1160069194964,
          1592.00456348405,
          1594.9774313737494,
          1597.9502992634482,
          1621.9188540792907,
          1621.7185682623608,
          1622.097076121326,
          1622.9805556458518,
          1623.8640360155935,
          1624.7475163853353,
          1625.6309959098614,
          1626.5144754343876,
          1627.2263106382507,
          1615.0274113248945,
          1618.9319980509015,
          1616.0035575394613,
          1616.9797037540286,
          1617.9558509024648,
          1620.1413047907736,
          1621.2199840236096,
          1589.8233217158138,
          1589.4760508551167,
          1588.7997479310336,
          1587.4224171633546,
          1586.045086395675,
          1585.2626661931274,
          1584.8732360982535,
          1584.6935688110327,
          1584.8822297535833,
          1585.5626074771908,
          1586.2429852007986,
          1586.4864420710026,
          1586.4784994477618,
          1592.9332030094558,
          1593.2960293723493,
          1592.9487575280139,
          1592.601485683679,
          1592.2542164513115,
          1591.9069455906142,
          1591.5596747299167,
          1591.2124054975493,
          1590.865133653214,
          1590.5178618088785,
          1590.1705925765116
         ]
        },
        {
         "line": {
          "color": "rgb(50, 50, 50)",
          "width": 1.5
         },
         "mode": "lines",
         "showlegend": false,
         "type": "scatter3d",
         "x": [
          38046.3984375,
          -1.80017008244437e-11,
          -2.70025998089229e-11,
          38046.3984375,
          null,
          -141991,
          -98000,
          -147000,
          -141991,
          null,
          141991,
          98000,
          147000,
          141991,
          null,
          -1.80017008244437e-11,
          -38046.3984375,
          -2.70025998089229e-11,
          -1.80017008244437e-11,
          null,
          98000,
          141991,
          147000,
          98000,
          null,
          37503,
          -1.80017008244437e-11,
          38046.3984375,
          37503,
          null,
          -98000,
          -141991,
          -147000,
          -98000,
          null,
          -90540.203125,
          -98000,
          -141991,
          -90540.203125,
          null,
          3.0002899036735098e-12,
          -34648.19921875,
          0,
          3.0002899036735098e-12,
          null,
          90540.203125,
          98000,
          141991,
          90540.203125,
          null,
          34648.19921875,
          37503,
          69296.5,
          34648.19921875,
          null,
          -34648.19921875,
          -37503,
          -69296.5,
          -34648.19921875,
          null,
          -37503,
          -34648.19921875,
          3.0002899036735098e-12,
          -37503,
          null,
          -37503,
          -38046.3984375,
          -1.80017008244437e-11,
          -37503,
          null,
          90540.203125,
          141991,
          98000,
          90540.203125,
          null,
          90540.203125,
          34648.19921875,
          69296.5,
          90540.203125,
          null,
          -90540.203125,
          -141991,
          -98000,
          -90540.203125,
          null,
          -90540.203125,
          -34648.19921875,
          -69296.5,
          -90540.203125,
          null,
          -34648.19921875,
          -90540.203125,
          -69296.5,
          -34648.19921875,
          null,
          -37503,
          -34648.19921875,
          -69296.5,
          -37503,
          null,
          34648.19921875,
          3.0002899036735098e-12,
          0,
          34648.19921875,
          null,
          34648.19921875,
          90540.203125,
          69296.5,
          34648.19921875,
          null,
          37503,
          34648.19921875,
          69296.5,
          37503,
          null,
          34648.19921875,
          37503,
          3.0002899036735098e-12,
          34648.19921875,
          null,
          37503,
          -9.00085995320099e-12,
          -1.80017008244437e-11,
          37503,
          null,
          34648.19921875,
          -9.00085995320099e-12,
          37503,
          34648.19921875,
          null,
          -9.00085995320099e-12,
          -37503,
          -1.80017008244437e-11,
          -9.00085995320099e-12,
          null,
          -9.00085995320099e-12,
          -34648.19921875,
          -37503,
          -9.00085995320099e-12,
          null,
          -9.00085995320099e-12,
          34648.19921875,
          0,
          -9.00085995320099e-12,
          null,
          -34648.19921875,
          -9.00085995320099e-12,
          0,
          -34648.19921875,
          null,
          -127306,
          -90540.203125,
          -141991,
          -127306,
          null,
          -90540.203125,
          -127306,
          -69296.5,
          -90540.203125,
          null,
          -127306,
          -103945,
          -69296.5,
          -127306,
          null,
          -37503,
          -73500,
          -38046.3984375,
          -37503,
          null,
          -73500,
          -37503,
          -69296.5,
          -73500,
          null,
          -103945,
          -73500,
          -69296.5,
          -103945,
          null,
          49000,
          90540.203125,
          98000,
          49000,
          null,
          90540.203125,
          49000,
          34648.19921875,
          90540.203125,
          null,
          90540.203125,
          49000,
          98000,
          90540.203125,
          null,
          34648.19921875,
          49000,
          90540.203125,
          34648.19921875,
          null,
          34648.19921875,
          49000,
          0,
          34648.19921875,
          null,
          49000,
          34648.19921875,
          0,
          49000,
          null,
          73500,
          37503,
          38046.3984375,
          73500,
          null,
          37503,
          73500,
          69296.5,
          37503,
          null,
          73500,
          103945,
          69296.5,
          73500,
          null,
          90540.203125,
          127306,
          141991,
          90540.203125,
          null,
          127306,
          90540.203125,
          69296.5,
          127306,
          null,
          103945,
          127306,
          69296.5,
          103945,
          null,
          -49000,
          -90540.203125,
          -98000,
          -49000,
          null,
          -90540.203125,
          -49000,
          -34648.19921875,
          -90540.203125,
          null,
          -90540.203125,
          -49000,
          -98000,
          -90540.203125,
          null,
          -34648.19921875,
          -49000,
          -90540.203125,
          -34648.19921875,
          null,
          -34648.19921875,
          -49000,
          0,
          -34648.19921875,
          null,
          -49000,
          -34648.19921875,
          0,
          -49000,
          null,
          -73500,
          -37503,
          -38046.3984375,
          -73500,
          null,
          -37503,
          -73500,
          -69296.5,
          -37503,
          null,
          -73500,
          -103945,
          -69296.5,
          -73500,
          null,
          -90540.203125,
          -127306,
          -141991,
          -90540.203125,
          null,
          -127306,
          -90540.203125,
          -69296.5,
          -127306,
          null,
          -103945,
          -127306,
          -69296.5,
          -103945,
          null,
          6.00056983268704e-12,
          -37503,
          3.0002899036735098e-12,
          6.00056983268704e-12,
          null,
          37503,
          6.00056983268704e-12,
          3.0002899036735098e-12,
          37503,
          null,
          -38046.3984375,
          6.00056983268704e-12,
          9.00085995320099e-12,
          -38046.3984375,
          null,
          -37503,
          6.00056983268704e-12,
          -38046.3984375,
          -37503,
          null,
          6.00056983268704e-12,
          38046.3984375,
          9.00085995320099e-12,
          6.00056983268704e-12,
          null,
          6.00056983268704e-12,
          37503,
          38046.3984375,
          6.00056983268704e-12,
          null,
          127306,
          90540.203125,
          141991,
          127306,
          null,
          90540.203125,
          127306,
          69296.5,
          90540.203125,
          null,
          127306,
          103945,
          69296.5,
          127306,
          null,
          37503,
          73500,
          38046.3984375,
          37503,
          null,
          73500,
          37503,
          69296.5,
          73500,
          null,
          103945,
          73500,
          69296.5,
          103945,
          null
         ],
         "y": [
          -141991,
          -98000,
          -147000,
          -141991,
          null,
          -38046.3984375,
          1.20010997667341e-11,
          1.80017008244437e-11,
          -38046.3984375,
          null,
          38046.3984375,
          -2.400230014742989e-11,
          -3.600340164888749e-11,
          38046.3984375,
          null,
          -98000,
          -141991,
          -147000,
          -98000,
          null,
          -2.400230014742989e-11,
          -38046.3984375,
          -3.600340164888749e-11,
          -2.400230014742989e-11,
          null,
          -90540.203125,
          -98000,
          -141991,
          -90540.203125,
          null,
          1.20010997667341e-11,
          38046.3984375,
          1.80017008244437e-11,
          1.20010997667341e-11,
          null,
          -37503,
          1.20010997667341e-11,
          -38046.3984375,
          -37503,
          null,
          49000,
          34648.19921875,
          0,
          49000,
          null,
          37503,
          -2.400230014742989e-11,
          38046.3984375,
          37503,
          null,
          -34648.19921875,
          -90540.203125,
          -69296.5,
          -34648.19921875,
          null,
          34648.19921875,
          90540.203125,
          69296.5,
          34648.19921875,
          null,
          90540.203125,
          34648.19921875,
          49000,
          90540.203125,
          null,
          -90540.203125,
          -141991,
          -98000,
          -90540.203125,
          null,
          -37503,
          -38046.3984375,
          -2.400230014742989e-11,
          -37503,
          null,
          -37503,
          -34648.19921875,
          -69296.5,
          -37503,
          null,
          37503,
          38046.3984375,
          1.20010997667341e-11,
          37503,
          null,
          37503,
          34648.19921875,
          69296.5,
          37503,
          null,
          -34648.19921875,
          -37503,
          -69296.5,
          -34648.19921875,
          null,
          -90540.203125,
          -34648.19921875,
          -69296.5,
          -90540.203125,
          null,
          34648.19921875,
          49000,
          0,
          34648.19921875,
          null,
          34648.19921875,
          37503,
          69296.5,
          34648.19921875,
          null,
          90540.203125,
          34648.19921875,
          69296.5,
          90540.203125,
          null,
          34648.19921875,
          90540.203125,
          49000,
          34648.19921875,
          null,
          -90540.203125,
          -49000,
          -98000,
          -90540.203125,
          null,
          -34648.19921875,
          -49000,
          -90540.203125,
          -34648.19921875,
          null,
          -49000,
          -90540.203125,
          -98000,
          -49000,
          null,
          -49000,
          -34648.19921875,
          -90540.203125,
          -49000,
          null,
          -49000,
          -34648.19921875,
          0,
          -49000,
          null,
          -34648.19921875,
          -49000,
          0,
          -34648.19921875,
          null,
          -73500,
          -37503,
          -38046.3984375,
          -73500,
          null,
          -37503,
          -73500,
          -69296.5,
          -37503,
          null,
          -73500,
          -103945,
          -69296.5,
          -73500,
          null,
          -90540.203125,
          -127306,
          -141991,
          -90540.203125,
          null,
          -127306,
          -90540.203125,
          -69296.5,
          -127306,
          null,
          -103945,
          -127306,
          -69296.5,
          -103945,
          null,
          -1.20010997667341e-11,
          -37503,
          -2.400230014742989e-11,
          -1.20010997667341e-11,
          null,
          -37503,
          -1.20010997667341e-11,
          -34648.19921875,
          -37503,
          null,
          37503,
          -1.20010997667341e-11,
          -2.400230014742989e-11,
          37503,
          null,
          34648.19921875,
          -1.20010997667341e-11,
          37503,
          34648.19921875,
          null,
          -34648.19921875,
          -1.20010997667341e-11,
          0,
          -34648.19921875,
          null,
          -1.20010997667341e-11,
          34648.19921875,
          0,
          -1.20010997667341e-11,
          null,
          -127306,
          -90540.203125,
          -141991,
          -127306,
          null,
          -90540.203125,
          -127306,
          -69296.5,
          -90540.203125,
          null,
          -127306,
          -103945,
          -69296.5,
          -127306,
          null,
          -37503,
          -73500,
          -38046.3984375,
          -37503,
          null,
          -73500,
          -37503,
          -69296.5,
          -73500,
          null,
          -103945,
          -73500,
          -69296.5,
          -103945,
          null,
          6.00056983268704e-12,
          37503,
          1.20010997667341e-11,
          6.00056983268704e-12,
          null,
          37503,
          6.00056983268704e-12,
          34648.19921875,
          37503,
          null,
          -37503,
          6.00056983268704e-12,
          1.20010997667341e-11,
          -37503,
          null,
          -34648.19921875,
          6.00056983268704e-12,
          -37503,
          -34648.19921875,
          null,
          34648.19921875,
          6.00056983268704e-12,
          0,
          34648.19921875,
          null,
          6.00056983268704e-12,
          -34648.19921875,
          0,
          6.00056983268704e-12,
          null,
          127306,
          90540.203125,
          141991,
          127306,
          null,
          90540.203125,
          127306,
          69296.5,
          90540.203125,
          null,
          127306,
          103945,
          69296.5,
          127306,
          null,
          37503,
          73500,
          38046.3984375,
          37503,
          null,
          73500,
          37503,
          69296.5,
          73500,
          null,
          103945,
          73500,
          69296.5,
          103945,
          null,
          98000,
          90540.203125,
          49000,
          98000,
          null,
          90540.203125,
          98000,
          49000,
          90540.203125,
          null,
          141991,
          98000,
          147000,
          141991,
          null,
          90540.203125,
          98000,
          141991,
          90540.203125,
          null,
          98000,
          141991,
          147000,
          98000,
          null,
          98000,
          90540.203125,
          141991,
          98000,
          null,
          73500,
          37503,
          38046.3984375,
          73500,
          null,
          37503,
          73500,
          69296.5,
          37503,
          null,
          73500,
          103945,
          69296.5,
          73500,
          null,
          90540.203125,
          127306,
          141991,
          90540.203125,
          null,
          127306,
          90540.203125,
          69296.5,
          127306,
          null,
          103945,
          127306,
          69296.5,
          103945,
          null
         ],
         "z": [
          1592.9332030094558,
          1627.2263106382507,
          1586.4784994477618,
          1592.9332030094558,
          null,
          1584.6935688110327,
          1623.8640360155935,
          1584.8732360982535,
          1584.6935688110327,
          null,
          1591.5596747299167,
          1617.9558509024648,
          1591.9069455906142,
          1591.5596747299167,
          null,
          1627.2263106382507,
          1586.4864420710026,
          1586.4784994477618,
          1627.2263106382507,
          null,
          1617.9558509024648,
          1592.2542164513115,
          1591.9069455906142,
          1617.9558509024648,
          null,
          1615.0274113248945,
          1627.2263106382507,
          1592.9332030094558,
          1615.0274113248945,
          null,
          1623.8640360155935,
          1585.2626661931274,
          1584.8732360982535,
          1623.8640360155935,
          null,
          1624.7475163853353,
          1623.8640360155935,
          1584.6935688110327,
          1624.7475163853353,
          null,
          1597.90023782539,
          1599.7906468169422,
          1556.6687246417948,
          1597.90023782539,
          null,
          1618.9319980509015,
          1617.9558509024648,
          1591.5596747299167,
          1618.9319980509015,
          null,
          1592.00456348405,
          1615.0274113248945,
          1616.0035575394613,
          1592.00456348405,
          null,
          1599.7906468169422,
          1621.7185682623608,
          1622.097076121326,
          1599.7906468169422,
          null,
          1621.7185682623608,
          1599.7906468169422,
          1597.90023782539,
          1621.7185682623608,
          null,
          1626.5144754343876,
          1586.4864420710026,
          1627.2263106382507,
          1626.5144754343876,
          null,
          1616.9797037540286,
          1592.2542164513115,
          1617.9558509024648,
          1616.9797037540286,
          null,
          1616.9797037540286,
          1592.00456348405,
          1616.0035575394613,
          1616.9797037540286,
          null,
          1622.9805556458518,
          1585.2626661931274,
          1623.8640360155935,
          1622.9805556458518,
          null,
          1622.9805556458518,
          1599.7906468169422,
          1622.097076121326,
          1622.9805556458518,
          null,
          1601.0837560546493,
          1624.7475163853353,
          1625.6309959098614,
          1601.0837560546493,
          null,
          1626.5144754343876,
          1601.0837560546493,
          1625.6309959098614,
          1626.5144754343876,
          null,
          1597.9502992634482,
          1597.90023782539,
          1556.6687246417948,
          1597.9502992634482,
          null,
          1597.9502992634482,
          1618.9319980509015,
          1620.1413047907736,
          1597.9502992634482,
          null,
          1621.2199840236096,
          1597.9502992634482,
          1620.1413047907736,
          1621.2199840236096,
          null,
          1597.9502992634482,
          1621.2199840236096,
          1597.90023782539,
          1597.9502992634482,
          null,
          1615.0274113248945,
          1601.1160069194964,
          1627.2263106382507,
          1615.0274113248945,
          null,
          1592.00456348405,
          1601.1160069194964,
          1615.0274113248945,
          1592.00456348405,
          null,
          1601.1160069194964,
          1626.5144754343876,
          1627.2263106382507,
          1601.1160069194964,
          null,
          1601.1160069194964,
          1601.0837560546493,
          1626.5144754343876,
          1601.1160069194964,
          null,
          1601.1160069194964,
          1592.00456348405,
          1556.6687246417948,
          1601.1160069194964,
          null,
          1601.0837560546493,
          1601.1160069194964,
          1556.6687246417948,
          1601.0837560546493,
          null,
          1584.8822297535833,
          1624.7475163853353,
          1584.6935688110327,
          1584.8822297535833,
          null,
          1624.7475163853353,
          1584.8822297535833,
          1625.6309959098614,
          1624.7475163853353,
          null,
          1584.8822297535833,
          1585.5626074771908,
          1625.6309959098614,
          1584.8822297535833,
          null,
          1626.5144754343876,
          1586.2429852007986,
          1586.4864420710026,
          1626.5144754343876,
          null,
          1586.2429852007986,
          1626.5144754343876,
          1625.6309959098614,
          1586.2429852007986,
          null,
          1585.5626074771908,
          1586.2429852007986,
          1625.6309959098614,
          1585.5626074771908,
          null,
          1594.9774313737494,
          1616.9797037540286,
          1617.9558509024648,
          1594.9774313737494,
          null,
          1616.9797037540286,
          1594.9774313737494,
          1592.00456348405,
          1616.9797037540286,
          null,
          1618.9319980509015,
          1594.9774313737494,
          1617.9558509024648,
          1618.9319980509015,
          null,
          1597.9502992634482,
          1594.9774313737494,
          1618.9319980509015,
          1597.9502992634482,
          null,
          1592.00456348405,
          1594.9774313737494,
          1556.6687246417948,
          1592.00456348405,
          null,
          1594.9774313737494,
          1597.9502992634482,
          1556.6687246417948,
          1594.9774313737494,
          null,
          1593.2960293723493,
          1615.0274113248945,
          1592.9332030094558,
          1593.2960293723493,
          null,
          1615.0274113248945,
          1593.2960293723493,
          1616.0035575394613,
          1615.0274113248945,
          null,
          1593.2960293723493,
          1592.9487575280139,
          1616.0035575394613,
          1593.2960293723493,
          null,
          1616.9797037540286,
          1592.601485683679,
          1592.2542164513115,
          1616.9797037540286,
          null,
          1592.601485683679,
          1616.9797037540286,
          1616.0035575394613,
          1592.601485683679,
          null,
          1592.9487575280139,
          1592.601485683679,
          1616.0035575394613,
          1592.9487575280139,
          null,
          1601.802686157764,
          1622.9805556458518,
          1623.8640360155935,
          1601.802686157764,
          null,
          1622.9805556458518,
          1601.802686157764,
          1599.7906468169422,
          1622.9805556458518,
          null,
          1624.7475163853353,
          1601.802686157764,
          1623.8640360155935,
          1624.7475163853353,
          null,
          1601.0837560546493,
          1601.802686157764,
          1624.7475163853353,
          1601.0837560546493,
          null,
          1599.7906468169422,
          1601.802686157764,
          1556.6687246417948,
          1599.7906468169422,
          null,
          1601.802686157764,
          1601.0837560546493,
          1556.6687246417948,
          1601.802686157764,
          null,
          1588.7997479310336,
          1621.7185682623608,
          1589.4760508551167,
          1588.7997479310336,
          null,
          1621.7185682623608,
          1588.7997479310336,
          1622.097076121326,
          1621.7185682623608,
          null,
          1588.7997479310336,
          1587.4224171633546,
          1622.097076121326,
          1588.7997479310336,
          null,
          1622.9805556458518,
          1586.045086395675,
          1585.2626661931274,
          1622.9805556458518,
          null,
          1586.045086395675,
          1622.9805556458518,
          1622.097076121326,
          1586.045086395675,
          null,
          1587.4224171633546,
          1586.045086395675,
          1622.097076121326,
          1587.4224171633546,
          null,
          1621.9188540792907,
          1621.7185682623608,
          1597.90023782539,
          1621.9188540792907,
          null,
          1621.2199840236096,
          1621.9188540792907,
          1597.90023782539,
          1621.2199840236096,
          null,
          1589.4760508551167,
          1621.9188540792907,
          1589.8233217158138,
          1589.4760508551167,
          null,
          1621.7185682623608,
          1621.9188540792907,
          1589.4760508551167,
          1621.7185682623608,
          null,
          1621.9188540792907,
          1590.1705925765116,
          1589.8233217158138,
          1621.9188540792907,
          null,
          1621.9188540792907,
          1621.2199840236096,
          1590.1705925765116,
          1621.9188540792907,
          null,
          1591.2124054975493,
          1618.9319980509015,
          1591.5596747299167,
          1591.2124054975493,
          null,
          1618.9319980509015,
          1591.2124054975493,
          1620.1413047907736,
          1618.9319980509015,
          null,
          1591.2124054975493,
          1590.865133653214,
          1620.1413047907736,
          1591.2124054975493,
          null,
          1621.2199840236096,
          1590.5178618088785,
          1590.1705925765116,
          1621.2199840236096,
          null,
          1590.5178618088785,
          1621.2199840236096,
          1620.1413047907736,
          1590.5178618088785,
          null,
          1590.865133653214,
          1590.5178618088785,
          1620.1413047907736,
          1590.865133653214,
          null
         ]
        },
        {
         "hoverinfo": "none",
         "marker": {
          "color": [
           1581.216906499865,
           1618.2855976640449
          ],
          "colorscale": [
           [
            0,
            "rgb(31, 119, 180)"
           ],
           [
            1,
            "rgb(255, 127, 14)"
           ]
          ],
          "showscale": true,
          "size": 0.1
         },
         "mode": "markers",
         "showlegend": false,
         "type": "scatter3d",
         "x": [
          -49000
         ],
         "y": [
          6.00056983268704e-12
         ],
         "z": [
          1601.802686157764
         ]
        }
       ],
       "layout": {
        "height": 800,
        "scene": {
         "aspectratio": {
          "x": 1,
          "y": 1,
          "z": 0.5
         },
         "xaxis": {
          "backgroundcolor": "rgb(230, 230, 230)",
          "gridcolor": "rgb(255, 255, 255)",
          "showbackground": true,
          "zerolinecolor": "rgb(255, 255, 255)"
         },
         "yaxis": {
          "backgroundcolor": "rgb(230, 230, 230)",
          "gridcolor": "rgb(255, 255, 255)",
          "showbackground": true,
          "zerolinecolor": "rgb(255, 255, 255)"
         },
         "zaxis": {
          "backgroundcolor": "rgb(230, 230, 230)",
          "gridcolor": "rgb(255, 255, 255)",
          "showbackground": true,
          "zerolinecolor": "rgb(255, 255, 255)"
         }
        },
        "template": {
         "data": {
          "bar": [
           {
            "error_x": {
             "color": "#2a3f5f"
            },
            "error_y": {
             "color": "#2a3f5f"
            },
            "marker": {
             "line": {
              "color": "#E5ECF6",
              "width": 0.5
             }
            },
            "type": "bar"
           }
          ],
          "barpolar": [
           {
            "marker": {
             "line": {
              "color": "#E5ECF6",
              "width": 0.5
             }
            },
            "type": "barpolar"
           }
          ],
          "carpet": [
           {
            "aaxis": {
             "endlinecolor": "#2a3f5f",
             "gridcolor": "white",
             "linecolor": "white",
             "minorgridcolor": "white",
             "startlinecolor": "#2a3f5f"
            },
            "baxis": {
             "endlinecolor": "#2a3f5f",
             "gridcolor": "white",
             "linecolor": "white",
             "minorgridcolor": "white",
             "startlinecolor": "#2a3f5f"
            },
            "type": "carpet"
           }
          ],
          "choropleth": [
           {
            "colorbar": {
             "outlinewidth": 0,
             "ticks": ""
            },
            "type": "choropleth"
           }
          ],
          "contour": [
           {
            "colorbar": {
             "outlinewidth": 0,
             "ticks": ""
            },
            "colorscale": [
             [
              0,
              "#0d0887"
             ],
             [
              0.1111111111111111,
              "#46039f"
             ],
             [
              0.2222222222222222,
              "#7201a8"
             ],
             [
              0.3333333333333333,
              "#9c179e"
             ],
             [
              0.4444444444444444,
              "#bd3786"
             ],
             [
              0.5555555555555556,
              "#d8576b"
             ],
             [
              0.6666666666666666,
              "#ed7953"
             ],
             [
              0.7777777777777778,
              "#fb9f3a"
             ],
             [
              0.8888888888888888,
              "#fdca26"
             ],
             [
              1,
              "#f0f921"
             ]
            ],
            "type": "contour"
           }
          ],
          "contourcarpet": [
           {
            "colorbar": {
             "outlinewidth": 0,
             "ticks": ""
            },
            "type": "contourcarpet"
           }
          ],
          "heatmap": [
           {
            "colorbar": {
             "outlinewidth": 0,
             "ticks": ""
            },
            "colorscale": [
             [
              0,
              "#0d0887"
             ],
             [
              0.1111111111111111,
              "#46039f"
             ],
             [
              0.2222222222222222,
              "#7201a8"
             ],
             [
              0.3333333333333333,
              "#9c179e"
             ],
             [
              0.4444444444444444,
              "#bd3786"
             ],
             [
              0.5555555555555556,
              "#d8576b"
             ],
             [
              0.6666666666666666,
              "#ed7953"
             ],
             [
              0.7777777777777778,
              "#fb9f3a"
             ],
             [
              0.8888888888888888,
              "#fdca26"
             ],
             [
              1,
              "#f0f921"
             ]
            ],
            "type": "heatmap"
           }
          ],
          "heatmapgl": [
           {
            "colorbar": {
             "outlinewidth": 0,
             "ticks": ""
            },
            "colorscale": [
             [
              0,
              "#0d0887"
             ],
             [
              0.1111111111111111,
              "#46039f"
             ],
             [
              0.2222222222222222,
              "#7201a8"
             ],
             [
              0.3333333333333333,
              "#9c179e"
             ],
             [
              0.4444444444444444,
              "#bd3786"
             ],
             [
              0.5555555555555556,
              "#d8576b"
             ],
             [
              0.6666666666666666,
              "#ed7953"
             ],
             [
              0.7777777777777778,
              "#fb9f3a"
             ],
             [
              0.8888888888888888,
              "#fdca26"
             ],
             [
              1,
              "#f0f921"
             ]
            ],
            "type": "heatmapgl"
           }
          ],
          "histogram": [
           {
            "marker": {
             "colorbar": {
              "outlinewidth": 0,
              "ticks": ""
             }
            },
            "type": "histogram"
           }
          ],
          "histogram2d": [
           {
            "colorbar": {
             "outlinewidth": 0,
             "ticks": ""
            },
            "colorscale": [
             [
              0,
              "#0d0887"
             ],
             [
              0.1111111111111111,
              "#46039f"
             ],
             [
              0.2222222222222222,
              "#7201a8"
             ],
             [
              0.3333333333333333,
              "#9c179e"
             ],
             [
              0.4444444444444444,
              "#bd3786"
             ],
             [
              0.5555555555555556,
              "#d8576b"
             ],
             [
              0.6666666666666666,
              "#ed7953"
             ],
             [
              0.7777777777777778,
              "#fb9f3a"
             ],
             [
              0.8888888888888888,
              "#fdca26"
             ],
             [
              1,
              "#f0f921"
             ]
            ],
            "type": "histogram2d"
           }
          ],
          "histogram2dcontour": [
           {
            "colorbar": {
             "outlinewidth": 0,
             "ticks": ""
            },
            "colorscale": [
             [
              0,
              "#0d0887"
             ],
             [
              0.1111111111111111,
              "#46039f"
             ],
             [
              0.2222222222222222,
              "#7201a8"
             ],
             [
              0.3333333333333333,
              "#9c179e"
             ],
             [
              0.4444444444444444,
              "#bd3786"
             ],
             [
              0.5555555555555556,
              "#d8576b"
             ],
             [
              0.6666666666666666,
              "#ed7953"
             ],
             [
              0.7777777777777778,
              "#fb9f3a"
             ],
             [
              0.8888888888888888,
              "#fdca26"
             ],
             [
              1,
              "#f0f921"
             ]
            ],
            "type": "histogram2dcontour"
           }
          ],
          "mesh3d": [
           {
            "colorbar": {
             "outlinewidth": 0,
             "ticks": ""
            },
            "type": "mesh3d"
           }
          ],
          "parcoords": [
           {
            "line": {
             "colorbar": {
              "outlinewidth": 0,
              "ticks": ""
             }
            },
            "type": "parcoords"
           }
          ],
          "pie": [
           {
            "automargin": true,
            "type": "pie"
           }
          ],
          "scatter": [
           {
            "marker": {
             "colorbar": {
              "outlinewidth": 0,
              "ticks": ""
             }
            },
            "type": "scatter"
           }
          ],
          "scatter3d": [
           {
            "line": {
             "colorbar": {
              "outlinewidth": 0,
              "ticks": ""
             }
            },
            "marker": {
             "colorbar": {
              "outlinewidth": 0,
              "ticks": ""
             }
            },
            "type": "scatter3d"
           }
          ],
          "scattercarpet": [
           {
            "marker": {
             "colorbar": {
              "outlinewidth": 0,
              "ticks": ""
             }
            },
            "type": "scattercarpet"
           }
          ],
          "scattergeo": [
           {
            "marker": {
             "colorbar": {
              "outlinewidth": 0,
              "ticks": ""
             }
            },
            "type": "scattergeo"
           }
          ],
          "scattergl": [
           {
            "marker": {
             "colorbar": {
              "outlinewidth": 0,
              "ticks": ""
             }
            },
            "type": "scattergl"
           }
          ],
          "scattermapbox": [
           {
            "marker": {
             "colorbar": {
              "outlinewidth": 0,
              "ticks": ""
             }
            },
            "type": "scattermapbox"
           }
          ],
          "scatterpolar": [
           {
            "marker": {
             "colorbar": {
              "outlinewidth": 0,
              "ticks": ""
             }
            },
            "type": "scatterpolar"
           }
          ],
          "scatterpolargl": [
           {
            "marker": {
             "colorbar": {
              "outlinewidth": 0,
              "ticks": ""
             }
            },
            "type": "scatterpolargl"
           }
          ],
          "scatterternary": [
           {
            "marker": {
             "colorbar": {
              "outlinewidth": 0,
              "ticks": ""
             }
            },
            "type": "scatterternary"
           }
          ],
          "surface": [
           {
            "colorbar": {
             "outlinewidth": 0,
             "ticks": ""
            },
            "colorscale": [
             [
              0,
              "#0d0887"
             ],
             [
              0.1111111111111111,
              "#46039f"
             ],
             [
              0.2222222222222222,
              "#7201a8"
             ],
             [
              0.3333333333333333,
              "#9c179e"
             ],
             [
              0.4444444444444444,
              "#bd3786"
             ],
             [
              0.5555555555555556,
              "#d8576b"
             ],
             [
              0.6666666666666666,
              "#ed7953"
             ],
             [
              0.7777777777777778,
              "#fb9f3a"
             ],
             [
              0.8888888888888888,
              "#fdca26"
             ],
             [
              1,
              "#f0f921"
             ]
            ],
            "type": "surface"
           }
          ],
          "table": [
           {
            "cells": {
             "fill": {
              "color": "#EBF0F8"
             },
             "line": {
              "color": "white"
             }
            },
            "header": {
             "fill": {
              "color": "#C8D4E3"
             },
             "line": {
              "color": "white"
             }
            },
            "type": "table"
           }
          ]
         },
         "layout": {
          "annotationdefaults": {
           "arrowcolor": "#2a3f5f",
           "arrowhead": 0,
           "arrowwidth": 1
          },
          "coloraxis": {
           "colorbar": {
            "outlinewidth": 0,
            "ticks": ""
           }
          },
          "colorscale": {
           "diverging": [
            [
             0,
             "#8e0152"
            ],
            [
             0.1,
             "#c51b7d"
            ],
            [
             0.2,
             "#de77ae"
            ],
            [
             0.3,
             "#f1b6da"
            ],
            [
             0.4,
             "#fde0ef"
            ],
            [
             0.5,
             "#f7f7f7"
            ],
            [
             0.6,
             "#e6f5d0"
            ],
            [
             0.7,
             "#b8e186"
            ],
            [
             0.8,
             "#7fbc41"
            ],
            [
             0.9,
             "#4d9221"
            ],
            [
             1,
             "#276419"
            ]
           ],
           "sequential": [
            [
             0,
             "#0d0887"
            ],
            [
             0.1111111111111111,
             "#46039f"
            ],
            [
             0.2222222222222222,
             "#7201a8"
            ],
            [
             0.3333333333333333,
             "#9c179e"
            ],
            [
             0.4444444444444444,
             "#bd3786"
            ],
            [
             0.5555555555555556,
             "#d8576b"
            ],
            [
             0.6666666666666666,
             "#ed7953"
            ],
            [
             0.7777777777777778,
             "#fb9f3a"
            ],
            [
             0.8888888888888888,
             "#fdca26"
            ],
            [
             1,
             "#f0f921"
            ]
           ],
           "sequentialminus": [
            [
             0,
             "#0d0887"
            ],
            [
             0.1111111111111111,
             "#46039f"
            ],
            [
             0.2222222222222222,
             "#7201a8"
            ],
            [
             0.3333333333333333,
             "#9c179e"
            ],
            [
             0.4444444444444444,
             "#bd3786"
            ],
            [
             0.5555555555555556,
             "#d8576b"
            ],
            [
             0.6666666666666666,
             "#ed7953"
            ],
            [
             0.7777777777777778,
             "#fb9f3a"
            ],
            [
             0.8888888888888888,
             "#fdca26"
            ],
            [
             1,
             "#f0f921"
            ]
           ]
          },
          "colorway": [
           "#636efa",
           "#EF553B",
           "#00cc96",
           "#ab63fa",
           "#FFA15A",
           "#19d3f3",
           "#FF6692",
           "#B6E880",
           "#FF97FF",
           "#FECB52"
          ],
          "font": {
           "color": "#2a3f5f"
          },
          "geo": {
           "bgcolor": "white",
           "lakecolor": "white",
           "landcolor": "#E5ECF6",
           "showlakes": true,
           "showland": true,
           "subunitcolor": "white"
          },
          "hoverlabel": {
           "align": "left"
          },
          "hovermode": "closest",
          "mapbox": {
           "style": "light"
          },
          "paper_bgcolor": "white",
          "plot_bgcolor": "#E5ECF6",
          "polar": {
           "angularaxis": {
            "gridcolor": "white",
            "linecolor": "white",
            "ticks": ""
           },
           "bgcolor": "#E5ECF6",
           "radialaxis": {
            "gridcolor": "white",
            "linecolor": "white",
            "ticks": ""
           }
          },
          "scene": {
           "xaxis": {
            "backgroundcolor": "#E5ECF6",
            "gridcolor": "white",
            "gridwidth": 2,
            "linecolor": "white",
            "showbackground": true,
            "ticks": "",
            "zerolinecolor": "white"
           },
           "yaxis": {
            "backgroundcolor": "#E5ECF6",
            "gridcolor": "white",
            "gridwidth": 2,
            "linecolor": "white",
            "showbackground": true,
            "ticks": "",
            "zerolinecolor": "white"
           },
           "zaxis": {
            "backgroundcolor": "#E5ECF6",
            "gridcolor": "white",
            "gridwidth": 2,
            "linecolor": "white",
            "showbackground": true,
            "ticks": "",
            "zerolinecolor": "white"
           }
          },
          "shapedefaults": {
           "line": {
            "color": "#2a3f5f"
           }
          },
          "ternary": {
           "aaxis": {
            "gridcolor": "white",
            "linecolor": "white",
            "ticks": ""
           },
           "baxis": {
            "gridcolor": "white",
            "linecolor": "white",
            "ticks": ""
           },
           "bgcolor": "#E5ECF6",
           "caxis": {
            "gridcolor": "white",
            "linecolor": "white",
            "ticks": ""
           }
          },
          "title": {
           "x": 0.05
          },
          "xaxis": {
           "automargin": true,
           "gridcolor": "white",
           "linecolor": "white",
           "ticks": "",
           "title": {
            "standoff": 15
           },
           "zerolinecolor": "white",
           "zerolinewidth": 2
          },
          "yaxis": {
           "automargin": true,
           "gridcolor": "white",
           "linecolor": "white",
           "ticks": "",
           "title": {
            "standoff": 15
           },
           "zerolinecolor": "white",
           "zerolinewidth": 2
          }
         }
        },
        "title": {
         "text": "wafare"
        },
        "width": 800
       }
      },
      "text/html": [
       "<div>\n",
       "        \n",
       "        \n",
       "            <div id=\"80c9e290-f7d3-4a99-8a4b-cecf36845b01\" class=\"plotly-graph-div\" style=\"height:800px; width:800px;\"></div>\n",
       "            <script type=\"text/javascript\">\n",
       "                require([\"plotly\"], function(Plotly) {\n",
       "                    window.PLOTLYENV=window.PLOTLYENV || {};\n",
       "                    \n",
       "                if (document.getElementById(\"80c9e290-f7d3-4a99-8a4b-cecf36845b01\")) {\n",
       "                    Plotly.newPlot(\n",
       "                        '80c9e290-f7d3-4a99-8a4b-cecf36845b01',\n",
       "                        [{\"facecolor\": [\"rgb(158, 124, 86)\", \"rgb(131, 123, 106)\", \"rgb(147, 123, 94)\", \"rgb(145, 123, 96)\", \"rgb(149, 123, 93)\", \"rgb(215, 126, 43)\", \"rgb(132, 123, 105)\", \"rgb(212, 125, 46)\", \"rgb(53, 120, 164)\", \"rgb(202, 125, 53)\", \"rgb(191, 125, 62)\", \"rgb(232, 126, 31)\", \"rgb(184, 124, 67)\", \"rgb(226, 126, 36)\", \"rgb(199, 125, 55)\", \"rgb(195, 125, 59)\", \"rgb(209, 125, 48)\", \"rgb(235, 126, 29)\", \"rgb(248, 127, 19)\", \"rgb(252, 127, 16)\", \"rgb(49, 120, 167)\", \"rgb(219, 126, 41)\", \"rgb(224, 126, 37)\", \"rgb(179, 124, 70)\", \"rgb(232, 126, 31)\", \"rgb(161, 124, 84)\", \"rgb(255, 127, 14)\", \"rgb(202, 125, 53)\", \"rgb(43, 119, 171)\", \"rgb(62, 120, 157)\", \"rgb(133, 123, 104)\", \"rgb(216, 126, 43)\", \"rgb(137, 123, 102)\", \"rgb(143, 123, 97)\", \"rgb(222, 126, 39)\", \"rgb(139, 123, 100)\", \"rgb(205, 125, 51)\", \"rgb(152, 123, 90)\", \"rgb(209, 125, 48)\", \"rgb(168, 124, 78)\", \"rgb(31, 119, 180)\", \"rgb(43, 119, 171)\", \"rgb(147, 123, 94)\", \"rgb(194, 125, 60)\", \"rgb(149, 123, 93)\", \"rgb(148, 123, 93)\", \"rgb(196, 125, 58)\", \"rgb(148, 123, 94)\", \"rgb(242, 127, 23)\", \"rgb(194, 125, 59)\", \"rgb(246, 127, 21)\", \"rgb(200, 125, 55)\", \"rgb(60, 120, 158)\", \"rgb(63, 120, 156)\", \"rgb(144, 123, 96)\", \"rgb(210, 125, 47)\", \"rgb(141, 123, 98)\", \"rgb(133, 123, 104)\", \"rgb(207, 125, 49)\", \"rgb(136, 123, 103)\", \"rgb(228, 126, 34)\", \"rgb(227, 126, 35)\", \"rgb(147, 123, 94)\", \"rgb(211, 125, 46)\", \"rgb(148, 123, 93)\", \"rgb(212, 125, 46)\", \"rgb(148, 123, 93)\", \"rgb(206, 125, 51)\", \"rgb(149, 123, 93)\", \"rgb(148, 123, 93)\", \"rgb(209, 125, 48)\", \"rgb(148, 123, 94)\"], \"i\": [38, 32, 44, 17, 22, 18, 13, 14, 2, 19, 6, 3, 10, 16, 21, 21, 12, 12, 4, 16, 8, 8, 24, 8, 18, 6, 5, 5, 5, 4, 33, 14, 33, 16, 35, 34, 7, 21, 19, 8, 6, 7, 39, 18, 39, 21, 41, 40, 0, 12, 14, 4, 3, 0, 27, 10, 27, 12, 29, 28, 9, 24, 26, 10, 9, 9, 45, 19, 45, 24, 47, 46], \"j\": [17, 13, 22, 36, 42, 17, 30, 13, 3, 22, 18, 10, 3, 36, 42, 6, 30, 3, 14, 4, 2, 19, 8, 24, 5, 5, 16, 4, 6, 5, 14, 33, 34, 35, 16, 35, 21, 7, 7, 7, 7, 8, 18, 39, 40, 41, 21, 41, 12, 0, 0, 0, 0, 4, 10, 27, 28, 29, 12, 29, 10, 9, 9, 9, 48, 24, 19, 45, 46, 47, 24, 47], \"k\": [37, 31, 43, 37, 43, 38, 31, 32, 1, 44, 20, 11, 2, 17, 22, 20, 13, 11, 15, 15, 1, 23, 23, 2, 17, 18, 17, 16, 1, 1, 32, 15, 15, 36, 15, 15, 22, 6, 22, 19, 1, 1, 38, 20, 20, 42, 20, 20, 13, 3, 13, 14, 1, 1, 26, 11, 11, 30, 11, 11, 2, 2, 25, 26, 25, 48, 44, 23, 23, 48, 23, 23], \"name\": \"\", \"type\": \"mesh3d\", \"x\": [-49000.0, 0.0, 3.0002899036735098e-12, -34648.19921875, -34648.19921875, -9.00085995320099e-12, 34648.19921875, 49000.0, 34648.19921875, 6.00056983268704e-12, -37503.0, -69296.5, -90540.203125, -98000.0, -90540.203125, -69296.5, -37503.0, -1.80017008244437e-11, 37503.0, 90540.203125, 69296.5, 90540.203125, 98000.0, 69296.5, 37503.0, 9.00085995320099e-12, -38046.3984375, -73500.0, -103945.0, -127306.0, -141991.0, -147000.0, -141991.0, -127306.0, -103945.0, -73500.0, -38046.3984375, -2.70025998089229e-11, 38046.3984375, 73500.0, 103945.0, 127306.0, 141991.0, 147000.0, 141991.0, 127306.0, 103945.0, 73500.0, 38046.3984375], \"y\": [6.00056983268704e-12, 0.0, 49000.0, 34648.19921875, -34648.19921875, -49000.0, -34648.19921875, -1.20010997667341e-11, 34648.19921875, 98000.0, 90540.203125, 69296.5, 37503.0, 1.20010997667341e-11, -37503.0, -69296.5, -90540.203125, -98000.0, -90540.203125, 37503.0, -69296.5, -37503.0, -2.400230014742989e-11, 69296.5, 90540.203125, 147000.0, 141991.0, 127306.0, 103945.0, 73500.0, 38046.3984375, 1.80017008244437e-11, -38046.3984375, -73500.0, -103945.0, -127306.0, -141991.0, -147000.0, -141991.0, -127306.0, -103945.0, -73500.0, -38046.3984375, -3.600340164888749e-11, 38046.3984375, 73500.0, 103945.0, 127306.0, 141991.0], \"z\": [1601.802686157764, 1556.6687246417948, 1597.90023782539, 1599.7906468169422, 1601.0837560546493, 1601.1160069194964, 1592.00456348405, 1594.9774313737494, 1597.9502992634482, 1621.9188540792907, 1621.7185682623608, 1622.097076121326, 1622.9805556458518, 1623.8640360155935, 1624.7475163853353, 1625.6309959098614, 1626.5144754343876, 1627.2263106382507, 1615.0274113248945, 1618.9319980509015, 1616.0035575394613, 1616.9797037540286, 1617.9558509024648, 1620.1413047907736, 1621.2199840236096, 1589.8233217158138, 1589.4760508551167, 1588.7997479310336, 1587.4224171633546, 1586.045086395675, 1585.2626661931274, 1584.8732360982535, 1584.6935688110327, 1584.8822297535833, 1585.5626074771908, 1586.2429852007986, 1586.4864420710026, 1586.4784994477618, 1592.9332030094558, 1593.2960293723493, 1592.9487575280139, 1592.601485683679, 1592.2542164513115, 1591.9069455906142, 1591.5596747299167, 1591.2124054975493, 1590.865133653214, 1590.5178618088785, 1590.1705925765116]}, {\"line\": {\"color\": \"rgb(50, 50, 50)\", \"width\": 1.5}, \"mode\": \"lines\", \"showlegend\": false, \"type\": \"scatter3d\", \"x\": [38046.3984375, -1.80017008244437e-11, -2.70025998089229e-11, 38046.3984375, null, -141991.0, -98000.0, -147000.0, -141991.0, null, 141991.0, 98000.0, 147000.0, 141991.0, null, -1.80017008244437e-11, -38046.3984375, -2.70025998089229e-11, -1.80017008244437e-11, null, 98000.0, 141991.0, 147000.0, 98000.0, null, 37503.0, -1.80017008244437e-11, 38046.3984375, 37503.0, null, -98000.0, -141991.0, -147000.0, -98000.0, null, -90540.203125, -98000.0, -141991.0, -90540.203125, null, 3.0002899036735098e-12, -34648.19921875, 0.0, 3.0002899036735098e-12, null, 90540.203125, 98000.0, 141991.0, 90540.203125, null, 34648.19921875, 37503.0, 69296.5, 34648.19921875, null, -34648.19921875, -37503.0, -69296.5, -34648.19921875, null, -37503.0, -34648.19921875, 3.0002899036735098e-12, -37503.0, null, -37503.0, -38046.3984375, -1.80017008244437e-11, -37503.0, null, 90540.203125, 141991.0, 98000.0, 90540.203125, null, 90540.203125, 34648.19921875, 69296.5, 90540.203125, null, -90540.203125, -141991.0, -98000.0, -90540.203125, null, -90540.203125, -34648.19921875, -69296.5, -90540.203125, null, -34648.19921875, -90540.203125, -69296.5, -34648.19921875, null, -37503.0, -34648.19921875, -69296.5, -37503.0, null, 34648.19921875, 3.0002899036735098e-12, 0.0, 34648.19921875, null, 34648.19921875, 90540.203125, 69296.5, 34648.19921875, null, 37503.0, 34648.19921875, 69296.5, 37503.0, null, 34648.19921875, 37503.0, 3.0002899036735098e-12, 34648.19921875, null, 37503.0, -9.00085995320099e-12, -1.80017008244437e-11, 37503.0, null, 34648.19921875, -9.00085995320099e-12, 37503.0, 34648.19921875, null, -9.00085995320099e-12, -37503.0, -1.80017008244437e-11, -9.00085995320099e-12, null, -9.00085995320099e-12, -34648.19921875, -37503.0, -9.00085995320099e-12, null, -9.00085995320099e-12, 34648.19921875, 0.0, -9.00085995320099e-12, null, -34648.19921875, -9.00085995320099e-12, 0.0, -34648.19921875, null, -127306.0, -90540.203125, -141991.0, -127306.0, null, -90540.203125, -127306.0, -69296.5, -90540.203125, null, -127306.0, -103945.0, -69296.5, -127306.0, null, -37503.0, -73500.0, -38046.3984375, -37503.0, null, -73500.0, -37503.0, -69296.5, -73500.0, null, -103945.0, -73500.0, -69296.5, -103945.0, null, 49000.0, 90540.203125, 98000.0, 49000.0, null, 90540.203125, 49000.0, 34648.19921875, 90540.203125, null, 90540.203125, 49000.0, 98000.0, 90540.203125, null, 34648.19921875, 49000.0, 90540.203125, 34648.19921875, null, 34648.19921875, 49000.0, 0.0, 34648.19921875, null, 49000.0, 34648.19921875, 0.0, 49000.0, null, 73500.0, 37503.0, 38046.3984375, 73500.0, null, 37503.0, 73500.0, 69296.5, 37503.0, null, 73500.0, 103945.0, 69296.5, 73500.0, null, 90540.203125, 127306.0, 141991.0, 90540.203125, null, 127306.0, 90540.203125, 69296.5, 127306.0, null, 103945.0, 127306.0, 69296.5, 103945.0, null, -49000.0, -90540.203125, -98000.0, -49000.0, null, -90540.203125, -49000.0, -34648.19921875, -90540.203125, null, -90540.203125, -49000.0, -98000.0, -90540.203125, null, -34648.19921875, -49000.0, -90540.203125, -34648.19921875, null, -34648.19921875, -49000.0, 0.0, -34648.19921875, null, -49000.0, -34648.19921875, 0.0, -49000.0, null, -73500.0, -37503.0, -38046.3984375, -73500.0, null, -37503.0, -73500.0, -69296.5, -37503.0, null, -73500.0, -103945.0, -69296.5, -73500.0, null, -90540.203125, -127306.0, -141991.0, -90540.203125, null, -127306.0, -90540.203125, -69296.5, -127306.0, null, -103945.0, -127306.0, -69296.5, -103945.0, null, 6.00056983268704e-12, -37503.0, 3.0002899036735098e-12, 6.00056983268704e-12, null, 37503.0, 6.00056983268704e-12, 3.0002899036735098e-12, 37503.0, null, -38046.3984375, 6.00056983268704e-12, 9.00085995320099e-12, -38046.3984375, null, -37503.0, 6.00056983268704e-12, -38046.3984375, -37503.0, null, 6.00056983268704e-12, 38046.3984375, 9.00085995320099e-12, 6.00056983268704e-12, null, 6.00056983268704e-12, 37503.0, 38046.3984375, 6.00056983268704e-12, null, 127306.0, 90540.203125, 141991.0, 127306.0, null, 90540.203125, 127306.0, 69296.5, 90540.203125, null, 127306.0, 103945.0, 69296.5, 127306.0, null, 37503.0, 73500.0, 38046.3984375, 37503.0, null, 73500.0, 37503.0, 69296.5, 73500.0, null, 103945.0, 73500.0, 69296.5, 103945.0, null], \"y\": [-141991.0, -98000.0, -147000.0, -141991.0, null, -38046.3984375, 1.20010997667341e-11, 1.80017008244437e-11, -38046.3984375, null, 38046.3984375, -2.400230014742989e-11, -3.600340164888749e-11, 38046.3984375, null, -98000.0, -141991.0, -147000.0, -98000.0, null, -2.400230014742989e-11, -38046.3984375, -3.600340164888749e-11, -2.400230014742989e-11, null, -90540.203125, -98000.0, -141991.0, -90540.203125, null, 1.20010997667341e-11, 38046.3984375, 1.80017008244437e-11, 1.20010997667341e-11, null, -37503.0, 1.20010997667341e-11, -38046.3984375, -37503.0, null, 49000.0, 34648.19921875, 0.0, 49000.0, null, 37503.0, -2.400230014742989e-11, 38046.3984375, 37503.0, null, -34648.19921875, -90540.203125, -69296.5, -34648.19921875, null, 34648.19921875, 90540.203125, 69296.5, 34648.19921875, null, 90540.203125, 34648.19921875, 49000.0, 90540.203125, null, -90540.203125, -141991.0, -98000.0, -90540.203125, null, -37503.0, -38046.3984375, -2.400230014742989e-11, -37503.0, null, -37503.0, -34648.19921875, -69296.5, -37503.0, null, 37503.0, 38046.3984375, 1.20010997667341e-11, 37503.0, null, 37503.0, 34648.19921875, 69296.5, 37503.0, null, -34648.19921875, -37503.0, -69296.5, -34648.19921875, null, -90540.203125, -34648.19921875, -69296.5, -90540.203125, null, 34648.19921875, 49000.0, 0.0, 34648.19921875, null, 34648.19921875, 37503.0, 69296.5, 34648.19921875, null, 90540.203125, 34648.19921875, 69296.5, 90540.203125, null, 34648.19921875, 90540.203125, 49000.0, 34648.19921875, null, -90540.203125, -49000.0, -98000.0, -90540.203125, null, -34648.19921875, -49000.0, -90540.203125, -34648.19921875, null, -49000.0, -90540.203125, -98000.0, -49000.0, null, -49000.0, -34648.19921875, -90540.203125, -49000.0, null, -49000.0, -34648.19921875, 0.0, -49000.0, null, -34648.19921875, -49000.0, 0.0, -34648.19921875, null, -73500.0, -37503.0, -38046.3984375, -73500.0, null, -37503.0, -73500.0, -69296.5, -37503.0, null, -73500.0, -103945.0, -69296.5, -73500.0, null, -90540.203125, -127306.0, -141991.0, -90540.203125, null, -127306.0, -90540.203125, -69296.5, -127306.0, null, -103945.0, -127306.0, -69296.5, -103945.0, null, -1.20010997667341e-11, -37503.0, -2.400230014742989e-11, -1.20010997667341e-11, null, -37503.0, -1.20010997667341e-11, -34648.19921875, -37503.0, null, 37503.0, -1.20010997667341e-11, -2.400230014742989e-11, 37503.0, null, 34648.19921875, -1.20010997667341e-11, 37503.0, 34648.19921875, null, -34648.19921875, -1.20010997667341e-11, 0.0, -34648.19921875, null, -1.20010997667341e-11, 34648.19921875, 0.0, -1.20010997667341e-11, null, -127306.0, -90540.203125, -141991.0, -127306.0, null, -90540.203125, -127306.0, -69296.5, -90540.203125, null, -127306.0, -103945.0, -69296.5, -127306.0, null, -37503.0, -73500.0, -38046.3984375, -37503.0, null, -73500.0, -37503.0, -69296.5, -73500.0, null, -103945.0, -73500.0, -69296.5, -103945.0, null, 6.00056983268704e-12, 37503.0, 1.20010997667341e-11, 6.00056983268704e-12, null, 37503.0, 6.00056983268704e-12, 34648.19921875, 37503.0, null, -37503.0, 6.00056983268704e-12, 1.20010997667341e-11, -37503.0, null, -34648.19921875, 6.00056983268704e-12, -37503.0, -34648.19921875, null, 34648.19921875, 6.00056983268704e-12, 0.0, 34648.19921875, null, 6.00056983268704e-12, -34648.19921875, 0.0, 6.00056983268704e-12, null, 127306.0, 90540.203125, 141991.0, 127306.0, null, 90540.203125, 127306.0, 69296.5, 90540.203125, null, 127306.0, 103945.0, 69296.5, 127306.0, null, 37503.0, 73500.0, 38046.3984375, 37503.0, null, 73500.0, 37503.0, 69296.5, 73500.0, null, 103945.0, 73500.0, 69296.5, 103945.0, null, 98000.0, 90540.203125, 49000.0, 98000.0, null, 90540.203125, 98000.0, 49000.0, 90540.203125, null, 141991.0, 98000.0, 147000.0, 141991.0, null, 90540.203125, 98000.0, 141991.0, 90540.203125, null, 98000.0, 141991.0, 147000.0, 98000.0, null, 98000.0, 90540.203125, 141991.0, 98000.0, null, 73500.0, 37503.0, 38046.3984375, 73500.0, null, 37503.0, 73500.0, 69296.5, 37503.0, null, 73500.0, 103945.0, 69296.5, 73500.0, null, 90540.203125, 127306.0, 141991.0, 90540.203125, null, 127306.0, 90540.203125, 69296.5, 127306.0, null, 103945.0, 127306.0, 69296.5, 103945.0, null], \"z\": [1592.9332030094558, 1627.2263106382507, 1586.4784994477618, 1592.9332030094558, null, 1584.6935688110327, 1623.8640360155935, 1584.8732360982535, 1584.6935688110327, null, 1591.5596747299167, 1617.9558509024648, 1591.9069455906142, 1591.5596747299167, null, 1627.2263106382507, 1586.4864420710026, 1586.4784994477618, 1627.2263106382507, null, 1617.9558509024648, 1592.2542164513115, 1591.9069455906142, 1617.9558509024648, null, 1615.0274113248945, 1627.2263106382507, 1592.9332030094558, 1615.0274113248945, null, 1623.8640360155935, 1585.2626661931274, 1584.8732360982535, 1623.8640360155935, null, 1624.7475163853353, 1623.8640360155935, 1584.6935688110327, 1624.7475163853353, null, 1597.90023782539, 1599.7906468169422, 1556.6687246417948, 1597.90023782539, null, 1618.9319980509015, 1617.9558509024648, 1591.5596747299167, 1618.9319980509015, null, 1592.00456348405, 1615.0274113248945, 1616.0035575394613, 1592.00456348405, null, 1599.7906468169422, 1621.7185682623608, 1622.097076121326, 1599.7906468169422, null, 1621.7185682623608, 1599.7906468169422, 1597.90023782539, 1621.7185682623608, null, 1626.5144754343876, 1586.4864420710026, 1627.2263106382507, 1626.5144754343876, null, 1616.9797037540286, 1592.2542164513115, 1617.9558509024648, 1616.9797037540286, null, 1616.9797037540286, 1592.00456348405, 1616.0035575394613, 1616.9797037540286, null, 1622.9805556458518, 1585.2626661931274, 1623.8640360155935, 1622.9805556458518, null, 1622.9805556458518, 1599.7906468169422, 1622.097076121326, 1622.9805556458518, null, 1601.0837560546493, 1624.7475163853353, 1625.6309959098614, 1601.0837560546493, null, 1626.5144754343876, 1601.0837560546493, 1625.6309959098614, 1626.5144754343876, null, 1597.9502992634482, 1597.90023782539, 1556.6687246417948, 1597.9502992634482, null, 1597.9502992634482, 1618.9319980509015, 1620.1413047907736, 1597.9502992634482, null, 1621.2199840236096, 1597.9502992634482, 1620.1413047907736, 1621.2199840236096, null, 1597.9502992634482, 1621.2199840236096, 1597.90023782539, 1597.9502992634482, null, 1615.0274113248945, 1601.1160069194964, 1627.2263106382507, 1615.0274113248945, null, 1592.00456348405, 1601.1160069194964, 1615.0274113248945, 1592.00456348405, null, 1601.1160069194964, 1626.5144754343876, 1627.2263106382507, 1601.1160069194964, null, 1601.1160069194964, 1601.0837560546493, 1626.5144754343876, 1601.1160069194964, null, 1601.1160069194964, 1592.00456348405, 1556.6687246417948, 1601.1160069194964, null, 1601.0837560546493, 1601.1160069194964, 1556.6687246417948, 1601.0837560546493, null, 1584.8822297535833, 1624.7475163853353, 1584.6935688110327, 1584.8822297535833, null, 1624.7475163853353, 1584.8822297535833, 1625.6309959098614, 1624.7475163853353, null, 1584.8822297535833, 1585.5626074771908, 1625.6309959098614, 1584.8822297535833, null, 1626.5144754343876, 1586.2429852007986, 1586.4864420710026, 1626.5144754343876, null, 1586.2429852007986, 1626.5144754343876, 1625.6309959098614, 1586.2429852007986, null, 1585.5626074771908, 1586.2429852007986, 1625.6309959098614, 1585.5626074771908, null, 1594.9774313737494, 1616.9797037540286, 1617.9558509024648, 1594.9774313737494, null, 1616.9797037540286, 1594.9774313737494, 1592.00456348405, 1616.9797037540286, null, 1618.9319980509015, 1594.9774313737494, 1617.9558509024648, 1618.9319980509015, null, 1597.9502992634482, 1594.9774313737494, 1618.9319980509015, 1597.9502992634482, null, 1592.00456348405, 1594.9774313737494, 1556.6687246417948, 1592.00456348405, null, 1594.9774313737494, 1597.9502992634482, 1556.6687246417948, 1594.9774313737494, null, 1593.2960293723493, 1615.0274113248945, 1592.9332030094558, 1593.2960293723493, null, 1615.0274113248945, 1593.2960293723493, 1616.0035575394613, 1615.0274113248945, null, 1593.2960293723493, 1592.9487575280139, 1616.0035575394613, 1593.2960293723493, null, 1616.9797037540286, 1592.601485683679, 1592.2542164513115, 1616.9797037540286, null, 1592.601485683679, 1616.9797037540286, 1616.0035575394613, 1592.601485683679, null, 1592.9487575280139, 1592.601485683679, 1616.0035575394613, 1592.9487575280139, null, 1601.802686157764, 1622.9805556458518, 1623.8640360155935, 1601.802686157764, null, 1622.9805556458518, 1601.802686157764, 1599.7906468169422, 1622.9805556458518, null, 1624.7475163853353, 1601.802686157764, 1623.8640360155935, 1624.7475163853353, null, 1601.0837560546493, 1601.802686157764, 1624.7475163853353, 1601.0837560546493, null, 1599.7906468169422, 1601.802686157764, 1556.6687246417948, 1599.7906468169422, null, 1601.802686157764, 1601.0837560546493, 1556.6687246417948, 1601.802686157764, null, 1588.7997479310336, 1621.7185682623608, 1589.4760508551167, 1588.7997479310336, null, 1621.7185682623608, 1588.7997479310336, 1622.097076121326, 1621.7185682623608, null, 1588.7997479310336, 1587.4224171633546, 1622.097076121326, 1588.7997479310336, null, 1622.9805556458518, 1586.045086395675, 1585.2626661931274, 1622.9805556458518, null, 1586.045086395675, 1622.9805556458518, 1622.097076121326, 1586.045086395675, null, 1587.4224171633546, 1586.045086395675, 1622.097076121326, 1587.4224171633546, null, 1621.9188540792907, 1621.7185682623608, 1597.90023782539, 1621.9188540792907, null, 1621.2199840236096, 1621.9188540792907, 1597.90023782539, 1621.2199840236096, null, 1589.4760508551167, 1621.9188540792907, 1589.8233217158138, 1589.4760508551167, null, 1621.7185682623608, 1621.9188540792907, 1589.4760508551167, 1621.7185682623608, null, 1621.9188540792907, 1590.1705925765116, 1589.8233217158138, 1621.9188540792907, null, 1621.9188540792907, 1621.2199840236096, 1590.1705925765116, 1621.9188540792907, null, 1591.2124054975493, 1618.9319980509015, 1591.5596747299167, 1591.2124054975493, null, 1618.9319980509015, 1591.2124054975493, 1620.1413047907736, 1618.9319980509015, null, 1591.2124054975493, 1590.865133653214, 1620.1413047907736, 1591.2124054975493, null, 1621.2199840236096, 1590.5178618088785, 1590.1705925765116, 1621.2199840236096, null, 1590.5178618088785, 1621.2199840236096, 1620.1413047907736, 1590.5178618088785, null, 1590.865133653214, 1590.5178618088785, 1620.1413047907736, 1590.865133653214, null]}, {\"hoverinfo\": \"none\", \"marker\": {\"color\": [1581.216906499865, 1618.2855976640449], \"colorscale\": [[0.0, \"rgb(31, 119, 180)\"], [1.0, \"rgb(255, 127, 14)\"]], \"showscale\": true, \"size\": 0.1}, \"mode\": \"markers\", \"showlegend\": false, \"type\": \"scatter3d\", \"x\": [-49000.0], \"y\": [6.00056983268704e-12], \"z\": [1601.802686157764]}],\n",
       "                        {\"height\": 800, \"scene\": {\"aspectratio\": {\"x\": 1, \"y\": 1, \"z\": 0.5}, \"xaxis\": {\"backgroundcolor\": \"rgb(230, 230, 230)\", \"gridcolor\": \"rgb(255, 255, 255)\", \"showbackground\": true, \"zerolinecolor\": \"rgb(255, 255, 255)\"}, \"yaxis\": {\"backgroundcolor\": \"rgb(230, 230, 230)\", \"gridcolor\": \"rgb(255, 255, 255)\", \"showbackground\": true, \"zerolinecolor\": \"rgb(255, 255, 255)\"}, \"zaxis\": {\"backgroundcolor\": \"rgb(230, 230, 230)\", \"gridcolor\": \"rgb(255, 255, 255)\", \"showbackground\": true, \"zerolinecolor\": \"rgb(255, 255, 255)\"}}, \"template\": {\"data\": {\"bar\": [{\"error_x\": {\"color\": \"#2a3f5f\"}, \"error_y\": {\"color\": \"#2a3f5f\"}, \"marker\": {\"line\": {\"color\": \"#E5ECF6\", \"width\": 0.5}}, \"type\": \"bar\"}], \"barpolar\": [{\"marker\": {\"line\": {\"color\": \"#E5ECF6\", \"width\": 0.5}}, \"type\": \"barpolar\"}], \"carpet\": [{\"aaxis\": {\"endlinecolor\": \"#2a3f5f\", \"gridcolor\": \"white\", \"linecolor\": \"white\", \"minorgridcolor\": \"white\", \"startlinecolor\": \"#2a3f5f\"}, \"baxis\": {\"endlinecolor\": \"#2a3f5f\", \"gridcolor\": \"white\", \"linecolor\": \"white\", \"minorgridcolor\": \"white\", \"startlinecolor\": \"#2a3f5f\"}, \"type\": \"carpet\"}], \"choropleth\": [{\"colorbar\": {\"outlinewidth\": 0, \"ticks\": \"\"}, \"type\": \"choropleth\"}], \"contour\": [{\"colorbar\": {\"outlinewidth\": 0, \"ticks\": \"\"}, \"colorscale\": [[0.0, \"#0d0887\"], [0.1111111111111111, \"#46039f\"], [0.2222222222222222, \"#7201a8\"], [0.3333333333333333, \"#9c179e\"], [0.4444444444444444, \"#bd3786\"], [0.5555555555555556, \"#d8576b\"], [0.6666666666666666, \"#ed7953\"], [0.7777777777777778, \"#fb9f3a\"], [0.8888888888888888, \"#fdca26\"], [1.0, \"#f0f921\"]], \"type\": \"contour\"}], \"contourcarpet\": [{\"colorbar\": {\"outlinewidth\": 0, \"ticks\": \"\"}, \"type\": \"contourcarpet\"}], \"heatmap\": [{\"colorbar\": {\"outlinewidth\": 0, \"ticks\": \"\"}, \"colorscale\": [[0.0, \"#0d0887\"], [0.1111111111111111, \"#46039f\"], [0.2222222222222222, \"#7201a8\"], [0.3333333333333333, \"#9c179e\"], [0.4444444444444444, \"#bd3786\"], [0.5555555555555556, \"#d8576b\"], [0.6666666666666666, \"#ed7953\"], [0.7777777777777778, \"#fb9f3a\"], [0.8888888888888888, \"#fdca26\"], [1.0, \"#f0f921\"]], \"type\": \"heatmap\"}], \"heatmapgl\": [{\"colorbar\": {\"outlinewidth\": 0, \"ticks\": \"\"}, \"colorscale\": [[0.0, \"#0d0887\"], [0.1111111111111111, \"#46039f\"], [0.2222222222222222, \"#7201a8\"], [0.3333333333333333, \"#9c179e\"], [0.4444444444444444, \"#bd3786\"], [0.5555555555555556, \"#d8576b\"], [0.6666666666666666, \"#ed7953\"], [0.7777777777777778, \"#fb9f3a\"], [0.8888888888888888, \"#fdca26\"], [1.0, \"#f0f921\"]], \"type\": \"heatmapgl\"}], \"histogram\": [{\"marker\": {\"colorbar\": {\"outlinewidth\": 0, \"ticks\": \"\"}}, \"type\": \"histogram\"}], \"histogram2d\": [{\"colorbar\": {\"outlinewidth\": 0, \"ticks\": \"\"}, \"colorscale\": [[0.0, \"#0d0887\"], [0.1111111111111111, \"#46039f\"], [0.2222222222222222, \"#7201a8\"], [0.3333333333333333, \"#9c179e\"], [0.4444444444444444, \"#bd3786\"], [0.5555555555555556, \"#d8576b\"], [0.6666666666666666, \"#ed7953\"], [0.7777777777777778, \"#fb9f3a\"], [0.8888888888888888, \"#fdca26\"], [1.0, \"#f0f921\"]], \"type\": \"histogram2d\"}], \"histogram2dcontour\": [{\"colorbar\": {\"outlinewidth\": 0, \"ticks\": \"\"}, \"colorscale\": [[0.0, \"#0d0887\"], [0.1111111111111111, \"#46039f\"], [0.2222222222222222, \"#7201a8\"], [0.3333333333333333, \"#9c179e\"], [0.4444444444444444, \"#bd3786\"], [0.5555555555555556, \"#d8576b\"], [0.6666666666666666, \"#ed7953\"], [0.7777777777777778, \"#fb9f3a\"], [0.8888888888888888, \"#fdca26\"], [1.0, \"#f0f921\"]], \"type\": \"histogram2dcontour\"}], \"mesh3d\": [{\"colorbar\": {\"outlinewidth\": 0, \"ticks\": \"\"}, \"type\": \"mesh3d\"}], \"parcoords\": [{\"line\": {\"colorbar\": {\"outlinewidth\": 0, \"ticks\": \"\"}}, \"type\": \"parcoords\"}], \"pie\": [{\"automargin\": true, \"type\": \"pie\"}], \"scatter\": [{\"marker\": {\"colorbar\": {\"outlinewidth\": 0, \"ticks\": \"\"}}, \"type\": \"scatter\"}], \"scatter3d\": [{\"line\": {\"colorbar\": {\"outlinewidth\": 0, \"ticks\": \"\"}}, \"marker\": {\"colorbar\": {\"outlinewidth\": 0, \"ticks\": \"\"}}, \"type\": \"scatter3d\"}], \"scattercarpet\": [{\"marker\": {\"colorbar\": {\"outlinewidth\": 0, \"ticks\": \"\"}}, \"type\": \"scattercarpet\"}], \"scattergeo\": [{\"marker\": {\"colorbar\": {\"outlinewidth\": 0, \"ticks\": \"\"}}, \"type\": \"scattergeo\"}], \"scattergl\": [{\"marker\": {\"colorbar\": {\"outlinewidth\": 0, \"ticks\": \"\"}}, \"type\": \"scattergl\"}], \"scattermapbox\": [{\"marker\": {\"colorbar\": {\"outlinewidth\": 0, \"ticks\": \"\"}}, \"type\": \"scattermapbox\"}], \"scatterpolar\": [{\"marker\": {\"colorbar\": {\"outlinewidth\": 0, \"ticks\": \"\"}}, \"type\": \"scatterpolar\"}], \"scatterpolargl\": [{\"marker\": {\"colorbar\": {\"outlinewidth\": 0, \"ticks\": \"\"}}, \"type\": \"scatterpolargl\"}], \"scatterternary\": [{\"marker\": {\"colorbar\": {\"outlinewidth\": 0, \"ticks\": \"\"}}, \"type\": \"scatterternary\"}], \"surface\": [{\"colorbar\": {\"outlinewidth\": 0, \"ticks\": \"\"}, \"colorscale\": [[0.0, \"#0d0887\"], [0.1111111111111111, \"#46039f\"], [0.2222222222222222, \"#7201a8\"], [0.3333333333333333, \"#9c179e\"], [0.4444444444444444, \"#bd3786\"], [0.5555555555555556, \"#d8576b\"], [0.6666666666666666, \"#ed7953\"], [0.7777777777777778, \"#fb9f3a\"], [0.8888888888888888, \"#fdca26\"], [1.0, \"#f0f921\"]], \"type\": \"surface\"}], \"table\": [{\"cells\": {\"fill\": {\"color\": \"#EBF0F8\"}, \"line\": {\"color\": \"white\"}}, \"header\": {\"fill\": {\"color\": \"#C8D4E3\"}, \"line\": {\"color\": \"white\"}}, \"type\": \"table\"}]}, \"layout\": {\"annotationdefaults\": {\"arrowcolor\": \"#2a3f5f\", \"arrowhead\": 0, \"arrowwidth\": 1}, \"coloraxis\": {\"colorbar\": {\"outlinewidth\": 0, \"ticks\": \"\"}}, \"colorscale\": {\"diverging\": [[0, \"#8e0152\"], [0.1, \"#c51b7d\"], [0.2, \"#de77ae\"], [0.3, \"#f1b6da\"], [0.4, \"#fde0ef\"], [0.5, \"#f7f7f7\"], [0.6, \"#e6f5d0\"], [0.7, \"#b8e186\"], [0.8, \"#7fbc41\"], [0.9, \"#4d9221\"], [1, \"#276419\"]], \"sequential\": [[0.0, \"#0d0887\"], [0.1111111111111111, \"#46039f\"], [0.2222222222222222, \"#7201a8\"], [0.3333333333333333, \"#9c179e\"], [0.4444444444444444, \"#bd3786\"], [0.5555555555555556, \"#d8576b\"], [0.6666666666666666, \"#ed7953\"], [0.7777777777777778, \"#fb9f3a\"], [0.8888888888888888, \"#fdca26\"], [1.0, \"#f0f921\"]], \"sequentialminus\": [[0.0, \"#0d0887\"], [0.1111111111111111, \"#46039f\"], [0.2222222222222222, \"#7201a8\"], [0.3333333333333333, \"#9c179e\"], [0.4444444444444444, \"#bd3786\"], [0.5555555555555556, \"#d8576b\"], [0.6666666666666666, \"#ed7953\"], [0.7777777777777778, \"#fb9f3a\"], [0.8888888888888888, \"#fdca26\"], [1.0, \"#f0f921\"]]}, \"colorway\": [\"#636efa\", \"#EF553B\", \"#00cc96\", \"#ab63fa\", \"#FFA15A\", \"#19d3f3\", \"#FF6692\", \"#B6E880\", \"#FF97FF\", \"#FECB52\"], \"font\": {\"color\": \"#2a3f5f\"}, \"geo\": {\"bgcolor\": \"white\", \"lakecolor\": \"white\", \"landcolor\": \"#E5ECF6\", \"showlakes\": true, \"showland\": true, \"subunitcolor\": \"white\"}, \"hoverlabel\": {\"align\": \"left\"}, \"hovermode\": \"closest\", \"mapbox\": {\"style\": \"light\"}, \"paper_bgcolor\": \"white\", \"plot_bgcolor\": \"#E5ECF6\", \"polar\": {\"angularaxis\": {\"gridcolor\": \"white\", \"linecolor\": \"white\", \"ticks\": \"\"}, \"bgcolor\": \"#E5ECF6\", \"radialaxis\": {\"gridcolor\": \"white\", \"linecolor\": \"white\", \"ticks\": \"\"}}, \"scene\": {\"xaxis\": {\"backgroundcolor\": \"#E5ECF6\", \"gridcolor\": \"white\", \"gridwidth\": 2, \"linecolor\": \"white\", \"showbackground\": true, \"ticks\": \"\", \"zerolinecolor\": \"white\"}, \"yaxis\": {\"backgroundcolor\": \"#E5ECF6\", \"gridcolor\": \"white\", \"gridwidth\": 2, \"linecolor\": \"white\", \"showbackground\": true, \"ticks\": \"\", \"zerolinecolor\": \"white\"}, \"zaxis\": {\"backgroundcolor\": \"#E5ECF6\", \"gridcolor\": \"white\", \"gridwidth\": 2, \"linecolor\": \"white\", \"showbackground\": true, \"ticks\": \"\", \"zerolinecolor\": \"white\"}}, \"shapedefaults\": {\"line\": {\"color\": \"#2a3f5f\"}}, \"ternary\": {\"aaxis\": {\"gridcolor\": \"white\", \"linecolor\": \"white\", \"ticks\": \"\"}, \"baxis\": {\"gridcolor\": \"white\", \"linecolor\": \"white\", \"ticks\": \"\"}, \"bgcolor\": \"#E5ECF6\", \"caxis\": {\"gridcolor\": \"white\", \"linecolor\": \"white\", \"ticks\": \"\"}}, \"title\": {\"x\": 0.05}, \"xaxis\": {\"automargin\": true, \"gridcolor\": \"white\", \"linecolor\": \"white\", \"ticks\": \"\", \"title\": {\"standoff\": 15}, \"zerolinecolor\": \"white\", \"zerolinewidth\": 2}, \"yaxis\": {\"automargin\": true, \"gridcolor\": \"white\", \"linecolor\": \"white\", \"ticks\": \"\", \"title\": {\"standoff\": 15}, \"zerolinecolor\": \"white\", \"zerolinewidth\": 2}}}, \"title\": {\"text\": \"wafare\"}, \"width\": 800},\n",
       "                        {\"responsive\": true}\n",
       "                    ).then(function(){\n",
       "                            \n",
       "var gd = document.getElementById('80c9e290-f7d3-4a99-8a4b-cecf36845b01');\n",
       "var x = new MutationObserver(function (mutations, observer) {{\n",
       "        var display = window.getComputedStyle(gd).display;\n",
       "        if (!display || display === 'none') {{\n",
       "            console.log([gd, 'removed!']);\n",
       "            Plotly.purge(gd);\n",
       "            observer.disconnect();\n",
       "        }}\n",
       "}});\n",
       "\n",
       "// Listen for the removal of the full notebook cells\n",
       "var notebookContainer = gd.closest('#notebook-container');\n",
       "if (notebookContainer) {{\n",
       "    x.observe(notebookContainer, {childList: true});\n",
       "}}\n",
       "\n",
       "// Listen for the clearing of the current output cell\n",
       "var outputEl = gd.closest('.output');\n",
       "if (outputEl) {{\n",
       "    x.observe(outputEl, {childList: true});\n",
       "}}\n",
       "\n",
       "                        })\n",
       "                };\n",
       "                });\n",
       "            </script>\n",
       "        </div>"
      ]
     },
     "metadata": {},
     "output_type": "display_data"
    }
   ],
   "source": [
    "visualize(thickness_extraction(XS_mat[0]))"
   ]
  },
  {
   "cell_type": "code",
   "execution_count": 38,
   "metadata": {},
   "outputs": [
    {
     "name": "stdout",
     "output_type": "stream",
     "text": [
      "Requirement already satisfied: ipympl in /usr/local/lib/python3.6/dist-packages (0.5.7)\n",
      "Requirement already satisfied: ipykernel>=4.7 in /usr/local/lib/python3.6/dist-packages (from ipympl) (5.1.2)\n",
      "Requirement already satisfied: ipywidgets>=7.5.0 in /usr/local/lib/python3.6/dist-packages (from ipympl) (7.5.1)\n",
      "Requirement already satisfied: matplotlib>=2.0.0 in /usr/local/lib/python3.6/dist-packages (from ipympl) (3.1.1)\n",
      "Requirement already satisfied: tornado>=4.2 in /usr/local/lib/python3.6/dist-packages (from ipykernel>=4.7->ipympl) (6.0.3)\n",
      "Requirement already satisfied: ipython>=5.0.0 in /usr/local/lib/python3.6/dist-packages (from ipykernel>=4.7->ipympl) (7.8.0)\n",
      "Requirement already satisfied: traitlets>=4.1.0 in /usr/local/lib/python3.6/dist-packages (from ipykernel>=4.7->ipympl) (4.3.2)\n",
      "Requirement already satisfied: jupyter-client in /usr/local/lib/python3.6/dist-packages (from ipykernel>=4.7->ipympl) (5.3.3)\n",
      "Requirement already satisfied: widgetsnbextension~=3.5.0 in /usr/local/lib/python3.6/dist-packages (from ipywidgets>=7.5.0->ipympl) (3.5.1)\n",
      "Requirement already satisfied: nbformat>=4.2.0 in /usr/local/lib/python3.6/dist-packages (from ipywidgets>=7.5.0->ipympl) (4.4.0)\n",
      "Requirement already satisfied: cycler>=0.10 in /usr/local/lib/python3.6/dist-packages (from matplotlib>=2.0.0->ipympl) (0.10.0)\n",
      "Requirement already satisfied: kiwisolver>=1.0.1 in /usr/local/lib/python3.6/dist-packages (from matplotlib>=2.0.0->ipympl) (1.1.0)\n",
      "Requirement already satisfied: numpy>=1.11 in /usr/local/lib/python3.6/dist-packages (from matplotlib>=2.0.0->ipympl) (1.17.2)\n",
      "Requirement already satisfied: pyparsing!=2.0.4,!=2.1.2,!=2.1.6,>=2.0.1 in /usr/local/lib/python3.6/dist-packages (from matplotlib>=2.0.0->ipympl) (2.4.2)\n",
      "Requirement already satisfied: python-dateutil>=2.1 in /usr/local/lib/python3.6/dist-packages (from matplotlib>=2.0.0->ipympl) (2.8.0)\n",
      "Requirement already satisfied: pexpect; sys_platform != \"win32\" in /usr/local/lib/python3.6/dist-packages (from ipython>=5.0.0->ipykernel>=4.7->ipympl) (4.7.0)\n",
      "Requirement already satisfied: pickleshare in /usr/local/lib/python3.6/dist-packages (from ipython>=5.0.0->ipykernel>=4.7->ipympl) (0.7.5)\n",
      "Requirement already satisfied: prompt-toolkit<2.1.0,>=2.0.0 in /usr/local/lib/python3.6/dist-packages (from ipython>=5.0.0->ipykernel>=4.7->ipympl) (2.0.9)\n",
      "Requirement already satisfied: pygments in /usr/local/lib/python3.6/dist-packages (from ipython>=5.0.0->ipykernel>=4.7->ipympl) (2.4.2)\n",
      "Requirement already satisfied: jedi>=0.10 in /usr/local/lib/python3.6/dist-packages (from ipython>=5.0.0->ipykernel>=4.7->ipympl) (0.15.1)\n",
      "Requirement already satisfied: backcall in /usr/local/lib/python3.6/dist-packages (from ipython>=5.0.0->ipykernel>=4.7->ipympl) (0.1.0)\n",
      "Requirement already satisfied: setuptools>=18.5 in /usr/local/lib/python3.6/dist-packages (from ipython>=5.0.0->ipykernel>=4.7->ipympl) (41.2.0)\n",
      "Requirement already satisfied: decorator in /usr/local/lib/python3.6/dist-packages (from ipython>=5.0.0->ipykernel>=4.7->ipympl) (4.4.0)\n",
      "Requirement already satisfied: ipython-genutils in /usr/local/lib/python3.6/dist-packages (from traitlets>=4.1.0->ipykernel>=4.7->ipympl) (0.2.0)\n",
      "Requirement already satisfied: six in /usr/lib/python3/dist-packages (from traitlets>=4.1.0->ipykernel>=4.7->ipympl) (1.11.0)\n",
      "Requirement already satisfied: jupyter-core in /usr/local/lib/python3.6/dist-packages (from jupyter-client->ipykernel>=4.7->ipympl) (4.5.0)\n",
      "Requirement already satisfied: pyzmq>=13 in /usr/local/lib/python3.6/dist-packages (from jupyter-client->ipykernel>=4.7->ipympl) (18.1.0)\n",
      "Requirement already satisfied: notebook>=4.4.1 in /usr/local/lib/python3.6/dist-packages (from widgetsnbextension~=3.5.0->ipywidgets>=7.5.0->ipympl) (6.0.1)\n",
      "Requirement already satisfied: jsonschema!=2.5.0,>=2.4 in /usr/local/lib/python3.6/dist-packages (from nbformat>=4.2.0->ipywidgets>=7.5.0->ipympl) (3.0.2)\n",
      "Requirement already satisfied: ptyprocess>=0.5 in /usr/local/lib/python3.6/dist-packages (from pexpect; sys_platform != \"win32\"->ipython>=5.0.0->ipykernel>=4.7->ipympl) (0.6.0)\n",
      "Requirement already satisfied: wcwidth in /usr/local/lib/python3.6/dist-packages (from prompt-toolkit<2.1.0,>=2.0.0->ipython>=5.0.0->ipykernel>=4.7->ipympl) (0.1.7)\n",
      "Requirement already satisfied: parso>=0.5.0 in /usr/local/lib/python3.6/dist-packages (from jedi>=0.10->ipython>=5.0.0->ipykernel>=4.7->ipympl) (0.5.1)\n",
      "Requirement already satisfied: Send2Trash in /usr/local/lib/python3.6/dist-packages (from notebook>=4.4.1->widgetsnbextension~=3.5.0->ipywidgets>=7.5.0->ipympl) (1.5.0)\n",
      "Requirement already satisfied: jinja2 in /usr/local/lib/python3.6/dist-packages (from notebook>=4.4.1->widgetsnbextension~=3.5.0->ipywidgets>=7.5.0->ipympl) (2.10.1)\n",
      "Requirement already satisfied: nbconvert in /usr/local/lib/python3.6/dist-packages (from notebook>=4.4.1->widgetsnbextension~=3.5.0->ipywidgets>=7.5.0->ipympl) (5.6.0)\n",
      "Requirement already satisfied: prometheus-client in /usr/local/lib/python3.6/dist-packages (from notebook>=4.4.1->widgetsnbextension~=3.5.0->ipywidgets>=7.5.0->ipympl) (0.7.1)\n",
      "Requirement already satisfied: terminado>=0.8.1 in /usr/local/lib/python3.6/dist-packages (from notebook>=4.4.1->widgetsnbextension~=3.5.0->ipywidgets>=7.5.0->ipympl) (0.8.2)\n",
      "Requirement already satisfied: attrs>=17.4.0 in /usr/local/lib/python3.6/dist-packages (from jsonschema!=2.5.0,>=2.4->nbformat>=4.2.0->ipywidgets>=7.5.0->ipympl) (19.2.0)\n",
      "Requirement already satisfied: pyrsistent>=0.14.0 in /usr/local/lib/python3.6/dist-packages (from jsonschema!=2.5.0,>=2.4->nbformat>=4.2.0->ipywidgets>=7.5.0->ipympl) (0.15.4)\n",
      "Requirement already satisfied: MarkupSafe>=0.23 in /usr/local/lib/python3.6/dist-packages (from jinja2->notebook>=4.4.1->widgetsnbextension~=3.5.0->ipywidgets>=7.5.0->ipympl) (1.1.1)\n",
      "Requirement already satisfied: bleach in /usr/local/lib/python3.6/dist-packages (from nbconvert->notebook>=4.4.1->widgetsnbextension~=3.5.0->ipywidgets>=7.5.0->ipympl) (3.1.0)\n",
      "Requirement already satisfied: pandocfilters>=1.4.1 in /usr/local/lib/python3.6/dist-packages (from nbconvert->notebook>=4.4.1->widgetsnbextension~=3.5.0->ipywidgets>=7.5.0->ipympl) (1.4.2)\n",
      "Requirement already satisfied: defusedxml in /usr/local/lib/python3.6/dist-packages (from nbconvert->notebook>=4.4.1->widgetsnbextension~=3.5.0->ipywidgets>=7.5.0->ipympl) (0.6.0)\n",
      "Requirement already satisfied: mistune<2,>=0.8.1 in /usr/local/lib/python3.6/dist-packages (from nbconvert->notebook>=4.4.1->widgetsnbextension~=3.5.0->ipywidgets>=7.5.0->ipympl) (0.8.4)\n",
      "Requirement already satisfied: entrypoints>=0.2.2 in /usr/local/lib/python3.6/dist-packages (from nbconvert->notebook>=4.4.1->widgetsnbextension~=3.5.0->ipywidgets>=7.5.0->ipympl) (0.3)\n",
      "Requirement already satisfied: testpath in /usr/local/lib/python3.6/dist-packages (from nbconvert->notebook>=4.4.1->widgetsnbextension~=3.5.0->ipywidgets>=7.5.0->ipympl) (0.4.2)\n",
      "Requirement already satisfied: webencodings in /usr/local/lib/python3.6/dist-packages (from bleach->nbconvert->notebook>=4.4.1->widgetsnbextension~=3.5.0->ipywidgets>=7.5.0->ipympl) (0.5.1)\n",
      "\u001b[33mWARNING: You are using pip version 20.0.2; however, version 20.2.2 is available.\n",
      "You should consider upgrading via the '/usr/bin/python3 -m pip install --upgrade pip' command.\u001b[0m\n"
     ]
    }
   ],
   "source": [
    "!pip install ipympl"
   ]
  },
  {
   "cell_type": "code",
   "execution_count": null,
   "metadata": {},
   "outputs": [],
   "source": []
  }
 ],
 "metadata": {
  "kernelspec": {
   "display_name": "Python 3",
   "language": "python",
   "name": "python3"
  },
  "language_info": {
   "codemirror_mode": {
    "name": "ipython",
    "version": 3
   },
   "file_extension": ".py",
   "mimetype": "text/x-python",
   "name": "python",
   "nbconvert_exporter": "python",
   "pygments_lexer": "ipython3",
   "version": "3.6.8"
  }
 },
 "nbformat": 4,
 "nbformat_minor": 4
}
