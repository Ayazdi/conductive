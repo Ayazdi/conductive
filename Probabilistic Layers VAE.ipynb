{
 "cells": [
  {
   "cell_type": "code",
   "execution_count": 44,
   "metadata": {},
   "outputs": [],
   "source": [
    "#@title Import { display-mode: \"form\" }\n",
    "\n",
    "import pandas as pd\n",
    "import numpy as np\n",
    "\n",
    "import tensorflow.compat.v2 as tf\n",
    "tf.enable_v2_behavior()\n",
    "\n",
    "import tensorflow_datasets as tfds\n",
    "import tensorflow_probability as tfp\n",
    "\n",
    "\n",
    "tfk = tf.keras\n",
    "tfkl = tf.keras.layers\n",
    "tfpl = tfp.layers\n",
    "tfd = tfp.distributions"
   ]
  },
  {
   "cell_type": "code",
   "execution_count": 43,
   "metadata": {},
   "outputs": [
    {
     "name": "stdout",
     "output_type": "stream",
     "text": [
      "Collecting tensorflow_datasetsNote: you may need to restart the kernel to use updated packages.\n",
      "  Downloading tensorflow_datasets-3.2.1-py3-none-any.whl (3.4 MB)\n",
      "Collecting dill\n",
      "  Downloading dill-0.3.2.zip (177 kB)\n",
      "Requirement already satisfied: protobuf>=3.6.1 in c:\\users\\khamir\\anaconda3\\envs\\tf\\lib\\site-packages (from tensorflow_datasets) (3.11.4)\n",
      "Collecting tensorflow-metadata\n",
      "  Downloading tensorflow_metadata-0.23.0-py3-none-any.whl (43 kB)\n",
      "Collecting promise\n",
      "\n",
      "  Downloading promise-2.3.tar.gz (19 kB)"
     ]
    },
    {
     "name": "stderr",
     "output_type": "stream",
     "text": [
      "ERROR: tensorflow-metadata 0.23.0 has requirement absl-py<0.9,>=0.7, but you'll have absl-py 0.9.0 which is incompatible.\n"
     ]
    },
    {
     "name": "stdout",
     "output_type": "stream",
     "text": [
      "\n",
      "Requirement already satisfied: absl-py in c:\\users\\khamir\\anaconda3\\envs\\tf\\lib\\site-packages (from tensorflow_datasets) (0.9.0)\n",
      "Requirement already satisfied: numpy in c:\\users\\khamir\\anaconda3\\envs\\tf\\lib\\site-packages (from tensorflow_datasets) (1.18.2)\n",
      "Requirement already satisfied: termcolor in c:\\users\\khamir\\anaconda3\\envs\\tf\\lib\\site-packages (from tensorflow_datasets) (1.1.0)\n",
      "Requirement already satisfied: attrs>=18.1.0 in c:\\users\\khamir\\anaconda3\\envs\\tf\\lib\\site-packages (from tensorflow_datasets) (19.3.0)\n",
      "Requirement already satisfied: requests>=2.19.0 in c:\\users\\khamir\\anaconda3\\envs\\tf\\lib\\site-packages (from tensorflow_datasets) (2.23.0)\n",
      "Requirement already satisfied: tqdm in c:\\users\\khamir\\anaconda3\\envs\\tf\\lib\\site-packages (from tensorflow_datasets) (4.46.0)\n",
      "Collecting future\n",
      "  Downloading future-0.18.2.tar.gz (829 kB)\n",
      "Requirement already satisfied: six in c:\\users\\khamir\\anaconda3\\envs\\tf\\lib\\site-packages (from tensorflow_datasets) (1.14.0)\n",
      "Requirement already satisfied: wrapt in c:\\users\\khamir\\anaconda3\\envs\\tf\\lib\\site-packages (from tensorflow_datasets) (1.12.1)\n",
      "Requirement already satisfied: setuptools in c:\\users\\khamir\\anaconda3\\envs\\tf\\lib\\site-packages (from protobuf>=3.6.1->tensorflow_datasets) (46.4.0.post20200518)\n",
      "Collecting googleapis-common-protos\n",
      "  Downloading googleapis_common_protos-1.52.0-py2.py3-none-any.whl (100 kB)\n",
      "Requirement already satisfied: urllib3!=1.25.0,!=1.25.1,<1.26,>=1.21.1 in c:\\users\\khamir\\anaconda3\\envs\\tf\\lib\\site-packages (from requests>=2.19.0->tensorflow_datasets) (1.25.8)\n",
      "Requirement already satisfied: chardet<4,>=3.0.2 in c:\\users\\khamir\\anaconda3\\envs\\tf\\lib\\site-packages (from requests>=2.19.0->tensorflow_datasets) (3.0.4)\n",
      "Requirement already satisfied: certifi>=2017.4.17 in c:\\users\\khamir\\anaconda3\\envs\\tf\\lib\\site-packages (from requests>=2.19.0->tensorflow_datasets) (2019.11.28)\n",
      "Requirement already satisfied: idna<3,>=2.5 in c:\\users\\khamir\\anaconda3\\envs\\tf\\lib\\site-packages (from requests>=2.19.0->tensorflow_datasets) (2.9)\n",
      "Building wheels for collected packages: dill, promise, future\n",
      "  Building wheel for dill (setup.py): started\n",
      "  Building wheel for dill (setup.py): finished with status 'done'\n",
      "  Created wheel for dill: filename=dill-0.3.2-py3-none-any.whl size=78977 sha256=91bc3fb711a5d1f443927c6fd38f703f81803a90e3b83e5b2e36aff673fa7a10\n",
      "  Stored in directory: c:\\users\\khamir\\appdata\\local\\pip\\cache\\wheels\\72\\6b\\d5\\5548aa1b73b8c3d176ea13f9f92066b02e82141549d90e2100\n",
      "  Building wheel for promise (setup.py): started\n",
      "  Building wheel for promise (setup.py): finished with status 'done'\n",
      "  Created wheel for promise: filename=promise-2.3-py3-none-any.whl size=21499 sha256=966da11308ebacd314d794e36152e6b0c8e56755a9cad1750243c37323375d6d\n",
      "  Stored in directory: c:\\users\\khamir\\appdata\\local\\pip\\cache\\wheels\\29\\93\\c6\\762e359f8cb6a5b69c72235d798804cae523bbe41c2aa8333d\n",
      "  Building wheel for future (setup.py): started\n",
      "  Building wheel for future (setup.py): finished with status 'done'\n",
      "  Created wheel for future: filename=future-0.18.2-py3-none-any.whl size=491062 sha256=bed83f255cd63495e68c9f045129ecd3bd014645874d97c888ff3f872304d057\n",
      "  Stored in directory: c:\\users\\khamir\\appdata\\local\\pip\\cache\\wheels\\56\\b0\\fe\\4410d17b32f1f0c3cf54cdfb2bc04d7b4b8f4ae377e2229ba0\n",
      "Successfully built dill promise future\n",
      "Installing collected packages: dill, googleapis-common-protos, tensorflow-metadata, promise, future, tensorflow-datasets\n",
      "Successfully installed dill-0.3.2 future-0.18.2 googleapis-common-protos-1.52.0 promise-2.3 tensorflow-datasets-3.2.1 tensorflow-metadata-0.23.0\n"
     ]
    }
   ],
   "source": [
    "pip install tensorflow_datasets"
   ]
  },
  {
   "cell_type": "code",
   "execution_count": 125,
   "metadata": {},
   "outputs": [],
   "source": [
    "df = pd.read_csv('test_assignment_sim.csv')\n",
    "all_sites = ['SITE_0', 'SITE_1',\n",
    "       'SITE_2', 'SITE_3', 'SITE_4', 'SITE_5', 'SITE_6', 'SITE_7', 'SITE_8',\n",
    "       'SITE_9', 'SITE_10', 'SITE_11', 'SITE_12', 'SITE_13', 'SITE_14',\n",
    "       'SITE_15', 'SITE_16', 'SITE_17', 'SITE_18', 'SITE_19', 'SITE_20',\n",
    "       'SITE_21', 'SITE_22', 'SITE_23', 'SITE_24', 'SITE_25', 'SITE_26',\n",
    "       'SITE_27', 'SITE_28', 'SITE_29', 'SITE_30', 'SITE_31', 'SITE_32',\n",
    "       'SITE_33', 'SITE_34', 'SITE_35', 'SITE_36', 'SITE_37', 'SITE_38',\n",
    "       'SITE_39', 'SITE_40', 'SITE_41', 'SITE_42', 'SITE_43', 'SITE_44',\n",
    "       'SITE_45', 'SITE_46', 'SITE_47', 'SITE_48']\n",
    "features = ['FLOWFACTOR', 'SPACING', 'DEP TIME']\n",
    "F = []\n",
    "for i in range(0, len(df)):\n",
    "    samp = np.array(df[features ].iloc[0])\n",
    "    F.append(samp)\n",
    "F = np.array(F)\n",
    "F = np.float32(F)\n",
    "\n",
    "X = []\n",
    "for i in range(0, len(df)):\n",
    "    samp = np.array(df[all_sites].iloc[0])\n",
    "    X.append(samp)\n",
    "X = np.array(X)\n",
    "X = np.float32(X)\n",
    "\n",
    "tool = tf.keras.utils.to_categorical(df['TOOL'], dtype='float32')\n",
    "tool = tool[:, 1:]"
   ]
  },
  {
   "cell_type": "code",
   "execution_count": 4,
   "metadata": {},
   "outputs": [
    {
     "data": {
      "text/plain": [
       "(500, 49)"
      ]
     },
     "execution_count": 4,
     "metadata": {},
     "output_type": "execute_result"
    }
   ],
   "source": [
    "X.shape"
   ]
  },
  {
   "cell_type": "code",
   "execution_count": 126,
   "metadata": {},
   "outputs": [
    {
     "data": {
      "text/html": [
       "<div>\n",
       "<style scoped>\n",
       "    .dataframe tbody tr th:only-of-type {\n",
       "        vertical-align: middle;\n",
       "    }\n",
       "\n",
       "    .dataframe tbody tr th {\n",
       "        vertical-align: top;\n",
       "    }\n",
       "\n",
       "    .dataframe thead th {\n",
       "        text-align: right;\n",
       "    }\n",
       "</style>\n",
       "<table border=\"1\" class=\"dataframe\">\n",
       "  <thead>\n",
       "    <tr style=\"text-align: right;\">\n",
       "      <th></th>\n",
       "      <th>FLOWFACTOR</th>\n",
       "      <th>SPACING</th>\n",
       "      <th>DEP TIME</th>\n",
       "      <th>TOOL</th>\n",
       "      <th>SITE_0</th>\n",
       "      <th>SITE_1</th>\n",
       "      <th>SITE_2</th>\n",
       "      <th>SITE_3</th>\n",
       "      <th>SITE_4</th>\n",
       "      <th>SITE_5</th>\n",
       "      <th>...</th>\n",
       "      <th>SITE_39</th>\n",
       "      <th>SITE_40</th>\n",
       "      <th>SITE_41</th>\n",
       "      <th>SITE_42</th>\n",
       "      <th>SITE_43</th>\n",
       "      <th>SITE_44</th>\n",
       "      <th>SITE_45</th>\n",
       "      <th>SITE_46</th>\n",
       "      <th>SITE_47</th>\n",
       "      <th>SITE_48</th>\n",
       "    </tr>\n",
       "  </thead>\n",
       "  <tbody>\n",
       "    <tr>\n",
       "      <th>0</th>\n",
       "      <td>0.916</td>\n",
       "      <td>0.344</td>\n",
       "      <td>69.289</td>\n",
       "      <td>1</td>\n",
       "      <td>1601.802686</td>\n",
       "      <td>1556.668725</td>\n",
       "      <td>1597.900238</td>\n",
       "      <td>1599.790647</td>\n",
       "      <td>1601.083756</td>\n",
       "      <td>1601.116007</td>\n",
       "      <td>...</td>\n",
       "      <td>1593.296029</td>\n",
       "      <td>1592.948758</td>\n",
       "      <td>1592.601486</td>\n",
       "      <td>1592.254216</td>\n",
       "      <td>1591.906946</td>\n",
       "      <td>1591.559675</td>\n",
       "      <td>1591.212405</td>\n",
       "      <td>1590.865134</td>\n",
       "      <td>1590.517862</td>\n",
       "      <td>1590.170593</td>\n",
       "    </tr>\n",
       "    <tr>\n",
       "      <th>1</th>\n",
       "      <td>0.916</td>\n",
       "      <td>0.344</td>\n",
       "      <td>69.289</td>\n",
       "      <td>2</td>\n",
       "      <td>1516.411140</td>\n",
       "      <td>1495.080373</td>\n",
       "      <td>1516.482818</td>\n",
       "      <td>1516.366352</td>\n",
       "      <td>1516.918855</td>\n",
       "      <td>1514.835611</td>\n",
       "      <td>...</td>\n",
       "      <td>1481.353478</td>\n",
       "      <td>1481.157584</td>\n",
       "      <td>1480.961690</td>\n",
       "      <td>1480.765797</td>\n",
       "      <td>1480.906328</td>\n",
       "      <td>1481.052943</td>\n",
       "      <td>1480.847698</td>\n",
       "      <td>1480.888354</td>\n",
       "      <td>1481.306459</td>\n",
       "      <td>1481.724561</td>\n",
       "    </tr>\n",
       "    <tr>\n",
       "      <th>2</th>\n",
       "      <td>0.916</td>\n",
       "      <td>0.344</td>\n",
       "      <td>69.289</td>\n",
       "      <td>3</td>\n",
       "      <td>1478.098433</td>\n",
       "      <td>1457.372553</td>\n",
       "      <td>1483.945610</td>\n",
       "      <td>1481.342541</td>\n",
       "      <td>1475.516841</td>\n",
       "      <td>1472.935249</td>\n",
       "      <td>...</td>\n",
       "      <td>1491.287428</td>\n",
       "      <td>1490.630367</td>\n",
       "      <td>1489.973305</td>\n",
       "      <td>1489.130805</td>\n",
       "      <td>1487.315196</td>\n",
       "      <td>1485.659583</td>\n",
       "      <td>1484.266940</td>\n",
       "      <td>1482.874286</td>\n",
       "      <td>1481.481632</td>\n",
       "      <td>1480.088988</td>\n",
       "    </tr>\n",
       "    <tr>\n",
       "      <th>3</th>\n",
       "      <td>0.916</td>\n",
       "      <td>0.344</td>\n",
       "      <td>69.289</td>\n",
       "      <td>4</td>\n",
       "      <td>1550.290615</td>\n",
       "      <td>1529.621080</td>\n",
       "      <td>1548.352252</td>\n",
       "      <td>1549.929704</td>\n",
       "      <td>1549.697136</td>\n",
       "      <td>1549.235110</td>\n",
       "      <td>...</td>\n",
       "      <td>1508.932376</td>\n",
       "      <td>1508.732902</td>\n",
       "      <td>1508.347436</td>\n",
       "      <td>1508.052235</td>\n",
       "      <td>1508.214925</td>\n",
       "      <td>1508.596579</td>\n",
       "      <td>1509.101775</td>\n",
       "      <td>1509.606975</td>\n",
       "      <td>1510.373006</td>\n",
       "      <td>1511.108004</td>\n",
       "    </tr>\n",
       "    <tr>\n",
       "      <th>4</th>\n",
       "      <td>0.957</td>\n",
       "      <td>0.348</td>\n",
       "      <td>70.253</td>\n",
       "      <td>1</td>\n",
       "      <td>1544.883218</td>\n",
       "      <td>1495.156181</td>\n",
       "      <td>1549.023309</td>\n",
       "      <td>1547.829132</td>\n",
       "      <td>1544.253208</td>\n",
       "      <td>1543.623198</td>\n",
       "      <td>...</td>\n",
       "      <td>1569.233533</td>\n",
       "      <td>1569.257056</td>\n",
       "      <td>1569.280579</td>\n",
       "      <td>1569.252501</td>\n",
       "      <td>1568.966865</td>\n",
       "      <td>1568.681228</td>\n",
       "      <td>1568.395593</td>\n",
       "      <td>1567.875699</td>\n",
       "      <td>1567.033903</td>\n",
       "      <td>1565.635512</td>\n",
       "    </tr>\n",
       "    <tr>\n",
       "      <th>...</th>\n",
       "      <td>...</td>\n",
       "      <td>...</td>\n",
       "      <td>...</td>\n",
       "      <td>...</td>\n",
       "      <td>...</td>\n",
       "      <td>...</td>\n",
       "      <td>...</td>\n",
       "      <td>...</td>\n",
       "      <td>...</td>\n",
       "      <td>...</td>\n",
       "      <td>...</td>\n",
       "      <td>...</td>\n",
       "      <td>...</td>\n",
       "      <td>...</td>\n",
       "      <td>...</td>\n",
       "      <td>...</td>\n",
       "      <td>...</td>\n",
       "      <td>...</td>\n",
       "      <td>...</td>\n",
       "      <td>...</td>\n",
       "      <td>...</td>\n",
       "    </tr>\n",
       "    <tr>\n",
       "      <th>495</th>\n",
       "      <td>0.910</td>\n",
       "      <td>0.348</td>\n",
       "      <td>71.494</td>\n",
       "      <td>4</td>\n",
       "      <td>1579.678027</td>\n",
       "      <td>1554.131399</td>\n",
       "      <td>1582.133349</td>\n",
       "      <td>1581.752614</td>\n",
       "      <td>1578.538616</td>\n",
       "      <td>1576.167197</td>\n",
       "      <td>...</td>\n",
       "      <td>1591.884877</td>\n",
       "      <td>1593.910444</td>\n",
       "      <td>1595.920244</td>\n",
       "      <td>1597.930029</td>\n",
       "      <td>1599.939823</td>\n",
       "      <td>1601.064937</td>\n",
       "      <td>1602.044671</td>\n",
       "      <td>1602.274183</td>\n",
       "      <td>1602.330867</td>\n",
       "      <td>1602.387550</td>\n",
       "    </tr>\n",
       "    <tr>\n",
       "      <th>496</th>\n",
       "      <td>0.923</td>\n",
       "      <td>0.355</td>\n",
       "      <td>67.191</td>\n",
       "      <td>1</td>\n",
       "      <td>1506.290611</td>\n",
       "      <td>1444.277495</td>\n",
       "      <td>1505.734563</td>\n",
       "      <td>1505.713624</td>\n",
       "      <td>1506.867599</td>\n",
       "      <td>1507.444587</td>\n",
       "      <td>...</td>\n",
       "      <td>1485.450492</td>\n",
       "      <td>1484.933765</td>\n",
       "      <td>1484.315053</td>\n",
       "      <td>1483.920045</td>\n",
       "      <td>1483.788719</td>\n",
       "      <td>1483.811746</td>\n",
       "      <td>1484.540330</td>\n",
       "      <td>1485.410265</td>\n",
       "      <td>1486.280199</td>\n",
       "      <td>1487.150128</td>\n",
       "    </tr>\n",
       "    <tr>\n",
       "      <th>497</th>\n",
       "      <td>0.923</td>\n",
       "      <td>0.355</td>\n",
       "      <td>67.191</td>\n",
       "      <td>2</td>\n",
       "      <td>1433.885814</td>\n",
       "      <td>1401.300015</td>\n",
       "      <td>1441.602347</td>\n",
       "      <td>1437.744081</td>\n",
       "      <td>1430.923555</td>\n",
       "      <td>1428.490734</td>\n",
       "      <td>...</td>\n",
       "      <td>1390.019767</td>\n",
       "      <td>1389.793481</td>\n",
       "      <td>1389.567195</td>\n",
       "      <td>1389.669224</td>\n",
       "      <td>1389.903776</td>\n",
       "      <td>1390.894207</td>\n",
       "      <td>1390.904922</td>\n",
       "      <td>1391.148082</td>\n",
       "      <td>1392.018843</td>\n",
       "      <td>1392.553429</td>\n",
       "    </tr>\n",
       "    <tr>\n",
       "      <th>498</th>\n",
       "      <td>0.923</td>\n",
       "      <td>0.355</td>\n",
       "      <td>67.191</td>\n",
       "      <td>3</td>\n",
       "      <td>1385.057129</td>\n",
       "      <td>1355.168231</td>\n",
       "      <td>1387.311600</td>\n",
       "      <td>1384.319977</td>\n",
       "      <td>1384.609278</td>\n",
       "      <td>1382.555992</td>\n",
       "      <td>...</td>\n",
       "      <td>1358.969083</td>\n",
       "      <td>1357.977233</td>\n",
       "      <td>1356.985383</td>\n",
       "      <td>1355.993540</td>\n",
       "      <td>1355.001693</td>\n",
       "      <td>1354.009846</td>\n",
       "      <td>1353.018003</td>\n",
       "      <td>1352.026153</td>\n",
       "      <td>1351.034303</td>\n",
       "      <td>1350.042460</td>\n",
       "    </tr>\n",
       "    <tr>\n",
       "      <th>499</th>\n",
       "      <td>0.923</td>\n",
       "      <td>0.355</td>\n",
       "      <td>67.191</td>\n",
       "      <td>4</td>\n",
       "      <td>1418.944207</td>\n",
       "      <td>1395.905787</td>\n",
       "      <td>1417.039855</td>\n",
       "      <td>1418.314258</td>\n",
       "      <td>1418.548356</td>\n",
       "      <td>1418.190233</td>\n",
       "      <td>...</td>\n",
       "      <td>1386.946634</td>\n",
       "      <td>1387.820508</td>\n",
       "      <td>1388.694383</td>\n",
       "      <td>1389.568251</td>\n",
       "      <td>1389.731766</td>\n",
       "      <td>1389.559373</td>\n",
       "      <td>1389.297439</td>\n",
       "      <td>1388.139341</td>\n",
       "      <td>1387.565291</td>\n",
       "      <td>1386.798290</td>\n",
       "    </tr>\n",
       "  </tbody>\n",
       "</table>\n",
       "<p>500 rows × 53 columns</p>\n",
       "</div>"
      ],
      "text/plain": [
       "     FLOWFACTOR  SPACING  DEP TIME  TOOL       SITE_0       SITE_1  \\\n",
       "0         0.916    0.344    69.289     1  1601.802686  1556.668725   \n",
       "1         0.916    0.344    69.289     2  1516.411140  1495.080373   \n",
       "2         0.916    0.344    69.289     3  1478.098433  1457.372553   \n",
       "3         0.916    0.344    69.289     4  1550.290615  1529.621080   \n",
       "4         0.957    0.348    70.253     1  1544.883218  1495.156181   \n",
       "..          ...      ...       ...   ...          ...          ...   \n",
       "495       0.910    0.348    71.494     4  1579.678027  1554.131399   \n",
       "496       0.923    0.355    67.191     1  1506.290611  1444.277495   \n",
       "497       0.923    0.355    67.191     2  1433.885814  1401.300015   \n",
       "498       0.923    0.355    67.191     3  1385.057129  1355.168231   \n",
       "499       0.923    0.355    67.191     4  1418.944207  1395.905787   \n",
       "\n",
       "          SITE_2       SITE_3       SITE_4       SITE_5  ...      SITE_39  \\\n",
       "0    1597.900238  1599.790647  1601.083756  1601.116007  ...  1593.296029   \n",
       "1    1516.482818  1516.366352  1516.918855  1514.835611  ...  1481.353478   \n",
       "2    1483.945610  1481.342541  1475.516841  1472.935249  ...  1491.287428   \n",
       "3    1548.352252  1549.929704  1549.697136  1549.235110  ...  1508.932376   \n",
       "4    1549.023309  1547.829132  1544.253208  1543.623198  ...  1569.233533   \n",
       "..           ...          ...          ...          ...  ...          ...   \n",
       "495  1582.133349  1581.752614  1578.538616  1576.167197  ...  1591.884877   \n",
       "496  1505.734563  1505.713624  1506.867599  1507.444587  ...  1485.450492   \n",
       "497  1441.602347  1437.744081  1430.923555  1428.490734  ...  1390.019767   \n",
       "498  1387.311600  1384.319977  1384.609278  1382.555992  ...  1358.969083   \n",
       "499  1417.039855  1418.314258  1418.548356  1418.190233  ...  1386.946634   \n",
       "\n",
       "         SITE_40      SITE_41      SITE_42      SITE_43      SITE_44  \\\n",
       "0    1592.948758  1592.601486  1592.254216  1591.906946  1591.559675   \n",
       "1    1481.157584  1480.961690  1480.765797  1480.906328  1481.052943   \n",
       "2    1490.630367  1489.973305  1489.130805  1487.315196  1485.659583   \n",
       "3    1508.732902  1508.347436  1508.052235  1508.214925  1508.596579   \n",
       "4    1569.257056  1569.280579  1569.252501  1568.966865  1568.681228   \n",
       "..           ...          ...          ...          ...          ...   \n",
       "495  1593.910444  1595.920244  1597.930029  1599.939823  1601.064937   \n",
       "496  1484.933765  1484.315053  1483.920045  1483.788719  1483.811746   \n",
       "497  1389.793481  1389.567195  1389.669224  1389.903776  1390.894207   \n",
       "498  1357.977233  1356.985383  1355.993540  1355.001693  1354.009846   \n",
       "499  1387.820508  1388.694383  1389.568251  1389.731766  1389.559373   \n",
       "\n",
       "         SITE_45      SITE_46      SITE_47      SITE_48  \n",
       "0    1591.212405  1590.865134  1590.517862  1590.170593  \n",
       "1    1480.847698  1480.888354  1481.306459  1481.724561  \n",
       "2    1484.266940  1482.874286  1481.481632  1480.088988  \n",
       "3    1509.101775  1509.606975  1510.373006  1511.108004  \n",
       "4    1568.395593  1567.875699  1567.033903  1565.635512  \n",
       "..           ...          ...          ...          ...  \n",
       "495  1602.044671  1602.274183  1602.330867  1602.387550  \n",
       "496  1484.540330  1485.410265  1486.280199  1487.150128  \n",
       "497  1390.904922  1391.148082  1392.018843  1392.553429  \n",
       "498  1353.018003  1352.026153  1351.034303  1350.042460  \n",
       "499  1389.297439  1388.139341  1387.565291  1386.798290  \n",
       "\n",
       "[500 rows x 53 columns]"
      ]
     },
     "execution_count": 126,
     "metadata": {},
     "output_type": "execute_result"
    }
   ],
   "source": [
    "df"
   ]
  },
  {
   "cell_type": "code",
   "execution_count": 129,
   "metadata": {},
   "outputs": [
    {
     "data": {
      "text/html": [
       "<div>\n",
       "<style scoped>\n",
       "    .dataframe tbody tr th:only-of-type {\n",
       "        vertical-align: middle;\n",
       "    }\n",
       "\n",
       "    .dataframe tbody tr th {\n",
       "        vertical-align: top;\n",
       "    }\n",
       "\n",
       "    .dataframe thead th {\n",
       "        text-align: right;\n",
       "    }\n",
       "</style>\n",
       "<table border=\"1\" class=\"dataframe\">\n",
       "  <thead>\n",
       "    <tr style=\"text-align: right;\">\n",
       "      <th></th>\n",
       "      <th>FLOWFACTOR</th>\n",
       "      <th>SPACING</th>\n",
       "      <th>DEP TIME</th>\n",
       "    </tr>\n",
       "  </thead>\n",
       "  <tbody>\n",
       "    <tr>\n",
       "      <th>count</th>\n",
       "      <td>500.000000</td>\n",
       "      <td>500.000000</td>\n",
       "      <td>500.000000</td>\n",
       "    </tr>\n",
       "    <tr>\n",
       "      <th>mean</th>\n",
       "      <td>0.946520</td>\n",
       "      <td>0.349520</td>\n",
       "      <td>70.408920</td>\n",
       "    </tr>\n",
       "    <tr>\n",
       "      <th>std</th>\n",
       "      <td>0.024461</td>\n",
       "      <td>0.004705</td>\n",
       "      <td>1.810852</td>\n",
       "    </tr>\n",
       "    <tr>\n",
       "      <th>min</th>\n",
       "      <td>0.887000</td>\n",
       "      <td>0.334000</td>\n",
       "      <td>66.373000</td>\n",
       "    </tr>\n",
       "    <tr>\n",
       "      <th>25%</th>\n",
       "      <td>0.929000</td>\n",
       "      <td>0.347000</td>\n",
       "      <td>69.264000</td>\n",
       "    </tr>\n",
       "    <tr>\n",
       "      <th>50%</th>\n",
       "      <td>0.948000</td>\n",
       "      <td>0.350000</td>\n",
       "      <td>70.443000</td>\n",
       "    </tr>\n",
       "    <tr>\n",
       "      <th>75%</th>\n",
       "      <td>0.962000</td>\n",
       "      <td>0.352000</td>\n",
       "      <td>71.411000</td>\n",
       "    </tr>\n",
       "    <tr>\n",
       "      <th>max</th>\n",
       "      <td>1.003000</td>\n",
       "      <td>0.363000</td>\n",
       "      <td>76.008000</td>\n",
       "    </tr>\n",
       "  </tbody>\n",
       "</table>\n",
       "</div>"
      ],
      "text/plain": [
       "       FLOWFACTOR     SPACING    DEP TIME\n",
       "count  500.000000  500.000000  500.000000\n",
       "mean     0.946520    0.349520   70.408920\n",
       "std      0.024461    0.004705    1.810852\n",
       "min      0.887000    0.334000   66.373000\n",
       "25%      0.929000    0.347000   69.264000\n",
       "50%      0.948000    0.350000   70.443000\n",
       "75%      0.962000    0.352000   71.411000\n",
       "max      1.003000    0.363000   76.008000"
      ]
     },
     "execution_count": 129,
     "metadata": {},
     "output_type": "execute_result"
    }
   ],
   "source": [
    "df[['FLOWFACTOR', 'SPACING', 'DEP TIME']].describe()"
   ]
  },
  {
   "cell_type": "code",
   "execution_count": 92,
   "metadata": {},
   "outputs": [],
   "source": [
    "input_shape = X[0].shape\n",
    "encoded_size = 3\n",
    "base_depth = 16"
   ]
  },
  {
   "cell_type": "code",
   "execution_count": 93,
   "metadata": {},
   "outputs": [],
   "source": [
    "prior = tfd.Independent(tfd.Normal(loc=tf.zeros(encoded_size), scale=1),\n",
    "                        reinterpreted_batch_ndims=1)"
   ]
  },
  {
   "cell_type": "code",
   "execution_count": 105,
   "metadata": {},
   "outputs": [],
   "source": [
    "encoder = tfk.Sequential([\n",
    "    tfkl.InputLayer(input_shape=input_shape),\n",
    "#     tfkl.Lambda(lambda x: tf.cast(x, tf.float32) - 0.5),\n",
    "    tfkl.Dense(base_depth, activation=tf.nn.leaky_relu),\n",
    "   \n",
    "    tfkl.Dense(tfpl.MultivariateNormalTriL.params_size(encoded_size),\n",
    "               activation=None),\n",
    "    tfpl.MultivariateNormalTriL(\n",
    "        encoded_size,\n",
    "        activity_regularizer=tfpl.KLDivergenceRegularizer(prior)),\n",
    "])"
   ]
  },
  {
   "cell_type": "code",
   "execution_count": 106,
   "metadata": {},
   "outputs": [],
   "source": [
    "decoder = tfk.Sequential([\n",
    "    tfkl.InputLayer(input_shape=[encoded_size]),\n",
    "    tfkl.Dense(base_depth, activation=tf.nn.leaky_relu),\n",
    "    tfpl.IndependentBernoulli(input_shape, tfd.Bernoulli.logits),\n",
    "])"
   ]
  },
  {
   "cell_type": "code",
   "execution_count": 107,
   "metadata": {},
   "outputs": [],
   "source": [
    "vae = tfk.Model(inputs=encoder.inputs,\n",
    "                outputs=decoder(encoder.outputs[0]))"
   ]
  },
  {
   "cell_type": "code",
   "execution_count": 124,
   "metadata": {},
   "outputs": [
    {
     "name": "stdout",
     "output_type": "stream",
     "text": [
      "Model: \"functional_5\"\n",
      "_________________________________________________________________\n",
      "Layer (type)                 Output Shape              Param #   \n",
      "=================================================================\n",
      "input_15 (InputLayer)        [(None, 49)]              0         \n",
      "_________________________________________________________________\n",
      "dense_9 (Dense)              (None, 16)                800       \n",
      "_________________________________________________________________\n",
      "dense_10 (Dense)             (None, 9)                 153       \n",
      "_________________________________________________________________\n",
      "multivariate_normal_tri_l_4  ((None, 3), (None, 3))    0         \n",
      "_________________________________________________________________\n",
      "sequential_7 (Sequential)    (None, 49)                64        \n",
      "=================================================================\n",
      "Total params: 1,017\n",
      "Trainable params: 1,017\n",
      "Non-trainable params: 0\n",
      "_________________________________________________________________\n"
     ]
    }
   ],
   "source": [
    "vae.summary()"
   ]
  },
  {
   "cell_type": "code",
   "execution_count": 118,
   "metadata": {},
   "outputs": [
    {
     "data": {
      "text/plain": [
       "[<tfp.distributions.Independent 'independent_bernoulli_2_IndependentBernoulli_Independentindependent_bernoulli_2_IndependentBernoulli_Bernoulli' batch_shape=[?] event_shape=[49] dtype=float32>]"
      ]
     },
     "execution_count": 118,
     "metadata": {},
     "output_type": "execute_result"
    }
   ],
   "source": [
    "decoder.outputs"
   ]
  },
  {
   "cell_type": "code",
   "execution_count": 110,
   "metadata": {},
   "outputs": [],
   "source": [
    "X_train = X[:400]\n",
    "X_test = X[400:]"
   ]
  },
  {
   "cell_type": "code",
   "execution_count": 123,
   "metadata": {},
   "outputs": [
    {
     "name": "stdout",
     "output_type": "stream",
     "text": [
      "Epoch 1/15\n",
      "WARNING:tensorflow:Gradients do not exist for variables ['dense_11/kernel:0', 'dense_11/bias:0'] when minimizing the loss.\n"
     ]
    },
    {
     "name": "stderr",
     "output_type": "stream",
     "text": [
      "WARNING:tensorflow:Gradients do not exist for variables ['dense_11/kernel:0', 'dense_11/bias:0'] when minimizing the loss.\n"
     ]
    },
    {
     "name": "stdout",
     "output_type": "stream",
     "text": [
      "WARNING:tensorflow:Gradients do not exist for variables ['dense_11/kernel:0', 'dense_11/bias:0'] when minimizing the loss.\n"
     ]
    },
    {
     "name": "stderr",
     "output_type": "stream",
     "text": [
      "WARNING:tensorflow:Gradients do not exist for variables ['dense_11/kernel:0', 'dense_11/bias:0'] when minimizing the loss.\n"
     ]
    },
    {
     "name": "stdout",
     "output_type": "stream",
     "text": [
      "WARNING:tensorflow:Gradients do not exist for variables ['dense_11/kernel:0', 'dense_11/bias:0'] when minimizing the loss.\n"
     ]
    },
    {
     "name": "stderr",
     "output_type": "stream",
     "text": [
      "WARNING:tensorflow:Gradients do not exist for variables ['dense_11/kernel:0', 'dense_11/bias:0'] when minimizing the loss.\n"
     ]
    },
    {
     "name": "stdout",
     "output_type": "stream",
     "text": [
      "WARNING:tensorflow:Gradients do not exist for variables ['dense_11/kernel:0', 'dense_11/bias:0'] when minimizing the loss.\n"
     ]
    },
    {
     "name": "stderr",
     "output_type": "stream",
     "text": [
      "WARNING:tensorflow:Gradients do not exist for variables ['dense_11/kernel:0', 'dense_11/bias:0'] when minimizing the loss.\n"
     ]
    },
    {
     "name": "stdout",
     "output_type": "stream",
     "text": [
      "16/16 [==============================] - 0s 1ms/step - loss: 13955.5742\n",
      "Epoch 2/15\n",
      "16/16 [==============================] - 0s 1000us/step - loss: 3571.9692\n",
      "Epoch 3/15\n",
      "16/16 [==============================] - 0s 1000us/step - loss: 1200.4915\n",
      "Epoch 4/15\n",
      "16/16 [==============================] - 0s 1ms/step - loss: 332.1961\n",
      "Epoch 5/15\n",
      "16/16 [==============================] - 0s 1000us/step - loss: 132.3366\n",
      "Epoch 6/15\n",
      "16/16 [==============================] - 0s 937us/step - loss: 81.8075\n",
      "Epoch 7/15\n",
      "16/16 [==============================] - 0s 1ms/step - loss: 69.5914\n",
      "Epoch 8/15\n",
      "16/16 [==============================] - 0s 1000us/step - loss: 66.9153\n",
      "Epoch 9/15\n",
      "16/16 [==============================] - 0s 1000us/step - loss: 65.9881\n",
      "Epoch 10/15\n",
      "16/16 [==============================] - 0s 1000us/step - loss: 66.0571\n",
      "Epoch 11/15\n",
      "16/16 [==============================] - 0s 1ms/step - loss: 66.0612\n",
      "Epoch 12/15\n",
      "16/16 [==============================] - 0s 1000us/step - loss: 66.0509\n",
      "Epoch 13/15\n",
      "16/16 [==============================] - 0s 1ms/step - loss: 66.0285\n",
      "Epoch 14/15\n",
      "16/16 [==============================] - 0s 1ms/step - loss: 66.0951\n",
      "Epoch 15/15\n",
      "16/16 [==============================] - 0s 1ms/step - loss: 66.0384\n"
     ]
    }
   ],
   "source": [
    "negloglik = lambda x, rv_x: -rv_x.log_prob(x)\n",
    "\n",
    "vae.compile(optimizer=tf.optimizers.Adam(learning_rate=1e-3),\n",
    "            loss=negloglik)\n",
    "\n",
    "_ = vae.fit(X,\n",
    "            epochs=15,\n",
    " )"
   ]
  },
  {
   "cell_type": "code",
   "execution_count": 83,
   "metadata": {},
   "outputs": [
    {
     "data": {
      "text/plain": [
       "(49,)"
      ]
     },
     "execution_count": 83,
     "metadata": {},
     "output_type": "execute_result"
    }
   ],
   "source": [
    "X[0].shape"
   ]
  },
  {
   "cell_type": "code",
   "execution_count": 70,
   "metadata": {},
   "outputs": [
    {
     "data": {
      "text/plain": [
       "(49,)"
      ]
     },
     "execution_count": 70,
     "metadata": {},
     "output_type": "execute_result"
    }
   ],
   "source": [
    "X[0].shape"
   ]
  },
  {
   "cell_type": "code",
   "execution_count": 45,
   "metadata": {},
   "outputs": [
    {
     "name": "stdout",
     "output_type": "stream",
     "text": [
      "\u001b[1mDownloading and preparing dataset mnist/3.0.1 (download: Unknown size, generated: Unknown size, total: Unknown size) to C:\\Users\\Khamir\\tensorflow_datasets\\mnist\\3.0.1...\u001b[0m\n"
     ]
    },
    {
     "data": {
      "application/vnd.jupyter.widget-view+json": {
       "model_id": "90ab0e932df345078a6b3e17a8bb8d81",
       "version_major": 2,
       "version_minor": 0
      },
      "text/plain": [
       "HBox(children=(FloatProgress(value=1.0, bar_style='info', description='Dl Completed...', max=1.0, style=Progre…"
      ]
     },
     "metadata": {},
     "output_type": "display_data"
    },
    {
     "data": {
      "application/vnd.jupyter.widget-view+json": {
       "model_id": "a4a6e98a957343828f0ae62e5691949f",
       "version_major": 2,
       "version_minor": 0
      },
      "text/plain": [
       "HBox(children=(FloatProgress(value=1.0, bar_style='info', description='Dl Size...', max=1.0, style=ProgressSty…"
      ]
     },
     "metadata": {},
     "output_type": "display_data"
    },
    {
     "data": {
      "application/vnd.jupyter.widget-view+json": {
       "model_id": "49c6da1fd8fc47528ecdfbe147d3f381",
       "version_major": 2,
       "version_minor": 0
      },
      "text/plain": [
       "HBox(children=(FloatProgress(value=1.0, bar_style='info', description='Extraction completed...', max=1.0, styl…"
      ]
     },
     "metadata": {},
     "output_type": "display_data"
    },
    {
     "name": "stdout",
     "output_type": "stream",
     "text": [
      "\n",
      "\n",
      "\n",
      "\n",
      "\n",
      "\n"
     ]
    },
    {
     "data": {
      "application/vnd.jupyter.widget-view+json": {
       "model_id": "",
       "version_major": 2,
       "version_minor": 0
      },
      "text/plain": [
       "HBox(children=(FloatProgress(value=1.0, bar_style='info', max=1.0), HTML(value='')))"
      ]
     },
     "metadata": {},
     "output_type": "display_data"
    },
    {
     "name": "stdout",
     "output_type": "stream",
     "text": [
      "Shuffling and writing examples to C:\\Users\\Khamir\\tensorflow_datasets\\mnist\\3.0.1.incompleteAUTFX7\\mnist-train.tfrecord\n"
     ]
    },
    {
     "data": {
      "application/vnd.jupyter.widget-view+json": {
       "model_id": "72d325bddb3343288a19a5714a7930ea",
       "version_major": 2,
       "version_minor": 0
      },
      "text/plain": [
       "HBox(children=(FloatProgress(value=0.0, max=60000.0), HTML(value='')))"
      ]
     },
     "metadata": {},
     "output_type": "display_data"
    },
    {
     "data": {
      "application/vnd.jupyter.widget-view+json": {
       "model_id": "",
       "version_major": 2,
       "version_minor": 0
      },
      "text/plain": [
       "HBox(children=(FloatProgress(value=1.0, bar_style='info', max=1.0), HTML(value='')))"
      ]
     },
     "metadata": {},
     "output_type": "display_data"
    },
    {
     "name": "stdout",
     "output_type": "stream",
     "text": [
      "Shuffling and writing examples to C:\\Users\\Khamir\\tensorflow_datasets\\mnist\\3.0.1.incompleteAUTFX7\\mnist-test.tfrecord\n"
     ]
    },
    {
     "data": {
      "application/vnd.jupyter.widget-view+json": {
       "model_id": "cdc5b804ebd94ae898f06806cfccd134",
       "version_major": 2,
       "version_minor": 0
      },
      "text/plain": [
       "HBox(children=(FloatProgress(value=0.0, max=10000.0), HTML(value='')))"
      ]
     },
     "metadata": {},
     "output_type": "display_data"
    },
    {
     "name": "stdout",
     "output_type": "stream",
     "text": [
      "\u001b[1mDataset mnist downloaded and prepared to C:\\Users\\Khamir\\tensorflow_datasets\\mnist\\3.0.1. Subsequent calls will reuse this data.\u001b[0m\n"
     ]
    }
   ],
   "source": [
    "datasets, datasets_info = tfds.load(name='mnist',\n",
    "                                    with_info=True,\n",
    "                                    as_supervised=False)\n",
    "\n",
    "def _preprocess(sample):\n",
    "  image = tf.cast(sample['image'], tf.float32) / 255.  # Scale to unit interval.\n",
    "  image = image < tf.random.uniform(tf.shape(image))   # Randomly binarize.\n",
    "  return image, image\n",
    "\n",
    "train_dataset = (datasets['train']\n",
    "                 .map(_preprocess)\n",
    "                 .batch(256)\n",
    "                 .prefetch(tf.data.experimental.AUTOTUNE)\n",
    "                 .shuffle(int(10e3)))\n",
    "eval_dataset = (datasets['test']\n",
    "                .map(_preprocess)\n",
    "                .batch(256)\n",
    "                .prefetch(tf.data.experimental.AUTOTUNE))"
   ]
  },
  {
   "cell_type": "code",
   "execution_count": 49,
   "metadata": {},
   "outputs": [
    {
     "data": {
      "text/plain": [
       "<PrefetchDataset shapes: {image: (28, 28, 1), label: ()}, types: {image: tf.uint8, label: tf.int64}>"
      ]
     },
     "execution_count": 49,
     "metadata": {},
     "output_type": "execute_result"
    }
   ],
   "source": [
    "datasets['train']"
   ]
  },
  {
   "cell_type": "code",
   "execution_count": null,
   "metadata": {},
   "outputs": [],
   "source": []
  }
 ],
 "metadata": {
  "kernelspec": {
   "display_name": "Python 3",
   "language": "python",
   "name": "python3"
  },
  "language_info": {
   "codemirror_mode": {
    "name": "ipython",
    "version": 3
   },
   "file_extension": ".py",
   "mimetype": "text/x-python",
   "name": "python",
   "nbconvert_exporter": "python",
   "pygments_lexer": "ipython3",
   "version": "3.7.7"
  }
 },
 "nbformat": 4,
 "nbformat_minor": 4
}
