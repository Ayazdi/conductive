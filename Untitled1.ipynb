{
 "cells": [
  {
   "cell_type": "code",
   "execution_count": 30,
   "metadata": {},
   "outputs": [],
   "source": [
    "from tensorflow.keras.models import Sequential\n",
    "from tensorflow.keras.layers import Conv2D, LeakyReLU, Flatten, Dropout, Dense, Reshape, Conv2DTranspose\n",
    "from tensorflow.keras.optimizers import Adam, Adadelta\n",
    "from tensorflow.keras.layers import Input, Embedding, Concatenate, InputLayer\n",
    "from tensorflow.keras.models import Model\n",
    "from tensorflow.keras.losses import MeanSquaredError\n",
    "from tensorflow.keras.metrics import Mean\n",
    "import tensorflow as tf\n",
    "# from tensorflow import InteractiveSession\n",
    "from tensorflow.keras.models import load_model\n",
    "\n",
    "from matplotlib import cm\n",
    "from matplotlib.pyplot import figure, imshow, axis\n",
    "from matplotlib.offsetbox import OffsetImage, AnnotationBbox\n",
    "from matplotlib.backends.backend_agg import FigureCanvasAgg as FigureCanvas\n",
    "\n",
    "from sklearn.preprocessing import MinMaxScaler\n",
    "from sklearn.manifold import TSNE\n",
    "\n",
    "import pandas as pd\n",
    "import numpy as np\n",
    "import os\n",
    "from PIL import Image\n",
    "import glob\n",
    "from os import listdir\n",
    "from os.path import isfile, join"
   ]
  },
  {
   "cell_type": "code",
   "execution_count": 92,
   "metadata": {},
   "outputs": [],
   "source": [
    "df = pd.read_csv('test_assignment_sim.csv')"
   ]
  },
  {
   "cell_type": "code",
   "execution_count": 56,
   "metadata": {},
   "outputs": [
    {
     "data": {
      "text/plain": [
       "Index(['FLOWFACTOR', 'SPACING', 'DEP TIME', 'TOOL', 'SITE_0', 'SITE_1',\n",
       "       'SITE_2', 'SITE_3', 'SITE_4', 'SITE_5', 'SITE_6', 'SITE_7', 'SITE_8',\n",
       "       'SITE_9', 'SITE_10', 'SITE_11', 'SITE_12', 'SITE_13', 'SITE_14',\n",
       "       'SITE_15', 'SITE_16', 'SITE_17', 'SITE_18', 'SITE_19', 'SITE_20',\n",
       "       'SITE_21', 'SITE_22', 'SITE_23', 'SITE_24', 'SITE_25', 'SITE_26',\n",
       "       'SITE_27', 'SITE_28', 'SITE_29', 'SITE_30', 'SITE_31', 'SITE_32',\n",
       "       'SITE_33', 'SITE_34', 'SITE_35', 'SITE_36', 'SITE_37', 'SITE_38',\n",
       "       'SITE_39', 'SITE_40', 'SITE_41', 'SITE_42', 'SITE_43', 'SITE_44',\n",
       "       'SITE_45', 'SITE_46', 'SITE_47', 'SITE_48'],\n",
       "      dtype='object')"
      ]
     },
     "execution_count": 56,
     "metadata": {},
     "output_type": "execute_result"
    }
   ],
   "source": [
    "df.columns"
   ]
  },
  {
   "cell_type": "code",
   "execution_count": 57,
   "metadata": {},
   "outputs": [],
   "source": [
    "features = ['FLOWFACTOR', 'SPACING', 'DEP TIME']"
   ]
  },
  {
   "cell_type": "code",
   "execution_count": 58,
   "metadata": {},
   "outputs": [],
   "source": [
    "F = []\n",
    "for i in range(0, len(df)):\n",
    "    samp = np.array(df[features ].iloc[0])\n",
    "    F.append(samp)\n",
    "    "
   ]
  },
  {
   "cell_type": "code",
   "execution_count": 61,
   "metadata": {},
   "outputs": [],
   "source": [
    "F = np.array(F)"
   ]
  },
  {
   "cell_type": "code",
   "execution_count": 62,
   "metadata": {},
   "outputs": [
    {
     "data": {
      "text/plain": [
       "(500, 3)"
      ]
     },
     "execution_count": 62,
     "metadata": {},
     "output_type": "execute_result"
    }
   ],
   "source": [
    "F.shape"
   ]
  },
  {
   "cell_type": "code",
   "execution_count": 95,
   "metadata": {},
   "outputs": [],
   "source": [
    "tool = tf.keras.utils.to_categorical(df['TOOL'], dtype='float32')\n",
    "tool = tool[:, 1:]"
   ]
  },
  {
   "cell_type": "code",
   "execution_count": 3,
   "metadata": {},
   "outputs": [],
   "source": [
    "all_sites = ['SITE_0', 'SITE_1',\n",
    "       'SITE_2', 'SITE_3', 'SITE_4', 'SITE_5', 'SITE_6', 'SITE_7', 'SITE_8',\n",
    "       'SITE_9', 'SITE_10', 'SITE_11', 'SITE_12', 'SITE_13', 'SITE_14',\n",
    "       'SITE_15', 'SITE_16', 'SITE_17', 'SITE_18', 'SITE_19', 'SITE_20',\n",
    "       'SITE_21', 'SITE_22', 'SITE_23', 'SITE_24', 'SITE_25', 'SITE_26',\n",
    "       'SITE_27', 'SITE_28', 'SITE_29', 'SITE_30', 'SITE_31', 'SITE_32',\n",
    "       'SITE_33', 'SITE_34', 'SITE_35', 'SITE_36', 'SITE_37', 'SITE_38',\n",
    "       'SITE_39', 'SITE_40', 'SITE_41', 'SITE_42', 'SITE_43', 'SITE_44',\n",
    "       'SITE_45', 'SITE_46', 'SITE_47', 'SITE_48']"
   ]
  },
  {
   "cell_type": "code",
   "execution_count": 4,
   "metadata": {},
   "outputs": [],
   "source": [
    "X = np.array(np.array(df[all_sites].iloc[i]) for i in range(0, len(df)) )"
   ]
  },
  {
   "cell_type": "code",
   "execution_count": 33,
   "metadata": {},
   "outputs": [],
   "source": [
    "X = []\n",
    "for i in range(0, len(df)):\n",
    "    samp = np.array(df[all_sites].iloc[0])\n",
    "    X.append(samp)\n",
    "X = np.array(X)    "
   ]
  },
  {
   "cell_type": "code",
   "execution_count": 39,
   "metadata": {},
   "outputs": [],
   "source": [
    "X = np.array(X)"
   ]
  },
  {
   "cell_type": "code",
   "execution_count": 97,
   "metadata": {},
   "outputs": [],
   "source": [
    "latent_dim = 6\n",
    "encoder = Sequential(\n",
    "        [\n",
    "            InputLayer(input_shape=(49,)),\n",
    "            Dense(16, activation='relu'),                \n",
    "            # No activation\n",
    "            Dense(6),\n",
    "      \n",
    "        ]\n",
    "    )"
   ]
  },
  {
   "cell_type": "code",
   "execution_count": 65,
   "metadata": {},
   "outputs": [],
   "source": [
    "decoder =Sequential(\n",
    "        [\n",
    "            InputLayer(input_shape=(latent_dim,)),\n",
    "            Dense(16, activation='relu'),\n",
    "            Dense(49, activation='sigmoid')            \n",
    "        ]\n",
    "    )"
   ]
  },
  {
   "cell_type": "code",
   "execution_count": 109,
   "metadata": {},
   "outputs": [],
   "source": [
    "def sample(eps=None):\n",
    "    if eps is None:\n",
    "      eps = tf.random.normal(shape=(100, latent_dim))\n",
    "    return decode(eps, apply_sigmoid=True)\n",
    "\n",
    "def encode(x):\n",
    "    mean, logvar = tf.split(encoder(x), num_or_size_splits=2, axis=1)\n",
    "    return mean, logvar\n",
    "\n",
    "def reparameterize(mean_, logvar):\n",
    "    eps = tf.random.normal(shape=mean_.shape,  mean=F, stddev=1.,)\n",
    "    return eps * tf.exp(logvar * .5) + mean_\n",
    "\n",
    "def decode(z, apply_sigmoid=False):\n",
    "    logits = decoder(z)\n",
    "    if apply_sigmoid:\n",
    "      probs = tf.sigmoid(logits)\n",
    "      return probs\n",
    "    return logits"
   ]
  },
  {
   "cell_type": "code",
   "execution_count": 103,
   "metadata": {},
   "outputs": [
    {
     "data": {
      "text/plain": [
       "(49,)"
      ]
     },
     "execution_count": 103,
     "metadata": {},
     "output_type": "execute_result"
    }
   ],
   "source": [
    "X[0].shape"
   ]
  },
  {
   "cell_type": "code",
   "execution_count": 104,
   "metadata": {},
   "outputs": [
    {
     "data": {
      "text/plain": [
       "(<tf.Tensor: shape=(500, 3), dtype=float32, numpy=\n",
       " array([[ 840.5301  ,   81.403625, -578.03864 ],\n",
       "        [ 840.5301  ,   81.403625, -578.03864 ],\n",
       "        [ 840.5301  ,   81.403625, -578.03864 ],\n",
       "        ...,\n",
       "        [ 840.5301  ,   81.403625, -578.03864 ],\n",
       "        [ 840.53015 ,   81.40378 , -578.0387  ],\n",
       "        [ 840.53015 ,   81.40378 , -578.0387  ]], dtype=float32)>,\n",
       " <tf.Tensor: shape=(500, 3), dtype=float32, numpy=\n",
       " array([[-887.8149 , 1584.9988 , -576.21234],\n",
       "        [-887.8149 , 1584.9988 , -576.21234],\n",
       "        [-887.8149 , 1584.9988 , -576.21234],\n",
       "        ...,\n",
       "        [-887.8149 , 1584.9988 , -576.21234],\n",
       "        [-887.8153 , 1584.9988 , -576.2126 ],\n",
       "        [-887.8153 , 1584.9988 , -576.2126 ]], dtype=float32)>)"
      ]
     },
     "execution_count": 104,
     "metadata": {},
     "output_type": "execute_result"
    }
   ],
   "source": [
    "encode(X)"
   ]
  },
  {
   "cell_type": "code",
   "execution_count": 110,
   "metadata": {},
   "outputs": [
    {
     "data": {
      "text/plain": [
       "<tf.Tensor: shape=(500, 3), dtype=float32, numpy=\n",
       "array([[ 840.5301 ,       -inf, -578.03864],\n",
       "       [ 840.5301 ,        inf, -578.03864],\n",
       "       [ 840.5301 ,       -inf, -578.03864],\n",
       "       ...,\n",
       "       [ 840.5301 ,       -inf, -578.03864],\n",
       "       [ 840.53015,       -inf, -578.0387 ],\n",
       "       [ 840.53015,        inf, -578.0387 ]], dtype=float32)>"
      ]
     },
     "execution_count": 110,
     "metadata": {},
     "output_type": "execute_result"
    }
   ],
   "source": [
    "reparameterize(mean_, logvar)"
   ]
  },
  {
   "cell_type": "code",
   "execution_count": 107,
   "metadata": {},
   "outputs": [],
   "source": [
    "mean_, logvar=encode(X)"
   ]
  },
  {
   "cell_type": "code",
   "execution_count": null,
   "metadata": {},
   "outputs": [],
   "source": []
  }
 ],
 "metadata": {
  "kernelspec": {
   "display_name": "Python 3",
   "language": "python",
   "name": "python3"
  },
  "language_info": {
   "codemirror_mode": {
    "name": "ipython",
    "version": 3
   },
   "file_extension": ".py",
   "mimetype": "text/x-python",
   "name": "python",
   "nbconvert_exporter": "python",
   "pygments_lexer": "ipython3",
   "version": "3.7.7"
  }
 },
 "nbformat": 4,
 "nbformat_minor": 4
}
